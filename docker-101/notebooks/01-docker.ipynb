{
 "cells": [
  {
   "cell_type": "markdown",
   "id": "0ffe1b13",
   "metadata": {},
   "source": [
    "# Docker 101 - Containerization as an application packaging mechanism\n",
    "\n",
    "Docker is more than containers:\n",
    "it is a platform for developers and sysadmins to develop,\n",
    "ship, and run applications."
   ]
  },
  {
   "cell_type": "markdown",
   "id": "3b5e5743",
   "metadata": {
    "slideshow": {
     "slide_type": "slide"
    }
   },
   "source": [
    "---\n",
    "\n",
    "## Why it was born?\n",
    "\n",
    "To resolve the needs of mobility workload in cloud systems\n",
    "\n",
    "- Cargo transport pre-1960\n",
    "- Solution: Intermodal Shipping Container\n",
    "\n",
    "[![Cargo ship](https://zegetech.com/assets/images/blog/docker/docker_ship.png)]"
   ]
  },
  {
   "cell_type": "markdown",
   "id": "13a8185c",
   "metadata": {
    "slideshow": {
     "slide_type": "slide"
    }
   },
   "source": [
    "---\n",
    "\n",
    "### Docker is a Container System for Code\n",
    "\n",
    "Docker leverages LXC (Linux Containers), which encompasses Linux\n",
    "features like cgroups and namespaces for strong process isolation and\n",
    "resource control.\n",
    "\n",
    "They are lightweight and consume less resources than a virtual machine."
   ]
  },
  {
   "cell_type": "markdown",
   "id": "644ef255",
   "metadata": {
    "slideshow": {
     "slide_type": "slide"
    }
   },
   "source": [
    "---\n",
    "\n",
    "## Benefits for developers\n",
    "\n",
    "- portability, build once... run anywhere\n",
    "- no worries about missing dependencies, packages and other pain\n",
    " points during subsequent deployments\n",
    "- tracking changes\n",
    "- run each app in its own isolated container, so you can run various\n",
    " versions of libraries and other dependencies for each app without\n",
    " worrying\n",
    "- reduce/eliminate concerns about compatibility on different\n",
    " platforms, either your own or your customers'."
   ]
  },
  {
   "cell_type": "markdown",
   "id": "757c9094",
   "metadata": {
    "slideshow": {
     "slide_type": "slide"
    }
   },
   "source": [
    "---\n",
    "\n",
    "## Benefits for sysadmins\n",
    "\n",
    "- portability, configure once... run anywhere\n",
    "- tracking changes\n",
    "- simple to understand what application do\n",
    "- simplify to upgrade application processes. Significantly improves\n",
    " the speed and reliability of continuous deployment and continuous\n",
    " integration systems\n",
    "- eliminate inconsistencies between different enviroments (develop, testing, production)\n",
    "- re-use other people images\n",
    "- do you not need an hypervisor. Because the containers are so\n",
    " lightweight, address significant performance, costs, deployment, and\n",
    " portability issues normally associated with VMs"
   ]
  },
  {
   "cell_type": "markdown",
   "id": "ffdb9b93",
   "metadata": {
    "slideshow": {
     "slide_type": "slide"
    }
   },
   "source": [
    "---\n",
    "\n",
    "## Docker Concepts and Interactions\n",
    "\n",
    "- **Host**, the machine that runs the containers.\n",
    "- **Image**, a hierarchy of files, with meta-data for running a container.\n",
    "- **Container**, a contained running process, started from an image.\n",
    "- **Registry**, a repository of images.\n",
    "- **Volume**, storage outside the container.\n",
    "- **Dockerfile**, instruction for creating images."
   ]
  },
  {
   "cell_type": "markdown",
   "id": "3b9e15a5",
   "metadata": {
    "slideshow": {
     "slide_type": "subslide"
    }
   },
   "source": [
    "----\n",
    "\n",
    "[![](https://mermaid.ink/img/pako:eNptU8lu2zAQ_RWBZ8moZctVdOilKdAeekmBHirmMJLGFhMuAjkM6lr-91JbbCcBD3qjefM4G0-sNg2ygiVJwjUJklhE96Z-RhsJTWihJmG043okHCx0LddcO1-NOHrAg3Bkj-UDKkP4akd7qIo9JM2o9ci1WJec_VBwQBd8g6v2FTo-qM1ci00LtET6ymvyi_UEL7Dg7kit0ZwFVdTNTTrfjSOupwL2QmJ5gfOtM7xN7sVIr9CVv6fvTG2AoAKHgVAbTSA0WleWX1_xVSGPgSRNDTJUMXfkfbGXhIdzlVqSfOkrL2TTR7cigyfqCQ5vHdcpTaTaKCXoA4HBab3uo0vE2-hemdDsPpr78M7tCCzFjkwXWxyNWzWuh8aP1M67NgxVDMVf195fVmOiSfkxbRohi5lCq0A0YTlPXEcRZ9SiQs6KABvcg5fEGdfnQPVdmBV-awQZywqyHmMGnsyvo64Xe-LcCwiboli4ULrwtwP9xxi1kILJihP7y4p1lq-263SzyfI83WTp5zRmR1akd7vVLrvb5Vm-2W6zcM4x-zcqfFplMcMxh5_Toxrf1vk_Byk2hw?type=png)](https://mermaid.live/edit#pako:eNptU8lu2zAQ_RWBZ8moZctVdOilKdAeekmBHirmMJLGFhMuAjkM6lr-91JbbCcBD3qjefM4G0-sNg2ygiVJwjUJklhE96Z-RhsJTWihJmG043okHCx0LddcO1-NOHrAg3Bkj-UDKkP4akd7qIo9JM2o9ci1WJec_VBwQBd8g6v2FTo-qM1ci00LtET6ymvyi_UEL7Dg7kit0ZwFVdTNTTrfjSOupwL2QmJ5gfOtM7xN7sVIr9CVv6fvTG2AoAKHgVAbTSA0WleWX1_xVSGPgSRNDTJUMXfkfbGXhIdzlVqSfOkrL2TTR7cigyfqCQ5vHdcpTaTaKCXoA4HBab3uo0vE2-hemdDsPpr78M7tCCzFjkwXWxyNWzWuh8aP1M67NgxVDMVf195fVmOiSfkxbRohi5lCq0A0YTlPXEcRZ9SiQs6KABvcg5fEGdfnQPVdmBV-awQZywqyHmMGnsyvo64Xe-LcCwiboli4ULrwtwP9xxi1kILJihP7y4p1lq-263SzyfI83WTp5zRmR1akd7vVLrvb5Vm-2W6zcM4x-zcqfFplMcMxh5_Toxrf1vk_Byk2hw)"
   ]
  },
  {
   "cell_type": "markdown",
   "id": "3f8d802a",
   "metadata": {
    "slideshow": {
     "slide_type": "slide"
    }
   },
   "source": [
    "---\n",
    "\n",
    "## Separation of concerns\n",
    "\n",
    "- inside the container:\n",
    "  - libreries\n",
    "  - package manager\n",
    "  - application\n",
    "  - data\n",
    "  - code\n",
    "- outside the container:\n",
    "  - logging\n",
    "  - remote access\n",
    "  - network configuration\n",
    "  - monitoring"
   ]
  },
  {
   "cell_type": "markdown",
   "id": "1c0a5404",
   "metadata": {},
   "source": [
    "---"
   ]
  }
 ],
 "metadata": {},
 "nbformat": 4,
 "nbformat_minor": 5
}
