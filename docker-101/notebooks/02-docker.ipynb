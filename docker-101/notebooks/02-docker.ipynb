{
 "cells": [
  {
   "cell_type": "markdown",
   "id": "32b877fa",
   "metadata": {},
   "source": [
    "## Inspect the Docker host\n",
    "\n",
    "At first, we will inspect this machine: the operating system, the IP address and the rest."
   ]
  },
  {
   "cell_type": "code",
   "execution_count": null,
   "id": "54268220",
   "metadata": {},
   "outputs": [],
   "source": [
    "# Distro\n",
    "!cat /etc/issue"
   ]
  },
  {
   "cell_type": "code",
   "execution_count": null,
   "id": "c60a8f35",
   "metadata": {},
   "outputs": [],
   "source": [
    "# Linux version\n",
    "!uname -a"
   ]
  },
  {
   "cell_type": "code",
   "execution_count": null,
   "id": "4afd3cf9",
   "metadata": {},
   "outputs": [],
   "source": [
    "# IP address\n",
    "! ip -4 -o address show eth0"
   ]
  },
  {
   "cell_type": "markdown",
   "id": "bd7c453a",
   "metadata": {
    "slideshow": {
     "slide_type": "slide"
    }
   },
   "source": [
    "---\n",
    "\n",
    "## Docker installation\n",
    "\n",
    "Check that the docker tools are installed on your test environment."
   ]
  },
  {
   "cell_type": "code",
   "execution_count": null,
   "id": "1af1a9b8",
   "metadata": {},
   "outputs": [],
   "source": [
    "# Docker CLI version.\n",
    "!docker --version"
   ]
  },
  {
   "cell_type": "code",
   "execution_count": null,
   "id": "17246e07",
   "metadata": {},
   "outputs": [],
   "source": [
    "# Docker server version\n",
    "!dockerd --version"
   ]
  },
  {
   "cell_type": "markdown",
   "id": "75098a8c",
   "metadata": {
    "slideshow": {
     "slide_type": "slide"
    }
   },
   "source": [
    "---\n",
    "\n",
    "## Running a container\n",
    "\n",
    "Docker comes with a catalog of possible operating systems and applications named [Docker Registry](https://hub.docker.com).\n",
    "You can deploy your custom registry too.\n",
    "\n",
    "Let's pull (download) and run an image\n",
    "\n",
    "[![](https://mermaid.ink/img/pako:eNptU8tu2zAQ_BWCQG6SUT_kODr00hRoD70kQA8Vc6DEtcVaXArkMq1r5d9LPRzbScADZ7XD0exyeeSVVcBznqapQNLUQM7ubbUHxzQSOFmRtugFDoSdk20tUKAP5YDZA-y0J3coHsBYgteYbWWZb2WqBq0ngXpeCP7dyB34mOtTVSjBi15t4jpQtaTTyVAGpHCKfstnecLtgWqLgkdVQHVl55v1JHAsYKsbKM5w-usEr8092yYY8MXPcZ-oSpIspYdIqCyS1AjOF8WXV3xRyFMkNbaSTaxi6sj7Ys-G-3VhLU0_d2XQjerYtUifYR3J3dvEpaWRVFljNH0g0CddwI6dT7w93Rkbm92xqQ_v0p6ko8STbRMHQ3CtJrBv_EBtg6_jpeq--Mvau_NojLSm-Zg2XqHAmxvWk5hExaL9uLOBPYuN1rh_pENs3DK5ZVHT7iGP05OMMP2jFdV5xhNuwBmpVRzwo0DGBKcaDAieR6hgK0NDggt8idTQxvuGr0qTdTwnFyDhMpB9PGB1ikfOvZZx2gyPphsfv7YSf1lrTqQY8vzI__J8nm1mq_liucw2m8UyW9wuEn7g-eJuPVtnd-tNtlmuVllcLwn_Nyh8mmUJh8HDj_FhDu_z5T_yHk5s?type=png)](https://mermaid.live/edit#pako:eNptU8tu2zAQ_BWCQG6SUT_kODr00hRoD70kQA8Vc6DEtcVaXArkMq1r5d9LPRzbScADZ7XD0exyeeSVVcBznqapQNLUQM7ubbUHxzQSOFmRtugFDoSdk20tUKAP5YDZA-y0J3coHsBYgteYbWWZb2WqBq0ngXpeCP7dyB34mOtTVSjBi15t4jpQtaTTyVAGpHCKfstnecLtgWqLgkdVQHVl55v1JHAsYKsbKM5w-usEr8092yYY8MXPcZ-oSpIspYdIqCyS1AjOF8WXV3xRyFMkNbaSTaxi6sj7Ys-G-3VhLU0_d2XQjerYtUifYR3J3dvEpaWRVFljNH0g0CddwI6dT7w93Rkbm92xqQ_v0p6ko8STbRMHQ3CtJrBv_EBtg6_jpeq--Mvau_NojLSm-Zg2XqHAmxvWk5hExaL9uLOBPYuN1rh_pENs3DK5ZVHT7iGP05OMMP2jFdV5xhNuwBmpVRzwo0DGBKcaDAieR6hgK0NDggt8idTQxvuGr0qTdTwnFyDhMpB9PGB1ikfOvZZx2gyPphsfv7YSf1lrTqQY8vzI__J8nm1mq_liucw2m8UyW9wuEn7g-eJuPVtnd-tNtlmuVllcLwn_Nyh8mmUJh8HDj_FhDu_z5T_yHk5s)"
   ]
  },
  {
   "cell_type": "code",
   "execution_count": null,
   "id": "7f635d85",
   "metadata": {},
   "outputs": [],
   "source": [
    "# Search images from catalog\n",
    "!docker search ubuntu | head"
   ]
  },
  {
   "cell_type": "markdown",
   "id": "76aeb81e",
   "metadata": {},
   "source": [
    "Download an image from the remote registry."
   ]
  },
  {
   "cell_type": "code",
   "execution_count": null,
   "id": "face4e7d",
   "metadata": {},
   "outputs": [],
   "source": [
    "# Download the ubuntu image\n",
    "!docker pull ubuntu:22.04"
   ]
  },
  {
   "cell_type": "markdown",
   "id": "c44b981c",
   "metadata": {},
   "source": [
    "Open a [terminal](/terminals/docker)\n",
    "and run an **interactive shell** (`--interactive`) with a terminal (`--tty`)\n",
    "in a new container\n",
    "based on `ubuntu:22.04`.\n",
    "The `--rm` option removes the container when it exits.\n",
    "\n",
    "**NB: run the following commands [in the terminal](/terminals/docker), not in the jupyter notebook**"
   ]
  },
  {
   "cell_type": "code",
   "execution_count": null,
   "id": "6cf4526d",
   "metadata": {
    "attributes": {
     "classes": [
      "text"
     ],
     "id": ""
    }
   },
   "outputs": [],
   "source": [
    "docker run --rm --tty --interactive ubuntu:22.04 /bin/bash"
   ]
  },
  {
   "cell_type": "markdown",
   "id": "5b769a75",
   "metadata": {},
   "source": [
    "Now that you are on a \"separate machine\",\n",
    "run the following commands in the new terminal\n",
    "and ensure that you are on another \"virtual host\"."
   ]
  },
  {
   "cell_type": "code",
   "execution_count": null,
   "id": "fd62081e",
   "metadata": {
    "attributes": {
     "classes": [
      "text"
     ],
     "id": ""
    }
   },
   "outputs": [],
   "source": [
    "# Operating System\n",
    "cat /etc/issue\n",
    "# Linux version\n",
    "uname -a"
   ]
  },
  {
   "cell_type": "markdown",
   "id": "c1df0552",
   "metadata": {
    "slideshow": {
     "slide_type": "slide"
    }
   },
   "source": [
    "---\n",
    "\n",
    "#### Exercise\n",
    "\n",
    "Now that you are in the [container's terminal](/terminals/docker),\n",
    "what happens if you try to get the IP address using the following command?"
   ]
  },
  {
   "cell_type": "code",
   "execution_count": null,
   "id": "46acf031",
   "metadata": {
    "attributes": {
     "classes": [
      "text"
     ],
     "id": ""
    }
   },
   "outputs": [],
   "source": [
    "ip -4 -o a"
   ]
  },
  {
   "cell_type": "markdown",
   "id": "fe22f83c",
   "metadata": {},
   "source": [
    "Can you retrieve the container's IP address in another way?\n",
    "**Hint: the `/proc` filesystem contains information about the system. Try to find the IP address in one of the files in `/proc`.**"
   ]
  },
  {
   "cell_type": "markdown",
   "id": "81fe5ef4",
   "metadata": {
    "slideshow": {
     "slide_type": "slide"
    }
   },
   "source": [
    "---\n",
    "\n",
    "## Dockerizing Applications\n",
    "\n",
    "`busybox` is a lightweight Linux distribution.\n",
    "You can run an one-shot command in a container."
   ]
  },
  {
   "cell_type": "code",
   "execution_count": null,
   "id": "4bda4e35",
   "metadata": {},
   "outputs": [],
   "source": [
    "%%bash\n",
    "docker run busybox /bin/echo 'Hello world'"
   ]
  },
  {
   "cell_type": "markdown",
   "id": "c1df5f48",
   "metadata": {
    "slideshow": {
     "slide_type": "slide"
    }
   },
   "source": [
    "---\n",
    "\n",
    "## Docker commands\n",
    "\n",
    "Here is a list of docker commands."
   ]
  },
  {
   "cell_type": "code",
   "execution_count": null,
   "id": "3e1dcf41",
   "metadata": {
    "attributes": {
     "classes": [
      "text"
     ],
     "id": ""
    }
   },
   "outputs": [],
   "source": [
    "docker create  # creates a container but does not start it.\n",
    "docker run     # creates and starts a container.\n",
    "docker stop    # stops it.\n",
    "docker start   # will start it again.\n",
    "docker restart # restarts a container.\n",
    "docker rm      # deletes a container.\n",
    "docker kill    # sends a SIGKILL to a container.\n",
    "docker attach  # will connect to a running container.\n",
    "docker wait    # blocks until container stops.\n",
    "docker exec    # executes a command in a running container."
   ]
  },
  {
   "cell_type": "markdown",
   "id": "bddf7383",
   "metadata": {},
   "source": [
    "You can inspect containers"
   ]
  },
  {
   "cell_type": "code",
   "execution_count": null,
   "id": "ec0f72a2",
   "metadata": {
    "attributes": {
     "classes": [
      "text"
     ],
     "id": ""
    }
   },
   "outputs": [],
   "source": [
    "docker ps      # shows running containers.\n",
    "docker inspect # information on a container (incl. IP address).\n",
    "docker logs    # gets logs from container.\n",
    "docker events  # gets events from container.\n",
    "docker port    # shows public facing port of container.\n",
    "docker top     # shows running processes in container.\n",
    "docker diff    # shows changed files in container's FS.\n",
    "docker stats   # shows metrics, memory, cpu, filsystem"
   ]
  },
  {
   "cell_type": "markdown",
   "id": "a5ecaa5a",
   "metadata": {},
   "source": [
    "#### Exercise\n",
    "\n",
    "1. List the running containers."
   ]
  },
  {
   "cell_type": "code",
   "execution_count": null,
   "id": "470c41ec",
   "metadata": {},
   "outputs": [],
   "source": [
    "# Use this cell to run the correct docker command."
   ]
  },
  {
   "cell_type": "markdown",
   "id": "f11421d4",
   "metadata": {},
   "source": [
    "1. Inspect the `ansible-101_bastion_1` container.\n",
    "1. Use the `--format` option to get the IP address on a [terminal](/terminals/docker).\n",
    "   **Hint 1: you can google for the solution.**\n",
    "1. Try to run the above `docker inspect --format ...` command in the jupyter notebook.\n",
    "   Does it work? If not, why?"
   ]
  },
  {
   "cell_type": "code",
   "execution_count": null,
   "id": "3a8321e8",
   "metadata": {},
   "outputs": [],
   "source": [
    "# Use this cell to run the correct docker command."
   ]
  },
  {
   "cell_type": "markdown",
   "id": "25c720a3",
   "metadata": {},
   "source": [
    "💬 Discuss how python treats the `{` character."
   ]
  },
  {
   "cell_type": "markdown",
   "id": "a1e5f3e3",
   "metadata": {
    "slideshow": {
     "slide_type": "slide"
    }
   },
   "source": [
    "---\n",
    "\n",
    "## Images\n",
    "\n",
    "### Like VMs template images\n",
    "\n",
    "Docker leverages a [copy-on-write filesystem](https://docs.docker.com/storage/storagedriver/).\n",
    "This allows Docker to instantiate containers very quickly.\n",
    "Docker layers one container filesytem on top of another.\n",
    "For example, you might:\n",
    "\n",
    "- create a container image from a base Debian image;\n",
    "- then create another container based on the first image.\n",
    "\n",
    "[![](https://mermaid.ink/img/pako:eNpVkstO6zAQhl_FmnVS2U7iNFmwQLBAiBVIR6I-QtPYoRaxXSW2RE_Vd8ckp7Ts5vLN7dccofNKQwvvI-530kk3xe1sk867gMbpcfNnNAG3g76EyIAHPf6VLnyGzcvOTEuAeDccztQkU3qnSW8GPZGww0Bw1MR6ZXqjVSrWTn1PvJppLL7rt7nX5sHauIyN2-hCbDlf0XJBSI9tj_ngu4_UZ4uTznl-Xdw0VVV0NSGMPt6eEfYLqRWvFWWE8OLpB6G_kJ6KAouCEEFn5P_CFxny_OZ65-8kZGD1aNGopOpROkIkJBmsltAmU-ke4xAkSHdKaNwrDPpemeBHaMMYdQYYg38-uO7sL8ydwaSRhXT3MKXoHt2r9_YMJRfaI3xCy8pyVdKqYrTkxbqhTQYHaHlTrUTViIILwfma1acM_s31dCVYxWnFxLrmJRWUZaDnhZ6W15g_5PQF27i6QA?type=png)](https://mermaid.live/edit#pako:eNpVkstO6zAQhl_FmnVS2U7iNFmwQLBAiBVIR6I-QtPYoRaxXSW2RE_Vd8ckp7Ts5vLN7dccofNKQwvvI-530kk3xe1sk867gMbpcfNnNAG3g76EyIAHPf6VLnyGzcvOTEuAeDccztQkU3qnSW8GPZGww0Bw1MR6ZXqjVSrWTn1PvJppLL7rt7nX5sHauIyN2-hCbDlf0XJBSI9tj_ngu4_UZ4uTznl-Xdw0VVV0NSGMPt6eEfYLqRWvFWWE8OLpB6G_kJ6KAouCEEFn5P_CFxny_OZ65-8kZGD1aNGopOpROkIkJBmsltAmU-ke4xAkSHdKaNwrDPpemeBHaMMYdQYYg38-uO7sL8ydwaSRhXT3MKXoHt2r9_YMJRfaI3xCy8pyVdKqYrTkxbqhTQYHaHlTrUTViIILwfma1acM_s31dCVYxWnFxLrmJRWUZaDnhZ6W15g_5PQF27i6QA)\n",
    "\n",
    "This mechanism allows an efficient storage usage, since multiple containers can\n",
    "reuse the same filesystem layers.\n",
    "\n",
    "[![](https://mermaid.ink/img/pako:eNqlkk2P0zAQhv_KyAdOSRU7cb4OHBY4ILQnONEg5MaTrUVsV44ttnT733GTDaQSN-LL2HnmnZnXvpDeSiQteXLidOxMZ6ZwmGPorfFCGXR0_24NgcJPp7w4jAijOKP71hn_7On-y1FNywlYM57X5KmL_48IgxpxAn8UHoRD0FaqQaGM2Wjkv2qyTU22LcX-s9TdiEqLJ_w-a-0_ah2WwcIhGB9axnZZsSAwiHYQ6Wj7H1HnICZMWbpNbhrO874CoNmnhxWhd0glWSUzCsDyxz9IdocMWZmLPAcosxl5bfjvRcCbjUOQpm_hxaGQ6c2HOL7DMCHchNe2b168bMe86ZGEaHRaKBnv_dIZgI5E5zR2pI2hxEGE0XekM9eIhpMUHj9I5a0jrXcBEyKCt5_Ppl_3C_NeiWirJtGqcYqnJ2G-WqtXKG5JeyHPpKW83hWU5Tmva5ZzVrGEnEnLmnJX8qaseZ0XBY_rmpBfs0K249nyFVXDGOc0ITi39Lg83_kVX38DC_v2ew?type=png)](https://mermaid.live/edit#pako:eNqlkk2P0zAQhv_KyAdOSRU7cb4OHBY4ILQnONEg5MaTrUVsV44ttnT733GTDaQSN-LL2HnmnZnXvpDeSiQteXLidOxMZ6ZwmGPorfFCGXR0_24NgcJPp7w4jAijOKP71hn_7On-y1FNywlYM57X5KmL_48IgxpxAn8UHoRD0FaqQaGM2Wjkv2qyTU22LcX-s9TdiEqLJ_w-a-0_ah2WwcIhGB9axnZZsSAwiHYQ6Wj7H1HnICZMWbpNbhrO874CoNmnhxWhd0glWSUzCsDyxz9IdocMWZmLPAcosxl5bfjvRcCbjUOQpm_hxaGQ6c2HOL7DMCHchNe2b168bMe86ZGEaHRaKBnv_dIZgI5E5zR2pI2hxEGE0XekM9eIhpMUHj9I5a0jrXcBEyKCt5_Ppl_3C_NeiWirJtGqcYqnJ2G-WqtXKG5JeyHPpKW83hWU5Tmva5ZzVrGEnEnLmnJX8qaseZ0XBY_rmpBfs0K249nyFVXDGOc0ITi39Lg83_kVX38DC_v2ew)"
   ]
  },
  {
   "cell_type": "markdown",
   "id": "b055eb54",
   "metadata": {
    "slideshow": {
     "slide_type": "subslide"
    }
   },
   "source": [
    "----\n",
    "\n",
    "## Commands for interacting with images"
   ]
  },
  {
   "cell_type": "code",
   "execution_count": null,
   "id": "41ad9774",
   "metadata": {
    "attributes": {
     "classes": [
      "text"
     ],
     "id": ""
    }
   },
   "outputs": [],
   "source": [
    "docker images  # shows all images.\n",
    "docker import  # creates an image from a tarball.\n",
    "docker build   # creates image from Dockerfile.\n",
    "docker commit  # creates image from a container.\n",
    "docker rmi     # removes an image.\n",
    "docker history # list changes of an image."
   ]
  },
  {
   "cell_type": "markdown",
   "id": "1d3bc484",
   "metadata": {
    "slideshow": {
     "slide_type": "subslide"
    }
   },
   "source": [
    "----\n",
    "\n",
    "Images are stored in a Docker registry such as [Docker Hub](https://hub.docker.com/)\n",
    "or Github's [Container Registry](). You can also host your own registry.\n",
    "\n",
    "`docker commit` can create an image from a container:\n",
    "this is the process used when building a `Dockerfile`.\n",
    "\n",
    "NB. This is similar to the snapshot feature of Virtual Machines.\n",
    "\n",
    "[![](https://mermaid.ink/img/pako:eNqtlV1vmzAUhv-K5WuIwDak4WIXXXcxbd3FVmnS4qpysEmsgImwUcu6_vc5diCQfkxre3fMeY3f8_jj3MO85gJmcN2w3QZcnVNFVV4yrS9EAVYlU1ugTVNvRaZqJYJClqWLRqr1ptbmoAo50xvWNKzLQDJWU6XblV9EVuubdtUq0y4_V1Vr2KoUwH_IEJpFxCrYWoCCZQULyzrfXlPFZSNyI2sFvn6nasW0CFHodDcl60SzXCySBOdzAOLoy_n1QRJPJHOO5jyKAUD4cpBEE0kRpZhhDEAaOYlQ_JF3JW6X38StjXvzL_rdM41Dc2eWVxupgVsH1KrsQF4rw6TSlCqzEaCquSyk4MBiE_p6sm4cekA3eb3r_gNbHDaiWIK-ktNyGrGWduO6U77HLfKxLXmYPJrO7SKiiZcffSG2LvSo9EGMQi71dvmzkd56PkzySLxvzmzW7svJfwBV6FUMnemRh9dhRE9gPKFARhTi5ymQN1Ig70CBvJICefIwPSKBRiTw8yTwG0ngdyCBJyT-eanxy7dpqEBbs_5q9AHqAzJMc28CCMMP08u9P2x7MC6DphlyzJBpBh8zeJo5GNmn_vjY-qwqaSyhvBHMCP2nf9bAYBeEM6tv9Sg5VHCa6x-KYaWn04eOAdyTFLgbFTiggTtXvtkcRaMiggmGYFJgMAHhexFVMICVaComuW1t91QBQKE9DpWgMLMhFwVrS0MhVQ9W2u7sKROfuDR1AzPTtCKArDX1j07l_dhrLiSzW11BeyZKbb_umPpV11UvskOY3cM7mKGEzNJFksYoTlCULlIcwA5mcURmhJAIz9P5GUJnCX4I4G_3h2g2X0QojhYpQvtWhlAAhbN06Tu0a9QPfwEgtsUC?type=png)](https://mermaid.live/edit#pako:eNqtlV1vmzAUhv-K5WuIwDak4WIXXXcxbd3FVmnS4qpysEmsgImwUcu6_vc5diCQfkxre3fMeY3f8_jj3MO85gJmcN2w3QZcnVNFVV4yrS9EAVYlU1ugTVNvRaZqJYJClqWLRqr1ptbmoAo50xvWNKzLQDJWU6XblV9EVuubdtUq0y4_V1Vr2KoUwH_IEJpFxCrYWoCCZQULyzrfXlPFZSNyI2sFvn6nasW0CFHodDcl60SzXCySBOdzAOLoy_n1QRJPJHOO5jyKAUD4cpBEE0kRpZhhDEAaOYlQ_JF3JW6X38StjXvzL_rdM41Dc2eWVxupgVsH1KrsQF4rw6TSlCqzEaCquSyk4MBiE_p6sm4cekA3eb3r_gNbHDaiWIK-ktNyGrGWduO6U77HLfKxLXmYPJrO7SKiiZcffSG2LvSo9EGMQi71dvmzkd56PkzySLxvzmzW7svJfwBV6FUMnemRh9dhRE9gPKFARhTi5ymQN1Ig70CBvJICefIwPSKBRiTw8yTwG0ngdyCBJyT-eanxy7dpqEBbs_5q9AHqAzJMc28CCMMP08u9P2x7MC6DphlyzJBpBh8zeJo5GNmn_vjY-qwqaSyhvBHMCP2nf9bAYBeEM6tv9Sg5VHCa6x-KYaWn04eOAdyTFLgbFTiggTtXvtkcRaMiggmGYFJgMAHhexFVMICVaComuW1t91QBQKE9DpWgMLMhFwVrS0MhVQ9W2u7sKROfuDR1AzPTtCKArDX1j07l_dhrLiSzW11BeyZKbb_umPpV11UvskOY3cM7mKGEzNJFksYoTlCULlIcwA5mcURmhJAIz9P5GUJnCX4I4G_3h2g2X0QojhYpQvtWhlAAhbN06Tu0a9QPfwEgtsUC)"
   ]
  },
  {
   "cell_type": "markdown",
   "id": "f021fe60",
   "metadata": {
    "slideshow": {
     "slide_type": "slide"
    }
   },
   "source": [
    "---\n",
    "\n",
    "## Building images with Dockerfile\n",
    "\n",
    "The Dockerfile is a text file that contains all the commands a user could\n",
    "call on the command line to assemble an image."
   ]
  },
  {
   "cell_type": "code",
   "execution_count": null,
   "id": "c8a3dce3",
   "metadata": {},
   "outputs": [],
   "source": [
    "! cat Dockerfile"
   ]
  },
  {
   "cell_type": "markdown",
   "id": "9a7f8106",
   "metadata": {},
   "source": [
    "Docker will execute all the commands in the Dockerfile and create a new image."
   ]
  },
  {
   "cell_type": "code",
   "execution_count": null,
   "id": "15338147",
   "metadata": {},
   "outputs": [],
   "source": [
    "!docker build -t apache-example ."
   ]
  },
  {
   "cell_type": "markdown",
   "id": "f0e47459",
   "metadata": {},
   "source": [
    "Open the [terminal](/terminals/docker-1) and:\n",
    "\n",
    "- inspect the image\n",
    "- run the image with"
   ]
  },
  {
   "cell_type": "code",
   "execution_count": null,
   "id": "d4e59f18",
   "metadata": {},
   "outputs": [],
   "source": [
    "%%bash\n",
    "docker run --rm --detach apache-example"
   ]
  },
  {
   "cell_type": "markdown",
   "id": "a71c1980",
   "metadata": {},
   "source": [
    "#### Exercise\n",
    "\n",
    "Open the [terminal](/terminals/docker-1) and:\n",
    "\n",
    "- check if the container is running `docker ps`\n",
    "- use `curl` to check if the webserver works\n",
    "- stop the container with `docker stop`\n",
    "- check the container status with `docker ps -a`\n",
    "- remove the container with `docker rm`"
   ]
  },
  {
   "cell_type": "markdown",
   "id": "2fa3d10a",
   "metadata": {
    "slideshow": {
     "slide_type": "slide"
    }
   },
   "source": [
    "---\n",
    "\n",
    "## docker-compose\n",
    "\n",
    "[Docker Compose](https://docs.docker.com/compose/) is a tool for defining and running complex applications with\n",
    "Docker.\n",
    "\n",
    "With Compose, you define a multi-container application in a\n",
    "single file, then spin your application up in a single command which\n",
    "does everything that needs to be done to get it running."
   ]
  },
  {
   "cell_type": "markdown",
   "id": "31925e30",
   "metadata": {
    "slideshow": {
     "slide_type": "subslide"
    }
   },
   "source": [
    "----\n",
    "\n",
    "## docker-compose\n",
    "\n",
    "Using Compose is basically a three-step process:\n",
    "\n",
    "1. define your app's image with a `Dockerfile`\n",
    "1. define the services that make up your app in\n",
    "   `docker-compose.yaml` so they can be run together in an isolated\n",
    "environment.\n",
    "1. run `docker-compose up` and Compose will start and run your\n",
    "   entire app."
   ]
  },
  {
   "cell_type": "markdown",
   "id": "7f610ccc",
   "metadata": {
    "slideshow": {
     "slide_type": "subslide"
    }
   },
   "source": [
    "----\n",
    "\n",
    "## docker-compose\n",
    "\n",
    "docker-compose.yaml"
   ]
  },
  {
   "cell_type": "code",
   "execution_count": null,
   "id": "42d511dc",
   "metadata": {
    "attributes": {
     "classes": [
      "yaml"
     ],
     "id": ""
    }
   },
   "outputs": [],
   "source": [
    "# This is a compose file defining a simple python\n",
    "#   application with a redis database.\n",
    "#\n",
    "# Run with:\n",
    "#\n",
    "#  docker-compose up\n",
    "version: '2'\n",
    "services:\n",
    "  web:\n",
    "    build: .\n",
    "    command: python app.py\n",
    "    ports:\n",
    "    - \"5000:5000\"\n",
    "    volumes:\n",
    "    - .:/code\n",
    "    links:\n",
    "    - redis\n",
    "  redis:\n",
    "    image: redis"
   ]
  },
  {
   "cell_type": "markdown",
   "id": "54d398d7",
   "metadata": {},
   "source": [
    "Now run docker-compose up and Compose will start and run your entire app.\n",
    "\n",
    "Docker Compose is a basic example of Infrastructure as Code.\n",
    "The infrastructure setup is defined in a file, and can be versioned.\n",
    "All the changes are tracked and can be reverted.\n",
    "Administrators do not have to run commands on the server to setup the infrastructure."
   ]
  },
  {
   "cell_type": "code",
   "execution_count": null,
   "id": "78f04cb5",
   "metadata": {},
   "outputs": [],
   "source": [
    "%%bash\n",
    "docker-compose up -d"
   ]
  },
  {
   "cell_type": "markdown",
   "id": "15958e0b",
   "metadata": {
    "slideshow": {
     "slide_type": "slide"
    }
   },
   "source": [
    "---\n",
    "\n",
    "## docker-compose example"
   ]
  },
  {
   "cell_type": "code",
   "execution_count": null,
   "id": "e6aa6bce",
   "metadata": {
    "attributes": {
     "classes": [
      "yaml"
     ],
     "id": ""
    }
   },
   "outputs": [],
   "source": [
    "version: \"2\"\n",
    "services:\n",
    "  web:\n",
    "    image: piuma/phpsysinfo\n",
    "    ports:\n",
    "     - \"80:80\""
   ]
  },
  {
   "cell_type": "markdown",
   "id": "db9bb858",
   "metadata": {
    "slideshow": {
     "slide_type": "subslide"
    }
   },
   "source": [
    "----\n",
    "\n",
    "## docker-compose example"
   ]
  },
  {
   "cell_type": "code",
   "execution_count": null,
   "id": "81ecd31a",
   "metadata": {
    "attributes": {
     "classes": [
      "yaml"
     ],
     "id": ""
    }
   },
   "outputs": [],
   "source": [
    "version: \"2\"\n",
    "services:\n",
    "  web1:\n",
    "    image: piuma/phpsysinfo\n",
    "  web2:\n",
    "    image: piuma/phpsysinfo\n",
    "  proxy:\n",
    "    image: tutum/haproxy\n",
    "    links:\n",
    "    - web1\n",
    "    - web2\n",
    "    ports:\n",
    "    - \"80:80\""
   ]
  },
  {
   "cell_type": "markdown",
   "id": "1839a534",
   "metadata": {
    "slideshow": {
     "slide_type": "subslide"
    }
   },
   "source": [
    "----\n",
    "\n",
    "## docker-compose example"
   ]
  },
  {
   "cell_type": "code",
   "execution_count": null,
   "id": "3fdce95f",
   "metadata": {
    "attributes": {
     "classes": [
      "yaml"
     ],
     "id": ""
    }
   },
   "outputs": [],
   "source": [
    "version: \"2\"\n",
    "services:\n",
    "  web1:\n",
    "    image: piuma/phpsysinfo\n",
    "  web2:\n",
    "    image: piuma/phpsysinfo\n",
    "  web3:\n",
    "    image: piuma/phpsysinfo\n",
    "  proxy:\n",
    "    image: tutum/haproxy\n",
    "    links:\n",
    "    - web1\n",
    "    - web2\n",
    "    - web3\n",
    "    ports:\n",
    "    - \"80:80\""
   ]
  },
  {
   "cell_type": "markdown",
   "id": "a2835582",
   "metadata": {
    "slideshow": {
     "slide_type": "subslide"
    }
   },
   "source": [
    "----\n",
    "\n",
    "## docker-compose example"
   ]
  },
  {
   "cell_type": "code",
   "execution_count": null,
   "id": "161cacf3",
   "metadata": {
    "attributes": {
     "classes": [
      "yaml"
     ],
     "id": ""
    }
   },
   "outputs": [],
   "source": [
    "version: \"2\"\n",
    "services:\n",
    "  phpmyadmin:\n",
    "    image: nazarpc/phpmyadmin\n",
    "    links:\n",
    "    - mysql\n",
    "    ports:\n",
    "    - \"8080:80\"\n",
    "  mysql:\n",
    "    image: mysql\n",
    "    environment:\n",
    "    - MYSQL_ROOT_PASSWORD=secret"
   ]
  },
  {
   "cell_type": "markdown",
   "id": "ef403254",
   "metadata": {
    "slideshow": {
     "slide_type": "slide"
    }
   },
   "source": [
    "---\n",
    "\n",
    "## What next?"
   ]
  },
  {
   "cell_type": "code",
   "execution_count": null,
   "id": "e082a995",
   "metadata": {},
   "outputs": [],
   "source": [
    "!docker run --rm mribeiro/cowsay \"Any questions?\""
   ]
  },
  {
   "cell_type": "markdown",
   "id": "3f929045",
   "metadata": {},
   "source": [
    "---"
   ]
  }
 ],
 "metadata": {},
 "nbformat": 4,
 "nbformat_minor": 5
}
