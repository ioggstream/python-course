{
 "cells": [
  {
   "cell_type": "markdown",
   "id": "df9f8c5f",
   "metadata": {},
   "source": [
    "<!-- #region solution=\"hidden\" -->\n",
    "# Devops Tools 101\n",
    "\n",
    "This is a course on the tools you will need to work using the devops methodology.\n",
    "\n",
    "The course is based on an hands-on approach, so you will need to do the exercises\n",
    "and execute the commands on the course environment.\n",
    "\n",
    "We will start presenting the course environment, then we will go through the tools:\n",
    "\n",
    "Docker, Git and Python.\n",
    "<!-- #endregion -->"
   ]
  },
  {
   "cell_type": "markdown",
   "id": "489b4546",
   "metadata": {
    "slideshow": {
     "slide_type": "slide"
    }
   },
   "source": [
    "---\n",
    "\n",
    "# Jupyter\n",
    "\n",
    "Is the course environment in your browser.\n",
    "It requires a modern browser and an internet connection supporting\n",
    "websockets. If your proxy does not support websockets, you will not be able to\n",
    "execute the code.\n",
    "\n",
    "While you might find the exercises' solutions in the environment,\n",
    "it is important for you to spend some time trying to do your homework!\n",
    "This will help you to remember the concepts and to learn how to use the tools."
   ]
  },
  {
   "cell_type": "markdown",
   "id": "f0836235",
   "metadata": {
    "slideshow": {
     "slide_type": "slide"
    }
   },
   "source": [
    "---\n",
    "\n",
    "## What can I do with Jupyter?\n",
    "\n",
    "You can:\n",
    "\n",
    "- [open a (named) terminal on the local machine](/terminals/example)\n",
    "- [edit an existing file](/edit/notebooks/untitled.txt)\n",
    "- add more cells with `ALT+ENTER`"
   ]
  },
  {
   "cell_type": "markdown",
   "id": "34704de7",
   "metadata": {
    "slideshow": {
     "slide_type": "subslide"
    }
   },
   "source": [
    "----\n",
    "\n",
    "Try to add a cell below this one and write some text in it."
   ]
  },
  {
   "cell_type": "code",
   "execution_count": null,
   "id": "1ed7f0a1",
   "metadata": {},
   "outputs": [],
   "source": [
    "# Add a new python cell with ALT+ENTER."
   ]
  },
  {
   "cell_type": "markdown",
   "id": "f45a9532",
   "metadata": {
    "slideshow": {
     "slide_type": "slide"
    }
   },
   "source": [
    "---\n",
    "\n",
    "## Python terminal\n",
    "\n",
    "With Jupyter, you have a Python terminal at your disposal.\n",
    "You can run Python code:"
   ]
  },
  {
   "cell_type": "code",
   "execution_count": null,
   "id": "b453a359",
   "metadata": {},
   "outputs": [],
   "source": [
    "# You can evaluate maths and strings\n",
    "s = 1\n",
    "print(\"a string and the number \" + str(s))"
   ]
  },
  {
   "cell_type": "markdown",
   "id": "dc748d01",
   "metadata": {},
   "source": [
    "Jupyter remembers the variables you define in a cell, so you can use them in the next cells."
   ]
  },
  {
   "cell_type": "code",
   "execution_count": null,
   "id": "8aa80a69",
   "metadata": {},
   "outputs": [],
   "source": [
    "# Evaluate this cell with SHIFT+ENTER\n",
    "s = s + 1\n",
    "print(\"now s is increased \" + str(s))"
   ]
  },
  {
   "cell_type": "markdown",
   "id": "3831eef1",
   "metadata": {},
   "source": [
    "Since Jupyter remembers the variables, you can run the cells in any order you want.\n",
    "This means that sometimes, you need to \"reset\" the environment, to start from scratch.\n",
    "\n",
    "This can be done with the \"Kernel > Restart\" or \"Kernel > Restart & Clear output\" menu."
   ]
  },
  {
   "cell_type": "markdown",
   "id": "2a5d9914",
   "metadata": {
    "slideshow": {
     "slide_type": "subslide"
    }
   },
   "source": [
    "----\n",
    "\n",
    "To run simple, non interactive bash commands in a python cell, prefix them with `!`.\n",
    "When you run a cell, the output is displayed below the cell."
   ]
  },
  {
   "cell_type": "code",
   "execution_count": null,
   "id": "610fe25d",
   "metadata": {},
   "outputs": [],
   "source": [
    "! ls -l"
   ]
  },
  {
   "cell_type": "markdown",
   "id": "c6d34a09",
   "metadata": {
    "slideshow": {
     "slide_type": "subslide"
    }
   },
   "source": [
    "----\n",
    "\n",
    "Another way to run bash commands is to use the `%%bash` magic keyword."
   ]
  },
  {
   "cell_type": "code",
   "execution_count": null,
   "id": "9271d5a6",
   "metadata": {},
   "outputs": [],
   "source": [
    "%%bash\n",
    "A=1\n",
    "echo $A"
   ]
  },
  {
   "cell_type": "markdown",
   "id": "4f2370e8",
   "metadata": {
    "slideshow": {
     "slide_type": "subslide"
    }
   },
   "source": [
    "----\n",
    "\n",
    "<!-- #region -->\n",
    "\n",
    "During the course, you will need to execute some shell code, that is rendered like the following"
   ]
  },
  {
   "cell_type": "code",
   "execution_count": null,
   "id": "85cecbfb",
   "metadata": {},
   "outputs": [],
   "source": [
    "%%bash\n",
    "# Don't execute this non-interactive cell.\n",
    "echo \"What is your name?\"\n",
    "read name\n",
    "echo \"Hello $name!\""
   ]
  },
  {
   "cell_type": "markdown",
   "id": "aca9fb9c",
   "metadata": {},
   "source": [
    "In these cases, you need to [open a terminal on the local machine](/terminals/example), for example following links like [this one](/terminals/example) and type the commands there. This is especially required for interactive tasks.\n",
    "\n",
    "<!-- #endregion -->\n",
    "\n",
    "<!-- #region solution=\"hidden\" solution_first=true -->\n",
    "#### Exercises\n",
    "\n",
    "Exercise solutions are folded. You can show them clicking on the `+` sign.\n",
    "\n",
    "<!-- #endregion -->"
   ]
  },
  {
   "cell_type": "markdown",
   "id": "90d89535",
   "metadata": {},
   "source": [
    "<!-- #region solution=\"hidden\" solution_first=true -->\n",
    "# Don't do that :D just try and\n",
    "\n",
    "![Do your homework](http://s2.quickmeme.com/img/43/438ccdc454bc53dfe79f6190ee43b2be19bd578ad002426efcf90f7a327cedd1.jpg)\n",
    "<!-- #endregion -->"
   ]
  },
  {
   "cell_type": "markdown",
   "id": "52932a94",
   "metadata": {
    "slideshow": {
     "slide_type": "slide"
    }
   },
   "source": [
    "---\n",
    "\n",
    "# Python\n",
    "\n",
    "Go to the [basic python course](/tree/notebooks/rendered_notebooks/python-basic)"
   ]
  },
  {
   "cell_type": "markdown",
   "id": "48294e9d",
   "metadata": {
    "slideshow": {
     "slide_type": "slide"
    }
   },
   "source": [
    "---\n",
    "\n",
    "# Git\n",
    "\n",
    "is the powerful versioning system used to distribute this course\n",
    "\n",
    "Go to your [git beginners course](/notebooks/notebooks/rendered_notebooks/git-101/01-git.ipynb)"
   ]
  },
  {
   "cell_type": "markdown",
   "id": "32a6db18",
   "metadata": {
    "slideshow": {
     "slide_type": "slide"
    }
   },
   "source": [
    "---\n",
    "\n",
    "# Docker\n",
    "\n",
    "Docker is a lightweight container environment. Jupyter and all other \"machines\" are based on docker.\n",
    "\n",
    "[Presentation (in Italian)](https://docs.google.com/presentation/d/15swQ2gHWAKYAm_ZbBme9rmzV1CpLNl1npvgrUyODu1s/)\n",
    "\n",
    "Go to your [docker beginners course](/notebooks/notebooks/rendered_notebooks/docker-101/)\n",
    "\n",
    "<!-- #region -->\n",
    "## Setup with digitalocean (if you don't have your server)\n",
    "\n",
    "Create and `ssh` into your docker droplet.\n",
    "\n",
    "![Create droplet](https://cdn.pbrd.co/images/GA8dkaJ.png)\n",
    "\n",
    "## Setup example\n",
    "\n",
    "[![asciicast](https://asciinema.org/a/9xqX4akNND7Yc0Q1sTb3ZnEhI.png)](https://asciinema.org/a/9xqX4akNND7Yc0Q1sTb3ZnEhI)\n",
    "\n",
    "## Docker must listen on 172.17.0.1:2735"
   ]
  },
  {
   "cell_type": "code",
   "execution_count": null,
   "id": "1f898e25",
   "metadata": {},
   "outputs": [],
   "source": [
    "# vim /etc/systemd/system/multi-user.target.wants/docker.service\n",
    "[Service]\n",
    "...\n",
    "ExecStart=/usr/bin/dockerd -H fd:// -H tcp://172.17.0.1:2375\n",
    "...\n",
    "#wq!\n",
    "\n",
    "systemctl daemon-reload\n",
    "systemctl restart docker"
   ]
  },
  {
   "cell_type": "markdown",
   "id": "6d582a04",
   "metadata": {},
   "source": [
    "## Clone and start"
   ]
  },
  {
   "cell_type": "code",
   "execution_count": null,
   "id": "814c03bf",
   "metadata": {},
   "outputs": [],
   "source": [
    "git clone https://github.com/ioggstream/python-course.git\n",
    "cd python-course/ansible-101\n",
    "make course\n"
   ]
  },
  {
   "cell_type": "markdown",
   "id": "9461e4a7",
   "metadata": {},
   "source": [
    "## Connect to jupyter"
   ]
  },
  {
   "cell_type": "code",
   "execution_count": null,
   "id": "3d0272cd",
   "metadata": {},
   "outputs": [],
   "source": [
    "firefox http://43.32.54.212:8888/tree/notebooks/?token=...."
   ]
  },
  {
   "cell_type": "markdown",
   "id": "5303d0d1",
   "metadata": {},
   "source": [
    "<!-- #endregion -->"
   ]
  }
 ],
 "metadata": {
  "kernelspec": {
   "display_name": "Python 3 (ipykernel)",
   "language": "python",
   "name": "python3"
  },
  "language_info": {
   "codemirror_mode": {
    "name": "ipython",
    "version": 3
   },
   "file_extension": ".py",
   "mimetype": "text/x-python",
   "name": "python",
   "nbconvert_exporter": "python",
   "pygments_lexer": "ipython3",
   "version": "3.9.9"
  }
 },
 "nbformat": 4,
 "nbformat_minor": 5
}
