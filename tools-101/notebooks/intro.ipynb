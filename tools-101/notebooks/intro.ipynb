{
 "cells": [
  {
   "cell_type": "markdown",
   "id": "c6ec9afa",
   "metadata": {},
   "source": [
    "# Devops Tools 101\n",
    "\n",
    "This is a course on the tools you will need to work using the devops methodology.\n",
    "\n",
    "The course is based on an hands-on approach, so you will need to do the exercises\n",
    "and execute the commands on the course environment.\n",
    "\n",
    "We will start presenting the course environment, then we will go through the tools:\n",
    "\n",
    "Docker, Git and Python."
   ]
  },
  {
   "cell_type": "markdown",
   "id": "dffaaf12",
   "metadata": {
    "slideshow": {
     "slide_type": "slide"
    }
   },
   "source": [
    "---\n",
    "\n",
    "# Jupyter\n",
    "\n",
    "Is the course environment in your browser.\n",
    "It requires a modern browser and an internet connection supporting\n",
    "websockets. If your proxy does not support websockets, you will not be able to\n",
    "execute the code."
   ]
  },
  {
   "cell_type": "markdown",
   "id": "9e717ce2",
   "metadata": {
    "slideshow": {
     "slide_type": "subslide"
    }
   },
   "source": [
    "----\n",
    "\n",
    "While you might find the exercises' solutions in the environment,\n",
    "it is important for you to spend some time trying to do your homework!\n",
    "This will help you to remember the concepts and to learn how to use the tools."
   ]
  },
  {
   "cell_type": "markdown",
   "id": "8649150f",
   "metadata": {
    "slideshow": {
     "slide_type": "slide"
    }
   },
   "source": [
    "---\n",
    "\n",
    "## What can I do with Jupyter?\n",
    "\n",
    "You can:\n",
    "\n",
    "- [open a (named) terminal on the local machine](/terminals/example)\n",
    "- [edit an existing file](/edit/notebooks/untitled.txt)\n",
    "- execute the next cell with `SHIFT+ENTER` (try it now!)"
   ]
  },
  {
   "cell_type": "markdown",
   "id": "13c9cd32",
   "metadata": {
    "slideshow": {
     "slide_type": "slide"
    }
   },
   "source": [
    "---\n",
    "\n",
    "- add more cells with `ALT+ENTER`"
   ]
  },
  {
   "cell_type": "markdown",
   "id": "0cb01ea3",
   "metadata": {
    "slideshow": {
     "slide_type": "subslide"
    }
   },
   "source": [
    "----\n",
    "\n",
    "Try to add a cell below this one and write some text in it."
   ]
  },
  {
   "cell_type": "code",
   "execution_count": null,
   "id": "b1b4f5ce",
   "metadata": {},
   "outputs": [],
   "source": [
    "# Add a new python cell with ALT+ENTER."
   ]
  },
  {
   "cell_type": "markdown",
   "id": "8d97d0b9",
   "metadata": {
    "slideshow": {
     "slide_type": "slide"
    }
   },
   "source": [
    "---\n",
    "\n",
    "## Python terminal\n",
    "\n",
    "With Jupyter, you have a Python terminal at your disposal.\n",
    "You can run Python code:"
   ]
  },
  {
   "cell_type": "code",
   "execution_count": null,
   "id": "126339d1",
   "metadata": {},
   "outputs": [],
   "source": [
    "# You can evaluate maths and strings\n",
    "s = 1\n",
    "print(\"a string and the number \" + str(s))"
   ]
  },
  {
   "cell_type": "markdown",
   "id": "4d89e743",
   "metadata": {},
   "source": [
    "Jupyter remembers the variables you define in a cell, so you can use them in the next cells."
   ]
  },
  {
   "cell_type": "code",
   "execution_count": null,
   "id": "4a1d3500",
   "metadata": {},
   "outputs": [],
   "source": [
    "# Evaluate this cell with SHIFT+ENTER\n",
    "s = s + 1\n",
    "print(\"now s is increased \" + str(s))"
   ]
  },
  {
   "cell_type": "markdown",
   "id": "468c1134",
   "metadata": {},
   "source": [
    "Since Jupyter remembers the variables, you can run the cells in any order you want.\n",
    "This means that sometimes, you need to \"reset\" the environment, to start from scratch.\n",
    "\n",
    "This can be done with the \"Kernel > Restart\" or \"Kernel > Restart & Clear output\" menu."
   ]
  },
  {
   "cell_type": "markdown",
   "id": "25ecdbe4",
   "metadata": {
    "slideshow": {
     "slide_type": "subslide"
    }
   },
   "source": [
    "----\n",
    "\n",
    "To run simple, non interactive bash commands in a python cell, prefix them with `!` (we call it \"bang\").\n",
    "When you run a cell, the output is displayed below the cell."
   ]
  },
  {
   "cell_type": "code",
   "execution_count": null,
   "id": "aa438598",
   "metadata": {},
   "outputs": [],
   "source": [
    "! ls -l"
   ]
  },
  {
   "cell_type": "markdown",
   "id": "318b2241",
   "metadata": {
    "slideshow": {
     "slide_type": "subslide"
    }
   },
   "source": [
    "----\n",
    "\n",
    "Another way to run bash commands is to use the `%%bash` magic keyword."
   ]
  },
  {
   "cell_type": "code",
   "execution_count": null,
   "id": "2264d713",
   "metadata": {},
   "outputs": [],
   "source": [
    "%%bash\n",
    "A=1\n",
    "echo $A"
   ]
  },
  {
   "cell_type": "markdown",
   "id": "5d2d04a8",
   "metadata": {
    "slideshow": {
     "slide_type": "subslide"
    }
   },
   "source": [
    "----\n",
    "\n",
    "During the course, you will need to execute some shell code, that is rendered like the following"
   ]
  },
  {
   "cell_type": "code",
   "execution_count": null,
   "id": "a7f30297",
   "metadata": {
    "attributes": {
     "classes": [
      "text"
     ],
     "id": ""
    }
   },
   "outputs": [],
   "source": [
    "# Don't execute this non-interactive cell.\n",
    "echo \"What is your name?\"\n",
    "read name\n",
    "echo \"Hello $name!\""
   ]
  },
  {
   "cell_type": "markdown",
   "id": "fc4b41ac",
   "metadata": {},
   "source": [
    "In these cases, you need to [open a terminal on the local machine](/terminals/example),\n",
    "for example following links like [this one](/terminals/example) and type the commands there.\n",
    "This is especially required for interactive tasks."
   ]
  },
  {
   "cell_type": "markdown",
   "id": "969e264e",
   "metadata": {
    "slideshow": {
     "slide_type": "slide"
    }
   },
   "source": [
    "---\n",
    "\n",
    "#### Exercises\n",
    "\n",
    "Exercise solutions may be hidden.\n",
    "You can show them double-clicking on cells\n",
    "like this one.\n",
    "\n",
    "They will appear as `<!-- comments -->`.\n",
    "\n",
    "<!-- solution\n",
    "# This solution is made of a comment,\n",
    "# a function definition and a function call.\n",
    "def solution():\n",
    "    print(\"Hey! I am a solution!\")\n",
    "    print(\"Copy & paste me in a cell\")\n",
    "\n",
    "solution()\n",
    "-->"
   ]
  },
  {
   "cell_type": "markdown",
   "id": "9b2e73ae",
   "metadata": {
    "slideshow": {
     "slide_type": "slide"
    }
   },
   "source": [
    "---\n",
    "\n",
    "# Don't do that :D just try and\n",
    "\n",
    "![Do your homework](http://s2.quickmeme.com/img/43/438ccdc454bc53dfe79f6190ee43b2be19bd578ad002426efcf90f7a327cedd1.jpg)"
   ]
  },
  {
   "cell_type": "markdown",
   "id": "8b971d5d",
   "metadata": {
    "slideshow": {
     "slide_type": "slide"
    }
   },
   "source": [
    "---\n",
    "\n",
    "# Python\n",
    "\n",
    "Go to the [basic python course](/tree/notebooks/rendered_notebooks/python-basic)"
   ]
  },
  {
   "cell_type": "markdown",
   "id": "bbd506e6",
   "metadata": {
    "slideshow": {
     "slide_type": "slide"
    }
   },
   "source": [
    "---\n",
    "\n",
    "# Git\n",
    "\n",
    "is the powerful versioning system used to distribute this course\n",
    "\n",
    "Go to your [git beginners course](/notebooks/notebooks/rendered_notebooks/git-101/01-git.ipynb)"
   ]
  },
  {
   "cell_type": "markdown",
   "id": "10566e31",
   "metadata": {
    "slideshow": {
     "slide_type": "slide"
    }
   },
   "source": [
    "---\n",
    "\n",
    "# Docker\n",
    "\n",
    "Docker is a lightweight virtualization environment.\n",
    "Jupyter and all other \"machines\" are based on docker.\n",
    "\n",
    "[Presentation (in Italian)](https://docs.google.com/presentation/d/15swQ2gHWAKYAm_ZbBme9rmzV1CpLNl1npvgrUyODu1s/)\n",
    "\n",
    "Go to your [docker beginners course](/notebooks/notebooks/rendered_notebooks/docker-101/)"
   ]
  }
 ],
 "metadata": {},
 "nbformat": 4,
 "nbformat_minor": 5
}
