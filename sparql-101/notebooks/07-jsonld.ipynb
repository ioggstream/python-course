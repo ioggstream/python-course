{
 "cells": [
  {
   "cell_type": "markdown",
   "id": "387059a8",
   "metadata": {},
   "source": [
    "# Agenda\n",
    "\n",
    "- Storing data vs Describing Knowledge\n",
    "- JSON-LD\n",
    "\n",
    "## Storing data\n",
    "\n",
    "We store data in different ways and formats:\n",
    "using constrained or loose schemas,\n",
    "with more or less rigid serializations.\n",
    "\n",
    "JSON (and YAML) is a human-readable way to\n",
    "store data."
   ]
  },
  {
   "cell_type": "markdown",
   "id": "13ff29be",
   "metadata": {},
   "source": [
    "```yaml\n",
    "[\n",
    "  { name: Homer, surname: Simpson, spouse: Marge Simpson },\n",
    "  { name: Marge, surname: Simpson, spouse: Homer Simpson },\n",
    "]\n",
    "```"
   ]
  },
  {
   "cell_type": "markdown",
   "id": "c2be4bac",
   "metadata": {},
   "source": [
    "We can then add identifiers (such as UUIDs or email), to be sure that cross references\n",
    "are not ambiguous."
   ]
  },
  {
   "cell_type": "markdown",
   "id": "9d263ea3",
   "metadata": {},
   "source": [
    "```yaml\n",
    "[\n",
    "  { email: homer@simpson.org, name: Homer, surname: Simpson, spouse: marge@simpson.org },\n",
    "  { email: marge@simpson.org, name: Marge, surname: Simpson, spouse: homer@simpson.org },\n",
    "]\n",
    "```"
   ]
  },
  {
   "cell_type": "markdown",
   "id": "21a847c8",
   "metadata": {},
   "source": [
    "Now we may have different datasets, such as the Springfield Elementary\n",
    "school. Luckily we can \"join\" on an identifying field, but this is\n",
    "not true for all fields."
   ]
  },
  {
   "cell_type": "markdown",
   "id": "b001dee0",
   "metadata": {},
   "source": [
    "```yaml\n",
    "[\n",
    "  { email: bart@simpson.org, name: Bart Simpson, parent: marge@simpson.org },\n",
    "  { email: milhouse@vanhouten.org, name: Milhouse Van Houten, parent: kirk@vanhouten.org}\n",
    "]\n",
    "```"
   ]
  },
  {
   "cell_type": "markdown",
   "id": "0a2e351e",
   "metadata": {},
   "source": [
    "So we actually store data, but we lack knowledge.\n",
    "\n",
    "### JSON-LD\n",
    "\n",
    "JSON-LD is a JSON serialization for information described using the\n",
    "[RDF data model](https://www.w3.org/TR/json-ld11/#data-model).\n",
    "\n",
    "A JSON-LD document is both an RDF and a JSON document."
   ]
  },
  {
   "cell_type": "markdown",
   "id": "220c3ecc",
   "metadata": {},
   "source": [
    "----"
   ]
  },
  {
   "cell_type": "code",
   "execution_count": null,
   "id": "b974a25d",
   "metadata": {},
   "outputs": [],
   "source": [
    "homer = {\n",
    "  \"email\": \"homer@simpson.org\",\n",
    "  \"name\": \"Homer\",\n",
    "  \"surname\": \"Simpson\",\n",
    "  \"spouse\": \"marge@simpson.org\"\n",
    "}"
   ]
  },
  {
   "cell_type": "markdown",
   "id": "e9614fc9",
   "metadata": {},
   "source": [
    "JSON-LD associates it with a context that disambiguates information"
   ]
  },
  {
   "cell_type": "code",
   "execution_count": null,
   "id": "26ca6b0a",
   "metadata": {},
   "outputs": [],
   "source": [
    "import json\n",
    "\n",
    "# A context maps JSON keys to IRIs.\n",
    "context = {\n",
    "  # Map name and surname to the IRI of the FOAF vocabulary.\n",
    "  \"name\": \"foaf:givenName\",\n",
    "  \"surname\": \"foaf:familyName\",\n",
    "  # Use the email key as an IRI,\n",
    "  #   prefixing it with the base IRI.\n",
    "  \"email\": \"@id\",\n",
    "  \"@base\": \"https://simpsons.org#\",\n",
    "}"
   ]
  },
  {
   "cell_type": "code",
   "execution_count": null,
   "id": "ce5a32bd",
   "metadata": {},
   "outputs": [],
   "source": [
    "homer_ld_json = json.dumps({\n",
    "  \"@context\": context\n",
    "  **homer\n",
    "})"
   ]
  },
  {
   "cell_type": "markdown",
   "id": "dd4ccc50",
   "metadata": {},
   "source": [
    "Exercise:\n",
    "\n",
    "- load `homer_ld_json` in a Graph()\n",
    "- print the serialization of the graph in `text/turtle` format"
   ]
  },
  {
   "cell_type": "code",
   "execution_count": null,
   "id": "285ab293",
   "metadata": {},
   "outputs": [],
   "source": [
    "from rdflib import Graph\n"
   ]
  },
  {
   "cell_type": "markdown",
   "id": "18ba0ecc",
   "metadata": {},
   "source": [
    "<!-- g=Graph()-->\n",
    "<!-- g.parse(data=homer_ld_json, format=\"application/ld+json\")-->\n",
    "<!-- print(g.serialize(format=\"text/turtle\"))-->"
   ]
  },
  {
   "cell_type": "markdown",
   "id": "8e7ce3c3",
   "metadata": {
    "slideshow": {
     "slide_type": "slide"
    }
   },
   "source": [
    "---\n",
    "\n",
    "<schema.org> is a collaborative vocabulary to\n",
    "describe information about people, places, events, and more.\n",
    "While it is not a formal ontology, and should be used with care\n",
    "(e.g., in regulated domains),\n",
    "it is widely used for search engine optimization (SEO) and\n",
    "structured data markup, as well as for increase interoperability\n",
    "in non-critical applications (e.g., e-commerce, marketing, ...).\n",
    "\n",
    "Its terms are availabe here <https://schema.org/docs/jsonldcontext.jsonld>"
   ]
  },
  {
   "cell_type": "markdown",
   "id": "0053df67",
   "metadata": {
    "slideshow": {
     "slide_type": "slide"
    }
   },
   "source": [
    "---\n",
    "\n",
    "Start with an object with fields in Italian:"
   ]
  },
  {
   "cell_type": "code",
   "execution_count": null,
   "id": "1744be69",
   "metadata": {},
   "outputs": [],
   "source": [
    "jane = {\n",
    "  \"nome\": \"Jane Doe\",\n",
    "  \"nome_proprio\": \"Jane\",\n",
    "  \"titolo\": \"Professor\",\n",
    "  \"telefono\": \"(425) 123-4567\"\n",
    "}"
   ]
  },
  {
   "cell_type": "markdown",
   "id": "70ec7264",
   "metadata": {},
   "source": [
    "Annotate it with schema.org."
   ]
  },
  {
   "cell_type": "code",
   "execution_count": null,
   "id": "9fd683cd",
   "metadata": {},
   "outputs": [],
   "source": [
    "context = {\n",
    "    \"sdo\": \"https://schema.org/\",\n",
    "    \"nome\": \"sdo:name\",\n",
    "    \"nome_proprio\": \"sdo:givenName\",\n",
    "    \"titolo\": \"sdo:jobTitle\",\n",
    "    \"telefono\": \"sdo:telephone\",\n",
    "  }"
   ]
  },
  {
   "cell_type": "code",
   "execution_count": null,
   "id": "a46cb6e4",
   "metadata": {},
   "outputs": [],
   "source": [
    "import json\n",
    "jane_ld = {\n",
    "  \"@context\": context,\n",
    "  \"@type\": \"sdo:Person\",\n",
    "  **jane\n",
    "  }\n",
    "print(json.dumps(jane_ld))"
   ]
  },
  {
   "cell_type": "markdown",
   "id": "02fcddf4",
   "metadata": {},
   "source": [
    "Exercise:\n",
    "\n",
    "- load `jane_ld` in a Graph()\n",
    "- what's the subject of the sentences?"
   ]
  },
  {
   "cell_type": "code",
   "execution_count": null,
   "id": "c6e92c20",
   "metadata": {},
   "outputs": [],
   "source": [
    "jane_ld_json = ..."
   ]
  },
  {
   "cell_type": "markdown",
   "id": "c81615a8",
   "metadata": {
    "slideshow": {
     "slide_type": "slide"
    }
   },
   "source": [
    "---\n",
    "\n",
    "### Localization\n",
    "\n",
    "RDF (and JSON-LD) support localization natively."
   ]
  },
  {
   "cell_type": "code",
   "execution_count": null,
   "id": "f3d579be",
   "metadata": {},
   "outputs": [],
   "source": [
    "jane_ld[\"competenze\"] =  {\n",
    "    'it': 'Informatica',\n",
    "    'en': 'Computer Science',\n",
    "    'fr': 'Informatique'\n",
    "}\n",
    "\n",
    "# Associate the entry to the context.\n",
    "jane_ld[\"@context\"].update({\n",
    "  \"competenze\" : {\n",
    "    \"@id\": \"sdo:skills\",\n",
    "    # The @container keyword\n",
    "    #   does the magic of converting\n",
    "    #   a dictionary into a list of objects.\n",
    "    \"@container\": \"@language\"\n",
    "  }\n",
    "})"
   ]
  },
  {
   "cell_type": "markdown",
   "id": "b5b6deb6",
   "metadata": {},
   "source": [
    "Now we can serialize the graph."
   ]
  },
  {
   "cell_type": "code",
   "execution_count": null,
   "id": "d723bd96",
   "metadata": {},
   "outputs": [],
   "source": [
    "from rdflib import Graph\n",
    "g=Graph()\n",
    "g.parse(data=json.dumps(jane_ld), format='json-ld')\n",
    "print(g.serialize(format='turtle'))"
   ]
  },
  {
   "cell_type": "markdown",
   "id": "39e300d0",
   "metadata": {},
   "source": [
    "Another localization mechanism allows\n",
    "to map multiple values to a single property."
   ]
  },
  {
   "cell_type": "code",
   "execution_count": null,
   "id": "1bb01d0b",
   "metadata": {},
   "outputs": [],
   "source": [
    "jane_ld[\"soprannome\"] = \"Gianna\"\n",
    "jane_ld[\"soprannome_fr\"] = \"Jeanette\"\n",
    "\n",
    "# And the annotations.\n",
    "jane_ld[\"@context\"].update({\n",
    "  \"soprannome\" : \"sdo:alternateName\",\n",
    "  \"soprannome_fr\" : {\n",
    "    \"@id\": \"sdo:alternateName\",\n",
    "    \"@language\": \"fr\"\n",
    "  }\n",
    "})"
   ]
  },
  {
   "cell_type": "markdown",
   "id": "eb658906",
   "metadata": {
    "slideshow": {
     "slide_type": "slide"
    }
   },
   "source": [
    "---\n",
    "\n",
    "#### Context mangling\n",
    "\n",
    "Modifying a JSON-LD context,\n",
    "alters the\n",
    "meaning of the data.\n",
    "\n",
    "Imagine you have a JSON-LD document\n",
    "with a referenced context (i.e., a URL)\n",
    "that is supposed to be downloaded\n",
    "and used to interpret the data."
   ]
  },
  {
   "cell_type": "markdown",
   "id": "a7937358",
   "metadata": {},
   "source": [
    "```yaml\n",
    "\"@context\": https://payment/context.jsonld\n",
    "payment_from: alice@foo.example\n",
    "payment_to: bob@foo.example\n",
    "```"
   ]
  },
  {
   "cell_type": "markdown",
   "id": "510f42c9",
   "metadata": {},
   "source": [
    "Someone altering the <https://payment/context.jsonld>\n",
    "could reverse the payment flow."
   ]
  },
  {
   "cell_type": "markdown",
   "id": "9bb7f6d3",
   "metadata": {},
   "source": [
    "```yaml\n",
    "# Original context\n",
    "@context:\n",
    "  payment_from: http://banking#debtor\n",
    "  payment_to: http://banking#creditor\n",
    "```"
   ]
  },
  {
   "cell_type": "markdown",
   "id": "2718bca9",
   "metadata": {},
   "source": [
    "->"
   ]
  },
  {
   "cell_type": "markdown",
   "id": "65b836d7",
   "metadata": {},
   "source": [
    "```yaml\n",
    "# Altered context\n",
    "@context:\n",
    "  payment_to: http://banking#debtor\n",
    "  payment_from: http://banking#creditor\n",
    "```"
   ]
  },
  {
   "cell_type": "markdown",
   "id": "ad120fd1",
   "metadata": {
    "slideshow": {
     "slide_type": "subslide"
    }
   },
   "source": [
    "----\n",
    "\n",
    "When resolving contexts at runtime,\n",
    "implementations should address these risks."
   ]
  }
 ],
 "metadata": {},
 "nbformat": 4,
 "nbformat_minor": 5
}
