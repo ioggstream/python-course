{
 "cells": [
  {
   "cell_type": "markdown",
   "id": "323a9aed",
   "metadata": {},
   "source": [
    "### Json-LD\n",
    "\n",
    "JSON-LD è un formato che permette di serializzare in JSON delle informazioni basate sul\n",
    "[RDF data model](https://www.w3.org/TR/json-ld11/#data-model).\n",
    "\n",
    "Un documento JSON-LD è quindi sia un documento RDF che JSON, e rappresenta un'istanza di un RDF data model.\n",
    "\n",
    "JSON-LD inoltre *estende* RDF per permettere la serializzazione di dataset RDF generalizzati."
   ]
  },
  {
   "cell_type": "markdown",
   "id": "5f550ab5",
   "metadata": {
    "slideshow": {
     "slide_type": "subslide"
    }
   },
   "source": [
    "----\n",
    "Dato un oggetto JSON"
   ]
  },
  {
   "cell_type": "markdown",
   "id": "7e77129f",
   "metadata": {},
   "source": [
    "```yaml\n",
    "id: robipolli@gmail.com\n",
    "given_name: Roberto\n",
    "family_name: Polli\n",
    "```"
   ]
  },
  {
   "cell_type": "markdown",
   "id": "121b7608",
   "metadata": {},
   "source": [
    "JSON-LD permette di trasformarlo in un grafo RDF associandogli un contesto."
   ]
  },
  {
   "cell_type": "markdown",
   "id": "74726e01",
   "metadata": {},
   "source": [
    "```yaml\n",
    "\"@context\":\n",
    "  cpv: \"https://w3id.org/italia/onto/CPV\"\n",
    "  given_name: \"cpv:givenName\"\n",
    "  family_name: \"cpv:familyName\"\n",
    "  id: \"@id\"\n",
    "id: robipolli@gmail.com\n",
    "given_name: Roberto\n",
    "family_name: Polli\n",
    "```"
   ]
  },
  {
   "cell_type": "markdown",
   "id": "8be7e134",
   "metadata": {
    "slideshow": {
     "slide_type": "slide"
    }
   },
   "source": [
    "---\n",
    "\n",
    "Oltre all'ontologia italiana, un altro vocabolario\n",
    "molto usato sul web è <www.schema.org>. Le parole chiave\n",
    "che definisce sono disponibili in formato json-ld\n",
    "<https://schema.org/docs/jsonldcontext.jsonld>"
   ]
  },
  {
   "cell_type": "markdown",
   "id": "e6b3456c",
   "metadata": {
    "slideshow": {
     "slide_type": "slide"
    }
   },
   "source": [
    "---\n",
    "\n",
    "È anche possibile ridefinire o localizzare i campi,\n",
    "eventualmente usando diversi namespace."
   ]
  },
  {
   "cell_type": "markdown",
   "id": "b3037631",
   "metadata": {},
   "source": [
    "```yaml\n",
    "\"@context\":\n",
    "  \"sdo\": \"http://schema.org/\"\n",
    "  \"nome\":\"sdo:name\"\n",
    "  \"nome_proprio\": \"sdo:givenName\"\n",
    "\"@type\": \"Person\"\n",
    "  \"nome\": \"Jane Doe\"\n",
    "  \"nome_proprio\": \"Jane\"\n",
    "  \"sdo:jobTitle\": \"Professor\"\n",
    "  \"sdo:telephone\": \"(425) 123-4567\"\n",
    "```"
   ]
  },
  {
   "cell_type": "markdown",
   "id": "1a0c4113",
   "metadata": {
    "slideshow": {
     "slide_type": "slide"
    }
   },
   "source": [
    "---\n",
    "\n",
    "### Localizzazione\n",
    "\n",
    "JSON-LD supporta nativamente informazioni\n",
    "localizzate:"
   ]
  },
  {
   "cell_type": "markdown",
   "id": "8ef5cee8",
   "metadata": {},
   "source": [
    "```yaml\n",
    "-- come lista\n",
    "occupation:\n",
    "-  @value: \"Student\"\n",
    "   @language: en\n",
    "-  @value: \"Etudiant\"\n",
    "   @language: fr\n",
    "```"
   ]
  },
  {
   "cell_type": "markdown",
   "id": "a6c5aa0f",
   "metadata": {},
   "source": [
    "oppure"
   ]
  },
  {
   "cell_type": "markdown",
   "id": "db0e8a89",
   "metadata": {},
   "source": [
    "```yaml\n",
    "-- come oggetto\n",
    "@context:\n",
    "  occupation:\n",
    "    @container: @language\n",
    "occupation:\n",
    "  en: Student\n",
    "  fr: Etudiant\n",
    "```"
   ]
  },
  {
   "cell_type": "markdown",
   "id": "866e038e",
   "metadata": {},
   "source": [
    "oppure"
   ]
  },
  {
   "cell_type": "markdown",
   "id": "3efb5d39",
   "metadata": {},
   "source": [
    "```yaml\n",
    "--- tramite elementi multipli, utile anche per la serializzazione di API semplici\n",
    "@context:\n",
    "  occupation: {@language: en}\n",
    "  occupation_fr: {@language: fr}\n",
    "occupation: Student\n",
    "occupation_fr: Etudiant\n",
    "```"
   ]
  },
  {
   "cell_type": "markdown",
   "id": "0413218b",
   "metadata": {
    "slideshow": {
     "slide_type": "slide"
    }
   },
   "source": [
    "---\n",
    "\n",
    "#### Context mangling\n",
    "\n",
    "@context mangling: modificando il contesto di un oggetto\n",
    "se ne altera il significato."
   ]
  },
  {
   "cell_type": "markdown",
   "id": "dbc457c4",
   "metadata": {},
   "source": [
    "```yaml\n",
    "payment_from: alice@foo.example\n",
    "payment_to: bob@foo.example\n",
    "\"@context\": https://payment/context.jsonld\n",
    "```"
   ]
  },
  {
   "cell_type": "markdown",
   "id": "07d47562",
   "metadata": {},
   "source": [
    "Alterando la risposta del server <https://payment/context.jsonld>\n",
    "possiamo invertire il verso del pagamento!"
   ]
  },
  {
   "cell_type": "markdown",
   "id": "99d61985",
   "metadata": {},
   "source": [
    "```yaml\n",
    "@context:\n",
    "  payment_from: http://banking#debtor\n",
    "  payment_to: http://banking#creditor\n",
    "```"
   ]
  },
  {
   "cell_type": "markdown",
   "id": "5c842a71",
   "metadata": {},
   "source": [
    "->"
   ]
  },
  {
   "cell_type": "markdown",
   "id": "4a694941",
   "metadata": {},
   "source": [
    "```yaml\n",
    "@context:\n",
    "  payment_to: http://banking#debtor\n",
    "  payment_from: http://banking#creditor\n",
    "```"
   ]
  },
  {
   "cell_type": "markdown",
   "id": "0c861123",
   "metadata": {
    "slideshow": {
     "slide_type": "subslide"
    }
   },
   "source": [
    "----\n",
    "\n",
    "Esistono diverse ipotesi tecnologiche basate\n",
    "sull'elaborazione semantica dei dati a runtime.\n",
    "Tutte queste implementazioni devono indirizzare\n",
    "questo tipo di rischi."
   ]
  }
 ],
 "metadata": {},
 "nbformat": 4,
 "nbformat_minor": 5
}
