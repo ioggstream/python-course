{
 "cells": [
  {
   "cell_type": "markdown",
   "id": "ec187f05",
   "metadata": {},
   "source": [
    "### Json-LD\n",
    "\n",
    "JSON-LD è un formato che permette di serializzare in JSON delle informazioni basate sul\n",
    "[RDF data model](https://www.w3.org/TR/json-ld11/#data-model).\n",
    "\n",
    "Un documento JSON-LD è quindi sia un documento RDF che JSON, e rappresenta un'istanza di un RDF data model.\n",
    "\n",
    "JSON-LD inoltre *estende* RDF per permettere la serializzazione di dataset RDF generalizzati."
   ]
  },
  {
   "cell_type": "markdown",
   "id": "aaeea491",
   "metadata": {
    "slideshow": {
     "slide_type": "subslide"
    }
   },
   "source": [
    "----\n",
    "Dato un oggetto JSON"
   ]
  },
  {
   "cell_type": "markdown",
   "id": "08d2d11b",
   "metadata": {},
   "source": [
    "```yaml\n",
    "id: robipolli@gmail.com\n",
    "given_name: Roberto\n",
    "family_name: Polli\n",
    "```"
   ]
  },
  {
   "cell_type": "markdown",
   "id": "10306195",
   "metadata": {},
   "source": [
    "JSON-LD permette di trasformarlo in un grafo RDF associandogli un contesto."
   ]
  },
  {
   "cell_type": "markdown",
   "id": "2aa63655",
   "metadata": {},
   "source": [
    "```yaml\n",
    "\"@context\":\n",
    "  cpv: \"https://w3id.org/italia/onto/CPV\"\n",
    "  given_name: \"cpv:givenName\"\n",
    "  family_name: \"cpv:familyName\"\n",
    "  id: \"@id\"\n",
    "id: robipolli@gmail.com\n",
    "given_name: Roberto\n",
    "family_name: Polli\n",
    "```"
   ]
  },
  {
   "cell_type": "markdown",
   "id": "02b931c5",
   "metadata": {
    "slideshow": {
     "slide_type": "slide"
    }
   },
   "source": [
    "---\n",
    "\n",
    "Oltre all'ontologia italiana, un altro vocabolario\n",
    "molto usato sul web è <www.schema.org>. Le parole chiave\n",
    "che definisce sono disponibili in formato json-ld\n",
    "<https://schema.org/docs/jsonldcontext.jsonld>"
   ]
  },
  {
   "cell_type": "markdown",
   "id": "7b1d0133",
   "metadata": {
    "slideshow": {
     "slide_type": "slide"
    }
   },
   "source": [
    "---\n",
    "\n",
    "È anche possibile ridefinire o localizzare i campi,\n",
    "eventualmente usando diversi namespace."
   ]
  },
  {
   "cell_type": "markdown",
   "id": "78b782d3",
   "metadata": {},
   "source": [
    "```yaml\n",
    "\"@context\":\n",
    "  \"sdo\": \"http://schema.org/\"\n",
    "  \"nome\":\"sdo:name\"\n",
    "  \"nome_proprio\": \"sdo:givenName\"\n",
    "\"@type\": \"Person\"\n",
    "  \"nome\": \"Jane Doe\"\n",
    "  \"nome_proprio\": \"Jane\"\n",
    "  \"sdo:jobTitle\": \"Professor\"\n",
    "  \"sdo:telephone\": \"(425) 123-4567\"\n",
    "```"
   ]
  },
  {
   "cell_type": "markdown",
   "id": "34d6fd74",
   "metadata": {
    "slideshow": {
     "slide_type": "slide"
    }
   },
   "source": [
    "---\n",
    "\n",
    "### Localizzazione\n",
    "\n",
    "JSON-LD supporta nativamente informazioni\n",
    "localizzate:"
   ]
  },
  {
   "cell_type": "markdown",
   "id": "d5610370",
   "metadata": {},
   "source": [
    "```yaml\n",
    "-- come lista\n",
    "occupation:\n",
    "-  @value: \"Student\"\n",
    "   @language: en\n",
    "-  @value: \"Etudiant\"\n",
    "   @language: fr\n",
    "```"
   ]
  },
  {
   "cell_type": "markdown",
   "id": "1a17601b",
   "metadata": {},
   "source": [
    "oppure"
   ]
  },
  {
   "cell_type": "markdown",
   "id": "9bacfdca",
   "metadata": {},
   "source": [
    "```yaml\n",
    "-- come oggetto\n",
    "@context:\n",
    "  occupation:\n",
    "    @container: @language\n",
    "occupation:\n",
    "  en: Student\n",
    "  fr: Etudiant\n",
    "```"
   ]
  },
  {
   "cell_type": "markdown",
   "id": "c051a414",
   "metadata": {},
   "source": [
    "oppure"
   ]
  },
  {
   "cell_type": "markdown",
   "id": "fc53eb49",
   "metadata": {},
   "source": [
    "```yaml\n",
    "--- tramite elementi multipli, utile anche per la serializzazione di API semplici\n",
    "@context:\n",
    "  occupation: {@language: en}\n",
    "  occupation_fr: {@language: fr}\n",
    "occupation: Student\n",
    "occupation_fr: Etudiant\n",
    "```"
   ]
  },
  {
   "cell_type": "markdown",
   "id": "36f4335d",
   "metadata": {
    "slideshow": {
     "slide_type": "slide"
    }
   },
   "source": [
    "---\n",
    "\n",
    "#### Context mangling\n",
    "\n",
    "@context mangling: modificando il contesto di un oggetto\n",
    "se ne altera il significato."
   ]
  },
  {
   "cell_type": "markdown",
   "id": "e03025be",
   "metadata": {},
   "source": [
    "```yaml\n",
    "payment_from: alice@foo.example\n",
    "payment_to: bob@foo.example\n",
    "\"@context\": https://payment/context.jsonld\n",
    "```"
   ]
  },
  {
   "cell_type": "markdown",
   "id": "c7e90434",
   "metadata": {},
   "source": [
    "Alterando la risposta del server <https://payment/context.jsonld>\n",
    "possiamo invertire il verso del pagamento!"
   ]
  },
  {
   "cell_type": "markdown",
   "id": "8b060e7c",
   "metadata": {},
   "source": [
    "```yaml\n",
    "@context:\n",
    "  payment_from: http://banking#debtor\n",
    "  payment_to: http://banking#creditor\n",
    "```"
   ]
  },
  {
   "cell_type": "markdown",
   "id": "8bc8d134",
   "metadata": {},
   "source": [
    "->"
   ]
  },
  {
   "cell_type": "markdown",
   "id": "e39752da",
   "metadata": {},
   "source": [
    "```yaml\n",
    "@context:\n",
    "  payment_to: http://banking#debtor\n",
    "  payment_from: http://banking#creditor\n",
    "```"
   ]
  },
  {
   "cell_type": "markdown",
   "id": "10fe71f3",
   "metadata": {
    "slideshow": {
     "slide_type": "subslide"
    }
   },
   "source": [
    "----\n",
    "\n",
    "Esistono diverse ipotesi tecnologiche basate\n",
    "sull'elaborazione semantica dei dati a runtime.\n",
    "Tutte queste implementazioni devono indirizzare\n",
    "questo tipo di rischi."
   ]
  }
 ],
 "metadata": {},
 "nbformat": 4,
 "nbformat_minor": 5
}
