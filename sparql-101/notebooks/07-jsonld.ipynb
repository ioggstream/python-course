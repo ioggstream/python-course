{
 "cells": [
  {
   "cell_type": "markdown",
   "id": "cfd7b6c5",
   "metadata": {},
   "source": [
    "# Agenda\n",
    "\n",
    "- Storing data vs Describing Knowledge\n",
    "- JSON-LD\n",
    "\n",
    "## Storing data\n",
    "\n",
    "We store data in different ways and formats:\n",
    "using constrained or loose schemas,\n",
    "with more or less rigid serializations.\n",
    "\n",
    "JSON (and YAML) is a human-readable way to\n",
    "store data."
   ]
  },
  {
   "cell_type": "markdown",
   "id": "f48063c5",
   "metadata": {},
   "source": [
    "```yaml\n",
    "[\n",
    "  { name: Homer, surname: Simpson, spouse: Marge Simpson },\n",
    "  { name: Marge, surname: Simpson, spouse: Homer Simpson },\n",
    "]\n",
    "```"
   ]
  },
  {
   "cell_type": "markdown",
   "id": "2d18931c",
   "metadata": {},
   "source": [
    "We can then add identifiers (such as UUIDs or email), to be sure that cross references\n",
    "are not ambiguous."
   ]
  },
  {
   "cell_type": "markdown",
   "id": "298399dc",
   "metadata": {},
   "source": [
    "```yaml\n",
    "[\n",
    "  { email: homer@simpson.org, name: Homer, surname: Simpson, spouse: marge@simpson.org },\n",
    "  { email: marge@simpson.org, name: Marge, surname: Simpson, spouse: homer@simpson.org },\n",
    "]\n",
    "```"
   ]
  },
  {
   "cell_type": "markdown",
   "id": "367865cf",
   "metadata": {},
   "source": [
    "Now we may have different datasets, such as the Springfield Elementary\n",
    "school. Luckily we can \"join\" on an identifying field, but this is\n",
    "not true for all fields."
   ]
  },
  {
   "cell_type": "markdown",
   "id": "c5b164f0",
   "metadata": {},
   "source": [
    "```yaml\n",
    "[\n",
    "  { email: bart@simpson.org, name: Bart Simpson, parent: marge@simpson.org },\n",
    "  { email: milhouse@vanhouten.org, name: Milhouse Van Houten, parent: roger@vanhouten.org}\n",
    "]\n",
    "```"
   ]
  },
  {
   "cell_type": "markdown",
   "id": "e0364e5a",
   "metadata": {},
   "source": [
    "So we actually store data, but we lack knowledge.\n",
    "\n",
    "### JSON-LD\n",
    "\n",
    "JSON-LD is a JSON serialization for information described using the\n",
    "[RDF data model](https://www.w3.org/TR/json-ld11/#data-model).\n",
    "\n",
    "A JSON-LD document is both an RDF and a JSON document."
   ]
  },
  {
   "cell_type": "markdown",
   "id": "aa6d9c0f",
   "metadata": {},
   "source": [
    "----"
   ]
  },
  {
   "cell_type": "code",
   "execution_count": null,
   "id": "e8b4df1a",
   "metadata": {},
   "outputs": [],
   "source": [
    "homer = {\n",
    "  \"email\": \"homer@simpson.org\",\n",
    "  \"name\": \"Homer\",\n",
    "  \"surname\": \"Simpson\",\n",
    "  \"spouse\": \"marge@simpson.org\"\n",
    "}"
   ]
  },
  {
   "cell_type": "markdown",
   "id": "622f212f",
   "metadata": {},
   "source": [
    "JSON-LD associates it with a context that disambiguates information"
   ]
  },
  {
   "cell_type": "code",
   "execution_count": null,
   "id": "f11db159",
   "metadata": {},
   "outputs": [],
   "source": [
    "import json\n",
    "\n",
    "# A context maps JSON keys to IRIs.\n",
    "context = {\n",
    "  # Map name and surname to the IRI of the FOAF vocabulary.\n",
    "  \"name\": \"foaf:givenName\",\n",
    "  \"surname\": \"foaf:familyName\",\n",
    "  # Use the email key as an IRI,\n",
    "  #   prefixing it with the base IRI.\n",
    "  \"email\": \"@id\",\n",
    "  \"@base\": \"https://simpsons.org#\",\n",
    "}"
   ]
  },
  {
   "cell_type": "code",
   "execution_count": null,
   "id": "ada7eef0",
   "metadata": {},
   "outputs": [],
   "source": [
    "homer_ld_json = json.dumps({\n",
    "  \"@context\": context\n",
    "  **homer\n",
    "})"
   ]
  },
  {
   "cell_type": "markdown",
   "id": "0c5174cc",
   "metadata": {},
   "source": [
    "Exercise:\n",
    "\n",
    "- load `homer_ld_json` in a Graph()\n",
    "- print the serialization of the graph in `text/turtle` format"
   ]
  },
  {
   "cell_type": "code",
   "execution_count": null,
   "id": "a95ad300",
   "metadata": {},
   "outputs": [],
   "source": [
    "from rdflib import Graph\n"
   ]
  },
  {
   "cell_type": "markdown",
   "id": "0decd7a6",
   "metadata": {},
   "source": [
    "<!-- g=Graph()-->\n",
    "<!-- g.parse(data=homer_ld_json, format=\"application/ld+json\")-->\n",
    "<!-- print(g.serialize(format=\"text/turtle\"))-->"
   ]
  },
  {
   "cell_type": "markdown",
   "id": "ceda0ce2",
   "metadata": {
    "slideshow": {
     "slide_type": "slide"
    }
   },
   "source": [
    "---\n",
    "\n",
    "<schema.org> is a collaborative vocabulary to\n",
    "describe information about people, places, events, and more.\n",
    "While it is not a formal ontology, and should be used with care\n",
    "(e.g., in regulated domains),\n",
    "it is widely used for search engine optimization (SEO) and\n",
    "structured data markup, as well as for increase interoperability\n",
    "in non-critical applications (e.g., e-commerce, marketing, ...).\n",
    "\n",
    "Its terms are availabe here <https://schema.org/docs/jsonldcontext.jsonld>"
   ]
  },
  {
   "cell_type": "markdown",
   "id": "efcba72e",
   "metadata": {
    "slideshow": {
     "slide_type": "slide"
    }
   },
   "source": [
    "---\n",
    "\n",
    "Start with an object with fields in Italian:"
   ]
  },
  {
   "cell_type": "code",
   "execution_count": null,
   "id": "7afe8f13",
   "metadata": {},
   "outputs": [],
   "source": [
    "jane = {\n",
    "  \"nome\": \"Jane Doe\",\n",
    "  \"nome_proprio\": \"Jane\",\n",
    "  \"titolo\": \"Professor\",\n",
    "  \"telefono\": \"(425) 123-4567\"\n",
    "}"
   ]
  },
  {
   "cell_type": "markdown",
   "id": "ad16d269",
   "metadata": {},
   "source": [
    "Annotate it with schema.org."
   ]
  },
  {
   "cell_type": "code",
   "execution_count": null,
   "id": "4f98b14b",
   "metadata": {},
   "outputs": [],
   "source": [
    "context = {\n",
    "    \"sdo\": \"http://schema.org/\",\n",
    "    \"nome\": \"sdo:name\",\n",
    "    \"nome_proprio\": \"sdo:givenName\",\n",
    "    \"titolo\": \"sdo:jobTitle\",\n",
    "    \"telefono\": \"sdo:telephone\",\n",
    "  }"
   ]
  },
  {
   "cell_type": "code",
   "execution_count": null,
   "id": "c4c97cd6",
   "metadata": {},
   "outputs": [],
   "source": [
    "import json\n",
    "jane_ld = {\n",
    "  \"@context\": context,\n",
    "  \"@type\": \"sdo:Person\",\n",
    "  **jane\n",
    "  }\n",
    "print(json.dumps(jane_ld))"
   ]
  },
  {
   "cell_type": "markdown",
   "id": "a4636063",
   "metadata": {},
   "source": [
    "Exercise:\n",
    "\n",
    "- load `jane_ld` in a Graph()\n",
    "- what's the subject of the sentences?"
   ]
  },
  {
   "cell_type": "code",
   "execution_count": null,
   "id": "99ef35d0",
   "metadata": {},
   "outputs": [],
   "source": [
    "jane_ld_json = ..."
   ]
  },
  {
   "cell_type": "markdown",
   "id": "aeadc29f",
   "metadata": {
    "slideshow": {
     "slide_type": "slide"
    }
   },
   "source": [
    "---\n",
    "\n",
    "### Localization\n",
    "\n",
    "RDF (and JSON-LD) support localization natively."
   ]
  },
  {
   "cell_type": "code",
   "execution_count": null,
   "id": "7276982f",
   "metadata": {},
   "outputs": [],
   "source": [
    "jane_ld[\"competenze\"] =  {\n",
    "    'it': 'Informatica',\n",
    "    'en': 'Computer Science',\n",
    "    'fr': 'Informatique'\n",
    "}\n",
    "\n",
    "# Associate the entry to the context.\n",
    "jane_ld[\"@context\"].update({\n",
    "  \"competenze\" : {\n",
    "    \"@id\": \"sdo:skills\",\n",
    "    # The @container keyword\n",
    "    #   does the magic of converting\n",
    "    #   a dictionary into a list of objects.\n",
    "    \"@container\": \"@language\"\n",
    "  }\n",
    "})"
   ]
  },
  {
   "cell_type": "markdown",
   "id": "1aa16e08",
   "metadata": {},
   "source": [
    "Now we can serialize the graph."
   ]
  },
  {
   "cell_type": "code",
   "execution_count": null,
   "id": "f9d5abee",
   "metadata": {},
   "outputs": [],
   "source": [
    "from rdflib import Graph\n",
    "g=Graph()\n",
    "g.parse(data=json.dumps(jane_ld), format='json-ld')\n",
    "print(g.serialize(format='turtle'))"
   ]
  },
  {
   "cell_type": "markdown",
   "id": "6c785116",
   "metadata": {},
   "source": [
    "Another localization mechanism allows\n",
    "to map multiple values to a single property."
   ]
  },
  {
   "cell_type": "code",
   "execution_count": null,
   "id": "5e432e9c",
   "metadata": {},
   "outputs": [],
   "source": [
    "jane_ld[\"soprannome\"] = \"Gianna\"\n",
    "jane_ld[\"soprannome_fr\"] = \"Jeanette\"\n",
    "\n",
    "# And the annotations.\n",
    "jane_ld[\"@context\"].update({\n",
    "  \"soprannome\" : \"sdo:alternateName\",\n",
    "  \"soprannome_fr\" : {\n",
    "    \"@id\": \"sdo:alternateName\",\n",
    "    \"@language\": \"fr\"\n",
    "  }\n",
    "})"
   ]
  },
  {
   "cell_type": "markdown",
   "id": "27ddb834",
   "metadata": {
    "slideshow": {
     "slide_type": "slide"
    }
   },
   "source": [
    "---\n",
    "\n",
    "#### Context mangling\n",
    "\n",
    "When you modify a JSON-LD context, you are actually modifying the\n",
    "meaning of the data."
   ]
  },
  {
   "cell_type": "markdown",
   "id": "bbb8b317",
   "metadata": {},
   "source": [
    "```yaml\n",
    "payment_from: alice@foo.example\n",
    "payment_to: bob@foo.example\n",
    "\"@context\": https://payment/context.jsonld\n",
    "```"
   ]
  },
  {
   "cell_type": "markdown",
   "id": "83c26dea",
   "metadata": {},
   "source": [
    "Alterando la risposta del server <https://payment/context.jsonld>\n",
    "possiamo invertire il verso del pagamento!"
   ]
  },
  {
   "cell_type": "markdown",
   "id": "8cb2fa06",
   "metadata": {},
   "source": [
    "```yaml\n",
    "@context:\n",
    "  payment_from: http://banking#debtor\n",
    "  payment_to: http://banking#creditor\n",
    "```"
   ]
  },
  {
   "cell_type": "markdown",
   "id": "9cec7b82",
   "metadata": {},
   "source": [
    "->"
   ]
  },
  {
   "cell_type": "markdown",
   "id": "d1de7bfd",
   "metadata": {},
   "source": [
    "```yaml\n",
    "@context:\n",
    "  payment_to: http://banking#debtor\n",
    "  payment_from: http://banking#creditor\n",
    "```"
   ]
  },
  {
   "cell_type": "markdown",
   "id": "353a0dfa",
   "metadata": {
    "slideshow": {
     "slide_type": "subslide"
    }
   },
   "source": [
    "----\n",
    "\n",
    "Esistono diverse ipotesi tecnologiche basate\n",
    "sull'elaborazione semantica dei dati a runtime.\n",
    "Tutte queste implementazioni devono indirizzare\n",
    "questo tipo di rischi."
   ]
  }
 ],
 "metadata": {},
 "nbformat": 4,
 "nbformat_minor": 5
}
