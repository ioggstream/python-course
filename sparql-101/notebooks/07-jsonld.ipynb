{
 "cells": [
  {
   "cell_type": "markdown",
   "id": "05db0517",
   "metadata": {},
   "source": [
    "# Agenda\n",
    "\n",
    "In this lesson we will answer the following question:\n",
    "should I rewrite all my data in RDF? NO :)\n",
    "\n",
    "\n",
    "- Storing data vs Describing Knowledge\n",
    "- Adding metadata to existing data with JSON-LD\n",
    "\n",
    "## Storing data\n",
    "\n",
    "We store data in different ways and formats:\n",
    "using constrained or loose schemas,\n",
    "with more or less rigid serializations.\n",
    "\n",
    "JSON (and YAML) is a human-readable way to\n",
    "store data."
   ]
  },
  {
   "cell_type": "markdown",
   "id": "61e4ef9f",
   "metadata": {},
   "source": [
    "```yaml\n",
    "[\n",
    "  { name: Homer, surname: Simpson, spouse: Marge Simpson },\n",
    "  { name: Marge, surname: Simpson, spouse: Homer Simpson },\n",
    "]\n",
    "```"
   ]
  },
  {
   "cell_type": "markdown",
   "id": "1c5b8815",
   "metadata": {},
   "source": [
    "We can then add identifiers (such as UUIDs or email), to be sure that cross references\n",
    "are not ambiguous."
   ]
  },
  {
   "cell_type": "markdown",
   "id": "fbc45452",
   "metadata": {},
   "source": [
    "```yaml\n",
    "[\n",
    "  { email: homer@simpson.org, name: Homer, surname: Simpson, spouse: marge@simpson.org },\n",
    "  { email: marge@simpson.org, name: Marge, surname: Simpson, spouse: homer@simpson.org },\n",
    "]\n",
    "```"
   ]
  },
  {
   "cell_type": "markdown",
   "id": "b97369ac",
   "metadata": {},
   "source": [
    "Now we may have different datasets, such as the Springfield Elementary\n",
    "school. Luckily we can \"join\" on an identifying field, but this is\n",
    "not true for all fields."
   ]
  },
  {
   "cell_type": "markdown",
   "id": "3c907efb",
   "metadata": {},
   "source": [
    "```yaml\n",
    "[\n",
    "  { email: bart@simpson.org, name: Bart Simpson, parent: marge@simpson.org },\n",
    "  { email: milhouse@vanhouten.org, name: Milhouse Van Houten, parent: kirk@vanhouten.org}\n",
    "]\n",
    "```"
   ]
  },
  {
   "cell_type": "markdown",
   "id": "6bd8ea88",
   "metadata": {},
   "source": [
    "So we actually store data, but we lack knowledge.\n",
    "\n",
    "### JSON-LD\n",
    "\n",
    "JSON-LD is a JSON serialization for information described using the\n",
    "[RDF data model](https://www.w3.org/TR/json-ld11/#data-model).\n",
    "\n",
    "A JSON-LD document is both an RDF and a JSON document.\n",
    "\n",
    ":warning: Its media-type is `application/ld+json`."
   ]
  },
  {
   "cell_type": "markdown",
   "id": "369ecb51",
   "metadata": {},
   "source": [
    "----"
   ]
  },
  {
   "cell_type": "code",
   "execution_count": null,
   "id": "aad603f4",
   "metadata": {},
   "outputs": [],
   "source": [
    "homer = {\n",
    "  \"email\": \"homer@simpson.org\",\n",
    "  \"name\": \"Homer\",\n",
    "  \"surname\": \"Simpson\",\n",
    "  \"spouse\": \"marge@simpson.org\"\n",
    "}"
   ]
  },
  {
   "cell_type": "markdown",
   "id": "82d738a1",
   "metadata": {},
   "source": [
    "JSON-LD associates it with a context that disambiguates information"
   ]
  },
  {
   "cell_type": "code",
   "execution_count": null,
   "id": "37f97232",
   "metadata": {},
   "outputs": [],
   "source": [
    "import json\n",
    "\n",
    "# A context maps JSON keys to IRIs.\n",
    "context = {\n",
    "  # Map name and surname to the IRI of the FOAF vocabulary.\n",
    "  \"name\": \"foaf:givenName\",\n",
    "  \"surname\": \"foaf:familyName\",\n",
    "  # Use the email key as an IRI,\n",
    "  #   prefixing it with the base IRI.\n",
    "  \"email\": \"@id\",\n",
    "  \"@base\": \"https://simpsons.org#\",\n",
    "}"
   ]
  },
  {
   "cell_type": "code",
   "execution_count": null,
   "id": "b0990eb6",
   "metadata": {},
   "outputs": [],
   "source": [
    "homer_ld_json = json.dumps({\n",
    "  \"@context\": context,\n",
    "  **homer\n",
    "})"
   ]
  },
  {
   "cell_type": "markdown",
   "id": "c93c1975",
   "metadata": {},
   "source": [
    "Exercise:\n",
    "\n",
    "- load `homer_ld_json` in a Graph()\n",
    "- print the serialization of the graph in `text/turtle` format"
   ]
  },
  {
   "cell_type": "code",
   "execution_count": null,
   "id": "f1e5b20e",
   "metadata": {},
   "outputs": [],
   "source": [
    "from rdflib import Graph\n",
    "g = Graph()\n",
    "g.parse(data=homer_ld_json, format=\"application/ld+json\")\n",
    "print(g.serialize(format=\"text/turtle\"))"
   ]
  },
  {
   "cell_type": "markdown",
   "id": "d115de2b",
   "metadata": {
    "slideshow": {
     "slide_type": "slide"
    }
   },
   "source": [
    "---\n",
    "\n",
    "<schema.org> is a collaborative vocabulary to\n",
    "describe information about people, places, events, and more.\n",
    "While it is not a formal ontology, and should be used with care\n",
    "(e.g., in regulated domains),\n",
    "it is widely used for search engine optimization (SEO) and\n",
    "structured data markup, as well as for increase interoperability\n",
    "in non-critical applications (e.g., e-commerce, marketing, ...).\n",
    "\n",
    "Its terms are availabe here <https://schema.org/docs/jsonldcontext.jsonld>"
   ]
  },
  {
   "cell_type": "markdown",
   "id": "0fa6fc0b",
   "metadata": {
    "slideshow": {
     "slide_type": "slide"
    }
   },
   "source": [
    "---\n",
    "\n",
    "Start with an object with fields in Italian:"
   ]
  },
  {
   "cell_type": "code",
   "execution_count": null,
   "id": "cb5bc79c",
   "metadata": {},
   "outputs": [],
   "source": [
    "jane = {\n",
    "  \"nome\": \"Jane Doe\",\n",
    "  \"nome_proprio\": \"Jane\",\n",
    "  \"titolo\": \"Professor\",\n",
    "  \"telefono\": \"(425) 123-4567\"\n",
    "}"
   ]
  },
  {
   "cell_type": "markdown",
   "id": "8c3b2314",
   "metadata": {},
   "source": [
    "Annotate it with schema.org."
   ]
  },
  {
   "cell_type": "code",
   "execution_count": null,
   "id": "817ecccc",
   "metadata": {},
   "outputs": [],
   "source": [
    "context = {\n",
    "    \"sdo\": \"https://schema.org/\",\n",
    "    \"nome\": \"sdo:name\",\n",
    "    \"nome_proprio\": \"sdo:givenName\",\n",
    "    \"titolo\": \"sdo:jobTitle\",\n",
    "    \"telefono\": \"sdo:telephone\",\n",
    "  }"
   ]
  },
  {
   "cell_type": "code",
   "execution_count": null,
   "id": "ca71f476",
   "metadata": {},
   "outputs": [],
   "source": [
    "import json\n",
    "jane_ld = {\n",
    "  \"@context\": context,\n",
    "  \"@type\": \"sdo:Person\",\n",
    "  **jane\n",
    "  }\n",
    "print(json.dumps(jane_ld, indent=2))"
   ]
  },
  {
   "cell_type": "markdown",
   "id": "7d9b5dc0",
   "metadata": {},
   "source": [
    "Exercise:\n",
    "\n",
    "- load `jane_ld` in a Graph()\n",
    "- what's the subject of the sentences?\n",
    "- Does the subject have an URI?"
   ]
  },
  {
   "cell_type": "code",
   "execution_count": null,
   "id": "8fa07e34",
   "metadata": {},
   "outputs": [],
   "source": [
    "from rdflib import Graph\n",
    "\n",
    "# Serialize the JSON-LD document\n",
    "jane_ld_json = json.dumps(jane_ld)\n",
    "\n",
    "# Load the JSON-LD document into a Graph\n",
    "g = Graph()\n",
    "g.parse(data=jane_ld_json, format=\"application/ld+json\")\n",
    "\n",
    "# Print the serialization of the graph in text/turtle format\n",
    "print(g.serialize(format=\"text/turtle\"))\n",
    "\n",
    "# Print the subjects of the graph\n",
    "subjects = set(g.subjects())"
   ]
  },
  {
   "cell_type": "markdown",
   "id": "daa5a352",
   "metadata": {
    "slideshow": {
     "slide_type": "slide"
    }
   },
   "source": [
    "---\n",
    "\n",
    "### Localization\n",
    "\n",
    "RDF (and JSON-LD) support localization natively."
   ]
  },
  {
   "cell_type": "code",
   "execution_count": null,
   "id": "ee492479",
   "metadata": {},
   "outputs": [],
   "source": [
    "jane_ld[\"competenze\"] =  {\n",
    "    'it': 'Informatica',\n",
    "    'en': 'Computer Science',\n",
    "    'fr': 'Informatique'\n",
    "}\n",
    "\n",
    "# Associate the entry to the context.\n",
    "jane_ld[\"@context\"].update({\n",
    "  \"competenze\" : {\n",
    "    \"@id\": \"sdo:skills\",\n",
    "    # The @container keyword\n",
    "    #   does the magic of converting\n",
    "    #   a dictionary into a list of objects.\n",
    "    \"@container\": \"@language\"\n",
    "  }\n",
    "})"
   ]
  },
  {
   "cell_type": "markdown",
   "id": "00c0443b",
   "metadata": {},
   "source": [
    "Now we can serialize the graph."
   ]
  },
  {
   "cell_type": "code",
   "execution_count": null,
   "id": "f1807607",
   "metadata": {},
   "outputs": [],
   "source": [
    "from rdflib import Graph\n",
    "g=Graph()\n",
    "g.parse(data=json.dumps(jane_ld), format='json-ld')\n",
    "print(g.serialize(format='turtle'))"
   ]
  },
  {
   "cell_type": "markdown",
   "id": "79ec1657",
   "metadata": {},
   "source": [
    "Another localization mechanism allows\n",
    "to map multiple values to a single property."
   ]
  },
  {
   "cell_type": "code",
   "execution_count": null,
   "id": "a7c060be",
   "metadata": {},
   "outputs": [],
   "source": [
    "jane_ld[\"soprannome\"] = \"Gianna\"\n",
    "jane_ld[\"soprannome_fr\"] = \"Jeanette\"\n",
    "\n",
    "# And the annotations.\n",
    "jane_ld[\"@context\"].update({\n",
    "  \"soprannome\" : \"sdo:alternateName\",\n",
    "  \"soprannome_fr\" : {\n",
    "    \"@id\": \"sdo:alternateName\",\n",
    "    \"@language\": \"fr\"\n",
    "  }\n",
    "})"
   ]
  },
  {
   "cell_type": "markdown",
   "id": "73cd9cce",
   "metadata": {
    "slideshow": {
     "slide_type": "slide"
    }
   },
   "source": [
    "---\n",
    "\n",
    "#### :warning: Context mangling\n",
    "\n",
    "Pay attention!\n",
    "\n",
    "Modifying a JSON-LD context,\n",
    "alters the\n",
    "meaning of the data.\n",
    "\n",
    "Imagine you have a JSON-LD document\n",
    "with a referenced context (i.e., a URL)\n",
    "that is supposed to be downloaded\n",
    "and used to interpret the data."
   ]
  },
  {
   "cell_type": "markdown",
   "id": "583225f0",
   "metadata": {},
   "source": [
    "```yaml\n",
    "\"@context\": https://payment/context.jsonld\n",
    "payment_from: alice@foo.example\n",
    "payment_to: bob@foo.example\n",
    "```"
   ]
  },
  {
   "cell_type": "markdown",
   "id": "fe58077a",
   "metadata": {},
   "source": [
    "Someone altering the <https://payment/context.jsonld>\n",
    "could reverse the payment flow."
   ]
  },
  {
   "cell_type": "markdown",
   "id": "f7a6ed5d",
   "metadata": {},
   "source": [
    "```yaml\n",
    "# Original context\n",
    "\"@context\":\n",
    "  payment_from: http://banking#debtor\n",
    "  payment_to: http://banking#creditor\n",
    "```"
   ]
  },
  {
   "cell_type": "markdown",
   "id": "3a147fd5",
   "metadata": {},
   "source": [
    "->"
   ]
  },
  {
   "cell_type": "markdown",
   "id": "9f3815c3",
   "metadata": {},
   "source": [
    "```yaml\n",
    "# Altered context\n",
    "\"@context\":\n",
    "  payment_to: http://banking#debtor\n",
    "  payment_from: http://banking#creditor\n",
    "```"
   ]
  },
  {
   "cell_type": "markdown",
   "id": "9adcdd50",
   "metadata": {
    "slideshow": {
     "slide_type": "subslide"
    }
   },
   "source": [
    "----\n",
    "\n",
    "When resolving contexts at runtime,\n",
    "implementations should address these risks."
   ]
  }
 ],
 "metadata": {},
 "nbformat": 4,
 "nbformat_minor": 5
}
