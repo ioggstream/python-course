{
 "cells": [
  {
   "cell_type": "markdown",
   "id": "66206576",
   "metadata": {},
   "source": [
    "# SparQL 101\n",
    "\n",
    "## Agenda\n",
    "\n",
    "- Storing and retrieving triples\n",
    "- Using the `rdflib.Dataset` class\n",
    "- A dataset with multiple graphs\n",
    "- Querying graphs\n",
    "- Enriching graphs with UPDATE\n",
    "- Traversing graphs with SparQL (`*` and `/` modifiers)\n",
    "\n",
    "*Beware*: commands contain small typos. You must fix them to properly complete the course!"
   ]
  },
  {
   "cell_type": "markdown",
   "id": "10b18f26",
   "metadata": {
    "slideshow": {
     "slide_type": "slide"
    }
   },
   "source": [
    "---\n",
    "\n",
    "Prerequisites:\n",
    "\n",
    "- json, yaml, xmlschema\n",
    "- HTTP, OpenAPI 3\n",
    "- SQL and database hints\n",
    "- basics of RDF and Turtle"
   ]
  },
  {
   "cell_type": "markdown",
   "id": "8a1f5a45",
   "metadata": {
    "slideshow": {
     "slide_type": "slide"
    }
   },
   "source": [
    "---\n",
    "\n",
    "## Querying graphs with SparQL\n",
    "\n",
    "A triple consists of a $(subject, predicate, object)$.\n",
    "\n",
    "An RDF graph is an (unordered) set of triples:\n",
    "\n",
    "$G = \\{(s_1, p_1, o_1), (s_2, p_2, o_2), \\ldots\\}$.\n",
    "\n",
    "An RDF dataset is a collection of graphs, including a $default$ graph.\n",
    "\n",
    "$D = \\{G_{default}, G_1, \\ldots\\}$.\n",
    "\n",
    "$ Resources < Triples < Graph < Dataset $\n",
    "\n",
    "SparQL is a query language for RDF datasets and graphs.\n",
    "\n",
    "This lesson provides a non-exhaustive introduction to SparQL.\n",
    "\n",
    "See: <https://rdflib.readthedocs.io/en/stable/apidocs/rdflib.html#dataset>"
   ]
  },
  {
   "cell_type": "code",
   "execution_count": null,
   "id": "60929557",
   "metadata": {},
   "outputs": [],
   "source": [
    "from rdflib import Dataset\n",
    "d = Dataset()"
   ]
  },
  {
   "cell_type": "markdown",
   "id": "bc666342",
   "metadata": {},
   "source": [
    "Exercise: list the graphs in the dataset."
   ]
  },
  {
   "cell_type": "code",
   "execution_count": null,
   "id": "dd1841aa",
   "metadata": {},
   "outputs": [],
   "source": [
    "list(d.graphs())"
   ]
  },
  {
   "cell_type": "markdown",
   "id": "cb2d3995",
   "metadata": {
    "slideshow": {
     "slide_type": "subslide"
    }
   },
   "source": [
    "----\n",
    "\n",
    "A sparql query retrieves all entries\n",
    "matching one or more sentences."
   ]
  },
  {
   "cell_type": "code",
   "execution_count": null,
   "id": "a924cff2",
   "metadata": {},
   "outputs": [],
   "source": [
    "from rdflib.query import Result\n",
    "\n",
    "q = \"\"\"\n",
    "SELECT *\n",
    "WHERE {\n",
    "  ?subject ?predicate ?object .\n",
    "  # ... more sentences ...\n",
    "}\n",
    "\"\"\"\n",
    "\n",
    "# The Dataset is still empty :)\n",
    "result : Result = d.query(q)\n",
    "list(result)"
   ]
  },
  {
   "cell_type": "markdown",
   "id": "74219020",
   "metadata": {
    "slideshow": {
     "slide_type": "subslide"
    }
   },
   "source": [
    "----\n",
    "\n",
    "### Storing and retrieving triples\n",
    "\n",
    "Open [sample.ttl](sample.ttl) in another tab\n",
    "and see its content.\n",
    "\n",
    "Now load into the dataset\n",
    "creating a new graph."
   ]
  },
  {
   "cell_type": "code",
   "execution_count": null,
   "id": "73fbb2ea",
   "metadata": {},
   "outputs": [],
   "source": [
    "# Create hte _:sample graph\n",
    "sample = d.graph(\"_:sample\")\n",
    "\n",
    "# Add triples from sample.ttl\n",
    "sample.parse(\"sample.ttl\", format=\"text/turtle\")"
   ]
  },
  {
   "cell_type": "markdown",
   "id": "05c95712",
   "metadata": {},
   "source": [
    "Use our utility function to print the graph."
   ]
  },
  {
   "cell_type": "code",
   "execution_count": null,
   "id": "d067fbcb",
   "metadata": {},
   "outputs": [],
   "source": [
    "from rdflib import FOAF\n",
    "import tools\n",
    "tools.plot_graph(sample, label_property=FOAF.name)"
   ]
  },
  {
   "cell_type": "markdown",
   "id": "0604a7e7",
   "metadata": {},
   "source": [
    "That's what we have"
   ]
  },
  {
   "cell_type": "markdown",
   "id": "b537a376",
   "metadata": {},
   "source": [
    "```mermaid\n",
    "graph\n",
    "\n",
    "subgraph d[\"d\"]\n",
    "  def_graph[(\"default graph\")]\n",
    "  g_graph[(\"_:sample\")]\n",
    "end\n",
    "\n",
    "g[[sample variable]] -->|references| g_graph\n",
    "```"
   ]
  },
  {
   "cell_type": "markdown",
   "id": "23dfa999",
   "metadata": {},
   "source": [
    "List all entries from th `_:sample` graph."
   ]
  },
  {
   "cell_type": "code",
   "execution_count": null,
   "id": "3a13daaa",
   "metadata": {},
   "outputs": [],
   "source": [
    "q = \"\"\"\n",
    "SELECT *\n",
    "WHERE {\n",
    "  ?subject ?predicate ?object .\n",
    "}\n",
    "LIMIT 2\n",
    "\"\"\"\n",
    "result : Result = sample.query(q)\n",
    "[r.asdict() for r in result]"
   ]
  },
  {
   "cell_type": "markdown",
   "id": "47310a6b",
   "metadata": {},
   "source": [
    "Exercise:\n",
    "\n",
    "- Remove the `LIMIT` clause.\n",
    "  How many triples are in the graph?\n",
    "- Replace the `*` with `?subject ?predicate ?object`.\n",
    "  What happens?\n",
    "\n",
    ":warning: `SELECT`ed fields are NOT separated by commas."
   ]
  },
  {
   "cell_type": "code",
   "execution_count": null,
   "id": "66f13fd9",
   "metadata": {},
   "outputs": [],
   "source": [
    "# Use this cell for the exercise.\n",
    "\n",
    "# You can use variable names.\n",
    "for r in result:\n",
    "    print(r.subject, r.predicate, r.object, sep=\"\\t\")\n"
   ]
  },
  {
   "cell_type": "markdown",
   "id": "58a20b8d",
   "metadata": {},
   "source": [
    "- Replace `?subject` with `?foo`:\n",
    "  what happens?\n",
    "\n",
    "### Filtering triples\n",
    "\n",
    "We can filter the results using:\n",
    "\n",
    "- multiple sentences\n",
    "- `FILTER` expressions"
   ]
  },
  {
   "cell_type": "code",
   "execution_count": null,
   "id": "5633dcf8",
   "metadata": {},
   "outputs": [],
   "source": [
    "q = \"\"\"\n",
    "SELECT\n",
    "  # You can write one variable per line\n",
    "  ?subject\n",
    "  ?status\n",
    "WHERE {\n",
    "  ?subject foaf:status ?status .\n",
    "}\n",
    "\"\"\"\n",
    "result = sample.query(q)\n",
    "list(result)"
   ]
  },
  {
   "cell_type": "markdown",
   "id": "7e1e80a5",
   "metadata": {},
   "source": [
    "To restrict the query to a specific resource,\n",
    "you can BIND a variable to a specific value."
   ]
  },
  {
   "cell_type": "code",
   "execution_count": null,
   "id": "8cd4b236",
   "metadata": {},
   "outputs": [],
   "source": [
    "q = \"\"\"\n",
    "SELECT\n",
    "  ?subject\n",
    "  ?status\n",
    "WHERE {\n",
    "  BIND(<mailto:r@example.com> AS ?subject) .\n",
    "\n",
    "  ?subject foaf:status ?status .\n",
    "}\n",
    "\"\"\"\n",
    "result = sample.query(q)\n",
    "list(result)"
   ]
  },
  {
   "cell_type": "markdown",
   "id": "3c530d2e",
   "metadata": {},
   "source": [
    "We can use `FILTER` to restrict the results\n",
    "where the ?country_name is in Italian."
   ]
  },
  {
   "cell_type": "code",
   "execution_count": null,
   "id": "419b13ee",
   "metadata": {},
   "outputs": [],
   "source": [
    "q = \"\"\"\n",
    "SELECT\n",
    "  ?subject ?status\n",
    "WHERE {\n",
    "  BIND(<mailto:r@example.com> AS ?subject)\n",
    "\n",
    "  ?subject foaf:status ?status .\n",
    "\n",
    "  FILTER (lang(?status) = \"it\")\n",
    "}\n",
    "\n",
    "\"\"\"\n",
    "result = sample.query(q)\n",
    "list(result)"
   ]
  },
  {
   "cell_type": "markdown",
   "id": "d70c5645",
   "metadata": {},
   "source": [
    "### GROUP BY triples\n",
    "\n",
    "We can group the results using `GROUP BY`\n",
    "and aggregate functions like `COUNT`, `SUM`, `AVG`, `GROUP_CONCAT`, etc."
   ]
  },
  {
   "cell_type": "code",
   "execution_count": null,
   "id": "d4cbe52d",
   "metadata": {},
   "outputs": [],
   "source": [
    "q = \"\"\"\n",
    "SELECT\n",
    "  ?subject\n",
    "  (COUNT(?object) AS ?count_)\n",
    "WHERE {\n",
    "  ?subject foaf:knows ?object .\n",
    "}\n",
    "GROUP BY ?subject\n",
    "ORDER BY DESC(?count)\n",
    "\"\"\"\n",
    "result = sample.query(q)\n",
    "{str(r.subject): r.count_ for r in result}"
   ]
  },
  {
   "cell_type": "markdown",
   "id": "1095a5be",
   "metadata": {},
   "source": [
    "Note that the count_ value references\n",
    "the datatype of the variable.\n",
    "\n",
    "### Serializing datasets in Trig format\n",
    "\n",
    "The [Trig](https://www.w3.org/TR/2013/REC-trig-20130321/) format\n",
    "extends Turtle to support multiple graphs."
   ]
  },
  {
   "cell_type": "code",
   "execution_count": null,
   "id": "62bf0f45",
   "metadata": {},
   "outputs": [],
   "source": [
    "# Serialize the dataset in Trig format\n",
    "print(d.serialize(format=\"trig\"))"
   ]
  },
  {
   "cell_type": "markdown",
   "id": "dde02425",
   "metadata": {},
   "source": [
    "### Multi-graph datasets\n",
    "\n",
    "Let's add another graph to the dataset."
   ]
  },
  {
   "cell_type": "code",
   "execution_count": null,
   "id": "6f12f795",
   "metadata": {},
   "outputs": [],
   "source": [
    "simpsons = d.graph(\"_:simpsons\")\n",
    "simpsons.parse(\"simpsons.ttl\", format=\"text/turtle\")"
   ]
  },
  {
   "cell_type": "markdown",
   "id": "b50cd8d4",
   "metadata": {},
   "source": [
    "That's what we have"
   ]
  },
  {
   "cell_type": "markdown",
   "id": "0595f779",
   "metadata": {},
   "source": [
    "```mermaid\n",
    "graph\n",
    "\n",
    "subgraph d[\"d\"]\n",
    "  def_graph[(\"default graph\")]\n",
    "  g_graph[(\"_:sample\")]\n",
    "  simpsons_graph[(\"_:simpsons\")]\n",
    "end\n",
    "\n",
    "g[[g variable]] -->|references| g_graph\n",
    "simpsons[[simpsons variable]] -->|references| simpsons_graph\n",
    "```"
   ]
  },
  {
   "cell_type": "markdown",
   "id": "8918575b",
   "metadata": {},
   "source": [
    "### Querying the whole dataset\n",
    "\n",
    "What happens if I query the dataset?"
   ]
  },
  {
   "cell_type": "code",
   "execution_count": null,
   "id": "bd37e489",
   "metadata": {},
   "outputs": [],
   "source": [
    "q = \"\"\"\n",
    "SELECT DISTINCT *\n",
    "WHERE {\n",
    "  [] a ?Class\n",
    "}\n",
    "LIMIT 10\n",
    "\"\"\"\n",
    "d.query(q).bindings"
   ]
  },
  {
   "cell_type": "markdown",
   "id": "21380e68",
   "metadata": {},
   "source": [
    "Now, try to query each graph"
   ]
  },
  {
   "cell_type": "code",
   "execution_count": null,
   "id": "375a50ab",
   "metadata": {},
   "outputs": [],
   "source": [
    "for g in d.graphs():\n",
    "  print({g.identifier.n3(): g.query(q).bindings})"
   ]
  },
  {
   "cell_type": "markdown",
   "id": "e18791dc",
   "metadata": {},
   "source": [
    ":warning: By default, the `Dataset` queries *the default graph*\n",
    "and not all the graphs"
   ]
  },
  {
   "cell_type": "code",
   "execution_count": null,
   "id": "b3564df8",
   "metadata": {},
   "outputs": [],
   "source": [
    "# By default, sparql does not query all the graphs.\n",
    "assert d.default_union == False\n",
    "\n",
    "#  .. but you can change this behaviour...\n",
    "d.default_union = True\n",
    "\n",
    "# ... and now you can query all the graphs.\n",
    "d.query(q).bindings"
   ]
  },
  {
   "cell_type": "markdown",
   "id": "a8b21433",
   "metadata": {},
   "source": [
    "Now I can query all the graphs in the dataset"
   ]
  },
  {
   "cell_type": "code",
   "execution_count": null,
   "id": "44c863cc",
   "metadata": {},
   "outputs": [],
   "source": [
    "q = \"\"\"\n",
    "SELECT DISTINCT *\n",
    "WHERE {\n",
    "  GRAPH ?g {}\n",
    "}\n",
    "\"\"\"\n",
    "result = d.query(q)\n",
    "{str(r.g): len(r) for r in result}"
   ]
  },
  {
   "cell_type": "markdown",
   "id": "57650895",
   "metadata": {},
   "source": [
    "Query the classes used in the dataset."
   ]
  },
  {
   "cell_type": "code",
   "execution_count": null,
   "id": "8e758384",
   "metadata": {},
   "outputs": [],
   "source": [
    "q = \"\"\"\n",
    "SELECT DISTINCT\n",
    "  ?g ?Class\n",
    "WHERE {\n",
    "  GRAPH ?g {\n",
    "    [] a ?Class .\n",
    "  }\n",
    "}\n",
    "\"\"\"\n",
    "result = d.query(q)\n",
    "list(result)"
   ]
  },
  {
   "cell_type": "markdown",
   "id": "187280c0",
   "metadata": {},
   "source": [
    "Exercise:\n",
    "\n",
    "- replace `?g` with the graph URI `<_:sample>`:\n",
    "  what happens?"
   ]
  },
  {
   "cell_type": "code",
   "execution_count": null,
   "id": "8317dede",
   "metadata": {},
   "outputs": [],
   "source": [
    "q = \"\"\"\n",
    "SELECT DISTINCT\n",
    "  ?Class\n",
    "WHERE {\n",
    "  GRAPH <_:sample> {\n",
    "    [] a ?Class .\n",
    "  }\n",
    "}\n",
    "\"\"\"\n",
    "result = d.query(q)\n",
    "list(result)"
   ]
  },
  {
   "cell_type": "markdown",
   "id": "106f1bac",
   "metadata": {},
   "source": [
    "Querying triples in a specific graph:"
   ]
  },
  {
   "cell_type": "code",
   "execution_count": null,
   "id": "b7e96455",
   "metadata": {},
   "outputs": [],
   "source": [
    "q = \"\"\"\n",
    "SELECT DISTINCT *\n",
    "WHERE {\n",
    "  GRAPH <_:simpsons> {\n",
    "    ?p a schema:Person .\n",
    "  }\n",
    "}\n",
    "\"\"\"\n",
    "result = d.query(q)\n",
    "{str(r.p): r.p for r in result}\n",
    "assert list(result)"
   ]
  },
  {
   "cell_type": "markdown",
   "id": "8f4edc9f",
   "metadata": {},
   "source": [
    "💪 Exercise: querying the dataset\n",
    "\n",
    "- Query the `_:sample` graph\n",
    "  to list all the `foaf:Person`s in it.\n",
    "\n",
    "Exercise:\n",
    "\n",
    "- query the `_:simpsons` graph\n",
    "  to list all the `schema:Person`s\n",
    "  having a `schema:nationality` property."
   ]
  },
  {
   "cell_type": "code",
   "execution_count": null,
   "id": "900453b0",
   "metadata": {},
   "outputs": [],
   "source": [
    "# Use this cell for the exercise.\n",
    "q = ...\n"
   ]
  },
  {
   "cell_type": "code",
   "execution_count": null,
   "id": "450881f1",
   "metadata": {},
   "outputs": [],
   "source": [
    "q = \"\"\"\n",
    "SELECT DISTINCT\n",
    "  ?s\n",
    "WHERE {\n",
    "  GRAPH <_:simpsons> {\n",
    "    ?s a schema:Person ;\n",
    "       schema:nationality ?country .\n",
    "  }\n",
    "}\n",
    "\"\"\"\n",
    "result = d.query(q)\n",
    "{str(r.s) for r in result}"
   ]
  },
  {
   "cell_type": "markdown",
   "id": "081e053e",
   "metadata": {},
   "source": [
    "- query the `_:simpsons` graph\n",
    "  matching the following sentences\n",
    "\n",
    "  - ?subject has a schema:nationality ?country\n",
    "  - ?country has a schema:name ?country_name\n",
    "  - ?country_name is in Italian"
   ]
  },
  {
   "cell_type": "code",
   "execution_count": null,
   "id": "3b51e363",
   "metadata": {},
   "outputs": [],
   "source": [
    "q = \"\"\"\n",
    "SELECT DISTINCT\n",
    "  ?subject ?country_name\n",
    "WHERE {\n",
    "  GRAPH <_:simpsons> {\n",
    "    ?subject schema:nationality ?country .\n",
    "    ?country schema:name ?country_name .\n",
    "    FILTER (lang(?country_name) = \"it\")\n",
    "  }\n",
    "}\n",
    "\"\"\"\n",
    "result = d.query(q)\n",
    "{(str(r.subject), str(r.country_name)) for r in result}"
   ]
  },
  {
   "cell_type": "markdown",
   "id": "8d9f46ea",
   "metadata": {
    "slideshow": {
     "slide_type": "subslide"
    }
   },
   "source": [
    "----\n",
    "\n",
    "### Modifying graphs: INSERT DATA and UPDATE\n",
    "\n",
    "Use `INSERT DATA`  to add new triples\n",
    "to a graph.\n",
    "\n",
    "Add the following sentence to the <_:sample> graph.\n",
    "\n",
    "> <mailto:r@example.com> foaf:topic_interest <urn:isan:0000-0000-EBC9#Homer>\n",
    "\n",
    "getting help from the rdflib documentation <https://rdflib.readthedocs.io/en/7.1.1/intro_to_sparql.html>"
   ]
  },
  {
   "cell_type": "code",
   "execution_count": null,
   "id": "61c6b3e4",
   "metadata": {},
   "outputs": [],
   "source": [
    "q = \"\"\"\n",
    "INSERT DATA {\n",
    "  GRAPH <_:sample> {\n",
    "    <mailto:r@example.com> foaf:topic_interest <urn:isan:0000-0000-EBC9#Homer> .\n",
    "    }\n",
    "}\n",
    "\"\"\"\n",
    "\n",
    "result = d.update(q)\n",
    "assert \"Homer\" in d.graph(\"_:sample\").serialize(format=\"turtle\")"
   ]
  },
  {
   "cell_type": "markdown",
   "id": "545d343c",
   "metadata": {},
   "source": [
    "The SparQL `UPDATE` command updates a graph.\n",
    "See <https://www.w3.org/TR/sparql11-update/>"
   ]
  },
  {
   "cell_type": "code",
   "execution_count": null,
   "id": "1f5a5fb4",
   "metadata": {},
   "outputs": [],
   "source": [
    "q = \"\"\"\n",
    "PREFIX schema: <https://schema.org/>\n",
    "\n",
    "INSERT {\n",
    "  # Insert a new triple\n",
    "  ?s schema:name ?name .\n",
    "}\n",
    "WHERE {\n",
    "  # Match existing triples\n",
    "  ?s a schema:Person ;\n",
    "    schema:givenName ?givenName ;\n",
    "    schema:familyName ?familyName .\n",
    "\n",
    "  # Create a new variable\n",
    "  # that concatenates the givenName and familyName\n",
    "  # into a single name.\n",
    "  BIND(CONCAT(?givenName, \" \",  ?familyName) AS ?name)\n",
    "}\n",
    "\"\"\"\n",
    "\n",
    "result = simpsons.update(q)"
   ]
  },
  {
   "cell_type": "markdown",
   "id": "92c56416",
   "metadata": {},
   "source": [
    "💪: check the graph"
   ]
  },
  {
   "cell_type": "code",
   "execution_count": null,
   "id": "bb616f14",
   "metadata": {},
   "outputs": [],
   "source": [
    "assert \"Homer Simpson\" in simpsons.serialize(format=\"turtle\")"
   ]
  },
  {
   "cell_type": "markdown",
   "id": "96d84738",
   "metadata": {},
   "source": [
    "### The `/` and the `*` predicate modifiers\n",
    "\n",
    "SparQL can correlate\n",
    "entries using semantically defined\n",
    "vocabularies such as [FOAF](http://xmlns.com/foaf/0.1/).\n",
    "\n",
    ":warning: The `PREFIX` statement in a sparql query\n",
    "must not have a trailing dot, because it is not a sentence.\n",
    "This is different from the `@prefix` statement\n",
    "in Turtle."
   ]
  },
  {
   "cell_type": "code",
   "execution_count": null,
   "id": "a0df356a",
   "metadata": {},
   "outputs": [],
   "source": [
    "q = \"\"\"\n",
    "PREFIX foaf:  <http://xmlns.com/foaf/0.1/>\n",
    "\n",
    "SELECT * WHERE {\n",
    "  ?s foaf:name ?o .\n",
    "}\n",
    "\"\"\"\n",
    "\n",
    "result = sample.query(q)\n",
    "[r.asdict() for r in result]"
   ]
  },
  {
   "cell_type": "markdown",
   "id": "3b743a37",
   "metadata": {},
   "source": [
    "In this case `foaf:name` has a very specific meaning.\n",
    "You don't need to create indexes in your database\n",
    "to search for specific predicates.\n",
    "\n",
    "Exercise:\n",
    "\n",
    "- What happens if you add a dot at the end of the `PREFIX` statement\n",
    "  in the above query?"
   ]
  },
  {
   "cell_type": "markdown",
   "id": "db9c0ad3",
   "metadata": {
    "slideshow": {
     "slide_type": "subslide"
    }
   },
   "source": [
    "----\n",
    "\n",
    "Graph databases can find triples\n",
    "matching different sentences...\n",
    "\n",
    "... and even traverse paths."
   ]
  },
  {
   "cell_type": "markdown",
   "id": "8b842d80",
   "metadata": {},
   "source": [
    "```mermaid\n",
    "graph LR\n",
    "\n",
    "r((r)) & j((j))\n",
    "d((d)) & m((m))\n",
    "h((h)) & k((k))\n",
    "q((q)) & a((a))\n",
    "\n",
    "r <-->|knows| j & d\n",
    "j <-->|knows| m & k\n",
    "d <-->|knows| k\n",
    "d <-->|knows| q\n",
    "m <-->|knows| k\n",
    "q <-->|knows| a\n",
    "```"
   ]
  },
  {
   "cell_type": "code",
   "execution_count": null,
   "id": "00847e19",
   "metadata": {},
   "outputs": [],
   "source": [
    "q = \"\"\"\n",
    "PREFIX foaf:  <http://xmlns.com/foaf/0.1/>\n",
    "\n",
    "SELECT *\n",
    "WHERE {\n",
    "  ?s a foaf:Person  .\n",
    "  ?s foaf:knows ?o  .\n",
    "}\n",
    "\"\"\"\n",
    "\n",
    "result = sample.query(q)\n",
    "[r.asdict() for r in result]"
   ]
  },
  {
   "cell_type": "markdown",
   "id": "3f76cb34",
   "metadata": {},
   "source": [
    "The `*` operator matches a predicate\n",
    "0 or more times.\n",
    "This allows to find all\n",
    "the friends' network of a person.\n",
    "\n",
    "Exercise:\n",
    "\n",
    "- modify the above query replacing `foaf:knows` with `foaf:knows*`\n",
    "  and see what happens."
   ]
  },
  {
   "cell_type": "code",
   "execution_count": null,
   "id": "707e3392",
   "metadata": {},
   "outputs": [],
   "source": [
    "q = \"\"\"\n",
    "PREFIX foaf:  <http://xmlns.com/foaf/0.1/>\n",
    "\n",
    "SELECT *\n",
    "WHERE {\n",
    "  ?s a foaf:Person  .\n",
    "  ?s foaf:knows* ?o  .\n",
    "}\n",
    "\"\"\"\n",
    "\n",
    "result = sample.query(q)\n",
    "[r.asdict() for r in result]"
   ]
  },
  {
   "cell_type": "markdown",
   "id": "970c7a27",
   "metadata": {},
   "source": [
    "SparQL supports GROUP BY and ORDER BY clauses."
   ]
  },
  {
   "cell_type": "code",
   "execution_count": null,
   "id": "8ca30575",
   "metadata": {},
   "outputs": [],
   "source": [
    "q = \"\"\"\n",
    "PREFIX foaf:  <http://xmlns.com/foaf/0.1/>\n",
    "\n",
    "SELECT DISTINCT\n",
    "  ?s\n",
    "  (GROUP_CONCAT(?o; separator=\", \") AS ?friends)\n",
    "WHERE {\n",
    "  ?s\n",
    "    a foaf:Person ;\n",
    "    foaf:knows* ?o\n",
    "  .\n",
    "}\n",
    "GROUP BY ?s\n",
    "\"\"\"\n",
    "result = sample.query(q)\n",
    "{str(r.s): {\"network\": str(r.friends) } for r in result}"
   ]
  },
  {
   "cell_type": "markdown",
   "id": "712a8dc2",
   "metadata": {
    "slideshow": {
     "slide_type": "subslide"
    }
   },
   "source": [
    "----\n",
    "\n",
    "Using multiple lines we can infer things\n",
    "such as friend-of-a-friend emails."
   ]
  },
  {
   "cell_type": "code",
   "execution_count": null,
   "id": "f524ce37",
   "metadata": {},
   "outputs": [],
   "source": [
    "q = \"\"\"\n",
    "PREFIX foaf:  <http://xmlns.com/foaf/0.1/>\n",
    "\n",
    "SELECT DISTINCT\n",
    "  ?mail1 ?mail3\n",
    "WHERE {\n",
    "  ?user1 foaf:knows ?user2\n",
    "  .\n",
    "  ?user2 foaf:knows ?user3\n",
    "  .\n",
    "  ?user1 foaf:mbox ?mail1\n",
    "  .\n",
    "  ?user3 foaf:mbox ?mail3\n",
    "}\n",
    "\"\"\"\n",
    "\n",
    "result = sample.query(q)\n",
    "[r.asdict() for r in result]"
   ]
  },
  {
   "cell_type": "markdown",
   "id": "96003994",
   "metadata": {},
   "source": [
    "Since we are not interested in the `user2` variable,\n",
    "we can simplify the query specifying\n",
    "a path of predicates."
   ]
  },
  {
   "cell_type": "code",
   "execution_count": null,
   "id": "24b99fa1",
   "metadata": {},
   "outputs": [],
   "source": [
    "q = \"\"\"\n",
    "PREFIX foaf:  <http://xmlns.com/foaf/0.1/>\n",
    "\n",
    "SELECT DISTINCT\n",
    "  ?mail1 ?mail3\n",
    "WHERE {\n",
    "  ?user1 foaf:knows/foaf:knows ?user3\n",
    "  .\n",
    "  ?user1 foaf:mbox ?mail1\n",
    "  .\n",
    "  ?user3 foaf:mbox ?mail3\n",
    "}\n",
    "\"\"\"\n",
    "result = sample.query(q)\n",
    "{str(r.mail1): str(r.mail3) for r in result}"
   ]
  },
  {
   "cell_type": "markdown",
   "id": "1a1a16a6",
   "metadata": {
    "slideshow": {
     "slide_type": "subslide"
    }
   },
   "source": [
    "----\n",
    "\n",
    "Note that the query describes each relation\n",
    "ignoring the way data is stored."
   ]
  },
  {
   "cell_type": "code",
   "execution_count": null,
   "id": "ea65f93c",
   "metadata": {},
   "outputs": [],
   "source": [
    "q = \"\"\"\n",
    "SELECT\n",
    "  ?s ?character_name ?country_name\n",
    "WHERE {\n",
    "  GRAPH <_:sample> {\n",
    "     ?s a foaf:Person ;\n",
    "       foaf:topic_interest ?character .\n",
    "  }\n",
    "  GRAPH <_:simpsons> {\n",
    "     ?character schema:nationality ?country .\n",
    "     ?character schema:name ?character_name .\n",
    "     ?country schema:name ?country_name .\n",
    "     FILTER (lang(?country_name) = \"it\")\n",
    "     }\n",
    "}\n",
    "\"\"\"\n",
    "result = d.query(q)\n",
    "list(result)"
   ]
  },
  {
   "cell_type": "markdown",
   "id": "b330db69",
   "metadata": {},
   "source": [
    "Exercise:\n",
    "\n",
    "- remove the GRAPH information from the query\n",
    "  and see what happens."
   ]
  },
  {
   "cell_type": "markdown",
   "id": "0b8e2478",
   "metadata": {
    "slideshow": {
     "slide_type": "slide"
    }
   },
   "source": [
    "---\n",
    "\n",
    "# Querying DBPedia\n",
    "\n",
    ":warning: DBPedia may rate limit your queries.\n",
    "\n",
    "[DBPedia](https://dbpedia.org/sparql) is a graph database with a lot of data inside.\n",
    "\n",
    "We can use it to learn sparql.\n",
    "\n",
    "- list concepts"
   ]
  },
  {
   "cell_type": "markdown",
   "id": "9c0ae7d5",
   "metadata": {},
   "source": [
    "```sparql\n",
    "SELECT DISTINCT\n",
    "  ?Concept\n",
    "WHERE {\n",
    "  [] a ?Concept\n",
    "}\n",
    "LIMIT 20\n",
    "```"
   ]
  },
  {
   "cell_type": "markdown",
   "id": "d153b3de",
   "metadata": {
    "slideshow": {
     "slide_type": "subslide"
    }
   },
   "source": [
    "----\n",
    "\n",
    "Now we want to list all `Person`"
   ]
  },
  {
   "cell_type": "markdown",
   "id": "83a4e4a2",
   "metadata": {},
   "source": [
    "```sparql\n",
    "PREFIX foaf: <http://xmlns.com/foaf/0.1/>\n",
    "\n",
    "SELECT DISTINCT\n",
    "  *\n",
    "WHERE {\n",
    "  ?s a foaf:Person\n",
    "}\n",
    "LIMIT 10\n",
    "```"
   ]
  },
  {
   "cell_type": "markdown",
   "id": "e3f47eb9",
   "metadata": {
    "slideshow": {
     "slide_type": "subslide"
    }
   },
   "source": [
    "----\n",
    "\n",
    "All `Person`s born in Pisa"
   ]
  },
  {
   "cell_type": "markdown",
   "id": "c646ff20",
   "metadata": {},
   "source": [
    "```sparql\n",
    "PREFIX foaf: <http://xmlns.com/foaf/0.1/>\n",
    "PREFIX dbp: <http://dbpedia.org/property/>\n",
    "PREFIX dbr: <http://dbpedia.org/resource/>\n",
    "\n",
    "SELECT DISTINCT\n",
    " *\n",
    "WHERE {\n",
    "  ?s a foaf:Person .\n",
    "  ?s dbp:birthPlace dbr:Pisa\n",
    "}\n",
    "LIMIT 10\n",
    "\n",
    "```"
   ]
  },
  {
   "cell_type": "markdown",
   "id": "76808f4e",
   "metadata": {},
   "source": [
    "... with their deathplaces"
   ]
  },
  {
   "cell_type": "markdown",
   "id": "2f07d588",
   "metadata": {},
   "source": [
    "```sparql\n",
    "PREFIX foaf: <http://xmlns.com/foaf/0.1/>\n",
    "PREFIX dbp: <http://dbpedia.org/property/>\n",
    "PREFIX dbr: <http://dbpedia.org/resource/>\n",
    "PREFIX dbo: <http://dbpedia.org/ontology/>\n",
    "\n",
    "\n",
    "SELECT DISTINCT *\n",
    "WHERE {\n",
    "  ?s a foaf:Person .\n",
    "  ?s dbp:birthPlace dbr:Pisa .\n",
    "  ?s dbp:deathPlace ?death_place\n",
    "}\n",
    "LIMIT 10\n",
    "```"
   ]
  },
  {
   "cell_type": "markdown",
   "id": "a829eca8",
   "metadata": {
    "slideshow": {
     "slide_type": "subslide"
    }
   },
   "source": [
    "----\n",
    "\n",
    "If deathplace is in UK"
   ]
  },
  {
   "cell_type": "markdown",
   "id": "0577f3d5",
   "metadata": {},
   "source": [
    "```sparql\n",
    "PREFIX foaf: <http://xmlns.com/foaf/0.1/>\n",
    "PREFIX dbp: <http://dbpedia.org/property/>\n",
    "PREFIX dbr: <http://dbpedia.org/resource/>\n",
    "PREFIX dbo: <http://dbpedia.org/ontology/>\n",
    "\n",
    "SELECT DISTINCT * WHERE {\n",
    "  ?s a foaf:Person .\n",
    "  ?s dbp:birthPlace dbr:Rome .\n",
    "  ?s dbp:deathPlace ?deathPlace .\n",
    "  ?deathPlace dbo:country dbr:United_Kingdom\n",
    "}\n",
    "LIMIT 50\n",
    "\n",
    "```"
   ]
  },
  {
   "cell_type": "markdown",
   "id": "f494da60",
   "metadata": {
    "slideshow": {
     "slide_type": "subslide"
    }
   },
   "source": [
    "----\n",
    "\n",
    "We can extend the search to every person\n",
    "born in Italy and dead in UK:\n",
    "\n",
    "- replacing `dbr:Rome` with `?birth_place`\n",
    "- restricting `?birth_place` to `dbr:Italy`"
   ]
  },
  {
   "cell_type": "markdown",
   "id": "c8002759",
   "metadata": {},
   "source": [
    "```sparql\n",
    "PREFIX foaf: <http://xmlns.com/foaf/0.1/>\n",
    "PREFIX dbp: <http://dbpedia.org/property/>\n",
    "PREFIX dbr: <http://dbpedia.org/resource/>\n",
    "PREFIX dbo: <http://dbpedia.org/ontology/>\n",
    "\n",
    "SELECT DISTINCT *\n",
    "WHERE {\n",
    "  ?s a foaf:Person .\n",
    "  ?s dbp:birthPlace ?birth_place .\n",
    "  ?s dbp:deathPlace ?deathPlace .\n",
    "\n",
    "  ?deathPlace dbo:country dbr:United_Kingdom .\n",
    "  ?birth_place dbo:country dbr:Italy\n",
    "}\n",
    "LIMIT 50\n",
    "```"
   ]
  },
  {
   "cell_type": "markdown",
   "id": "5cdaa048",
   "metadata": {
    "slideshow": {
     "slide_type": "subslide"
    }
   },
   "source": [
    "----\n",
    "\n",
    "There's no theoretical ;) limit to the inference, for example\n",
    "we could require that the birthplace of that\n",
    "person should match the one of a Pope."
   ]
  },
  {
   "cell_type": "markdown",
   "id": "ed146041",
   "metadata": {},
   "source": [
    "```sparql\n",
    "PREFIX foaf: <http://xmlns.com/foaf/0.1/>\n",
    "PREFIX dbp: <http://dbpedia.org/property/>\n",
    "PREFIX dbr: <http://dbpedia.org/resource/>\n",
    "PREFIX dbo: <http://dbpedia.org/ontology/>\n",
    "PREFIX rdf: <http://www.w3.org/1999/02/22-rdf-syntax-ns#>\n",
    "\n",
    "SELECT DISTINCT * WHERE {\n",
    "  ?s a foaf:Person .\n",
    "  ?s dbp:birthPlace ?birth_place .\n",
    "  ?birth_place dbo:country dbr:Italy .\n",
    "  ?s dbp:deathPlace ?death_place .\n",
    "  ?death_place dbo:country dbr:France .\n",
    "\n",
    "  ?pope rdf:type dbo:Pope .\n",
    "  ?pope dbp:birthPlace ?birth_place .  # relation with the birth_place\n",
    "}\n",
    "LIMIT 50\n",
    "```"
   ]
  },
  {
   "cell_type": "markdown",
   "id": "4e4a3411",
   "metadata": {
    "slideshow": {
     "slide_type": "subslide"
    }
   },
   "source": [
    "----\n",
    "\n",
    "Shortening sparql queries"
   ]
  },
  {
   "cell_type": "markdown",
   "id": "794b5a22",
   "metadata": {},
   "source": [
    "```sparql\n",
    "PREFIX foaf: <http://xmlns.com/foaf/0.1/>\n",
    "PREFIX dbp: <http://dbpedia.org/property/>\n",
    "PREFIX dbr: <http://dbpedia.org/resource/>\n",
    "PREFIX dbo: <http://dbpedia.org/ontology/>\n",
    "PREFIX rdf: <http://www.w3.org/1999/02/22-rdf-syntax-ns#>\n",
    "\n",
    "SELECT DISTINCT * WHERE {\n",
    "  ?s a foaf:Person ;\n",
    "     dbp:birthPlace ?birth_place ;\n",
    "     dbp:deathPlace ?death_place .\n",
    "  ?birth_place dbo:country dbr:Italy .\n",
    "  ?death_place dbo:country dbr:France .\n",
    "\n",
    "  ?pope rdf:type dbo:Pope ;\n",
    "        dbp:birthPlace ?birth_place .  # relation with the birth_place\n",
    "}\n",
    "LIMIT 50\n",
    "```"
   ]
  },
  {
   "cell_type": "markdown",
   "id": "7fa4be77",
   "metadata": {},
   "source": [
    "## Closing question\n",
    "\n",
    "If you ask, should I rewrite all my data in RDF?\n",
    "NO :) Let's see how JSON-LD can help us."
   ]
  }
 ],
 "metadata": {},
 "nbformat": 4,
 "nbformat_minor": 5
}
