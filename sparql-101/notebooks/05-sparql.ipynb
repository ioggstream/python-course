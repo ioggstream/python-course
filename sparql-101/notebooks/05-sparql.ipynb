{
 "cells": [
  {
   "cell_type": "markdown",
   "id": "40ede1bc",
   "metadata": {},
   "source": [
    "# SparQL 101\n",
    "\n",
    "## Agenda\n",
    "\n",
    "- Storing and retrieving triples\n",
    "\n",
    "*Beware*: commands contain small typos. You must fix them to properly complete the course!"
   ]
  },
  {
   "cell_type": "markdown",
   "id": "acc4d3fc",
   "metadata": {
    "slideshow": {
     "slide_type": "slide"
    }
   },
   "source": [
    "---\n",
    "\n",
    "Prerequisites:\n",
    "\n",
    "- json, yaml, xmlschema\n",
    "- HTTP, OpenAPI 3\n",
    "- SQL and database hints"
   ]
  },
  {
   "cell_type": "markdown",
   "id": "37128d85",
   "metadata": {
    "slideshow": {
     "slide_type": "slide"
    }
   },
   "source": [
    "---\n",
    "\n",
    "## Querying graphs with SparQL\n",
    "\n",
    "An RDF graph is an (unordered) set of triples.\n",
    "\n",
    "Each triple consists of a `subject`, `predicate`, `object`.\n",
    "\n",
    "SparQL is a query language for RDF graphs."
   ]
  },
  {
   "cell_type": "markdown",
   "id": "b3e3e813",
   "metadata": {
    "slideshow": {
     "slide_type": "subslide"
    }
   },
   "source": [
    "----\n",
    "\n",
    "A sparql query retrieves all entries\n",
    "matching one or more sentences"
   ]
  },
  {
   "cell_type": "code",
   "execution_count": null,
   "id": "1c8274a4",
   "metadata": {
    "attributes": {
     "classes": [
      "raw"
     ],
     "id": ""
    }
   },
   "outputs": [],
   "source": [
    "SELECT *\n",
    "WHERE {\n",
    "  ?subject ?predicate ?object .\n",
    "  # ... more sentences ...\n",
    "}"
   ]
  },
  {
   "cell_type": "markdown",
   "id": "2d806b46",
   "metadata": {},
   "source": [
    "This workshop provides a non-exhaustive introduction to SparQL."
   ]
  },
  {
   "cell_type": "markdown",
   "id": "14fe5e41",
   "metadata": {
    "slideshow": {
     "slide_type": "subslide"
    }
   },
   "source": [
    "----\n",
    "\n",
    "Open [sample.ttl](sample.ttl) in another tab\n",
    "and see its content."
   ]
  },
  {
   "cell_type": "code",
   "execution_count": null,
   "id": "34fe870d",
   "metadata": {},
   "outputs": [],
   "source": [
    "from rdflib import Graph\n",
    "g = Graph()\n",
    "g.parse(\"sample.ttl\", format=\"text/turtle\")"
   ]
  },
  {
   "cell_type": "markdown",
   "id": "0c772167",
   "metadata": {},
   "source": [
    "Use our utility function to print the graph."
   ]
  },
  {
   "cell_type": "code",
   "execution_count": null,
   "id": "e83e879e",
   "metadata": {},
   "outputs": [],
   "source": [
    "from tools import plot_graph\n",
    "plot_graph(g, label_property=FOAF.name)"
   ]
  },
  {
   "cell_type": "markdown",
   "id": "fc073d21",
   "metadata": {},
   "source": [
    "List all entries"
   ]
  },
  {
   "cell_type": "code",
   "execution_count": null,
   "id": "74b67dca",
   "metadata": {},
   "outputs": [],
   "source": [
    "q = \"\"\"\n",
    "SELECT *\n",
    "WHERE {\n",
    "  ?subject ?predicate ?object .\n",
    "}\n",
    "LIMIT 2\n",
    "\"\"\"\n",
    "result = g.query(q)\n",
    "[r.asdict() for r in result]"
   ]
  },
  {
   "cell_type": "markdown",
   "id": "70cb60b5",
   "metadata": {},
   "source": [
    "Exercise:\n",
    "\n",
    "- Remove the `LIMIT` clause.\n",
    "  How many triples are in the graph?"
   ]
  },
  {
   "cell_type": "code",
   "execution_count": null,
   "id": "e0290141",
   "metadata": {},
   "outputs": [],
   "source": [
    "# Use this cell for the exercise.\n",
    "\n",
    "# You can use variable names.\n",
    "for r in result:\n",
    "    print(r.subject, r.predicate, r.object, sep=\"\\t\")\n"
   ]
  },
  {
   "cell_type": "markdown",
   "id": "157f097b",
   "metadata": {},
   "source": [
    "- Replace `?subject` with `?foo`:\n",
    "  what happens?"
   ]
  },
  {
   "cell_type": "markdown",
   "id": "951e3e6d",
   "metadata": {
    "slideshow": {
     "slide_type": "subslide"
    }
   },
   "source": [
    "----\n",
    "\n",
    "\n",
    "SparQL can correlate\n",
    "entries using semantically defined\n",
    "vocabularies such as FOAF.\n",
    "\n",
    ":warning: The `PREFIX` statement in a sparql query\n",
    "must not have a trailing dot, because it is not a sentence.\n",
    "This is different from the `@prefix` statement\n",
    "in turtle."
   ]
  },
  {
   "cell_type": "code",
   "execution_count": null,
   "id": "479d2fe1",
   "metadata": {},
   "outputs": [],
   "source": [
    "q = \"\"\"\n",
    "PREFIX foaf:  <http://xmlns.com/foaf/0.1/>\n",
    "\n",
    "SELECT * WHERE {\n",
    "  ?s foaf:name ?o .\n",
    "}\n",
    "\"\"\"\n",
    "\n",
    "result = g.query(q)\n",
    "[r.asdict() for r in result]"
   ]
  },
  {
   "cell_type": "markdown",
   "id": "a1aeafa9",
   "metadata": {},
   "source": [
    "In this case `foaf:name` has a very specific meaning.\n",
    "You don't need to create indexes in your database\n",
    "to search for specific predicates.\n",
    "\n",
    "Exercise:\n",
    "\n",
    "- What happens if you add a dot at the end of the `PREFIX` statement\n",
    "  in the above query?"
   ]
  },
  {
   "cell_type": "markdown",
   "id": "d27f8e21",
   "metadata": {
    "slideshow": {
     "slide_type": "subslide"
    }
   },
   "source": [
    "----\n",
    "\n",
    "Graph databases have an inference engine that can be used\n",
    "to process complex queries."
   ]
  },
  {
   "cell_type": "code",
   "execution_count": null,
   "id": "54690c66",
   "metadata": {},
   "outputs": [],
   "source": [
    "q = \"\"\"\n",
    "PREFIX foaf:  <http://xmlns.com/foaf/0.1/>\n",
    "\n",
    "SELECT *\n",
    "WHERE {\n",
    "  ?s a foaf:Person  .\n",
    "  ?s foaf:knows ?o  .\n",
    "}\n",
    "\"\"\"\n",
    "\n",
    "result = g.query(q)\n",
    "[r.asdict() for r in result]"
   ]
  },
  {
   "cell_type": "markdown",
   "id": "ac461015",
   "metadata": {},
   "source": [
    "The `*` operator matches a predicate\n",
    "0 or more times.\n",
    "This allows to find all\n",
    "the friends' network of a person.\n",
    "\n",
    "Exercise:\n",
    "\n",
    "- modify the above query replacing `foaf:knows` with `foaf:knows*`\n",
    "  and see what happens.\n",
    "\n",
    "SparQL supports GROUP BY and ORDER BY clauses."
   ]
  },
  {
   "cell_type": "code",
   "execution_count": null,
   "id": "322fdefb",
   "metadata": {},
   "outputs": [],
   "source": [
    "q = \"\"\"\n",
    "PREFIX foaf:  <http://xmlns.com/foaf/0.1/>\n",
    "\n",
    "SELECT DISTINCT\n",
    "  ?s\n",
    "  (GROUP_CONCAT(?o; separator=\", \") AS ?friends)\n",
    "WHERE {\n",
    "  ?s\n",
    "    a foaf:Person ;\n",
    "    foaf:knows* ?o\n",
    "  .\n",
    "}\n",
    "GROUP BY ?s\n",
    "\"\"\"\n",
    "result = g.query(q)\n",
    "{str(r.s): {\"network\": str(r.friends) } for r in result}"
   ]
  },
  {
   "cell_type": "markdown",
   "id": "b8d5c5c6",
   "metadata": {
    "slideshow": {
     "slide_type": "subslide"
    }
   },
   "source": [
    "----\n",
    "\n",
    "Using multiple lines we can infer things\n",
    "such as friend-of-a-friend emails."
   ]
  },
  {
   "cell_type": "code",
   "execution_count": null,
   "id": "7ee837c4",
   "metadata": {},
   "outputs": [],
   "source": [
    "q = \"\"\"\n",
    "PREFIX foaf:  <http://xmlns.com/foaf/0.1/>\n",
    "\n",
    "SELECT DISTINCT\n",
    "  ?mail1 ?mail3\n",
    "WHERE {\n",
    "  ?user1 foaf:knows ?user2\n",
    "  .\n",
    "  ?user2 foaf:knows ?user3\n",
    "  .\n",
    "  ?user1 foaf:mbox ?mail1\n",
    "  .\n",
    "  ?user3 foaf:mbox ?mail3\n",
    "}\n",
    "\"\"\"\n",
    "\n",
    "result = g.query(q)\n",
    "[r.asdict() for r in result]"
   ]
  },
  {
   "cell_type": "markdown",
   "id": "dc18cda9",
   "metadata": {},
   "source": [
    "Since we are not interested in the `user2` variable,\n",
    "we can simplify the query specifying\n",
    "a path of predicates."
   ]
  },
  {
   "cell_type": "code",
   "execution_count": null,
   "id": "de990d4e",
   "metadata": {},
   "outputs": [],
   "source": [
    "q = \"\"\"\n",
    "PREFIX foaf:  <http://xmlns.com/foaf/0.1/>\n",
    "\n",
    "SELECT DISTINCT\n",
    "  ?mail1 ?mail3\n",
    "WHERE {\n",
    "  ?user1 foaf:knows/foaf:knows ?user3\n",
    "  .\n",
    "  ?user1 foaf:mbox ?mail1\n",
    "  .\n",
    "  ?user3 foaf:mbox ?mail3\n",
    "}\n",
    "\"\"\"\n",
    "result = g.query(q)\n",
    "{str(r.mail1): str(r.mail3) for r in result}"
   ]
  },
  {
   "cell_type": "markdown",
   "id": "c27d1551",
   "metadata": {
    "slideshow": {
     "slide_type": "subslide"
    }
   },
   "source": [
    "----\n",
    "\n",
    "Note that the query describes each relation\n",
    "ignoring the way data is stored."
   ]
  },
  {
   "cell_type": "markdown",
   "id": "1d77081b",
   "metadata": {
    "slideshow": {
     "slide_type": "slide"
    }
   },
   "source": [
    "---\n",
    "\n",
    "# Querying DBPedia\n",
    "\n",
    "[DBPedia](https://dbpedia.org/sparql) is a graph database with a lot of data inside.\n",
    "\n",
    "We can use it to learn sparql.\n",
    "\n",
    "- list concepts"
   ]
  },
  {
   "cell_type": "code",
   "execution_count": null,
   "id": "7b5e38d4",
   "metadata": {
    "attributes": {
     "classes": [
      "text"
     ],
     "id": ""
    }
   },
   "outputs": [],
   "source": [
    "SELECT DISTINCT\n",
    "  ?Concept\n",
    "WHERE {\n",
    "  [] a ?Concept\n",
    "}\n",
    "LIMIT 20"
   ]
  },
  {
   "cell_type": "markdown",
   "id": "4b5d54cc",
   "metadata": {
    "slideshow": {
     "slide_type": "subslide"
    }
   },
   "source": [
    "----\n",
    "\n",
    "Now we want to list all `Person`"
   ]
  },
  {
   "cell_type": "code",
   "execution_count": null,
   "id": "c2463a63",
   "metadata": {
    "attributes": {
     "classes": [
      "text"
     ],
     "id": ""
    }
   },
   "outputs": [],
   "source": [
    "PREFIX foaf: <http://xmlns.com/foaf/0.1/>\n",
    "\n",
    "SELECT DISTINCT\n",
    "  *\n",
    "WHERE {\n",
    "  ?s a foaf:Person\n",
    "}\n",
    "LIMIT 10"
   ]
  },
  {
   "cell_type": "markdown",
   "id": "bb855b9c",
   "metadata": {
    "slideshow": {
     "slide_type": "subslide"
    }
   },
   "source": [
    "----\n",
    "\n",
    "All `Person`s born in Pisa"
   ]
  },
  {
   "cell_type": "code",
   "execution_count": null,
   "id": "e1e82b61",
   "metadata": {
    "attributes": {
     "classes": [
      "sparql"
     ],
     "id": ""
    }
   },
   "outputs": [],
   "source": [
    "PREFIX foaf: <http://xmlns.com/foaf/0.1/>\n",
    "PREFIX dbp: <http://dbpedia.org/property/>\n",
    "PREFIX dbr: <http://dbpedia.org/resource/>\n",
    "\n",
    "SELECT DISTINCT\n",
    " *\n",
    "WHERE {\n",
    "  ?s a foaf:Person .\n",
    "  ?s dbp:birthPlace dbr:Pisa\n",
    "}\n",
    "LIMIT 10\n"
   ]
  },
  {
   "cell_type": "markdown",
   "id": "dd006039",
   "metadata": {},
   "source": [
    "... with their deathplaces"
   ]
  },
  {
   "cell_type": "code",
   "execution_count": null,
   "id": "8d068ea8",
   "metadata": {
    "attributes": {
     "classes": [
      "t"
     ],
     "id": ""
    }
   },
   "outputs": [],
   "source": [
    "@prefix foaf: <http://xmlns.com/foaf/0.1/>\n",
    "@prefix dbp: <http://dbpedia.org/property/>\n",
    "@prefix dbr: <http://dbpedia.org/resource/>\n",
    "@prefix dbo: <http://dbpedia.org/ontology/>\n",
    "\n",
    "\n",
    "SELECT DISTINCT *\n",
    "WHERE {\n",
    "  ?s a foaf:Person .\n",
    "  ?s dbp:birthPlace dbr:Pisa .\n",
    "  ?s dbp:deathPlace ?death_place\n",
    "}\n",
    "LIMIT 10"
   ]
  },
  {
   "cell_type": "markdown",
   "id": "0f163307",
   "metadata": {
    "slideshow": {
     "slide_type": "subslide"
    }
   },
   "source": [
    "----\n",
    "\n",
    "If deathplace is in UK"
   ]
  },
  {
   "cell_type": "code",
   "execution_count": null,
   "id": "337b5fd3",
   "metadata": {
    "attributes": {
     "classes": [
      "text"
     ],
     "id": ""
    }
   },
   "outputs": [],
   "source": [
    "\n",
    "@prefix foaf: <http://xmlns.com/foaf/0.1/>\n",
    "@prefix dbp: <http://dbpedia.org/property/>\n",
    "@prefix dbr: <http://dbpedia.org/resource/>\n",
    "@prefix dbo: <http://dbpedia.org/ontology/>\n",
    "\n",
    "SELECT DISTINCT * WHERE {\n",
    "  ?s a foaf:Person .\n",
    "  ?s dbp:birthPlace dbr:Rome .\n",
    "  ?s dbp:deathPlace ?deathPlace .\n",
    "  ?deathPlace dbo:country dbr:United_Kingdom\n",
    "}\n",
    "LIMIT 50\n"
   ]
  },
  {
   "cell_type": "markdown",
   "id": "cca310d0",
   "metadata": {
    "slideshow": {
     "slide_type": "subslide"
    }
   },
   "source": [
    "----\n",
    "\n",
    "We can extend the search to every person\n",
    "born in Italy and dead in UK:\n",
    "\n",
    "- replacing `dbr:Rome` with `?birth_place`\n",
    "- restricting `?birth_place` to `dbr:Italy`"
   ]
  },
  {
   "cell_type": "code",
   "execution_count": null,
   "id": "7d4284f8",
   "metadata": {
    "attributes": {
     "classes": [
      "sparql"
     ],
     "id": ""
    }
   },
   "outputs": [],
   "source": [
    "@prefix foaf: <http://xmlns.com/foaf/0.1/> .\n",
    "@prefix dbp: <http://dbpedia.org/property/> .\n",
    "@prefix dbr: <http://dbpedia.org/resource/> .\n",
    "@prefix dbo: <http://dbpedia.org/ontology/> .\n",
    "\n",
    "SELECT DISTINCT *\n",
    "WHERE {\n",
    "  ?s a foaf:Person .\n",
    "  ?s dbp:birthPlace ?birth_place .\n",
    "  ?s dbp:deathPlace ?deathPlace .\n",
    "\n",
    "  ?deathPlace dbo:country dbr:United_Kingdom .\n",
    "  ?birth_place dbo:country dbr:Italy\n",
    "}\n",
    "LIMIT 50"
   ]
  },
  {
   "cell_type": "markdown",
   "id": "15e41e2d",
   "metadata": {
    "slideshow": {
     "slide_type": "subslide"
    }
   },
   "source": [
    "----\n",
    "\n",
    "There's no theoretical ;) limit to the inference, for example\n",
    "we could require that the birthplace of that\n",
    "person should match the one of a Pope."
   ]
  },
  {
   "cell_type": "code",
   "execution_count": null,
   "id": "f1a9e859",
   "metadata": {
    "attributes": {
     "classes": [
      "sparql"
     ],
     "id": ""
    }
   },
   "outputs": [],
   "source": [
    "@prefix foaf: <http://xmlns.com/foaf/0.1/> .\n",
    "@prefix dbp: <http://dbpedia.org/property/> .\n",
    "@prefix dbr: <http://dbpedia.org/resource/> .\n",
    "@prefix dbo: <http://dbpedia.org/ontology/> .\n",
    "@prefix rdf: <http://www.w3.org/1999/02/22-rdf-syntax-ns#> .\n",
    "\n",
    "SELECT DISTINCT * WHERE {\n",
    "  ?s a foaf:Person .\n",
    "  ?s dbp:birthPlace ?birth_place .\n",
    "  ?birth_place dbo:country dbr:Italy .\n",
    "  ?s dbp:deathPlace ?death_place .\n",
    "  ?death_place dbo:country dbr:France .\n",
    "\n",
    "  ?pope rdf:type dbo:Pope .\n",
    "  ?pope dbp:birthPlace ?birth_place .  # relation with the birth_place\n",
    "}\n",
    "LIMIT 50"
   ]
  },
  {
   "cell_type": "markdown",
   "id": "2a8ed48a",
   "metadata": {
    "slideshow": {
     "slide_type": "subslide"
    }
   },
   "source": [
    "----\n",
    "\n",
    "Shortening sparql queries"
   ]
  },
  {
   "cell_type": "code",
   "execution_count": null,
   "id": "1fccc384",
   "metadata": {
    "attributes": {
     "classes": [
      "sparql"
     ],
     "id": ""
    }
   },
   "outputs": [],
   "source": [
    "@prefix foaf: <http://xmlns.com/foaf/0.1/> .\n",
    "@prefix dbp: <http://dbpedia.org/property/> .\n",
    "@prefix dbr: <http://dbpedia.org/resource/> .\n",
    "@prefix dbo: <http://dbpedia.org/ontology/> .\n",
    "@prefix rdf: <http://www.w3.org/1999/02/22-rdf-syntax-ns#> .\n",
    "\n",
    "SELECT DISTINCT * WHERE {\n",
    "  ?s a foaf:Person ;\n",
    "     dbp:birthPlace ?birth_place ;\n",
    "     dbp:deathPlace ?death_place .\n",
    "  ?birth_place dbo:country dbr:Italy .\n",
    "  ?death_place dbo:country dbr:France .\n",
    "\n",
    "  ?pope rdf:type dbo:Pope ;\n",
    "        dbp:birthPlace ?birth_place .  # relation with the birth_place\n",
    "}\n",
    "LIMIT 50"
   ]
  }
 ],
 "metadata": {},
 "nbformat": 4,
 "nbformat_minor": 5
}
