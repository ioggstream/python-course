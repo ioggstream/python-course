{
 "cells": [
  {
   "cell_type": "markdown",
   "id": "7b517621",
   "metadata": {},
   "source": [
    "# Agenda\n",
    "\n",
    "- Enriching data with external knowledge\n",
    "\n",
    "\n",
    "## A real-life example: kubernetes infrastructure\n",
    "\n",
    "Kubernetes is a resource orchestrator where you\n",
    "describe resources in terms of\n",
    "container images, ram, cpu, network."
   ]
  },
  {
   "cell_type": "code",
   "execution_count": null,
   "id": "ec7ca5ef",
   "metadata": {},
   "outputs": [],
   "source": [
    "!cat guestbook-all-in-one.yaml"
   ]
  },
  {
   "cell_type": "markdown",
   "id": "07c5d59d",
   "metadata": {},
   "source": [
    "[d3fendtools](https://github.com/par-tec/d3fend-tools)\n",
    "converts a Kubernetes YAML file to an RDF graph.\n",
    "\n",
    "Let's load one."
   ]
  },
  {
   "cell_type": "code",
   "execution_count": null,
   "id": "0d4645cc",
   "metadata": {},
   "outputs": [],
   "source": [
    "from rdflib import Dataset\n",
    "d = Dataset(store='Oxigraph', default_union=True)\n",
    "kube = d.graph(\"urn:my_app\")\n",
    "kube.parse(\"guestbook.ttl\", format=\"turtle\")"
   ]
  },
  {
   "cell_type": "markdown",
   "id": "8d507af4",
   "metadata": {},
   "source": [
    "Exercise: display the graph using `tools.plot_graph`"
   ]
  },
  {
   "cell_type": "markdown",
   "id": "e64dc691",
   "metadata": {},
   "source": [
    "Double-click for solution :)\n",
    "<!--\n",
    "import tools\n",
    "tools.plot_graph(d.graph(\"urn:my_app\"))\n",
    "-->"
   ]
  },
  {
   "cell_type": "markdown",
   "id": "663a3452",
   "metadata": {},
   "source": [
    "## D3FEND knowledge graph\n",
    "\n",
    "D3FEND is a cybersecurity knowledge graph\n",
    "containing a taxonomy of:\n",
    "\n",
    "- digital artifacts (e.g., Server, Database, etc.);\n",
    "- defensive techniques (e.g., Multifactor Authentication, Network Isolation, File Analysis, etc.);\n",
    "- offensive techniques (e.g., Phishing, Content Injection, etc.).\n",
    "\n",
    "Let's load the D3FEND graph."
   ]
  },
  {
   "cell_type": "code",
   "execution_count": null,
   "id": "2111d8df",
   "metadata": {},
   "outputs": [],
   "source": [
    "d.bind(\"d3f\", \"http://d3fend.mitre.org/ontologies/d3fend.owl#\")\n",
    "d3fend = d.graph(\"http://d3fend.mitre.org/ontologies/d3fend.owl\")\n",
    "d3fend.parse(\"d3fend.ttl\", format=\"ox-turtle\")"
   ]
  },
  {
   "cell_type": "markdown",
   "id": "f7b0ce73",
   "metadata": {},
   "source": [
    "Exercise:\n",
    "\n",
    "- list digital artifacts"
   ]
  },
  {
   "cell_type": "markdown",
   "id": "8baa626c",
   "metadata": {},
   "source": [
    "Double-click for solution :)\n",
    "<!--\n",
    "q = \"\"\"\n",
    "SELECT DISTINCT ?artifact\n",
    "WHERE {\n",
    "  ?artifact rdfs:subClassOf d3f:DigitalArtifact .\n",
    "}\n",
    "LIMIT 10\n",
    "\"\"\"\n",
    "result = d.query(q)\n",
    "list(result)\n",
    "-->"
   ]
  },
  {
   "cell_type": "markdown",
   "id": "3c6d516b",
   "metadata": {},
   "source": [
    "- use the `rdfs:subClassOf` predicate to list the\n",
    "subclasses of `d3f:Server`"
   ]
  },
  {
   "cell_type": "markdown",
   "id": "45b34b29",
   "metadata": {},
   "source": [
    "Double-click for solution :)\n",
    "<!--\n",
    "q = \"\"\"\n",
    "SELECT DISTINCT ?artifact\n",
    "WHERE {\n",
    "  ?artifact rdfs:subClassOf d3f:Server .\n",
    "}\n",
    "\"\"\"\n",
    "result = d.query(q)\n",
    "list(result)\n",
    "-->"
   ]
  },
  {
   "cell_type": "markdown",
   "id": "267464f0",
   "metadata": {},
   "source": [
    "Now we use `CONSTRUCT` to create a graph of the subclasses of `d3f:Server`"
   ]
  },
  {
   "cell_type": "markdown",
   "id": "f4b8fecd",
   "metadata": {},
   "source": [
    "Double-click for solution :)\n",
    "<!--\n",
    "q = \"\"\"\n",
    "CONSTRUCT {\n",
    "  ?artifact rdfs:subClassOf ?parent .\n",
    "}\n",
    "WHERE {\n",
    "  ?artifact rdfs:subClassOf ?parent .\n",
    "  ?parent rdfs:subClassOf* d3f:Server .\n",
    "}\n",
    "\"\"\"\n",
    "servers = d.query(q).graph\n",
    "-->"
   ]
  },
  {
   "cell_type": "markdown",
   "id": "71bc7e0a",
   "metadata": {},
   "source": [
    "Exercise: display the graph of subclasses of `d3f:Server`"
   ]
  },
  {
   "cell_type": "markdown",
   "id": "c7505cdf",
   "metadata": {},
   "source": [
    "Double-click for solution :)\n",
    "<!--\n",
    "import tools\n",
    "tools.plot_graph(servers)\n",
    "-->"
   ]
  },
  {
   "cell_type": "markdown",
   "id": "692dce70",
   "metadata": {},
   "source": [
    "- list defensive techniques that are subclasses with `d3f:FileAnalysis`\n",
    "  together with their `d3f:definition`s"
   ]
  },
  {
   "cell_type": "markdown",
   "id": "eac676d7",
   "metadata": {},
   "source": [
    "Double-click for solution :)\n",
    "<!--\n",
    "q = \"\"\"\n",
    "SELECT DISTINCT\n",
    "    ?technique\n",
    "    ?definition\n",
    "WHERE {\n",
    "  ?technique rdfs:subClassOf* d3f:FileAnalysis ;\n",
    "    d3f:definition ?definition .\n",
    "}\n",
    "\"\"\"\n",
    "\n",
    "for r in d.query(q):\n",
    "    print(r.technique, r.definition)\n",
    "-->"
   ]
  },
  {
   "cell_type": "markdown",
   "id": "ec999ecd",
   "metadata": {},
   "source": [
    "Now, let's list the defensive techniques associated with the `d3f:Server` artifact."
   ]
  },
  {
   "cell_type": "code",
   "execution_count": null,
   "id": "356aac61",
   "metadata": {},
   "outputs": [],
   "source": [
    "q = \"\"\"\n",
    "SELECT DISTINCT\n",
    "    ?technique\n",
    "    ?artifact\n",
    "WHERE {\n",
    "  ?technique rdfs:subClassOf* d3f:DefensiveTechnique .\n",
    "  ?artifact rdfs:subClassOf* d3f:Server .\n",
    "\n",
    "  ?technique ?protects ?artifact .\n",
    "}\n",
    "\"\"\"\n",
    "result = d.query(q)\n",
    "for r in result:\n",
    "    print(f\"{r.technique} protects {r.artifact}\")"
   ]
  },
  {
   "cell_type": "markdown",
   "id": "1cae3b18",
   "metadata": {},
   "source": [
    "Exercise:\n",
    "\n",
    "- show the `rdfs:label` of the `?technique`"
   ]
  },
  {
   "cell_type": "markdown",
   "id": "07e23ef1",
   "metadata": {},
   "source": [
    "Double-click for solution :)\n",
    "<!--\n",
    "q = \"\"\"\n",
    "SELECT DISTINCT\n",
    "    ?technique_label\n",
    "    ?artifact\n",
    "WHERE {\n",
    "  ?artifact rdfs:subClassOf* d3f:Server .\n",
    "\n",
    "  ?technique rdfs:subClassOf* d3f:DefensiveTechnique .\n",
    "  ?technique ?protects ?artifact .\n",
    "  ?technique rdfs:label ?technique_label .\n",
    "}\n",
    "\"\"\"\n",
    "result = d.query(q)\n",
    "for r in result:\n",
    "    print(f\"{r.technique_label} protects {r.artifact}\")\n",
    "-->"
   ]
  },
  {
   "cell_type": "markdown",
   "id": "23da73a2",
   "metadata": {},
   "source": [
    "- replace `d3f:DefensiveTechnique` with `d3f:OffensiveTechnique`\n",
    "  and list offensive techniques that affect the `d3f:Server` artifact"
   ]
  },
  {
   "cell_type": "markdown",
   "id": "6bd8ac48",
   "metadata": {},
   "source": [
    "Double-click for solution :)\n",
    "<!--\n",
    "q = \"\"\"\n",
    "SELECT DISTINCT\n",
    "    ?technique_label\n",
    "    ?artifact\n",
    "WHERE {\n",
    "  ?artifact rdfs:subClassOf* d3f:Server .\n",
    "\n",
    "  ?technique rdfs:subClassOf* d3f:OffensiveTechnique ;\n",
    "    rdfs:label ?technique_label ;\n",
    "    ?protects ?artifact\n",
    "  .\n",
    "}\n",
    "\"\"\"\n",
    "result = d.query(q)\n",
    "for r in result:\n",
    "    print(f\"{r.technique_label} attacks {r.artifact}\")\n",
    "-->"
   ]
  },
  {
   "cell_type": "markdown",
   "id": "8e344e0d",
   "metadata": {},
   "source": [
    "## Packing it all together\n",
    "\n",
    "Let's look at our dataset now:\n",
    "\n",
    "- one contains our application infrastructure;\n",
    "- one contains cybersecurity knowledge, including\n",
    "  artifacts, offensive and defensive techniques."
   ]
  },
  {
   "cell_type": "markdown",
   "id": "0eabd8b1",
   "metadata": {},
   "source": [
    "```mermaid\n",
    "graph LR\n",
    "\n",
    "subgraph dataset\n",
    "  subgraph d3fend\n",
    "  d3f:Credential -.-> d3f:DigitalArtifact\n",
    "  d3f:WebServer -.-> d3f:Server -.-> d3f:DigitalArtifact\n",
    "  d3f:CredentialRotation([d3f:CredentialRotation]) ==>|defends| d3f:Credential\n",
    "  d3f:UnsecuredCredential>d3f:UnsecuredCredential] ==>|attacks| d3f:Credential\n",
    "  end\n",
    "\n",
    "  subgraph kube\n",
    "  db_password -.->|a| k8s:Secret\n",
    "  app -.->|a| k8s:Deployment\n",
    "  end\n",
    "end\n",
    "```"
   ]
  },
  {
   "cell_type": "markdown",
   "id": "846b493c",
   "metadata": {},
   "source": [
    "The kube graph contains not only the Kubernetes resources..."
   ]
  },
  {
   "cell_type": "code",
   "execution_count": null,
   "id": "79bf05a4",
   "metadata": {},
   "outputs": [],
   "source": [
    "q = \"\"\"\n",
    "SELECT DISTINCT\n",
    "  ?kube\n",
    "WHERE {\n",
    "  # Kubernetes resources.\n",
    "  ?kube rdfs:subClassOf* k8s:Kind .\n",
    "}\n",
    "\"\"\"\n",
    "[str(x[0]) for x in kube.query(q)]"
   ]
  },
  {
   "cell_type": "markdown",
   "id": "96c09c0f",
   "metadata": {},
   "source": [
    ".. but even links to the D3FEND graph."
   ]
  },
  {
   "cell_type": "code",
   "execution_count": null,
   "id": "b15f7199",
   "metadata": {},
   "outputs": [],
   "source": [
    "q = \"\"\"\n",
    "PREFIX k8s: <urn:k8s:>\n",
    "PREFIX d3f: <http://d3fend.mitre.org/ontologies/d3fend.owl#>\n",
    "PREFIX rdfs: <http://www.w3.org/2000/01/rdf-schema#>\n",
    "\n",
    "SELECT DISTINCT\n",
    "  ?kube\n",
    "  ?d3fend\n",
    "WHERE {\n",
    "  # Kubernetes resources.\n",
    "  GRAPH <urn:my_app> {\n",
    "    ?kube rdfs:subClassOf* k8s:Kind ;\n",
    "        rdfs:subClassOf ?d3fend\n",
    "    .\n",
    "  }\n",
    "\n",
    "  # D3FEND resources.\n",
    "  GRAPH <http://d3fend.mitre.org/ontologies/d3fend.owl>{\n",
    "    ?d3fend rdfs:subClassOf* d3f:DigitalArtifact .\n",
    "  }\n",
    "}\n",
    "\"\"\"\n",
    "for r in d.query(q):\n",
    "    print(\n",
    "      r.kube,\n",
    "      \"is a\",\n",
    "      # shorten using prefix\n",
    "      d.namespace_manager.curie(r.d3fend)\n",
    "    )"
   ]
  },
  {
   "cell_type": "markdown",
   "id": "7293084d",
   "metadata": {},
   "source": [
    "So we actually get links between our application\n",
    "objects and the d3fend knowledge base."
   ]
  },
  {
   "cell_type": "markdown",
   "id": "e57680d7",
   "metadata": {},
   "source": [
    "```mermaid\n",
    "graph LR\n",
    "\n",
    "subgraph dataset\n",
    "  subgraph d3fend\n",
    "  d3f:Credential -.-> d3f:DigitalArtifact\n",
    "  d3f:ContainerImage -.-> d3f:Server -.-> d3f:DigitalArtifact\n",
    "  d3f:CredentialRotation([d3f:CredentialRotation]) ==>|defends| d3f:Credential\n",
    "  d3f:UnsecuredCredential>d3f:UnsecuredCredential] ==>|attacks| d3f:Credential\n",
    "  d3f:Container\n",
    "  end\n",
    "\n",
    "  subgraph kube\n",
    "  db_password -.->|a| k8s:Secret\n",
    "  app -->|a| k8s:Deployment\n",
    "  end\n",
    "\n",
    "  k8s:Secret -.-> d3f:Credential\n",
    "  k8s:Deployment --> d3f:Container --> d3f:ContainerImage\n",
    "end\n",
    "```"
   ]
  },
  {
   "cell_type": "markdown",
   "id": "9df5f796",
   "metadata": {},
   "source": [
    "So we can ask for example\n",
    "the attack classes towards\n",
    "our components."
   ]
  },
  {
   "cell_type": "code",
   "execution_count": null,
   "id": "3c79293a",
   "metadata": {},
   "outputs": [],
   "source": [
    "attack_surface = d.query(\"\"\"\n",
    "SELECT DISTINCT\n",
    "  ?attack_label\n",
    "  ?affects\n",
    "  ?artifact\n",
    "  ?kube_resource\n",
    "WHERE {\n",
    "\n",
    "  ?kube_resource a ?kind .\n",
    "\n",
    "  # Get digital artifacts associated with Kubernetes resources.\n",
    "  ?kind rdfs:subClassOf* k8s:Kind,  .\n",
    "  ?kind rdfs:subClassOf* d3f:DigitalArtifact .\n",
    "  ?kind rdfs:subClassOf ?artifact .\n",
    "\n",
    "\n",
    "  ?attack\n",
    "    d3f:attack-id ?attack_id;\n",
    "    rdfs:label ?attack_label .\n",
    "\n",
    "  ?attack ?affects ?artifact .\n",
    "\n",
    "}\n",
    "\"\"\")\n",
    "\n",
    "for attack in sorted(attack_surface):\n",
    "    print(f\"{attack.attack_label}, \"\n",
    "          f\"{attack.affects.fragment} {attack.artifact.fragment} for {attack.kube_resource}\")\n"
   ]
  },
  {
   "cell_type": "markdown",
   "id": "049da5c6",
   "metadata": {},
   "source": [
    "Exercise:\n",
    "\n",
    "- simplify the query materializing the digital artifacts\n",
    "  associated with Kubernetes resources\n",
    "  directly at the level of the `?kube_resource`, e.g."
   ]
  },
  {
   "cell_type": "markdown",
   "id": "1b80bf61",
   "metadata": {},
   "source": [
    "```turtle\n",
    "# Original graph\n",
    "...\n",
    "k8s:Secret rdfs:subClassOf d3f:Credential ;\n",
    "  rdfs:subClassOf k8s:Kind .\n",
    "\n",
    "<:secret> a k8s:Secret .\n",
    "\n",
    "# Add this triple too\n",
    "<:secret> a d3f:Credential .\n",
    "```"
   ]
  },
  {
   "cell_type": "markdown",
   "id": "7482a8b0",
   "metadata": {},
   "source": [
    "## Summary\n",
    "\n",
    "That was the last lesson:\n",
    "you can mix and mingle all the information"
   ]
  }
 ],
 "metadata": {},
 "nbformat": 4,
 "nbformat_minor": 5
}
