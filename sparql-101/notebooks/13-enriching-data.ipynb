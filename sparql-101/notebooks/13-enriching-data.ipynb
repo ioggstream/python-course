{
 "cells": [
  {
   "cell_type": "markdown",
   "id": "d8777528",
   "metadata": {},
   "source": [
    "# Agenda\n",
    "\n",
    "- Enriching data with external knowledge\n",
    "\n",
    "\n",
    "## A real-life example: kubernetes infrastructure\n",
    "\n",
    "Kubernetes is a resource orchestrator where you\n",
    "describe resources in terms of\n",
    "container images, ram, cpu, network."
   ]
  },
  {
   "cell_type": "code",
   "execution_count": null,
   "id": "c4d73237",
   "metadata": {},
   "outputs": [],
   "source": [
    "!cat guestbook-all-in-one.yaml"
   ]
  },
  {
   "cell_type": "markdown",
   "id": "0747662e",
   "metadata": {},
   "source": [
    "[d3fendtools](https://github.com/par-tec/d3fend-tools)\n",
    "converts a Kubernetes YAML file to an RDF graph.\n",
    "\n",
    "Let's load one."
   ]
  },
  {
   "cell_type": "code",
   "execution_count": 1,
   "id": "006ccbf9",
   "metadata": {},
   "outputs": [
    {
     "data": {
      "text/plain": [
       "<Graph identifier=urn:my_app (<class 'rdflib.graph.Graph'>)>"
      ]
     },
     "execution_count": 1,
     "metadata": {},
     "output_type": "execute_result"
    }
   ],
   "source": [
    "from rdflib import Dataset\n",
    "d = Dataset(store='Oxigraph', default_union=True)\n",
    "kube = d.graph(\"urn:my_app\")\n",
    "kube.parse(\"guestbook.ttl\", format=\"turtle\")"
   ]
  },
  {
   "cell_type": "markdown",
   "id": "07fb45e3",
   "metadata": {},
   "source": [
    "Exercise: display the graph using `tools.plot_graph`"
   ]
  },
  {
   "cell_type": "code",
   "execution_count": 2,
   "id": "96dfaca4",
   "metadata": {},
   "outputs": [
    {
     "data": {
      "text/html": [
       "    <style>\n",
       "        .bk-notebook-logo {\n",
       "            display: block;\n",
       "            width: 20px;\n",
       "            height: 20px;\n",
       "            background-image: url(data:image/png;base64,iVBORw0KGgoAAAANSUhEUgAAABQAAAAUCAYAAACNiR0NAAAABHNCSVQICAgIfAhkiAAAAAlwSFlzAAALEgAACxIB0t1+/AAAABx0RVh0U29mdHdhcmUAQWRvYmUgRmlyZXdvcmtzIENTNui8sowAAAOkSURBVDiNjZRtaJVlGMd/1/08zzln5zjP1LWcU9N0NkN8m2CYjpgQYQXqSs0I84OLIC0hkEKoPtiH3gmKoiJDU7QpLgoLjLIQCpEsNJ1vqUOdO7ppbuec5+V+rj4ctwzd8IIbbi6u+8f1539dt3A78eXC7QizUF7gyV1fD1Yqg4JWz84yffhm0qkFqBogB9rM8tZdtwVsPUhWhGcFJngGeWrPzHm5oaMmkfEg1usvLFyc8jLRqDOMru7AyC8saQr7GG7f5fvDeH7Ej8CM66nIF+8yngt6HWaKh7k49Soy9nXurCi1o3qUbS3zWfrYeQDTB/Qj6kX6Ybhw4B+bOYoLKCC9H3Nu/leUTZ1JdRWkkn2ldcCamzrcf47KKXdAJllSlxAOkRgyHsGC/zRday5Qld9DyoM4/q/rUoy/CXh3jzOu3bHUVZeU+DEn8FInkPBFlu3+nW3Nw0mk6vCDiWg8CeJaxEwuHS3+z5RgY+YBR6V1Z1nxSOfoaPa4LASWxxdNp+VWTk7+4vzaou8v8PN+xo+KY2xsw6une2frhw05CTYOmQvsEhjhWjn0bmXPjpE1+kplmmkP3suftwTubK9Vq22qKmrBhpY4jvd5afdRA3wGjFAgcnTK2s4hY0/GPNIb0nErGMCRxWOOX64Z8RAC4oCXdklmEvcL8o0BfkNK4lUg9HTl+oPlQxdNo3Mg4Nv175e/1LDGzZen30MEjRUtmXSfiTVu1kK8W4txyV6BMKlbgk3lMwYCiusNy9fVfvvwMxv8Ynl6vxoByANLTWplvuj/nF9m2+PDtt1eiHPBr1oIfhCChQMBw6Aw0UulqTKZdfVvfG7VcfIqLG9bcldL/+pdWTLxLUy8Qq38heUIjh4XlzZxzQm19lLFlr8vdQ97rjZVOLf8nclzckbcD4wxXMidpX30sFd37Fv/GtwwhzhxGVAprjbg0gCAEeIgwCZyTV2Z1REEW8O4py0wsjeloKoMr6iCY6dP92H6Vw/oTyICIthibxjm/DfN9lVz8IqtqKYLUXfoKVMVQVVJOElGjrnnUt9T9wbgp8AyYKaGlqingHZU/uG2NTZSVqwHQTWkx9hxjkpWDaCg6Ckj5qebgBVbT3V3NNXMSiWSDdGV3hrtzla7J+duwPOToIg42ChPQOQjspnSlp1V+Gjdged7+8UN5CRAV7a5EdFNwCjEaBR27b3W890TE7g24NAP/mMDXRWrGoFPQI9ls/MWO2dWFAar/xcOIImbbpA3zgAAAABJRU5ErkJggg==);\n",
       "        }\n",
       "    </style>\n",
       "    <div>\n",
       "        <a href=\"https://bokeh.org\" target=\"_blank\" class=\"bk-notebook-logo\"></a>\n",
       "        <span id=\"c61a2572-7436-41b9-a0ab-bcfe1fd19a88\">Loading BokehJS ...</span>\n",
       "    </div>\n"
      ]
     },
     "metadata": {},
     "output_type": "display_data"
    },
    {
     "data": {
      "application/javascript": "'use strict';\n(function(root) {\n  function now() {\n    return new Date();\n  }\n\n  const force = true;\n\n  if (typeof root._bokeh_onload_callbacks === \"undefined\" || force === true) {\n    root._bokeh_onload_callbacks = [];\n    root._bokeh_is_loading = undefined;\n  }\n\nconst JS_MIME_TYPE = 'application/javascript';\n  const HTML_MIME_TYPE = 'text/html';\n  const EXEC_MIME_TYPE = 'application/vnd.bokehjs_exec.v0+json';\n  const CLASS_NAME = 'output_bokeh rendered_html';\n\n  /**\n   * Render data to the DOM node\n   */\n  function render(props, node) {\n    const script = document.createElement(\"script\");\n    node.appendChild(script);\n  }\n\n  /**\n   * Handle when an output is cleared or removed\n   */\n  function handleClearOutput(event, handle) {\n    function drop(id) {\n      const view = Bokeh.index.get_by_id(id)\n      if (view != null) {\n        view.model.document.clear()\n        Bokeh.index.delete(view)\n      }\n    }\n\n    const cell = handle.cell;\n\n    const id = cell.output_area._bokeh_element_id;\n    const server_id = cell.output_area._bokeh_server_id;\n\n    // Clean up Bokeh references\n    if (id != null) {\n      drop(id)\n    }\n\n    if (server_id !== undefined) {\n      // Clean up Bokeh references\n      const cmd_clean = \"from bokeh.io.state import curstate; print(curstate().uuid_to_server['\" + server_id + \"'].get_sessions()[0].document.roots[0]._id)\";\n      cell.notebook.kernel.execute(cmd_clean, {\n        iopub: {\n          output: function(msg) {\n            const id = msg.content.text.trim()\n            drop(id)\n          }\n        }\n      });\n      // Destroy server and session\n      const cmd_destroy = \"import bokeh.io.notebook as ion; ion.destroy_server('\" + server_id + \"')\";\n      cell.notebook.kernel.execute(cmd_destroy);\n    }\n  }\n\n  /**\n   * Handle when a new output is added\n   */\n  function handleAddOutput(event, handle) {\n    const output_area = handle.output_area;\n    const output = handle.output;\n\n    // limit handleAddOutput to display_data with EXEC_MIME_TYPE content only\n    if ((output.output_type != \"display_data\") || (!Object.prototype.hasOwnProperty.call(output.data, EXEC_MIME_TYPE))) {\n      return\n    }\n\n    const toinsert = output_area.element.find(\".\" + CLASS_NAME.split(' ')[0]);\n\n    if (output.metadata[EXEC_MIME_TYPE][\"id\"] !== undefined) {\n      toinsert[toinsert.length - 1].firstChild.textContent = output.data[JS_MIME_TYPE];\n      // store reference to embed id on output_area\n      output_area._bokeh_element_id = output.metadata[EXEC_MIME_TYPE][\"id\"];\n    }\n    if (output.metadata[EXEC_MIME_TYPE][\"server_id\"] !== undefined) {\n      const bk_div = document.createElement(\"div\");\n      bk_div.innerHTML = output.data[HTML_MIME_TYPE];\n      const script_attrs = bk_div.children[0].attributes;\n      for (let i = 0; i < script_attrs.length; i++) {\n        toinsert[toinsert.length - 1].firstChild.setAttribute(script_attrs[i].name, script_attrs[i].value);\n        toinsert[toinsert.length - 1].firstChild.textContent = bk_div.children[0].textContent\n      }\n      // store reference to server id on output_area\n      output_area._bokeh_server_id = output.metadata[EXEC_MIME_TYPE][\"server_id\"];\n    }\n  }\n\n  function register_renderer(events, OutputArea) {\n\n    function append_mime(data, metadata, element) {\n      // create a DOM node to render to\n      const toinsert = this.create_output_subarea(\n        metadata,\n        CLASS_NAME,\n        EXEC_MIME_TYPE\n      );\n      this.keyboard_manager.register_events(toinsert);\n      // Render to node\n      const props = {data: data, metadata: metadata[EXEC_MIME_TYPE]};\n      render(props, toinsert[toinsert.length - 1]);\n      element.append(toinsert);\n      return toinsert\n    }\n\n    /* Handle when an output is cleared or removed */\n    events.on('clear_output.CodeCell', handleClearOutput);\n    events.on('delete.Cell', handleClearOutput);\n\n    /* Handle when a new output is added */\n    events.on('output_added.OutputArea', handleAddOutput);\n\n    /**\n     * Register the mime type and append_mime function with output_area\n     */\n    OutputArea.prototype.register_mime_type(EXEC_MIME_TYPE, append_mime, {\n      /* Is output safe? */\n      safe: true,\n      /* Index of renderer in `output_area.display_order` */\n      index: 0\n    });\n  }\n\n  // register the mime type if in Jupyter Notebook environment and previously unregistered\n  if (root.Jupyter !== undefined) {\n    const events = require('base/js/events');\n    const OutputArea = require('notebook/js/outputarea').OutputArea;\n\n    if (OutputArea.prototype.mime_types().indexOf(EXEC_MIME_TYPE) == -1) {\n      register_renderer(events, OutputArea);\n    }\n  }\n  if (typeof (root._bokeh_timeout) === \"undefined\" || force === true) {\n    root._bokeh_timeout = Date.now() + 5000;\n    root._bokeh_failed_load = false;\n  }\n\n  const NB_LOAD_WARNING = {'data': {'text/html':\n     \"<div style='background-color: #fdd'>\\n\"+\n     \"<p>\\n\"+\n     \"BokehJS does not appear to have successfully loaded. If loading BokehJS from CDN, this \\n\"+\n     \"may be due to a slow or bad network connection. Possible fixes:\\n\"+\n     \"</p>\\n\"+\n     \"<ul>\\n\"+\n     \"<li>re-rerun `output_notebook()` to attempt to load from CDN again, or</li>\\n\"+\n     \"<li>use INLINE resources instead, as so:</li>\\n\"+\n     \"</ul>\\n\"+\n     \"<code>\\n\"+\n     \"from bokeh.resources import INLINE\\n\"+\n     \"output_notebook(resources=INLINE)\\n\"+\n     \"</code>\\n\"+\n     \"</div>\"}};\n\n  function display_loaded(error = null) {\n    const el = document.getElementById(\"c61a2572-7436-41b9-a0ab-bcfe1fd19a88\");\n    if (el != null) {\n      const html = (() => {\n        if (typeof root.Bokeh === \"undefined\") {\n          if (error == null) {\n            return \"BokehJS is loading ...\";\n          } else {\n            return \"BokehJS failed to load.\";\n          }\n        } else {\n          const prefix = `BokehJS ${root.Bokeh.version}`;\n          if (error == null) {\n            return `${prefix} successfully loaded.`;\n          } else {\n            return `${prefix} <b>encountered errors</b> while loading and may not function as expected.`;\n          }\n        }\n      })();\n      el.innerHTML = html;\n\n      if (error != null) {\n        const wrapper = document.createElement(\"div\");\n        wrapper.style.overflow = \"auto\";\n        wrapper.style.height = \"5em\";\n        wrapper.style.resize = \"vertical\";\n        const content = document.createElement(\"div\");\n        content.style.fontFamily = \"monospace\";\n        content.style.whiteSpace = \"pre-wrap\";\n        content.style.backgroundColor = \"rgb(255, 221, 221)\";\n        content.textContent = error.stack ?? error.toString();\n        wrapper.append(content);\n        el.append(wrapper);\n      }\n    } else if (Date.now() < root._bokeh_timeout) {\n      setTimeout(() => display_loaded(error), 100);\n    }\n  }\n\n  function run_callbacks() {\n    try {\n      root._bokeh_onload_callbacks.forEach(function(callback) {\n        if (callback != null)\n          callback();\n      });\n    } finally {\n      delete root._bokeh_onload_callbacks\n    }\n    console.debug(\"Bokeh: all callbacks have finished\");\n  }\n\n  function load_libs(css_urls, js_urls, callback) {\n    if (css_urls == null) css_urls = [];\n    if (js_urls == null) js_urls = [];\n\n    root._bokeh_onload_callbacks.push(callback);\n    if (root._bokeh_is_loading > 0) {\n      console.debug(\"Bokeh: BokehJS is being loaded, scheduling callback at\", now());\n      return null;\n    }\n    if (js_urls == null || js_urls.length === 0) {\n      run_callbacks();\n      return null;\n    }\n    console.debug(\"Bokeh: BokehJS not loaded, scheduling load and callback at\", now());\n    root._bokeh_is_loading = css_urls.length + js_urls.length;\n\n    function on_load() {\n      root._bokeh_is_loading--;\n      if (root._bokeh_is_loading === 0) {\n        console.debug(\"Bokeh: all BokehJS libraries/stylesheets loaded\");\n        run_callbacks()\n      }\n    }\n\n    function on_error(url) {\n      console.error(\"failed to load \" + url);\n    }\n\n    for (let i = 0; i < css_urls.length; i++) {\n      const url = css_urls[i];\n      const element = document.createElement(\"link\");\n      element.onload = on_load;\n      element.onerror = on_error.bind(null, url);\n      element.rel = \"stylesheet\";\n      element.type = \"text/css\";\n      element.href = url;\n      console.debug(\"Bokeh: injecting link tag for BokehJS stylesheet: \", url);\n      document.body.appendChild(element);\n    }\n\n    for (let i = 0; i < js_urls.length; i++) {\n      const url = js_urls[i];\n      const element = document.createElement('script');\n      element.onload = on_load;\n      element.onerror = on_error.bind(null, url);\n      element.async = false;\n      element.src = url;\n      console.debug(\"Bokeh: injecting script tag for BokehJS library: \", url);\n      document.head.appendChild(element);\n    }\n  };\n\n  function inject_raw_css(css) {\n    const element = document.createElement(\"style\");\n    element.appendChild(document.createTextNode(css));\n    document.body.appendChild(element);\n  }\n\n  const js_urls = [\"https://cdn.bokeh.org/bokeh/release/bokeh-3.7.3.min.js\", \"https://cdn.bokeh.org/bokeh/release/bokeh-gl-3.7.3.min.js\", \"https://cdn.bokeh.org/bokeh/release/bokeh-widgets-3.7.3.min.js\", \"https://cdn.bokeh.org/bokeh/release/bokeh-tables-3.7.3.min.js\", \"https://cdn.bokeh.org/bokeh/release/bokeh-mathjax-3.7.3.min.js\"];\n  const css_urls = [];\n\n  const inline_js = [    function(Bokeh) {\n      Bokeh.set_log_level(\"info\");\n    },\nfunction(Bokeh) {\n    }\n  ];\n\n  function run_inline_js() {\n    if (root.Bokeh !== undefined || force === true) {\n      try {\n            for (let i = 0; i < inline_js.length; i++) {\n      inline_js[i].call(root, root.Bokeh);\n    }\n\n      } catch (error) {display_loaded(error);throw error;\n      }if (force === true) {\n        display_loaded();\n      }} else if (Date.now() < root._bokeh_timeout) {\n      setTimeout(run_inline_js, 100);\n    } else if (!root._bokeh_failed_load) {\n      console.log(\"Bokeh: BokehJS failed to load within specified timeout.\");\n      root._bokeh_failed_load = true;\n    } else if (force !== true) {\n      const cell = $(document.getElementById(\"c61a2572-7436-41b9-a0ab-bcfe1fd19a88\")).parents('.cell').data().cell;\n      cell.output_area.append_execute_result(NB_LOAD_WARNING)\n    }\n  }\n\n  if (root._bokeh_is_loading === 0) {\n    console.debug(\"Bokeh: BokehJS loaded, going straight to plotting\");\n    run_inline_js();\n  } else {\n    load_libs(css_urls, js_urls, function() {\n      console.debug(\"Bokeh: BokehJS plotting callback run at\", now());\n      run_inline_js();\n    });\n  }\n}(window));",
      "application/vnd.bokehjs_load.v0+json": ""
     },
     "metadata": {},
     "output_type": "display_data"
    },
    {
     "name": "stderr",
     "output_type": "stream",
     "text": [
      "/home/rpolli/workspace-py/python-course/sparql-101/notebooks/tools.py:30: FutureWarning: Downcasting object dtype arrays on .fillna, .ffill, .bfill is deprecated and will change in a future version. Call result.infer_objects(copy=False) instead. To opt-in to the future behavior, set `pd.set_option('future.no_silent_downcasting', True)`\n",
      "  df = df.fillna(df.max().max())\n",
      "ERROR:bokeh.core.validation.check:E-1001 (BAD_COLUMN_NAME): Glyph refers to nonexistent column name. This could either be due to a misspelling or typo, or due to an expected column being missing. : fill_color='fill_color' [no close matches] {renderer: GlyphRenderer(id='p1053', ...)}\n"
     ]
    },
    {
     "name": "stdout",
     "output_type": "stream",
     "text": [
      "urn:k8s:hasChild\n",
      "urn:k8s:hasChild\n",
      "http://www.w3.org/1999/02/22-rdf-syntax-ns#type\n",
      "urn:k8s:hasChild\n",
      "urn:k8s:hasChild\n",
      "urn:k8s:hasChild\n",
      "urn:k8s:hasChild\n",
      "urn:k8s:hasChild\n",
      "urn:k8s:hasChild\n",
      "http://www.w3.org/2000/01/rdf-schema#label\n",
      "urn:k8s:hasChild\n",
      "urn:k8s:hasPort\n",
      "urn:k8s:hasNamespace\n",
      "urn:k8s:hasChild\n",
      "urn:k8s:hasChild\n",
      "urn:k8s:hasHost\n",
      "http://www.w3.org/2000/01/rdf-schema#label\n",
      "urn:k8s:portForward\n",
      "http://www.w3.org/1999/02/22-rdf-syntax-ns#type\n",
      "http://www.w3.org/1999/02/22-rdf-syntax-ns#type\n",
      "urn:k8s:hasChild\n",
      "urn:k8s:hasHost\n",
      "urn:k8s:hasNamespace\n",
      "http://www.w3.org/2000/01/rdf-schema#label\n",
      "urn:k8s:hasPort\n",
      "urn:k8s:hasChild\n",
      "urn:k8s:hasChild\n",
      "http://www.w3.org/1999/02/22-rdf-syntax-ns#type\n",
      "urn:k8s:hasImage\n",
      "http://d3fend.mitre.org/ontologies/d3fend.owl#runs\n",
      "http://www.w3.org/1999/02/22-rdf-syntax-ns#type\n",
      "http://www.w3.org/2000/01/rdf-schema#label\n",
      "http://www.w3.org/1999/02/22-rdf-syntax-ns#type\n",
      "http://www.w3.org/1999/02/22-rdf-syntax-ns#type\n",
      "urn:k8s:hasNamespace\n",
      "http://www.w3.org/2000/01/rdf-schema#label\n",
      "urn:k8s:hasHost\n",
      "urn:k8s:hasChild\n",
      "urn:k8s:hasPort\n",
      "urn:k8s:hasChild\n",
      "http://www.w3.org/1999/02/22-rdf-syntax-ns#type\n",
      "urn:k8s:hasChild\n",
      "http://www.w3.org/2000/01/rdf-schema#label\n",
      "http://www.w3.org/1999/02/22-rdf-syntax-ns#type\n",
      "http://d3fend.mitre.org/ontologies/d3fend.owl#runs\n",
      "urn:k8s:hasImage\n",
      "http://www.w3.org/1999/02/22-rdf-syntax-ns#type\n",
      "http://www.w3.org/1999/02/22-rdf-syntax-ns#type\n",
      "http://www.w3.org/1999/02/22-rdf-syntax-ns#type\n",
      "urn:k8s:hasImage\n",
      "http://www.w3.org/1999/02/22-rdf-syntax-ns#type\n"
     ]
    },
    {
     "data": {
      "text/html": [
       "\n",
       "  <div id=\"dff0451e-a5d7-4c3b-bfe8-293995483cb2\" data-root-id=\"p1003\" style=\"display: contents;\"></div>\n"
      ]
     },
     "metadata": {},
     "output_type": "display_data"
    },
    {
     "data": {
      "application/javascript": "(function(root) {\n  function embed_document(root) {\n  const docs_json = {\"e222754d-0680-4a5a-9fbe-72d77b75c099\":{\"version\":\"3.7.3\",\"title\":\"Bokeh Application\",\"roots\":[{\"type\":\"object\",\"name\":\"Figure\",\"id\":\"p1003\",\"attributes\":{\"x_range\":{\"type\":\"object\",\"name\":\"DataRange1d\",\"id\":\"p1004\"},\"y_range\":{\"type\":\"object\",\"name\":\"DataRange1d\",\"id\":\"p1005\"},\"x_scale\":{\"type\":\"object\",\"name\":\"LinearScale\",\"id\":\"p1013\"},\"y_scale\":{\"type\":\"object\",\"name\":\"LinearScale\",\"id\":\"p1014\"},\"title\":{\"type\":\"object\",\"name\":\"Title\",\"id\":\"p1006\",\"attributes\":{\"text\":\"RDF Graph Visualization with Bokeh\"}},\"renderers\":[{\"type\":\"object\",\"name\":\"GraphRenderer\",\"id\":\"p1048\",\"attributes\":{\"layout_provider\":{\"type\":\"object\",\"name\":\"StaticLayoutProvider\",\"id\":\"p1065\",\"attributes\":{\"graph_layout\":{\"type\":\"map\",\"entries\":[[\"https://k8s.local/default_\",{\"type\":\"ndarray\",\"array\":{\"type\":\"bytes\",\"data\":\"8g50zy3fkL9bTOnc3krSPw==\"},\"shape\":[2],\"dtype\":\"float64\",\"order\":\"little\"}],[\"https://k8s.local/default_/Application/redis\",{\"type\":\"ndarray\",\"array\":{\"type\":\"bytes\",\"data\":\"7zncmxKt3j84tUhAOMt2Pw==\"},\"shape\":[2],\"dtype\":\"float64\",\"order\":\"little\"}],[\"https://k8s.local/default_/Service/redis-master\",{\"type\":\"ndarray\",\"array\":{\"type\":\"bytes\",\"data\":\"qQJfMdlz3D8qJqJa6T/WPw==\"},\"shape\":[2],\"dtype\":\"float64\",\"order\":\"little\"}],[\"https://k8s.local/default_/Service/redis-master:6379\",{\"type\":\"ndarray\",\"array\":{\"type\":\"bytes\",\"data\":\"7UZe0Vdk2z/KJbf0efDsPw==\"},\"shape\":[2],\"dtype\":\"float64\",\"order\":\"little\"}],[\"https://k8s.local/default_/Service/frontend\",{\"type\":\"ndarray\",\"array\":{\"type\":\"bytes\",\"data\":\"/Wnm5XPb2L89lf86h//cPw==\"},\"shape\":[2],\"dtype\":\"float64\",\"order\":\"little\"}],[\"TCP://frontend:80\",{\"type\":\"ndarray\",\"array\":{\"type\":\"bytes\",\"data\":\"Zuy9uoiB17/rYLzhvdHtPw==\"},\"shape\":[2],\"dtype\":\"float64\",\"order\":\"little\"}],[\"https://k8s.local/default_/Deployment/redis-master/Container/master\",{\"type\":\"ndarray\",\"array\":{\"type\":\"bytes\",\"data\":\"dI5yCqF64z+Zvy4oxVjcvw==\"},\"shape\":[2],\"dtype\":\"float64\",\"order\":\"little\"}],[\"https://docker.io/registry.k8s.io/redis\",{\"type\":\"ndarray\",\"array\":{\"type\":\"bytes\",\"data\":\"uBnjcksS7D/ySfb9KfHgvw==\"},\"shape\":[2],\"dtype\":\"float64\",\"order\":\"little\"}],[\"https://k8s.local/default_/Application/guestbook\",{\"type\":\"ndarray\",\"array\":{\"type\":\"bytes\",\"data\":\"GCZZAE7k2T/5wOUVfmvkPw==\"},\"shape\":[2],\"dtype\":\"float64\",\"order\":\"little\"}],[\"urn:k8s:Port\",{\"type\":\"ndarray\",\"array\":{\"type\":\"bytes\",\"data\":\"RF/b5LJSwb8P7MdYGYDuPw==\"},\"shape\":[2],\"dtype\":\"float64\",\"order\":\"little\"}],[\"urn:k8s:Namespace\",{\"type\":\"ndarray\",\"array\":{\"type\":\"bytes\",\"data\":\"YIJWKOEzmD9TKu8mqyXnPw==\"},\"shape\":[2],\"dtype\":\"float64\",\"order\":\"little\"}],[\"TCP://redis-master.default_.svc:6379\",{\"type\":\"ndarray\",\"array\":{\"type\":\"bytes\",\"data\":\"WGlkiWkm7D96gj2I2zndPw==\"},\"shape\":[2],\"dtype\":\"float64\",\"order\":\"little\"}],[\"https://k8s.local/default_/Service/frontend:80\",{\"type\":\"ndarray\",\"array\":{\"type\":\"bytes\",\"data\":\"XGw1tFNx4r8nAsUSthHrPw==\"},\"shape\":[2],\"dtype\":\"float64\",\"order\":\"little\"}],[\"https://k8s.local/default_/Service/redis-replica\",{\"type\":\"ndarray\",\"array\":{\"type\":\"bytes\",\"data\":\"1mbXfI63279p9y0NSkCtPw==\"},\"shape\":[2],\"dtype\":\"float64\",\"order\":\"little\"}],[\"TCP://redis-master:6379\",{\"type\":\"ndarray\",\"array\":{\"type\":\"bytes\",\"data\":\"6Pz1fDIw6D+qUaGMRLblPw==\"},\"shape\":[2],\"dtype\":\"float64\",\"order\":\"little\"}],[\"https://k8s.local/default_/Deployment/redis-replica/Container/replica\",{\"type\":\"ndarray\",\"array\":{\"type\":\"bytes\",\"data\":\"Ea3im515079QcwKHD2Xovw==\"},\"shape\":[2],\"dtype\":\"float64\",\"order\":\"little\"}],[\"replica\",{\"type\":\"ndarray\",\"array\":{\"type\":\"bytes\",\"data\":\"pPPd0gab6L+aJeSJ9DPlvw==\"},\"shape\":[2],\"dtype\":\"float64\",\"order\":\"little\"}],[\"svc/redis-replica\",{\"type\":\"ndarray\",\"array\":{\"type\":\"bytes\",\"data\":\"6XOAofsd77+d5JzKQviyvw==\"},\"shape\":[2],\"dtype\":\"float64\",\"order\":\"little\"}],[\"TCP://redis-replica:6379\",{\"type\":\"ndarray\",\"array\":{\"type\":\"bytes\",\"data\":\"3RByKUes7L/HpEM+rqnSvw==\"},\"shape\":[2],\"dtype\":\"float64\",\"order\":\"little\"}],[\"https://k8s.local/default_/Deployment/frontend\",{\"type\":\"ndarray\",\"array\":{\"type\":\"bytes\",\"data\":\"zaiwrXwAxj9gpRbVkojsPw==\"},\"shape\":[2],\"dtype\":\"float64\",\"order\":\"little\"}],[\"svc/frontend\",{\"type\":\"ndarray\",\"array\":{\"type\":\"bytes\",\"data\":\"tEkhaNNP7L+kMVjZHq/fPw==\"},\"shape\":[2],\"dtype\":\"float64\",\"order\":\"little\"}],[\"urn:k8s:Image\",{\"type\":\"ndarray\",\"array\":{\"type\":\"bytes\",\"data\":\"6HY+dEeN2z8I0GTMIVTovw==\"},\"shape\":[2],\"dtype\":\"float64\",\"order\":\"little\"}],[\"https://k8s.local/default_/Service/redis-replica:6379\",{\"type\":\"ndarray\",\"array\":{\"type\":\"bytes\",\"data\":\"swCTZ45V479cJB59wFfjPw==\"},\"shape\":[2],\"dtype\":\"float64\",\"order\":\"little\"}],[\"urn:k8s:Container\",{\"type\":\"ndarray\",\"array\":{\"type\":\"bytes\",\"data\":\"dZiIlmd7wT80brIXwUXmvw==\"},\"shape\":[2],\"dtype\":\"float64\",\"order\":\"little\"}],[\"urn:k8s:connected\",{\"type\":\"ndarray\",\"array\":{\"type\":\"bytes\",\"data\":\"pX+AgCJ/47+5AhUxFpLqvw==\"},\"shape\":[2],\"dtype\":\"float64\",\"order\":\"little\"}],[\"http://www.w3.org/1999/02/22-rdf-syntax-ns#Property\",{\"type\":\"ndarray\",\"array\":{\"type\":\"bytes\",\"data\":\"TvfgDumk07/cyAaCq//vvw==\"},\"shape\":[2],\"dtype\":\"float64\",\"order\":\"little\"}],[\"https://k8s.local/default_/Deployment/redis-replica\",{\"type\":\"ndarray\",\"array\":{\"type\":\"bytes\",\"data\":\"UuWRQMY+5b/jlZcT9+K6Pw==\"},\"shape\":[2],\"dtype\":\"float64\",\"order\":\"little\"}],[\"https://k8s.local/default_/Deployment/redis-master\",{\"type\":\"ndarray\",\"array\":{\"type\":\"bytes\",\"data\":\"vGsAcAgKyL9Blby1K5TTvw==\"},\"shape\":[2],\"dtype\":\"float64\",\"order\":\"little\"}],[\"https://gcr.io/google_samples/gb-redisslave\",{\"type\":\"ndarray\",\"array\":{\"type\":\"bytes\",\"data\":\"E/izkGMYlj8bzWrNMErvvw==\"},\"shape\":[2],\"dtype\":\"float64\",\"order\":\"little\"}],[\"svc/redis-master\",{\"type\":\"ndarray\",\"array\":{\"type\":\"bytes\",\"data\":\"T2d6XPAn7D+LXHSqLlWjPw==\"},\"shape\":[2],\"dtype\":\"float64\",\"order\":\"little\"}],[\"TCP://frontend.default_.svc:80\",{\"type\":\"ndarray\",\"array\":{\"type\":\"bytes\",\"data\":\"vto5lm077r+kdNPlcAvQPw==\"},\"shape\":[2],\"dtype\":\"float64\",\"order\":\"little\"}],[\"6379-TCP>6379\",{\"type\":\"ndarray\",\"array\":{\"type\":\"bytes\",\"data\":\"1qerfVY17j9NToWvy53OPw==\"},\"shape\":[2],\"dtype\":\"float64\",\"order\":\"little\"}],[\"urn:k8s:Service\",{\"type\":\"ndarray\",\"array\":{\"type\":\"bytes\",\"data\":\"K8J/VXfzjb9lhTWYWkSwPw==\"},\"shape\":[2],\"dtype\":\"float64\",\"order\":\"little\"}],[\"https://k8s.local/default_/Deployment/frontend/Container/php-redis\",{\"type\":\"ndarray\",\"array\":{\"type\":\"bytes\",\"data\":\"UW3VIDrb1T8AAAAAAADwvw==\"},\"shape\":[2],\"dtype\":\"float64\",\"order\":\"little\"}],[\"https://gcr.io/google-samples/gb-frontend\",{\"type\":\"ndarray\",\"array\":{\"type\":\"bytes\",\"data\":\"MouluLaj5j/zR6JZcPTovw==\"},\"shape\":[2],\"dtype\":\"float64\",\"order\":\"little\"}],[\"TCP://redis-replica.default_.svc:6379\",{\"type\":\"ndarray\",\"array\":{\"type\":\"bytes\",\"data\":\"0iQNq3sN5b/CvIwG4NXYvw==\"},\"shape\":[2],\"dtype\":\"float64\",\"order\":\"little\"}],[\"master\",{\"type\":\"ndarray\",\"array\":{\"type\":\"bytes\",\"data\":\"t/98xF6e7z8gemOMV8nOvw==\"},\"shape\":[2],\"dtype\":\"float64\",\"order\":\"little\"}],[\"default_\",{\"type\":\"ndarray\",\"array\":{\"type\":\"bytes\",\"data\":\"1gyl9RnUyj8Lpk/0fAnNvw==\"},\"shape\":[2],\"dtype\":\"float64\",\"order\":\"little\"}]]}}},\"node_renderer\":{\"type\":\"object\",\"name\":\"GlyphRenderer\",\"id\":\"p1053\",\"attributes\":{\"data_source\":{\"type\":\"object\",\"name\":\"ColumnDataSource\",\"id\":\"p1050\",\"attributes\":{\"selected\":{\"type\":\"object\",\"name\":\"Selection\",\"id\":\"p1051\",\"attributes\":{\"indices\":[],\"line_indices\":[]}},\"selection_policy\":{\"type\":\"object\",\"name\":\"UnionRenderers\",\"id\":\"p1052\"},\"data\":{\"type\":\"map\",\"entries\":[[\"index\",[\"https://k8s.local/default_\",\"https://k8s.local/default_/Application/redis\",\"https://k8s.local/default_/Service/redis-master\",\"https://k8s.local/default_/Service/redis-master:6379\",\"https://k8s.local/default_/Service/frontend\",\"TCP://frontend:80\",\"https://k8s.local/default_/Deployment/redis-master/Container/master\",\"https://docker.io/registry.k8s.io/redis\",\"https://k8s.local/default_/Application/guestbook\",\"urn:k8s:Port\",\"urn:k8s:Namespace\",\"TCP://redis-master.default_.svc:6379\",\"https://k8s.local/default_/Service/frontend:80\",\"https://k8s.local/default_/Service/redis-replica\",\"TCP://redis-master:6379\",\"https://k8s.local/default_/Deployment/redis-replica/Container/replica\",\"replica\",\"svc/redis-replica\",\"TCP://redis-replica:6379\",\"https://k8s.local/default_/Deployment/frontend\",\"svc/frontend\",\"urn:k8s:Image\",\"https://k8s.local/default_/Service/redis-replica:6379\",\"urn:k8s:Container\",\"urn:k8s:connected\",\"http://www.w3.org/1999/02/22-rdf-syntax-ns#Property\",\"https://k8s.local/default_/Deployment/redis-replica\",\"https://k8s.local/default_/Deployment/redis-master\",\"https://gcr.io/google_samples/gb-redisslave\",\"svc/redis-master\",\"TCP://frontend.default_.svc:80\",\"6379-TCP>6379\",\"urn:k8s:Service\",\"https://k8s.local/default_/Deployment/frontend/Container/php-redis\",\"https://gcr.io/google-samples/gb-frontend\",\"TCP://redis-replica.default_.svc:6379\",\"master\",\"default_\"]],[\"node_size\",[0.060000000000000005,0.013846153846153847,0.048461538461538466,0.02153846153846154,0.04461538461538462,0.017692307692307695,0.025384615384615387,0.02153846153846154,0.013846153846153847,0.02153846153846154,0.013846153846153847,0.013846153846153847,0.02153846153846154,0.04461538461538462,0.017692307692307695,0.025384615384615387,0.013846153846153847,0.013846153846153847,0.017692307692307695,0.013846153846153847,0.013846153846153847,0.02153846153846154,0.02153846153846154,0.017692307692307695,0.013846153846153847,0.013846153846153847,0.013846153846153847,0.013846153846153847,0.02153846153846154,0.013846153846153847,0.013846153846153847,0.013846153846153847,0.02153846153846154,0.013846153846153847,0.017692307692307695,0.013846153846153847,0.013846153846153847,0.013846153846153847]],[\"node_label\",[\"default_\",\"redis\",\"redis-master\",\"6379\",\"frontend\",\"80\",\"master\",\"redis\",\"guestbook\",\"Port\",\"Namespace\",\"6379\",\"80\",\"redis-replica\",\"6379\",\"replica\",\"replica\",\"redis-replica\",\"6379\",\"frontend\",\"frontend\",\"Image\",\"6379\",\"Container\",\"connected\",\"Property\",\"redis-replica\",\"redis-master\",\"gb-redisslave\",\"redis-master\",\"80\",\"6379-TCP>6379\",\"Service\",\"php-redis\",\"gb-frontend\",\"6379\",\"master\",\"default_\"]]]}}},\"view\":{\"type\":\"object\",\"name\":\"CDSView\",\"id\":\"p1054\",\"attributes\":{\"filter\":{\"type\":\"object\",\"name\":\"AllIndices\",\"id\":\"p1055\"}}},\"glyph\":{\"type\":\"object\",\"name\":\"Circle\",\"id\":\"p1066\",\"attributes\":{\"radius\":{\"type\":\"field\",\"field\":\"node_size\"},\"fill_color\":{\"type\":\"field\",\"field\":\"fill_color\"}}},\"selection_glyph\":{\"type\":\"object\",\"name\":\"Circle\",\"id\":\"p1067\",\"attributes\":{\"radius\":{\"type\":\"field\",\"field\":\"node_size\"},\"fill_color\":{\"type\":\"value\",\"value\":\"#fdae61\"}}},\"hover_glyph\":{\"type\":\"object\",\"name\":\"Circle\",\"id\":\"p1068\",\"attributes\":{\"radius\":{\"type\":\"field\",\"field\":\"node_size\"},\"fill_color\":{\"type\":\"value\",\"value\":\"#abdda4\"}}}}},\"edge_renderer\":{\"type\":\"object\",\"name\":\"GlyphRenderer\",\"id\":\"p1060\",\"attributes\":{\"data_source\":{\"type\":\"object\",\"name\":\"ColumnDataSource\",\"id\":\"p1057\",\"attributes\":{\"selected\":{\"type\":\"object\",\"name\":\"Selection\",\"id\":\"p1058\",\"attributes\":{\"indices\":[],\"line_indices\":[]}},\"selection_policy\":{\"type\":\"object\",\"name\":\"UnionRenderers\",\"id\":\"p1059\"},\"data\":{\"type\":\"map\",\"entries\":[[\"start\",[\"https://k8s.local/default_\",\"https://k8s.local/default_\",\"https://k8s.local/default_\",\"https://k8s.local/default_\",\"https://k8s.local/default_\",\"https://k8s.local/default_\",\"https://k8s.local/default_\",\"https://k8s.local/default_\",\"https://k8s.local/default_\",\"https://k8s.local/default_\",\"https://k8s.local/default_/Service/redis-master\",\"https://k8s.local/default_/Service/redis-master\",\"https://k8s.local/default_/Service/redis-master\",\"https://k8s.local/default_/Service/redis-master\",\"https://k8s.local/default_/Service/redis-master\",\"https://k8s.local/default_/Service/redis-master\",\"https://k8s.local/default_/Service/redis-master\",\"https://k8s.local/default_/Service/redis-master\",\"https://k8s.local/default_/Service/redis-master\",\"https://k8s.local/default_/Service/redis-master:6379\",\"https://k8s.local/default_/Service/frontend\",\"https://k8s.local/default_/Service/frontend\",\"https://k8s.local/default_/Service/frontend\",\"https://k8s.local/default_/Service/frontend\",\"https://k8s.local/default_/Service/frontend\",\"https://k8s.local/default_/Service/frontend\",\"https://k8s.local/default_/Service/frontend\",\"https://k8s.local/default_/Service/frontend\",\"https://k8s.local/default_/Deployment/redis-master/Container/master\",\"https://k8s.local/default_/Deployment/redis-master/Container/master\",\"https://k8s.local/default_/Deployment/redis-master/Container/master\",\"https://k8s.local/default_/Deployment/redis-master/Container/master\",\"https://docker.io/registry.k8s.io/redis\",\"https://k8s.local/default_/Service/frontend:80\",\"https://k8s.local/default_/Service/redis-replica\",\"https://k8s.local/default_/Service/redis-replica\",\"https://k8s.local/default_/Service/redis-replica\",\"https://k8s.local/default_/Service/redis-replica\",\"https://k8s.local/default_/Service/redis-replica\",\"https://k8s.local/default_/Service/redis-replica\",\"https://k8s.local/default_/Service/redis-replica\",\"https://k8s.local/default_/Service/redis-replica\",\"https://k8s.local/default_/Deployment/redis-replica/Container/replica\",\"https://k8s.local/default_/Deployment/redis-replica/Container/replica\",\"https://k8s.local/default_/Deployment/redis-replica/Container/replica\",\"https://k8s.local/default_/Deployment/redis-replica/Container/replica\",\"https://k8s.local/default_/Service/redis-replica:6379\",\"urn:k8s:connected\",\"https://gcr.io/google_samples/gb-redisslave\",\"https://k8s.local/default_/Deployment/frontend/Container/php-redis\",\"https://gcr.io/google-samples/gb-frontend\"]],[\"end\",[\"https://k8s.local/default_/Application/redis\",\"https://k8s.local/default_/Application/guestbook\",\"urn:k8s:Namespace\",\"https://k8s.local/default_/Service/frontend\",\"https://k8s.local/default_/Deployment/frontend\",\"https://k8s.local/default_/Deployment/redis-replica\",\"https://k8s.local/default_/Deployment/redis-master\",\"https://k8s.local/default_/Service/redis-replica\",\"https://k8s.local/default_/Service/redis-master\",\"default_\",\"https://k8s.local/default_/Service/redis-master:6379\",\"https://k8s.local/default_/Service/redis-master:6379\",\"https://k8s.local/default_\",\"TCP://redis-master.default_.svc:6379\",\"TCP://redis-master:6379\",\"TCP://redis-master:6379\",\"svc/redis-master\",\"6379-TCP>6379\",\"urn:k8s:Service\",\"urn:k8s:Port\",\"TCP://frontend:80\",\"TCP://frontend:80\",\"https://k8s.local/default_\",\"svc/frontend\",\"https://k8s.local/default_/Service/frontend:80\",\"https://k8s.local/default_/Service/frontend:80\",\"TCP://frontend.default_.svc:80\",\"urn:k8s:Service\",\"https://docker.io/registry.k8s.io/redis\",\"https://docker.io/registry.k8s.io/redis\",\"urn:k8s:Container\",\"master\",\"urn:k8s:Image\",\"urn:k8s:Port\",\"https://k8s.local/default_\",\"svc/redis-replica\",\"TCP://redis-replica:6379\",\"TCP://redis-replica:6379\",\"https://k8s.local/default_/Service/redis-replica:6379\",\"https://k8s.local/default_/Service/redis-replica:6379\",\"urn:k8s:Service\",\"TCP://redis-replica.default_.svc:6379\",\"replica\",\"urn:k8s:Container\",\"https://gcr.io/google_samples/gb-redisslave\",\"https://gcr.io/google_samples/gb-redisslave\",\"urn:k8s:Port\",\"http://www.w3.org/1999/02/22-rdf-syntax-ns#Property\",\"urn:k8s:Image\",\"https://gcr.io/google-samples/gb-frontend\",\"urn:k8s:Image\"]],[\"line_dash\",[\"solid\",\"solid\",\"dashed\",\"solid\",\"solid\",\"solid\",\"solid\",\"solid\",\"solid\",\"solid\",\"solid\",\"solid\",\"solid\",\"solid\",\"solid\",\"solid\",\"solid\",\"solid\",\"dashed\",\"dashed\",\"solid\",\"solid\",\"solid\",\"solid\",\"solid\",\"solid\",\"solid\",\"dashed\",\"solid\",\"solid\",\"dashed\",\"solid\",\"dashed\",\"dashed\",\"solid\",\"solid\",\"solid\",\"solid\",\"solid\",\"solid\",\"dashed\",\"solid\",\"solid\",\"dashed\",\"solid\",\"solid\",\"dashed\",\"dashed\",\"dashed\",\"solid\",\"dashed\"]]]}}},\"view\":{\"type\":\"object\",\"name\":\"CDSView\",\"id\":\"p1061\",\"attributes\":{\"filter\":{\"type\":\"object\",\"name\":\"AllIndices\",\"id\":\"p1062\"}}},\"glyph\":{\"type\":\"object\",\"name\":\"MultiLine\",\"id\":\"p1069\",\"attributes\":{\"line_color\":{\"type\":\"value\",\"value\":\"gray\"},\"line_alpha\":{\"type\":\"value\",\"value\":0.8},\"line_dash\":{\"type\":\"field\",\"field\":\"line_dash\"}}},\"selection_glyph\":{\"type\":\"object\",\"name\":\"MultiLine\",\"id\":\"p1070\",\"attributes\":{\"line_color\":{\"type\":\"value\",\"value\":\"red\"},\"line_width\":{\"type\":\"value\",\"value\":5}}},\"hover_glyph\":{\"type\":\"object\",\"name\":\"MultiLine\",\"id\":\"p1071\",\"attributes\":{\"line_color\":{\"type\":\"value\",\"value\":\"red\"},\"line_width\":{\"type\":\"value\",\"value\":5}}}}},\"selection_policy\":{\"type\":\"object\",\"name\":\"NodesAndLinkedEdges\",\"id\":\"p1072\"},\"inspection_policy\":{\"type\":\"object\",\"name\":\"NodesAndLinkedEdges\",\"id\":\"p1073\"}}},{\"type\":\"object\",\"name\":\"LabelSet\",\"id\":\"p1077\",\"attributes\":{\"source\":{\"type\":\"object\",\"name\":\"ColumnDataSource\",\"id\":\"p1074\",\"attributes\":{\"selected\":{\"type\":\"object\",\"name\":\"Selection\",\"id\":\"p1075\",\"attributes\":{\"indices\":[],\"line_indices\":[]}},\"selection_policy\":{\"type\":\"object\",\"name\":\"UnionRenderers\",\"id\":\"p1076\"},\"data\":{\"type\":\"map\",\"entries\":[[\"x\",[-0.016476360117862528,0.4793135187218515,0.444570825780867,0.42799945303077785,-0.3883943314664576,-0.3672811339999441,0.6087193683674301,0.8772332424057856,0.4045596125984914,-0.13533626722959913,0.02363540466979186,0.8796889956895866,-0.5763338584614632,-0.4330784052996085,0.7558834496157063,-0.30429783080281064,-0.7689241522308419,-0.972410026009695,-0.896030026386622,0.17188986283264854,-0.8847443612851777,0.4304979930110293,-0.6041938803610009,0.13657851076385766,-0.6092693815044085,-0.3069403310108684,-0.6639128934031453,-0.18780618161039608,0.021577411372156585,0.8798753553594255,-0.9447544035054631,0.9440109686377081,-0.014624531075214517,0.34150555807510324,0.7074845892314896,-0.6578958836409134,0.9880822980558069,0.20959782118197862]],[\"y\",[0.2858197362267611,0.005564899187942722,0.3476508507816073,0.9043550281141333,0.45309620629844344,0.9318532380011936,-0.4429180996330558,-0.5294389686771963,0.6381216457066606,0.953137086296353,0.7233482132372252,0.4566563444587143,0.8459120146363305,0.05713111315615899,0.6784994837458289,-0.7623365055947975,-0.662592191046474,-0.07410066076853856,-0.2916064842270995,0.8916715776332858,0.4950635073189693,-0.7602700225893395,0.6044619029718308,-0.6960149252731243,-0.8303328474649653,-0.9999597110347866,0.10502571323703296,-0.3059186243793484,-0.9778064739279303,0.03775926428550588,0.25069830364175005,0.23919054098461104,0.06354299751321475,-1.0,-0.7798387289678871,-0.38805390014290364,-0.24051946978484384,-0.22685205392126337]],[\"node_label\",[\"default_\",\"redis\",\"redis-master\",\"6379\",\"frontend\",\"80\",\"master\",\"redis\",\"guestbook\",\"Port\",\"Namespace\",\"6379\",\"80\",\"redis-replica\",\"6379\",\"replica\",\"replica\",\"redis-replica\",\"6379\",\"frontend\",\"frontend\",\"Image\",\"6379\",\"Container\",\"connected\",\"Property\",\"redis-replica\",\"redis-master\",\"gb-redisslave\",\"redis-master\",\"80\",\"6379-TCP>6379\",\"Service\",\"php-redis\",\"gb-frontend\",\"6379\",\"master\",\"default_\"]]]}}},\"x\":{\"type\":\"field\",\"field\":\"x\"},\"y\":{\"type\":\"field\",\"field\":\"y\"},\"text\":{\"type\":\"field\",\"field\":\"node_label\"},\"text_align\":{\"type\":\"value\",\"value\":\"center\"}}}],\"toolbar\":{\"type\":\"object\",\"name\":\"Toolbar\",\"id\":\"p1012\",\"attributes\":{\"tools\":[{\"type\":\"object\",\"name\":\"PanTool\",\"id\":\"p1025\"},{\"type\":\"object\",\"name\":\"WheelZoomTool\",\"id\":\"p1026\",\"attributes\":{\"renderers\":\"auto\"}},{\"type\":\"object\",\"name\":\"BoxZoomTool\",\"id\":\"p1027\",\"attributes\":{\"dimensions\":\"both\",\"overlay\":{\"type\":\"object\",\"name\":\"BoxAnnotation\",\"id\":\"p1028\",\"attributes\":{\"syncable\":false,\"line_color\":\"black\",\"line_alpha\":1.0,\"line_width\":2,\"line_dash\":[4,4],\"fill_color\":\"lightgrey\",\"fill_alpha\":0.5,\"level\":\"overlay\",\"visible\":false,\"left\":{\"type\":\"number\",\"value\":\"nan\"},\"right\":{\"type\":\"number\",\"value\":\"nan\"},\"top\":{\"type\":\"number\",\"value\":\"nan\"},\"bottom\":{\"type\":\"number\",\"value\":\"nan\"},\"left_units\":\"canvas\",\"right_units\":\"canvas\",\"top_units\":\"canvas\",\"bottom_units\":\"canvas\",\"handles\":{\"type\":\"object\",\"name\":\"BoxInteractionHandles\",\"id\":\"p1034\",\"attributes\":{\"all\":{\"type\":\"object\",\"name\":\"AreaVisuals\",\"id\":\"p1033\",\"attributes\":{\"fill_color\":\"white\",\"hover_fill_color\":\"lightgray\"}}}}}}}},{\"type\":\"object\",\"name\":\"SaveTool\",\"id\":\"p1035\"},{\"type\":\"object\",\"name\":\"ResetTool\",\"id\":\"p1036\"},{\"type\":\"object\",\"name\":\"HelpTool\",\"id\":\"p1037\"},{\"type\":\"object\",\"name\":\"HoverTool\",\"id\":\"p1038\",\"attributes\":{\"renderers\":\"auto\",\"tooltips\":null}},{\"type\":\"object\",\"name\":\"TapTool\",\"id\":\"p1039\",\"attributes\":{\"renderers\":\"auto\"}},{\"type\":\"object\",\"name\":\"BoxSelectTool\",\"id\":\"p1040\",\"attributes\":{\"renderers\":\"auto\",\"overlay\":{\"type\":\"object\",\"name\":\"BoxAnnotation\",\"id\":\"p1041\",\"attributes\":{\"syncable\":false,\"line_color\":\"black\",\"line_alpha\":1.0,\"line_width\":2,\"line_dash\":[4,4],\"fill_color\":\"lightgrey\",\"fill_alpha\":0.5,\"level\":\"overlay\",\"visible\":false,\"left\":{\"type\":\"number\",\"value\":\"nan\"},\"right\":{\"type\":\"number\",\"value\":\"nan\"},\"top\":{\"type\":\"number\",\"value\":\"nan\"},\"bottom\":{\"type\":\"number\",\"value\":\"nan\"},\"editable\":true,\"handles\":{\"type\":\"object\",\"name\":\"BoxInteractionHandles\",\"id\":\"p1047\",\"attributes\":{\"all\":{\"type\":\"object\",\"name\":\"AreaVisuals\",\"id\":\"p1046\",\"attributes\":{\"fill_color\":\"white\",\"hover_fill_color\":\"lightgray\"}}}}}}}}]}},\"left\":[{\"type\":\"object\",\"name\":\"LinearAxis\",\"id\":\"p1020\",\"attributes\":{\"ticker\":{\"type\":\"object\",\"name\":\"BasicTicker\",\"id\":\"p1021\",\"attributes\":{\"mantissas\":[1,2,5]}},\"formatter\":{\"type\":\"object\",\"name\":\"BasicTickFormatter\",\"id\":\"p1022\"},\"major_label_policy\":{\"type\":\"object\",\"name\":\"AllLabels\",\"id\":\"p1023\"}}}],\"below\":[{\"type\":\"object\",\"name\":\"LinearAxis\",\"id\":\"p1015\",\"attributes\":{\"ticker\":{\"type\":\"object\",\"name\":\"BasicTicker\",\"id\":\"p1016\",\"attributes\":{\"mantissas\":[1,2,5]}},\"formatter\":{\"type\":\"object\",\"name\":\"BasicTickFormatter\",\"id\":\"p1017\"},\"major_label_policy\":{\"type\":\"object\",\"name\":\"AllLabels\",\"id\":\"p1018\"}}}],\"center\":[{\"type\":\"object\",\"name\":\"Grid\",\"id\":\"p1019\",\"attributes\":{\"axis\":{\"id\":\"p1015\"}}},{\"type\":\"object\",\"name\":\"Grid\",\"id\":\"p1024\",\"attributes\":{\"dimension\":1,\"axis\":{\"id\":\"p1020\"}}}]}}]}};\n  const render_items = [{\"docid\":\"e222754d-0680-4a5a-9fbe-72d77b75c099\",\"roots\":{\"p1003\":\"dff0451e-a5d7-4c3b-bfe8-293995483cb2\"},\"root_ids\":[\"p1003\"]}];\n  void root.Bokeh.embed.embed_items_notebook(docs_json, render_items);\n  }\n  if (root.Bokeh !== undefined) {\n    embed_document(root);\n  } else {\n    let attempts = 0;\n    const timer = setInterval(function(root) {\n      if (root.Bokeh !== undefined) {\n        clearInterval(timer);\n        embed_document(root);\n      } else {\n        attempts++;\n        if (attempts > 100) {\n          clearInterval(timer);\n          console.log(\"Bokeh: ERROR: Unable to run BokehJS code because BokehJS library is missing\");\n        }\n      }\n    }, 10, root)\n  }\n})(window);",
      "application/vnd.bokehjs_exec.v0+json": ""
     },
     "metadata": {
      "application/vnd.bokehjs_exec.v0+json": {
       "id": "p1003"
      }
     },
     "output_type": "display_data"
    },
    {
     "data": {
      "text/html": [
       "<div style=\"display: table;\"><div style=\"display: table-row;\"><div style=\"display: table-cell;\"><b title=\"bokeh.plotting._figure.figure\">figure</b>(</div><div style=\"display: table-cell;\">id&nbsp;=&nbsp;'p1003', <span id=\"p1120\" style=\"cursor: pointer;\">&hellip;)</span></div></div><div class=\"p1119\" style=\"display: none;\"><div style=\"display: table-cell;\"></div><div style=\"display: table-cell;\">above&nbsp;=&nbsp;[],</div></div><div class=\"p1119\" style=\"display: none;\"><div style=\"display: table-cell;\"></div><div style=\"display: table-cell;\">align&nbsp;=&nbsp;'auto',</div></div><div class=\"p1119\" style=\"display: none;\"><div style=\"display: table-cell;\"></div><div style=\"display: table-cell;\">aspect_ratio&nbsp;=&nbsp;None,</div></div><div class=\"p1119\" style=\"display: none;\"><div style=\"display: table-cell;\"></div><div style=\"display: table-cell;\">aspect_scale&nbsp;=&nbsp;1,</div></div><div class=\"p1119\" style=\"display: none;\"><div style=\"display: table-cell;\"></div><div style=\"display: table-cell;\">attribution&nbsp;=&nbsp;[],</div></div><div class=\"p1119\" style=\"display: none;\"><div style=\"display: table-cell;\"></div><div style=\"display: table-cell;\">background_fill_alpha&nbsp;=&nbsp;1.0,</div></div><div class=\"p1119\" style=\"display: none;\"><div style=\"display: table-cell;\"></div><div style=\"display: table-cell;\">background_fill_color&nbsp;=&nbsp;'#ffffff',</div></div><div class=\"p1119\" style=\"display: none;\"><div style=\"display: table-cell;\"></div><div style=\"display: table-cell;\">background_hatch_alpha&nbsp;=&nbsp;1.0,</div></div><div class=\"p1119\" style=\"display: none;\"><div style=\"display: table-cell;\"></div><div style=\"display: table-cell;\">background_hatch_color&nbsp;=&nbsp;'black',</div></div><div class=\"p1119\" style=\"display: none;\"><div style=\"display: table-cell;\"></div><div style=\"display: table-cell;\">background_hatch_extra&nbsp;=&nbsp;{},</div></div><div class=\"p1119\" style=\"display: none;\"><div style=\"display: table-cell;\"></div><div style=\"display: table-cell;\">background_hatch_pattern&nbsp;=&nbsp;None,</div></div><div class=\"p1119\" style=\"display: none;\"><div style=\"display: table-cell;\"></div><div style=\"display: table-cell;\">background_hatch_scale&nbsp;=&nbsp;12.0,</div></div><div class=\"p1119\" style=\"display: none;\"><div style=\"display: table-cell;\"></div><div style=\"display: table-cell;\">background_hatch_weight&nbsp;=&nbsp;1.0,</div></div><div class=\"p1119\" style=\"display: none;\"><div style=\"display: table-cell;\"></div><div style=\"display: table-cell;\">below&nbsp;=&nbsp;[LinearAxis(id='p1015', ...)],</div></div><div class=\"p1119\" style=\"display: none;\"><div style=\"display: table-cell;\"></div><div style=\"display: table-cell;\">border_fill_alpha&nbsp;=&nbsp;1.0,</div></div><div class=\"p1119\" style=\"display: none;\"><div style=\"display: table-cell;\"></div><div style=\"display: table-cell;\">border_fill_color&nbsp;=&nbsp;'#ffffff',</div></div><div class=\"p1119\" style=\"display: none;\"><div style=\"display: table-cell;\"></div><div style=\"display: table-cell;\">border_hatch_alpha&nbsp;=&nbsp;1.0,</div></div><div class=\"p1119\" style=\"display: none;\"><div style=\"display: table-cell;\"></div><div style=\"display: table-cell;\">border_hatch_color&nbsp;=&nbsp;'black',</div></div><div class=\"p1119\" style=\"display: none;\"><div style=\"display: table-cell;\"></div><div style=\"display: table-cell;\">border_hatch_extra&nbsp;=&nbsp;{},</div></div><div class=\"p1119\" style=\"display: none;\"><div style=\"display: table-cell;\"></div><div style=\"display: table-cell;\">border_hatch_pattern&nbsp;=&nbsp;None,</div></div><div class=\"p1119\" style=\"display: none;\"><div style=\"display: table-cell;\"></div><div style=\"display: table-cell;\">border_hatch_scale&nbsp;=&nbsp;12.0,</div></div><div class=\"p1119\" style=\"display: none;\"><div style=\"display: table-cell;\"></div><div style=\"display: table-cell;\">border_hatch_weight&nbsp;=&nbsp;1.0,</div></div><div class=\"p1119\" style=\"display: none;\"><div style=\"display: table-cell;\"></div><div style=\"display: table-cell;\">center&nbsp;=&nbsp;[Grid(id='p1019', ...), Grid(id='p1024', ...)],</div></div><div class=\"p1119\" style=\"display: none;\"><div style=\"display: table-cell;\"></div><div style=\"display: table-cell;\">context_menu&nbsp;=&nbsp;'auto',</div></div><div class=\"p1119\" style=\"display: none;\"><div style=\"display: table-cell;\"></div><div style=\"display: table-cell;\">css_classes&nbsp;=&nbsp;[],</div></div><div class=\"p1119\" style=\"display: none;\"><div style=\"display: table-cell;\"></div><div style=\"display: table-cell;\">css_variables&nbsp;=&nbsp;{},</div></div><div class=\"p1119\" style=\"display: none;\"><div style=\"display: table-cell;\"></div><div style=\"display: table-cell;\">disabled&nbsp;=&nbsp;False,</div></div><div class=\"p1119\" style=\"display: none;\"><div style=\"display: table-cell;\"></div><div style=\"display: table-cell;\">elements&nbsp;=&nbsp;[],</div></div><div class=\"p1119\" style=\"display: none;\"><div style=\"display: table-cell;\"></div><div style=\"display: table-cell;\">extra_x_ranges&nbsp;=&nbsp;{},</div></div><div class=\"p1119\" style=\"display: none;\"><div style=\"display: table-cell;\"></div><div style=\"display: table-cell;\">extra_x_scales&nbsp;=&nbsp;{},</div></div><div class=\"p1119\" style=\"display: none;\"><div style=\"display: table-cell;\"></div><div style=\"display: table-cell;\">extra_y_ranges&nbsp;=&nbsp;{},</div></div><div class=\"p1119\" style=\"display: none;\"><div style=\"display: table-cell;\"></div><div style=\"display: table-cell;\">extra_y_scales&nbsp;=&nbsp;{},</div></div><div class=\"p1119\" style=\"display: none;\"><div style=\"display: table-cell;\"></div><div style=\"display: table-cell;\">flow_mode&nbsp;=&nbsp;'block',</div></div><div class=\"p1119\" style=\"display: none;\"><div style=\"display: table-cell;\"></div><div style=\"display: table-cell;\">frame_align&nbsp;=&nbsp;True,</div></div><div class=\"p1119\" style=\"display: none;\"><div style=\"display: table-cell;\"></div><div style=\"display: table-cell;\">frame_height&nbsp;=&nbsp;None,</div></div><div class=\"p1119\" style=\"display: none;\"><div style=\"display: table-cell;\"></div><div style=\"display: table-cell;\">frame_width&nbsp;=&nbsp;None,</div></div><div class=\"p1119\" style=\"display: none;\"><div style=\"display: table-cell;\"></div><div style=\"display: table-cell;\">height&nbsp;=&nbsp;600,</div></div><div class=\"p1119\" style=\"display: none;\"><div style=\"display: table-cell;\"></div><div style=\"display: table-cell;\">height_policy&nbsp;=&nbsp;'auto',</div></div><div class=\"p1119\" style=\"display: none;\"><div style=\"display: table-cell;\"></div><div style=\"display: table-cell;\">hidpi&nbsp;=&nbsp;True,</div></div><div class=\"p1119\" style=\"display: none;\"><div style=\"display: table-cell;\"></div><div style=\"display: table-cell;\">hold_render&nbsp;=&nbsp;False,</div></div><div class=\"p1119\" style=\"display: none;\"><div style=\"display: table-cell;\"></div><div style=\"display: table-cell;\">html_attributes&nbsp;=&nbsp;{},</div></div><div class=\"p1119\" style=\"display: none;\"><div style=\"display: table-cell;\"></div><div style=\"display: table-cell;\">html_id&nbsp;=&nbsp;None,</div></div><div class=\"p1119\" style=\"display: none;\"><div style=\"display: table-cell;\"></div><div style=\"display: table-cell;\">js_event_callbacks&nbsp;=&nbsp;{},</div></div><div class=\"p1119\" style=\"display: none;\"><div style=\"display: table-cell;\"></div><div style=\"display: table-cell;\">js_property_callbacks&nbsp;=&nbsp;{},</div></div><div class=\"p1119\" style=\"display: none;\"><div style=\"display: table-cell;\"></div><div style=\"display: table-cell;\">left&nbsp;=&nbsp;[LinearAxis(id='p1020', ...)],</div></div><div class=\"p1119\" style=\"display: none;\"><div style=\"display: table-cell;\"></div><div style=\"display: table-cell;\">lod_factor&nbsp;=&nbsp;10,</div></div><div class=\"p1119\" style=\"display: none;\"><div style=\"display: table-cell;\"></div><div style=\"display: table-cell;\">lod_interval&nbsp;=&nbsp;300,</div></div><div class=\"p1119\" style=\"display: none;\"><div style=\"display: table-cell;\"></div><div style=\"display: table-cell;\">lod_threshold&nbsp;=&nbsp;2000,</div></div><div class=\"p1119\" style=\"display: none;\"><div style=\"display: table-cell;\"></div><div style=\"display: table-cell;\">lod_timeout&nbsp;=&nbsp;500,</div></div><div class=\"p1119\" style=\"display: none;\"><div style=\"display: table-cell;\"></div><div style=\"display: table-cell;\">margin&nbsp;=&nbsp;None,</div></div><div class=\"p1119\" style=\"display: none;\"><div style=\"display: table-cell;\"></div><div style=\"display: table-cell;\">match_aspect&nbsp;=&nbsp;False,</div></div><div class=\"p1119\" style=\"display: none;\"><div style=\"display: table-cell;\"></div><div style=\"display: table-cell;\">max_height&nbsp;=&nbsp;None,</div></div><div class=\"p1119\" style=\"display: none;\"><div style=\"display: table-cell;\"></div><div style=\"display: table-cell;\">max_width&nbsp;=&nbsp;None,</div></div><div class=\"p1119\" style=\"display: none;\"><div style=\"display: table-cell;\"></div><div style=\"display: table-cell;\">min_border&nbsp;=&nbsp;5,</div></div><div class=\"p1119\" style=\"display: none;\"><div style=\"display: table-cell;\"></div><div style=\"display: table-cell;\">min_border_bottom&nbsp;=&nbsp;None,</div></div><div class=\"p1119\" style=\"display: none;\"><div style=\"display: table-cell;\"></div><div style=\"display: table-cell;\">min_border_left&nbsp;=&nbsp;None,</div></div><div class=\"p1119\" style=\"display: none;\"><div style=\"display: table-cell;\"></div><div style=\"display: table-cell;\">min_border_right&nbsp;=&nbsp;None,</div></div><div class=\"p1119\" style=\"display: none;\"><div style=\"display: table-cell;\"></div><div style=\"display: table-cell;\">min_border_top&nbsp;=&nbsp;None,</div></div><div class=\"p1119\" style=\"display: none;\"><div style=\"display: table-cell;\"></div><div style=\"display: table-cell;\">min_height&nbsp;=&nbsp;None,</div></div><div class=\"p1119\" style=\"display: none;\"><div style=\"display: table-cell;\"></div><div style=\"display: table-cell;\">min_width&nbsp;=&nbsp;None,</div></div><div class=\"p1119\" style=\"display: none;\"><div style=\"display: table-cell;\"></div><div style=\"display: table-cell;\">name&nbsp;=&nbsp;None,</div></div><div class=\"p1119\" style=\"display: none;\"><div style=\"display: table-cell;\"></div><div style=\"display: table-cell;\">outline_line_alpha&nbsp;=&nbsp;1.0,</div></div><div class=\"p1119\" style=\"display: none;\"><div style=\"display: table-cell;\"></div><div style=\"display: table-cell;\">outline_line_cap&nbsp;=&nbsp;'butt',</div></div><div class=\"p1119\" style=\"display: none;\"><div style=\"display: table-cell;\"></div><div style=\"display: table-cell;\">outline_line_color&nbsp;=&nbsp;'#e5e5e5',</div></div><div class=\"p1119\" style=\"display: none;\"><div style=\"display: table-cell;\"></div><div style=\"display: table-cell;\">outline_line_dash&nbsp;=&nbsp;[],</div></div><div class=\"p1119\" style=\"display: none;\"><div style=\"display: table-cell;\"></div><div style=\"display: table-cell;\">outline_line_dash_offset&nbsp;=&nbsp;0,</div></div><div class=\"p1119\" style=\"display: none;\"><div style=\"display: table-cell;\"></div><div style=\"display: table-cell;\">outline_line_join&nbsp;=&nbsp;'bevel',</div></div><div class=\"p1119\" style=\"display: none;\"><div style=\"display: table-cell;\"></div><div style=\"display: table-cell;\">outline_line_width&nbsp;=&nbsp;1,</div></div><div class=\"p1119\" style=\"display: none;\"><div style=\"display: table-cell;\"></div><div style=\"display: table-cell;\">output_backend&nbsp;=&nbsp;'canvas',</div></div><div class=\"p1119\" style=\"display: none;\"><div style=\"display: table-cell;\"></div><div style=\"display: table-cell;\">renderers&nbsp;=&nbsp;[GraphRenderer(id='p1048', ...), LabelSet(id='p1077', ...)],</div></div><div class=\"p1119\" style=\"display: none;\"><div style=\"display: table-cell;\"></div><div style=\"display: table-cell;\">reset_policy&nbsp;=&nbsp;'standard',</div></div><div class=\"p1119\" style=\"display: none;\"><div style=\"display: table-cell;\"></div><div style=\"display: table-cell;\">resizable&nbsp;=&nbsp;False,</div></div><div class=\"p1119\" style=\"display: none;\"><div style=\"display: table-cell;\"></div><div style=\"display: table-cell;\">right&nbsp;=&nbsp;[],</div></div><div class=\"p1119\" style=\"display: none;\"><div style=\"display: table-cell;\"></div><div style=\"display: table-cell;\">sizing_mode&nbsp;=&nbsp;None,</div></div><div class=\"p1119\" style=\"display: none;\"><div style=\"display: table-cell;\"></div><div style=\"display: table-cell;\">styles&nbsp;=&nbsp;{},</div></div><div class=\"p1119\" style=\"display: none;\"><div style=\"display: table-cell;\"></div><div style=\"display: table-cell;\">stylesheets&nbsp;=&nbsp;[],</div></div><div class=\"p1119\" style=\"display: none;\"><div style=\"display: table-cell;\"></div><div style=\"display: table-cell;\">subscribed_events&nbsp;=&nbsp;PropertyValueSet(),</div></div><div class=\"p1119\" style=\"display: none;\"><div style=\"display: table-cell;\"></div><div style=\"display: table-cell;\">syncable&nbsp;=&nbsp;True,</div></div><div class=\"p1119\" style=\"display: none;\"><div style=\"display: table-cell;\"></div><div style=\"display: table-cell;\">tags&nbsp;=&nbsp;[],</div></div><div class=\"p1119\" style=\"display: none;\"><div style=\"display: table-cell;\"></div><div style=\"display: table-cell;\">title&nbsp;=&nbsp;Title(id='p1006', ...),</div></div><div class=\"p1119\" style=\"display: none;\"><div style=\"display: table-cell;\"></div><div style=\"display: table-cell;\">title_location&nbsp;=&nbsp;'above',</div></div><div class=\"p1119\" style=\"display: none;\"><div style=\"display: table-cell;\"></div><div style=\"display: table-cell;\">toolbar&nbsp;=&nbsp;Toolbar(id='p1012', ...),</div></div><div class=\"p1119\" style=\"display: none;\"><div style=\"display: table-cell;\"></div><div style=\"display: table-cell;\">toolbar_inner&nbsp;=&nbsp;False,</div></div><div class=\"p1119\" style=\"display: none;\"><div style=\"display: table-cell;\"></div><div style=\"display: table-cell;\">toolbar_location&nbsp;=&nbsp;'right',</div></div><div class=\"p1119\" style=\"display: none;\"><div style=\"display: table-cell;\"></div><div style=\"display: table-cell;\">toolbar_sticky&nbsp;=&nbsp;True,</div></div><div class=\"p1119\" style=\"display: none;\"><div style=\"display: table-cell;\"></div><div style=\"display: table-cell;\">visible&nbsp;=&nbsp;True,</div></div><div class=\"p1119\" style=\"display: none;\"><div style=\"display: table-cell;\"></div><div style=\"display: table-cell;\">width&nbsp;=&nbsp;600,</div></div><div class=\"p1119\" style=\"display: none;\"><div style=\"display: table-cell;\"></div><div style=\"display: table-cell;\">width_policy&nbsp;=&nbsp;'auto',</div></div><div class=\"p1119\" style=\"display: none;\"><div style=\"display: table-cell;\"></div><div style=\"display: table-cell;\">window_axis&nbsp;=&nbsp;'none',</div></div><div class=\"p1119\" style=\"display: none;\"><div style=\"display: table-cell;\"></div><div style=\"display: table-cell;\">x_range&nbsp;=&nbsp;DataRange1d(id='p1004', ...),</div></div><div class=\"p1119\" style=\"display: none;\"><div style=\"display: table-cell;\"></div><div style=\"display: table-cell;\">x_scale&nbsp;=&nbsp;LinearScale(id='p1013', ...),</div></div><div class=\"p1119\" style=\"display: none;\"><div style=\"display: table-cell;\"></div><div style=\"display: table-cell;\">y_range&nbsp;=&nbsp;DataRange1d(id='p1005', ...),</div></div><div class=\"p1119\" style=\"display: none;\"><div style=\"display: table-cell;\"></div><div style=\"display: table-cell;\">y_scale&nbsp;=&nbsp;LinearScale(id='p1014', ...))</div></div></div>\n",
       "<script>\n",
       "(function() {\n",
       "  let expanded = false;\n",
       "  const ellipsis = document.getElementById(\"p1120\");\n",
       "  ellipsis.addEventListener(\"click\", function() {\n",
       "    const rows = document.getElementsByClassName(\"p1119\");\n",
       "    for (let i = 0; i < rows.length; i++) {\n",
       "      const el = rows[i];\n",
       "      el.style.display = expanded ? \"none\" : \"table-row\";\n",
       "    }\n",
       "    ellipsis.innerHTML = expanded ? \"&hellip;)\" : \"&lsaquo;&lsaquo;&lsaquo;\";\n",
       "    expanded = !expanded;\n",
       "  });\n",
       "})();\n",
       "</script>\n"
      ],
      "text/plain": [
       "figure(id='p1003', ...)"
      ]
     },
     "execution_count": 2,
     "metadata": {},
     "output_type": "execute_result"
    }
   ],
   "source": [
    "import tools\n",
    "tools.plot_graph(d.graph(\"urn:my_app\"), limit=50)"
   ]
  },
  {
   "cell_type": "markdown",
   "id": "d8721734",
   "metadata": {},
   "source": [
    "## D3FEND knowledge graph\n",
    "\n",
    "D3FEND is a cybersecurity knowledge graph\n",
    "containing a taxonomy of:\n",
    "\n",
    "- digital artifacts (e.g., Server, Database, etc.);\n",
    "- defensive techniques (e.g., Multifactor Authentication, Network Isolation, File Analysis, etc.);\n",
    "- offensive techniques (e.g., Phishing, Content Injection, etc.).\n",
    "\n",
    "Let's load the D3FEND graph."
   ]
  },
  {
   "cell_type": "code",
   "execution_count": 3,
   "id": "1d01de33",
   "metadata": {},
   "outputs": [
    {
     "data": {
      "text/plain": [
       "<Graph identifier=http://d3fend.mitre.org/ontologies/d3fend.owl (<class 'rdflib.graph.Graph'>)>"
      ]
     },
     "execution_count": 3,
     "metadata": {},
     "output_type": "execute_result"
    }
   ],
   "source": [
    "d.bind(\"d3f\", \"http://d3fend.mitre.org/ontologies/d3fend.owl#\")\n",
    "d3fend = d.graph(\"http://d3fend.mitre.org/ontologies/d3fend.owl\")\n",
    "d3fend.parse(\"d3fend.ttl\", format=\"ox-turtle\")"
   ]
  },
  {
   "cell_type": "markdown",
   "id": "3b87b8a0",
   "metadata": {},
   "source": [
    "Exercise:\n",
    "\n",
    "- list digital artifacts"
   ]
  },
  {
   "cell_type": "code",
   "execution_count": 4,
   "id": "a666bfda",
   "metadata": {},
   "outputs": [
    {
     "data": {
      "text/plain": [
       "[(rdflib.term.URIRef('http://d3fend.mitre.org/ontologies/d3fend.owl#DigitalInformationBearer'),),\n",
       " (rdflib.term.URIRef('http://d3fend.mitre.org/ontologies/d3fend.owl#DigitalInformation'),)]"
      ]
     },
     "execution_count": 4,
     "metadata": {},
     "output_type": "execute_result"
    }
   ],
   "source": [
    "q = \"\"\"\n",
    "SELECT DISTINCT ?artifact\n",
    "WHERE {\n",
    "  ?artifact rdfs:subClassOf d3f:DigitalArtifact .\n",
    "}\n",
    "LIMIT 10\n",
    "\"\"\"\n",
    "result = d.query(q)\n",
    "list(result)"
   ]
  },
  {
   "cell_type": "markdown",
   "id": "40c29f87",
   "metadata": {},
   "source": [
    "- use the `rdfs:subClassOf` predicate to list the\n",
    "subclasses of `d3f:Server`"
   ]
  },
  {
   "cell_type": "code",
   "execution_count": 5,
   "id": "de2ad47a",
   "metadata": {},
   "outputs": [
    {
     "data": {
      "text/plain": [
       "[(rdflib.term.URIRef('http://d3fend.mitre.org/ontologies/d3fend.owl#MailServer'),),\n",
       " (rdflib.term.URIRef('http://d3fend.mitre.org/ontologies/d3fend.owl#WebServer'),),\n",
       " (rdflib.term.URIRef('http://d3fend.mitre.org/ontologies/d3fend.owl#ProxyServer'),),\n",
       " (rdflib.term.URIRef('http://d3fend.mitre.org/ontologies/d3fend.owl#OrchestrationServer'),),\n",
       " (rdflib.term.URIRef('http://d3fend.mitre.org/ontologies/d3fend.owl#NetworkTimeServer'),),\n",
       " (rdflib.term.URIRef('http://d3fend.mitre.org/ontologies/d3fend.owl#VPNServer'),),\n",
       " (rdflib.term.URIRef('http://d3fend.mitre.org/ontologies/d3fend.owl#TFTPServer'),),\n",
       " (rdflib.term.URIRef('http://d3fend.mitre.org/ontologies/d3fend.owl#PrintServer'),),\n",
       " (rdflib.term.URIRef('http://d3fend.mitre.org/ontologies/d3fend.owl#MediaServer'),),\n",
       " (rdflib.term.URIRef('http://d3fend.mitre.org/ontologies/d3fend.owl#FileServer'),),\n",
       " (rdflib.term.URIRef('http://d3fend.mitre.org/ontologies/d3fend.owl#DatabaseServer'),),\n",
       " (rdflib.term.URIRef('http://d3fend.mitre.org/ontologies/d3fend.owl#DNSServer'),),\n",
       " (rdflib.term.URIRef('http://d3fend.mitre.org/ontologies/d3fend.owl#DHCPServer'),),\n",
       " (rdflib.term.URIRef('http://d3fend.mitre.org/ontologies/d3fend.owl#ComputingServer'),),\n",
       " (rdflib.term.URIRef('http://d3fend.mitre.org/ontologies/d3fend.owl#AuthenticationServer'),),\n",
       " (rdflib.term.URIRef('urn:k8s:Node'),)]"
      ]
     },
     "execution_count": 5,
     "metadata": {},
     "output_type": "execute_result"
    }
   ],
   "source": [
    "q = \"\"\"\n",
    "SELECT DISTINCT ?artifact\n",
    "WHERE {\n",
    "  ?artifact rdfs:subClassOf d3f:Server .\n",
    "}\n",
    "\"\"\"\n",
    "result = d.query(q)\n",
    "list(result)"
   ]
  },
  {
   "cell_type": "markdown",
   "id": "6ba19cbe",
   "metadata": {},
   "source": [
    "Now we use `CONSTRUCT` to create a graph of the subclasses of `d3f:Server`"
   ]
  },
  {
   "cell_type": "code",
   "execution_count": 6,
   "id": "03871772",
   "metadata": {},
   "outputs": [],
   "source": [
    "q = \"\"\"\n",
    "CONSTRUCT {\n",
    "  ?artifact rdfs:subClassOf ?parent .\n",
    "}\n",
    "WHERE {\n",
    "  ?artifact rdfs:subClassOf ?parent .\n",
    "  ?parent rdfs:subClassOf* d3f:Server .\n",
    "}\n",
    "\"\"\"\n",
    "servers = d.query(q).graph"
   ]
  },
  {
   "cell_type": "markdown",
   "id": "adc9dc8a",
   "metadata": {},
   "source": [
    "Exercise: display the graph of subclasses of `d3f:Server`"
   ]
  },
  {
   "cell_type": "code",
   "execution_count": 7,
   "id": "4577ed58",
   "metadata": {},
   "outputs": [
    {
     "name": "stderr",
     "output_type": "stream",
     "text": [
      "/home/rpolli/workspace-py/python-course/sparql-101/notebooks/tools.py:30: FutureWarning: Downcasting object dtype arrays on .fillna, .ffill, .bfill is deprecated and will change in a future version. Call result.infer_objects(copy=False) instead. To opt-in to the future behavior, set `pd.set_option('future.no_silent_downcasting', True)`\n",
      "  df = df.fillna(df.max().max())\n",
      "ERROR:bokeh.core.validation.check:E-1001 (BAD_COLUMN_NAME): Glyph refers to nonexistent column name. This could either be due to a misspelling or typo, or due to an expected column being missing. : fill_color='fill_color' [no close matches] {renderer: GlyphRenderer(id='p1171', ...)}\n"
     ]
    },
    {
     "name": "stdout",
     "output_type": "stream",
     "text": [
      "http://www.w3.org/2000/01/rdf-schema#subClassOf\n",
      "http://www.w3.org/2000/01/rdf-schema#subClassOf\n",
      "http://www.w3.org/2000/01/rdf-schema#subClassOf\n",
      "http://www.w3.org/2000/01/rdf-schema#subClassOf\n",
      "http://www.w3.org/2000/01/rdf-schema#subClassOf\n",
      "http://www.w3.org/2000/01/rdf-schema#subClassOf\n",
      "http://www.w3.org/2000/01/rdf-schema#subClassOf\n",
      "http://www.w3.org/2000/01/rdf-schema#subClassOf\n",
      "http://www.w3.org/2000/01/rdf-schema#subClassOf\n",
      "http://www.w3.org/2000/01/rdf-schema#subClassOf\n",
      "http://www.w3.org/2000/01/rdf-schema#subClassOf\n",
      "http://www.w3.org/2000/01/rdf-schema#subClassOf\n",
      "http://www.w3.org/2000/01/rdf-schema#subClassOf\n",
      "http://www.w3.org/2000/01/rdf-schema#subClassOf\n",
      "http://www.w3.org/2000/01/rdf-schema#subClassOf\n",
      "http://www.w3.org/2000/01/rdf-schema#subClassOf\n",
      "http://www.w3.org/2000/01/rdf-schema#subClassOf\n",
      "http://www.w3.org/2000/01/rdf-schema#subClassOf\n",
      "http://www.w3.org/2000/01/rdf-schema#subClassOf\n",
      "http://www.w3.org/2000/01/rdf-schema#subClassOf\n",
      "http://www.w3.org/2000/01/rdf-schema#subClassOf\n",
      "http://www.w3.org/2000/01/rdf-schema#subClassOf\n",
      "http://www.w3.org/2000/01/rdf-schema#subClassOf\n",
      "http://www.w3.org/2000/01/rdf-schema#subClassOf\n",
      "http://www.w3.org/2000/01/rdf-schema#subClassOf\n"
     ]
    },
    {
     "data": {
      "text/html": [
       "\n",
       "  <div id=\"f42a044f-9ddd-4e8d-8981-e9ad2a70d59a\" data-root-id=\"p1121\" style=\"display: contents;\"></div>\n"
      ]
     },
     "metadata": {},
     "output_type": "display_data"
    },
    {
     "data": {
      "application/javascript": "(function(root) {\n  function embed_document(root) {\n  const docs_json = {\"09d46040-da3c-4580-b3b5-12e29320ad9a\":{\"version\":\"3.7.3\",\"title\":\"Bokeh Application\",\"roots\":[{\"type\":\"object\",\"name\":\"Figure\",\"id\":\"p1121\",\"attributes\":{\"x_range\":{\"type\":\"object\",\"name\":\"DataRange1d\",\"id\":\"p1122\"},\"y_range\":{\"type\":\"object\",\"name\":\"DataRange1d\",\"id\":\"p1123\"},\"x_scale\":{\"type\":\"object\",\"name\":\"LinearScale\",\"id\":\"p1131\"},\"y_scale\":{\"type\":\"object\",\"name\":\"LinearScale\",\"id\":\"p1132\"},\"title\":{\"type\":\"object\",\"name\":\"Title\",\"id\":\"p1124\",\"attributes\":{\"text\":\"RDF Graph Visualization with Bokeh\"}},\"renderers\":[{\"type\":\"object\",\"name\":\"GraphRenderer\",\"id\":\"p1166\",\"attributes\":{\"layout_provider\":{\"type\":\"object\",\"name\":\"StaticLayoutProvider\",\"id\":\"p1183\",\"attributes\":{\"graph_layout\":{\"type\":\"map\",\"entries\":[[\"http://d3fend.mitre.org/ontologies/d3fend.owl#ProxyServer\",{\"type\":\"ndarray\",\"array\":{\"type\":\"bytes\",\"data\":\"MF2JMrBz3j/u3YepAkvhvw==\"},\"shape\":[2],\"dtype\":\"float64\",\"order\":\"little\"}],[\"http://d3fend.mitre.org/ontologies/d3fend.owl#Server\",{\"type\":\"ndarray\",\"array\":{\"type\":\"bytes\",\"data\":\"x8OJ72RIy7/ZHJPMUtzCvw==\"},\"shape\":[2],\"dtype\":\"float64\",\"order\":\"little\"}],[\"urn:k8s:Registry\",{\"type\":\"ndarray\",\"array\":{\"type\":\"bytes\",\"data\":\"73RgoJt+7z/qBY5mgcjiPw==\"},\"shape\":[2],\"dtype\":\"float64\",\"order\":\"little\"}],[\"http://d3fend.mitre.org/ontologies/d3fend.owl#SoftwareArtifactServer\",{\"type\":\"ndarray\",\"array\":{\"type\":\"bytes\",\"data\":\"ItHrAcmF5j8pcl3utebnPw==\"},\"shape\":[2],\"dtype\":\"float64\",\"order\":\"little\"}],[\"http://d3fend.mitre.org/ontologies/d3fend.owl#TFTPServer\",{\"type\":\"ndarray\",\"array\":{\"type\":\"bytes\",\"data\":\"eEMJJ/Rqvr+hLurdo3zXPw==\"},\"shape\":[2],\"dtype\":\"float64\",\"order\":\"little\"}],[\"http://d3fend.mitre.org/ontologies/d3fend.owl#PrintServer\",{\"type\":\"ndarray\",\"array\":{\"type\":\"bytes\",\"data\":\"OyxfBkoc6b8hj8C77KfSPw==\"},\"shape\":[2],\"dtype\":\"float64\",\"order\":\"little\"}],[\"http://d3fend.mitre.org/ontologies/d3fend.owl#ArtifactServer\",{\"type\":\"ndarray\",\"array\":{\"type\":\"bytes\",\"data\":\"uAOuiGo+5z909aWEo1DWPw==\"},\"shape\":[2],\"dtype\":\"float64\",\"order\":\"little\"}],[\"http://d3fend.mitre.org/ontologies/d3fend.owl#WebServer\",{\"type\":\"ndarray\",\"array\":{\"type\":\"bytes\",\"data\":\"q09+0x/30z8jpEFv+cXaPw==\"},\"shape\":[2],\"dtype\":\"float64\",\"order\":\"little\"}],[\"http://d3fend.mitre.org/ontologies/d3fend.owl#WebApplicationServer\",{\"type\":\"ndarray\",\"array\":{\"type\":\"bytes\",\"data\":\"3jGoWIGi0D9fMf/tK6rrPw==\"},\"shape\":[2],\"dtype\":\"float64\",\"order\":\"little\"}],[\"http://d3fend.mitre.org/ontologies/d3fend.owl#MailServer\",{\"type\":\"ndarray\",\"array\":{\"type\":\"bytes\",\"data\":\"w16frKTl4L9ACAW5YzjRPw==\"},\"shape\":[2],\"dtype\":\"float64\",\"order\":\"little\"}],[\"http://d3fend.mitre.org/ontologies/d3fend.owl#OrchestrationController\",{\"type\":\"ndarray\",\"array\":{\"type\":\"bytes\",\"data\":\"eamMX99Ay786uklEQnLvPw==\"},\"shape\":[2],\"dtype\":\"float64\",\"order\":\"little\"}],[\"http://d3fend.mitre.org/ontologies/d3fend.owl#OrchestrationServer\",{\"type\":\"ndarray\",\"array\":{\"type\":\"bytes\",\"data\":\"JeREoqwr179eHjPYbcPjPw==\"},\"shape\":[2],\"dtype\":\"float64\",\"order\":\"little\"}],[\"http://d3fend.mitre.org/ontologies/d3fend.owl#ForwardProxyServer\",{\"type\":\"ndarray\",\"array\":{\"type\":\"bytes\",\"data\":\"w2rnGZhj4z+QdzWK4PTrvw==\"},\"shape\":[2],\"dtype\":\"float64\",\"order\":\"little\"}],[\"http://d3fend.mitre.org/ontologies/d3fend.owl#NetworkTimeServer\",{\"type\":\"ndarray\",\"array\":{\"type\":\"bytes\",\"data\":\"8gIpVSWF67/7Eh8D6iGjPw==\"},\"shape\":[2],\"dtype\":\"float64\",\"order\":\"little\"}],[\"urn:k8s:Node\",{\"type\":\"ndarray\",\"array\":{\"type\":\"bytes\",\"data\":\"2EgjLosx6r98t/61VazIvw==\"},\"shape\":[2],\"dtype\":\"float64\",\"order\":\"little\"}],[\"http://d3fend.mitre.org/ontologies/d3fend.owl#DHCPServer\",{\"type\":\"ndarray\",\"array\":{\"type\":\"bytes\",\"data\":\"eeZVNxqb6b/zMttLSc3cvw==\"},\"shape\":[2],\"dtype\":\"float64\",\"order\":\"little\"}],[\"http://d3fend.mitre.org/ontologies/d3fend.owl#AuthenticationServer\",{\"type\":\"ndarray\",\"array\":{\"type\":\"bytes\",\"data\":\"K9IBr2DA4b+kSjoolIbgvw==\"},\"shape\":[2],\"dtype\":\"float64\",\"order\":\"little\"}],[\"http://d3fend.mitre.org/ontologies/d3fend.owl#OrchestrationWorker\",{\"type\":\"ndarray\",\"array\":{\"type\":\"bytes\",\"data\":\"y4FyTjp35L9pE1OK7BrrPw==\"},\"shape\":[2],\"dtype\":\"float64\",\"order\":\"little\"}],[\"http://d3fend.mitre.org/ontologies/d3fend.owl#ReverseProxyServer\",{\"type\":\"ndarray\",\"array\":{\"type\":\"bytes\",\"data\":\"VA/hz07D6z/JB0Ak1p3fvw==\"},\"shape\":[2],\"dtype\":\"float64\",\"order\":\"little\"}],[\"http://d3fend.mitre.org/ontologies/d3fend.owl#VPNServer\",{\"type\":\"ndarray\",\"array\":{\"type\":\"bytes\",\"data\":\"+VqVi0T8378rVMFb20fovw==\"},\"shape\":[2],\"dtype\":\"float64\",\"order\":\"little\"}],[\"http://d3fend.mitre.org/ontologies/d3fend.owl#DatabaseServer\",{\"type\":\"ndarray\",\"array\":{\"type\":\"bytes\",\"data\":\"AmVkUG1Fz78+mEHYT5bpvw==\"},\"shape\":[2],\"dtype\":\"float64\",\"order\":\"little\"}],[\"http://d3fend.mitre.org/ontologies/d3fend.owl#MediaServer\",{\"type\":\"ndarray\",\"array\":{\"type\":\"bytes\",\"data\":\"Neh4JYLwjT/f8OGrRATrvw==\"},\"shape\":[2],\"dtype\":\"float64\",\"order\":\"little\"}],[\"http://d3fend.mitre.org/ontologies/d3fend.owl#DNSServer\",{\"type\":\"ndarray\",\"array\":{\"type\":\"bytes\",\"data\":\"aH1dvRBI1j+96nXy0JfQvw==\"},\"shape\":[2],\"dtype\":\"float64\",\"order\":\"little\"}],[\"http://d3fend.mitre.org/ontologies/d3fend.owl#FileServer\",{\"type\":\"ndarray\",\"array\":{\"type\":\"bytes\",\"data\":\"E963LNxD0D86UdadS2OePw==\"},\"shape\":[2],\"dtype\":\"float64\",\"order\":\"little\"}],[\"http://d3fend.mitre.org/ontologies/d3fend.owl#DataArtifactServer\",{\"type\":\"ndarray\",\"array\":{\"type\":\"bytes\",\"data\":\"////////7z8uEGAPNgSxPw==\"},\"shape\":[2],\"dtype\":\"float64\",\"order\":\"little\"}],[\"http://d3fend.mitre.org/ontologies/d3fend.owl#ComputingServer\",{\"type\":\"ndarray\",\"array\":{\"type\":\"bytes\",\"data\":\"YEk2aAWStT/DZUm+/hzjvw==\"},\"shape\":[2],\"dtype\":\"float64\",\"order\":\"little\"}]]}}},\"node_renderer\":{\"type\":\"object\",\"name\":\"GlyphRenderer\",\"id\":\"p1171\",\"attributes\":{\"data_source\":{\"type\":\"object\",\"name\":\"ColumnDataSource\",\"id\":\"p1168\",\"attributes\":{\"selected\":{\"type\":\"object\",\"name\":\"Selection\",\"id\":\"p1169\",\"attributes\":{\"indices\":[],\"line_indices\":[]}},\"selection_policy\":{\"type\":\"object\",\"name\":\"UnionRenderers\",\"id\":\"p1170\"},\"data\":{\"type\":\"map\",\"entries\":[[\"index\",[\"http://d3fend.mitre.org/ontologies/d3fend.owl#ProxyServer\",\"http://d3fend.mitre.org/ontologies/d3fend.owl#Server\",\"urn:k8s:Registry\",\"http://d3fend.mitre.org/ontologies/d3fend.owl#SoftwareArtifactServer\",\"http://d3fend.mitre.org/ontologies/d3fend.owl#TFTPServer\",\"http://d3fend.mitre.org/ontologies/d3fend.owl#PrintServer\",\"http://d3fend.mitre.org/ontologies/d3fend.owl#ArtifactServer\",\"http://d3fend.mitre.org/ontologies/d3fend.owl#WebServer\",\"http://d3fend.mitre.org/ontologies/d3fend.owl#WebApplicationServer\",\"http://d3fend.mitre.org/ontologies/d3fend.owl#MailServer\",\"http://d3fend.mitre.org/ontologies/d3fend.owl#OrchestrationController\",\"http://d3fend.mitre.org/ontologies/d3fend.owl#OrchestrationServer\",\"http://d3fend.mitre.org/ontologies/d3fend.owl#ForwardProxyServer\",\"http://d3fend.mitre.org/ontologies/d3fend.owl#NetworkTimeServer\",\"urn:k8s:Node\",\"http://d3fend.mitre.org/ontologies/d3fend.owl#DHCPServer\",\"http://d3fend.mitre.org/ontologies/d3fend.owl#AuthenticationServer\",\"http://d3fend.mitre.org/ontologies/d3fend.owl#OrchestrationWorker\",\"http://d3fend.mitre.org/ontologies/d3fend.owl#ReverseProxyServer\",\"http://d3fend.mitre.org/ontologies/d3fend.owl#VPNServer\",\"http://d3fend.mitre.org/ontologies/d3fend.owl#DatabaseServer\",\"http://d3fend.mitre.org/ontologies/d3fend.owl#MediaServer\",\"http://d3fend.mitre.org/ontologies/d3fend.owl#DNSServer\",\"http://d3fend.mitre.org/ontologies/d3fend.owl#FileServer\",\"http://d3fend.mitre.org/ontologies/d3fend.owl#DataArtifactServer\",\"http://d3fend.mitre.org/ontologies/d3fend.owl#ComputingServer\"]],[\"node_size\",[0.019375000000000003,0.060000000000000005,0.013125000000000001,0.01625,0.013125000000000001,0.013125000000000001,0.019375000000000003,0.019375000000000003,0.013125000000000001,0.013125000000000001,0.013125000000000001,0.019375000000000003,0.013125000000000001,0.013125000000000001,0.013125000000000001,0.013125000000000001,0.013125000000000001,0.013125000000000001,0.013125000000000001,0.013125000000000001,0.013125000000000001,0.013125000000000001,0.013125000000000001,0.013125000000000001,0.013125000000000001,0.013125000000000001]],[\"node_label\",[\"ProxyServer\",\"Server\",\"Registry\",\"SoftwareArtifactServer\",\"TFTPServer\",\"PrintServer\",\"ArtifactServer\",\"WebServer\",\"WebApplicationServer\",\"MailServer\",\"OrchestrationController\",\"OrchestrationServer\",\"ForwardProxyServer\",\"NetworkTimeServer\",\"Node\",\"DHCPServer\",\"AuthenticationServer\",\"OrchestrationWorker\",\"ReverseProxyServer\",\"VPNServer\",\"DatabaseServer\",\"MediaServer\",\"DNSServer\",\"FileServer\",\"DataArtifactServer\",\"ComputingServer\"]]]}}},\"view\":{\"type\":\"object\",\"name\":\"CDSView\",\"id\":\"p1172\",\"attributes\":{\"filter\":{\"type\":\"object\",\"name\":\"AllIndices\",\"id\":\"p1173\"}}},\"glyph\":{\"type\":\"object\",\"name\":\"Circle\",\"id\":\"p1184\",\"attributes\":{\"radius\":{\"type\":\"field\",\"field\":\"node_size\"},\"fill_color\":{\"type\":\"field\",\"field\":\"fill_color\"}}},\"selection_glyph\":{\"type\":\"object\",\"name\":\"Circle\",\"id\":\"p1185\",\"attributes\":{\"radius\":{\"type\":\"field\",\"field\":\"node_size\"},\"fill_color\":{\"type\":\"value\",\"value\":\"#fdae61\"}}},\"hover_glyph\":{\"type\":\"object\",\"name\":\"Circle\",\"id\":\"p1186\",\"attributes\":{\"radius\":{\"type\":\"field\",\"field\":\"node_size\"},\"fill_color\":{\"type\":\"value\",\"value\":\"#abdda4\"}}}}},\"edge_renderer\":{\"type\":\"object\",\"name\":\"GlyphRenderer\",\"id\":\"p1178\",\"attributes\":{\"data_source\":{\"type\":\"object\",\"name\":\"ColumnDataSource\",\"id\":\"p1175\",\"attributes\":{\"selected\":{\"type\":\"object\",\"name\":\"Selection\",\"id\":\"p1176\",\"attributes\":{\"indices\":[],\"line_indices\":[]}},\"selection_policy\":{\"type\":\"object\",\"name\":\"UnionRenderers\",\"id\":\"p1177\"},\"data\":{\"type\":\"map\",\"entries\":[[\"start\",[\"http://d3fend.mitre.org/ontologies/d3fend.owl#ProxyServer\",\"urn:k8s:Registry\",\"http://d3fend.mitre.org/ontologies/d3fend.owl#SoftwareArtifactServer\",\"http://d3fend.mitre.org/ontologies/d3fend.owl#TFTPServer\",\"http://d3fend.mitre.org/ontologies/d3fend.owl#PrintServer\",\"http://d3fend.mitre.org/ontologies/d3fend.owl#ArtifactServer\",\"http://d3fend.mitre.org/ontologies/d3fend.owl#WebServer\",\"http://d3fend.mitre.org/ontologies/d3fend.owl#WebApplicationServer\",\"http://d3fend.mitre.org/ontologies/d3fend.owl#MailServer\",\"http://d3fend.mitre.org/ontologies/d3fend.owl#OrchestrationController\",\"http://d3fend.mitre.org/ontologies/d3fend.owl#OrchestrationServer\",\"http://d3fend.mitre.org/ontologies/d3fend.owl#ForwardProxyServer\",\"http://d3fend.mitre.org/ontologies/d3fend.owl#NetworkTimeServer\",\"urn:k8s:Node\",\"http://d3fend.mitre.org/ontologies/d3fend.owl#DHCPServer\",\"http://d3fend.mitre.org/ontologies/d3fend.owl#AuthenticationServer\",\"http://d3fend.mitre.org/ontologies/d3fend.owl#OrchestrationWorker\",\"http://d3fend.mitre.org/ontologies/d3fend.owl#ReverseProxyServer\",\"http://d3fend.mitre.org/ontologies/d3fend.owl#VPNServer\",\"http://d3fend.mitre.org/ontologies/d3fend.owl#DatabaseServer\",\"http://d3fend.mitre.org/ontologies/d3fend.owl#MediaServer\",\"http://d3fend.mitre.org/ontologies/d3fend.owl#DNSServer\",\"http://d3fend.mitre.org/ontologies/d3fend.owl#FileServer\",\"http://d3fend.mitre.org/ontologies/d3fend.owl#DataArtifactServer\",\"http://d3fend.mitre.org/ontologies/d3fend.owl#ComputingServer\"]],[\"end\",[\"http://d3fend.mitre.org/ontologies/d3fend.owl#Server\",\"http://d3fend.mitre.org/ontologies/d3fend.owl#SoftwareArtifactServer\",\"http://d3fend.mitre.org/ontologies/d3fend.owl#ArtifactServer\",\"http://d3fend.mitre.org/ontologies/d3fend.owl#Server\",\"http://d3fend.mitre.org/ontologies/d3fend.owl#Server\",\"http://d3fend.mitre.org/ontologies/d3fend.owl#WebServer\",\"http://d3fend.mitre.org/ontologies/d3fend.owl#Server\",\"http://d3fend.mitre.org/ontologies/d3fend.owl#WebServer\",\"http://d3fend.mitre.org/ontologies/d3fend.owl#Server\",\"http://d3fend.mitre.org/ontologies/d3fend.owl#OrchestrationServer\",\"http://d3fend.mitre.org/ontologies/d3fend.owl#Server\",\"http://d3fend.mitre.org/ontologies/d3fend.owl#ProxyServer\",\"http://d3fend.mitre.org/ontologies/d3fend.owl#Server\",\"http://d3fend.mitre.org/ontologies/d3fend.owl#Server\",\"http://d3fend.mitre.org/ontologies/d3fend.owl#Server\",\"http://d3fend.mitre.org/ontologies/d3fend.owl#Server\",\"http://d3fend.mitre.org/ontologies/d3fend.owl#OrchestrationServer\",\"http://d3fend.mitre.org/ontologies/d3fend.owl#ProxyServer\",\"http://d3fend.mitre.org/ontologies/d3fend.owl#Server\",\"http://d3fend.mitre.org/ontologies/d3fend.owl#Server\",\"http://d3fend.mitre.org/ontologies/d3fend.owl#Server\",\"http://d3fend.mitre.org/ontologies/d3fend.owl#Server\",\"http://d3fend.mitre.org/ontologies/d3fend.owl#Server\",\"http://d3fend.mitre.org/ontologies/d3fend.owl#ArtifactServer\",\"http://d3fend.mitre.org/ontologies/d3fend.owl#Server\"]],[\"line_dash\",[\"dashed\",\"dashed\",\"dashed\",\"dashed\",\"dashed\",\"dashed\",\"dashed\",\"dashed\",\"dashed\",\"dashed\",\"dashed\",\"dashed\",\"dashed\",\"dashed\",\"dashed\",\"dashed\",\"dashed\",\"dashed\",\"dashed\",\"dashed\",\"dashed\",\"dashed\",\"dashed\",\"dashed\",\"dashed\"]]]}}},\"view\":{\"type\":\"object\",\"name\":\"CDSView\",\"id\":\"p1179\",\"attributes\":{\"filter\":{\"type\":\"object\",\"name\":\"AllIndices\",\"id\":\"p1180\"}}},\"glyph\":{\"type\":\"object\",\"name\":\"MultiLine\",\"id\":\"p1187\",\"attributes\":{\"line_color\":{\"type\":\"value\",\"value\":\"gray\"},\"line_alpha\":{\"type\":\"value\",\"value\":0.8},\"line_dash\":{\"type\":\"field\",\"field\":\"line_dash\"}}},\"selection_glyph\":{\"type\":\"object\",\"name\":\"MultiLine\",\"id\":\"p1188\",\"attributes\":{\"line_color\":{\"type\":\"value\",\"value\":\"red\"},\"line_width\":{\"type\":\"value\",\"value\":5}}},\"hover_glyph\":{\"type\":\"object\",\"name\":\"MultiLine\",\"id\":\"p1189\",\"attributes\":{\"line_color\":{\"type\":\"value\",\"value\":\"red\"},\"line_width\":{\"type\":\"value\",\"value\":5}}}}},\"selection_policy\":{\"type\":\"object\",\"name\":\"NodesAndLinkedEdges\",\"id\":\"p1190\"},\"inspection_policy\":{\"type\":\"object\",\"name\":\"NodesAndLinkedEdges\",\"id\":\"p1191\"}}},{\"type\":\"object\",\"name\":\"LabelSet\",\"id\":\"p1195\",\"attributes\":{\"source\":{\"type\":\"object\",\"name\":\"ColumnDataSource\",\"id\":\"p1192\",\"attributes\":{\"selected\":{\"type\":\"object\",\"name\":\"Selection\",\"id\":\"p1193\",\"attributes\":{\"indices\":[],\"line_indices\":[]}},\"selection_policy\":{\"type\":\"object\",\"name\":\"UnionRenderers\",\"id\":\"p1194\"},\"data\":{\"type\":\"map\",\"entries\":[[\"x\",[0.475811051704528,-0.21314679809759537,0.9842050678595607,0.7038311994097379,-0.11881948426277045,-0.784703266568051,0.7263691586996321,0.31195827153828287,0.25991853387747976,-0.5280326243909815,-0.2129172531652548,-0.36204067083923724,0.6059074884354562,-0.8600031531605892,-0.818547811615896,-0.8001833992741033,-0.5547336023433379,-0.6395541698621455,0.8675912914409118,-0.4997722018355684,-0.24430624413870566,0.014618889587939868,0.3481485223073464,0.2541418492032516,0.9999999999999999,0.08425935549010921]],[\"y\",[-0.5404065428874085,-0.1473487376117422,0.5869757655165675,0.746912923390089,0.3669824282776322,0.29149931273626534,0.348671798266728,0.4183333956230532,0.8645229004264755,0.2690667445023145,0.9826976140737493,0.6176060888910333,-0.873642225207492,0.03736811912634682,-0.19275924097513186,-0.4500296822341589,-0.516428068704347,0.8470366193438227,-0.4940085748677317,-0.7587715904325071,-0.7995986198191145,-0.8442710263330148,-0.25926612546724553,0.029675656803719287,0.0664705073868965,-0.5972894398247991]],[\"node_label\",[\"ProxyServer\",\"Server\",\"Registry\",\"SoftwareArtifactServer\",\"TFTPServer\",\"PrintServer\",\"ArtifactServer\",\"WebServer\",\"WebApplicationServer\",\"MailServer\",\"OrchestrationController\",\"OrchestrationServer\",\"ForwardProxyServer\",\"NetworkTimeServer\",\"Node\",\"DHCPServer\",\"AuthenticationServer\",\"OrchestrationWorker\",\"ReverseProxyServer\",\"VPNServer\",\"DatabaseServer\",\"MediaServer\",\"DNSServer\",\"FileServer\",\"DataArtifactServer\",\"ComputingServer\"]]]}}},\"x\":{\"type\":\"field\",\"field\":\"x\"},\"y\":{\"type\":\"field\",\"field\":\"y\"},\"text\":{\"type\":\"field\",\"field\":\"node_label\"},\"text_align\":{\"type\":\"value\",\"value\":\"center\"}}}],\"toolbar\":{\"type\":\"object\",\"name\":\"Toolbar\",\"id\":\"p1130\",\"attributes\":{\"tools\":[{\"type\":\"object\",\"name\":\"PanTool\",\"id\":\"p1143\"},{\"type\":\"object\",\"name\":\"WheelZoomTool\",\"id\":\"p1144\",\"attributes\":{\"renderers\":\"auto\"}},{\"type\":\"object\",\"name\":\"BoxZoomTool\",\"id\":\"p1145\",\"attributes\":{\"dimensions\":\"both\",\"overlay\":{\"type\":\"object\",\"name\":\"BoxAnnotation\",\"id\":\"p1146\",\"attributes\":{\"syncable\":false,\"line_color\":\"black\",\"line_alpha\":1.0,\"line_width\":2,\"line_dash\":[4,4],\"fill_color\":\"lightgrey\",\"fill_alpha\":0.5,\"level\":\"overlay\",\"visible\":false,\"left\":{\"type\":\"number\",\"value\":\"nan\"},\"right\":{\"type\":\"number\",\"value\":\"nan\"},\"top\":{\"type\":\"number\",\"value\":\"nan\"},\"bottom\":{\"type\":\"number\",\"value\":\"nan\"},\"left_units\":\"canvas\",\"right_units\":\"canvas\",\"top_units\":\"canvas\",\"bottom_units\":\"canvas\",\"handles\":{\"type\":\"object\",\"name\":\"BoxInteractionHandles\",\"id\":\"p1152\",\"attributes\":{\"all\":{\"type\":\"object\",\"name\":\"AreaVisuals\",\"id\":\"p1151\",\"attributes\":{\"fill_color\":\"white\",\"hover_fill_color\":\"lightgray\"}}}}}}}},{\"type\":\"object\",\"name\":\"SaveTool\",\"id\":\"p1153\"},{\"type\":\"object\",\"name\":\"ResetTool\",\"id\":\"p1154\"},{\"type\":\"object\",\"name\":\"HelpTool\",\"id\":\"p1155\"},{\"type\":\"object\",\"name\":\"HoverTool\",\"id\":\"p1156\",\"attributes\":{\"renderers\":\"auto\",\"tooltips\":null}},{\"type\":\"object\",\"name\":\"TapTool\",\"id\":\"p1157\",\"attributes\":{\"renderers\":\"auto\"}},{\"type\":\"object\",\"name\":\"BoxSelectTool\",\"id\":\"p1158\",\"attributes\":{\"renderers\":\"auto\",\"overlay\":{\"type\":\"object\",\"name\":\"BoxAnnotation\",\"id\":\"p1159\",\"attributes\":{\"syncable\":false,\"line_color\":\"black\",\"line_alpha\":1.0,\"line_width\":2,\"line_dash\":[4,4],\"fill_color\":\"lightgrey\",\"fill_alpha\":0.5,\"level\":\"overlay\",\"visible\":false,\"left\":{\"type\":\"number\",\"value\":\"nan\"},\"right\":{\"type\":\"number\",\"value\":\"nan\"},\"top\":{\"type\":\"number\",\"value\":\"nan\"},\"bottom\":{\"type\":\"number\",\"value\":\"nan\"},\"editable\":true,\"handles\":{\"type\":\"object\",\"name\":\"BoxInteractionHandles\",\"id\":\"p1165\",\"attributes\":{\"all\":{\"type\":\"object\",\"name\":\"AreaVisuals\",\"id\":\"p1164\",\"attributes\":{\"fill_color\":\"white\",\"hover_fill_color\":\"lightgray\"}}}}}}}}]}},\"left\":[{\"type\":\"object\",\"name\":\"LinearAxis\",\"id\":\"p1138\",\"attributes\":{\"ticker\":{\"type\":\"object\",\"name\":\"BasicTicker\",\"id\":\"p1139\",\"attributes\":{\"mantissas\":[1,2,5]}},\"formatter\":{\"type\":\"object\",\"name\":\"BasicTickFormatter\",\"id\":\"p1140\"},\"major_label_policy\":{\"type\":\"object\",\"name\":\"AllLabels\",\"id\":\"p1141\"}}}],\"below\":[{\"type\":\"object\",\"name\":\"LinearAxis\",\"id\":\"p1133\",\"attributes\":{\"ticker\":{\"type\":\"object\",\"name\":\"BasicTicker\",\"id\":\"p1134\",\"attributes\":{\"mantissas\":[1,2,5]}},\"formatter\":{\"type\":\"object\",\"name\":\"BasicTickFormatter\",\"id\":\"p1135\"},\"major_label_policy\":{\"type\":\"object\",\"name\":\"AllLabels\",\"id\":\"p1136\"}}}],\"center\":[{\"type\":\"object\",\"name\":\"Grid\",\"id\":\"p1137\",\"attributes\":{\"axis\":{\"id\":\"p1133\"}}},{\"type\":\"object\",\"name\":\"Grid\",\"id\":\"p1142\",\"attributes\":{\"dimension\":1,\"axis\":{\"id\":\"p1138\"}}}]}}]}};\n  const render_items = [{\"docid\":\"09d46040-da3c-4580-b3b5-12e29320ad9a\",\"roots\":{\"p1121\":\"f42a044f-9ddd-4e8d-8981-e9ad2a70d59a\"},\"root_ids\":[\"p1121\"]}];\n  void root.Bokeh.embed.embed_items_notebook(docs_json, render_items);\n  }\n  if (root.Bokeh !== undefined) {\n    embed_document(root);\n  } else {\n    let attempts = 0;\n    const timer = setInterval(function(root) {\n      if (root.Bokeh !== undefined) {\n        clearInterval(timer);\n        embed_document(root);\n      } else {\n        attempts++;\n        if (attempts > 100) {\n          clearInterval(timer);\n          console.log(\"Bokeh: ERROR: Unable to run BokehJS code because BokehJS library is missing\");\n        }\n      }\n    }, 10, root)\n  }\n})(window);",
      "application/vnd.bokehjs_exec.v0+json": ""
     },
     "metadata": {
      "application/vnd.bokehjs_exec.v0+json": {
       "id": "p1121"
      }
     },
     "output_type": "display_data"
    },
    {
     "data": {
      "text/html": [
       "<div style=\"display: table;\"><div style=\"display: table-row;\"><div style=\"display: table-cell;\"><b title=\"bokeh.plotting._figure.figure\">figure</b>(</div><div style=\"display: table-cell;\">id&nbsp;=&nbsp;'p1121', <span id=\"p1226\" style=\"cursor: pointer;\">&hellip;)</span></div></div><div class=\"p1225\" style=\"display: none;\"><div style=\"display: table-cell;\"></div><div style=\"display: table-cell;\">above&nbsp;=&nbsp;[],</div></div><div class=\"p1225\" style=\"display: none;\"><div style=\"display: table-cell;\"></div><div style=\"display: table-cell;\">align&nbsp;=&nbsp;'auto',</div></div><div class=\"p1225\" style=\"display: none;\"><div style=\"display: table-cell;\"></div><div style=\"display: table-cell;\">aspect_ratio&nbsp;=&nbsp;None,</div></div><div class=\"p1225\" style=\"display: none;\"><div style=\"display: table-cell;\"></div><div style=\"display: table-cell;\">aspect_scale&nbsp;=&nbsp;1,</div></div><div class=\"p1225\" style=\"display: none;\"><div style=\"display: table-cell;\"></div><div style=\"display: table-cell;\">attribution&nbsp;=&nbsp;[],</div></div><div class=\"p1225\" style=\"display: none;\"><div style=\"display: table-cell;\"></div><div style=\"display: table-cell;\">background_fill_alpha&nbsp;=&nbsp;1.0,</div></div><div class=\"p1225\" style=\"display: none;\"><div style=\"display: table-cell;\"></div><div style=\"display: table-cell;\">background_fill_color&nbsp;=&nbsp;'#ffffff',</div></div><div class=\"p1225\" style=\"display: none;\"><div style=\"display: table-cell;\"></div><div style=\"display: table-cell;\">background_hatch_alpha&nbsp;=&nbsp;1.0,</div></div><div class=\"p1225\" style=\"display: none;\"><div style=\"display: table-cell;\"></div><div style=\"display: table-cell;\">background_hatch_color&nbsp;=&nbsp;'black',</div></div><div class=\"p1225\" style=\"display: none;\"><div style=\"display: table-cell;\"></div><div style=\"display: table-cell;\">background_hatch_extra&nbsp;=&nbsp;{},</div></div><div class=\"p1225\" style=\"display: none;\"><div style=\"display: table-cell;\"></div><div style=\"display: table-cell;\">background_hatch_pattern&nbsp;=&nbsp;None,</div></div><div class=\"p1225\" style=\"display: none;\"><div style=\"display: table-cell;\"></div><div style=\"display: table-cell;\">background_hatch_scale&nbsp;=&nbsp;12.0,</div></div><div class=\"p1225\" style=\"display: none;\"><div style=\"display: table-cell;\"></div><div style=\"display: table-cell;\">background_hatch_weight&nbsp;=&nbsp;1.0,</div></div><div class=\"p1225\" style=\"display: none;\"><div style=\"display: table-cell;\"></div><div style=\"display: table-cell;\">below&nbsp;=&nbsp;[LinearAxis(id='p1133', ...)],</div></div><div class=\"p1225\" style=\"display: none;\"><div style=\"display: table-cell;\"></div><div style=\"display: table-cell;\">border_fill_alpha&nbsp;=&nbsp;1.0,</div></div><div class=\"p1225\" style=\"display: none;\"><div style=\"display: table-cell;\"></div><div style=\"display: table-cell;\">border_fill_color&nbsp;=&nbsp;'#ffffff',</div></div><div class=\"p1225\" style=\"display: none;\"><div style=\"display: table-cell;\"></div><div style=\"display: table-cell;\">border_hatch_alpha&nbsp;=&nbsp;1.0,</div></div><div class=\"p1225\" style=\"display: none;\"><div style=\"display: table-cell;\"></div><div style=\"display: table-cell;\">border_hatch_color&nbsp;=&nbsp;'black',</div></div><div class=\"p1225\" style=\"display: none;\"><div style=\"display: table-cell;\"></div><div style=\"display: table-cell;\">border_hatch_extra&nbsp;=&nbsp;{},</div></div><div class=\"p1225\" style=\"display: none;\"><div style=\"display: table-cell;\"></div><div style=\"display: table-cell;\">border_hatch_pattern&nbsp;=&nbsp;None,</div></div><div class=\"p1225\" style=\"display: none;\"><div style=\"display: table-cell;\"></div><div style=\"display: table-cell;\">border_hatch_scale&nbsp;=&nbsp;12.0,</div></div><div class=\"p1225\" style=\"display: none;\"><div style=\"display: table-cell;\"></div><div style=\"display: table-cell;\">border_hatch_weight&nbsp;=&nbsp;1.0,</div></div><div class=\"p1225\" style=\"display: none;\"><div style=\"display: table-cell;\"></div><div style=\"display: table-cell;\">center&nbsp;=&nbsp;[Grid(id='p1137', ...), Grid(id='p1142', ...)],</div></div><div class=\"p1225\" style=\"display: none;\"><div style=\"display: table-cell;\"></div><div style=\"display: table-cell;\">context_menu&nbsp;=&nbsp;'auto',</div></div><div class=\"p1225\" style=\"display: none;\"><div style=\"display: table-cell;\"></div><div style=\"display: table-cell;\">css_classes&nbsp;=&nbsp;[],</div></div><div class=\"p1225\" style=\"display: none;\"><div style=\"display: table-cell;\"></div><div style=\"display: table-cell;\">css_variables&nbsp;=&nbsp;{},</div></div><div class=\"p1225\" style=\"display: none;\"><div style=\"display: table-cell;\"></div><div style=\"display: table-cell;\">disabled&nbsp;=&nbsp;False,</div></div><div class=\"p1225\" style=\"display: none;\"><div style=\"display: table-cell;\"></div><div style=\"display: table-cell;\">elements&nbsp;=&nbsp;[],</div></div><div class=\"p1225\" style=\"display: none;\"><div style=\"display: table-cell;\"></div><div style=\"display: table-cell;\">extra_x_ranges&nbsp;=&nbsp;{},</div></div><div class=\"p1225\" style=\"display: none;\"><div style=\"display: table-cell;\"></div><div style=\"display: table-cell;\">extra_x_scales&nbsp;=&nbsp;{},</div></div><div class=\"p1225\" style=\"display: none;\"><div style=\"display: table-cell;\"></div><div style=\"display: table-cell;\">extra_y_ranges&nbsp;=&nbsp;{},</div></div><div class=\"p1225\" style=\"display: none;\"><div style=\"display: table-cell;\"></div><div style=\"display: table-cell;\">extra_y_scales&nbsp;=&nbsp;{},</div></div><div class=\"p1225\" style=\"display: none;\"><div style=\"display: table-cell;\"></div><div style=\"display: table-cell;\">flow_mode&nbsp;=&nbsp;'block',</div></div><div class=\"p1225\" style=\"display: none;\"><div style=\"display: table-cell;\"></div><div style=\"display: table-cell;\">frame_align&nbsp;=&nbsp;True,</div></div><div class=\"p1225\" style=\"display: none;\"><div style=\"display: table-cell;\"></div><div style=\"display: table-cell;\">frame_height&nbsp;=&nbsp;None,</div></div><div class=\"p1225\" style=\"display: none;\"><div style=\"display: table-cell;\"></div><div style=\"display: table-cell;\">frame_width&nbsp;=&nbsp;None,</div></div><div class=\"p1225\" style=\"display: none;\"><div style=\"display: table-cell;\"></div><div style=\"display: table-cell;\">height&nbsp;=&nbsp;600,</div></div><div class=\"p1225\" style=\"display: none;\"><div style=\"display: table-cell;\"></div><div style=\"display: table-cell;\">height_policy&nbsp;=&nbsp;'auto',</div></div><div class=\"p1225\" style=\"display: none;\"><div style=\"display: table-cell;\"></div><div style=\"display: table-cell;\">hidpi&nbsp;=&nbsp;True,</div></div><div class=\"p1225\" style=\"display: none;\"><div style=\"display: table-cell;\"></div><div style=\"display: table-cell;\">hold_render&nbsp;=&nbsp;False,</div></div><div class=\"p1225\" style=\"display: none;\"><div style=\"display: table-cell;\"></div><div style=\"display: table-cell;\">html_attributes&nbsp;=&nbsp;{},</div></div><div class=\"p1225\" style=\"display: none;\"><div style=\"display: table-cell;\"></div><div style=\"display: table-cell;\">html_id&nbsp;=&nbsp;None,</div></div><div class=\"p1225\" style=\"display: none;\"><div style=\"display: table-cell;\"></div><div style=\"display: table-cell;\">js_event_callbacks&nbsp;=&nbsp;{},</div></div><div class=\"p1225\" style=\"display: none;\"><div style=\"display: table-cell;\"></div><div style=\"display: table-cell;\">js_property_callbacks&nbsp;=&nbsp;{},</div></div><div class=\"p1225\" style=\"display: none;\"><div style=\"display: table-cell;\"></div><div style=\"display: table-cell;\">left&nbsp;=&nbsp;[LinearAxis(id='p1138', ...)],</div></div><div class=\"p1225\" style=\"display: none;\"><div style=\"display: table-cell;\"></div><div style=\"display: table-cell;\">lod_factor&nbsp;=&nbsp;10,</div></div><div class=\"p1225\" style=\"display: none;\"><div style=\"display: table-cell;\"></div><div style=\"display: table-cell;\">lod_interval&nbsp;=&nbsp;300,</div></div><div class=\"p1225\" style=\"display: none;\"><div style=\"display: table-cell;\"></div><div style=\"display: table-cell;\">lod_threshold&nbsp;=&nbsp;2000,</div></div><div class=\"p1225\" style=\"display: none;\"><div style=\"display: table-cell;\"></div><div style=\"display: table-cell;\">lod_timeout&nbsp;=&nbsp;500,</div></div><div class=\"p1225\" style=\"display: none;\"><div style=\"display: table-cell;\"></div><div style=\"display: table-cell;\">margin&nbsp;=&nbsp;None,</div></div><div class=\"p1225\" style=\"display: none;\"><div style=\"display: table-cell;\"></div><div style=\"display: table-cell;\">match_aspect&nbsp;=&nbsp;False,</div></div><div class=\"p1225\" style=\"display: none;\"><div style=\"display: table-cell;\"></div><div style=\"display: table-cell;\">max_height&nbsp;=&nbsp;None,</div></div><div class=\"p1225\" style=\"display: none;\"><div style=\"display: table-cell;\"></div><div style=\"display: table-cell;\">max_width&nbsp;=&nbsp;None,</div></div><div class=\"p1225\" style=\"display: none;\"><div style=\"display: table-cell;\"></div><div style=\"display: table-cell;\">min_border&nbsp;=&nbsp;5,</div></div><div class=\"p1225\" style=\"display: none;\"><div style=\"display: table-cell;\"></div><div style=\"display: table-cell;\">min_border_bottom&nbsp;=&nbsp;None,</div></div><div class=\"p1225\" style=\"display: none;\"><div style=\"display: table-cell;\"></div><div style=\"display: table-cell;\">min_border_left&nbsp;=&nbsp;None,</div></div><div class=\"p1225\" style=\"display: none;\"><div style=\"display: table-cell;\"></div><div style=\"display: table-cell;\">min_border_right&nbsp;=&nbsp;None,</div></div><div class=\"p1225\" style=\"display: none;\"><div style=\"display: table-cell;\"></div><div style=\"display: table-cell;\">min_border_top&nbsp;=&nbsp;None,</div></div><div class=\"p1225\" style=\"display: none;\"><div style=\"display: table-cell;\"></div><div style=\"display: table-cell;\">min_height&nbsp;=&nbsp;None,</div></div><div class=\"p1225\" style=\"display: none;\"><div style=\"display: table-cell;\"></div><div style=\"display: table-cell;\">min_width&nbsp;=&nbsp;None,</div></div><div class=\"p1225\" style=\"display: none;\"><div style=\"display: table-cell;\"></div><div style=\"display: table-cell;\">name&nbsp;=&nbsp;None,</div></div><div class=\"p1225\" style=\"display: none;\"><div style=\"display: table-cell;\"></div><div style=\"display: table-cell;\">outline_line_alpha&nbsp;=&nbsp;1.0,</div></div><div class=\"p1225\" style=\"display: none;\"><div style=\"display: table-cell;\"></div><div style=\"display: table-cell;\">outline_line_cap&nbsp;=&nbsp;'butt',</div></div><div class=\"p1225\" style=\"display: none;\"><div style=\"display: table-cell;\"></div><div style=\"display: table-cell;\">outline_line_color&nbsp;=&nbsp;'#e5e5e5',</div></div><div class=\"p1225\" style=\"display: none;\"><div style=\"display: table-cell;\"></div><div style=\"display: table-cell;\">outline_line_dash&nbsp;=&nbsp;[],</div></div><div class=\"p1225\" style=\"display: none;\"><div style=\"display: table-cell;\"></div><div style=\"display: table-cell;\">outline_line_dash_offset&nbsp;=&nbsp;0,</div></div><div class=\"p1225\" style=\"display: none;\"><div style=\"display: table-cell;\"></div><div style=\"display: table-cell;\">outline_line_join&nbsp;=&nbsp;'bevel',</div></div><div class=\"p1225\" style=\"display: none;\"><div style=\"display: table-cell;\"></div><div style=\"display: table-cell;\">outline_line_width&nbsp;=&nbsp;1,</div></div><div class=\"p1225\" style=\"display: none;\"><div style=\"display: table-cell;\"></div><div style=\"display: table-cell;\">output_backend&nbsp;=&nbsp;'canvas',</div></div><div class=\"p1225\" style=\"display: none;\"><div style=\"display: table-cell;\"></div><div style=\"display: table-cell;\">renderers&nbsp;=&nbsp;[GraphRenderer(id='p1166', ...), LabelSet(id='p1195', ...)],</div></div><div class=\"p1225\" style=\"display: none;\"><div style=\"display: table-cell;\"></div><div style=\"display: table-cell;\">reset_policy&nbsp;=&nbsp;'standard',</div></div><div class=\"p1225\" style=\"display: none;\"><div style=\"display: table-cell;\"></div><div style=\"display: table-cell;\">resizable&nbsp;=&nbsp;False,</div></div><div class=\"p1225\" style=\"display: none;\"><div style=\"display: table-cell;\"></div><div style=\"display: table-cell;\">right&nbsp;=&nbsp;[],</div></div><div class=\"p1225\" style=\"display: none;\"><div style=\"display: table-cell;\"></div><div style=\"display: table-cell;\">sizing_mode&nbsp;=&nbsp;None,</div></div><div class=\"p1225\" style=\"display: none;\"><div style=\"display: table-cell;\"></div><div style=\"display: table-cell;\">styles&nbsp;=&nbsp;{},</div></div><div class=\"p1225\" style=\"display: none;\"><div style=\"display: table-cell;\"></div><div style=\"display: table-cell;\">stylesheets&nbsp;=&nbsp;[],</div></div><div class=\"p1225\" style=\"display: none;\"><div style=\"display: table-cell;\"></div><div style=\"display: table-cell;\">subscribed_events&nbsp;=&nbsp;PropertyValueSet(),</div></div><div class=\"p1225\" style=\"display: none;\"><div style=\"display: table-cell;\"></div><div style=\"display: table-cell;\">syncable&nbsp;=&nbsp;True,</div></div><div class=\"p1225\" style=\"display: none;\"><div style=\"display: table-cell;\"></div><div style=\"display: table-cell;\">tags&nbsp;=&nbsp;[],</div></div><div class=\"p1225\" style=\"display: none;\"><div style=\"display: table-cell;\"></div><div style=\"display: table-cell;\">title&nbsp;=&nbsp;Title(id='p1124', ...),</div></div><div class=\"p1225\" style=\"display: none;\"><div style=\"display: table-cell;\"></div><div style=\"display: table-cell;\">title_location&nbsp;=&nbsp;'above',</div></div><div class=\"p1225\" style=\"display: none;\"><div style=\"display: table-cell;\"></div><div style=\"display: table-cell;\">toolbar&nbsp;=&nbsp;Toolbar(id='p1130', ...),</div></div><div class=\"p1225\" style=\"display: none;\"><div style=\"display: table-cell;\"></div><div style=\"display: table-cell;\">toolbar_inner&nbsp;=&nbsp;False,</div></div><div class=\"p1225\" style=\"display: none;\"><div style=\"display: table-cell;\"></div><div style=\"display: table-cell;\">toolbar_location&nbsp;=&nbsp;'right',</div></div><div class=\"p1225\" style=\"display: none;\"><div style=\"display: table-cell;\"></div><div style=\"display: table-cell;\">toolbar_sticky&nbsp;=&nbsp;True,</div></div><div class=\"p1225\" style=\"display: none;\"><div style=\"display: table-cell;\"></div><div style=\"display: table-cell;\">visible&nbsp;=&nbsp;True,</div></div><div class=\"p1225\" style=\"display: none;\"><div style=\"display: table-cell;\"></div><div style=\"display: table-cell;\">width&nbsp;=&nbsp;600,</div></div><div class=\"p1225\" style=\"display: none;\"><div style=\"display: table-cell;\"></div><div style=\"display: table-cell;\">width_policy&nbsp;=&nbsp;'auto',</div></div><div class=\"p1225\" style=\"display: none;\"><div style=\"display: table-cell;\"></div><div style=\"display: table-cell;\">window_axis&nbsp;=&nbsp;'none',</div></div><div class=\"p1225\" style=\"display: none;\"><div style=\"display: table-cell;\"></div><div style=\"display: table-cell;\">x_range&nbsp;=&nbsp;DataRange1d(id='p1122', ...),</div></div><div class=\"p1225\" style=\"display: none;\"><div style=\"display: table-cell;\"></div><div style=\"display: table-cell;\">x_scale&nbsp;=&nbsp;LinearScale(id='p1131', ...),</div></div><div class=\"p1225\" style=\"display: none;\"><div style=\"display: table-cell;\"></div><div style=\"display: table-cell;\">y_range&nbsp;=&nbsp;DataRange1d(id='p1123', ...),</div></div><div class=\"p1225\" style=\"display: none;\"><div style=\"display: table-cell;\"></div><div style=\"display: table-cell;\">y_scale&nbsp;=&nbsp;LinearScale(id='p1132', ...))</div></div></div>\n",
       "<script>\n",
       "(function() {\n",
       "  let expanded = false;\n",
       "  const ellipsis = document.getElementById(\"p1226\");\n",
       "  ellipsis.addEventListener(\"click\", function() {\n",
       "    const rows = document.getElementsByClassName(\"p1225\");\n",
       "    for (let i = 0; i < rows.length; i++) {\n",
       "      const el = rows[i];\n",
       "      el.style.display = expanded ? \"none\" : \"table-row\";\n",
       "    }\n",
       "    ellipsis.innerHTML = expanded ? \"&hellip;)\" : \"&lsaquo;&lsaquo;&lsaquo;\";\n",
       "    expanded = !expanded;\n",
       "  });\n",
       "})();\n",
       "</script>\n"
      ],
      "text/plain": [
       "figure(id='p1121', ...)"
      ]
     },
     "execution_count": 7,
     "metadata": {},
     "output_type": "execute_result"
    }
   ],
   "source": [
    "import tools\n",
    "tools.plot_graph(servers)"
   ]
  },
  {
   "cell_type": "markdown",
   "id": "ea894c9a",
   "metadata": {},
   "source": [
    "- list defensive techniques that are subclasses with `d3f:FileAnalysis`\n",
    "  together with their `d3f:definition`s"
   ]
  },
  {
   "cell_type": "code",
   "execution_count": 8,
   "id": "8ab82133",
   "metadata": {},
   "outputs": [
    {
     "name": "stdout",
     "output_type": "stream",
     "text": [
      "http://d3fend.mitre.org/ontologies/d3fend.owl#FileContentRules Employing a pattern matching rule language to analyze the content of files.\n",
      "http://d3fend.mitre.org/ontologies/d3fend.owl#FileHashing Employing file hash comparisons to detect known malware.\n",
      "http://d3fend.mitre.org/ontologies/d3fend.owl#FileAnalysis File Analysis is an analytic process to determine a file's status. For example: virus, trojan, benign, malicious, trusted, unauthorized, sensitive, etc.\n",
      "http://d3fend.mitre.org/ontologies/d3fend.owl#DynamicAnalysis Executing or opening a file in a synthetic \"sandbox\" environment to determine if the file is a malicious program or if the file exploits another program such as a document reader.\n",
      "http://d3fend.mitre.org/ontologies/d3fend.owl#EmulatedFileAnalysis Emulating instructions in a file looking for specific patterns.\n",
      "http://d3fend.mitre.org/ontologies/d3fend.owl#FileContentAnalysis Employing a pattern matching algorithm to statically analyze the content of files.\n"
     ]
    }
   ],
   "source": [
    "q = \"\"\"\n",
    "SELECT DISTINCT\n",
    "    ?technique\n",
    "    ?definition\n",
    "WHERE {\n",
    "  ?technique rdfs:subClassOf* d3f:FileAnalysis ;\n",
    "    d3f:definition ?definition .\n",
    "}\n",
    "\"\"\"\n",
    "\n",
    "for r in d.query(q):\n",
    "    print(r.technique, r.definition)"
   ]
  },
  {
   "cell_type": "markdown",
   "id": "c706a1e5",
   "metadata": {},
   "source": [
    "Now, let's list the defensive techniques associated with the `d3f:Server` artifact."
   ]
  },
  {
   "cell_type": "code",
   "execution_count": 9,
   "id": "b142e521",
   "metadata": {},
   "outputs": [
    {
     "name": "stdout",
     "output_type": "stream",
     "text": [
      "http://d3fend.mitre.org/ontologies/d3fend.owl#EmailRemoval protects http://d3fend.mitre.org/ontologies/d3fend.owl#MailServer\n"
     ]
    }
   ],
   "source": [
    "q = \"\"\"\n",
    "SELECT DISTINCT\n",
    "    ?technique\n",
    "    ?artifact\n",
    "WHERE {\n",
    "  ?technique rdfs:subClassOf* d3f:DefensiveTechnique .\n",
    "  ?artifact rdfs:subClassOf* d3f:Server .\n",
    "  \n",
    "  ?technique ?protects ?artifact .\n",
    "}\n",
    "\"\"\"\n",
    "result = d.query(q)\n",
    "for r in result:\n",
    "    print(f\"{r.technique} protects {r.artifact}\")"
   ]
  },
  {
   "cell_type": "markdown",
   "id": "4e792c97",
   "metadata": {},
   "source": [
    "Exercise:\n",
    "\n",
    "- show the `rdfs:label` of the `?technique`"
   ]
  },
  {
   "cell_type": "code",
   "execution_count": 10,
   "id": "12ebe33d",
   "metadata": {},
   "outputs": [
    {
     "ename": "AttributeError",
     "evalue": "techniqueLabel",
     "output_type": "error",
     "traceback": [
      "\u001b[31m---------------------------------------------------------------------------\u001b[39m",
      "\u001b[31mAttributeError\u001b[39m                            Traceback (most recent call last)",
      "\u001b[36mCell\u001b[39m\u001b[36m \u001b[39m\u001b[32mIn[10]\u001b[39m\u001b[32m, line 15\u001b[39m\n\u001b[32m     13\u001b[39m result = d.query(q)\n\u001b[32m     14\u001b[39m \u001b[38;5;28;01mfor\u001b[39;00m r \u001b[38;5;129;01min\u001b[39;00m result:\n\u001b[32m---> \u001b[39m\u001b[32m15\u001b[39m     \u001b[38;5;28mprint\u001b[39m(\u001b[33mf\u001b[39m\u001b[33m\"\u001b[39m\u001b[38;5;132;01m{\u001b[39;00m\u001b[43mr\u001b[49m\u001b[43m.\u001b[49m\u001b[43mtechniqueLabel\u001b[49m\u001b[38;5;132;01m}\u001b[39;00m\u001b[33m protects \u001b[39m\u001b[38;5;132;01m{\u001b[39;00mr.artifact\u001b[38;5;132;01m}\u001b[39;00m\u001b[33m\"\u001b[39m)\n",
      "\u001b[36mFile \u001b[39m\u001b[32m~/workspace-py/python-course/sparql-101/.tox/py3/lib/python3.12/site-packages/rdflib/query.py:166\u001b[39m, in \u001b[36mResultRow.__getattr__\u001b[39m\u001b[34m(self, name)\u001b[39m\n\u001b[32m    164\u001b[39m \u001b[38;5;28;01mdef\u001b[39;00m\u001b[38;5;250m \u001b[39m\u001b[34m__getattr__\u001b[39m(\u001b[38;5;28mself\u001b[39m, name: \u001b[38;5;28mstr\u001b[39m) -> Identifier:\n\u001b[32m    165\u001b[39m     \u001b[38;5;28;01mif\u001b[39;00m name \u001b[38;5;129;01mnot\u001b[39;00m \u001b[38;5;129;01min\u001b[39;00m \u001b[38;5;28mself\u001b[39m.labels:\n\u001b[32m--> \u001b[39m\u001b[32m166\u001b[39m         \u001b[38;5;28;01mraise\u001b[39;00m \u001b[38;5;167;01mAttributeError\u001b[39;00m(name)\n\u001b[32m    167\u001b[39m     \u001b[38;5;28;01mreturn\u001b[39;00m \u001b[38;5;28mtuple\u001b[39m.\u001b[34m__getitem__\u001b[39m(\u001b[38;5;28mself\u001b[39m, \u001b[38;5;28mself\u001b[39m.labels[name])\n",
      "\u001b[31mAttributeError\u001b[39m: techniqueLabel"
     ]
    }
   ],
   "source": [
    "q = \"\"\"\n",
    "SELECT DISTINCT\n",
    "    ?technique_label\n",
    "    ?artifact\n",
    "WHERE {\n",
    "  ?artifact rdfs:subClassOf* d3f:Server .\n",
    "\n",
    "  ?technique rdfs:subClassOf* d3f:DefensiveTechnique .\n",
    "  ?technique ?protects ?artifact .\n",
    "  ?technique rdfs:label ?technique_label .\n",
    "}\n",
    "\"\"\"\n",
    "result = d.query(q)\n",
    "for r in result:\n",
    "    print(f\"{r.techniqueLabel} protects {r.artifact}\")"
   ]
  },
  {
   "cell_type": "markdown",
   "id": "2a152438",
   "metadata": {},
   "source": [
    "- replace `d3f:DefensiveTechnique` with `d3f:OffensiveTechnique`\n",
    "  and list offensive techniques that affect the `d3f:Server` artifact"
   ]
  },
  {
   "cell_type": "code",
   "execution_count": 12,
   "id": "b60ff9a2",
   "metadata": {},
   "outputs": [
    {
     "name": "stdout",
     "output_type": "stream",
     "text": [
      "Web Shell attacks http://d3fend.mitre.org/ontologies/d3fend.owl#WebServer\n",
      "Transport Agent attacks http://d3fend.mitre.org/ontologies/d3fend.owl#MailServer\n",
      "Remote Email Collection attacks http://d3fend.mitre.org/ontologies/d3fend.owl#MailServer\n"
     ]
    }
   ],
   "source": [
    "q = \"\"\"\n",
    "SELECT DISTINCT\n",
    "    ?techniqueLabel\n",
    "    ?artifact\n",
    "WHERE {\n",
    "  ?artifact rdfs:subClassOf* d3f:Server .\n",
    "  \n",
    "  ?technique rdfs:subClassOf* d3f:OffensiveTechnique ;\n",
    "    rdfs:label ?techniqueLabel ;\n",
    "    ?protects ?artifact\n",
    "  .\n",
    "}\n",
    "\"\"\"\n",
    "result = d.query(q)\n",
    "for r in result:\n",
    "    print(f\"{r.techniqueLabel} attacks {r.artifact}\")"
   ]
  },
  {
   "cell_type": "markdown",
   "id": "0a8f6576",
   "metadata": {},
   "source": [
    "## Packing it all together\n",
    "\n",
    "Let's look at our dataset now:\n",
    "\n",
    "- one contains our application infrastructure;\n",
    "- one contains cybersecurity knowledge, including\n",
    "  artifacts, offensive and defensive techniques."
   ]
  },
  {
   "cell_type": "markdown",
   "id": "16cf38e2",
   "metadata": {},
   "source": [
    "```mermaid\n",
    "graph LR\n",
    "\n",
    "subgraph dataset\n",
    "  subgraph d3fend \n",
    "  d3f:Credential -.-> d3f:DigitalArtifact\n",
    "  d3f:WebServer -.-> d3f:Server -.-> d3f:DigitalArtifact\n",
    "  d3f:CredentialRotation([d3f:CredentialRotation]) ==>|defends| d3f:Credential\n",
    "  d3f:UnsecuredCredential>d3f:UnsecuredCredential] ==>|attacks| d3f:Credential\n",
    "  end\n",
    "\n",
    "  subgraph kube \n",
    "  db_password -.->|a| k8s:Secret\n",
    "  app -.->|a| k8s:Deployment\n",
    "  end\n",
    "end\n",
    "```"
   ]
  },
  {
   "cell_type": "markdown",
   "id": "9c00872c",
   "metadata": {},
   "source": [
    "The kube graph contains not only the Kubernetes resources..."
   ]
  },
  {
   "cell_type": "code",
   "execution_count": 16,
   "id": "2c6c4dd2",
   "metadata": {},
   "outputs": [
    {
     "data": {
      "text/plain": [
       "['urn:k8s:Job',\n",
       " 'urn:k8s:HorizontalPodAutoscaler',\n",
       " 'urn:k8s:Workload',\n",
       " 'urn:k8s:Pod',\n",
       " 'urn:k8s:Host',\n",
       " 'urn:k8s:Endpoints',\n",
       " 'urn:k8s:CronJob',\n",
       " 'urn:k8s:DeploymentConfig',\n",
       " 'urn:k8s:Node',\n",
       " 'urn:k8s:ReplicaSet',\n",
       " 'urn:k8s:ImageStream',\n",
       " 'urn:k8s:Port',\n",
       " 'urn:k8s:Deployment',\n",
       " 'urn:k8s:Secret',\n",
       " 'urn:k8s:BuildConfig',\n",
       " 'urn:k8s:PersistentVolumeClaim',\n",
       " 'urn:k8s:DaemonSet',\n",
       " 'urn:k8s:StatefulSet',\n",
       " 'urn:k8s:Image',\n",
       " 'urn:k8s:Service',\n",
       " 'urn:k8s:Kind',\n",
       " 'urn:k8s:Container',\n",
       " 'urn:k8s:Cluster',\n",
       " 'urn:k8s:ConfigMap',\n",
       " 'urn:k8s:Route',\n",
       " 'urn:k8s:Namespace',\n",
       " 'urn:k8s:Application']"
      ]
     },
     "execution_count": 16,
     "metadata": {},
     "output_type": "execute_result"
    }
   ],
   "source": [
    "q = \"\"\"\n",
    "SELECT DISTINCT\n",
    "  ?kube\n",
    "WHERE {\n",
    "  # Kubernetes resources.\n",
    "  ?kube rdfs:subClassOf* k8s:Kind .\n",
    "}\n",
    "\"\"\"\n",
    "[str(x[0]) for x in kube.query(q)]"
   ]
  },
  {
   "cell_type": "markdown",
   "id": "cc8820af",
   "metadata": {},
   "source": [
    ".. but even links to the D3FEND graph."
   ]
  },
  {
   "cell_type": "code",
   "execution_count": 23,
   "id": "dc2719fc",
   "metadata": {},
   "outputs": [
    {
     "name": "stdout",
     "output_type": "stream",
     "text": [
      "urn:k8s:Service is a d3f:IntranetNetworkTraffic\n",
      "urn:k8s:Secret is a d3f:Credential\n",
      "urn:k8s:Secret is a d3f:ConfigurationResource\n",
      "urn:k8s:Route is a d3f:InternetNetworkTraffic\n",
      "urn:k8s:Port is a d3f:NetworkService\n",
      "urn:k8s:PersistentVolumeClaim is a d3f:Volume\n",
      "urn:k8s:Node is a d3f:Server\n",
      "urn:k8s:ImageStream is a d3f:ContainerImage\n",
      "urn:k8s:Image is a d3f:ContainerImage\n",
      "urn:k8s:Host is a d3f:NetworkNode\n",
      "urn:k8s:Endpoints is a d3f:NetworkService\n",
      "urn:k8s:DeploymentConfig is a d3f:ApplicationConfiguration\n",
      "urn:k8s:Deployment is a d3f:ApplicationConfiguration\n",
      "urn:k8s:Container is a d3f:ContainerProcess\n",
      "urn:k8s:ConfigMap is a d3f:ConfigurationResource\n",
      "urn:k8s:Cluster is a d3f:ContainerOrchestrationSoftware\n"
     ]
    }
   ],
   "source": [
    "q = \"\"\"\n",
    "PREFIX k8s: <urn:k8s:>\n",
    "PREFIX d3f: <http://d3fend.mitre.org/ontologies/d3fend.owl#>\n",
    "PREFIX rdfs: <http://www.w3.org/2000/01/rdf-schema#>\n",
    "\n",
    "SELECT DISTINCT\n",
    "  ?kube\n",
    "  ?d3fend\n",
    "WHERE {\n",
    "  # Kubernetes resources.\n",
    "  GRAPH <urn:my_app> {\n",
    "    ?kube rdfs:subClassOf* k8s:Kind ;\n",
    "        rdfs:subClassOf ?d3fend \n",
    "    .\n",
    "  }\n",
    "\n",
    "  # D3FEND resources.\n",
    "  GRAPH <http://d3fend.mitre.org/ontologies/d3fend.owl>{\n",
    "    ?d3fend rdfs:subClassOf* d3f:DigitalArtifact .\n",
    "  }\n",
    "}\n",
    "\"\"\"\n",
    "for r in d.query(q):\n",
    "    print(r.kube, \"is a\", d.namespace_manager.curie(r.d3fend))"
   ]
  },
  {
   "cell_type": "markdown",
   "id": "a714e984",
   "metadata": {},
   "source": [
    "So we actually get links between our application\n",
    "objects and the d3fend knowledge base."
   ]
  },
  {
   "cell_type": "markdown",
   "id": "1ee431cf",
   "metadata": {},
   "source": [
    "```mermaid\n",
    "graph LR\n",
    "\n",
    "subgraph dataset\n",
    "  subgraph d3fend \n",
    "  d3f:Credential -.-> d3f:DigitalArtifact\n",
    "  d3f:ContainerImage -.-> d3f:Server -.-> d3f:DigitalArtifact\n",
    "  d3f:CredentialRotation([d3f:CredentialRotation]) ==>|defends| d3f:Credential\n",
    "  d3f:UnsecuredCredential>d3f:UnsecuredCredential] ==>|attacks| d3f:Credential\n",
    "  d3f:Container\n",
    "  end\n",
    "\n",
    "  subgraph kube \n",
    "  db_password -.->|a| k8s:Secret\n",
    "  app -->|a| k8s:Deployment\n",
    "  end\n",
    "\n",
    "  k8s:Secret -.-> d3f:Credential\n",
    "  k8s:Deployment --> d3f:Container --> d3f:ContainerImage\n",
    "end\n",
    "```"
   ]
  },
  {
   "cell_type": "markdown",
   "id": "f228fd51",
   "metadata": {},
   "source": [
    "So we can ask for example\n",
    "the attack classes towards\n",
    "our components."
   ]
  },
  {
   "cell_type": "code",
   "execution_count": null,
   "id": "3f69ed6b",
   "metadata": {},
   "outputs": [
    {
     "name": "stdout",
     "output_type": "stream",
     "text": [
      "Adversary-in-the-Middle, produces NetworkTraffic for https://k8s.local/default_/Service/frontend\n",
      "Adversary-in-the-Middle, produces NetworkTraffic for https://k8s.local/default_/Service/redis-master\n",
      "Adversary-in-the-Middle, produces NetworkTraffic for https://k8s.local/default_/Service/redis-replica\n",
      "Application Access Token, may-produce NetworkTraffic for https://k8s.local/default_/Service/frontend\n",
      "Application Access Token, may-produce NetworkTraffic for https://k8s.local/default_/Service/redis-master\n",
      "Application Access Token, may-produce NetworkTraffic for https://k8s.local/default_/Service/redis-replica\n",
      "CMSTP, may-produce NetworkTraffic for https://k8s.local/default_/Service/frontend\n",
      "CMSTP, may-produce NetworkTraffic for https://k8s.local/default_/Service/redis-master\n",
      "CMSTP, may-produce NetworkTraffic for https://k8s.local/default_/Service/redis-replica\n",
      "Emond, modifies ConfigurationResource for https://k8s.local/default_/Deployment/frontend\n",
      "Emond, modifies ConfigurationResource for https://k8s.local/default_/Deployment/redis-master\n",
      "Emond, modifies ConfigurationResource for https://k8s.local/default_/Deployment/redis-replica\n",
      "Port Knocking, produces NetworkTraffic for https://k8s.local/default_/Service/frontend\n",
      "Port Knocking, produces NetworkTraffic for https://k8s.local/default_/Service/redis-master\n",
      "Port Knocking, produces NetworkTraffic for https://k8s.local/default_/Service/redis-replica\n",
      "Remote System Discovery, produces NetworkTraffic for https://k8s.local/default_/Service/frontend\n",
      "Remote System Discovery, produces NetworkTraffic for https://k8s.local/default_/Service/redis-master\n",
      "Remote System Discovery, produces NetworkTraffic for https://k8s.local/default_/Service/redis-replica\n",
      "System Location Discovery, accesses ConfigurationResource for https://k8s.local/default_/Deployment/frontend\n",
      "System Location Discovery, accesses ConfigurationResource for https://k8s.local/default_/Deployment/redis-master\n",
      "System Location Discovery, accesses ConfigurationResource for https://k8s.local/default_/Deployment/redis-replica\n",
      "Traffic Signaling, produces NetworkTraffic for https://k8s.local/default_/Service/frontend\n",
      "Traffic Signaling, produces NetworkTraffic for https://k8s.local/default_/Service/redis-master\n",
      "Traffic Signaling, produces NetworkTraffic for https://k8s.local/default_/Service/redis-replica\n",
      "Transmitted Data Manipulation, may-modify NetworkTraffic for https://k8s.local/default_/Service/frontend\n",
      "Transmitted Data Manipulation, may-modify NetworkTraffic for https://k8s.local/default_/Service/redis-master\n",
      "Transmitted Data Manipulation, may-modify NetworkTraffic for https://k8s.local/default_/Service/redis-replica\n"
     ]
    }
   ],
   "source": [
    "attack_surface = d.query(\"\"\"\n",
    "SELECT DISTINCT\n",
    "  ?attack_label\n",
    "  ?affects\n",
    "  ?artifact\n",
    "  ?kube_resource\n",
    "WHERE {\n",
    "  # Get digital artifacts associated with Kubernetes resources.\n",
    "  ?kind rdfs:subClassOf* k8s:Kind ;\n",
    "          rdfs:subClassOf ?artifact .\n",
    "                         \n",
    "  # Kubernetes resource type is ?kind \n",
    "  ?kube_resource a ?kind .\n",
    "                         \n",
    "  # Get the associated attacks.\n",
    "  ?attack ?affects ?artifact .\n",
    "  \n",
    "  # With their data.\n",
    "  ?attack\n",
    "    d3f:attack-id ?attack_id;\n",
    "    rdfs:label ?attack_label\n",
    "  .\n",
    "}\n",
    "\"\"\")\n",
    "\n",
    "for attack in sorted(attack_surface):\n",
    "    print(f\"{attack.attack_label}, \"\n",
    "          f\"{attack.affects.fragment} {attack.artifact.fragment} for {attack.kube_resource}\")\n"
   ]
  },
  {
   "cell_type": "code",
   "execution_count": 109,
   "id": "606838bd",
   "metadata": {},
   "outputs": [
    {
     "name": "stdout",
     "output_type": "stream",
     "text": [
      "('https://k8s.local/default_/Service/redis-replica', ['Remote Services', 'Exploitation of Remote Services', 'Trusted Relationship', 'Internal Proxy'])\n",
      "('https://k8s.local/default_/Service/redis-master', ['Remote Services', 'Exploitation of Remote Services', 'Trusted Relationship', 'Internal Proxy'])\n",
      "('https://k8s.local/default_/Service/frontend', ['Remote Services', 'Exploitation of Remote Services', 'Trusted Relationship', 'Internal Proxy'])\n",
      "('https://gcr.io/google_samples/gb-redisslave', ['Implant Internal Image'])\n",
      "('https://gcr.io/google-samples/gb-frontend', ['Implant Internal Image'])\n",
      "('https://docker.io/registry.k8s.io/redis', ['Implant Internal Image'])\n",
      "('https://k8s.local/default_/Deployment/redis-replica', ['Email Hiding Rules', 'Disable Windows Event Logging', 'Email Forwarding Rule'])\n",
      "('https://k8s.local/default_/Deployment/redis-master', ['Email Hiding Rules', 'Disable Windows Event Logging', 'Email Forwarding Rule'])\n",
      "('https://k8s.local/default_/Deployment/frontend', ['Email Hiding Rules', 'Disable Windows Event Logging', 'Email Forwarding Rule'])\n"
     ]
    }
   ],
   "source": [
    "from collections import defaultdict\n",
    "attack_by_artifact = defaultdict(list)\n",
    "for attack in attack_surface:\n",
    "    uri = str(attack.kube_resource)\n",
    "    attack_by_artifact[uri].append(str(attack.attack_label))\n",
    "\n",
    "print(*attack_by_artifact.items(), sep=\"\\n\")"
   ]
  },
  {
   "cell_type": "code",
   "execution_count": 88,
   "id": "56099a49",
   "metadata": {},
   "outputs": [
    {
     "data": {
      "text/plain": [
       "[('Supply Chain Compromise', 20),\n",
       " ('HTML Smuggling', 20),\n",
       " ('Netsh Helper DLL', 7)]"
      ]
     },
     "execution_count": 88,
     "metadata": {},
     "output_type": "execute_result"
    }
   ],
   "source": [
    "# Most common attacks\n",
    "from collections import Counter\n",
    "attack_counter = Counter([a for attacks in attack_by_artifact.values() for a in attacks])\n",
    "(attack_counter.most_common(3))"
   ]
  },
  {
   "cell_type": "code",
   "execution_count": 100,
   "id": "962e054b",
   "metadata": {},
   "outputs": [
    {
     "data": {
      "text/plain": [
       "[]"
      ]
     },
     "execution_count": 100,
     "metadata": {},
     "output_type": "execute_result"
    }
   ],
   "source": [
    "d.query(\"\"\"\n",
    "SELECT DISTINCT *\n",
    "WHERE {\n",
    "        ?r rdfs:subClassOf d3f:DigitalArtifact ,d3f:Server .\n",
    "        } \n",
    "        \n",
    "        \"\"\").bindings"
   ]
  },
  {
   "cell_type": "code",
   "execution_count": null,
   "id": "a0690efa",
   "metadata": {},
   "outputs": [],
   "source": []
  }
 ],
 "metadata": {
  "kernelspec": {
   "display_name": "py3",
   "language": "python",
   "name": "python3"
  },
  "language_info": {
   "codemirror_mode": {
    "name": "ipython",
    "version": 3
   },
   "file_extension": ".py",
   "mimetype": "text/x-python",
   "name": "python",
   "nbconvert_exporter": "python",
   "pygments_lexer": "ipython3",
   "version": "3.12.3"
  }
 },
 "nbformat": 4,
 "nbformat_minor": 5
}
