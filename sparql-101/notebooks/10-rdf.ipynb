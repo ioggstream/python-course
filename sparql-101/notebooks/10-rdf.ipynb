{
 "cells": [
  {
   "cell_type": "markdown",
   "id": "344d4426",
   "metadata": {},
   "source": [
    "# Graph databases & SparQL\n",
    "\n",
    "## Agenda\n",
    "\n",
    "- Storing and retrieving triples\n",
    "- Using the `rdflib.Dataset` class\n",
    "- Querying and traversing graphs\n",
    "\n",
    "*Beware*: commands may contain small typos. You must fix them to properly complete the course!"
   ]
  },
  {
   "cell_type": "markdown",
   "id": "68312c90",
   "metadata": {
    "slideshow": {
     "slide_type": "subslide"
    }
   },
   "source": [
    "----\n",
    "\n",
    "Prerequisites:\n",
    "\n",
    "- JSON, YAML, xmlschema\n",
    "- HTTP, OpenAPI 3\n",
    "- SQL and database hints"
   ]
  },
  {
   "cell_type": "code",
   "execution_count": null,
   "id": "d22b8dbf",
   "metadata": {},
   "outputs": [],
   "source": [
    "%pip install oxrdflib"
   ]
  },
  {
   "cell_type": "markdown",
   "id": "e8eded67",
   "metadata": {
    "slideshow": {
     "slide_type": "slide"
    }
   },
   "source": [
    "---\n",
    "\n",
    "## Graphs (again)\n",
    "\n",
    "### RDF databases\n",
    "\n",
    "An RDF graph is an (unordered) set of triples.\n",
    "\n",
    "Each triple consists of a `subject`, `predicate`, `object`.\n",
    "\n",
    "Graph databases such as:\n",
    "\n",
    "- [Virtuoso (opensource)](https://virtuoso.openlinksw.com/),\n",
    "- [GraphDB (proprietary)](),\n",
    "- [Amazon Nepture (proprietary SaaS)]()\n",
    "\n",
    "store triples into graphs.\n",
    "\n",
    "They can be queried using the [SparQL]() language."
   ]
  },
  {
   "cell_type": "markdown",
   "id": "e119a361",
   "metadata": {
    "slideshow": {
     "slide_type": "subslide"
    }
   },
   "source": [
    "----\n",
    "\n",
    "### Non-RDF databases: Neo4j\n",
    "\n",
    "Another notable graph database is [Neo4j (opensource)]().\n",
    "\n",
    "It is not a triple store, and it\n",
    "adopt a different approach named [Labeled Property Graphs](https://en.wikipedia.org/wiki/Labeled_property_graph)\n",
    "\n",
    "Neo4j can be queried with the [Cypher](https://neo4j.com/developer/cypher-query-language/) language.\n",
    "\n",
    "Neo4j supports RDF datasets via the Neosemantics plugin."
   ]
  },
  {
   "cell_type": "markdown",
   "id": "d1fe17ed",
   "metadata": {
    "slideshow": {
     "slide_type": "subslide"
    }
   },
   "source": [
    "----\n",
    "\n",
    "## rdflib backends\n",
    "\n",
    "We will simulate a graph database using\n",
    "[rdflib](https://rdflib.readthedocs.io/en/stable/index.html),\n",
    "that supports SparQL queries.\n",
    "\n",
    "rdflib supports multiple backends to parse and store triples.\n",
    "\n",
    "oxrdflib is a performant one\n",
    "based on [Oxigraph](https://github.com/oxigraph/oxigraph).\n",
    "\n",
    "Let's create a `Dataset`."
   ]
  },
  {
   "cell_type": "code",
   "execution_count": null,
   "id": "5fe5dd73",
   "metadata": {},
   "outputs": [],
   "source": [
    "from rdflib import Dataset\n",
    "\n",
    "d = Dataset(store=\"Oxigraph\")"
   ]
  },
  {
   "cell_type": "markdown",
   "id": "44f4fa36",
   "metadata": {},
   "source": [
    "Exercise:\n",
    "\n",
    "- use the `Dataset.bind` method to bind the `eu` prefix to the\n",
    "  `https://publications.europa.eu/resource/authority/` namespace;\n",
    "- use the `Dataset.graph` method to create the `eu:country` graph;"
   ]
  },
  {
   "cell_type": "code",
   "execution_count": null,
   "id": "75e7ae23",
   "metadata": {},
   "outputs": [],
   "source": [
    "print(list(d.graphs()))\n",
    "d.bind(\"eu\", \"https://publications.europa.eu/resource/authority/\")\n",
    "eu_country_id = d.namespace_manager.expand_curie(\"eu:country\")"
   ]
  },
  {
   "cell_type": "code",
   "execution_count": null,
   "id": "8f8c3e21",
   "metadata": {},
   "outputs": [],
   "source": [
    "# Use the default backend\n",
    "g = d.graph(eu_country_id)\n",
    "%time g.parse(\"countries-skos-ap-act.ttl\", format=\"text/turtle\")\n",
    "print(\"The graph contains\", len(g), \"triples.\")"
   ]
  },
  {
   "cell_type": "code",
   "execution_count": null,
   "id": "96a34957",
   "metadata": {},
   "outputs": [],
   "source": [
    "d = Dataset(store=\"Oxigraph\")\n",
    "g = d.graph(eu_country_id)\n",
    "# Use the ox-turtle parser.\n",
    "%time g.parse(\"countries-skos-ap-act.ttl\", format=\"ox-turtle\")\n",
    "print(\"The graph contains\", len(g), \"triples.\")"
   ]
  },
  {
   "cell_type": "markdown",
   "id": "92b2fb90",
   "metadata": {},
   "source": [
    "See also:\n",
    "\n",
    "- <https://rdflib.readthedocs.io/en/stable/persistence.html>\n",
    "\n",
    "Now create another graph"
   ]
  },
  {
   "cell_type": "code",
   "execution_count": null,
   "id": "a8029e51",
   "metadata": {},
   "outputs": [],
   "source": [
    "simpsons = d.graph(identifier=\"urn:example:simpsons\")\n",
    "simpsons.parse(\"simpsons.ttl\", format=\"ox-turtle\")"
   ]
  },
  {
   "cell_type": "markdown",
   "id": "cc9419bd",
   "metadata": {},
   "source": [
    "Now list the graphs in the dataset:\n",
    "note that the default graph does not contain triples."
   ]
  },
  {
   "cell_type": "code",
   "execution_count": null,
   "id": "f53cec6b",
   "metadata": {},
   "outputs": [],
   "source": [
    "print(\n",
    "  {k.identifier.n3(): len(k) for k in d.graphs()}\n",
    ")"
   ]
  },
  {
   "cell_type": "markdown",
   "id": "a19e1918",
   "metadata": {},
   "source": [
    "What happens if I query the dataset?"
   ]
  },
  {
   "cell_type": "code",
   "execution_count": null,
   "id": "5ec63713",
   "metadata": {},
   "outputs": [],
   "source": [
    "q = \"\"\"SELECT DISTINCT *\n",
    "WHERE {\n",
    "  [] a ?Class\n",
    "}\n",
    "LIMIT 10\n",
    "\"\"\"\n",
    "d.query(q).bindings"
   ]
  },
  {
   "cell_type": "markdown",
   "id": "40a2b847",
   "metadata": {},
   "source": [
    "Now, try to query each graph"
   ]
  },
  {
   "cell_type": "code",
   "execution_count": null,
   "id": "dfe3f66b",
   "metadata": {},
   "outputs": [],
   "source": [
    "for g in d.graphs():\n",
    "  print({g.identifier.n3(): g.query(q).bindings})"
   ]
  },
  {
   "cell_type": "markdown",
   "id": "b22c444b",
   "metadata": {},
   "source": [
    "There's a Dataset flag that allows to query all the graphs in the dataset."
   ]
  },
  {
   "cell_type": "code",
   "execution_count": null,
   "id": "e7ec9755",
   "metadata": {},
   "outputs": [],
   "source": [
    "# By default, sparql does not query all the graphs.\n",
    "assert d.default_union == False\n",
    "\n",
    "#  .. but you can change this behaviour...\n",
    "d.default_union = True\n",
    "\n",
    "# ... and now you can query all the graphs.\n",
    "d.query(q).bindings"
   ]
  },
  {
   "cell_type": "markdown",
   "id": "87132450",
   "metadata": {
    "slideshow": {
     "slide_type": "slide"
    }
   },
   "source": [
    "---\n",
    "\n",
    "## SparQL practice\n",
    "\n",
    "Let's load into it the [European vocabulary for countries](countries.ttl).\n",
    "\n",
    "See also:\n",
    "\n",
    "- [EU Authority Tables](https://op.europa.eu/en/web/eu-vocabularies/authority-tables)"
   ]
  },
  {
   "cell_type": "code",
   "execution_count": null,
   "id": "a1707863",
   "metadata": {},
   "outputs": [],
   "source": [
    "from rdflib import Graph\n",
    "\n",
    "# Let's create a graph.\n",
    "g = Graph(store=\"Oxigraph\")\n",
    "\n",
    "# And load into it the European\n",
    "# vocabulary for countries.\n",
    "g.parse(\"countries-skos-ap-act.ttl\", format=\"ox-turtle\")"
   ]
  },
  {
   "cell_type": "markdown",
   "id": "a81e4cef",
   "metadata": {
    "slideshow": {
     "slide_type": "slide"
    }
   },
   "source": [
    "---\n",
    "\n",
    "### Traversing the graph\n",
    "\n",
    "The Country graph contains more than countries."
   ]
  },
  {
   "cell_type": "code",
   "execution_count": null,
   "id": "3e195474",
   "metadata": {},
   "outputs": [],
   "source": [
    "to_curie = g.namespace_manager.curie\n",
    "\n",
    "q = \"\"\"\n",
    "PREFIX country: <http://publications.europa.eu/resource/authority/country/>\n",
    "\n",
    "SELECT DISTINCT *\n",
    "WHERE {\n",
    "  country:ITA skos:narrower ?narrower .\n",
    "  ?narrower skos:prefLabel ?label .\n",
    "  FILTER (lang(?label) = \"en\")\n",
    "}\n",
    "\"\"\"\n",
    "result = g.query(q)\n",
    "\n",
    "narrower = {to_curie(r.narrower): str(r.label) for r in result}\n",
    "\n",
    "print(*narrower.items(), sep=\"\\n\")"
   ]
  },
  {
   "cell_type": "markdown",
   "id": "aa76b788",
   "metadata": {},
   "source": [
    "Exercise:\n",
    "\n",
    "- run the above query replacing `skos:narrower` with `skos:narrower*`;\n",
    "  what happens?\n",
    "- run the above query using `country:FRA` and see what happens;\n",
    "  then replace `skos:narrower` with `skos:narrower/skos:narrower`:\n",
    "  do you see the same number of results?\n",
    "\n",
    "<b>\n",
    "The `*` operator is used to traverse the graph\n",
    "and find all the nodes reachable from the starting node.\n",
    "The `*` operator is not supported by all graph databases.\n",
    "</b>\n",
    "\n",
    "#### Creating a graph\n",
    "\n",
    "SparQL can create new graphs from an existing one."
   ]
  },
  {
   "cell_type": "code",
   "execution_count": null,
   "id": "55461719",
   "metadata": {
    "attributes": {
     "classes": [
      "sparql"
     ],
     "id": ""
    }
   },
   "outputs": [],
   "source": [
    "q = \"\"\"\n",
    "PREFIX country: <http://publications.europa.eu/resource/authority/country/>\n",
    "\n",
    "CONSTRUCT {\n",
    "  ?narrower\n",
    "    skos:prefLabel ?label ;\n",
    "    skos:broader ?broader .\n",
    "}\n",
    "WHERE {\n",
    "  ?narrower\n",
    "    # All resources transitively related to country:FRA...\n",
    "    skos:broader* country:FRA ;\n",
    "\n",
    "    # ... with their labels ...\n",
    "    skos:prefLabel ?label ;\n",
    "\n",
    "    # ... and their broader relations.\n",
    "    skos:broader ?broader .\n",
    "\n",
    "  FILTER (lang(?label) = \"en\")\n",
    "}\n",
    "\"\"\"\n",
    "result = g.query(q)\n",
    "list(result.graph)"
   ]
  },
  {
   "cell_type": "markdown",
   "id": "95bd3d64",
   "metadata": {},
   "source": [
    "Let's visualize the graph."
   ]
  },
  {
   "cell_type": "code",
   "execution_count": null,
   "id": "6143fec5",
   "metadata": {},
   "outputs": [],
   "source": [
    "from tools import plot_graph\n",
    "from rdflib import SKOS\n",
    "\n",
    "plot_graph(result.graph, label_property=SKOS.prefLabel)"
   ]
  },
  {
   "cell_type": "markdown",
   "id": "0eea2fab",
   "metadata": {},
   "source": [
    "#### More metadata\n",
    "\n",
    "The Country graph contains more than countries ;)\n",
    "the resource type is identified by the `lemon:context` property."
   ]
  },
  {
   "cell_type": "code",
   "execution_count": null,
   "id": "3e33ddd6",
   "metadata": {},
   "outputs": [],
   "source": [
    "q = \"\"\"\n",
    "PREFIX lemon: <http://lemon-model.net/lemon#>\n",
    "PREFIX country: <http://publications.europa.eu/resource/authority/country/>\n",
    "PREFIX context: <http://publications.europa.eu/resource/authority/use-context/>\n",
    "\n",
    "SELECT DISTINCT\n",
    "  ?broader\n",
    "  (COUNT(?narrower) AS ?count)\n",
    "WHERE {\n",
    "  ?broader\n",
    "    skos:narrower+ ?narrower ;\n",
    "\n",
    "    lemon:context context:COUNTRY ;\n",
    "\n",
    "    # ... with their labels ...\n",
    "    skos:prefLabel ?label .\n",
    "\n",
    "\n",
    "  FILTER (lang(?label) = \"en\")\n",
    "}\n",
    "GROUP BY ?broader\n",
    "ORDER BY ?count\n",
    "\"\"\"\n",
    "result = g.query(q)\n",
    "list(result)"
   ]
  },
  {
   "cell_type": "markdown",
   "id": "9cb8265e",
   "metadata": {
    "slideshow": {
     "slide_type": "slide"
    }
   },
   "source": [
    "---\n",
    "\n",
    "## Datasets\n",
    "\n",
    "An RDF dataset is made of multiple graphs."
   ]
  },
  {
   "cell_type": "code",
   "execution_count": null,
   "id": "db984149",
   "metadata": {},
   "outputs": [],
   "source": [
    "from rdflib import Dataset\n",
    "\n",
    "d = Dataset(store='Oxigraph')\n",
    "# Add ns shortcuts.\n",
    "d.bind(\"eu\", \"https://publications.europa.eu/resource/authority/\")\n",
    "d.bind(\"schema\": \"https://schema.org/\")\n",
    "d.bind(\"euvoc\": \"http://publications.europa.eu/ontology/euvoc#\")\n",
    "\n",
    "\n",
    "\n",
    "d.graph(identifier=\"urn:People\").parse(data=json.dumps(nodes_ld), format=\"application/ld+json\")\n",
    "d.graph(identifier=\"eu:country\").parse(\"countries-skos-ap-act.ttl\", format=\"ox-turtle\")\n",
    "[len(x) for x in d.graphs()]"
   ]
  }
 ],
 "metadata": {},
 "nbformat": 4,
 "nbformat_minor": 5
}
