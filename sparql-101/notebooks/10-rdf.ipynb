{
 "cells": [
  {
   "cell_type": "markdown",
   "id": "438c7de2",
   "metadata": {},
   "source": [
    "# Graph databases & SparQL"
   ]
  },
  {
   "cell_type": "markdown",
   "id": "b91816ed",
   "metadata": {
    "slideshow": {
     "slide_type": "slide"
    }
   },
   "source": [
    "---\n",
    "\n",
    "## Agenda\n",
    "\n",
    "- Storing and retrieving triples\n",
    "- The `rdflib.Dataset` class\n",
    "- Querying and traversing graphs\n",
    "\n",
    "*Beware*: commands may contain small typos. You must fix them to properly complete the course!"
   ]
  },
  {
   "cell_type": "markdown",
   "id": "81415778",
   "metadata": {
    "slideshow": {
     "slide_type": "subslide"
    }
   },
   "source": [
    "----\n",
    "\n",
    "Prerequisites:\n",
    "\n",
    "- JSON, YAML, xmlschema\n",
    "- HTTP, OpenAPI 3\n",
    "- SQL and database hints\n",
    "- RDF & SparQL"
   ]
  },
  {
   "cell_type": "code",
   "execution_count": null,
   "id": "64acd121",
   "metadata": {},
   "outputs": [],
   "source": [
    "%pip install oxrdflib"
   ]
  },
  {
   "cell_type": "markdown",
   "id": "24d90a7a",
   "metadata": {
    "slideshow": {
     "slide_type": "slide"
    }
   },
   "source": [
    "---\n",
    "\n",
    "## Graphs\n",
    "\n",
    "### RDF databases\n",
    "\n",
    "An RDF Dataset is a set of RDF graphs.\n",
    "\n",
    "An RDF graph is an (unordered) set of triples.\n",
    "\n",
    "Each triple consists of an *ordered* $subject$, $predicate$, $object$.\n",
    "\n",
    "Graph databases such as:\n",
    "\n",
    "- [Virtuoso (opensource)](https://virtuoso.openlinksw.com/),\n",
    "- [GraphDB (proprietary)](),\n",
    "- [Amazon Nepture (proprietary SaaS)]()\n",
    "\n",
    "store triples into graphs and datasets.\n",
    "\n",
    "They are *triple store*.\n",
    "\n",
    "They can be queried via [SparQL]()."
   ]
  },
  {
   "cell_type": "markdown",
   "id": "c9e6440f",
   "metadata": {
    "slideshow": {
     "slide_type": "subslide"
    }
   },
   "source": [
    "----\n",
    "\n",
    "### Non-RDF databases: Neo4j\n",
    "\n",
    "Another notable graph database is [Neo4j (opensource)]().\n",
    "\n",
    "It is not a triple store, and it\n",
    "adopt a different approach named [Labeled Property Graphs](https://en.wikipedia.org/wiki/Labeled_property_graph)\n",
    "\n",
    "Neo4j can be queried with the [Cypher](https://neo4j.com/developer/cypher-query-language/) language.\n",
    "\n",
    "Neo4j supports RDF datasets via the Neosemantics plugin."
   ]
  },
  {
   "cell_type": "markdown",
   "id": "6c288dec",
   "metadata": {
    "slideshow": {
     "slide_type": "subslide"
    }
   },
   "source": [
    "----\n",
    "\n",
    "### rdflib backends\n",
    "\n",
    "We will simulate a graph database locally  using\n",
    "[rdflib](https://rdflib.readthedocs.io/en/stable/index.html).\n",
    "\n",
    "rdflib supports multiple backends to parse and store triples.\n",
    "\n",
    "oxrdflib is a performant one\n",
    "based on [Oxigraph](https://github.com/oxigraph/oxigraph).\n",
    "\n",
    "Let's create a `Dataset`."
   ]
  },
  {
   "cell_type": "code",
   "execution_count": null,
   "id": "858f01eb",
   "metadata": {},
   "outputs": [],
   "source": [
    "from rdflib import Dataset\n",
    "\n",
    "d = Dataset(store=\"Oxigraph\")"
   ]
  },
  {
   "cell_type": "markdown",
   "id": "a6be02db",
   "metadata": {},
   "source": [
    "Exercise:\n",
    "\n",
    "- list the graphs into the dataset\n",
    "  using SparQL (se the [05-sparql](05-sparql.ipynb))."
   ]
  },
  {
   "cell_type": "code",
   "execution_count": null,
   "id": "8e3d265c",
   "metadata": {},
   "outputs": [],
   "source": [
    "result = d.query(\"\"\"\n",
    "SELECT DISTINCT\n",
    "  ?g\n",
    "WHERE {\n",
    "  GRAPH ?g {}\n",
    "}\n",
    "\"\"\")\n",
    "\n",
    "assert 'default' in str(result.bindings)"
   ]
  },
  {
   "cell_type": "markdown",
   "id": "7200e361",
   "metadata": {},
   "source": [
    "- confront the query result with\n",
    "  the output of `Dataset.graphs`"
   ]
  },
  {
   "cell_type": "code",
   "execution_count": null,
   "id": "137ec9f8",
   "metadata": {},
   "outputs": [],
   "source": [
    "print(list(d.graphs()))"
   ]
  },
  {
   "cell_type": "markdown",
   "id": "dc619ac5",
   "metadata": {},
   "source": [
    "Let's load into it the [European vocabulary for countries](countries.ttl).\n",
    "\n",
    "See also:\n",
    "\n",
    "- [EU Authority Tables](https://op.europa.eu/en/web/eu-vocabularies/authority-tables)\n",
    "\n",
    "- use `Dataset.bind` to bind the `eu` prefix to the\n",
    "  `https://publications.europa.eu/resource/authority/` namespace;"
   ]
  },
  {
   "cell_type": "code",
   "execution_count": null,
   "id": "306e4900",
   "metadata": {},
   "outputs": [],
   "source": [
    "d.bind(\"eu\", \"https://publications.europa.eu/resource/authority/\")"
   ]
  },
  {
   "cell_type": "markdown",
   "id": "a15766ea",
   "metadata": {},
   "source": [
    "Once the `eu` prefix is bound,\n",
    "the dataset can expand cURIes.\n",
    "Hint: see [01-knowledge](01-knowledge.ipynb)."
   ]
  },
  {
   "cell_type": "code",
   "execution_count": null,
   "id": "36ddc317",
   "metadata": {},
   "outputs": [],
   "source": [
    "eu_country_id = d.namespace_manager.expand_curie(\"eu:country\")"
   ]
  },
  {
   "cell_type": "markdown",
   "id": "df7bb5c3",
   "metadata": {},
   "source": [
    "- use `Dataset.graph` to create the `eu:country` graph."
   ]
  },
  {
   "cell_type": "code",
   "execution_count": null,
   "id": "49ec2e47",
   "metadata": {},
   "outputs": [],
   "source": [
    "# Use the default backend\n",
    "g = d.graph(eu_country_id)"
   ]
  },
  {
   "cell_type": "markdown",
   "id": "2fead069",
   "metadata": {},
   "source": [
    "Let's see the performance of the default\n",
    "`turtle` parser ..."
   ]
  },
  {
   "cell_type": "code",
   "execution_count": null,
   "id": "ee559041",
   "metadata": {},
   "outputs": [],
   "source": [
    "# Parsing takes ~30s.\n",
    "%time g.parse(\"countries-skos-ap-act.ttl\", format=\"text/turtle\")\n",
    "print(\"The graph contains\", len(g), \"triples.\")\n",
    "\n",
    "# Clean up.\n",
    "del g\n",
    "del d"
   ]
  },
  {
   "cell_type": "markdown",
   "id": "03f2c892",
   "metadata": {},
   "source": [
    "with respect to the `ox-turtle` parser."
   ]
  },
  {
   "cell_type": "code",
   "execution_count": null,
   "id": "5d00c684",
   "metadata": {},
   "outputs": [],
   "source": [
    "d = Dataset(store=\"Oxigraph\")\n",
    "country = d.graph(eu_country_id)\n",
    "# Use the ox-turtle parser.\n",
    "%time country.parse(\"countries-skos-ap-act.ttl\", format=\"ox-turtle\")\n",
    "print(\"The graph contains\", len(country), \"triples.\")"
   ]
  },
  {
   "cell_type": "markdown",
   "id": "abbf334a",
   "metadata": {},
   "source": [
    "See also:\n",
    "\n",
    "- <https://rdflib.readthedocs.io/en/stable/persistence.html>"
   ]
  },
  {
   "cell_type": "markdown",
   "id": "1144ac62",
   "metadata": {
    "slideshow": {
     "slide_type": "slide"
    }
   },
   "source": [
    "---\n",
    "\n",
    "### Traversing the graph\n",
    "\n",
    "`<eu:country>` contains more than countries."
   ]
  },
  {
   "cell_type": "markdown",
   "id": "ebeba163",
   "metadata": {},
   "source": [
    "```mermaid\n",
    "graph\n",
    "\n",
    "subgraph eu:country\n",
    "  eu:ITA((ITA))\n",
    "  eu:FRA((FRA))\n",
    "  eu:xx((...))\n",
    "\n",
    "  eu:ITA-01((?))\n",
    "  eu:ITA-02((?))\n",
    "\n",
    "  eu:FRA-01((?))\n",
    "  eu:FRA-02((?))\n",
    "  eu:FRA-03((?))\n",
    "\n",
    "eu:ITA -->|skos:narrower| eu:ITA-01 & eu:ITA-02\n",
    "eu:FRA -->|skos:narrower| eu:FRA-01 & eu:FRA-02 & eu:FRA-03\n",
    "end\n",
    "\n",
    "```"
   ]
  },
  {
   "cell_type": "code",
   "execution_count": null,
   "id": "1440693d",
   "metadata": {},
   "outputs": [],
   "source": [
    "# Shortcut for converting to curie.\n",
    "to_curie = d.namespace_manager.curie"
   ]
  },
  {
   "cell_type": "code",
   "execution_count": null,
   "id": "cecee431",
   "metadata": {},
   "outputs": [],
   "source": [
    "q = \"\"\"\n",
    "PREFIX country: <http://publications.europa.eu/resource/authority/country/>\n",
    "\n",
    "SELECT DISTINCT *\n",
    "WHERE {\n",
    "  country:ITA skos:narrower ?narrower .\n",
    "  ?narrower skos:prefLabel ?label .\n",
    "  FILTER (lang(?label) = \"en\")\n",
    "}\n",
    "\"\"\"\n",
    "result = country.query(q)\n",
    "\n",
    "narrower = {to_curie(r.narrower): str(r.label) for r in result}\n",
    "\n",
    "print(*narrower.items(), sep=\"\\n\")"
   ]
  },
  {
   "cell_type": "markdown",
   "id": "8d3b7f27",
   "metadata": {},
   "source": [
    "Exercise:\n",
    "\n",
    "- run the above query replacing\n",
    "  `skos:narrower` with `skos:narrower*`;\n",
    "  what happens?"
   ]
  },
  {
   "cell_type": "code",
   "execution_count": null,
   "id": "0ba215a1",
   "metadata": {},
   "outputs": [],
   "source": [
    "q = \"\"\"\n",
    "PREFIX country: <http://publications.europa.eu/resource/authority/country/>\n",
    "\n",
    "SELECT DISTINCT *\n",
    "WHERE {\n",
    "  country:ITA skos:narrower* ?narrower .\n",
    "  ?narrower skos:prefLabel ?label .\n",
    "  FILTER (lang(?label) = \"en\")\n",
    "}\n",
    "\"\"\"\n",
    "result = country.query(q)\n",
    "\n",
    "narrower = {to_curie(r.narrower): str(r.label) for r in result}\n",
    "\n",
    "print(*narrower.items(), sep=\"\\n\")"
   ]
  },
  {
   "cell_type": "markdown",
   "id": "2659466b",
   "metadata": {},
   "source": [
    "- run the above query using `country:FRA` and see what happens;\n",
    "  then replace `skos:narrower` with `skos:narrower/skos:narrower`:\n",
    "  do you see the same number of results?"
   ]
  },
  {
   "cell_type": "code",
   "execution_count": null,
   "id": "27463b27",
   "metadata": {},
   "outputs": [],
   "source": [
    "q = \"\"\"\n",
    "PREFIX country: <http://publications.europa.eu/resource/authority/country/>\n",
    "\n",
    "SELECT DISTINCT *\n",
    "WHERE {\n",
    "  country:FRA skos:narrower/skos:narrower ?narrower .\n",
    "  ?narrower skos:prefLabel ?label .\n",
    "  FILTER (lang(?label) = \"en\")\n",
    "}\n",
    "\"\"\"\n",
    "result = country.query(q)\n",
    "\n",
    "narrower = {to_curie(r.narrower): str(r.label) for r in result}\n",
    "\n",
    "print(*narrower.items(), sep=\"\\n\")"
   ]
  },
  {
   "cell_type": "markdown",
   "id": "3ff02031",
   "metadata": {},
   "source": [
    "<b>\n",
    "The `*` operator traverses the graph\n",
    "and find all the nodes reachable from the starting node through a given relation.\n",
    "The `*` operator is not supported by all graph databases.\n",
    "</b>\n",
    "\n",
    "### Creating a graph\n",
    "\n",
    "SparQL can create new graphs from an existing one."
   ]
  },
  {
   "cell_type": "code",
   "execution_count": null,
   "id": "7438cc42",
   "metadata": {},
   "outputs": [],
   "source": [
    "q = \"\"\"\n",
    "PREFIX country: <http://publications.europa.eu/resource/authority/country/>\n",
    "\n",
    "CONSTRUCT {\n",
    "  ?narrower\n",
    "    skos:prefLabel ?label ;\n",
    "    skos:broader ?broader .\n",
    "}\n",
    "WHERE {\n",
    "  ?narrower\n",
    "    # All resources transitively related to country:FRA...\n",
    "    skos:broader* country:FRA ;\n",
    "\n",
    "    # ... with their labels ...\n",
    "    skos:prefLabel ?label ;\n",
    "\n",
    "    # ... and their broader relations.\n",
    "    skos:broader ?broader .\n",
    "\n",
    "  FILTER (lang(?label) = \"en\")\n",
    "}\n",
    "\"\"\"\n",
    "result = country.query(q)\n",
    "list(result.graph)"
   ]
  },
  {
   "cell_type": "markdown",
   "id": "fc0c134d",
   "metadata": {},
   "source": [
    "Let's visualize the graph."
   ]
  },
  {
   "cell_type": "code",
   "execution_count": null,
   "id": "6e135711",
   "metadata": {},
   "outputs": [],
   "source": [
    "import tools\n",
    "from rdflib import SKOS\n",
    "\n",
    "tools.plot_graph(result.graph, label_property=SKOS.prefLabel)"
   ]
  },
  {
   "cell_type": "markdown",
   "id": "0e0374d7",
   "metadata": {},
   "source": [
    "## More metadata\n",
    "\n",
    "The Country graph contains more than countries ;)\n",
    "the resource type is identified by the `<http://lemon-model.net/lemon#context>` predicate."
   ]
  },
  {
   "cell_type": "code",
   "execution_count": null,
   "id": "37effbfc",
   "metadata": {},
   "outputs": [],
   "source": [
    "q = \"\"\"\n",
    "PREFIX lemon: <http://lemon-model.net/lemon#>\n",
    "PREFIX country: <http://publications.europa.eu/resource/authority/country/>\n",
    "PREFIX context: <http://publications.europa.eu/resource/authority/use-context/>\n",
    "\n",
    "SELECT DISTINCT\n",
    "  ?broader\n",
    "  (COUNT(?narrower) AS ?count_)\n",
    "WHERE {\n",
    "  ?broader\n",
    "    skos:narrower+ ?narrower ;\n",
    "\n",
    "    lemon:context context:COUNTRY ;\n",
    "\n",
    "    # ... with their labels ...\n",
    "    skos:prefLabel ?label .\n",
    "\n",
    "\n",
    "  FILTER (lang(?label) = \"en\")\n",
    "}\n",
    "GROUP BY ?broader\n",
    "ORDER BY ?count_\n",
    "\"\"\"\n",
    "result = country.query(q)\n",
    "[\n",
    "  {str(r.broader): str(r.count_)}\n",
    "    for r\n",
    "    in result\n",
    "]"
   ]
  },
  {
   "cell_type": "markdown",
   "id": "9fa851d4",
   "metadata": {},
   "source": [
    "In RDF, you don't have hierarchies,\n",
    "just triples."
   ]
  },
  {
   "cell_type": "markdown",
   "id": "40091891",
   "metadata": {},
   "source": [
    "```mermaid\n",
    "graph\n",
    "\n",
    "eu:Country((eu:Country)) ~~~ eu:FRA & eu:ITA & eu:XLI & eu:XLL -.->|a| eu:Country\n",
    "\n",
    "eu:FRA & eu:ITA  & eu:XLI & eu:XLL -->|skos:inScheme| eu:country\n",
    "\n",
    "linkStyle 8,9,10,11 stroke:green\n",
    "\n",
    "eu:ITA -->|skos:narrower| eu:XLI & eu:XLL\n",
    "\n",
    "linkStyle 12,13 stroke:blue\n",
    "\n",
    "eu:ITA & eu:FRA -->|lemon:context| context:COUNTRY\n",
    "\n",
    "linkStyle 14,15 stroke:red\n",
    "\n",
    "eu:country -.->|a| skos:ConceptScheme((skos:ConceptScheme))\n",
    "\n",
    "```"
   ]
  }
 ],
 "metadata": {},
 "nbformat": 4,
 "nbformat_minor": 5
}
