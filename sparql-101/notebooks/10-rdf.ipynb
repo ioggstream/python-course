{
 "cells": [
  {
   "cell_type": "markdown",
   "id": "f3931867",
   "metadata": {},
   "source": [
    "# Graph databases & SparQL"
   ]
  },
  {
   "cell_type": "markdown",
   "id": "ece415f8",
   "metadata": {
    "slideshow": {
     "slide_type": "slide"
    }
   },
   "source": [
    "---\n",
    "\n",
    "## Agenda\n",
    "\n",
    "- Storing and retrieving triples\n",
    "- The `rdflib.Dataset` class\n",
    "- Querying and traversing graphs\n",
    "\n",
    "*Beware*: commands may contain small typos. You must fix them to properly complete the course!"
   ]
  },
  {
   "cell_type": "markdown",
   "id": "737bebf2",
   "metadata": {
    "slideshow": {
     "slide_type": "subslide"
    }
   },
   "source": [
    "----\n",
    "\n",
    "Prerequisites:\n",
    "\n",
    "- JSON, YAML, xmlschema\n",
    "- HTTP, OpenAPI 3\n",
    "- SQL and database hints\n",
    "- RDF & SparQL"
   ]
  },
  {
   "cell_type": "code",
   "execution_count": null,
   "id": "d55997f9",
   "metadata": {},
   "outputs": [],
   "source": [
    "%pip install oxrdflib"
   ]
  },
  {
   "cell_type": "markdown",
   "id": "2949df8b",
   "metadata": {
    "slideshow": {
     "slide_type": "slide"
    }
   },
   "source": [
    "---\n",
    "\n",
    "## Graphs\n",
    "\n",
    "### RDF databases\n",
    "\n",
    "An RDF Dataset is a set of RDF graphs.\n",
    "\n",
    "An RDF graph is an (unordered) set of triples.\n",
    "\n",
    "Each triple consists of an *ordered* $subject$, $predicate$, $object$.\n",
    "\n",
    "Graph databases such as:\n",
    "\n",
    "- [Virtuoso (opensource)](https://virtuoso.openlinksw.com/),\n",
    "- [GraphDB (proprietary)](),\n",
    "- [Amazon Nepture (proprietary SaaS)]()\n",
    "\n",
    "store triples into graphs and datasets.\n",
    "\n",
    "They are *triple store*.\n",
    "\n",
    "They can be queried via [SparQL]()."
   ]
  },
  {
   "cell_type": "markdown",
   "id": "3a99df8c",
   "metadata": {
    "slideshow": {
     "slide_type": "subslide"
    }
   },
   "source": [
    "----\n",
    "\n",
    "### Non-RDF databases: Neo4j\n",
    "\n",
    "Another notable graph database is [Neo4j (opensource)]().\n",
    "\n",
    "It is not a triple store, and it\n",
    "adopt a different approach named [Labeled Property Graphs](https://en.wikipedia.org/wiki/Labeled_property_graph)\n",
    "\n",
    "Neo4j can be queried with the [Cypher](https://neo4j.com/developer/cypher-query-language/) language.\n",
    "\n",
    "Neo4j supports RDF datasets via the Neosemantics plugin."
   ]
  },
  {
   "cell_type": "markdown",
   "id": "e4d8bb09",
   "metadata": {
    "slideshow": {
     "slide_type": "subslide"
    }
   },
   "source": [
    "----\n",
    "\n",
    "### rdflib backends\n",
    "\n",
    "We will simulate a graph database locally  using\n",
    "[rdflib](https://rdflib.readthedocs.io/en/stable/index.html).\n",
    "\n",
    "rdflib supports multiple backends to parse and store triples.\n",
    "\n",
    "oxrdflib is a performant one\n",
    "based on [Oxigraph](https://github.com/oxigraph/oxigraph).\n",
    "\n",
    "Let's create a `Dataset`."
   ]
  },
  {
   "cell_type": "code",
   "execution_count": null,
   "id": "ddb724e3",
   "metadata": {},
   "outputs": [],
   "source": [
    "from rdflib import Dataset\n",
    "\n",
    "d = Dataset(store=\"Oxigraph\")"
   ]
  },
  {
   "cell_type": "markdown",
   "id": "cf7d1871",
   "metadata": {},
   "source": [
    "Exercise:\n",
    "\n",
    "- list the graphs into the dataset\n",
    "  using SparQL (se the [05-sparql](05-sparql.ipynb))."
   ]
  },
  {
   "cell_type": "code",
   "execution_count": null,
   "id": "92b8613a",
   "metadata": {},
   "outputs": [],
   "source": [
    "result = d.query(\"\"\"\n",
    "SELECT DISTINCT\n",
    "  ?g\n",
    "WHERE {\n",
    "  GRAPH ?g {}\n",
    "}\n",
    "\"\"\")\n",
    "\n",
    "assert 'default' in str(result.bindings)"
   ]
  },
  {
   "cell_type": "markdown",
   "id": "d8eaa85e",
   "metadata": {},
   "source": [
    "- confront the query result with\n",
    "  the output of `Dataset.graphs`"
   ]
  },
  {
   "cell_type": "code",
   "execution_count": null,
   "id": "8d2db0ef",
   "metadata": {},
   "outputs": [],
   "source": [
    "print(list(d.graphs()))"
   ]
  },
  {
   "cell_type": "markdown",
   "id": "2eea7fe4",
   "metadata": {},
   "source": [
    "Let's load into it the [European vocabulary for countries](countries.ttl).\n",
    "\n",
    "See also:\n",
    "\n",
    "- [EU Authority Tables](https://op.europa.eu/en/web/eu-vocabularies/authority-tables)\n",
    "\n",
    "- use `Dataset.bind` to bind the `eu` prefix to the\n",
    "  `https://publications.europa.eu/resource/authority/` namespace;"
   ]
  },
  {
   "cell_type": "code",
   "execution_count": null,
   "id": "2f6b23bb",
   "metadata": {},
   "outputs": [],
   "source": [
    "d.bind(\"eu\", \"https://publications.europa.eu/resource/authority/\")"
   ]
  },
  {
   "cell_type": "markdown",
   "id": "41f2f5a1",
   "metadata": {},
   "source": [
    "Once the `eu` prefix is bound,\n",
    "the dataset can expand cURIes.\n",
    "Hint: see [01-knowledge](01-knowledge.ipynb)."
   ]
  },
  {
   "cell_type": "code",
   "execution_count": null,
   "id": "39ec24de",
   "metadata": {},
   "outputs": [],
   "source": [
    "eu_country_id = d.namespace_manager.expand_curie(\"eu:country\")"
   ]
  },
  {
   "cell_type": "markdown",
   "id": "b2554384",
   "metadata": {},
   "source": [
    "- use `Dataset.graph` to create the `eu:country` graph."
   ]
  },
  {
   "cell_type": "code",
   "execution_count": null,
   "id": "e7213f99",
   "metadata": {},
   "outputs": [],
   "source": [
    "# Use the default backend\n",
    "g = d.graph(eu_country_id)"
   ]
  },
  {
   "cell_type": "markdown",
   "id": "db2b2a75",
   "metadata": {},
   "source": [
    "Let's see the performance of the default\n",
    "`turtle` parser ..."
   ]
  },
  {
   "cell_type": "code",
   "execution_count": null,
   "id": "67a29455",
   "metadata": {},
   "outputs": [],
   "source": [
    "# Parsing takes ~30s.\n",
    "%time g.parse(\"countries-skos-ap-act.ttl\", format=\"text/turtle\")\n",
    "print(\"The graph contains\", len(g), \"triples.\")\n",
    "\n",
    "# Clean up.\n",
    "del g\n",
    "del d"
   ]
  },
  {
   "cell_type": "markdown",
   "id": "d2dab094",
   "metadata": {},
   "source": [
    "with respect to the `ox-turtle` parser."
   ]
  },
  {
   "cell_type": "code",
   "execution_count": null,
   "id": "c328b83d",
   "metadata": {},
   "outputs": [],
   "source": [
    "d = Dataset(store=\"Oxigraph\")\n",
    "country = d.graph(eu_country_id)\n",
    "# Use the ox-turtle parser.\n",
    "%time country.parse(\"countries-skos-ap-act.ttl\", format=\"ox-turtle\")\n",
    "print(\"The graph contains\", len(country), \"triples.\")"
   ]
  },
  {
   "cell_type": "markdown",
   "id": "4923f1b0",
   "metadata": {},
   "source": [
    "See also:\n",
    "\n",
    "- <https://rdflib.readthedocs.io/en/stable/persistence.html>"
   ]
  },
  {
   "cell_type": "markdown",
   "id": "1078f227",
   "metadata": {
    "slideshow": {
     "slide_type": "slide"
    }
   },
   "source": [
    "---\n",
    "\n",
    "### Traversing the graph\n",
    "\n",
    "`<eu:country>` contains more than countries."
   ]
  },
  {
   "cell_type": "markdown",
   "id": "ad5435b9",
   "metadata": {},
   "source": [
    "```mermaid\n",
    "graph\n",
    "\n",
    "subgraph eu:country\n",
    "  eu:ITA((ITA))\n",
    "  eu:FRA((FRA))\n",
    "  eu:xx((...))\n",
    "\n",
    "  eu:ITA-01((?))\n",
    "  eu:ITA-02((?))\n",
    "\n",
    "  eu:FRA-01((?))\n",
    "  eu:FRA-02((?))\n",
    "  eu:FRA-03((?))\n",
    "\n",
    "eu:ITA -->|skos:narrower| eu:ITA-01 & eu:ITA-02\n",
    "eu:FRA -->|skos:narrower| eu:FRA-01 & eu:FRA-02 & eu:FRA-03\n",
    "end\n",
    "\n",
    "```"
   ]
  },
  {
   "cell_type": "code",
   "execution_count": null,
   "id": "6c9868bf",
   "metadata": {},
   "outputs": [],
   "source": [
    "# Shortcut for converting to curie.\n",
    "to_curie = d.namespace_manager.curie"
   ]
  },
  {
   "cell_type": "code",
   "execution_count": null,
   "id": "ee57e6bf",
   "metadata": {},
   "outputs": [],
   "source": [
    "q = \"\"\"\n",
    "PREFIX country: <http://publications.europa.eu/resource/authority/country/>\n",
    "\n",
    "SELECT DISTINCT *\n",
    "WHERE {\n",
    "  country:ITA skos:narrower ?narrower .\n",
    "  ?narrower skos:prefLabel ?label .\n",
    "  FILTER (lang(?label) = \"en\")\n",
    "}\n",
    "\"\"\"\n",
    "result = country.query(q)\n",
    "\n",
    "narrower = {to_curie(r.narrower): str(r.label) for r in result}\n",
    "\n",
    "print(*narrower.items(), sep=\"\\n\")"
   ]
  },
  {
   "cell_type": "markdown",
   "id": "b0e08226",
   "metadata": {},
   "source": [
    "Exercise:\n",
    "\n",
    "- run the above query replacing\n",
    "  `skos:narrower` with `skos:narrower*`;\n",
    "  what happens?"
   ]
  },
  {
   "cell_type": "code",
   "execution_count": null,
   "id": "8eb0a601",
   "metadata": {},
   "outputs": [],
   "source": [
    "q = \"\"\"\n",
    "PREFIX country: <http://publications.europa.eu/resource/authority/country/>\n",
    "\n",
    "SELECT DISTINCT *\n",
    "WHERE {\n",
    "  country:ITA skos:narrower* ?narrower .\n",
    "  ?narrower skos:prefLabel ?label .\n",
    "  FILTER (lang(?label) = \"en\")\n",
    "}\n",
    "\"\"\"\n",
    "result = country.query(q)\n",
    "\n",
    "narrower = {to_curie(r.narrower): str(r.label) for r in result}\n",
    "\n",
    "print(*narrower.items(), sep=\"\\n\")"
   ]
  },
  {
   "cell_type": "markdown",
   "id": "b5a181fa",
   "metadata": {},
   "source": [
    "- run the above query using `country:FRA` and see what happens;\n",
    "  then replace `skos:narrower` with `skos:narrower/skos:narrower`:\n",
    "  do you see the same number of results?"
   ]
  },
  {
   "cell_type": "code",
   "execution_count": null,
   "id": "8d7425c2",
   "metadata": {},
   "outputs": [],
   "source": [
    "q = \"\"\"\n",
    "PREFIX country: <http://publications.europa.eu/resource/authority/country/>\n",
    "\n",
    "SELECT DISTINCT *\n",
    "WHERE {\n",
    "  country:FRA skos:narrower/skos:narrower ?narrower .\n",
    "  ?narrower skos:prefLabel ?label .\n",
    "  FILTER (lang(?label) = \"en\")\n",
    "}\n",
    "\"\"\"\n",
    "result = country.query(q)\n",
    "\n",
    "narrower = {to_curie(r.narrower): str(r.label) for r in result}\n",
    "\n",
    "print(*narrower.items(), sep=\"\\n\")"
   ]
  },
  {
   "cell_type": "markdown",
   "id": "5bbec73f",
   "metadata": {},
   "source": [
    "<b>\n",
    "The `*` operator traverses the graph\n",
    "and find all the nodes reachable from the starting node through a given relation.\n",
    "The `*` operator is not supported by all graph databases.\n",
    "</b>\n",
    "\n",
    "### Creating a graph\n",
    "\n",
    "SparQL can create new graphs from an existing one."
   ]
  },
  {
   "cell_type": "code",
   "execution_count": null,
   "id": "d82ff7cb",
   "metadata": {},
   "outputs": [],
   "source": [
    "q = \"\"\"\n",
    "PREFIX country: <http://publications.europa.eu/resource/authority/country/>\n",
    "\n",
    "CONSTRUCT {\n",
    "  ?narrower\n",
    "    skos:prefLabel ?label ;\n",
    "    skos:broader ?broader .\n",
    "}\n",
    "WHERE {\n",
    "  ?narrower\n",
    "    # All resources transitively related to country:FRA...\n",
    "    skos:broader* country:FRA ;\n",
    "\n",
    "    # ... with their labels ...\n",
    "    skos:prefLabel ?label ;\n",
    "\n",
    "    # ... and their broader relations.\n",
    "    skos:broader ?broader .\n",
    "\n",
    "  FILTER (lang(?label) = \"en\")\n",
    "}\n",
    "\"\"\"\n",
    "result = country.query(q)\n",
    "list(result.graph)"
   ]
  },
  {
   "cell_type": "markdown",
   "id": "f4b9550e",
   "metadata": {},
   "source": [
    "Let's visualize the graph."
   ]
  },
  {
   "cell_type": "code",
   "execution_count": null,
   "id": "08e3fe64",
   "metadata": {},
   "outputs": [],
   "source": [
    "import tools\n",
    "from rdflib import SKOS\n",
    "\n",
    "tools.plot_graph(result.graph, label_property=SKOS.prefLabel)"
   ]
  },
  {
   "cell_type": "markdown",
   "id": "2b738202",
   "metadata": {},
   "source": [
    "## More metadata\n",
    "\n",
    "The Country graph contains more than countries ;)\n",
    "the resource type is identified by the `<http://lemon-model.net/lemon#context>` predicate."
   ]
  },
  {
   "cell_type": "code",
   "execution_count": null,
   "id": "ce7590ec",
   "metadata": {},
   "outputs": [],
   "source": [
    "q = \"\"\"\n",
    "PREFIX lemon: <http://lemon-model.net/lemon#>\n",
    "PREFIX country: <http://publications.europa.eu/resource/authority/country/>\n",
    "PREFIX context: <http://publications.europa.eu/resource/authority/use-context/>\n",
    "\n",
    "SELECT DISTINCT\n",
    "  ?broader\n",
    "  (COUNT(?narrower) AS ?count_)\n",
    "WHERE {\n",
    "  ?broader\n",
    "    skos:narrower+ ?narrower ;\n",
    "\n",
    "    lemon:context context:COUNTRY ;\n",
    "\n",
    "    # ... with their labels ...\n",
    "    skos:prefLabel ?label .\n",
    "\n",
    "\n",
    "  FILTER (lang(?label) = \"en\")\n",
    "}\n",
    "GROUP BY ?broader\n",
    "ORDER BY ?count_\n",
    "\"\"\"\n",
    "result = country.query(q)\n",
    "[\n",
    "  {str(r.broader): str(r.count_)}\n",
    "    for r\n",
    "    in result\n",
    "]"
   ]
  },
  {
   "cell_type": "markdown",
   "id": "2356cd1c",
   "metadata": {},
   "source": [
    "In RDF, you don't have hierarchies,\n",
    "just triples."
   ]
  },
  {
   "cell_type": "markdown",
   "id": "02cbbbbf",
   "metadata": {},
   "source": [
    "```mermaid\n",
    "graph\n",
    "\n",
    "eu:Country((eu:Country)) ~~~ eu:FRA & eu:ITA & eu:XLI & eu:XLL -.->|a| eu:Country\n",
    "\n",
    "eu:FRA & eu:ITA  & eu:XLI & eu:XLL -->|skos:inScheme| eu:country\n",
    "\n",
    "linkStyle 8,9,10,11 stroke:green\n",
    "\n",
    "eu:ITA -->|skos:narrower| eu:XLI & eu:XLL\n",
    "\n",
    "linkStyle 12,13 stroke:blue\n",
    "\n",
    "eu:ITA & eu:FRA -->|lemon:context| context:COUNTRY\n",
    "\n",
    "linkStyle 14,15 stroke:red\n",
    "\n",
    "eu:country -.->|a| skos:ConceptScheme((skos:ConceptScheme))\n",
    "\n",
    "```"
   ]
  }
 ],
 "metadata": {},
 "nbformat": 4,
 "nbformat_minor": 5
}
