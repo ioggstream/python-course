{
 "cells": [
  {
   "cell_type": "markdown",
   "id": "6fb420ef",
   "metadata": {},
   "source": [
    "# Graph databases & SparQL\n",
    "\n",
    "## Agenda\n",
    "\n",
    "- Storing and retrieving triples\n",
    "- Using the `rdflib.Dataset` class\n",
    "- Querying and traversing graphs\n",
    "\n",
    "*Beware*: commands may contain small typos. You must fix them to properly complete the course!"
   ]
  },
  {
   "cell_type": "markdown",
   "id": "fbf8f93c",
   "metadata": {
    "slideshow": {
     "slide_type": "subslide"
    }
   },
   "source": [
    "----\n",
    "\n",
    "Prerequisites:\n",
    "\n",
    "- JSON, YAML, xmlschema\n",
    "- HTTP, OpenAPI 3\n",
    "- SQL and database hints"
   ]
  },
  {
   "cell_type": "code",
   "execution_count": null,
   "id": "3c3a1abb",
   "metadata": {},
   "outputs": [],
   "source": [
    "%pip install oxrdflib"
   ]
  },
  {
   "cell_type": "markdown",
   "id": "88200593",
   "metadata": {
    "slideshow": {
     "slide_type": "slide"
    }
   },
   "source": [
    "---\n",
    "\n",
    "## Graphs (again)\n",
    "\n",
    "### RDF databases\n",
    "\n",
    "An RDF graph is an (unordered) set of triples.\n",
    "\n",
    "Each triple consists of a `subject`, `predicate`, `object`.\n",
    "\n",
    "Graph databases such as:\n",
    "\n",
    "- [Virtuoso (opensource)](https://virtuoso.openlinksw.com/),\n",
    "- [GraphDB (proprietary)](),\n",
    "- [Amazon Nepture (proprietary SaaS)]()\n",
    "\n",
    "store triples into graphs.\n",
    "\n",
    "They can be queried via [SparQL]()."
   ]
  },
  {
   "cell_type": "markdown",
   "id": "6c28ae88",
   "metadata": {
    "slideshow": {
     "slide_type": "subslide"
    }
   },
   "source": [
    "----\n",
    "\n",
    "### Non-RDF databases: Neo4j\n",
    "\n",
    "Another notable graph database is [Neo4j (opensource)]().\n",
    "\n",
    "It is not a triple store, and it\n",
    "adopt a different approach named [Labeled Property Graphs](https://en.wikipedia.org/wiki/Labeled_property_graph)\n",
    "\n",
    "Neo4j can be queried with the [Cypher](https://neo4j.com/developer/cypher-query-language/) language.\n",
    "\n",
    "Neo4j supports RDF datasets via the Neosemantics plugin."
   ]
  },
  {
   "cell_type": "markdown",
   "id": "2e11962b",
   "metadata": {
    "slideshow": {
     "slide_type": "subslide"
    }
   },
   "source": [
    "----\n",
    "\n",
    "## rdflib backends\n",
    "\n",
    "We will simulate a graph database using\n",
    "[rdflib](https://rdflib.readthedocs.io/en/stable/index.html).\n",
    "\n",
    "rdflib supports multiple backends to parse and store triples.\n",
    "\n",
    "oxrdflib is a performant one\n",
    "based on [Oxigraph](https://github.com/oxigraph/oxigraph).\n",
    "\n",
    "Let's create a `Dataset`."
   ]
  },
  {
   "cell_type": "code",
   "execution_count": null,
   "id": "c2bc32bc",
   "metadata": {},
   "outputs": [],
   "source": [
    "from rdflib import Dataset\n",
    "\n",
    "d = Dataset(store=\"Oxigraph\")"
   ]
  },
  {
   "cell_type": "markdown",
   "id": "faa0cfa9",
   "metadata": {},
   "source": [
    "Exercise:\n",
    "\n",
    "- use the `Dataset.bind` method to bind the `eu` prefix to the\n",
    "  `https://publications.europa.eu/resource/authority/` namespace;\n",
    "- use the `Dataset.graph` method to create the `eu:country` graph;"
   ]
  },
  {
   "cell_type": "code",
   "execution_count": null,
   "id": "6e9ef154",
   "metadata": {},
   "outputs": [],
   "source": [
    "print(list(d.graphs()))\n",
    "d.bind(\"eu\", \"https://publications.europa.eu/resource/authority/\")\n",
    "eu_country_id = d.namespace_manager.expand_curie(\"eu:country\")"
   ]
  },
  {
   "cell_type": "code",
   "execution_count": null,
   "id": "af26bae1",
   "metadata": {},
   "outputs": [],
   "source": [
    "# Use the default backend\n",
    "g = d.graph(eu_country_id)\n",
    "%time g.parse(\"countries-skos-ap-act.ttl\", format=\"text/turtle\")\n",
    "print(\"The graph contains\", len(g), \"triples.\")"
   ]
  },
  {
   "cell_type": "code",
   "execution_count": null,
   "id": "14881b9c",
   "metadata": {},
   "outputs": [],
   "source": [
    "d = Dataset(store=\"Oxigraph\")\n",
    "g = d.graph(eu_country_id)\n",
    "# Use the ox-turtle parser.\n",
    "%time g.parse(\"countries-skos-ap-act.ttl\", format=\"ox-turtle\")\n",
    "print(\"The graph contains\", len(g), \"triples.\")"
   ]
  },
  {
   "cell_type": "markdown",
   "id": "8c2977c7",
   "metadata": {},
   "source": [
    "See also:\n",
    "\n",
    "- <https://rdflib.readthedocs.io/en/stable/persistence.html>"
   ]
  },
  {
   "cell_type": "markdown",
   "id": "a93f0e45",
   "metadata": {
    "slideshow": {
     "slide_type": "slide"
    }
   },
   "source": [
    "---\n",
    "\n",
    "## SparQL practice\n",
    "\n",
    "Let's load into it the [European vocabulary for countries](countries.ttl).\n",
    "\n",
    "See also:\n",
    "\n",
    "- [EU Authority Tables](https://op.europa.eu/en/web/eu-vocabularies/authority-tables)"
   ]
  },
  {
   "cell_type": "code",
   "execution_count": null,
   "id": "4c6b0593",
   "metadata": {},
   "outputs": [],
   "source": [
    "from rdflib import Graph\n",
    "\n",
    "# Let's create a graph.\n",
    "g = Graph(store=\"Oxigraph\")\n",
    "\n",
    "# And load into it the European\n",
    "# vocabulary for countries.\n",
    "g.parse(\"countries-skos-ap-act.ttl\", format=\"ox-turtle\")"
   ]
  },
  {
   "cell_type": "markdown",
   "id": "39b56ab1",
   "metadata": {
    "slideshow": {
     "slide_type": "slide"
    }
   },
   "source": [
    "---\n",
    "\n",
    "### Traversing the graph\n",
    "\n",
    "The Country graph contains more than countries."
   ]
  },
  {
   "cell_type": "code",
   "execution_count": null,
   "id": "fd70ca99",
   "metadata": {},
   "outputs": [],
   "source": [
    "to_curie = g.namespace_manager.curie\n",
    "\n",
    "q = \"\"\"\n",
    "PREFIX country: <http://publications.europa.eu/resource/authority/country/>\n",
    "\n",
    "SELECT DISTINCT *\n",
    "WHERE {\n",
    "  country:ITA skos:narrower ?narrower .\n",
    "  ?narrower skos:prefLabel ?label .\n",
    "  FILTER (lang(?label) = \"en\")\n",
    "}\n",
    "\"\"\"\n",
    "result = g.query(q)\n",
    "\n",
    "narrower = {to_curie(r.narrower): str(r.label) for r in result}\n",
    "\n",
    "print(*narrower.items(), sep=\"\\n\")"
   ]
  },
  {
   "cell_type": "markdown",
   "id": "3e743b6b",
   "metadata": {},
   "source": [
    "Exercise:\n",
    "\n",
    "- run the above query replacing `skos:narrower` with `skos:narrower*`;\n",
    "  what happens?\n",
    "- run the above query using `country:FRA` and see what happens;\n",
    "  then replace `skos:narrower` with `skos:narrower/skos:narrower`:\n",
    "  do you see the same number of results?\n",
    "\n",
    "<b>\n",
    "The `*` operator is used to traverse the graph\n",
    "and find all the nodes reachable from the starting node.\n",
    "The `*` operator is not supported by all graph databases.\n",
    "</b>\n",
    "\n",
    "#### Creating a graph\n",
    "\n",
    "SparQL can create new graphs from an existing one."
   ]
  },
  {
   "cell_type": "code",
   "execution_count": null,
   "id": "b171f7df",
   "metadata": {},
   "outputs": [],
   "source": [
    "q = \"\"\"\n",
    "PREFIX country: <http://publications.europa.eu/resource/authority/country/>\n",
    "\n",
    "CONSTRUCT {\n",
    "  ?narrower\n",
    "    skos:prefLabel ?label ;\n",
    "    skos:broader ?broader .\n",
    "}\n",
    "WHERE {\n",
    "  ?narrower\n",
    "    # All resources transitively related to country:FRA...\n",
    "    skos:broader* country:FRA ;\n",
    "\n",
    "    # ... with their labels ...\n",
    "    skos:prefLabel ?label ;\n",
    "\n",
    "    # ... and their broader relations.\n",
    "    skos:broader ?broader .\n",
    "\n",
    "  FILTER (lang(?label) = \"en\")\n",
    "}\n",
    "\"\"\"\n",
    "result = g.query(q)\n",
    "list(result.graph)"
   ]
  },
  {
   "cell_type": "markdown",
   "id": "b5e15826",
   "metadata": {},
   "source": [
    "Let's visualize the graph."
   ]
  },
  {
   "cell_type": "code",
   "execution_count": null,
   "id": "23d274f3",
   "metadata": {},
   "outputs": [],
   "source": [
    "from tools import plot_graph\n",
    "from rdflib import SKOS\n",
    "\n",
    "plot_graph(result.graph, label_property=SKOS.prefLabel)"
   ]
  },
  {
   "cell_type": "markdown",
   "id": "7a14f090",
   "metadata": {},
   "source": [
    "#### More metadata\n",
    "\n",
    "The Country graph contains more than countries ;)\n",
    "the resource type is identified by the `lemon:context` property."
   ]
  },
  {
   "cell_type": "code",
   "execution_count": null,
   "id": "30cff88a",
   "metadata": {},
   "outputs": [],
   "source": [
    "q = \"\"\"\n",
    "PREFIX lemon: <http://lemon-model.net/lemon#>\n",
    "PREFIX country: <http://publications.europa.eu/resource/authority/country/>\n",
    "PREFIX context: <http://publications.europa.eu/resource/authority/use-context/>\n",
    "\n",
    "SELECT DISTINCT\n",
    "  ?broader\n",
    "  (COUNT(?narrower) AS ?count)\n",
    "WHERE {\n",
    "  ?broader\n",
    "    skos:narrower+ ?narrower ;\n",
    "\n",
    "    lemon:context context:COUNTRY ;\n",
    "\n",
    "    # ... with their labels ...\n",
    "    skos:prefLabel ?label .\n",
    "\n",
    "\n",
    "  FILTER (lang(?label) = \"en\")\n",
    "}\n",
    "GROUP BY ?broader\n",
    "ORDER BY ?count\n",
    "\"\"\"\n",
    "result = g.query(q)\n",
    "list(result)"
   ]
  },
  {
   "cell_type": "markdown",
   "id": "fffedc09",
   "metadata": {
    "slideshow": {
     "slide_type": "slide"
    }
   },
   "source": [
    "---\n",
    "\n",
    "## Datasets\n",
    "\n",
    "An RDF dataset is made of multiple graphs."
   ]
  },
  {
   "cell_type": "code",
   "execution_count": null,
   "id": "6df763ad",
   "metadata": {},
   "outputs": [],
   "source": [
    "from rdflib import Dataset\n",
    "\n",
    "d = Dataset(store='Oxigraph')\n",
    "# Add ns shortcuts.\n",
    "d.bind(\"eu\", \"https://publications.europa.eu/resource/authority/\")\n",
    "d.bind(\"schema\": \"https://schema.org/\")\n",
    "d.bind(\"euvoc\": \"http://publications.europa.eu/ontology/euvoc#\")\n",
    "\n",
    "\n",
    "\n",
    "d.graph(identifier=\"urn:People\").parse(data=json.dumps(nodes_ld), format=\"application/ld+json\")\n",
    "d.graph(identifier=\"eu:country\").parse(\"countries-skos-ap-act.ttl\", format=\"ox-turtle\")\n",
    "[len(x) for x in d.graphs()]"
   ]
  }
 ],
 "metadata": {},
 "nbformat": 4,
 "nbformat_minor": 5
}
