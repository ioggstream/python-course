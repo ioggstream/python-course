{
 "cells": [
  {
   "cell_type": "markdown",
   "id": "507991a3",
   "metadata": {},
   "source": [
    "# Knowledge Management 101\n",
    "\n",
    "Welcome to the Knowledge Management 101 course!\n",
    "Author: <roberto.polli@par-tec.it>"
   ]
  },
  {
   "cell_type": "markdown",
   "id": "758ad199",
   "metadata": {
    "slideshow": {
     "slide_type": "slide"
    }
   },
   "source": [
    "---\n",
    "\n",
    "## Agenda\n",
    "\n",
    "- 1h. What is semantics and how to describe information in a\n",
    "  meaningful (and machine-readable) way using RDF.\n",
    "\n",
    "- 1h. Storing data or describing knowledge?\n",
    "  Practical use of getting security insights from data.\n",
    "\n",
    "- Bonus track: Graphs and semantic search: mixing graphs and vector databases\n",
    "\n",
    "### Hints\n",
    "\n",
    "- **Type in** exercises so you can learn from your mistakes\n",
    "- If your notebook get stuck, **restart the kernel and run all** cells\n",
    "- **Repetita iuvant**: concepts will be explained multiple times,\n",
    "  from different perspectives, thoughout various notebooks.\n",
    "\n",
    "## Teaser\n",
    "\n",
    "In this course, we will learn how to describe information in a\n",
    "machine-readable way using RDF."
   ]
  },
  {
   "cell_type": "code",
   "execution_count": null,
   "id": "1ca92bbb",
   "metadata": {},
   "outputs": [],
   "source": [
    "%pip install rdflib"
   ]
  },
  {
   "cell_type": "markdown",
   "id": "89f6cf9c",
   "metadata": {},
   "source": [
    "(and some graph libraries)"
   ]
  },
  {
   "cell_type": "code",
   "execution_count": null,
   "id": "0ea782b1",
   "metadata": {},
   "outputs": [],
   "source": [
    "%pip install bokeh"
   ]
  },
  {
   "cell_type": "code",
   "execution_count": null,
   "id": "e3d6501b",
   "metadata": {},
   "outputs": [],
   "source": [
    "%pip install networkx"
   ]
  },
  {
   "cell_type": "markdown",
   "id": "b3839d63",
   "metadata": {},
   "source": [
    "For example network of persons:"
   ]
  },
  {
   "cell_type": "code",
   "execution_count": null,
   "id": "56eab17e",
   "metadata": {},
   "outputs": [],
   "source": [
    "from rdflib import Graph\n",
    "from rdflib.namespace import FOAF, OWL\n",
    "\n",
    "sentences = \"\"\"\n",
    "@prefix owl: <http://www.w3.org/2002/07/owl#> .\n",
    "@prefix foaf: <http://xmlns.com/foaf/0.1/>    .\n",
    "@prefix : <urn:simpsons:>                     .\n",
    "\n",
    ":Homer foaf:knows :Marge, :Lisa, :Bart, :Maggie;\n",
    "  foaf:interest <https://dbpedia.org/page/Beer>;\n",
    "  foaf:firstName \"Homer\" .\n",
    "\n",
    ":Lisa foaf:firstName \"Lisa\";\n",
    "  foaf:interest <https://dbpedia.org/page/Jazz> .\n",
    "\n",
    "\"\"\"\n",
    "\n",
    "g = Graph()\n",
    "g.parse(data=sentences, format=\"text/turtle\")"
   ]
  },
  {
   "cell_type": "markdown",
   "id": "e549bf98",
   "metadata": {},
   "source": [
    "... eventually rendered as a graph ..."
   ]
  },
  {
   "cell_type": "code",
   "execution_count": null,
   "id": "7fe0ef92",
   "metadata": {},
   "outputs": [],
   "source": [
    "from tools import plot_graph\n",
    "plot_graph(g, label_property=FOAF.firstName)"
   ]
  },
  {
   "cell_type": "markdown",
   "id": "6f6635e3",
   "metadata": {},
   "source": [
    "Convert it in [JSON-LD](https://json-ld.org/) format:"
   ]
  },
  {
   "cell_type": "code",
   "execution_count": null,
   "id": "df71aade",
   "metadata": {},
   "outputs": [],
   "source": [
    "json_text = g.serialize(format=\"application/ld+json\")\n",
    "print(json_text)"
   ]
  },
  {
   "cell_type": "markdown",
   "id": "f97324e5",
   "metadata": {},
   "source": [
    "There's plenty of knowledge in the web!"
   ]
  },
  {
   "cell_type": "code",
   "execution_count": null,
   "id": "eb278c99",
   "metadata": {},
   "outputs": [],
   "source": [
    "from pathlib import Path\n",
    "from rdflib import Graph\n",
    "from rdflib.namespace import RDFS\n",
    "\n",
    "# We can parse either a local file or a remote URL.\n",
    "tortellini_url = \"https://dbpedia.org/data/Tortellini.n3\"\n",
    "tortellini_n3 = Path(\"Tortellini.n3\")\n",
    "\n",
    "g = Graph()\n",
    "g.parse(tortellini_n3, format=\"n3\")\n",
    "plot_graph(g, label_property=RDFS.label, limit=30, pattern=\".*/dbpedia.org\")"
   ]
  },
  {
   "cell_type": "markdown",
   "id": "9cd21370",
   "metadata": {},
   "source": [
    "And we can connect them together"
   ]
  },
  {
   "cell_type": "code",
   "execution_count": null,
   "id": "85e27695",
   "metadata": {},
   "outputs": [],
   "source": [
    "tagliatelle_url = \"https://dbpedia.org/data/Tagliatelle.n3\"\n",
    "tagliatelle_n3 = Path(\"Tagliatelle.n3\")\n",
    "\n",
    "# Extend our graph\n",
    "g.parse(tagliatelle_n3, format=\"n3\")\n",
    "\n",
    "plot_graph(g, label_property=RDFS.label, limit=50, pattern=\".*/dbpedia.org\")"
   ]
  },
  {
   "cell_type": "markdown",
   "id": "c26ed89d",
   "metadata": {},
   "source": [
    "Graphs contain a lot of senteces"
   ]
  },
  {
   "cell_type": "code",
   "execution_count": null,
   "id": "efef5533",
   "metadata": {},
   "outputs": [],
   "source": [
    "len(g)"
   ]
  },
  {
   "cell_type": "markdown",
   "id": "3a303017",
   "metadata": {},
   "source": [
    "but we can query them (e.g., for Italian food)"
   ]
  },
  {
   "cell_type": "code",
   "execution_count": null,
   "id": "8c2c1920",
   "metadata": {},
   "outputs": [],
   "source": [
    "g.query(\"\"\"\n",
    "PREFIX dbo: <http://dbpedia.org/ontology/>\n",
    "PREFIX dbr: <http://dbpedia.org/resource/>\n",
    "\n",
    "SELECT DISTINCT ?s\n",
    "WHERE {\n",
    "  ?s\n",
    "    a   dbo:Food ;\n",
    "    ?p  dbr:Italy .\n",
    "}\n",
    "\"\"\"\n",
    ").bindings"
   ]
  },
  {
   "cell_type": "markdown",
   "id": "cb999426",
   "metadata": {},
   "source": [
    "and see if two resources have something in common..."
   ]
  },
  {
   "cell_type": "code",
   "execution_count": null,
   "id": "375ac362",
   "metadata": {},
   "outputs": [],
   "source": [
    "g.query(\"\"\"\n",
    "PREFIX dbr: <http://dbpedia.org/resource/>\n",
    "\n",
    "SELECT DISTINCT ?t\n",
    "WHERE {\n",
    "  dbr:Tagliatelle ?p1 ?t .\n",
    "  dbr:Tortellini  ?p2 ?t .\n",
    "}\n",
    "\"\"\"\n",
    ").bindings"
   ]
  },
  {
   "cell_type": "markdown",
   "id": "34a30577",
   "metadata": {},
   "source": [
    "We can query remote graphs (e.g., DBPedia):"
   ]
  },
  {
   "cell_type": "code",
   "execution_count": 3,
   "id": "b5882d05",
   "metadata": {},
   "outputs": [
    {
     "ename": "ValueError",
     "evalue": "You did something wrong formulating either the URI or your SPARQL query",
     "output_type": "error",
     "traceback": [
      "\u001b[31m---------------------------------------------------------------------------\u001b[39m",
      "\u001b[31mHTTPError\u001b[39m                                 Traceback (most recent call last)",
      "\u001b[36mFile \u001b[39m\u001b[32m~/workspace-py/python-course/sparql-101/.tox/py3/lib/python3.12/site-packages/rdflib/plugins/stores/sparqlconnector.py:113\u001b[39m, in \u001b[36mSPARQLConnector.query\u001b[39m\u001b[34m(self, query, default_graph, named_graph)\u001b[39m\n\u001b[32m    112\u001b[39m \u001b[38;5;28;01mtry\u001b[39;00m:\n\u001b[32m--> \u001b[39m\u001b[32m113\u001b[39m     res = \u001b[43murlopen\u001b[49m\u001b[43m(\u001b[49m\n\u001b[32m    114\u001b[39m \u001b[43m        \u001b[49m\u001b[43mRequest\u001b[49m\u001b[43m(\u001b[49m\u001b[38;5;28;43mself\u001b[39;49m\u001b[43m.\u001b[49m\u001b[43mquery_endpoint\u001b[49m\u001b[43m \u001b[49m\u001b[43m+\u001b[49m\u001b[43m \u001b[49m\u001b[43mqsa\u001b[49m\u001b[43m,\u001b[49m\u001b[43m \u001b[49m\u001b[43mheaders\u001b[49m\u001b[43m=\u001b[49m\u001b[43margs\u001b[49m\u001b[43m[\u001b[49m\u001b[33;43m\"\u001b[39;49m\u001b[33;43mheaders\u001b[39;49m\u001b[33;43m\"\u001b[39;49m\u001b[43m]\u001b[49m\u001b[43m)\u001b[49m\n\u001b[32m    115\u001b[39m \u001b[43m    \u001b[49m\u001b[43m)\u001b[49m\n\u001b[32m    116\u001b[39m \u001b[38;5;28;01mexcept\u001b[39;00m \u001b[38;5;167;01mException\u001b[39;00m \u001b[38;5;28;01mas\u001b[39;00m e:  \u001b[38;5;66;03m# noqa: F841\u001b[39;00m\n",
      "\u001b[36mFile \u001b[39m\u001b[32m/usr/lib/python3.12/urllib/request.py:215\u001b[39m, in \u001b[36murlopen\u001b[39m\u001b[34m(url, data, timeout, cafile, capath, cadefault, context)\u001b[39m\n\u001b[32m    214\u001b[39m     opener = _opener\n\u001b[32m--> \u001b[39m\u001b[32m215\u001b[39m \u001b[38;5;28;01mreturn\u001b[39;00m \u001b[43mopener\u001b[49m\u001b[43m.\u001b[49m\u001b[43mopen\u001b[49m\u001b[43m(\u001b[49m\u001b[43murl\u001b[49m\u001b[43m,\u001b[49m\u001b[43m \u001b[49m\u001b[43mdata\u001b[49m\u001b[43m,\u001b[49m\u001b[43m \u001b[49m\u001b[43mtimeout\u001b[49m\u001b[43m)\u001b[49m\n",
      "\u001b[36mFile \u001b[39m\u001b[32m/usr/lib/python3.12/urllib/request.py:521\u001b[39m, in \u001b[36mOpenerDirector.open\u001b[39m\u001b[34m(self, fullurl, data, timeout)\u001b[39m\n\u001b[32m    520\u001b[39m     meth = \u001b[38;5;28mgetattr\u001b[39m(processor, meth_name)\n\u001b[32m--> \u001b[39m\u001b[32m521\u001b[39m     response = \u001b[43mmeth\u001b[49m\u001b[43m(\u001b[49m\u001b[43mreq\u001b[49m\u001b[43m,\u001b[49m\u001b[43m \u001b[49m\u001b[43mresponse\u001b[49m\u001b[43m)\u001b[49m\n\u001b[32m    523\u001b[39m \u001b[38;5;28;01mreturn\u001b[39;00m response\n",
      "\u001b[36mFile \u001b[39m\u001b[32m/usr/lib/python3.12/urllib/request.py:630\u001b[39m, in \u001b[36mHTTPErrorProcessor.http_response\u001b[39m\u001b[34m(self, request, response)\u001b[39m\n\u001b[32m    629\u001b[39m \u001b[38;5;28;01mif\u001b[39;00m \u001b[38;5;129;01mnot\u001b[39;00m (\u001b[32m200\u001b[39m <= code < \u001b[32m300\u001b[39m):\n\u001b[32m--> \u001b[39m\u001b[32m630\u001b[39m     response = \u001b[38;5;28;43mself\u001b[39;49m\u001b[43m.\u001b[49m\u001b[43mparent\u001b[49m\u001b[43m.\u001b[49m\u001b[43merror\u001b[49m\u001b[43m(\u001b[49m\n\u001b[32m    631\u001b[39m \u001b[43m        \u001b[49m\u001b[33;43m'\u001b[39;49m\u001b[33;43mhttp\u001b[39;49m\u001b[33;43m'\u001b[39;49m\u001b[43m,\u001b[49m\u001b[43m \u001b[49m\u001b[43mrequest\u001b[49m\u001b[43m,\u001b[49m\u001b[43m \u001b[49m\u001b[43mresponse\u001b[49m\u001b[43m,\u001b[49m\u001b[43m \u001b[49m\u001b[43mcode\u001b[49m\u001b[43m,\u001b[49m\u001b[43m \u001b[49m\u001b[43mmsg\u001b[49m\u001b[43m,\u001b[49m\u001b[43m \u001b[49m\u001b[43mhdrs\u001b[49m\u001b[43m)\u001b[49m\n\u001b[32m    633\u001b[39m \u001b[38;5;28;01mreturn\u001b[39;00m response\n",
      "\u001b[36mFile \u001b[39m\u001b[32m/usr/lib/python3.12/urllib/request.py:559\u001b[39m, in \u001b[36mOpenerDirector.error\u001b[39m\u001b[34m(self, proto, *args)\u001b[39m\n\u001b[32m    558\u001b[39m args = (\u001b[38;5;28mdict\u001b[39m, \u001b[33m'\u001b[39m\u001b[33mdefault\u001b[39m\u001b[33m'\u001b[39m, \u001b[33m'\u001b[39m\u001b[33mhttp_error_default\u001b[39m\u001b[33m'\u001b[39m) + orig_args\n\u001b[32m--> \u001b[39m\u001b[32m559\u001b[39m \u001b[38;5;28;01mreturn\u001b[39;00m \u001b[38;5;28;43mself\u001b[39;49m\u001b[43m.\u001b[49m\u001b[43m_call_chain\u001b[49m\u001b[43m(\u001b[49m\u001b[43m*\u001b[49m\u001b[43margs\u001b[49m\u001b[43m)\u001b[49m\n",
      "\u001b[36mFile \u001b[39m\u001b[32m/usr/lib/python3.12/urllib/request.py:492\u001b[39m, in \u001b[36mOpenerDirector._call_chain\u001b[39m\u001b[34m(self, chain, kind, meth_name, *args)\u001b[39m\n\u001b[32m    491\u001b[39m func = \u001b[38;5;28mgetattr\u001b[39m(handler, meth_name)\n\u001b[32m--> \u001b[39m\u001b[32m492\u001b[39m result = \u001b[43mfunc\u001b[49m\u001b[43m(\u001b[49m\u001b[43m*\u001b[49m\u001b[43margs\u001b[49m\u001b[43m)\u001b[49m\n\u001b[32m    493\u001b[39m \u001b[38;5;28;01mif\u001b[39;00m result \u001b[38;5;129;01mis\u001b[39;00m \u001b[38;5;129;01mnot\u001b[39;00m \u001b[38;5;28;01mNone\u001b[39;00m:\n",
      "\u001b[36mFile \u001b[39m\u001b[32m/usr/lib/python3.12/urllib/request.py:639\u001b[39m, in \u001b[36mHTTPDefaultErrorHandler.http_error_default\u001b[39m\u001b[34m(self, req, fp, code, msg, hdrs)\u001b[39m\n\u001b[32m    638\u001b[39m \u001b[38;5;28;01mdef\u001b[39;00m\u001b[38;5;250m \u001b[39m\u001b[34mhttp_error_default\u001b[39m(\u001b[38;5;28mself\u001b[39m, req, fp, code, msg, hdrs):\n\u001b[32m--> \u001b[39m\u001b[32m639\u001b[39m     \u001b[38;5;28;01mraise\u001b[39;00m HTTPError(req.full_url, code, msg, hdrs, fp)\n",
      "\u001b[31mHTTPError\u001b[39m: HTTP Error 502: Bad Gateway",
      "\nDuring handling of the above exception, another exception occurred:\n",
      "\u001b[31mValueError\u001b[39m                                Traceback (most recent call last)",
      "\u001b[36mCell\u001b[39m\u001b[36m \u001b[39m\u001b[32mIn[3]\u001b[39m\u001b[32m, line 5\u001b[39m\n\u001b[32m      2\u001b[39m dbpedia = Graph(store=\u001b[33m\"\u001b[39m\u001b[33mSPARQLStore\u001b[39m\u001b[33m\"\u001b[39m)\n\u001b[32m      3\u001b[39m dbpedia.open(\u001b[33m\"\u001b[39m\u001b[33mhttps://dbpedia.org/sparql\u001b[39m\u001b[33m\"\u001b[39m)\n\u001b[32m----> \u001b[39m\u001b[32m5\u001b[39m \u001b[43mdbpedia\u001b[49m\u001b[43m.\u001b[49m\u001b[43mquery\u001b[49m\u001b[43m(\u001b[49m\u001b[33;43m\"\"\"\u001b[39;49m\n\u001b[32m      6\u001b[39m \u001b[33;43mPREFIX dbo: <http://dbpedia.org/ontology/>\u001b[39;49m\n\u001b[32m      7\u001b[39m \u001b[33;43mPREFIX rdfs: <http://www.w3.org/2000/01/rdf-schema#>\u001b[39;49m\n\u001b[32m      8\u001b[39m \n\u001b[32m      9\u001b[39m \u001b[33;43mSELECT DISTINCT ?subject ?label\u001b[39;49m\n\u001b[32m     10\u001b[39m \u001b[33;43mWHERE \u001b[39;49m\u001b[33;43m{\u001b[39;49m\n\u001b[32m     11\u001b[39m \u001b[33;43m  ?subject\u001b[39;49m\n\u001b[32m     12\u001b[39m \u001b[33;43m    a dbo:Food ;\u001b[39;49m\n\u001b[32m     13\u001b[39m \u001b[33;43m    rdfs:label ?label\u001b[39;49m\n\u001b[32m     14\u001b[39m \u001b[33;43m  FILTER (lang(?label) = \u001b[39;49m\u001b[33;43m'\u001b[39;49m\u001b[33;43men\u001b[39;49m\u001b[33;43m'\u001b[39;49m\u001b[33;43m)\u001b[39;49m\n\u001b[32m     15\u001b[39m \u001b[33;43m  .\u001b[39;49m\n\u001b[32m     16\u001b[39m \u001b[33;43m}\u001b[39;49m\n\u001b[32m     17\u001b[39m \u001b[33;43mLIMIT 10\u001b[39;49m\n\u001b[32m     18\u001b[39m \u001b[33;43m\"\"\"\u001b[39;49m\u001b[43m)\u001b[49m.bindings\n",
      "\u001b[36mFile \u001b[39m\u001b[32m~/workspace-py/python-course/sparql-101/.tox/py3/lib/python3.12/site-packages/rdflib/graph.py:1616\u001b[39m, in \u001b[36mGraph.query\u001b[39m\u001b[34m(self, query_object, processor, result, initNs, initBindings, use_store_provided, **kwargs)\u001b[39m\n\u001b[32m   1614\u001b[39m \u001b[38;5;28;01mif\u001b[39;00m \u001b[38;5;28mhasattr\u001b[39m(\u001b[38;5;28mself\u001b[39m.store, \u001b[33m\"\u001b[39m\u001b[33mquery\u001b[39m\u001b[33m\"\u001b[39m) \u001b[38;5;129;01mand\u001b[39;00m use_store_provided:\n\u001b[32m   1615\u001b[39m     \u001b[38;5;28;01mtry\u001b[39;00m:\n\u001b[32m-> \u001b[39m\u001b[32m1616\u001b[39m         \u001b[38;5;28;01mreturn\u001b[39;00m \u001b[38;5;28;43mself\u001b[39;49m\u001b[43m.\u001b[49m\u001b[43mstore\u001b[49m\u001b[43m.\u001b[49m\u001b[43mquery\u001b[49m\u001b[43m(\u001b[49m\n\u001b[32m   1617\u001b[39m \u001b[43m            \u001b[49m\u001b[43mquery_object\u001b[49m\u001b[43m,\u001b[49m\n\u001b[32m   1618\u001b[39m \u001b[43m            \u001b[49m\u001b[43minitNs\u001b[49m\u001b[43m,\u001b[49m\n\u001b[32m   1619\u001b[39m \u001b[43m            \u001b[49m\u001b[43minitBindings\u001b[49m\u001b[43m,\u001b[49m\n\u001b[32m   1620\u001b[39m \u001b[43m            \u001b[49m\u001b[43mquery_graph\u001b[49m\u001b[43m,\u001b[49m\n\u001b[32m   1621\u001b[39m \u001b[43m            \u001b[49m\u001b[43m*\u001b[49m\u001b[43m*\u001b[49m\u001b[43mkwargs\u001b[49m\u001b[43m,\u001b[49m\n\u001b[32m   1622\u001b[39m \u001b[43m        \u001b[49m\u001b[43m)\u001b[49m\n\u001b[32m   1623\u001b[39m     \u001b[38;5;28;01mexcept\u001b[39;00m \u001b[38;5;167;01mNotImplementedError\u001b[39;00m:\n\u001b[32m   1624\u001b[39m         \u001b[38;5;28;01mpass\u001b[39;00m  \u001b[38;5;66;03m# store has no own implementation\u001b[39;00m\n",
      "\u001b[36mFile \u001b[39m\u001b[32m~/workspace-py/python-course/sparql-101/.tox/py3/lib/python3.12/site-packages/rdflib/plugins/stores/sparqlstore.py:246\u001b[39m, in \u001b[36mSPARQLStore.query\u001b[39m\u001b[34m(self, query, initNs, initBindings, queryGraph, DEBUG)\u001b[39m\n\u001b[32m    240\u001b[39m     \u001b[38;5;66;03m# VALUES was added to SPARQL 1.1 on 2012/07/24\u001b[39;00m\n\u001b[32m    241\u001b[39m     query += \u001b[33m\"\u001b[39m\u001b[38;5;130;01m\\n\u001b[39;00m\u001b[33mVALUES ( \u001b[39m\u001b[38;5;132;01m%s\u001b[39;00m\u001b[33m )\u001b[39m\u001b[38;5;130;01m\\n\u001b[39;00m\u001b[33m{\u001b[39m\u001b[33m ( \u001b[39m\u001b[38;5;132;01m%s\u001b[39;00m\u001b[33m ) }\u001b[39m\u001b[38;5;130;01m\\n\u001b[39;00m\u001b[33m\"\u001b[39m % (\n\u001b[32m    242\u001b[39m         \u001b[33m\"\u001b[39m\u001b[33m \u001b[39m\u001b[33m\"\u001b[39m.join(\u001b[33m\"\u001b[39m\u001b[33m?\u001b[39m\u001b[33m\"\u001b[39m + \u001b[38;5;28mstr\u001b[39m(x) \u001b[38;5;28;01mfor\u001b[39;00m x \u001b[38;5;129;01min\u001b[39;00m v),\n\u001b[32m    243\u001b[39m         \u001b[33m\"\u001b[39m\u001b[33m \u001b[39m\u001b[33m\"\u001b[39m.join(\u001b[38;5;28mself\u001b[39m.node_to_sparql(initBindings[x]) \u001b[38;5;28;01mfor\u001b[39;00m x \u001b[38;5;129;01min\u001b[39;00m v),\n\u001b[32m    244\u001b[39m     )\n\u001b[32m--> \u001b[39m\u001b[32m246\u001b[39m \u001b[38;5;28;01mreturn\u001b[39;00m \u001b[38;5;28;43mself\u001b[39;49m\u001b[43m.\u001b[49m\u001b[43m_query\u001b[49m\u001b[43m(\u001b[49m\n\u001b[32m    247\u001b[39m \u001b[43m    \u001b[49m\u001b[43mquery\u001b[49m\u001b[43m,\u001b[49m\u001b[43m \u001b[49m\u001b[43mdefault_graph\u001b[49m\u001b[43m=\u001b[49m\u001b[43mqueryGraph\u001b[49m\u001b[43m \u001b[49m\u001b[38;5;28;43;01mif\u001b[39;49;00m\u001b[43m \u001b[49m\u001b[38;5;28;43mself\u001b[39;49m\u001b[43m.\u001b[49m\u001b[43m_is_contextual\u001b[49m\u001b[43m(\u001b[49m\u001b[43mqueryGraph\u001b[49m\u001b[43m)\u001b[49m\u001b[43m \u001b[49m\u001b[38;5;28;43;01melse\u001b[39;49;00m\u001b[43m \u001b[49m\u001b[38;5;28;43;01mNone\u001b[39;49;00m\n\u001b[32m    248\u001b[39m \u001b[43m\u001b[49m\u001b[43m)\u001b[49m\n",
      "\u001b[36mFile \u001b[39m\u001b[32m~/workspace-py/python-course/sparql-101/.tox/py3/lib/python3.12/site-packages/rdflib/plugins/stores/sparqlstore.py:205\u001b[39m, in \u001b[36mSPARQLStore._query\u001b[39m\u001b[34m(self, *args, **kwargs)\u001b[39m\n\u001b[32m    202\u001b[39m \u001b[38;5;28;01mdef\u001b[39;00m\u001b[38;5;250m \u001b[39m\u001b[34m_query\u001b[39m(\u001b[38;5;28mself\u001b[39m, *args: Any, **kwargs: Any) -> Result:\n\u001b[32m    203\u001b[39m     \u001b[38;5;28mself\u001b[39m._queries += \u001b[32m1\u001b[39m\n\u001b[32m--> \u001b[39m\u001b[32m205\u001b[39m     \u001b[38;5;28;01mreturn\u001b[39;00m \u001b[38;5;28;43msuper\u001b[39;49m\u001b[43m(\u001b[49m\u001b[43mSPARQLStore\u001b[49m\u001b[43m,\u001b[49m\u001b[43m \u001b[49m\u001b[38;5;28;43mself\u001b[39;49m\u001b[43m)\u001b[49m\u001b[43m.\u001b[49m\u001b[43mquery\u001b[49m\u001b[43m(\u001b[49m\u001b[43m*\u001b[49m\u001b[43margs\u001b[49m\u001b[43m,\u001b[49m\u001b[43m \u001b[49m\u001b[43m*\u001b[49m\u001b[43m*\u001b[49m\u001b[43mkwargs\u001b[49m\u001b[43m)\u001b[49m\n",
      "\u001b[36mFile \u001b[39m\u001b[32m~/workspace-py/python-course/sparql-101/.tox/py3/lib/python3.12/site-packages/rdflib/plugins/stores/sparqlconnector.py:117\u001b[39m, in \u001b[36mSPARQLConnector.query\u001b[39m\u001b[34m(self, query, default_graph, named_graph)\u001b[39m\n\u001b[32m    113\u001b[39m         res = urlopen(\n\u001b[32m    114\u001b[39m             Request(\u001b[38;5;28mself\u001b[39m.query_endpoint + qsa, headers=args[\u001b[33m\"\u001b[39m\u001b[33mheaders\u001b[39m\u001b[33m\"\u001b[39m])\n\u001b[32m    115\u001b[39m         )\n\u001b[32m    116\u001b[39m     \u001b[38;5;28;01mexcept\u001b[39;00m \u001b[38;5;167;01mException\u001b[39;00m \u001b[38;5;28;01mas\u001b[39;00m e:  \u001b[38;5;66;03m# noqa: F841\u001b[39;00m\n\u001b[32m--> \u001b[39m\u001b[32m117\u001b[39m         \u001b[38;5;28;01mraise\u001b[39;00m \u001b[38;5;167;01mValueError\u001b[39;00m(\n\u001b[32m    118\u001b[39m             \u001b[33m\"\u001b[39m\u001b[33mYou did something wrong formulating either the URI or your SPARQL query\u001b[39m\u001b[33m\"\u001b[39m\n\u001b[32m    119\u001b[39m         )\n\u001b[32m    120\u001b[39m \u001b[38;5;28;01melif\u001b[39;00m \u001b[38;5;28mself\u001b[39m.method == \u001b[33m\"\u001b[39m\u001b[33mPOST\u001b[39m\u001b[33m\"\u001b[39m:\n\u001b[32m    121\u001b[39m     args[\u001b[33m\"\u001b[39m\u001b[33mheaders\u001b[39m\u001b[33m\"\u001b[39m].update({\u001b[33m\"\u001b[39m\u001b[33mContent-Type\u001b[39m\u001b[33m\"\u001b[39m: \u001b[33m\"\u001b[39m\u001b[33mapplication/sparql-query\u001b[39m\u001b[33m\"\u001b[39m})\n",
      "\u001b[31mValueError\u001b[39m: You did something wrong formulating either the URI or your SPARQL query"
     ]
    }
   ],
   "source": [
    "from rdflib import Graph\n",
    "dbpedia = Graph(store=\"SPARQLStore\")\n",
    "dbpedia.open(\"https://dbpedia.org/sparql\")\n",
    "\n",
    "dbpedia.query(\"\"\"\n",
    "PREFIX dbo: <http://dbpedia.org/ontology/>\n",
    "PREFIX rdfs: <http://www.w3.org/2000/01/rdf-schema#>\n",
    "\n",
    "SELECT DISTINCT ?subject ?label\n",
    "WHERE {\n",
    "  ?subject\n",
    "    a dbo:Food ;\n",
    "    rdfs:label ?label\n",
    "  FILTER (lang(?label) = 'en')\n",
    "  .\n",
    "}\n",
    "LIMIT 10\n",
    "\"\"\").bindings"
   ]
  },
  {
   "cell_type": "markdown",
   "id": "19819241",
   "metadata": {},
   "source": [
    "Provided by different organizations"
   ]
  },
  {
   "cell_type": "code",
   "execution_count": 5,
   "id": "4f76b3bd",
   "metadata": {},
   "outputs": [
    {
     "data": {
      "text/plain": [
       "[{rdflib.term.Variable('URI'): rdflib.term.URIRef('http://publications.europa.eu/resource/authority/country/GRL'),\n",
       "  rdflib.term.Variable('concept'): rdflib.term.Literal('Greenland', lang='en'),\n",
       "  rdflib.term.Variable('identifier'): rdflib.term.Literal('GRL')},\n",
       " {rdflib.term.Variable('URI'): rdflib.term.URIRef('http://publications.europa.eu/resource/authority/country/GRL'),\n",
       "  rdflib.term.Variable('concept'): rdflib.term.Literal('Greenland', lang='en'),\n",
       "  rdflib.term.Variable('identifier'): rdflib.term.Literal('GRL')},\n",
       " {rdflib.term.Variable('URI'): rdflib.term.URIRef('http://publications.europa.eu/resource/authority/country/BDI'),\n",
       "  rdflib.term.Variable('concept'): rdflib.term.Literal('Burundi', lang='en'),\n",
       "  rdflib.term.Variable('identifier'): rdflib.term.Literal('BDI')},\n",
       " {rdflib.term.Variable('URI'): rdflib.term.URIRef('http://publications.europa.eu/resource/authority/country/BEN'),\n",
       "  rdflib.term.Variable('concept'): rdflib.term.Literal('Benin', lang='en'),\n",
       "  rdflib.term.Variable('identifier'): rdflib.term.Literal('BEN')},\n",
       " {rdflib.term.Variable('URI'): rdflib.term.URIRef('http://publications.europa.eu/resource/authority/country/CAF'),\n",
       "  rdflib.term.Variable('concept'): rdflib.term.Literal('Central African Republic', lang='en'),\n",
       "  rdflib.term.Variable('identifier'): rdflib.term.Literal('CAF')}]"
      ]
     },
     "execution_count": 5,
     "metadata": {},
     "output_type": "execute_result"
    }
   ],
   "source": [
    "eu = Graph(store=\"SPARQLStore\")\n",
    "eu.open(\"https://publications.europa.eu/webapi/rdf/sparql\")\n",
    "\n",
    "eu.query(\"\"\"\n",
    "PREFIX euvoc: <http://publications.europa.eu/resource/authority/>\n",
    "PREFIX skos: <http://www.w3.org/2004/02/skos/core#>\n",
    "PREFIX dc: <http://purl.org/dc/elements/1.1/>\n",
    "PREFIX rdf: <http://www.w3.org/1999/02/22-rdf-syntax-ns#>\n",
    "\n",
    "SELECT ?URI, ?concept, ?identifier\n",
    "WHERE {\n",
    "  ?URI\n",
    "    skos:inScheme euvoc:country ;\n",
    "    skos:prefLabel ?concept ;\n",
    "    dc:identifier ?identifier\n",
    "  .\n",
    "\n",
    "  FILTER(lang(?concept) = 'en')\n",
    "}\n",
    "LIMIT 5\n",
    "\n",
    "\"\"\").bindings"
   ]
  },
  {
   "cell_type": "markdown",
   "id": "12c2e28e",
   "metadata": {},
   "source": [
    "And their relations"
   ]
  },
  {
   "cell_type": "code",
   "execution_count": 6,
   "id": "63578842",
   "metadata": {},
   "outputs": [
    {
     "data": {
      "text/plain": [
       "[(rdflib.term.URIRef('http://publications.europa.eu/resource/authority/country/DEU'),\n",
       "  rdflib.term.URIRef('http://purl.org/dc/terms/replaces'),\n",
       "  rdflib.term.URIRef('http://publications.europa.eu/resource/authority/country/DDR'))]"
      ]
     },
     "execution_count": 6,
     "metadata": {},
     "output_type": "execute_result"
    }
   ],
   "source": [
    "result = eu.query(\"\"\"\n",
    "PREFIX euvoc: <http://publications.europa.eu/resource/authority/>\n",
    "PREFIX skos: <http://www.w3.org/2004/02/skos/core#>\n",
    "PREFIX dct: <http://purl.org/dc/terms/>\n",
    "\n",
    "# Construct a new graph of countries and their identifiers related by dct:replaces\n",
    "# countries must be in the euvoc:country scheme.\n",
    "\n",
    "CONSTRUCT {\n",
    "  ?a dct:replaces ?b\n",
    "}\n",
    "WHERE {\n",
    " ?a skos:inScheme euvoc:country .\n",
    " ?b skos:inScheme euvoc:country .\n",
    " ?a dct:replaces ?b .\n",
    "}\n",
    "\n",
    "LIMIT 5\n",
    "\n",
    "\"\"\")\n",
    "\n",
    "list(result.graph)"
   ]
  },
  {
   "cell_type": "markdown",
   "id": "1537a239",
   "metadata": {},
   "source": [
    "More relations"
   ]
  },
  {
   "cell_type": "code",
   "execution_count": 7,
   "id": "8f7ac7a3",
   "metadata": {},
   "outputs": [
    {
     "name": "stderr",
     "output_type": "stream",
     "text": [
      "/home/rpolli/workspace-py/python-course/sparql-101/notebooks/tools.py:30: FutureWarning: Downcasting object dtype arrays on .fillna, .ffill, .bfill is deprecated and will change in a future version. Call result.infer_objects(copy=False) instead. To opt-in to the future behavior, set `pd.set_option('future.no_silent_downcasting', True)`\n",
      "  df = df.fillna(df.max().max())\n",
      "ERROR:bokeh.core.validation.check:E-1001 (BAD_COLUMN_NAME): Glyph refers to nonexistent column name. This could either be due to a misspelling or typo, or due to an expected column being missing. : fill_color='fill_color' [no close matches] {renderer: GlyphRenderer(id='p1051', ...)}\n"
     ]
    },
    {
     "data": {
      "text/html": [
       "\n",
       "  <div id=\"fc628cfd-3045-43ed-9486-89253fc2cdc2\" data-root-id=\"p1001\" style=\"display: contents;\"></div>\n"
      ]
     },
     "metadata": {},
     "output_type": "display_data"
    },
    {
     "data": {
      "application/javascript": "(function(root) {\n  function embed_document(root) {\n  const docs_json = {\"f980db94-b610-4abd-996e-598502a02c79\":{\"version\":\"3.7.2\",\"title\":\"Bokeh Application\",\"roots\":[{\"type\":\"object\",\"name\":\"Figure\",\"id\":\"p1001\",\"attributes\":{\"x_range\":{\"type\":\"object\",\"name\":\"DataRange1d\",\"id\":\"p1002\"},\"y_range\":{\"type\":\"object\",\"name\":\"DataRange1d\",\"id\":\"p1003\"},\"x_scale\":{\"type\":\"object\",\"name\":\"LinearScale\",\"id\":\"p1011\"},\"y_scale\":{\"type\":\"object\",\"name\":\"LinearScale\",\"id\":\"p1012\"},\"title\":{\"type\":\"object\",\"name\":\"Title\",\"id\":\"p1004\",\"attributes\":{\"text\":\"RDF Graph Visualization with Bokeh\"}},\"renderers\":[{\"type\":\"object\",\"name\":\"GraphRenderer\",\"id\":\"p1046\",\"attributes\":{\"layout_provider\":{\"type\":\"object\",\"name\":\"StaticLayoutProvider\",\"id\":\"p1063\",\"attributes\":{\"graph_layout\":{\"type\":\"map\",\"entries\":[[\"http://data.europa.eu/nuts/code/AT12\",{\"type\":\"ndarray\",\"array\":{\"type\":\"bytes\",\"data\":\"nclF+Tak3r/cttfgUT7cvw==\"},\"shape\":[2],\"dtype\":\"float64\",\"order\":\"little\"}],[\"http://data.europa.eu/nuts/code/AT124\",{\"type\":\"ndarray\",\"array\":{\"type\":\"bytes\",\"data\":\"FbDXNI7/zr9NkQ3Ykqfrvw==\"},\"shape\":[2],\"dtype\":\"float64\",\"order\":\"little\"}],[\"http://data.europa.eu/nuts/code/AT11\",{\"type\":\"ndarray\",\"array\":{\"type\":\"bytes\",\"data\":\"hCCzcp+e4j9N6hgF8T2fvw==\"},\"shape\":[2],\"dtype\":\"float64\",\"order\":\"little\"}],[\"http://data.europa.eu/nuts/code/AT113\",{\"type\":\"ndarray\",\"array\":{\"type\":\"bytes\",\"data\":\"4ejlGFVM7j/NdDEuJYGtPw==\"},\"shape\":[2],\"dtype\":\"float64\",\"order\":\"little\"}],[\"http://data.europa.eu/nuts/code/ATZZ\",{\"type\":\"ndarray\",\"array\":{\"type\":\"bytes\",\"data\":\"i8yPUIH14D8Te9Bu0g7pPw==\"},\"shape\":[2],\"dtype\":\"float64\",\"order\":\"little\"}],[\"http://data.europa.eu/nuts/code/ATZZZ\",{\"type\":\"ndarray\",\"array\":{\"type\":\"bytes\",\"data\":\"7y5YU4IN0T/YnP1sJW/uPw==\"},\"shape\":[2],\"dtype\":\"float64\",\"order\":\"little\"}],[\"http://data.europa.eu/nuts/code/AT\",{\"type\":\"ndarray\",\"array\":{\"type\":\"bytes\",\"data\":\"Gp4EetJZxj8MXXe5QXW7Pw==\"},\"shape\":[2],\"dtype\":\"float64\",\"order\":\"little\"}],[\"http://data.europa.eu/nuts/code/ATZ\",{\"type\":\"ndarray\",\"array\":{\"type\":\"bytes\",\"data\":\"T3CBXm993T/QpqR4kBTZPw==\"},\"shape\":[2],\"dtype\":\"float64\",\"order\":\"little\"}],[\"http://data.europa.eu/nuts/code/AT2\",{\"type\":\"ndarray\",\"array\":{\"type\":\"bytes\",\"data\":\"n3sZn+jzob/iWh/8+w3gPw==\"},\"shape\":[2],\"dtype\":\"float64\",\"order\":\"little\"}],[\"http://data.europa.eu/nuts/code/AT22\",{\"type\":\"ndarray\",\"array\":{\"type\":\"bytes\",\"data\":\"2mvdBQjl3b9PDzsAot3gPw==\"},\"shape\":[2],\"dtype\":\"float64\",\"order\":\"little\"}],[\"http://data.europa.eu/nuts/code/AT21\",{\"type\":\"ndarray\",\"array\":{\"type\":\"bytes\",\"data\":\"zOgATaU91T8OLYGW9DnlPw==\"},\"shape\":[2],\"dtype\":\"float64\",\"order\":\"little\"}],[\"http://data.europa.eu/nuts/code/AT211\",{\"type\":\"ndarray\",\"array\":{\"type\":\"bytes\",\"data\":\"9dhY3HXkqz/ZpyJQ2THuPw==\"},\"shape\":[2],\"dtype\":\"float64\",\"order\":\"little\"}],[\"http://data.europa.eu/nuts/code/AT34\",{\"type\":\"ndarray\",\"array\":{\"type\":\"bytes\",\"data\":\"ppUVbBgszb/YXwWOxjW5vw==\"},\"shape\":[2],\"dtype\":\"float64\",\"order\":\"little\"}],[\"http://data.europa.eu/nuts/code/AT341\",{\"type\":\"ndarray\",\"array\":{\"type\":\"bytes\",\"data\":\"8puHXWl80b+m8MqWbt/QPw==\"},\"shape\":[2],\"dtype\":\"float64\",\"order\":\"little\"}],[\"http://data.europa.eu/nuts/code/AT225\",{\"type\":\"ndarray\",\"array\":{\"type\":\"bytes\",\"data\":\"6pGiQy8dx78nlXCc2RzrPw==\"},\"shape\":[2],\"dtype\":\"float64\",\"order\":\"little\"}],[\"http://data.europa.eu/nuts/code/AT112\",{\"type\":\"ndarray\",\"array\":{\"type\":\"bytes\",\"data\":\"V3qPoXzU6z9lgEcEs7zOPw==\"},\"shape\":[2],\"dtype\":\"float64\",\"order\":\"little\"}],[\"http://data.europa.eu/nuts/code/AT224\",{\"type\":\"ndarray\",\"array\":{\"type\":\"bytes\",\"data\":\"ezaoJXEZ179USJiboK3sPw==\"},\"shape\":[2],\"dtype\":\"float64\",\"order\":\"little\"}],[\"http://data.europa.eu/nuts/code/AT222\",{\"type\":\"ndarray\",\"array\":{\"type\":\"bytes\",\"data\":\"73NzZvN14r/59Spb5KrpPw==\"},\"shape\":[2],\"dtype\":\"float64\",\"order\":\"little\"}],[\"http://data.europa.eu/nuts/code/AT1\",{\"type\":\"ndarray\",\"array\":{\"type\":\"bytes\",\"data\":\"meG0r8sxmD9ZONN/bJnTvw==\"},\"shape\":[2],\"dtype\":\"float64\",\"order\":\"little\"}],[\"http://data.europa.eu/nuts/code/AT125\",{\"type\":\"ndarray\",\"array\":{\"type\":\"bytes\",\"data\":\"6nHNcGau7b9q72y/AEi9vw==\"},\"shape\":[2],\"dtype\":\"float64\",\"order\":\"little\"}],[\"http://data.europa.eu/nuts/code/AT221\",{\"type\":\"ndarray\",\"array\":{\"type\":\"bytes\",\"data\":\"Qm4BQLGn6L9jb73HlGHjPw==\"},\"shape\":[2],\"dtype\":\"float64\",\"order\":\"little\"}],[\"http://data.europa.eu/nuts/code/AT126\",{\"type\":\"ndarray\",\"array\":{\"type\":\"bytes\",\"data\":\"kldXyMq257/r+1fKrtHHvw==\"},\"shape\":[2],\"dtype\":\"float64\",\"order\":\"little\"}],[\"http://data.europa.eu/nuts/code/AT3\",{\"type\":\"ndarray\",\"array\":{\"type\":\"bytes\",\"data\":\"e/GOjYX9zz8DvyH4GXTSvw==\"},\"shape\":[2],\"dtype\":\"float64\",\"order\":\"little\"}],[\"http://data.europa.eu/nuts/code/AT123\",{\"type\":\"ndarray\",\"array\":{\"type\":\"bytes\",\"data\":\"vmHNXzZD7L9Tgv/XcQvYvw==\"},\"shape\":[2],\"dtype\":\"float64\",\"order\":\"little\"}],[\"http://data.europa.eu/nuts/code/AT226\",{\"type\":\"ndarray\",\"array\":{\"type\":\"bytes\",\"data\":\"WdSFFMEd7L8liCPVwmvOPw==\"},\"shape\":[2],\"dtype\":\"float64\",\"order\":\"little\"}],[\"http://data.europa.eu/nuts/code/AT33\",{\"type\":\"ndarray\",\"array\":{\"type\":\"bytes\",\"data\":\"k4gG5dlolr/H5XhIoLnkvw==\"},\"shape\":[2],\"dtype\":\"float64\",\"order\":\"little\"}],[\"http://data.europa.eu/nuts/code/AT127\",{\"type\":\"ndarray\",\"array\":{\"type\":\"bytes\",\"data\":\"mekRkezK6L8S7wMo1JHivw==\"},\"shape\":[2],\"dtype\":\"float64\",\"order\":\"little\"}],[\"http://data.europa.eu/nuts/code/AT122\",{\"type\":\"ndarray\",\"array\":{\"type\":\"bytes\",\"data\":\"/nAEi+Na478ic5hnUgrovw==\"},\"shape\":[2],\"dtype\":\"float64\",\"order\":\"little\"}],[\"http://data.europa.eu/nuts/code/AT13\",{\"type\":\"ndarray\",\"array\":{\"type\":\"bytes\",\"data\":\"OUCUqfdYyz/3fu7h62fnvw==\"},\"shape\":[2],\"dtype\":\"float64\",\"order\":\"little\"}],[\"http://data.europa.eu/nuts/code/AT130\",{\"type\":\"ndarray\",\"array\":{\"type\":\"bytes\",\"data\":\"4YMR5whwnz8AAAAAAADwvw==\"},\"shape\":[2],\"dtype\":\"float64\",\"order\":\"little\"}],[\"http://data.europa.eu/nuts/code/AT32\",{\"type\":\"ndarray\",\"array\":{\"type\":\"bytes\",\"data\":\"+BFBbqW04D98C54xQfjhvw==\"},\"shape\":[2],\"dtype\":\"float64\",\"order\":\"little\"}],[\"http://data.europa.eu/nuts/code/AT321\",{\"type\":\"ndarray\",\"array\":{\"type\":\"bytes\",\"data\":\"W7F/ZSUR2T9J2mye/Q3tvw==\"},\"shape\":[2],\"dtype\":\"float64\",\"order\":\"little\"}],[\"http://data.europa.eu/nuts/code/AT342\",{\"type\":\"ndarray\",\"array\":{\"type\":\"bytes\",\"data\":\"iM+5PU3G4r+6Y2mEb6eyPw==\"},\"shape\":[2],\"dtype\":\"float64\",\"order\":\"little\"}],[\"http://data.europa.eu/nuts/code/AT111\",{\"type\":\"ndarray\",\"array\":{\"type\":\"bytes\",\"data\":\"Xx3dtyYJ7j/4o+z1OJbFvw==\"},\"shape\":[2],\"dtype\":\"float64\",\"order\":\"little\"}],[\"http://data.europa.eu/nuts/code/AT121\",{\"type\":\"ndarray\",\"array\":{\"type\":\"bytes\",\"data\":\"nrRD/IPe2r9YTf9oe8fqvw==\"},\"shape\":[2],\"dtype\":\"float64\",\"order\":\"little\"}],[\"http://data.europa.eu/nuts/code/AT322\",{\"type\":\"ndarray\",\"array\":{\"type\":\"bytes\",\"data\":\"9JIrUVON5T9NO/7rwZLovw==\"},\"shape\":[2],\"dtype\":\"float64\",\"order\":\"little\"}],[\"http://data.europa.eu/nuts/code/AT223\",{\"type\":\"ndarray\",\"array\":{\"type\":\"bytes\",\"data\":\"m4+j64ny6r+41epMjUfaPw==\"},\"shape\":[2],\"dtype\":\"float64\",\"order\":\"little\"}],[\"http://data.europa.eu/nuts/code/AT212\",{\"type\":\"ndarray\",\"array\":{\"type\":\"bytes\",\"data\":\"3R3fdipf6D/bQ8GgV4jePw==\"},\"shape\":[2],\"dtype\":\"float64\",\"order\":\"little\"}],[\"http://data.europa.eu/nuts/code/AT323\",{\"type\":\"ndarray\",\"array\":{\"type\":\"bytes\",\"data\":\"TnH97R3X6z+RYUvo+uzevw==\"},\"shape\":[2],\"dtype\":\"float64\",\"order\":\"little\"}],[\"http://data.europa.eu/nuts/code/AT213\",{\"type\":\"ndarray\",\"array\":{\"type\":\"bytes\",\"data\":\"IWWLU0Pv5j+mSKe3AWzlPw==\"},\"shape\":[2],\"dtype\":\"float64\",\"order\":\"little\"}],[\"http://data.europa.eu/nuts/code/AT31\",{\"type\":\"ndarray\",\"array\":{\"type\":\"bytes\",\"data\":\"ZeOMXBjs5T9Cx702FKnTvw==\"},\"shape\":[2],\"dtype\":\"float64\",\"order\":\"little\"}]]}}},\"node_renderer\":{\"type\":\"object\",\"name\":\"GlyphRenderer\",\"id\":\"p1051\",\"attributes\":{\"data_source\":{\"type\":\"object\",\"name\":\"ColumnDataSource\",\"id\":\"p1048\",\"attributes\":{\"selected\":{\"type\":\"object\",\"name\":\"Selection\",\"id\":\"p1049\",\"attributes\":{\"indices\":[],\"line_indices\":[]}},\"selection_policy\":{\"type\":\"object\",\"name\":\"UnionRenderers\",\"id\":\"p1050\"},\"data\":{\"type\":\"map\",\"entries\":[[\"index\",[\"http://data.europa.eu/nuts/code/AT12\",\"http://data.europa.eu/nuts/code/AT124\",\"http://data.europa.eu/nuts/code/AT11\",\"http://data.europa.eu/nuts/code/AT113\",\"http://data.europa.eu/nuts/code/ATZZ\",\"http://data.europa.eu/nuts/code/ATZZZ\",\"http://data.europa.eu/nuts/code/AT\",\"http://data.europa.eu/nuts/code/ATZ\",\"http://data.europa.eu/nuts/code/AT2\",\"http://data.europa.eu/nuts/code/AT22\",\"http://data.europa.eu/nuts/code/AT21\",\"http://data.europa.eu/nuts/code/AT211\",\"http://data.europa.eu/nuts/code/AT34\",\"http://data.europa.eu/nuts/code/AT341\",\"http://data.europa.eu/nuts/code/AT225\",\"http://data.europa.eu/nuts/code/AT112\",\"http://data.europa.eu/nuts/code/AT224\",\"http://data.europa.eu/nuts/code/AT222\",\"http://data.europa.eu/nuts/code/AT1\",\"http://data.europa.eu/nuts/code/AT125\",\"http://data.europa.eu/nuts/code/AT221\",\"http://data.europa.eu/nuts/code/AT126\",\"http://data.europa.eu/nuts/code/AT3\",\"http://data.europa.eu/nuts/code/AT123\",\"http://data.europa.eu/nuts/code/AT226\",\"http://data.europa.eu/nuts/code/AT33\",\"http://data.europa.eu/nuts/code/AT127\",\"http://data.europa.eu/nuts/code/AT122\",\"http://data.europa.eu/nuts/code/AT13\",\"http://data.europa.eu/nuts/code/AT130\",\"http://data.europa.eu/nuts/code/AT32\",\"http://data.europa.eu/nuts/code/AT321\",\"http://data.europa.eu/nuts/code/AT342\",\"http://data.europa.eu/nuts/code/AT111\",\"http://data.europa.eu/nuts/code/AT121\",\"http://data.europa.eu/nuts/code/AT322\",\"http://data.europa.eu/nuts/code/AT223\",\"http://data.europa.eu/nuts/code/AT212\",\"http://data.europa.eu/nuts/code/AT323\",\"http://data.europa.eu/nuts/code/AT213\",\"http://data.europa.eu/nuts/code/AT31\"]],[\"node_size\",[0.060000000000000005,0.01625,0.035,0.01625,0.0225,0.01625,0.035,0.0225,0.028750000000000005,0.053750000000000006,0.035,0.01625,0.028750000000000005,0.01625,0.01625,0.01625,0.01625,0.01625,0.035,0.01625,0.01625,0.01625,0.04125,0.01625,0.01625,0.01625,0.01625,0.01625,0.0225,0.01625,0.035,0.01625,0.01625,0.01625,0.01625,0.01625,0.01625,0.01625,0.01625,0.01625,0.01625]],[\"node_label\",[\"AT12 Nieder\\u00f6sterreich\",\"AT124\",\"AT11 Burgenland\",\"AT113\",\"ATZZ Extra-Regio NUTS 2\",\"ATZZZ\",\"AT \\u00d6sterreich\",\"ATZ Extra-Regio NUTS 1\",\"AT2 S\\u00fcd\\u00f6sterreich\",\"AT22 Steiermark\",\"AT21 K\\u00e4rnten\",\"AT211\",\"AT34 Vorarlberg\",\"AT341\",\"AT225\",\"AT112\",\"AT224\",\"AT222\",\"AT1 Ost\\u00f6sterreich\",\"AT125\",\"AT221\",\"AT126\",\"AT3 West\\u00f6sterreich\",\"AT123\",\"AT226\",\"AT33\",\"AT127\",\"AT122\",\"AT13 Wien\",\"AT130\",\"AT32 Salzburg\",\"AT321\",\"AT342\",\"AT111\",\"AT121\",\"AT322\",\"AT223\",\"AT212\",\"AT323\",\"AT213\",\"AT31\"]]]}}},\"view\":{\"type\":\"object\",\"name\":\"CDSView\",\"id\":\"p1052\",\"attributes\":{\"filter\":{\"type\":\"object\",\"name\":\"AllIndices\",\"id\":\"p1053\"}}},\"glyph\":{\"type\":\"object\",\"name\":\"Circle\",\"id\":\"p1064\",\"attributes\":{\"radius\":{\"type\":\"field\",\"field\":\"node_size\"},\"fill_color\":{\"type\":\"field\",\"field\":\"fill_color\"}}},\"selection_glyph\":{\"type\":\"object\",\"name\":\"Circle\",\"id\":\"p1065\",\"attributes\":{\"radius\":{\"type\":\"field\",\"field\":\"node_size\"},\"fill_color\":{\"type\":\"value\",\"value\":\"#fdae61\"}}},\"hover_glyph\":{\"type\":\"object\",\"name\":\"Circle\",\"id\":\"p1066\",\"attributes\":{\"radius\":{\"type\":\"field\",\"field\":\"node_size\"},\"fill_color\":{\"type\":\"value\",\"value\":\"#abdda4\"}}}}},\"edge_renderer\":{\"type\":\"object\",\"name\":\"GlyphRenderer\",\"id\":\"p1058\",\"attributes\":{\"data_source\":{\"type\":\"object\",\"name\":\"ColumnDataSource\",\"id\":\"p1055\",\"attributes\":{\"selected\":{\"type\":\"object\",\"name\":\"Selection\",\"id\":\"p1056\",\"attributes\":{\"indices\":[],\"line_indices\":[]}},\"selection_policy\":{\"type\":\"object\",\"name\":\"UnionRenderers\",\"id\":\"p1057\"},\"data\":{\"type\":\"map\",\"entries\":[[\"start\",[\"http://data.europa.eu/nuts/code/AT12\",\"http://data.europa.eu/nuts/code/AT12\",\"http://data.europa.eu/nuts/code/AT12\",\"http://data.europa.eu/nuts/code/AT12\",\"http://data.europa.eu/nuts/code/AT12\",\"http://data.europa.eu/nuts/code/AT12\",\"http://data.europa.eu/nuts/code/AT12\",\"http://data.europa.eu/nuts/code/AT11\",\"http://data.europa.eu/nuts/code/AT11\",\"http://data.europa.eu/nuts/code/AT11\",\"http://data.europa.eu/nuts/code/ATZZ\",\"http://data.europa.eu/nuts/code/AT\",\"http://data.europa.eu/nuts/code/AT\",\"http://data.europa.eu/nuts/code/AT\",\"http://data.europa.eu/nuts/code/AT\",\"http://data.europa.eu/nuts/code/ATZ\",\"http://data.europa.eu/nuts/code/AT2\",\"http://data.europa.eu/nuts/code/AT2\",\"http://data.europa.eu/nuts/code/AT22\",\"http://data.europa.eu/nuts/code/AT22\",\"http://data.europa.eu/nuts/code/AT22\",\"http://data.europa.eu/nuts/code/AT22\",\"http://data.europa.eu/nuts/code/AT22\",\"http://data.europa.eu/nuts/code/AT22\",\"http://data.europa.eu/nuts/code/AT21\",\"http://data.europa.eu/nuts/code/AT21\",\"http://data.europa.eu/nuts/code/AT21\",\"http://data.europa.eu/nuts/code/AT34\",\"http://data.europa.eu/nuts/code/AT34\",\"http://data.europa.eu/nuts/code/AT1\",\"http://data.europa.eu/nuts/code/AT1\",\"http://data.europa.eu/nuts/code/AT1\",\"http://data.europa.eu/nuts/code/AT3\",\"http://data.europa.eu/nuts/code/AT3\",\"http://data.europa.eu/nuts/code/AT3\",\"http://data.europa.eu/nuts/code/AT3\",\"http://data.europa.eu/nuts/code/AT13\",\"http://data.europa.eu/nuts/code/AT32\",\"http://data.europa.eu/nuts/code/AT32\",\"http://data.europa.eu/nuts/code/AT32\"]],[\"end\",[\"http://data.europa.eu/nuts/code/AT124\",\"http://data.europa.eu/nuts/code/AT125\",\"http://data.europa.eu/nuts/code/AT126\",\"http://data.europa.eu/nuts/code/AT123\",\"http://data.europa.eu/nuts/code/AT127\",\"http://data.europa.eu/nuts/code/AT122\",\"http://data.europa.eu/nuts/code/AT121\",\"http://data.europa.eu/nuts/code/AT113\",\"http://data.europa.eu/nuts/code/AT112\",\"http://data.europa.eu/nuts/code/AT111\",\"http://data.europa.eu/nuts/code/ATZZZ\",\"http://data.europa.eu/nuts/code/ATZ\",\"http://data.europa.eu/nuts/code/AT2\",\"http://data.europa.eu/nuts/code/AT3\",\"http://data.europa.eu/nuts/code/AT1\",\"http://data.europa.eu/nuts/code/ATZZ\",\"http://data.europa.eu/nuts/code/AT22\",\"http://data.europa.eu/nuts/code/AT21\",\"http://data.europa.eu/nuts/code/AT225\",\"http://data.europa.eu/nuts/code/AT224\",\"http://data.europa.eu/nuts/code/AT222\",\"http://data.europa.eu/nuts/code/AT221\",\"http://data.europa.eu/nuts/code/AT226\",\"http://data.europa.eu/nuts/code/AT223\",\"http://data.europa.eu/nuts/code/AT211\",\"http://data.europa.eu/nuts/code/AT212\",\"http://data.europa.eu/nuts/code/AT213\",\"http://data.europa.eu/nuts/code/AT341\",\"http://data.europa.eu/nuts/code/AT342\",\"http://data.europa.eu/nuts/code/AT11\",\"http://data.europa.eu/nuts/code/AT12\",\"http://data.europa.eu/nuts/code/AT13\",\"http://data.europa.eu/nuts/code/AT34\",\"http://data.europa.eu/nuts/code/AT33\",\"http://data.europa.eu/nuts/code/AT32\",\"http://data.europa.eu/nuts/code/AT31\",\"http://data.europa.eu/nuts/code/AT130\",\"http://data.europa.eu/nuts/code/AT321\",\"http://data.europa.eu/nuts/code/AT322\",\"http://data.europa.eu/nuts/code/AT323\"]]]}}},\"view\":{\"type\":\"object\",\"name\":\"CDSView\",\"id\":\"p1059\",\"attributes\":{\"filter\":{\"type\":\"object\",\"name\":\"AllIndices\",\"id\":\"p1060\"}}},\"glyph\":{\"type\":\"object\",\"name\":\"MultiLine\",\"id\":\"p1067\",\"attributes\":{\"line_color\":{\"type\":\"value\",\"value\":\"gray\"},\"line_alpha\":{\"type\":\"value\",\"value\":0.8}}},\"selection_glyph\":{\"type\":\"object\",\"name\":\"MultiLine\",\"id\":\"p1068\",\"attributes\":{\"line_color\":{\"type\":\"value\",\"value\":\"red\"},\"line_width\":{\"type\":\"value\",\"value\":5}}},\"hover_glyph\":{\"type\":\"object\",\"name\":\"MultiLine\",\"id\":\"p1069\",\"attributes\":{\"line_color\":{\"type\":\"value\",\"value\":\"red\"},\"line_width\":{\"type\":\"value\",\"value\":5}}}}},\"selection_policy\":{\"type\":\"object\",\"name\":\"NodesAndLinkedEdges\",\"id\":\"p1070\"},\"inspection_policy\":{\"type\":\"object\",\"name\":\"NodesAndLinkedEdges\",\"id\":\"p1071\"}}},{\"type\":\"object\",\"name\":\"LabelSet\",\"id\":\"p1075\",\"attributes\":{\"source\":{\"type\":\"object\",\"name\":\"ColumnDataSource\",\"id\":\"p1072\",\"attributes\":{\"selected\":{\"type\":\"object\",\"name\":\"Selection\",\"id\":\"p1073\",\"attributes\":{\"indices\":[],\"line_indices\":[]}},\"selection_policy\":{\"type\":\"object\",\"name\":\"UnionRenderers\",\"id\":\"p1074\"},\"data\":{\"type\":\"map\",\"entries\":[[\"x\",[-0.4787728723814782,-0.242173934747712,0.5818631401280219,0.946817921284744,0.5299688886137955,0.266449529067116,0.17461615522300705,0.46078094700874755,-0.035064000531512145,-0.46710396359202166,0.33188755531194825,0.05447738947661832,-0.22790818479113034,-0.27321848043214836,-0.1805781440972532,0.8696883349874253,-0.3609278552765784,-0.5768982888217787,0.02362745532920627,-0.9275390818762024,-0.7704702615842012,-0.7410634911454841,0.24992436801938908,-0.8832046385896815,-0.8786321068606738,-0.02188435039864396,-0.7747710069082131,-0.6048448290999031,0.21365257053594336,0.030700816252991706,0.5220515397455179,0.3916715136718005,-0.5867067533094863,0.9386170950973954,-0.4198312724609624,0.6735016427379308,-0.8421067812273465,0.7616169282636595,0.8700093887560258,0.7167069083908794,0.6850702102302476]],[\"y\",[-0.44130370099342797,-0.864205762842667,-0.030509725509754216,0.0576259249580545,0.7830593265860862,0.9510676506733047,0.10725794580445241,0.39188014775809865,0.5017070698039243,0.5270547871118455,0.663324636415753,0.9435850682395951,-0.0984768006068174,0.2636372063241289,0.8472717338051198,0.24013364514303528,0.8961947478258119,0.8021108418103601,-0.3062392471591742,-0.11437992738222894,0.6056617642566205,-0.18608651046812894,-0.2883362696802438,-0.37569852918207863,0.23766360671203404,-0.6476594367479088,-0.5803013593244677,-0.7512599967336409,-0.7314357197501228,-1.0,-0.5615545243348232,-0.9079578489534664,0.07286736471850377,-0.1686469269564268,-0.8368508387306219,-0.7679147347679219,0.41061718474824316,0.47707167338108797,-0.4832141178608476,0.6694344126683702,-0.3071947607596607]],[\"node_label\",[\"AT12 Nieder\\u00f6sterreich\",\"AT124\",\"AT11 Burgenland\",\"AT113\",\"ATZZ Extra-Regio NUTS 2\",\"ATZZZ\",\"AT \\u00d6sterreich\",\"ATZ Extra-Regio NUTS 1\",\"AT2 S\\u00fcd\\u00f6sterreich\",\"AT22 Steiermark\",\"AT21 K\\u00e4rnten\",\"AT211\",\"AT34 Vorarlberg\",\"AT341\",\"AT225\",\"AT112\",\"AT224\",\"AT222\",\"AT1 Ost\\u00f6sterreich\",\"AT125\",\"AT221\",\"AT126\",\"AT3 West\\u00f6sterreich\",\"AT123\",\"AT226\",\"AT33\",\"AT127\",\"AT122\",\"AT13 Wien\",\"AT130\",\"AT32 Salzburg\",\"AT321\",\"AT342\",\"AT111\",\"AT121\",\"AT322\",\"AT223\",\"AT212\",\"AT323\",\"AT213\",\"AT31\"]]]}}},\"x\":{\"type\":\"field\",\"field\":\"x\"},\"y\":{\"type\":\"field\",\"field\":\"y\"},\"text\":{\"type\":\"field\",\"field\":\"node_label\"},\"text_align\":{\"type\":\"value\",\"value\":\"center\"}}}],\"toolbar\":{\"type\":\"object\",\"name\":\"Toolbar\",\"id\":\"p1010\",\"attributes\":{\"tools\":[{\"type\":\"object\",\"name\":\"PanTool\",\"id\":\"p1023\"},{\"type\":\"object\",\"name\":\"WheelZoomTool\",\"id\":\"p1024\",\"attributes\":{\"renderers\":\"auto\"}},{\"type\":\"object\",\"name\":\"BoxZoomTool\",\"id\":\"p1025\",\"attributes\":{\"dimensions\":\"both\",\"overlay\":{\"type\":\"object\",\"name\":\"BoxAnnotation\",\"id\":\"p1026\",\"attributes\":{\"syncable\":false,\"line_color\":\"black\",\"line_alpha\":1.0,\"line_width\":2,\"line_dash\":[4,4],\"fill_color\":\"lightgrey\",\"fill_alpha\":0.5,\"level\":\"overlay\",\"visible\":false,\"left\":{\"type\":\"number\",\"value\":\"nan\"},\"right\":{\"type\":\"number\",\"value\":\"nan\"},\"top\":{\"type\":\"number\",\"value\":\"nan\"},\"bottom\":{\"type\":\"number\",\"value\":\"nan\"},\"left_units\":\"canvas\",\"right_units\":\"canvas\",\"top_units\":\"canvas\",\"bottom_units\":\"canvas\",\"handles\":{\"type\":\"object\",\"name\":\"BoxInteractionHandles\",\"id\":\"p1032\",\"attributes\":{\"all\":{\"type\":\"object\",\"name\":\"AreaVisuals\",\"id\":\"p1031\",\"attributes\":{\"fill_color\":\"white\",\"hover_fill_color\":\"lightgray\"}}}}}}}},{\"type\":\"object\",\"name\":\"SaveTool\",\"id\":\"p1033\"},{\"type\":\"object\",\"name\":\"ResetTool\",\"id\":\"p1034\"},{\"type\":\"object\",\"name\":\"HelpTool\",\"id\":\"p1035\"},{\"type\":\"object\",\"name\":\"HoverTool\",\"id\":\"p1036\",\"attributes\":{\"renderers\":\"auto\",\"tooltips\":null}},{\"type\":\"object\",\"name\":\"TapTool\",\"id\":\"p1037\",\"attributes\":{\"renderers\":\"auto\"}},{\"type\":\"object\",\"name\":\"BoxSelectTool\",\"id\":\"p1038\",\"attributes\":{\"renderers\":\"auto\",\"overlay\":{\"type\":\"object\",\"name\":\"BoxAnnotation\",\"id\":\"p1039\",\"attributes\":{\"syncable\":false,\"line_color\":\"black\",\"line_alpha\":1.0,\"line_width\":2,\"line_dash\":[4,4],\"fill_color\":\"lightgrey\",\"fill_alpha\":0.5,\"level\":\"overlay\",\"visible\":false,\"left\":{\"type\":\"number\",\"value\":\"nan\"},\"right\":{\"type\":\"number\",\"value\":\"nan\"},\"top\":{\"type\":\"number\",\"value\":\"nan\"},\"bottom\":{\"type\":\"number\",\"value\":\"nan\"},\"editable\":true,\"handles\":{\"type\":\"object\",\"name\":\"BoxInteractionHandles\",\"id\":\"p1045\",\"attributes\":{\"all\":{\"type\":\"object\",\"name\":\"AreaVisuals\",\"id\":\"p1044\",\"attributes\":{\"fill_color\":\"white\",\"hover_fill_color\":\"lightgray\"}}}}}}}}]}},\"left\":[{\"type\":\"object\",\"name\":\"LinearAxis\",\"id\":\"p1018\",\"attributes\":{\"ticker\":{\"type\":\"object\",\"name\":\"BasicTicker\",\"id\":\"p1019\",\"attributes\":{\"mantissas\":[1,2,5]}},\"formatter\":{\"type\":\"object\",\"name\":\"BasicTickFormatter\",\"id\":\"p1020\"},\"major_label_policy\":{\"type\":\"object\",\"name\":\"AllLabels\",\"id\":\"p1021\"}}}],\"below\":[{\"type\":\"object\",\"name\":\"LinearAxis\",\"id\":\"p1013\",\"attributes\":{\"ticker\":{\"type\":\"object\",\"name\":\"BasicTicker\",\"id\":\"p1014\",\"attributes\":{\"mantissas\":[1,2,5]}},\"formatter\":{\"type\":\"object\",\"name\":\"BasicTickFormatter\",\"id\":\"p1015\"},\"major_label_policy\":{\"type\":\"object\",\"name\":\"AllLabels\",\"id\":\"p1016\"}}}],\"center\":[{\"type\":\"object\",\"name\":\"Grid\",\"id\":\"p1017\",\"attributes\":{\"axis\":{\"id\":\"p1013\"}}},{\"type\":\"object\",\"name\":\"Grid\",\"id\":\"p1022\",\"attributes\":{\"dimension\":1,\"axis\":{\"id\":\"p1018\"}}}]}}]}};\n  const render_items = [{\"docid\":\"f980db94-b610-4abd-996e-598502a02c79\",\"roots\":{\"p1001\":\"fc628cfd-3045-43ed-9486-89253fc2cdc2\"},\"root_ids\":[\"p1001\"]}];\n  void root.Bokeh.embed.embed_items_notebook(docs_json, render_items);\n  }\n  if (root.Bokeh !== undefined) {\n    embed_document(root);\n  } else {\n    let attempts = 0;\n    const timer = setInterval(function(root) {\n      if (root.Bokeh !== undefined) {\n        clearInterval(timer);\n        embed_document(root);\n      } else {\n        attempts++;\n        if (attempts > 100) {\n          clearInterval(timer);\n          console.log(\"Bokeh: ERROR: Unable to run BokehJS code because BokehJS library is missing\");\n        }\n      }\n    }, 10, root)\n  }\n})(window);",
      "application/vnd.bokehjs_exec.v0+json": ""
     },
     "metadata": {
      "application/vnd.bokehjs_exec.v0+json": {
       "id": "p1001"
      }
     },
     "output_type": "display_data"
    },
    {
     "data": {
      "text/html": [
       "<div style=\"display: table;\"><div style=\"display: table-row;\"><div style=\"display: table-cell;\"><b title=\"bokeh.plotting._figure.figure\">figure</b>(</div><div style=\"display: table-cell;\">id&nbsp;=&nbsp;'p1001', <span id=\"p1121\" style=\"cursor: pointer;\">&hellip;)</span></div></div><div class=\"p1120\" style=\"display: none;\"><div style=\"display: table-cell;\"></div><div style=\"display: table-cell;\">above&nbsp;=&nbsp;[],</div></div><div class=\"p1120\" style=\"display: none;\"><div style=\"display: table-cell;\"></div><div style=\"display: table-cell;\">align&nbsp;=&nbsp;'auto',</div></div><div class=\"p1120\" style=\"display: none;\"><div style=\"display: table-cell;\"></div><div style=\"display: table-cell;\">aspect_ratio&nbsp;=&nbsp;None,</div></div><div class=\"p1120\" style=\"display: none;\"><div style=\"display: table-cell;\"></div><div style=\"display: table-cell;\">aspect_scale&nbsp;=&nbsp;1,</div></div><div class=\"p1120\" style=\"display: none;\"><div style=\"display: table-cell;\"></div><div style=\"display: table-cell;\">attribution&nbsp;=&nbsp;[],</div></div><div class=\"p1120\" style=\"display: none;\"><div style=\"display: table-cell;\"></div><div style=\"display: table-cell;\">background_fill_alpha&nbsp;=&nbsp;1.0,</div></div><div class=\"p1120\" style=\"display: none;\"><div style=\"display: table-cell;\"></div><div style=\"display: table-cell;\">background_fill_color&nbsp;=&nbsp;'#ffffff',</div></div><div class=\"p1120\" style=\"display: none;\"><div style=\"display: table-cell;\"></div><div style=\"display: table-cell;\">background_hatch_alpha&nbsp;=&nbsp;1.0,</div></div><div class=\"p1120\" style=\"display: none;\"><div style=\"display: table-cell;\"></div><div style=\"display: table-cell;\">background_hatch_color&nbsp;=&nbsp;'black',</div></div><div class=\"p1120\" style=\"display: none;\"><div style=\"display: table-cell;\"></div><div style=\"display: table-cell;\">background_hatch_extra&nbsp;=&nbsp;{},</div></div><div class=\"p1120\" style=\"display: none;\"><div style=\"display: table-cell;\"></div><div style=\"display: table-cell;\">background_hatch_pattern&nbsp;=&nbsp;None,</div></div><div class=\"p1120\" style=\"display: none;\"><div style=\"display: table-cell;\"></div><div style=\"display: table-cell;\">background_hatch_scale&nbsp;=&nbsp;12.0,</div></div><div class=\"p1120\" style=\"display: none;\"><div style=\"display: table-cell;\"></div><div style=\"display: table-cell;\">background_hatch_weight&nbsp;=&nbsp;1.0,</div></div><div class=\"p1120\" style=\"display: none;\"><div style=\"display: table-cell;\"></div><div style=\"display: table-cell;\">below&nbsp;=&nbsp;[LinearAxis(id='p1013', ...)],</div></div><div class=\"p1120\" style=\"display: none;\"><div style=\"display: table-cell;\"></div><div style=\"display: table-cell;\">border_fill_alpha&nbsp;=&nbsp;1.0,</div></div><div class=\"p1120\" style=\"display: none;\"><div style=\"display: table-cell;\"></div><div style=\"display: table-cell;\">border_fill_color&nbsp;=&nbsp;'#ffffff',</div></div><div class=\"p1120\" style=\"display: none;\"><div style=\"display: table-cell;\"></div><div style=\"display: table-cell;\">border_hatch_alpha&nbsp;=&nbsp;1.0,</div></div><div class=\"p1120\" style=\"display: none;\"><div style=\"display: table-cell;\"></div><div style=\"display: table-cell;\">border_hatch_color&nbsp;=&nbsp;'black',</div></div><div class=\"p1120\" style=\"display: none;\"><div style=\"display: table-cell;\"></div><div style=\"display: table-cell;\">border_hatch_extra&nbsp;=&nbsp;{},</div></div><div class=\"p1120\" style=\"display: none;\"><div style=\"display: table-cell;\"></div><div style=\"display: table-cell;\">border_hatch_pattern&nbsp;=&nbsp;None,</div></div><div class=\"p1120\" style=\"display: none;\"><div style=\"display: table-cell;\"></div><div style=\"display: table-cell;\">border_hatch_scale&nbsp;=&nbsp;12.0,</div></div><div class=\"p1120\" style=\"display: none;\"><div style=\"display: table-cell;\"></div><div style=\"display: table-cell;\">border_hatch_weight&nbsp;=&nbsp;1.0,</div></div><div class=\"p1120\" style=\"display: none;\"><div style=\"display: table-cell;\"></div><div style=\"display: table-cell;\">center&nbsp;=&nbsp;[Grid(id='p1017', ...), Grid(id='p1022', ...)],</div></div><div class=\"p1120\" style=\"display: none;\"><div style=\"display: table-cell;\"></div><div style=\"display: table-cell;\">context_menu&nbsp;=&nbsp;'auto',</div></div><div class=\"p1120\" style=\"display: none;\"><div style=\"display: table-cell;\"></div><div style=\"display: table-cell;\">css_classes&nbsp;=&nbsp;[],</div></div><div class=\"p1120\" style=\"display: none;\"><div style=\"display: table-cell;\"></div><div style=\"display: table-cell;\">css_variables&nbsp;=&nbsp;{},</div></div><div class=\"p1120\" style=\"display: none;\"><div style=\"display: table-cell;\"></div><div style=\"display: table-cell;\">disabled&nbsp;=&nbsp;False,</div></div><div class=\"p1120\" style=\"display: none;\"><div style=\"display: table-cell;\"></div><div style=\"display: table-cell;\">elements&nbsp;=&nbsp;[],</div></div><div class=\"p1120\" style=\"display: none;\"><div style=\"display: table-cell;\"></div><div style=\"display: table-cell;\">extra_x_ranges&nbsp;=&nbsp;{},</div></div><div class=\"p1120\" style=\"display: none;\"><div style=\"display: table-cell;\"></div><div style=\"display: table-cell;\">extra_x_scales&nbsp;=&nbsp;{},</div></div><div class=\"p1120\" style=\"display: none;\"><div style=\"display: table-cell;\"></div><div style=\"display: table-cell;\">extra_y_ranges&nbsp;=&nbsp;{},</div></div><div class=\"p1120\" style=\"display: none;\"><div style=\"display: table-cell;\"></div><div style=\"display: table-cell;\">extra_y_scales&nbsp;=&nbsp;{},</div></div><div class=\"p1120\" style=\"display: none;\"><div style=\"display: table-cell;\"></div><div style=\"display: table-cell;\">flow_mode&nbsp;=&nbsp;'block',</div></div><div class=\"p1120\" style=\"display: none;\"><div style=\"display: table-cell;\"></div><div style=\"display: table-cell;\">frame_align&nbsp;=&nbsp;True,</div></div><div class=\"p1120\" style=\"display: none;\"><div style=\"display: table-cell;\"></div><div style=\"display: table-cell;\">frame_height&nbsp;=&nbsp;None,</div></div><div class=\"p1120\" style=\"display: none;\"><div style=\"display: table-cell;\"></div><div style=\"display: table-cell;\">frame_width&nbsp;=&nbsp;None,</div></div><div class=\"p1120\" style=\"display: none;\"><div style=\"display: table-cell;\"></div><div style=\"display: table-cell;\">height&nbsp;=&nbsp;600,</div></div><div class=\"p1120\" style=\"display: none;\"><div style=\"display: table-cell;\"></div><div style=\"display: table-cell;\">height_policy&nbsp;=&nbsp;'auto',</div></div><div class=\"p1120\" style=\"display: none;\"><div style=\"display: table-cell;\"></div><div style=\"display: table-cell;\">hidpi&nbsp;=&nbsp;True,</div></div><div class=\"p1120\" style=\"display: none;\"><div style=\"display: table-cell;\"></div><div style=\"display: table-cell;\">hold_render&nbsp;=&nbsp;False,</div></div><div class=\"p1120\" style=\"display: none;\"><div style=\"display: table-cell;\"></div><div style=\"display: table-cell;\">html_attributes&nbsp;=&nbsp;{},</div></div><div class=\"p1120\" style=\"display: none;\"><div style=\"display: table-cell;\"></div><div style=\"display: table-cell;\">html_id&nbsp;=&nbsp;None,</div></div><div class=\"p1120\" style=\"display: none;\"><div style=\"display: table-cell;\"></div><div style=\"display: table-cell;\">js_event_callbacks&nbsp;=&nbsp;{},</div></div><div class=\"p1120\" style=\"display: none;\"><div style=\"display: table-cell;\"></div><div style=\"display: table-cell;\">js_property_callbacks&nbsp;=&nbsp;{},</div></div><div class=\"p1120\" style=\"display: none;\"><div style=\"display: table-cell;\"></div><div style=\"display: table-cell;\">left&nbsp;=&nbsp;[LinearAxis(id='p1018', ...)],</div></div><div class=\"p1120\" style=\"display: none;\"><div style=\"display: table-cell;\"></div><div style=\"display: table-cell;\">lod_factor&nbsp;=&nbsp;10,</div></div><div class=\"p1120\" style=\"display: none;\"><div style=\"display: table-cell;\"></div><div style=\"display: table-cell;\">lod_interval&nbsp;=&nbsp;300,</div></div><div class=\"p1120\" style=\"display: none;\"><div style=\"display: table-cell;\"></div><div style=\"display: table-cell;\">lod_threshold&nbsp;=&nbsp;2000,</div></div><div class=\"p1120\" style=\"display: none;\"><div style=\"display: table-cell;\"></div><div style=\"display: table-cell;\">lod_timeout&nbsp;=&nbsp;500,</div></div><div class=\"p1120\" style=\"display: none;\"><div style=\"display: table-cell;\"></div><div style=\"display: table-cell;\">margin&nbsp;=&nbsp;None,</div></div><div class=\"p1120\" style=\"display: none;\"><div style=\"display: table-cell;\"></div><div style=\"display: table-cell;\">match_aspect&nbsp;=&nbsp;False,</div></div><div class=\"p1120\" style=\"display: none;\"><div style=\"display: table-cell;\"></div><div style=\"display: table-cell;\">max_height&nbsp;=&nbsp;None,</div></div><div class=\"p1120\" style=\"display: none;\"><div style=\"display: table-cell;\"></div><div style=\"display: table-cell;\">max_width&nbsp;=&nbsp;None,</div></div><div class=\"p1120\" style=\"display: none;\"><div style=\"display: table-cell;\"></div><div style=\"display: table-cell;\">min_border&nbsp;=&nbsp;5,</div></div><div class=\"p1120\" style=\"display: none;\"><div style=\"display: table-cell;\"></div><div style=\"display: table-cell;\">min_border_bottom&nbsp;=&nbsp;None,</div></div><div class=\"p1120\" style=\"display: none;\"><div style=\"display: table-cell;\"></div><div style=\"display: table-cell;\">min_border_left&nbsp;=&nbsp;None,</div></div><div class=\"p1120\" style=\"display: none;\"><div style=\"display: table-cell;\"></div><div style=\"display: table-cell;\">min_border_right&nbsp;=&nbsp;None,</div></div><div class=\"p1120\" style=\"display: none;\"><div style=\"display: table-cell;\"></div><div style=\"display: table-cell;\">min_border_top&nbsp;=&nbsp;None,</div></div><div class=\"p1120\" style=\"display: none;\"><div style=\"display: table-cell;\"></div><div style=\"display: table-cell;\">min_height&nbsp;=&nbsp;None,</div></div><div class=\"p1120\" style=\"display: none;\"><div style=\"display: table-cell;\"></div><div style=\"display: table-cell;\">min_width&nbsp;=&nbsp;None,</div></div><div class=\"p1120\" style=\"display: none;\"><div style=\"display: table-cell;\"></div><div style=\"display: table-cell;\">name&nbsp;=&nbsp;None,</div></div><div class=\"p1120\" style=\"display: none;\"><div style=\"display: table-cell;\"></div><div style=\"display: table-cell;\">outline_line_alpha&nbsp;=&nbsp;1.0,</div></div><div class=\"p1120\" style=\"display: none;\"><div style=\"display: table-cell;\"></div><div style=\"display: table-cell;\">outline_line_cap&nbsp;=&nbsp;'butt',</div></div><div class=\"p1120\" style=\"display: none;\"><div style=\"display: table-cell;\"></div><div style=\"display: table-cell;\">outline_line_color&nbsp;=&nbsp;'#e5e5e5',</div></div><div class=\"p1120\" style=\"display: none;\"><div style=\"display: table-cell;\"></div><div style=\"display: table-cell;\">outline_line_dash&nbsp;=&nbsp;[],</div></div><div class=\"p1120\" style=\"display: none;\"><div style=\"display: table-cell;\"></div><div style=\"display: table-cell;\">outline_line_dash_offset&nbsp;=&nbsp;0,</div></div><div class=\"p1120\" style=\"display: none;\"><div style=\"display: table-cell;\"></div><div style=\"display: table-cell;\">outline_line_join&nbsp;=&nbsp;'bevel',</div></div><div class=\"p1120\" style=\"display: none;\"><div style=\"display: table-cell;\"></div><div style=\"display: table-cell;\">outline_line_width&nbsp;=&nbsp;1,</div></div><div class=\"p1120\" style=\"display: none;\"><div style=\"display: table-cell;\"></div><div style=\"display: table-cell;\">output_backend&nbsp;=&nbsp;'canvas',</div></div><div class=\"p1120\" style=\"display: none;\"><div style=\"display: table-cell;\"></div><div style=\"display: table-cell;\">renderers&nbsp;=&nbsp;[GraphRenderer(id='p1046', ...), LabelSet(id='p1075', ...)],</div></div><div class=\"p1120\" style=\"display: none;\"><div style=\"display: table-cell;\"></div><div style=\"display: table-cell;\">reset_policy&nbsp;=&nbsp;'standard',</div></div><div class=\"p1120\" style=\"display: none;\"><div style=\"display: table-cell;\"></div><div style=\"display: table-cell;\">resizable&nbsp;=&nbsp;False,</div></div><div class=\"p1120\" style=\"display: none;\"><div style=\"display: table-cell;\"></div><div style=\"display: table-cell;\">right&nbsp;=&nbsp;[],</div></div><div class=\"p1120\" style=\"display: none;\"><div style=\"display: table-cell;\"></div><div style=\"display: table-cell;\">sizing_mode&nbsp;=&nbsp;None,</div></div><div class=\"p1120\" style=\"display: none;\"><div style=\"display: table-cell;\"></div><div style=\"display: table-cell;\">styles&nbsp;=&nbsp;{},</div></div><div class=\"p1120\" style=\"display: none;\"><div style=\"display: table-cell;\"></div><div style=\"display: table-cell;\">stylesheets&nbsp;=&nbsp;[],</div></div><div class=\"p1120\" style=\"display: none;\"><div style=\"display: table-cell;\"></div><div style=\"display: table-cell;\">subscribed_events&nbsp;=&nbsp;PropertyValueSet(),</div></div><div class=\"p1120\" style=\"display: none;\"><div style=\"display: table-cell;\"></div><div style=\"display: table-cell;\">syncable&nbsp;=&nbsp;True,</div></div><div class=\"p1120\" style=\"display: none;\"><div style=\"display: table-cell;\"></div><div style=\"display: table-cell;\">tags&nbsp;=&nbsp;[],</div></div><div class=\"p1120\" style=\"display: none;\"><div style=\"display: table-cell;\"></div><div style=\"display: table-cell;\">title&nbsp;=&nbsp;Title(id='p1004', ...),</div></div><div class=\"p1120\" style=\"display: none;\"><div style=\"display: table-cell;\"></div><div style=\"display: table-cell;\">title_location&nbsp;=&nbsp;'above',</div></div><div class=\"p1120\" style=\"display: none;\"><div style=\"display: table-cell;\"></div><div style=\"display: table-cell;\">toolbar&nbsp;=&nbsp;Toolbar(id='p1010', ...),</div></div><div class=\"p1120\" style=\"display: none;\"><div style=\"display: table-cell;\"></div><div style=\"display: table-cell;\">toolbar_inner&nbsp;=&nbsp;False,</div></div><div class=\"p1120\" style=\"display: none;\"><div style=\"display: table-cell;\"></div><div style=\"display: table-cell;\">toolbar_location&nbsp;=&nbsp;'right',</div></div><div class=\"p1120\" style=\"display: none;\"><div style=\"display: table-cell;\"></div><div style=\"display: table-cell;\">toolbar_sticky&nbsp;=&nbsp;True,</div></div><div class=\"p1120\" style=\"display: none;\"><div style=\"display: table-cell;\"></div><div style=\"display: table-cell;\">visible&nbsp;=&nbsp;True,</div></div><div class=\"p1120\" style=\"display: none;\"><div style=\"display: table-cell;\"></div><div style=\"display: table-cell;\">width&nbsp;=&nbsp;600,</div></div><div class=\"p1120\" style=\"display: none;\"><div style=\"display: table-cell;\"></div><div style=\"display: table-cell;\">width_policy&nbsp;=&nbsp;'auto',</div></div><div class=\"p1120\" style=\"display: none;\"><div style=\"display: table-cell;\"></div><div style=\"display: table-cell;\">window_axis&nbsp;=&nbsp;'none',</div></div><div class=\"p1120\" style=\"display: none;\"><div style=\"display: table-cell;\"></div><div style=\"display: table-cell;\">x_range&nbsp;=&nbsp;DataRange1d(id='p1002', ...),</div></div><div class=\"p1120\" style=\"display: none;\"><div style=\"display: table-cell;\"></div><div style=\"display: table-cell;\">x_scale&nbsp;=&nbsp;LinearScale(id='p1011', ...),</div></div><div class=\"p1120\" style=\"display: none;\"><div style=\"display: table-cell;\"></div><div style=\"display: table-cell;\">y_range&nbsp;=&nbsp;DataRange1d(id='p1003', ...),</div></div><div class=\"p1120\" style=\"display: none;\"><div style=\"display: table-cell;\"></div><div style=\"display: table-cell;\">y_scale&nbsp;=&nbsp;LinearScale(id='p1012', ...))</div></div></div>\n",
       "<script>\n",
       "(function() {\n",
       "  let expanded = false;\n",
       "  const ellipsis = document.getElementById(\"p1121\");\n",
       "  ellipsis.addEventListener(\"click\", function() {\n",
       "    const rows = document.getElementsByClassName(\"p1120\");\n",
       "    for (let i = 0; i < rows.length; i++) {\n",
       "      const el = rows[i];\n",
       "      el.style.display = expanded ? \"none\" : \"table-row\";\n",
       "    }\n",
       "    ellipsis.innerHTML = expanded ? \"&hellip;)\" : \"&lsaquo;&lsaquo;&lsaquo;\";\n",
       "    expanded = !expanded;\n",
       "  });\n",
       "})();\n",
       "</script>\n"
      ],
      "text/plain": [
       "figure(id='p1001', ...)"
      ]
     },
     "execution_count": 7,
     "metadata": {},
     "output_type": "execute_result"
    }
   ],
   "source": [
    "from tools import plot_graph\n",
    "from rdflib.namespace import SKOS\n",
    "ret = eu.query(\"\"\"\n",
    "PREFIX skos: <http://www.w3.org/2004/02/skos/core#>\n",
    "PREFIX nuts: <http://data.europa.eu/nuts/code/>\n",
    "\n",
    "CONSTRUCT   {\n",
    "  ?s skos:narrower ?q ;\n",
    "     skos:prefLabel ?label .\n",
    "}\n",
    "WHERE {\n",
    "  # Austrian administrative units.\n",
    "  nuts:AT skos:narrower+ ?q .\n",
    "\n",
    "  ?s skos:inScheme <http://data.europa.eu/nuts/scheme/2024> ;\n",
    "     skos:narrower ?q ;\n",
    "     skos:prefLabel ?label\n",
    "  .\n",
    "}\n",
    "LIMIT 40\n",
    "\"\"\")\n",
    "\n",
    "plot_graph(ret.graph, label_property=SKOS.prefLabel,)"
   ]
  },
  {
   "cell_type": "markdown",
   "id": "52af10ee",
   "metadata": {
    "slideshow": {
     "slide_type": "slide"
    }
   },
   "source": [
    "---\n",
    "\n",
    "## Transform kube infra in graph"
   ]
  },
  {
   "cell_type": "code",
   "execution_count": null,
   "id": "86790d99",
   "metadata": {},
   "outputs": [],
   "source": [
    "% pip install d3fendtools"
   ]
  },
  {
   "cell_type": "markdown",
   "id": "f0c97c73",
   "metadata": {
    "slideshow": {
     "slide_type": "slide"
    }
   },
   "source": [
    "---\n",
    "\n",
    "List Basic attacks on your kube infrastructure"
   ]
  },
  {
   "cell_type": "code",
   "execution_count": null,
   "id": "21e4426b",
   "metadata": {},
   "outputs": [],
   "source": [
    "from rdflib import Graph\n",
    "from tools import plot_graph\n",
    "\n",
    "kube = Graph()\n",
    "kube.parse('guestbook.ttl', format=\"text/turtle\")\n",
    "\n",
    "# Simplify the graph ;)\n",
    "for s, p, q in kube:\n",
    "    if 'urn:k8s:default' in str(s):\n",
    "        continue\n",
    "    if str(s).startswith((\"urn:k8s:\", \"rdfs:\", \"rdf:\")):\n",
    "        kube.remove((s, p, q))\n",
    "    if str(q).startswith((\"urn:k8s:\", \"rdfs:\", \"rds:\")):\n",
    "        kube.remove((s, p, q))\n",
    "\n",
    "plot_graph(kube)"
   ]
  },
  {
   "cell_type": "markdown",
   "id": "501bc2ed",
   "metadata": {},
   "source": [
    "Get security insights from the NSA knowledge graph."
   ]
  },
  {
   "cell_type": "code",
   "execution_count": null,
   "id": "f0cd74ca",
   "metadata": {},
   "outputs": [],
   "source": [
    "kube=Graph()\n",
    "kube.parse('guestbook.ttl', format=\"text/turtle\")\n",
    "kube.parse('d3fend.ttl', format=\"text/turtle\")\n",
    "kube.query(\"\"\"\n",
    "SELECT DISTINCT *\n",
    "WHERE {\n",
    "  ?artifact rdfs:subClassOf d3f:DigitalArtifact\n",
    "}\n",
    "\"\"\")"
   ]
  },
  {
   "cell_type": "markdown",
   "id": "c835f2a0",
   "metadata": {},
   "source": [
    "and apply this stuff to our infrastructure."
   ]
  },
  {
   "cell_type": "code",
   "execution_count": null,
   "id": "b4301b73",
   "metadata": {},
   "outputs": [],
   "source": [
    "\n",
    "attack_surface = list(kube.query(\"\"\"\n",
    "SELECT DISTINCT\n",
    "  ?attack_label ?affects ?artifact ?uri\n",
    "WHERE {\n",
    "  ?kind rdfs:subClassOf* d3f:DigitalArtifact .\n",
    "  ?kind rdfs:subClassOf* k8s:Kind .\n",
    "  ?kind rdfs:subClassOf ?artifact .\n",
    "\n",
    "  ?attack\n",
    "    d3f:attack-id ?attack_id;\n",
    "    rdfs:label ?attack_label .\n",
    "\n",
    "  ?attack ?affects ?artifact .\n",
    "  ?uri a ?kind .\n",
    "\n",
    "}\n",
    "\"\"\"))\n",
    "\n",
    "print(*sorted([\n",
    "    (f\"Attack: {a['attack_label']},\"\n",
    "     f\" {a['affects'].fragment} {a['artifact'].fragment} for {a['uri']}\")\n",
    "    for a in attack_surface\n",
    "]), sep=\"\\n\")"
   ]
  }
 ],
 "metadata": {
  "kernelspec": {
   "display_name": "py3",
   "language": "python",
   "name": "python3"
  },
  "language_info": {
   "codemirror_mode": {
    "name": "ipython",
    "version": 3
   },
   "file_extension": ".py",
   "mimetype": "text/x-python",
   "name": "python",
   "nbconvert_exporter": "python",
   "pygments_lexer": "ipython3",
   "version": "3.12.3"
  }
 },
 "nbformat": 4,
 "nbformat_minor": 5
}
