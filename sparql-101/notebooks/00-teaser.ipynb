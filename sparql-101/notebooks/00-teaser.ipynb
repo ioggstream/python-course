{
 "cells": [
  {
   "cell_type": "markdown",
   "id": "fd372ee1",
   "metadata": {},
   "source": [
    "# Knowledge Management 101\n",
    "\n",
    "Welcome to the Knowledge Management 101 course!\n",
    "Author: <roberto.polli@par-tec.it>"
   ]
  },
  {
   "cell_type": "markdown",
   "id": "c7dd2c60",
   "metadata": {
    "slideshow": {
     "slide_type": "slide"
    }
   },
   "source": [
    "---\n",
    "\n",
    "## Agenda\n",
    "\n",
    "- 1h. What is semantics and how to describe information in a\n",
    "  meaningful (and machine-readable) way using Resource Description Format (RDF).\n",
    "\n",
    "- 1h. Storing data or describing knowledge?\n",
    "  Practical use of getting security insights from data.\n",
    "\n",
    "- Bonus track: Graphs and semantic search: mixing graphs and vector databases\n",
    "\n",
    "### Hints\n",
    "\n",
    "- **Type in** exercises so you can learn from your mistakes\n",
    "- If your notebook get stuck, **restart the kernel and run all** cells\n",
    "- **Repetita iuvant**: concepts will be explained multiple times,\n",
    "  from different perspectives, thoughout various notebooks.\n",
    "\n",
    "## Teaser\n",
    "\n",
    "In this course, we will learn how to describe information in a\n",
    "machine-readable way using RDF."
   ]
  },
  {
   "cell_type": "code",
   "execution_count": null,
   "id": "889a1e79",
   "metadata": {},
   "outputs": [],
   "source": [
    "%pip install rdflib"
   ]
  },
  {
   "cell_type": "markdown",
   "id": "56a75f24",
   "metadata": {},
   "source": [
    "(and some graph libraries)"
   ]
  },
  {
   "cell_type": "code",
   "execution_count": null,
   "id": "65b24cd9",
   "metadata": {},
   "outputs": [],
   "source": [
    "%pip install bokeh"
   ]
  },
  {
   "cell_type": "code",
   "execution_count": null,
   "id": "4b34cc15",
   "metadata": {},
   "outputs": [],
   "source": [
    "%pip install networkx"
   ]
  },
  {
   "cell_type": "markdown",
   "id": "2cbd70a9",
   "metadata": {},
   "source": [
    "For example network of persons:"
   ]
  },
  {
   "cell_type": "code",
   "execution_count": null,
   "id": "3f2ea6d0",
   "metadata": {},
   "outputs": [],
   "source": [
    "from rdflib import Graph\n",
    "from rdflib.namespace import FOAF, OWL\n",
    "\n",
    "sentences = \"\"\"\n",
    "@prefix owl: <http://www.w3.org/2002/07/owl#> .\n",
    "@prefix foaf: <http://xmlns.com/foaf/0.1/>    .\n",
    "@prefix : <urn:simpsons:>                     .\n",
    "\n",
    ":Homer foaf:knows :Marge, :Lisa, :Bart, :Maggie;\n",
    "  foaf:interest <https://dbpedia.org/page/Beer>;\n",
    "  foaf:firstName \"Homer\" .\n",
    "\n",
    ":Lisa foaf:firstName \"Lisa\";\n",
    "  foaf:interest <https://dbpedia.org/page/Jazz> .\n",
    "\n",
    "\"\"\"\n",
    "\n",
    "g = Graph()\n",
    "g.parse(data=sentences, format=\"text/turtle\")"
   ]
  },
  {
   "cell_type": "markdown",
   "id": "fc02acd8",
   "metadata": {},
   "source": [
    "... eventually rendered as a graph ..."
   ]
  },
  {
   "cell_type": "code",
   "execution_count": null,
   "id": "0f1c525f",
   "metadata": {},
   "outputs": [],
   "source": [
    "from tools import plot_graph\n",
    "plot_graph(g, label_property=FOAF.firstName)"
   ]
  },
  {
   "cell_type": "markdown",
   "id": "7e5eed6e",
   "metadata": {},
   "source": [
    "Convert it in [JSON-LD](https://json-ld.org/) format:"
   ]
  },
  {
   "cell_type": "code",
   "execution_count": null,
   "id": "1acb166f",
   "metadata": {},
   "outputs": [],
   "source": [
    "json_text = g.serialize(format=\"application/ld+json\")\n",
    "print(json_text)"
   ]
  },
  {
   "cell_type": "markdown",
   "id": "9413aaba",
   "metadata": {},
   "source": [
    "There's plenty of knowledge in the web!"
   ]
  },
  {
   "cell_type": "code",
   "execution_count": null,
   "id": "2285f22d",
   "metadata": {},
   "outputs": [],
   "source": [
    "from pathlib import Path\n",
    "from rdflib import Graph\n",
    "from rdflib.namespace import RDFS\n",
    "\n",
    "# We can parse either a local file or a remote URL.\n",
    "tortellini_url = \"https://dbpedia.org/data/Tortellini.n3\"\n",
    "tortellini_n3 = Path(\"Tortellini.n3\")\n",
    "\n",
    "g = Graph()\n",
    "g.parse(tortellini_n3, format=\"n3\")\n",
    "plot_graph(g, label_property=RDFS.label, limit=30, pattern=\".*/dbpedia.org\")"
   ]
  },
  {
   "cell_type": "markdown",
   "id": "bd4ce283",
   "metadata": {},
   "source": [
    "And we can connect them together"
   ]
  },
  {
   "cell_type": "code",
   "execution_count": null,
   "id": "4620f3e1",
   "metadata": {},
   "outputs": [],
   "source": [
    "tagliatelle_url = \"https://dbpedia.org/data/Tagliatelle.n3\"\n",
    "tagliatelle_n3 = Path(\"Tagliatelle.n3\")\n",
    "\n",
    "# Extend our graph\n",
    "g.parse(tagliatelle_n3, format=\"n3\")\n",
    "\n",
    "plot_graph(g, label_property=RDFS.label, limit=50, pattern=\".*/dbpedia.org\")"
   ]
  },
  {
   "cell_type": "markdown",
   "id": "53c6ff38",
   "metadata": {},
   "source": [
    "Graphs contain a lot of senteces"
   ]
  },
  {
   "cell_type": "code",
   "execution_count": null,
   "id": "c7ff5c1b",
   "metadata": {},
   "outputs": [],
   "source": [
    "len(g)"
   ]
  },
  {
   "cell_type": "markdown",
   "id": "0ec17231",
   "metadata": {},
   "source": [
    "but we can query them (e.g., for Italian food)"
   ]
  },
  {
   "cell_type": "code",
   "execution_count": null,
   "id": "a498e1ad",
   "metadata": {},
   "outputs": [],
   "source": [
    "g.query(\"\"\"\n",
    "PREFIX dbo: <http://dbpedia.org/ontology/>\n",
    "PREFIX dbr: <http://dbpedia.org/resource/>\n",
    "\n",
    "SELECT DISTINCT ?s\n",
    "WHERE {\n",
    "  ?s\n",
    "    a   dbo:Food ;\n",
    "    ?p  dbr:Italy .\n",
    "}\n",
    "\"\"\"\n",
    ").bindings"
   ]
  },
  {
   "cell_type": "markdown",
   "id": "e6b6e576",
   "metadata": {},
   "source": [
    "and see if two resources have something in common..."
   ]
  },
  {
   "cell_type": "code",
   "execution_count": null,
   "id": "60d7b604",
   "metadata": {},
   "outputs": [],
   "source": [
    "g.query(\"\"\"\n",
    "PREFIX dbr: <http://dbpedia.org/resource/>\n",
    "\n",
    "SELECT DISTINCT ?t\n",
    "WHERE {\n",
    "  dbr:Tagliatelle ?p1 ?t .\n",
    "  dbr:Tortellini  ?p2 ?t .\n",
    "}\n",
    "\"\"\"\n",
    ").bindings"
   ]
  },
  {
   "cell_type": "markdown",
   "id": "8bef642c",
   "metadata": {},
   "source": [
    "We can query remote graphs (e.g., DBPedia):"
   ]
  },
  {
   "cell_type": "code",
   "execution_count": null,
   "id": "c4d5d8ae",
   "metadata": {},
   "outputs": [],
   "source": [
    "dbpedia = Graph(store=\"SPARQLStore\")\n",
    "dbpedia.open(\"https://dbpedia.org/sparql\")\n",
    "\n",
    "dbpedia.query(\"\"\"\n",
    "PREFIX dbo: <http://dbpedia.org/ontology/>\n",
    "PREFIX rdfs: <http://www.w3.org/2000/01/rdf-schema#>\n",
    "\n",
    "SELECT DISTINCT ?subject ?label\n",
    "WHERE {\n",
    "  ?subject\n",
    "    a dbo:Food ;\n",
    "    rdfs:label ?label\n",
    "  FILTER (lang(?label) = 'en')\n",
    "  .\n",
    "}\n",
    "LIMIT 10\n",
    "\"\"\").bindings"
   ]
  },
  {
   "cell_type": "markdown",
   "id": "77720e04",
   "metadata": {},
   "source": [
    "Provided by different organizations"
   ]
  },
  {
   "cell_type": "code",
   "execution_count": null,
   "id": "29e2253b",
   "metadata": {},
   "outputs": [],
   "source": [
    "eu = Graph(store=\"SPARQLStore\")\n",
    "eu.open(\"https://publications.europa.eu/webapi/rdf/sparql\")\n",
    "\n",
    "eu.query(\"\"\"\n",
    "PREFIX euvoc: <http://publications.europa.eu/resource/authority/>\n",
    "PREFIX skos: <http://www.w3.org/2004/02/skos/core#>\n",
    "PREFIX dc: <http://purl.org/dc/elements/1.1/>\n",
    "PREFIX rdf: <http://www.w3.org/1999/02/22-rdf-syntax-ns#>\n",
    "\n",
    "SELECT ?URI, ?concept, ?identifier\n",
    "WHERE {\n",
    "  ?URI\n",
    "    skos:inScheme euvoc:country ;\n",
    "    skos:prefLabel ?concept ;\n",
    "    dc:identifier ?identifier\n",
    "  .\n",
    "\n",
    "  FILTER(lang(?concept) = 'en')\n",
    "}\n",
    "LIMIT 5\n",
    "\n",
    "\"\"\").bindings"
   ]
  },
  {
   "cell_type": "markdown",
   "id": "bc4a941f",
   "metadata": {},
   "source": [
    "And their relations"
   ]
  },
  {
   "cell_type": "code",
   "execution_count": null,
   "id": "014efeff",
   "metadata": {},
   "outputs": [],
   "source": [
    "result = eu.query(\"\"\"\n",
    "PREFIX euvoc: <http://publications.europa.eu/resource/authority/>\n",
    "PREFIX skos: <http://www.w3.org/2004/02/skos/core#>\n",
    "PREFIX dct: <http://purl.org/dc/terms/>\n",
    "\n",
    "# Construct a new graph of countries and their identifiers related by dct:replaces\n",
    "# countries must be in the euvoc:country scheme.\n",
    "\n",
    "CONSTRUCT {\n",
    "  ?a dct:replaces ?b\n",
    "}\n",
    "WHERE {\n",
    " ?a skos:inScheme euvoc:country .\n",
    " ?b skos:inScheme euvoc:country .\n",
    " ?a dct:replaces ?b .\n",
    "}\n",
    "\n",
    "LIMIT 5\n",
    "\n",
    "\"\"\")\n",
    "\n",
    "list(result.graph)"
   ]
  },
  {
   "cell_type": "markdown",
   "id": "0bc29c27",
   "metadata": {},
   "source": [
    "More relations"
   ]
  },
  {
   "cell_type": "code",
   "execution_count": null,
   "id": "b8335624",
   "metadata": {},
   "outputs": [],
   "source": [
    "from tools import plot_graph\n",
    "from rdflib.namespace import SKOS\n",
    "ret = eu.query(\"\"\"\n",
    "PREFIX skos: <http://www.w3.org/2004/02/skos/core#>\n",
    "PREFIX nuts: <http://data.europa.eu/nuts/code/>\n",
    "\n",
    "CONSTRUCT   {\n",
    "  ?s skos:narrower ?q ;\n",
    "     skos:prefLabel ?label .\n",
    "}\n",
    "WHERE {\n",
    "  # Austrian administrative units.\n",
    "  nuts:AT skos:narrower+ ?q .\n",
    "\n",
    "  ?s skos:inScheme <http://data.europa.eu/nuts/scheme/2024> ;\n",
    "     skos:narrower ?q ;\n",
    "     skos:prefLabel ?label\n",
    "  .\n",
    "}\n",
    "LIMIT 40\n",
    "\"\"\")\n",
    "\n",
    "plot_graph(ret.graph, label_property=SKOS.prefLabel,)"
   ]
  },
  {
   "cell_type": "markdown",
   "id": "f801ae01",
   "metadata": {
    "slideshow": {
     "slide_type": "slide"
    }
   },
   "source": [
    "---\n",
    "\n",
    "## Transform kube infra in graph"
   ]
  },
  {
   "cell_type": "code",
   "execution_count": null,
   "id": "3e9262de",
   "metadata": {},
   "outputs": [],
   "source": [
    "% pip install d3fendtools"
   ]
  },
  {
   "cell_type": "markdown",
   "id": "692e6bcd",
   "metadata": {
    "slideshow": {
     "slide_type": "slide"
    }
   },
   "source": [
    "---\n",
    "\n",
    "List Basic attacks on your kube infrastructure"
   ]
  },
  {
   "cell_type": "code",
   "execution_count": null,
   "id": "0793657c",
   "metadata": {},
   "outputs": [],
   "source": [
    "from rdflib import Graph\n",
    "from tools import plot_graph\n",
    "\n",
    "kube = Graph()\n",
    "kube.parse('guestbook.ttl', format=\"text/turtle\")\n",
    "\n",
    "# Simplify the graph ;)\n",
    "for s, p, q in kube:\n",
    "    if 'urn:k8s:default' in str(s):\n",
    "        continue\n",
    "    if str(s).startswith((\"urn:k8s:\", \"rdfs:\", \"rdf:\")):\n",
    "        kube.remove((s, p, q))\n",
    "    if str(q).startswith((\"urn:k8s:\", \"rdfs:\", \"rds:\")):\n",
    "        kube.remove((s, p, q))\n",
    "\n",
    "plot_graph(kube)"
   ]
  },
  {
   "cell_type": "markdown",
   "id": "a89c275a",
   "metadata": {},
   "source": [
    "Get security insights from the NSA knowledge graph."
   ]
  },
  {
   "cell_type": "code",
   "execution_count": null,
   "id": "b0d0497c",
   "metadata": {},
   "outputs": [],
   "source": [
    "kube=Graph()\n",
    "kube.parse('guestbook.ttl', format=\"text/turtle\")\n",
    "kube.parse('d3fend.ttl', format=\"text/turtle\")\n",
    "kube.query(\"\"\"\n",
    "SELECT DISTINCT *\n",
    "WHERE {\n",
    "  ?artifact rdfs:subClassOf d3f:DigitalArtifact\n",
    "}\n",
    "\"\"\")"
   ]
  },
  {
   "cell_type": "markdown",
   "id": "7ead8a4a",
   "metadata": {},
   "source": [
    "and apply this stuff to our infrastructure."
   ]
  },
  {
   "cell_type": "code",
   "execution_count": null,
   "id": "15636cbe",
   "metadata": {},
   "outputs": [],
   "source": [
    "\n",
    "attack_surface = list(kube.query(\"\"\"\n",
    "SELECT DISTINCT\n",
    "  ?attack_label ?affects ?artifact ?uri\n",
    "WHERE {\n",
    "  ?kind rdfs:subClassOf* d3f:DigitalArtifact .\n",
    "  ?kind rdfs:subClassOf* k8s:Kind .\n",
    "  ?kind rdfs:subClassOf ?artifact .\n",
    "\n",
    "  ?attack\n",
    "    d3f:attack-id ?attack_id;\n",
    "    rdfs:label ?attack_label .\n",
    "\n",
    "  ?attack ?affects ?artifact .\n",
    "  ?uri a ?kind .\n",
    "\n",
    "}\n",
    "\"\"\"))\n",
    "\n",
    "print(*sorted([\n",
    "    (f\"Attack: {a['attack_label']},\"\n",
    "     f\" {a['affects'].fragment} {a['artifact'].fragment} for {a['uri']}\")\n",
    "    for a in attack_surface\n",
    "]), sep=\"\\n\")"
   ]
  }
 ],
 "metadata": {},
 "nbformat": 4,
 "nbformat_minor": 5
}
