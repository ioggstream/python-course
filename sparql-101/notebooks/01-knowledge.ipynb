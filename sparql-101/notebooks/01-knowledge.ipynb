{
 "cells": [
  {
   "cell_type": "markdown",
   "id": "d1c5d0bf",
   "metadata": {},
   "source": [
    "# Knowledge Management 101\n",
    "\n",
    "## Agenda\n",
    "\n",
    "- What is knowledge?\n",
    "- Knowledge and graphs\n",
    "- RDF: machine-readable knowledge\n",
    "\n",
    "*Beware*: commands may contain small typos. You have to fix them to properly complete the course!\n",
    "\n",
    "TODO: add from pathlib import Path\n",
    "consider extending n. nodes limit in plot"
   ]
  },
  {
   "cell_type": "markdown",
   "id": "fe996522",
   "metadata": {
    "slideshow": {
     "slide_type": "subslide"
    }
   },
   "source": [
    "----\n",
    "\n",
    "Prerequisites:\n",
    "\n",
    "- json, yaml, xmlschema\n",
    "- HTTP, OpenAPI 3\n",
    "- SQL and database hints"
   ]
  },
  {
   "cell_type": "code",
   "execution_count": null,
   "id": "3953436c",
   "metadata": {},
   "outputs": [],
   "source": [
    "# rdflib is a python library to work with resources.\n",
    "%pip install rdflib"
   ]
  },
  {
   "cell_type": "markdown",
   "id": "a8203d4a",
   "metadata": {
    "slideshow": {
     "slide_type": "slide"
    }
   },
   "source": [
    "---\n",
    "\n",
    "## What is knowledge?\n",
    "\n",
    "Knowledge is a set of information that is useful for a given purpose.\n",
    "\n",
    "We express knowledge through language and symbols\n",
    "in various forms: text, images, and sounds."
   ]
  },
  {
   "cell_type": "markdown",
   "id": "58e1927e",
   "metadata": {
    "slideshow": {
     "slide_type": "subslide"
    }
   },
   "source": [
    "----\n",
    "\n",
    "To use knowledge we need to:\n",
    "\n",
    "- sense;\n",
    "- interpret;\n",
    "- understand."
   ]
  },
  {
   "cell_type": "markdown",
   "id": "1e5705ef",
   "metadata": {
    "slideshow": {
     "slide_type": "subslide"
    }
   },
   "source": [
    "----\n",
    "\n",
    "When reading a book, we need to:\n",
    "\n",
    "- read and understand the words,\n",
    "- interpret the meaning of the sentences and paragraphs;\n",
    "- understand the meaning of the text as a whole.\n",
    "\n",
    "This requires an awareness of the context\n",
    "and our previous knowledge."
   ]
  },
  {
   "cell_type": "markdown",
   "id": "88273f32",
   "metadata": {
    "slideshow": {
     "slide_type": "subslide"
    }
   },
   "source": [
    "----\n",
    "\n",
    "## What is knowledge? The Encyclopedia\n",
    "\n",
    "The [Encyclopédie](https://en.wikipedia.org/wiki/Encyclop%C3%A9die)\n",
    "was one of the first modern attempts to organize knowledge,\n",
    "and to make it available to the public.\n",
    "\n",
    "Its voices can be basically seen as a collection of sentences,\n",
    "each of the form"
   ]
  },
  {
   "cell_type": "markdown",
   "id": "baccdc23",
   "metadata": {},
   "source": [
    "```mermaid\n",
    "graph LR\n",
    "subject((subject)) --- predicate(predicate) --> object\n",
    "```"
   ]
  },
  {
   "cell_type": "markdown",
   "id": "81fa50ab",
   "metadata": {
    "slideshow": {
     "slide_type": "subslide"
    }
   },
   "source": [
    "----\n",
    "\n",
    "Every term is identified by an absolute IRI (Internationalized Resource Identifier).\n",
    "IRI extends the concept of URI (Uniform Resource Identifier).\n",
    "\n",
    "The prefix identifies the vocabulary name,\n",
    "and the suffix identifies the term."
   ]
  },
  {
   "cell_type": "code",
   "execution_count": null,
   "id": "334a5a54",
   "metadata": {},
   "outputs": [],
   "source": [
    "from rdflib import URIRef\n",
    "dog_uri = URIRef(\"https://dbpedia.org/data/Dog\")"
   ]
  },
  {
   "cell_type": "markdown",
   "id": "4f07d958",
   "metadata": {},
   "source": [
    "We'll see how to use IRIs to express knowledge."
   ]
  },
  {
   "cell_type": "markdown",
   "id": "9142b96f",
   "metadata": {
    "slideshow": {
     "slide_type": "subslide"
    }
   },
   "source": [
    "----\n",
    "\n",
    "For example, an hypotetical Python encyclopedia voice\n",
    "could be:\n",
    "\n",
    "> Python is a programming language\n",
    "> <br> designed by Guido van Rossum and\n",
    "> <br> named after the Monty Python comedy group."
   ]
  },
  {
   "cell_type": "markdown",
   "id": "52ab8511",
   "metadata": {
    "slideshow": {
     "slide_type": "subslide"
    }
   },
   "source": [
    "----\n",
    "\n",
    "## Knowledge and Graphs\n",
    "\n",
    "We can represent this text as a graph\n",
    "\n",
    "💡 The object of a sentece\n",
    "can be the subject of another sentence."
   ]
  },
  {
   "cell_type": "markdown",
   "id": "6ad16b0f",
   "metadata": {},
   "source": [
    "```mermaid\n",
    "graph LR\n",
    "python[Python] -->|is a| programming_language[programming language]\n",
    "python -->|designed by| gvr[Guido van Rossum]\n",
    "python -->|named after| monty_python[Monty Python]\n",
    "monty_python -->|is a| comedy_group[comedy group]\n",
    "```"
   ]
  },
  {
   "cell_type": "markdown",
   "id": "91341303",
   "metadata": {
    "slideshow": {
     "slide_type": "subslide"
    }
   },
   "source": [
    "----\n",
    "\n",
    "There are various encyclopedias on the web,\n",
    "such as Wikipedia and dbpedia.\n",
    "\n",
    "💪 Exercise: web encyclopedias\n",
    "\n",
    "1. open the \"Python\" page on dbpedia:\n",
    "\n",
    "   - <https://dbpedia.org/page/Python_(programming_language)>\n",
    "\n",
    "   and on Wikidata:\n",
    "\n",
    "   - <https://www.wikidata.org/wiki/Q28865>\n",
    "\n",
    "2. note that in both sites every\n",
    "   piece of information is expressed in couples\n",
    "   such as \"predicate\" and \"object\".\n",
    "\n",
    "3. navigate those pages and\n",
    "   click on the links to see how\n",
    "   the information is organized."
   ]
  },
  {
   "cell_type": "markdown",
   "id": "bbcab3b4",
   "metadata": {
    "slideshow": {
     "slide_type": "subslide"
    }
   },
   "source": [
    "----\n",
    "\n",
    "Since we can represent sentences as graphs,\n",
    "it is natural to represent and organize knowledge\n",
    "in a graph structure,\n",
    "where each node is a concept and the edges are the relationships between them.\n",
    "\n",
    "Here is an excerpt from the Python encyclopedia voice of Dbpedia:"
   ]
  },
  {
   "cell_type": "markdown",
   "id": "8896c130",
   "metadata": {},
   "source": [
    "```mermaid\n",
    "graph LR\n",
    "\n",
    "subgraph dbpedia[DBpedia]\n",
    "  dbr:Python[Python] -->|designer| dbr:gvr[Guido van Rossum]\n",
    "  dbr:Python[Python] -->|runs on<br>operating system| dbr:win[Windows] & dbr:linux[Linux] & ...\n",
    "  dbr:gvr -->|born| dbr:nl[Netherlands]\n",
    "end\n",
    "\n",
    "```"
   ]
  },
  {
   "cell_type": "markdown",
   "id": "44841e95",
   "metadata": {
    "slideshow": {
     "slide_type": "subslide"
    }
   },
   "source": [
    "----\n",
    "\n",
    "Another example is the Python encyclopedia voice of Wikidata:"
   ]
  },
  {
   "cell_type": "markdown",
   "id": "841c9991",
   "metadata": {},
   "source": [
    "```mermaid\n",
    "graph LR\n",
    "subgraph wikidata[WikiData]\n",
    "  wd:Q30942[Guido van Rossum] ---|developer| wd:Q28865[Python]\n",
    "  wd:Q16402[Monty Python] ---|named after| wd:Q28865\n",
    "end\n",
    "```"
   ]
  },
  {
   "cell_type": "markdown",
   "id": "1ecdeb0b",
   "metadata": {
    "slideshow": {
     "slide_type": "subslide"
    }
   },
   "source": [
    "----\n",
    "\n",
    "## Knowledge and Graphs: The Semantic Web\n",
    "\n",
    "We can use further knowledge - using exisiting cross-references\n",
    "between Dbpedia and Wikidata,\n",
    "or using our own knowledge - to connect the two graphs together."
   ]
  },
  {
   "cell_type": "markdown",
   "id": "1ca17502",
   "metadata": {},
   "source": [
    "```mermaid\n",
    "graph LR\n",
    "\n",
    "subgraph dbpedia[DBpedia]\n",
    "  dbr:Python[Python] -->|designer| dbr:gvr[Guido van Rossum]\n",
    "  dbr:Python[Python] -->|runs on<br>operating System| dbr:win[Windows] & dbr:linux[Linux] & ...\n",
    "  dbr:gvr -->|born| dbr:nl[Netherlands]\n",
    "end\n",
    "\n",
    "\n",
    "subgraph wikidata[WikiData]\n",
    "  wd:Q30942[Guido van Rossum] ---|developer| wd:Q28865[Python]\n",
    "  wd:Q16402[Monty Python] ---|named after| wd:Q28865\n",
    "end\n",
    "\n",
    "wd:Q28865 -.-|same as| dbr:Python\n",
    "wd:Q30942 -.-|same as| dbr:gvr\n",
    "```"
   ]
  },
  {
   "cell_type": "markdown",
   "id": "0cc4365e",
   "metadata": {},
   "source": [
    "This is the basis of the Semantic Web,\n",
    "where knowledge is represented in a machine-readable format.\n",
    "\n",
    "But it is also the basis of the Web itself\n",
    "(e.g., see [Web Linking RFC 8288](https://datatracker.ietf.org/doc/html/rfc8288))."
   ]
  },
  {
   "cell_type": "markdown",
   "id": "696a7f3b",
   "metadata": {
    "slideshow": {
     "slide_type": "subslide"
    }
   },
   "source": [
    "----\n",
    "\n",
    "## Resource Description Framework: machine readable knowledge\n",
    "\n",
    "Encyclopedia voices on Wikipedia and dbpedia are expressed in\n",
    "[Resource Description Framework (RDF)](https://www.w3.org/TR/rdf11-primer/).\n",
    "\n",
    "It is a W3C formal language to\n",
    "represent knowledge on the web\n",
    "in a machine-readable format\n",
    "using triples subject-predicate-object.\n",
    "\n",
    "RDF has different serialization formats,\n",
    "such as [Turtle](https://www.w3.org/TR/turtle/),\n",
    "[JSON-LD](https://json-ld.org/),\n",
    "and [XML](https://www.w3.org/TR/rdf-syntax-grammar/).\n",
    "\n",
    "We'll use the Turtle format in this course,\n",
    "where a sentence is expressed as a tripe:\n",
    "\n",
    "`subject predicate object .`\n",
    "\n",
    ":exclamation: note the dot at the end of the sentence :exclamation:"
   ]
  },
  {
   "cell_type": "markdown",
   "id": "a4632a43",
   "metadata": {
    "slideshow": {
     "slide_type": "subslide"
    }
   },
   "source": [
    "----\n",
    "\n",
    "If you are familiar with SQL,\n",
    "you can see a graph as a table,\n",
    "where each row is a sentence.\n",
    "\n",
    "| Subject | Predicate | Object |\n",
    "|---------|-----------|--------|\n",
    "| dbr:Python | rdf:type | dbo:ProgrammingLanguage |\n",
    "| dbr:Python | dbo:designer | dbr:gvr |\n",
    "| dbr:Python | dbo:runsOn | dbr:win |\n",
    "| dbr:Python | dbo:runsOn | dbr:linux |"
   ]
  },
  {
   "cell_type": "markdown",
   "id": "16fd4310",
   "metadata": {
    "slideshow": {
     "slide_type": "subslide"
    }
   },
   "source": [
    "----\n",
    "\n",
    "## Resource Description Format: machine readable knowledge\n",
    "\n",
    "RDF uses [IRIs](https://www.w3.org/TR/rdf11-concepts/#section-IRIs)\n",
    "to disambiguate the meaning of terms and provide semantics.\n",
    "\n",
    "Every term is identified by an absolute IRI enclosed by `<>`.\n",
    "\n",
    "The prefix identifies the source of the term definition\n",
    "(that we'll call **vocabulary**),\n",
    "and the suffix identifies the term."
   ]
  },
  {
   "cell_type": "code",
   "execution_count": null,
   "id": "6172e4b9",
   "metadata": {},
   "outputs": [],
   "source": [
    "from rdflib import URIRef\n",
    "dog_uri = URIRef(\"https://dbpedia.org/data/Dog\")\n",
    "print(dog_uri.n3())"
   ]
  },
  {
   "cell_type": "markdown",
   "id": "a4329758",
   "metadata": {},
   "source": [
    "RDF is based on:\n",
    "\n",
    "- **elements** (IRIs, blank nodes and literals);\n",
    "- **triples** (subject-predicate-object);\n",
    "- **graphs** (sets of triples).\n",
    "- **vocabularies** (graphs containing terms and their definitions).\n",
    "\n",
    "See the definition of RDF concepts here:\n",
    "\n",
    "- [Graph data model](https://www.w3.org/TR/rdf11-concepts/#data-model)\n",
    "- [Graphs](https://www.w3.org/TR/rdf11-concepts/#section-rdf-graph)\n",
    "\n",
    "### Elements\n",
    "\n",
    "Subjects and predicates are uniquely identified by IRIs.\n",
    "\n",
    "Objects can be either IRIs or literals (strings, numbers, dates, etc.)."
   ]
  },
  {
   "cell_type": "code",
   "execution_count": null,
   "id": "3ca2e549",
   "metadata": {},
   "outputs": [],
   "source": [
    "from rdflib import URIRef, Literal, BNode\n",
    "\n",
    "iri = URIRef(\"mailto:mr@test\")\n",
    "predicate_iri = URIRef(\"https://schema.org/name\")\n",
    "blank_node = BNode(\"anon\")\n",
    "literal = Literal(\"Mario Rossi\")\n",
    "\n",
    "# Serialize in the N3 format\n",
    "# (Notation 3 is a compact, human-readable format for RDF)\n",
    "print(iri.n3(),  blank_node.n3(), literal.n3(), sep=\"\\n\")"
   ]
  },
  {
   "cell_type": "markdown",
   "id": "c0b0a103",
   "metadata": {},
   "source": [
    "💪: RDF elements\n",
    "\n",
    "In the cell below, create a literal with the following values\n",
    "and look at its [Notation 3 (N3)](https://www.w3.org/TeamSubmission/n3/) serialization.\n",
    "\n",
    "- `42` (integer), `42.0` (float), `\"42\"` (string);\n",
    "- `datetime.now()` (date);"
   ]
  },
  {
   "cell_type": "code",
   "execution_count": null,
   "id": "4090ac66",
   "metadata": {},
   "outputs": [],
   "source": [
    "from datetime import datetime\n",
    "...\n",
    "for value in (42, 42.0, \"42\", datetime.now()):\n",
    "    literal = Literal(value)\n",
    "    print(literal.n3())"
   ]
  },
  {
   "cell_type": "markdown",
   "id": "4133e46f",
   "metadata": {},
   "source": [
    "### Triples\n",
    "\n",
    "A triple represents a statement about a resource;\n",
    "remember: the second element is the predicate!"
   ]
  },
  {
   "cell_type": "code",
   "execution_count": null,
   "id": "67387380",
   "metadata": {},
   "outputs": [],
   "source": [
    "triple = (iri, predicate_iri, literal)\n",
    "print(triple)"
   ]
  },
  {
   "cell_type": "markdown",
   "id": "ad1d764a",
   "metadata": {},
   "source": [
    "Another triple serialized in the N3 format:"
   ]
  },
  {
   "cell_type": "code",
   "execution_count": null,
   "id": "bf6fc3b7",
   "metadata": {},
   "outputs": [],
   "source": [
    "sentences = \"\"\"\n",
    "<https://dbpedia.org/data/Tortellini> a <https://dbpedia.org/ontology/Food> .\n",
    "\"\"\""
   ]
  },
  {
   "cell_type": "markdown",
   "id": "a4807460",
   "metadata": {},
   "source": [
    "The `a` keyword is a shorthand for the `rdf:type` predicate,\n",
    "which is used to indicate the type of a resource.\n",
    "\n",
    "The following statements are equivalent:"
   ]
  },
  {
   "cell_type": "code",
   "execution_count": null,
   "id": "edc7e61c",
   "metadata": {},
   "outputs": [],
   "source": [
    "# Serialized on multiple lines...\n",
    "same_sentences = \"\"\"\n",
    "<https://dbpedia.org/data/Tortellini>\n",
    "  <http://www.w3.org/1999/02/22-rdf-syntax-ns#type>\n",
    "  <https://dbpedia.org/ontology/Food>\n",
    ".\n",
    "\"\"\""
   ]
  },
  {
   "cell_type": "markdown",
   "id": "f87278d4",
   "metadata": {},
   "source": [
    "### Graphs\n",
    "\n",
    "A graph is a set of triples."
   ]
  },
  {
   "cell_type": "code",
   "execution_count": null,
   "id": "95620b21",
   "metadata": {},
   "outputs": [],
   "source": [
    "from rdflib import Graph\n",
    "g = Graph()\n",
    "g.add(triple)\n",
    "print(g.serialize(format=\"turtle\"))"
   ]
  },
  {
   "cell_type": "markdown",
   "id": "79d38157",
   "metadata": {},
   "source": [
    "----"
   ]
  },
  {
   "cell_type": "code",
   "execution_count": null,
   "id": "aee14f6f",
   "metadata": {},
   "outputs": [],
   "source": [
    "# Create a new graph and parse the above sentences.\n",
    "g = Graph()\n",
    "g.parse(data=sentences, format=\"turtle\")\n",
    "\n",
    "print(*g, sep=\"\\n\")"
   ]
  },
  {
   "cell_type": "markdown",
   "id": "fa16d28b",
   "metadata": {},
   "source": [
    "💪 Exercise: parse sentences\n",
    "\n",
    "Parse the `same_sentences` variable\n",
    "and check the content of the graph."
   ]
  },
  {
   "cell_type": "markdown",
   "id": "3cf131a5",
   "metadata": {
    "slideshow": {
     "slide_type": "subslide"
    }
   },
   "source": [
    "----\n",
    "\n",
    "We can also represent the same sentence in JSON-LD."
   ]
  },
  {
   "cell_type": "code",
   "execution_count": null,
   "id": "3400b95d",
   "metadata": {},
   "outputs": [],
   "source": [
    "json_text = g.serialize(format=\"application/ld+json\")\n",
    "print(json_text)"
   ]
  },
  {
   "cell_type": "markdown",
   "id": "51b2a035",
   "metadata": {},
   "source": [
    "💪 Exercise: take 2 minutes to map the JSON-LD format to the Turtle format.\n",
    "\n",
    "We'll see JSON-LD in detail later."
   ]
  },
  {
   "cell_type": "markdown",
   "id": "c0132edc",
   "metadata": {
    "slideshow": {
     "slide_type": "slide"
    }
   },
   "source": [
    "---\n",
    "\n",
    "## Graphs: Namespaces and cURIe\n",
    "\n",
    "RDF use namespace prefixes to shorten IRIs\n",
    "(the [cURIe](https://www.w3.org/TR/curie/) syntax)."
   ]
  },
  {
   "cell_type": "code",
   "execution_count": null,
   "id": "bbaf1a67",
   "metadata": {},
   "outputs": [],
   "source": [
    "sentences = \"\"\"\n",
    "# The @prefix directive defines a namespace prefix\n",
    "@prefix dbr: <http://dbpedia.org/resource/> .\n",
    "@prefix dbo: <http://dbpedia.org/ontology/> .\n",
    "\n",
    "dbr:Tortellini a dbo:Food .\n",
    "\"\"\"\n",
    "\n",
    "g1 = Graph()\n",
    "g1.parse(data=sentences, format=\"turtle\")\n",
    "print(*g1, sep=\"\\n\")"
   ]
  },
  {
   "cell_type": "code",
   "execution_count": null,
   "id": "11b33829",
   "metadata": {},
   "outputs": [],
   "source": [
    "# Get the namespaces used in the g1 graph.\n",
    "g1_ns = set(g1.namespaces())\n",
    "print(*g1_ns, sep=\"\\n\")"
   ]
  },
  {
   "cell_type": "code",
   "execution_count": null,
   "id": "ebf22387",
   "metadata": {},
   "outputs": [],
   "source": [
    "# Expand an entry using predefined namespaces.\n",
    "g1.namespace_manager.expand_curie(\"dbr:Lasagne\")"
   ]
  },
  {
   "cell_type": "markdown",
   "id": "c7bcfc8a",
   "metadata": {},
   "source": [
    "rdflib has a set of predefined namespaces"
   ]
  },
  {
   "cell_type": "code",
   "execution_count": null,
   "id": "77301cad",
   "metadata": {},
   "outputs": [],
   "source": [
    "from rdflib import RDF, RDFS, SKOS, XSD\n",
    "\n",
    "print(\n",
    "  \"The\", RDFS.range,\n",
    "  \"of an\", RDF.type,\n",
    "  \"is an\", RDFS.Class\n",
    ")"
   ]
  },
  {
   "cell_type": "markdown",
   "id": "3f989091",
   "metadata": {},
   "source": [
    "While"
   ]
  },
  {
   "cell_type": "code",
   "execution_count": null,
   "id": "530d6e7e",
   "metadata": {},
   "outputs": [],
   "source": [
    "print(\n",
    "  \"The\", RDFS.range,\n",
    "  \"of a\", SKOS.prefLabel,\n",
    "  \"is an\", XSD.string\n",
    ")"
   ]
  },
  {
   "cell_type": "markdown",
   "id": "1a1d7d62",
   "metadata": {
    "slideshow": {
     "slide_type": "subslide"
    }
   },
   "source": [
    "----\n",
    "\n",
    "Another vocabulary could provide a different definition for the same term.\n",
    ":warning: URI are not always human-readable."
   ]
  },
  {
   "cell_type": "code",
   "execution_count": null,
   "id": "ac908e71",
   "metadata": {},
   "outputs": [],
   "source": [
    "from rdflib import URIRef\n",
    "wikidata_python = URIRef(\"https://www.wikidata.org/wiki/Q28865\")\n",
    "\n",
    "wikidata_python"
   ]
  },
  {
   "cell_type": "markdown",
   "id": "49a12d76",
   "metadata": {
    "slideshow": {
     "slide_type": "subslide"
    }
   },
   "source": [
    "----\n",
    "\n",
    "Let's express the following English definition in RDF:\n",
    "\n",
    "> Tortellini are a typical Italian food,\n",
    "> <br>made with pasta filled with meat such as prosciutto.\n",
    "\n",
    "We must use different sentences,\n",
    "and we'll express a generic relationship\n",
    "with the `dbo:WikiPageWikiLink`\n",
    "predicate."
   ]
  },
  {
   "cell_type": "code",
   "execution_count": null,
   "id": "3577d291",
   "metadata": {},
   "outputs": [],
   "source": [
    "sentences = \"\"\"\n",
    "@prefix : <http://dbpedia.org/resource/> .\n",
    "@prefix dbp: <http://dbpedia.org/property/> .\n",
    "@prefix dbo: <http://dbpedia.org/ontology/> .\n",
    "\n",
    ":Tortellini a          dbo:Food .\n",
    ":Tortellini dbp:country   :Italy .\n",
    ":Tortellini dbo:WikiPageWikiLink :Prosciutto .\n",
    ":Meat       dbo:WikiPageWikiLink :Prosciutto .\n",
    "\"\"\""
   ]
  },
  {
   "cell_type": "markdown",
   "id": "0015257e",
   "metadata": {},
   "source": [
    "💪: parse the sentences using rdflib and answer the following questions\n",
    "\n",
    "- how many sentences are there?\n",
    "- how many distinct subjects are there?\n",
    "- how many namespaces are there?"
   ]
  },
  {
   "cell_type": "code",
   "execution_count": null,
   "id": "41bd9bbc",
   "metadata": {},
   "outputs": [],
   "source": [
    "from rdflib import Graph\n",
    "\n",
    "tortellini = Graph()\n",
    "\n",
    "# Use this cell for the exercise"
   ]
  },
  {
   "cell_type": "code",
   "execution_count": null,
   "id": "8468d3e5",
   "metadata": {},
   "outputs": [],
   "source": [
    "tortellini.parse(data=sentences, format=\"turtle\")\n",
    "print(\n",
    "  len(tortellini).\n",
    "  len(set(tortellini.subjects())\n",
    ")"
   ]
  },
  {
   "cell_type": "markdown",
   "id": "d5370fe1",
   "metadata": {},
   "source": [
    "💪: use `Graph.namespaces` to get the namespaces added by the sentences above"
   ]
  },
  {
   "cell_type": "code",
   "execution_count": null,
   "id": "730ecc37",
   "metadata": {},
   "outputs": [],
   "source": [
    "from rdflib import Graph\n",
    "\n",
    "default_ns = set(Graph().namespaces())\n",
    "\n",
    "# Use this cell for the exercise"
   ]
  },
  {
   "cell_type": "code",
   "execution_count": null,
   "id": "e5302d86",
   "metadata": {},
   "outputs": [],
   "source": [
    "set(tortellini.namespaces()) - default_ns"
   ]
  },
  {
   "cell_type": "markdown",
   "id": "b7be61cc",
   "metadata": {},
   "source": [
    "💪: serialize the above graph in JSON-LD format"
   ]
  },
  {
   "cell_type": "code",
   "execution_count": null,
   "id": "a0114c99",
   "metadata": {},
   "outputs": [],
   "source": [
    "# Use this cell for the exercise\n",
    "tortellini_jsonld = ..."
   ]
  },
  {
   "cell_type": "code",
   "execution_count": null,
   "id": "72b913d4",
   "metadata": {},
   "outputs": [],
   "source": [
    "tortellini_jsonld = tortellini.serialize(format=\"application/ld+json\")\n",
    "print(tortellini_jsonld)"
   ]
  },
  {
   "cell_type": "markdown",
   "id": "42c8d2e8",
   "metadata": {},
   "source": [
    "💪: Load the JSON-LD object in a variable\n",
    "\n",
    "- What's the type and len of the serialized object?\n",
    "- What's in the first element of the serialized object?"
   ]
  },
  {
   "cell_type": "code",
   "execution_count": null,
   "id": "d08cbe3e",
   "metadata": {},
   "outputs": [],
   "source": [
    "import json\n",
    "\n",
    "# Use this cell for the exercise"
   ]
  },
  {
   "cell_type": "code",
   "execution_count": null,
   "id": "9089419d",
   "metadata": {},
   "outputs": [],
   "source": [
    "import json\n",
    "data = json.loads(tortellini_jsonld)\n"
   ]
  },
  {
   "cell_type": "markdown",
   "id": "9df88769",
   "metadata": {},
   "source": [
    "💪: Get a voice from dbpedia\n",
    "\n",
    "Now, let's get the actual voice from dbpedia."
   ]
  },
  {
   "cell_type": "code",
   "execution_count": null,
   "id": "7c7d3816",
   "metadata": {},
   "outputs": [],
   "source": [
    "# Get a voice from dbpedia using rdflib\n",
    "from rdflib import Graph\n",
    "tortellini_url = \"https://dbpedia.org/data/Tortellini.n3\"\n",
    "tortellini_n3 = Path(\"Tortellini.n3\")\n",
    "\n",
    "# What are Tortellini?\n",
    "g = Graph()\n",
    "g.parse(tortellini_url, format=\"turtle\")"
   ]
  },
  {
   "cell_type": "markdown",
   "id": "b0fe7b28",
   "metadata": {},
   "source": [
    "We get a graph with the information about Tortellini."
   ]
  },
  {
   "cell_type": "markdown",
   "id": "181a02b3",
   "metadata": {},
   "source": [
    "```mermaid\n",
    "graph LR\n",
    "  subgraph dbpedia[DBpedia]\n",
    "    dbr:Tortellini[Tortellini] -->|is a| dbo:Food[Food]\n",
    "    dbr:Tortellini -->|related to| dbr:Prosciutto[Prosciutto]\n",
    "    dbr:Tortellini -->|country| dbp:Italy[Italy]\n",
    "    ...\n",
    "  end\n",
    "```"
   ]
  },
  {
   "cell_type": "markdown",
   "id": "ee7daef7",
   "metadata": {},
   "source": [
    "An encyclopedia voice contains a list of sentences :)"
   ]
  },
  {
   "cell_type": "code",
   "execution_count": null,
   "id": "3d5aee78",
   "metadata": {},
   "outputs": [],
   "source": [
    "# List all the details about Tortellini.\n",
    "sentences = list(g)\n",
    "excerpt = sentences[0:15]\n",
    "print(*[str(s) for s in excerpt], sep=\"\\n\")"
   ]
  },
  {
   "cell_type": "markdown",
   "id": "a989b46e",
   "metadata": {},
   "source": [
    "💪: counting sentences\n",
    "\n",
    "- how many sentences are there?\n",
    "- how many elements does each sentence have?"
   ]
  },
  {
   "cell_type": "code",
   "execution_count": null,
   "id": "1d13a711",
   "metadata": {},
   "outputs": [],
   "source": [
    "# Use this cell for the exercise"
   ]
  },
  {
   "cell_type": "code",
   "execution_count": null,
   "id": "795aae40",
   "metadata": {},
   "outputs": [],
   "source": [
    "len(sentences)\n",
    "set((len(x) for x in sentences))"
   ]
  },
  {
   "cell_type": "markdown",
   "id": "7fc80b5b",
   "metadata": {},
   "source": [
    "----"
   ]
  },
  {
   "cell_type": "code",
   "execution_count": null,
   "id": "7a294686",
   "metadata": {},
   "outputs": [],
   "source": [
    "from rdflib.namespace import RDF, RDFS, FOAF\n",
    "\n",
    "# Now we get specific properties from the graph.\n",
    "_type = list(g.objects(predicate=RDF.type))\n",
    "print(_type)"
   ]
  },
  {
   "cell_type": "code",
   "execution_count": null,
   "id": "438a5a8d",
   "metadata": {},
   "outputs": [],
   "source": [
    "import tools\n",
    "tools.plot_graph(g, limit=30)"
   ]
  },
  {
   "cell_type": "markdown",
   "id": "4fcf55f6",
   "metadata": {},
   "source": [
    "💪: extending graphs\n",
    "\n",
    "There's plenty of knowledge in the web!"
   ]
  },
  {
   "cell_type": "code",
   "execution_count": null,
   "id": "b8af9627",
   "metadata": {},
   "outputs": [],
   "source": [
    "from rdflib import Graph\n",
    "from pathlib import Path\n",
    "\n",
    "tortellini_url = \"https://dbpedia.org/data/Tortellini.n3\"\n",
    "tortellini_n3 = Path(\"Tortellini.n3\")\n",
    "\n",
    "g = Graph()\n",
    "g.parse(tortellini_n3, format=\"n3\")\n",
    "tools.plot_graph(g, limit=30, pattern=\".*/dbpedia.org\")"
   ]
  },
  {
   "cell_type": "markdown",
   "id": "c313592a",
   "metadata": {},
   "source": [
    "And we can connect them together"
   ]
  },
  {
   "cell_type": "code",
   "execution_count": null,
   "id": "55bf09b0",
   "metadata": {},
   "outputs": [],
   "source": [
    "tagliatelle_url = \"https://dbpedia.org/data/Tagliatelle.n3\"\n",
    "tagliatelle_n3 = Path(\"Tagliatelle.n3\")\n",
    "# Extend our graph\n",
    "g.parse(tagliatelle_n3, format=\"n3\")"
   ]
  },
  {
   "cell_type": "markdown",
   "id": "c4b3907f",
   "metadata": {},
   "source": [
    "Exercise: how many sentences are there now?"
   ]
  },
  {
   "cell_type": "code",
   "execution_count": null,
   "id": "c0118b89",
   "metadata": {},
   "outputs": [],
   "source": [
    "# Use this cell for the exercise"
   ]
  },
  {
   "cell_type": "code",
   "execution_count": null,
   "id": "5275c828",
   "metadata": {},
   "outputs": [],
   "source": [
    "len(g)"
   ]
  },
  {
   "cell_type": "markdown",
   "id": "fd7d1ff2",
   "metadata": {},
   "source": [
    "Plot the graph again to see the new nodes and\n",
    "their relations."
   ]
  },
  {
   "cell_type": "code",
   "execution_count": null,
   "id": "6065fbf8",
   "metadata": {},
   "outputs": [],
   "source": [
    "import tools\n",
    "\n",
    "# Increase the limit if you can't see intersections.\n",
    "tools.plot_graph(g, label_property=RDFS.label, limit=50, pattern=\".*/dbpedia.org\")"
   ]
  }
 ],
 "metadata": {},
 "nbformat": 4,
 "nbformat_minor": 5
}
