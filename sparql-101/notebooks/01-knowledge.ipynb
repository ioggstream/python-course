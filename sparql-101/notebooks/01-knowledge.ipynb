{
 "cells": [
  {
   "cell_type": "markdown",
   "id": "cd2b4781",
   "metadata": {},
   "source": [
    "# Knowledge Management 101\n",
    "\n",
    "## Agenda\n",
    "\n",
    "- What is knowledge?\n",
    "- Knowledge and graphs\n",
    "- RDF: machine-readable knowledge\n",
    "\n",
    "*Beware*: commands may contain small typos. You have to fix them to properly complete the course!"
   ]
  },
  {
   "cell_type": "markdown",
   "id": "510edeb1",
   "metadata": {
    "slideshow": {
     "slide_type": "subslide"
    }
   },
   "source": [
    "----\n",
    "\n",
    "Prerequisites:\n",
    "\n",
    "- json, yaml, xmlschema\n",
    "- HTTP, OpenAPI 3\n",
    "- SQL and database hints"
   ]
  },
  {
   "cell_type": "code",
   "execution_count": null,
   "id": "f39f768e",
   "metadata": {},
   "outputs": [],
   "source": [
    "# rdflib is a python library to work with resources.\n",
    "%pip install rdflib"
   ]
  },
  {
   "cell_type": "markdown",
   "id": "f72252a7",
   "metadata": {
    "slideshow": {
     "slide_type": "slide"
    }
   },
   "source": [
    "---\n",
    "\n",
    "\n",
    "\n",
    "## What is knowledge?\n",
    "\n",
    "Knowledge is a set of information that is useful for a given purpose.\n",
    "\n",
    "We express knowledge through language and symbols\n",
    "in various forms: text, images, and sounds."
   ]
  },
  {
   "cell_type": "markdown",
   "id": "810c9c9c",
   "metadata": {
    "slideshow": {
     "slide_type": "subslide"
    }
   },
   "source": [
    "----\n",
    "\n",
    "To use knowledge we need to:\n",
    "\n",
    "- sense;\n",
    "- interpret;\n",
    "- understand."
   ]
  },
  {
   "cell_type": "markdown",
   "id": "ca720e42",
   "metadata": {
    "slideshow": {
     "slide_type": "subslide"
    }
   },
   "source": [
    "----\n",
    "\n",
    "When reading a book, we need to:\n",
    "\n",
    "- read and understand the words,\n",
    "- interpret the meaning of the sentences and paragraphs;\n",
    "- understand the meaning of the text as a whole.\n",
    "\n",
    "This requires an awareness of the context\n",
    "and our previous knowledge."
   ]
  },
  {
   "cell_type": "markdown",
   "id": "6c12ef0e",
   "metadata": {
    "slideshow": {
     "slide_type": "subslide"
    }
   },
   "source": [
    "----\n",
    "\n",
    "## What is knowledge? The Encyclopedia\n",
    "\n",
    "The [Encyclopédie](https://en.wikipedia.org/wiki/Encyclop%C3%A9die)\n",
    "was one of the first modern attempts to organize knowledge,\n",
    "and to make it available to the public.\n",
    "\n",
    "Its voices can be basically seen as a collection of sentences,\n",
    "each of the form"
   ]
  },
  {
   "cell_type": "markdown",
   "id": "48ef67ba",
   "metadata": {},
   "source": [
    "```mermaid\n",
    "graph LR\n",
    "subject((subject)) --- predicate(predicate) --> object\n",
    "```"
   ]
  },
  {
   "cell_type": "markdown",
   "id": "869265f6",
   "metadata": {
    "slideshow": {
     "slide_type": "subslide"
    }
   },
   "source": [
    "----\n",
    "\n",
    "Every term is identified by an absolute URI.\n",
    "\n",
    "The prefix identifies the vocabulary name,\n",
    "and the suffix identifies the term."
   ]
  },
  {
   "cell_type": "code",
   "execution_count": null,
   "id": "98a8543a",
   "metadata": {},
   "outputs": [],
   "source": [
    "from rdflib import URIRef\n",
    "dog_uri = URIRef(\"https://dbpedia.org/data/Dog\")"
   ]
  },
  {
   "cell_type": "markdown",
   "id": "5d0935fe",
   "metadata": {},
   "source": [
    "We'll see how to use URIs to express knowledge."
   ]
  },
  {
   "cell_type": "markdown",
   "id": "e86b20fc",
   "metadata": {
    "slideshow": {
     "slide_type": "subslide"
    }
   },
   "source": [
    "----\n",
    "\n",
    "For example, an hypotetical Python encyclopedia voice\n",
    "could be:\n",
    "\n",
    "> Python is a programming language\n",
    "> <br> designed by Guido van Rossum and\n",
    "> <br> named after the Monty Python comedy group."
   ]
  },
  {
   "cell_type": "markdown",
   "id": "02a13d2c",
   "metadata": {
    "slideshow": {
     "slide_type": "subslide"
    }
   },
   "source": [
    "----\n",
    "\n",
    "## Knowledge and Graphs\n",
    "\n",
    "We can represent this text as a graph\n",
    "\n",
    "💡 The object of a sentece\n",
    "can be the subject of another sentence."
   ]
  },
  {
   "cell_type": "markdown",
   "id": "02638bf7",
   "metadata": {},
   "source": [
    "```mermaid\n",
    "graph LR\n",
    "python[Python] -->|is a| programming_language[programming language]\n",
    "python -->|designed by| gvr[Guido van Rossum]\n",
    "python -->|named after| monty_python[Monty Python]\n",
    "monty_python -->|is a| comedy_group[comedy group]\n",
    "```"
   ]
  },
  {
   "cell_type": "markdown",
   "id": "8c5264d3",
   "metadata": {
    "slideshow": {
     "slide_type": "subslide"
    }
   },
   "source": [
    "----\n",
    "\n",
    "There are various encyclopedias on the web,\n",
    "such as Wikipedia and dbpedia.\n",
    "\n",
    "💪 Exercise: web encyclopedias\n",
    "\n",
    "1. open the \"Python\" page on dbpedia:\n",
    "\n",
    "   - <https://dbpedia.org/page/Python_(programming_language)>\n",
    "\n",
    "   and on Wikidata:\n",
    "\n",
    "   - <https://www.wikidata.org/wiki/Q28865>\n",
    "\n",
    "2. note that in both sites every\n",
    "   piece of information is expressed in couples\n",
    "   such as \"predicate\" and \"object\".\n",
    "\n",
    "3. navigate those pages and\n",
    "   click on the links to see how\n",
    "   the information is organized."
   ]
  },
  {
   "cell_type": "markdown",
   "id": "a162e649",
   "metadata": {
    "slideshow": {
     "slide_type": "subslide"
    }
   },
   "source": [
    "----\n",
    "\n",
    "Since we can represent sentences as graphs,\n",
    "it is natural to represent and organize knowledge\n",
    "in a graph structure,\n",
    "where each node is a concept and the edges are the relationships between them.\n",
    "\n",
    "Here is an excerpt from the Python encyclopedia voice of Dbpedia:"
   ]
  },
  {
   "cell_type": "markdown",
   "id": "d58c8eec",
   "metadata": {},
   "source": [
    "```mermaid\n",
    "graph LR\n",
    "\n",
    "subgraph dbpedia[DBpedia]\n",
    "  dbr:Python[Python] -->|designer| dbr:gvr[Guido van Rossum]\n",
    "  dbr:Python[Python] -->|runs on<br>operating system| dbr:win[Windows] & dbr:linux[Linux] & ...\n",
    "  dbr:gvr -->|born| dbr:nl[Netherlands]\n",
    "end\n",
    "\n",
    "```"
   ]
  },
  {
   "cell_type": "markdown",
   "id": "163552d4",
   "metadata": {
    "slideshow": {
     "slide_type": "subslide"
    }
   },
   "source": [
    "----\n",
    "\n",
    "Another example is the Python encyclopedia voice of Wikidata:"
   ]
  },
  {
   "cell_type": "markdown",
   "id": "456c638d",
   "metadata": {},
   "source": [
    "```mermaid\n",
    "graph LR\n",
    "subgraph wikidata[WikiData]\n",
    "  wd:Q30942[Guido van Rossum] ---|developer| wd:Q28865[Python]\n",
    "  wd:Q16402[Monty Python] ---|named after| wd:Q28865\n",
    "end\n",
    "```"
   ]
  },
  {
   "cell_type": "markdown",
   "id": "2f822d16",
   "metadata": {
    "slideshow": {
     "slide_type": "subslide"
    }
   },
   "source": [
    "----\n",
    "\n",
    "## Knowledge and Graphs: The Semantic Web\n",
    "\n",
    "We can use further knowledge - using exisiting cross-references\n",
    "between Dbpedia and Wikidata,\n",
    "or using our own knowledge - to connect the two graphs together."
   ]
  },
  {
   "cell_type": "markdown",
   "id": "26d85cc9",
   "metadata": {},
   "source": [
    "```mermaid\n",
    "graph LR\n",
    "\n",
    "subgraph dbpedia[DBpedia]\n",
    "  dbr:Python[Python] -->|designer| dbr:gvr[Guido van Rossum]\n",
    "  dbr:Python[Python] -->|runs on<br>operating System| dbr:win[Windows] & dbr:linux[Linux] & ...\n",
    "  dbr:gvr -->|born| dbr:nl[Netherlands]\n",
    "end\n",
    "\n",
    "\n",
    "subgraph wikidata[WikiData]\n",
    "  wd:Q30942[Guido van Rossum] ---|developer| wd:Q28865[Python]\n",
    "  wd:Q16402[Monty Python] ---|named after| wd:Q28865\n",
    "end\n",
    "\n",
    "wd:Q28865 -.-|same as| dbr:Python\n",
    "wd:Q30942 -.-|same as| dbr:gvr\n",
    "```"
   ]
  },
  {
   "cell_type": "markdown",
   "id": "b3fe6f6a",
   "metadata": {},
   "source": [
    "This is the basis of the Semantic Web,\n",
    "where knowledge is represented in a machine-readable format.\n",
    "\n",
    "But it is also the basis of the Web itself\n",
    "(e.g., see [Web Linking RFC 8288](https://datatracker.ietf.org/doc/html/rfc8288))."
   ]
  },
  {
   "cell_type": "markdown",
   "id": "8c5bbca0",
   "metadata": {
    "slideshow": {
     "slide_type": "subslide"
    }
   },
   "source": [
    "----\n",
    "\n",
    "## RDF: Machine Readable Knowledge\n",
    "\n",
    "Encyclopedia voices on Wikipedia and dbpedia are expressed in\n",
    "[Resource Description Framework (RDF)](https://www.w3.org/TR/rdf11-primer/).\n",
    "\n",
    "It is a W3C formal language to\n",
    "represent knowledge on the web\n",
    "in a machine-readable format\n",
    "using triples subject-predicate-object.\n",
    "\n",
    "RDF has different serialization formats,\n",
    "such as [Turtle](https://www.w3.org/TR/turtle/),\n",
    "[JSON-LD](https://json-ld.org/),\n",
    "and [XML](https://www.w3.org/TR/rdf-syntax-grammar/).\n",
    "\n",
    "We'll use the Turtle format in this course,\n",
    "where a sentence is expressed as a tripe:\n",
    "\n",
    "`subject predicate object .`\n",
    "\n",
    ":exclamation: note the dot at the end of the sentence :exclamation:"
   ]
  },
  {
   "cell_type": "markdown",
   "id": "6fc063e7",
   "metadata": {
    "slideshow": {
     "slide_type": "subslide"
    }
   },
   "source": [
    "----\n",
    "\n",
    "## RDF: Machine Readable Knowledge\n",
    "\n",
    "RDF uses [URIs](https://www.w3.org/TR/rdf11-concepts/#section-uris)\n",
    "to disambiguate the meaning of terms and provide semantics.\n",
    "\n",
    "Every term is identified by an absolute URI enclosed by `<>`.\n",
    "\n",
    "The prefix identifies the source of the term definition\n",
    "(that we'll call **vocabulary**),\n",
    "and the suffix identifies the term."
   ]
  },
  {
   "cell_type": "code",
   "execution_count": null,
   "id": "bd5c4cb6",
   "metadata": {},
   "outputs": [],
   "source": [
    "from rdflib import URIRef\n",
    "dog_uri = URIRef(\"https://dbpedia.org/data/Dog\")\n",
    "print(dog_uri.n3())"
   ]
  },
  {
   "cell_type": "markdown",
   "id": "d7cca836",
   "metadata": {},
   "source": [
    "RDF is based on:\n",
    "\n",
    "- **elements** (IRIs, blank nodes and literals);\n",
    "- **triples** (subject-predicate-object);\n",
    "- **graphs** (sets of triples).\n",
    "- **vocabularies** (graphs containing terms and their definitions).\n",
    "\n",
    "### Elements\n",
    "\n",
    "Subjects and predicates are uniquely identified by URIs.\n",
    "\n",
    "Objects can be either URIs or literals (strings, numbers, dates, etc.)."
   ]
  },
  {
   "cell_type": "code",
   "execution_count": null,
   "id": "c955f267",
   "metadata": {},
   "outputs": [],
   "source": [
    "from rdflib import URIRef, Literal, BNode\n",
    "\n",
    "iri = URIRef(\"mailto:mr@test\")\n",
    "predicate_iri = URIRef(\"https://schema.org/name\")\n",
    "blank_node = BNode(\"anon\")\n",
    "literal = Literal(\"Mario Rossi\")\n",
    "\n",
    "# Serialize in the N3 format\n",
    "# (Notation 3 is a compact, human-readable format for RDF)\n",
    "print(iri.n3(),  blank_node.n3(), literal.n3(), sep=\"\\n\")"
   ]
  },
  {
   "cell_type": "markdown",
   "id": "3e612c73",
   "metadata": {},
   "source": [
    "#### Exercise: RDF elements\n",
    "\n",
    "In the cell below, create a literal with the following values\n",
    "and look at its [Notation 3 (N3)](https://www.w3.org/TeamSubmission/n3/) serialization.\n",
    "\n",
    "- `42` (integer), `42.0` (float), `\"42\"` (string);\n",
    "- `datetime.now()` (date);"
   ]
  },
  {
   "cell_type": "code",
   "execution_count": null,
   "id": "30a86d33",
   "metadata": {},
   "outputs": [],
   "source": [
    "from datetime import datetime\n",
    "...\n",
    "for value in (42, 42.0, \"42\", datetime.now()):\n",
    "    literal = Literal(value)\n",
    "    print(literal.n3())"
   ]
  },
  {
   "cell_type": "markdown",
   "id": "f0304350",
   "metadata": {},
   "source": [
    "### Triples\n",
    "\n",
    "A triple represents a statement about a resource;\n",
    "remember: the second element is the predicate!"
   ]
  },
  {
   "cell_type": "code",
   "execution_count": null,
   "id": "436fc543",
   "metadata": {},
   "outputs": [],
   "source": [
    "triple = (iri, predicate_iri, literal)\n",
    "print(triple)"
   ]
  },
  {
   "cell_type": "markdown",
   "id": "4748f21d",
   "metadata": {},
   "source": [
    "Another triple serialized in the N3 format:"
   ]
  },
  {
   "cell_type": "code",
   "execution_count": null,
   "id": "91ccd8fb",
   "metadata": {},
   "outputs": [],
   "source": [
    "sentences = \"\"\"\n",
    "<https://dbpedia.org/data/Tortellini> a <https://dbpedia.org/ontology/Food> .\n",
    "\"\"\""
   ]
  },
  {
   "cell_type": "markdown",
   "id": "a40be5f5",
   "metadata": {},
   "source": [
    "The `a` keyword is a shorthand for the `rdf:type` predicate,\n",
    "which is used to indicate the type of a resource.\n",
    "\n",
    "The following statements are equivalent:"
   ]
  },
  {
   "cell_type": "code",
   "execution_count": null,
   "id": "7b978247",
   "metadata": {},
   "outputs": [],
   "source": [
    "# Serialized on multiple lines...\n",
    "same_sentences = \"\"\"\n",
    "<https://dbpedia.org/data/Tortellini>\n",
    "  <http://www.w3.org/1999/02/22-rdf-syntax-ns#type>\n",
    "  <https://dbpedia.org/ontology/Food>\n",
    ".\n",
    "\"\"\""
   ]
  },
  {
   "cell_type": "markdown",
   "id": "d6018db7",
   "metadata": {},
   "source": [
    "### Graphs\n",
    "\n",
    "A graph is a set of triples."
   ]
  },
  {
   "cell_type": "code",
   "execution_count": null,
   "id": "e6e170cc",
   "metadata": {},
   "outputs": [],
   "source": [
    "from rdflib import Graph\n",
    "g = Graph()\n",
    "g.add(triple)\n",
    "print(g.serialize(format=\"turtle\"))"
   ]
  },
  {
   "cell_type": "markdown",
   "id": "1c58b278",
   "metadata": {},
   "source": [
    "----"
   ]
  },
  {
   "cell_type": "code",
   "execution_count": null,
   "id": "a9eb7fdb",
   "metadata": {},
   "outputs": [],
   "source": [
    "# Create a new graph and parse the above sentences.\n",
    "g = Graph()\n",
    "g.parse(data=sentences, format=\"turtle\")\n",
    "\n",
    "print(*g, sep=\"\\n\")"
   ]
  },
  {
   "cell_type": "markdown",
   "id": "0d8d3740",
   "metadata": {},
   "source": [
    "💪 Exercise: parse sentences\n",
    "\n",
    "Parse the `same_sentences` variable\n",
    "and check the content of the graph."
   ]
  },
  {
   "cell_type": "markdown",
   "id": "dee942f3",
   "metadata": {
    "slideshow": {
     "slide_type": "subslide"
    }
   },
   "source": [
    "----\n",
    "\n",
    "We can also represent the same sentence in JSON-LD."
   ]
  },
  {
   "cell_type": "code",
   "execution_count": null,
   "id": "0eb10f30",
   "metadata": {},
   "outputs": [],
   "source": [
    "json_text = g.serialize(format=\"application/ld+json\")\n",
    "print(json_text)"
   ]
  },
  {
   "cell_type": "markdown",
   "id": "813b2528",
   "metadata": {},
   "source": [
    "💪 Exercise: take 2 minutes to map the JSON-LD format to the Turtle format.\n",
    "\n",
    "We'll see JSON-LD in detail later."
   ]
  },
  {
   "cell_type": "markdown",
   "id": "bddba0fb",
   "metadata": {
    "slideshow": {
     "slide_type": "slide"
    }
   },
   "source": [
    "---\n",
    "\n",
    "## Graphs: Namespaces and cURIe\n",
    "\n",
    "RDF use namespace prefixes to shorten URIs\n",
    "(the [cURIe](https://www.w3.org/TR/curie/) syntax)."
   ]
  },
  {
   "cell_type": "code",
   "execution_count": null,
   "id": "af600937",
   "metadata": {},
   "outputs": [],
   "source": [
    "sentences = \"\"\"\n",
    "# The @prefix directive defines a namespace prefix\n",
    "@prefix dbr: <http://dbpedia.org/resource/> .\n",
    "@prefix dbo: <http://dbpedia.org/ontology/> .\n",
    "\n",
    "dbr:Tortellini a dbo:Food .\n",
    "\"\"\"\n",
    "\n",
    "g1 = Graph()\n",
    "g1.parse(data=sentences, format=\"turtle\")\n",
    "print(*g1, sep=\"\\n\")"
   ]
  },
  {
   "cell_type": "code",
   "execution_count": null,
   "id": "48592687",
   "metadata": {},
   "outputs": [],
   "source": [
    "# Get the namespaces used in the g1 graph.\n",
    "g1_ns = set(g1.namespaces())\n",
    "print(*g1_ns, sep=\"\\n\")"
   ]
  },
  {
   "cell_type": "code",
   "execution_count": null,
   "id": "d82a5554",
   "metadata": {},
   "outputs": [],
   "source": [
    "# Expand an entry using predefined namespaces.\n",
    "g1.namespace_manager.expand_curie(\"dbr:Lasagne\")"
   ]
  },
  {
   "cell_type": "markdown",
   "id": "738c88e1",
   "metadata": {
    "slideshow": {
     "slide_type": "subslide"
    }
   },
   "source": [
    "----\n",
    "\n",
    "Another vocabulary could provide a different definition for the same term.\n",
    ":warning: URI could not always be human-readable."
   ]
  },
  {
   "cell_type": "code",
   "execution_count": null,
   "id": "12ac43f4",
   "metadata": {},
   "outputs": [],
   "source": [
    "from rdflib import URIRef\n",
    "wikidata_python = URIRef(\"https://www.wikidata.org/wiki/Q28865\")\n",
    "\n",
    "wikidata_python"
   ]
  },
  {
   "cell_type": "markdown",
   "id": "f3277198",
   "metadata": {
    "slideshow": {
     "slide_type": "subslide"
    }
   },
   "source": [
    "----\n",
    "\n",
    "Let's express the following English definition in RDF:\n",
    "\n",
    "> Tortellini are a typical Italian food,\n",
    "> <br>made with pasta filled with meat such as prosciutto.\n",
    "\n",
    "We must use different sentences,\n",
    "and we'll express a generic relationship\n",
    "with the `dbo:WikiPageWikiLink`\n",
    "predicate."
   ]
  },
  {
   "cell_type": "code",
   "execution_count": null,
   "id": "891b1d9b",
   "metadata": {},
   "outputs": [],
   "source": [
    "sentences = \"\"\"\n",
    "@prefix : <http://dbpedia.org/resource/> .\n",
    "@prefix dbp: <http://dbpedia.org/property/> .\n",
    "@prefix dbo: <http://dbpedia.org/ontology/> .\n",
    "\n",
    ":Tortellini a          dbo:Food .\n",
    ":Tortellini dbp:country   :Italy .\n",
    ":Tortellini dbo:WikiPageWikiLink :Prosciutto .\n",
    ":Meat       dbo:WikiPageWikiLink :Prosciutto .\n",
    "\"\"\""
   ]
  },
  {
   "cell_type": "markdown",
   "id": "7f6a5b1b",
   "metadata": {},
   "source": [
    "#### Exercise: parse the sentences using rdflib and answer the following questions\n",
    "\n",
    "- how many sentences are there?\n",
    "- how many subjects are there?\n",
    "- how many namespaces are there?"
   ]
  },
  {
   "cell_type": "code",
   "execution_count": null,
   "id": "95d0cb83",
   "metadata": {},
   "outputs": [],
   "source": [
    "from rdflib import Graph\n",
    "\n",
    "tortellini = Graph()\n",
    "\n",
    "# Use this cell for the exercise"
   ]
  },
  {
   "cell_type": "markdown",
   "id": "42d42bb6",
   "metadata": {},
   "source": [
    "#### Exercise: use `Graph.namespaces` to get the namespaces added by the sentences above"
   ]
  },
  {
   "cell_type": "code",
   "execution_count": null,
   "id": "42e81a6d",
   "metadata": {},
   "outputs": [],
   "source": [
    "from rdflib import Graph\n",
    "\n",
    "default_ns = set(Graph().namespaces())\n",
    "\n",
    "# Use this cell for the exercise"
   ]
  },
  {
   "cell_type": "markdown",
   "id": "3f6bbded",
   "metadata": {},
   "source": [
    "#### Exercise: serialize the above graph in JSON-LD format"
   ]
  },
  {
   "cell_type": "code",
   "execution_count": null,
   "id": "483a739c",
   "metadata": {},
   "outputs": [],
   "source": [
    "# Use this cell for the exercise\n",
    "tortellini_jsonld = ..."
   ]
  },
  {
   "cell_type": "markdown",
   "id": "a016d2bc",
   "metadata": {},
   "source": [
    "#### Exercise: Load the JSON-LD object in a variable\n",
    "\n",
    "- What's the type and len of the serialized object?\n",
    "- What's in the first element of the serialized object?"
   ]
  },
  {
   "cell_type": "code",
   "execution_count": null,
   "id": "ffd2ba02",
   "metadata": {},
   "outputs": [],
   "source": [
    "import json\n",
    "\n",
    "# Use this cell for the exercise\n",
    "..."
   ]
  },
  {
   "cell_type": "markdown",
   "id": "0e90f43a",
   "metadata": {},
   "source": [
    "#### Exercise: Get a voice from dbpedia\n",
    "\n",
    "Now, let's get the actual voice from dbpedia."
   ]
  },
  {
   "cell_type": "code",
   "execution_count": null,
   "id": "374313b0",
   "metadata": {},
   "outputs": [],
   "source": [
    "# Get a voice from dbpedia using rdflib\n",
    "from rdflib import Graph\n",
    "tortellini_url = \"https://dbpedia.org/data/Tortellini.n3\"\n",
    "tortellini_n3 = Path(\"Tortellini.n3\")\n",
    "\n",
    "# What are Tortellini?\n",
    "g = Graph()\n",
    "g.parse(tortellini_url, format=\"turtle\")"
   ]
  },
  {
   "cell_type": "markdown",
   "id": "66fec365",
   "metadata": {},
   "source": [
    "We get a graph with the information about Tortellini."
   ]
  },
  {
   "cell_type": "markdown",
   "id": "c0652921",
   "metadata": {},
   "source": [
    "```mermaid\n",
    "graph LR\n",
    "  subgraph dbpedia[DBpedia]\n",
    "    dbr:Tortellini[Tortellini] -->|is a| dbo:Food[Food]\n",
    "    dbr:Tortellini -->|related to| dbr:Prosciutto[Prosciutto]\n",
    "    dbr:Tortellini -->|country| dbp:Italy[Italy]\n",
    "    ...\n",
    "  end\n",
    "```"
   ]
  },
  {
   "cell_type": "markdown",
   "id": "8c44ca33",
   "metadata": {},
   "source": [
    "An encyclopedia voice contains a list of sentences :)"
   ]
  },
  {
   "cell_type": "code",
   "execution_count": null,
   "id": "d9d4e83b",
   "metadata": {},
   "outputs": [],
   "source": [
    "# List all the details about Tortellini.\n",
    "sentences = list(g)\n",
    "excerpt = sentences[0:15]\n",
    "print(*[str(s) for s in excerpt], sep=\"\\n\")"
   ]
  },
  {
   "cell_type": "markdown",
   "id": "ab4d3e37",
   "metadata": {},
   "source": [
    "#### Exercise: counting sentences\n",
    "\n",
    "- how many sentences are there?\n",
    "- how many elements does each sentence have?"
   ]
  },
  {
   "cell_type": "code",
   "execution_count": null,
   "id": "4bf62b6d",
   "metadata": {},
   "outputs": [],
   "source": [
    "# Use this cell for the exercise"
   ]
  },
  {
   "cell_type": "markdown",
   "id": "555d19f3",
   "metadata": {},
   "source": [
    "----"
   ]
  },
  {
   "cell_type": "code",
   "execution_count": null,
   "id": "e52b8f0a",
   "metadata": {},
   "outputs": [],
   "source": [
    "from rdflib.namespace import RDF, RDFS, FOAF\n",
    "\n",
    "# Now we get specific properties from the graph.\n",
    "_type = list(g.objects(predicate=RDF.type))\n",
    "print(_type)"
   ]
  },
  {
   "cell_type": "code",
   "execution_count": null,
   "id": "89cf1937",
   "metadata": {},
   "outputs": [],
   "source": [
    "import tools\n",
    "tools.plot_graph(g, limit=30)"
   ]
  },
  {
   "cell_type": "markdown",
   "id": "7837f98d",
   "metadata": {},
   "source": [
    "#### Exercise: extending graphs\n",
    "\n",
    "There's plenty of knowledge in the web!"
   ]
  },
  {
   "cell_type": "code",
   "execution_count": null,
   "id": "3d916269",
   "metadata": {},
   "outputs": [],
   "source": [
    "from rdflib import Graph\n",
    "from rdflib.namespace import RDFS\n",
    "\n",
    "tortellini_url = \"https://dbpedia.org/data/Tortellini.n3\"\n",
    "tortellini_n3 = Path(\"Tortellini.n3\")\n",
    "\n",
    "g = Graph()\n",
    "g.parse(tortellini_n3, format=\"n3\")\n",
    "tools.plot_graph(g, limit=30, pattern=\".*/dbpedia.org\")"
   ]
  },
  {
   "cell_type": "markdown",
   "id": "de506ca2",
   "metadata": {},
   "source": [
    "And we can connect them together"
   ]
  },
  {
   "cell_type": "code",
   "execution_count": null,
   "id": "dffe502f",
   "metadata": {},
   "outputs": [],
   "source": [
    "tagliatelle_url = \"https://dbpedia.org/data/Tagliatelle.n3\"\n",
    "tagliatelle_n3 = Path(\"Tagliatelle.n3\")\n",
    "# Extend our graph\n",
    "g.parse(tagliatelle_n3, format=\"n3\")"
   ]
  },
  {
   "cell_type": "markdown",
   "id": "f8b0924d",
   "metadata": {},
   "source": [
    "Exercise: how many sentences are there now?"
   ]
  },
  {
   "cell_type": "code",
   "execution_count": null,
   "id": "78e379ab",
   "metadata": {},
   "outputs": [],
   "source": [
    "# Use this cell for the exercise"
   ]
  },
  {
   "cell_type": "markdown",
   "id": "4de868a1",
   "metadata": {},
   "source": [
    "Plot the graph again to see the new nodes and\n",
    "their relations."
   ]
  },
  {
   "cell_type": "code",
   "execution_count": null,
   "id": "c04e88f3",
   "metadata": {},
   "outputs": [],
   "source": [
    "import tools\n",
    "tools.plot_graph(g, label_property=RDFS.label, limit=50, pattern=\".*/dbpedia.org\")"
   ]
  }
 ],
 "metadata": {},
 "nbformat": 4,
 "nbformat_minor": 5
}
