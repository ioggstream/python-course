{
 "cells": [
  {
   "cell_type": "markdown",
   "id": "6c0cebd0",
   "metadata": {},
   "source": [
    "# Knowledge Management 101\n",
    "\n",
    "## Agenda\n",
    "\n",
    "- Knowledge management\n",
    "- Semantics what?\n",
    "- Triples & co\n",
    "- Attaching semantics\n",
    "- Graph databases\n",
    "- JsonLD\n",
    "\n",
    "*Beware*: commands may contain small typos. You have to fix them to properly complete the course!"
   ]
  },
  {
   "cell_type": "markdown",
   "id": "317e4a06",
   "metadata": {
    "slideshow": {
     "slide_type": "subslide"
    }
   },
   "source": [
    "----\n",
    "\n",
    "Prerequisites:\n",
    "\n",
    "- json, yaml, xmlschema\n",
    "- HTTP, OpenAPI 3\n",
    "- SQL and database hints"
   ]
  },
  {
   "cell_type": "markdown",
   "id": "ac448d11",
   "metadata": {
    "slideshow": {
     "slide_type": "slide"
    }
   },
   "source": [
    "---\n",
    "\n",
    "## Intro: What is knowledge?\n",
    "\n",
    "Knowledge is a set of information that is useful for a given purpose.\n",
    "\n",
    "We express knowledge through language and symbols\n",
    "in various forms: text, images, and sounds.\n",
    "\n",
    "To use knowledge we need to:\n",
    "\n",
    "- sense;\n",
    "- interpret;\n",
    "- understand.\n",
    "\n",
    "When reading a book, we need to:\n",
    "\n",
    "- read and understand the words,\n",
    "- interpret the meaning of the sentences and paragraphs;\n",
    "- understand the meaning of the text as a whole.\n",
    "\n",
    "This requires an awareness of the context\n",
    "and our previous knowledge."
   ]
  },
  {
   "cell_type": "markdown",
   "id": "f5849f22",
   "metadata": {
    "slideshow": {
     "slide_type": "subslide"
    }
   },
   "source": [
    "----\n",
    "\n",
    "## Intro: The Encyclopedia\n",
    "\n",
    "The Encyclopedia was one of the first attempts to organize knowledge,\n",
    "and to make it available to the public.\n",
    "\n",
    "Encyclopedia voices can be basically seen as a collection of sentences,\n",
    "each of the form"
   ]
  },
  {
   "cell_type": "markdown",
   "id": "67c1ae18",
   "metadata": {},
   "source": [
    "```mermaid\n",
    "graph LR\n",
    "subject((subject)) --- predicate(predicate) --> object\n",
    "```"
   ]
  },
  {
   "cell_type": "markdown",
   "id": "de27c373",
   "metadata": {
    "slideshow": {
     "slide_type": "subslide"
    }
   },
   "source": [
    "----\n",
    "\n",
    "For example, an hypotetical Python encyclopedia voice\n",
    "could be:\n",
    "\n",
    "> Python is a programming language\n",
    "> <br> designed by Guido van Rossum and\n",
    "> <br> named after the Monty Python comedy group."
   ]
  },
  {
   "cell_type": "markdown",
   "id": "86b246c9",
   "metadata": {
    "slideshow": {
     "slide_type": "subslide"
    }
   },
   "source": [
    "----\n",
    "\n",
    "### We can represent this text as a graph\n",
    "\n",
    "💡 The object of a sentece\n",
    "can be the subject of another sentence."
   ]
  },
  {
   "cell_type": "markdown",
   "id": "c3d57b8b",
   "metadata": {},
   "source": [
    "```mermaid\n",
    "graph LR\n",
    "python[Python] -->|is a| programming_language[programming language]\n",
    "python -->|designed by| gvr[Guido van Rossum]\n",
    "python -->|named after| monty_python[Monty Python]\n",
    "monty_python -->|is a| comedy_group[comedy group]\n",
    "```"
   ]
  },
  {
   "cell_type": "markdown",
   "id": "325b98d0",
   "metadata": {
    "slideshow": {
     "slide_type": "subslide"
    }
   },
   "source": [
    "----\n",
    "\n",
    "Today, we have various encyclopedias on the web,\n",
    "such as Wikipedia and dbpedia.\n",
    "\n",
    "Exercise:\n",
    "\n",
    "1. open the \"Python\" page on dbpedia:\n",
    "\n",
    "   - <https://dbpedia.org/page/Python_(programming_language)>\n",
    "\n",
    "   and on Wikidata:\n",
    "\n",
    "   - <https://www.wikidata.org/wiki/Q28865>\n",
    "\n",
    "2. note that in both sites every\n",
    "   piece of information is expressed in couples\n",
    "   such as \"predicate\" and \"object\".\n",
    "\n",
    "3. navigate those pages and\n",
    "   click on the links to see how\n",
    "   the information is organized."
   ]
  },
  {
   "cell_type": "markdown",
   "id": "58879158",
   "metadata": {
    "slideshow": {
     "slide_type": "subslide"
    }
   },
   "source": [
    "----\n",
    "\n",
    "Since we can represent sentences as graphs,\n",
    "it is natural to represent and organize knowledge\n",
    "in a graph structure,\n",
    "where each node is a concept and the edges are the relationships between them.\n",
    "\n",
    "Here is an excerpt from the Python encyclopedia voice of Dbpedia:"
   ]
  },
  {
   "cell_type": "markdown",
   "id": "96d18c15",
   "metadata": {},
   "source": [
    "```mermaid\n",
    "graph LR\n",
    "\n",
    "subgraph dbpedia[DBpedia]\n",
    "  dbr:Python[Python] -->|designer| dbr:gvr[Guido van Rossum]\n",
    "  dbr:Python[Python] -->|runs on<br>operating system| dbr:win[Windows] & dbr:linux[Linux] & ...\n",
    "  dbr:gvr -->|born| dbr:nl[Netherlands]\n",
    "end\n",
    "\n",
    "```"
   ]
  },
  {
   "cell_type": "markdown",
   "id": "619a22be",
   "metadata": {
    "slideshow": {
     "slide_type": "subslide"
    }
   },
   "source": [
    "----\n",
    "\n",
    "Another example is the Python encyclopedia voice of Wikidata:"
   ]
  },
  {
   "cell_type": "markdown",
   "id": "f5009e33",
   "metadata": {},
   "source": [
    "```mermaid\n",
    "graph LR\n",
    "subgraph wikidata[WikiData]\n",
    "  wd:Q30942[Guido van Rossum] ---|developer| wd:Q28865[Python]\n",
    "  wd:Q16402[Monty Python] ---|named after| wd:Q28865\n",
    "end\n",
    "```"
   ]
  },
  {
   "cell_type": "markdown",
   "id": "59014297",
   "metadata": {
    "slideshow": {
     "slide_type": "slide"
    }
   },
   "source": [
    "---\n",
    "\n",
    "### The Semantic Web\n",
    "\n",
    "We can use further knowledge - using exisiting cross-references\n",
    "between Dbpedia and Wikidata,\n",
    "or using our own knowledge"
   ]
  },
  {
   "cell_type": "markdown",
   "id": "a7e859ba",
   "metadata": {},
   "source": [
    "-\n",
    "to connect the two graphs together."
   ]
  },
  {
   "cell_type": "markdown",
   "id": "964b91de",
   "metadata": {},
   "source": [
    "```mermaid\n",
    "graph LR\n",
    "\n",
    "subgraph dbpedia[DBpedia]\n",
    "  dbr:Python[Python] -->|designer| dbr:gvr[Guido van Rossum]\n",
    "  dbr:Python[Python] -->|runs on<br>operating System| dbr:win[Windows] & dbr:linux[Linux] & ...\n",
    "  dbr:gvr -->|born| dbr:nl[Netherlands]\n",
    "end\n",
    "\n",
    "\n",
    "subgraph wikidata[WikiData]\n",
    "  wd:Q30942[Guido van Rossum] ---|developer| wd:Q28865[Python]\n",
    "  wd:Q16402[Monty Python] ---|named after| wd:Q28865\n",
    "end\n",
    "\n",
    "wd:Q28865 -.-|same as| dbr:Python\n",
    "wd:Q30942 -.-|same as| dbr:gvr\n",
    "```"
   ]
  },
  {
   "cell_type": "markdown",
   "id": "b85cf17e",
   "metadata": {},
   "source": [
    "This is the basis of the Semantic Web,\n",
    "where knowledge is represented in a machine-readable format.\n",
    "\n",
    "But it is also the basis of the Web itself\n",
    "(e.g., see [Web Linking RFC 8288](https://datatracker.ietf.org/doc/html/rfc8288))."
   ]
  },
  {
   "cell_type": "markdown",
   "id": "c19189fb",
   "metadata": {
    "slideshow": {
     "slide_type": "subslide"
    }
   },
   "source": [
    "----\n",
    "\n",
    "## Machine readable sentences and RDF\n",
    "\n",
    "Encyclopedia voices on Wikipedia and dbpedia are expressed in\n",
    "[Resource Description Framework (RDF)](https://www.w3.org/TR/rdf11-primer/).\n",
    "\n",
    "It is a W3C formal language to represent knowledge in a machine-readable format\n",
    "using triples subject-predicate-object.\n",
    "\n",
    "RDF has different serialization formats,\n",
    "such as [Turtle](https://www.w3.org/TR/turtle/),\n",
    "[JSON-LD](https://json-ld.org/),\n",
    "and [XML](https://www.w3.org/TR/rdf-syntax-grammar/).\n",
    "\n",
    "We'll use the Turtle format in this course,\n",
    "where a sentence is expressed as a"
   ]
  },
  {
   "cell_type": "code",
   "execution_count": null,
   "id": "f329a915",
   "metadata": {
    "attributes": {
     "classes": [
      "text"
     ],
     "id": ""
    }
   },
   "outputs": [],
   "source": [
    "subject predicate object ."
   ]
  },
  {
   "cell_type": "markdown",
   "id": "ea50f61e",
   "metadata": {},
   "source": [
    ":exclamation: note the dot at the end of the sentence :exclamation:"
   ]
  },
  {
   "cell_type": "code",
   "execution_count": null,
   "id": "d6b02f62",
   "metadata": {},
   "outputs": [],
   "source": [
    "# rdflib is a python library to work with RDF.\n",
    "%pip install rdflib"
   ]
  },
  {
   "cell_type": "markdown",
   "id": "61ef02cf",
   "metadata": {
    "slideshow": {
     "slide_type": "subslide"
    }
   },
   "source": [
    "----\n",
    "\n",
    "Subjects and predicates are uniquely identified by [URIs](https://www.w3.org/TR/rdf11-concepts/#section-uris).\n",
    "\n",
    "Objects can be either URIs or literals (strings, numbers, dates, etc.).\n",
    "\n",
    "URIs provide a definition context for subjects and predicates,\n",
    "and allow to disambiguate their meaning depending on the\n",
    "definition provided by a given vocabulary.\n",
    "\n",
    "Every term is identified by an absolute URI\n",
    "enclosed by `<>`."
   ]
  },
  {
   "cell_type": "code",
   "execution_count": null,
   "id": "e53c2438",
   "metadata": {},
   "outputs": [],
   "source": [
    "sentences = \"\"\"\n",
    "<https://dbpedia.org/data/Tortellini> a <https://dbpedia.org/ontology/Food> .\n",
    "\"\"\""
   ]
  },
  {
   "cell_type": "markdown",
   "id": "3b95a23b",
   "metadata": {
    "slideshow": {
     "slide_type": "subslide"
    }
   },
   "source": [
    "----\n",
    "\n",
    "Let's parse our first RDF sentence using the [rdflib](https://rdflib.readthedocs.io/en/stable/) library."
   ]
  },
  {
   "cell_type": "code",
   "execution_count": null,
   "id": "c6889c23",
   "metadata": {},
   "outputs": [],
   "source": [
    "from rdflib import Graph\n",
    "\n",
    "g = Graph()\n",
    "g.parse(data=sentences, format=\"turtle\")\n",
    "\n",
    "print(*g, sep=\"\\n\")"
   ]
  },
  {
   "cell_type": "markdown",
   "id": "8b939ea7",
   "metadata": {
    "slideshow": {
     "slide_type": "subslide"
    }
   },
   "source": [
    "----\n",
    "\n",
    "We can also represent the same sentence in JSON-LD."
   ]
  },
  {
   "cell_type": "code",
   "execution_count": null,
   "id": "9a417302",
   "metadata": {},
   "outputs": [],
   "source": [
    "json_text = g.serialize(format=\"application/ld+json\")\n",
    "print(json_text)"
   ]
  },
  {
   "cell_type": "markdown",
   "id": "2c1ff074",
   "metadata": {},
   "source": [
    "Exercise: take 2 minutes to map the JSON-LD\n",
    "format to the Turtle format.\n",
    "\n",
    "We'll see JSON-LD in detail later."
   ]
  },
  {
   "cell_type": "markdown",
   "id": "18a2a7d4",
   "metadata": {
    "slideshow": {
     "slide_type": "slide"
    }
   },
   "source": [
    "---\n",
    "\n",
    "### Namespaces and cURIe\n",
    "\n",
    "RDF use namespace prefixes to shorten URIs\n",
    "(the [cURIe](https://www.w3.org/TR/curie/) syntax)."
   ]
  },
  {
   "cell_type": "code",
   "execution_count": null,
   "id": "b2881392",
   "metadata": {},
   "outputs": [],
   "source": [
    "sentences = \"\"\"\n",
    "# The @prefix directive defines a namespace prefix\n",
    "@prefix dbr: <http://dbpedia.org/resource/> .\n",
    "@prefix dbo: <http://dbpedia.org/ontology/> .\n",
    "\n",
    "dbr:Tortellini a dbo:Food .\n",
    "\"\"\"\n",
    "\n",
    "g1 = Graph()\n",
    "g1.parse(data=sentences, format=\"turtle\")\n",
    "print(*g1, sep=\"\\n\")"
   ]
  },
  {
   "cell_type": "code",
   "execution_count": null,
   "id": "793a5184",
   "metadata": {},
   "outputs": [],
   "source": [
    "# Get the namespaces used in the g1 graph.\n",
    "g1_ns = set(g1.namespaces())\n",
    "print(*g1_ns, sep=\"\\n\")"
   ]
  },
  {
   "cell_type": "code",
   "execution_count": null,
   "id": "fe68d0a2",
   "metadata": {},
   "outputs": [],
   "source": [
    "# Expand an entry using predefined namespaces.\n",
    "g1.namespace_manager.expand_curie(\"dbr:Lasagne\")"
   ]
  },
  {
   "cell_type": "markdown",
   "id": "4fd5071f",
   "metadata": {
    "slideshow": {
     "slide_type": "subslide"
    }
   },
   "source": [
    "----\n",
    "\n",
    "Another vocabulary could provide a different definition for the same term.\n",
    ":warning: URI could not always be human-readable."
   ]
  },
  {
   "cell_type": "code",
   "execution_count": null,
   "id": "dfad6b99",
   "metadata": {},
   "outputs": [],
   "source": [
    "from rdflib import URIRef\n",
    "wikidata_python = URIRef(\"https://www.wikidata.org/wiki/Q28865\")\n",
    "\n",
    "wikidata_python"
   ]
  },
  {
   "cell_type": "markdown",
   "id": "c8aa7992",
   "metadata": {
    "slideshow": {
     "slide_type": "subslide"
    }
   },
   "source": [
    "----\n",
    "\n",
    "Let's express the following English definition in RDF:\n",
    "\n",
    "> Tortellini are a typical Italian food,\n",
    "> <br>made with pasta filled with meat such as prosciutto.\n",
    "\n",
    "We must use different sentences,\n",
    "and we'll express a generic relationship\n",
    "with the `dbo:WikiPageWikiLink`\n",
    "predicate."
   ]
  },
  {
   "cell_type": "code",
   "execution_count": null,
   "id": "fba92595",
   "metadata": {},
   "outputs": [],
   "source": [
    "sentences = \"\"\"\n",
    "@prefix : <http://dbpedia.org/resource/> .\n",
    "@prefix dbp: <http://dbpedia.org/property/> .\n",
    "@prefix dbo: <http://dbpedia.org/ontology/> .\n",
    "\n",
    ":Tortellini a          dbo:Food .\n",
    ":Tortellini dbp:country   :Italy .\n",
    ":Tortellini dbo:WikiPageWikiLink :Prosciutto .\n",
    ":Meat       dbo:WikiPageWikiLink :Prosciutto .\n",
    "\"\"\""
   ]
  },
  {
   "cell_type": "markdown",
   "id": "1b924453",
   "metadata": {},
   "source": [
    "#### Exercise: parse the sentences using rdflib and answer the following questions:\n",
    "\n",
    "- how many sentences are there?\n",
    "- how many subjects are there?\n",
    "- how many namespaces are there?"
   ]
  },
  {
   "cell_type": "code",
   "execution_count": null,
   "id": "139d6dbf",
   "metadata": {},
   "outputs": [],
   "source": [
    "from rdflib import Graph\n",
    "\n",
    "tortellini = Graph()\n",
    "\n",
    "# Use this cell for the exercise"
   ]
  },
  {
   "cell_type": "markdown",
   "id": "d6ae9735",
   "metadata": {},
   "source": [
    "#### Exercise: use `Graph.namespaces` to get the namespaces added by the sentences above"
   ]
  },
  {
   "cell_type": "code",
   "execution_count": null,
   "id": "34d27883",
   "metadata": {},
   "outputs": [],
   "source": [
    "from rdflib import Graph\n",
    "\n",
    "default_ns = set(Graph().namespaces())\n",
    "\n",
    "# Use this cell for the exercise"
   ]
  },
  {
   "cell_type": "markdown",
   "id": "4746d976",
   "metadata": {},
   "source": [
    "#### Exercise: serialize the above graph in JSON-LD format."
   ]
  },
  {
   "cell_type": "code",
   "execution_count": null,
   "id": "df027045",
   "metadata": {},
   "outputs": [],
   "source": [
    "# Use this cell for the exercise\n",
    "tortellini_jsonld = ..."
   ]
  },
  {
   "cell_type": "markdown",
   "id": "2c9d3df9",
   "metadata": {},
   "source": [
    "#### Exercise: Load the JSON-LD object in a variable\n",
    "\n",
    "- What's the type and len of the serialized object?\n",
    "- What's in the first element of the serialized object?"
   ]
  },
  {
   "cell_type": "code",
   "execution_count": null,
   "id": "f3d3225b",
   "metadata": {},
   "outputs": [],
   "source": [
    "import json\n",
    "\n",
    "# Use this cell for the exercise\n",
    "..."
   ]
  },
  {
   "cell_type": "markdown",
   "id": "47ca3fde",
   "metadata": {},
   "source": [
    "#### Exercise: Get a voice from dbpedia\n",
    "\n",
    "Now, let's get the actual voice from dbpedia."
   ]
  },
  {
   "cell_type": "code",
   "execution_count": null,
   "id": "79589093",
   "metadata": {},
   "outputs": [],
   "source": [
    "# Get a voice from dbpedia using rdflib\n",
    "from rdflib import Graph\n",
    "tortellini_url = \"https://dbpedia.org/data/Tortellini.n3\"\n",
    "tortellini_n3 = Path(\"Tortellini.n3\")\n",
    "\n",
    "# What are Tortellini?\n",
    "g = Graph()\n",
    "g.parse(tortellini_url, format=\"turtle\")"
   ]
  },
  {
   "cell_type": "markdown",
   "id": "5f729f64",
   "metadata": {},
   "source": [
    "We get a graph with the information about Tortellini."
   ]
  },
  {
   "cell_type": "markdown",
   "id": "6d418251",
   "metadata": {},
   "source": [
    "```mermaid\n",
    "graph LR\n",
    "  subgraph dbpedia[DBpedia]\n",
    "    dbr:Tortellini[Tortellini] -->|is a| dbo:Food[Food]\n",
    "    dbr:Tortellini -->|related to| dbr:Prosciutto[Prosciutto]\n",
    "    dbr:Tortellini -->|country| dbp:Italy[Italy]\n",
    "    ...\n",
    "  end\n",
    "```"
   ]
  },
  {
   "cell_type": "markdown",
   "id": "ff80ae02",
   "metadata": {},
   "source": [
    "An encyclopedia voice contains a list of sentences :)"
   ]
  },
  {
   "cell_type": "code",
   "execution_count": null,
   "id": "f0eea248",
   "metadata": {},
   "outputs": [],
   "source": [
    "# List all the details about Tortellini.\n",
    "sentences = list(g)\n",
    "excerpt = sentences[0:15]\n",
    "print(*[str(s) for s in excerpt], sep=\"\\n\")"
   ]
  },
  {
   "cell_type": "markdown",
   "id": "ebcba416",
   "metadata": {},
   "source": [
    "#### Exercise: counting sentences\n",
    "\n",
    "- how many sentences are there?\n",
    "- how many elements does each sentence have?"
   ]
  },
  {
   "cell_type": "code",
   "execution_count": null,
   "id": "2a3e74db",
   "metadata": {},
   "outputs": [],
   "source": [
    "# Use this cell for the exercise"
   ]
  },
  {
   "cell_type": "markdown",
   "id": "1163521f",
   "metadata": {},
   "source": [
    "----"
   ]
  },
  {
   "cell_type": "code",
   "execution_count": null,
   "id": "0986c9d8",
   "metadata": {},
   "outputs": [],
   "source": [
    "from rdflib.namespace import RDF, RDFS, FOAF\n",
    "\n",
    "# Now we get specific properties from the graph.\n",
    "_type = list(g.objects(predicate=RDF.type))\n",
    "print(_type)"
   ]
  },
  {
   "cell_type": "code",
   "execution_count": null,
   "id": "216d3183",
   "metadata": {},
   "outputs": [],
   "source": [
    "from tools import plot_graph\n",
    "plot_graph(g, limit=30)"
   ]
  },
  {
   "cell_type": "markdown",
   "id": "e95e61e1",
   "metadata": {},
   "source": [
    "#### Exercise: extending graphs\n",
    "\n",
    "There's plenty of knowledge in the web!"
   ]
  },
  {
   "cell_type": "code",
   "execution_count": null,
   "id": "fa92f9e9",
   "metadata": {},
   "outputs": [],
   "source": [
    "from rdflib import Graph\n",
    "from rdflib.namespace import RDFS\n",
    "\n",
    "tortellini_url = \"https://dbpedia.org/data/Tortellini.n3\"\n",
    "tortellini_n3 = Path(\"Tortellini.n3\")\n",
    "\n",
    "g = Graph()\n",
    "g.parse(tortellini_n3, format=\"n3\")\n",
    "plot_graph(g, limit=30, pattern=\".*/dbpedia.org\")"
   ]
  },
  {
   "cell_type": "markdown",
   "id": "c5439747",
   "metadata": {},
   "source": [
    "And we can connect them together"
   ]
  },
  {
   "cell_type": "code",
   "execution_count": null,
   "id": "31aca6f5",
   "metadata": {},
   "outputs": [],
   "source": [
    "tagliatelle_url = \"https://dbpedia.org/data/Tagliatelle.n3\"\n",
    "tagliatelle_n3 = Path(\"Tagliatelle.n3\")\n",
    "# Extend our graph\n",
    "g.parse(tagliatelle_n3, format=\"n3\")"
   ]
  },
  {
   "cell_type": "markdown",
   "id": "6498d647",
   "metadata": {},
   "source": [
    "Exercise: how many sentences are there now?"
   ]
  },
  {
   "cell_type": "code",
   "execution_count": null,
   "id": "3380e4d9",
   "metadata": {},
   "outputs": [],
   "source": [
    "# Use this cell for the exercise"
   ]
  },
  {
   "cell_type": "markdown",
   "id": "8be95b71",
   "metadata": {},
   "source": [
    "Plot the graph again to see the new nodes and\n",
    "their relations."
   ]
  },
  {
   "cell_type": "code",
   "execution_count": null,
   "id": "8c8c093b",
   "metadata": {},
   "outputs": [],
   "source": [
    "plot_graph(g, label_property=RDFS.label, limit=50, pattern=\".*/dbpedia.org\")"
   ]
  }
 ],
 "metadata": {},
 "nbformat": 4,
 "nbformat_minor": 5
}
