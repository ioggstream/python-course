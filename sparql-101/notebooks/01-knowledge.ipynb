{
 "cells": [
  {
   "cell_type": "markdown",
   "id": "ec60cc99",
   "metadata": {},
   "source": [
    "# Knowledge Management 101\n",
    "\n",
    "## Agenda\n",
    "\n",
    "- Knowledge management\n",
    "- Semantics what?\n",
    "- Triples & co\n",
    "- Attaching semantics\n",
    "- Graph databases\n",
    "- JsonLD\n",
    "\n",
    "*Beware*: commands may contain small typos. You have to fix them to properly complete the course!"
   ]
  },
  {
   "cell_type": "markdown",
   "id": "f80531b9",
   "metadata": {
    "slideshow": {
     "slide_type": "subslide"
    }
   },
   "source": [
    "----\n",
    "\n",
    "Prerequisites:\n",
    "\n",
    "- json, yaml, xmlschema\n",
    "- HTTP, OpenAPI 3\n",
    "- SQL and database hints"
   ]
  },
  {
   "cell_type": "markdown",
   "id": "a94b4192",
   "metadata": {
    "slideshow": {
     "slide_type": "slide"
    }
   },
   "source": [
    "---\n",
    "\n",
    "## Intro: What is knowledge?\n",
    "\n",
    "Knowledge is a set of information that is useful for a given purpose.\n",
    "\n",
    "We express knowledge through language and symbols\n",
    "in various forms: text, images, and sounds.\n",
    "\n",
    "To use knowledge we need to:\n",
    "\n",
    "- sense;\n",
    "- interpret;\n",
    "- understand.\n",
    "\n",
    "When reading a book, for example, we not only need to read and understand the words,\n",
    "but also to interpret the meaning of the sentences and paragraphs\n",
    "based on the context and our previous knowledge."
   ]
  },
  {
   "cell_type": "markdown",
   "id": "d6a1b70e",
   "metadata": {
    "slideshow": {
     "slide_type": "subslide"
    }
   },
   "source": [
    "----\n",
    "\n",
    "## Intro: The Encyclopedia\n",
    "\n",
    "The Encyclopedia was one of the first attempts to organize knowledge,\n",
    "and to make it available to the public.\n",
    "\n",
    "Encyclopedia voices can be basically seen as a collection of sentences,\n",
    "each of the form"
   ]
  },
  {
   "cell_type": "markdown",
   "id": "48ec4c28",
   "metadata": {},
   "source": [
    "```mermaid\n",
    "graph LR\n",
    "subject((subject)) --- predicate(predicate) --> object\n",
    "```"
   ]
  },
  {
   "cell_type": "markdown",
   "id": "223bf43a",
   "metadata": {
    "slideshow": {
     "slide_type": "subslide"
    }
   },
   "source": [
    "----\n",
    "\n",
    "For example, an hypotetical Python encyclopedia voice\n",
    "could be:\n",
    "\n",
    "> Python is a programming language\n",
    "> designed by Guido van Rossum and\n",
    "> named after the Monty Python comedy group."
   ]
  },
  {
   "cell_type": "markdown",
   "id": "926f08cf",
   "metadata": {
    "slideshow": {
     "slide_type": "subslide"
    }
   },
   "source": [
    "----\n",
    "\n",
    "Today, we have various encyclopedias on the web,\n",
    "such as Wikipedia and dbpedia.\n",
    "\n",
    "Exercise: open the \"Python\" page on dbpedia:\n",
    "\n",
    "- <https://dbpedia.org/page/Python_(programming_language)>\n",
    "\n",
    "And on Wikidata:\n",
    "\n",
    "- <https://www.wikidata.org/wiki/Q28865>"
   ]
  },
  {
   "cell_type": "markdown",
   "id": "d571a19c",
   "metadata": {
    "slideshow": {
     "slide_type": "subslide"
    }
   },
   "source": [
    "----\n",
    "\n",
    "## Intro: The Encyclopedia\n",
    "\n",
    "Since we can represent sentences as graphs,\n",
    "it is natural to represent and organize knowledge\n",
    "in a graph structure,\n",
    "where each node is a concept and the edges are the relationships between them."
   ]
  },
  {
   "cell_type": "markdown",
   "id": "d17be059",
   "metadata": {},
   "source": [
    "```mermaid\n",
    "graph LR\n",
    "\n",
    "subgraph dbpedia[DBpedia]\n",
    "  dbr:Python[Python] -->|designer| dbr:gvr[Guido van Rossum]\n",
    "  dbr:Python[Python] -->|operating System| dbr:win[Windows] & dbr:linux[Linux] & ...\n",
    "  dbr:gvr -->|born| dbr:nl[Netherlands]\n",
    "end\n",
    "\n",
    "subgraph wikidata[WikiData]\n",
    "  wd:Q30942[Guido van Rossum] ---|developer| wd:Q28865[Python]\n",
    "  wd:Q16402[Monty Python] ---|named after| wd:Q28865\n",
    "end\n",
    "\n",
    "wd:Q28865 -.-|same as| dbr:Python\n",
    "wd:Q30942 -.-|same as| dbr:gvr\n",
    "```"
   ]
  },
  {
   "cell_type": "markdown",
   "id": "8f365aa7",
   "metadata": {},
   "source": [
    "This is the basis of the Semantic Web,\n",
    "where knowledge is represented in a machine-readable format,\n",
    "but it is also the basis of the Web itself\n",
    "(e.g., see [Web Linking RFC 8288](https://datatracker.ietf.org/doc/html/rfc8288))."
   ]
  },
  {
   "cell_type": "markdown",
   "id": "614746d0",
   "metadata": {
    "slideshow": {
     "slide_type": "subslide"
    }
   },
   "source": [
    "----\n",
    "\n",
    "## Intro: The Encyclopedia\n",
    "\n",
    "Encyclopedia voices on Wikipedia and dbpedia are expressed in\n",
    "[Resource Description Framework (RDF)](https://www.w3.org/TR/rdf11-primer/).\n",
    "\n",
    "It is a formal language to represent knowledge in a machine-readable format\n",
    "using triples of the form"
   ]
  },
  {
   "cell_type": "code",
   "execution_count": null,
   "id": "71dd539d",
   "metadata": {
    "attributes": {
     "classes": [
      "text"
     ],
     "id": ""
    }
   },
   "outputs": [],
   "source": [
    "subject predicate object ."
   ]
  },
  {
   "cell_type": "markdown",
   "id": "f5648b6d",
   "metadata": {},
   "source": [
    ":warning: note the dot at the end of the sentence!"
   ]
  },
  {
   "cell_type": "markdown",
   "id": "5fcd6389",
   "metadata": {
    "slideshow": {
     "slide_type": "subslide"
    }
   },
   "source": [
    "----\n",
    "\n",
    "Subjects and predicates are uniquely identified by URIs,\n",
    "and objects can be either URIs or literals (strings, numbers, dates, etc.).\n",
    "\n",
    "URIs provide a definition context for subjects and predicates,\n",
    "and allow to disambiguate their meaning depending on the\n",
    "definition provided by a given vocabulary.\n",
    "\n",
    "Every term is identified by an absolute URI\n",
    "enclosed by `<>`."
   ]
  },
  {
   "cell_type": "code",
   "execution_count": null,
   "id": "2f30acb4",
   "metadata": {
    "attributes": {
     "classes": [
      "turtle"
     ],
     "id": ""
    }
   },
   "outputs": [],
   "source": [
    "<https://dbpedia.org/data/Tortellini> a <https://dbpedia.org/ontology/Food> ."
   ]
  },
  {
   "cell_type": "markdown",
   "id": "3dda6f76",
   "metadata": {},
   "source": [
    "RDF allows the use of prefixes to shorten URIs\n",
    "( the [cURIe](https://www.w3.org/TR/curie/) syntax)."
   ]
  },
  {
   "cell_type": "code",
   "execution_count": null,
   "id": "502134be",
   "metadata": {
    "attributes": {
     "classes": [
      "turtle"
     ],
     "id": ""
    }
   },
   "outputs": [],
   "source": [
    "@prefix dbr: <http://dbpedia.org/resource/> .\n",
    "@prefix dbo: <http://dbpedia.org/ontology/> .\n",
    "\n",
    "dbr:Tortellini a dbo:Food ."
   ]
  },
  {
   "cell_type": "markdown",
   "id": "c34bc031",
   "metadata": {
    "slideshow": {
     "slide_type": "subslide"
    }
   },
   "source": [
    "----\n",
    "\n",
    "Another vocabulary could provide a different definition for the same term,\n",
    "though the URI could not always be human-readable."
   ]
  },
  {
   "cell_type": "code",
   "execution_count": null,
   "id": "721a553f",
   "metadata": {},
   "outputs": [],
   "source": [
    "prefix = \"https://www.wikidata.org/wiki/\"\n",
    "term = \"Q28865\"\n",
    "uri = \"https://www.wikidata.org/wiki/Q28865\""
   ]
  },
  {
   "cell_type": "markdown",
   "id": "9e7312e1",
   "metadata": {
    "slideshow": {
     "slide_type": "subslide"
    }
   },
   "source": [
    "----\n",
    "\n",
    "Let's translate the following definition from English to RDF:\n",
    "\n",
    "> Tortellini are a typical Italian food,\n",
    "> <br>made with pasta filled with meat such as prosciutto.\n",
    "\n",
    "becomes something like"
   ]
  },
  {
   "cell_type": "code",
   "execution_count": null,
   "id": "14bc6977",
   "metadata": {
    "attributes": {
     "classes": [
      "turtle"
     ],
     "id": ""
    }
   },
   "outputs": [],
   "source": [
    "@prefix : <http://dbpedia.org/resource/> .\n",
    "@prefix dbp: <http://dbpedia.org/property/> .\n",
    "@prefix dbo: <http://dbpedia.org/ontology/> .\n",
    "\n",
    ":Tortellini a          :Food .\n",
    ":Tortellini dbp:country   dbr:Italy .\n",
    ":Tortellini dbo:WikiPageWikiLink :Prosciutto .\n",
    ":Meat       dbo:WikiPageWikiLink :Prosciutto ."
   ]
  },
  {
   "cell_type": "markdown",
   "id": "1836437c",
   "metadata": {},
   "source": [
    "## Exercise: Get a voice from dbpedia\n",
    "\n",
    "Now, let's get the actual voice from dbpedia\n",
    "using the python RDF library."
   ]
  },
  {
   "cell_type": "code",
   "execution_count": null,
   "id": "1811ff96",
   "metadata": {},
   "outputs": [],
   "source": [
    "# Get a voice from dbpedia using rdflib\n",
    "from rdflib import Graph\n",
    "\n",
    "# What's Tortellini?\n",
    "g = Graph()\n",
    "g.parse(\"https://dbpedia.org/data/Tortellini.ttl\", format=\"turtle\")"
   ]
  },
  {
   "cell_type": "markdown",
   "id": "18a932ae",
   "metadata": {},
   "source": [
    "We get a graph with the information about Tortellini."
   ]
  },
  {
   "cell_type": "markdown",
   "id": "0c0c55e6",
   "metadata": {},
   "source": [
    "```mermaid\n",
    "graph LR\n",
    "  subgraph dbpedia[DBpedia]\n",
    "    dbr:Tortellini[Tortellini] -->|is a| dbo:Food[Food]\n",
    "    dbr:Tortellini -->|related to| dbr:Prosciutto[Prosciutto]\n",
    "    dbr:Tortellini -->|country| dbp:Italy[Italy]\n",
    "    ...\n",
    "  end\n",
    "```"
   ]
  },
  {
   "cell_type": "markdown",
   "id": "57a17029",
   "metadata": {},
   "source": [
    "An encyclopedia voice contains a list of sentences :)"
   ]
  },
  {
   "cell_type": "code",
   "execution_count": null,
   "id": "83f0fd99",
   "metadata": {},
   "outputs": [],
   "source": [
    "# List all the details about Tortellini.\n",
    "sentences = list(g)\n",
    "\n",
    "print(*[str(s) for s in sentences], sep=\"\\n\")"
   ]
  },
  {
   "cell_type": "markdown",
   "id": "3786e787",
   "metadata": {},
   "source": [
    "Exercise:\n",
    "\n",
    "- how many sentences are there?\n",
    "- how many elements does each sentence have?"
   ]
  },
  {
   "cell_type": "markdown",
   "id": "7e2edb60",
   "metadata": {},
   "source": [
    "----"
   ]
  },
  {
   "cell_type": "code",
   "execution_count": null,
   "id": "8e8d55b5",
   "metadata": {},
   "outputs": [],
   "source": [
    "from rdflib.namespace import RDF, RDFS, FOAF\n",
    "\n",
    "# Now we get specific properties from the graph.\n",
    "_type = list(g.objects(predicate=RDF.type))\n",
    "print(_type)"
   ]
  },
  {
   "cell_type": "code",
   "execution_count": null,
   "id": "0da2b3f3",
   "metadata": {},
   "outputs": [],
   "source": [
    "from tools import plot_graph\n",
    "plot_graph(g, label_property=RDFS.label)"
   ]
  }
 ],
 "metadata": {},
 "nbformat": 4,
 "nbformat_minor": 5
}
