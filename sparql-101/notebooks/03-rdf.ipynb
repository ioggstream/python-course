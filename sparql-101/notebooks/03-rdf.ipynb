{
 "cells": [
  {
   "cell_type": "markdown",
   "id": "be3105d9",
   "metadata": {},
   "source": [
    "# Graph databases & SparQL\n",
    "\n",
    "## Agenda\n",
    "\n",
    "- Storing and retrieving triples\n",
    "- Virtuoso\n",
    "- GraphDB\n",
    "\n",
    "*Beware*: commands may contain small typos. You must fix them to properly complete the course!"
   ]
  },
  {
   "cell_type": "markdown",
   "id": "b7aec382",
   "metadata": {
    "slideshow": {
     "slide_type": "subslide"
    }
   },
   "source": [
    "----\n",
    "\n",
    "Prerequisites:\n",
    "\n",
    "- JSON, YAML, xmlschema\n",
    "- HTTP, OpenAPI 3\n",
    "- SQL and database hints"
   ]
  },
  {
   "cell_type": "markdown",
   "id": "acabc97c",
   "metadata": {
    "slideshow": {
     "slide_type": "slide"
    }
   },
   "source": [
    "---\n",
    "\n",
    "## Graphs (again)\n",
    "\n",
    "### RDF databases\n",
    "\n",
    "An RDF graph is an (unordered) set of triples.\n",
    "\n",
    "Each triple consists of a `subject`, `predicate`, `object`.\n",
    "\n",
    "Graph databases such as [Virtuoso (opensource)](https://virtuoso.openlinksw.com/),\n",
    "[GraphDB (proprietary)](),\n",
    "[Amazon Nepture (proprietary SaaS)]()\n",
    "store triples into graphs.\n",
    "\n",
    "They can be queried using the [SparQL]() language."
   ]
  },
  {
   "cell_type": "markdown",
   "id": "46c4b7c3",
   "metadata": {
    "slideshow": {
     "slide_type": "subslide"
    }
   },
   "source": [
    "----\n",
    "\n",
    "A sparql query retrieves all entries\n",
    "matching one or more sentences"
   ]
  },
  {
   "cell_type": "code",
   "execution_count": null,
   "id": "a2351a08",
   "metadata": {
    "attributes": {
     "classes": [
      "sparql"
     ],
     "id": ""
    }
   },
   "outputs": [],
   "source": [
    "SELECT * WHERE {\n",
    "  ?subject ?predicate ?object .\n",
    "  # ... more sentences ...\n",
    "}"
   ]
  },
  {
   "cell_type": "markdown",
   "id": "29e118a7",
   "metadata": {},
   "source": [
    "This workshop provides a non-exhaustive introduction to SparQL."
   ]
  },
  {
   "cell_type": "markdown",
   "id": "55ffbece",
   "metadata": {
    "slideshow": {
     "slide_type": "subslide"
    }
   },
   "source": [
    "----\n",
    "\n",
    "### Non-RDF databases\n",
    "\n",
    "Other databases - [Neo4j (opensource)]()\n",
    "use a different approach to represent graphs\n",
    "such as [Labeled Property Graphs](https://en.wikipedia.org/wiki/Labeled_property_graph)\n",
    "Neo4j can be queried using the [Cypher](https://neo4j.com/developer/cypher-query-language/) language.\n",
    "\n",
    "Neo4j supports RDF datasets via the Neosemantics plugin."
   ]
  },
  {
   "cell_type": "markdown",
   "id": "db9eed62",
   "metadata": {
    "slideshow": {
     "slide_type": "subslide"
    }
   },
   "source": [
    "----\n",
    "\n",
    "## rdflib backends\n",
    "\n",
    "We will simulate a graph database using\n",
    "[rdflib](https://rdflib.readthedocs.io/en/stable/index.html),\n",
    "that supports SparQL queries.\n",
    "\n",
    "rdflib supports multiple backends to parse and store triples.\n",
    "\n",
    "oxrdflib is a performant one\n",
    "based on [Oxigraph](https://github.com/oxigraph/oxigraph)."
   ]
  },
  {
   "cell_type": "code",
   "execution_count": null,
   "id": "e6f69c36",
   "metadata": {},
   "outputs": [],
   "source": [
    "%pip install oxrdflib"
   ]
  },
  {
   "cell_type": "markdown",
   "id": "22ebbe76",
   "metadata": {},
   "source": [
    "Let's test it."
   ]
  },
  {
   "cell_type": "code",
   "execution_count": null,
   "id": "15d27ec8",
   "metadata": {},
   "outputs": [],
   "source": [
    "from rdflib import Graph\n",
    "\n",
    "g = Graph()\n",
    "\n",
    "# Use the default backend.\n",
    "%time g.parse(\"countries-skos-ap-act.ttl\", format=\"text/turtle\")\n",
    "print(\"The graph contains\", len(g), \"triples.\")"
   ]
  },
  {
   "cell_type": "code",
   "execution_count": null,
   "id": "addc3bd1",
   "metadata": {},
   "outputs": [],
   "source": [
    "g=Graph(store=\"Oxigraph\")\n",
    "\n",
    "# Use the ox-turtle parser.\n",
    "%time g.parse(\"countries-skos-ap-act.ttl\", format=\"ox-turtle\")\n",
    "print(\"The graph contains\", len(g), \"triples.\")"
   ]
  },
  {
   "cell_type": "markdown",
   "id": "4f2878d5",
   "metadata": {},
   "source": [
    "See also:\n",
    "\n",
    "- <https://rdflib.readthedocs.io/en/stable/persistence.html>"
   ]
  },
  {
   "cell_type": "markdown",
   "id": "dcf69e09",
   "metadata": {
    "slideshow": {
     "slide_type": "slide"
    }
   },
   "source": [
    "---\n",
    "\n",
    "## My first SparQL query\n",
    "\n",
    "Let's create a graph\n",
    "and load into it the [European vocabulary for countries](countries.ttl).\n",
    "\n",
    "See also:\n",
    "\n",
    "- [EU Authority Tables](https://op.europa.eu/en/web/eu-vocabularies/authority-tables)"
   ]
  },
  {
   "cell_type": "code",
   "execution_count": null,
   "id": "bbaeae2d",
   "metadata": {},
   "outputs": [],
   "source": [
    "from rdflib import Graph\n",
    "\n",
    "# Let's create a graph.\n",
    "g = Graph(store=\"Oxigraph\")\n",
    "\n",
    "# And load into it the European\n",
    "# vocabulary for countries.\n",
    "g.parse(\"countries-skos-ap-act.ttl\", format=\"ox-turtle\")"
   ]
  },
  {
   "cell_type": "markdown",
   "id": "890af068",
   "metadata": {},
   "source": [
    "Now let's run our first SparQL query!"
   ]
  },
  {
   "cell_type": "code",
   "execution_count": null,
   "id": "39d66afa",
   "metadata": {},
   "outputs": [],
   "source": [
    "# List the first 3 triples.\n",
    "q = \"\"\"\n",
    "SELECT * WHERE {\n",
    "  ?subject ?predicate ?object .\n",
    "}\n",
    "LIMIT 3\n",
    "\"\"\"\n",
    "result = g.query(q)\n",
    "\n",
    "# Print it!\n",
    "for r in result:\n",
    "  print(r.asdict())"
   ]
  },
  {
   "cell_type": "markdown",
   "id": "791051c5",
   "metadata": {},
   "source": [
    "Now print the result using\n",
    "variable names."
   ]
  },
  {
   "cell_type": "code",
   "execution_count": null,
   "id": "b276b3de",
   "metadata": {},
   "outputs": [],
   "source": [
    "for r in result:\n",
    "    print(r.subject, r.predicate, r.object, sep=\"\\t\")"
   ]
  },
  {
   "cell_type": "markdown",
   "id": "27f4bfa8",
   "metadata": {},
   "source": [
    "Exercise:\n",
    "\n",
    "- Replace `?subject` with `?foo`:\n",
    "  what happens?"
   ]
  },
  {
   "cell_type": "code",
   "execution_count": null,
   "id": "6b495b56",
   "metadata": {},
   "outputs": [],
   "source": [
    "q = \"\"\"\n",
    "WRITEME!\n",
    "\"\"\"\n",
    "result = g.query(q)\n",
    "\n",
    "# Print it!\n",
    "for r in result:\n",
    "  print(r.asdict())"
   ]
  },
  {
   "cell_type": "markdown",
   "id": "651c8dec",
   "metadata": {},
   "source": [
    "- Remove the `LIMIT` clause.\n",
    "  How many triples are in the graph?"
   ]
  },
  {
   "cell_type": "code",
   "execution_count": null,
   "id": "d4fb8223",
   "metadata": {},
   "outputs": [],
   "source": [
    "# Use this cell for the exercise."
   ]
  },
  {
   "cell_type": "markdown",
   "id": "724126b3",
   "metadata": {
    "slideshow": {
     "slide_type": "slide"
    }
   },
   "source": [
    "---\n",
    "\n",
    "### Traversing the graph\n",
    "\n",
    "The Country graph contains more than countries."
   ]
  },
  {
   "cell_type": "code",
   "execution_count": null,
   "id": "e73c5658",
   "metadata": {},
   "outputs": [],
   "source": [
    "to_curie = g.namespace_manager.curie\n",
    "\n",
    "q = \"\"\"\n",
    "PREFIX country: <http://publications.europa.eu/resource/authority/country/>\n",
    "\n",
    "SELECT DISTINCT *\n",
    "WHERE {\n",
    "  country:ITA skos:narrower ?narrower .\n",
    "  ?narrower skos:prefLabel ?label .\n",
    "  FILTER (lang(?label) = \"en\")\n",
    "}\n",
    "\"\"\"\n",
    "result = g.query(q)\n",
    "\n",
    "narrower = {to_curie(r.narrower): str(r.label) for r in result}\n",
    "\n",
    "print(*narrower.items(), sep=\"\\n\")"
   ]
  },
  {
   "cell_type": "markdown",
   "id": "31a303ba",
   "metadata": {},
   "source": [
    "Exercise:\n",
    "\n",
    "- run the above query replacing `skos:narrower` with `skos:narrower*`;\n",
    "  what happens?\n",
    "- run the above query using `country:FRA` and see what happens;\n",
    "  then replace `skos:narrower` with `skos:narrower/skos:narrower`:\n",
    "  do you see the same number of results?\n",
    "\n",
    "<b>\n",
    "The `*` operator is used to traverse the graph\n",
    "and find all the nodes reachable from the starting node.\n",
    "The `*` operator is not supported by all graph databases.\n",
    "</b>\n",
    "\n",
    "#### Creating a graph\n",
    "\n",
    "SparQL can create new graphs from an existing one."
   ]
  },
  {
   "cell_type": "code",
   "execution_count": null,
   "id": "0d0c6f28",
   "metadata": {
    "attributes": {
     "classes": [
      "sparql"
     ],
     "id": ""
    }
   },
   "outputs": [],
   "source": [
    "q = \"\"\"\n",
    "PREFIX country: <http://publications.europa.eu/resource/authority/country/>\n",
    "\n",
    "CONSTRUCT {\n",
    "  ?narrower\n",
    "    skos:prefLabel ?label ;\n",
    "    skos:broader ?broader .\n",
    "}\n",
    "WHERE {\n",
    "  ?narrower\n",
    "    # All resources transitively related to country:FRA...\n",
    "    skos:broader* country:FRA ;\n",
    "\n",
    "    # ... with their labels ...\n",
    "    skos:prefLabel ?label ;\n",
    "\n",
    "    # ... and their broader relations.\n",
    "    skos:broader ?broader .\n",
    "  \n",
    "  FILTER (lang(?label) = \"en\")\n",
    "}\n",
    "\"\"\"\n",
    "result = g.query(q)\n",
    "list(result.graph)"
   ]
  },
  {
   "cell_type": "markdown",
   "id": "ed125713",
   "metadata": {},
   "source": [
    "Let's visualize the graph."
   ]
  },
  {
   "cell_type": "code",
   "execution_count": null,
   "id": "3a049ff5",
   "metadata": {},
   "outputs": [],
   "source": [
    "from tools import plot_graph\n",
    "from rdflib import SKOS\n",
    "\n",
    "plot_graph(result.graph, label=SKOS.prefLabel)"
   ]
  }
 ],
 "metadata": {},
 "nbformat": 4,
 "nbformat_minor": 5
}
