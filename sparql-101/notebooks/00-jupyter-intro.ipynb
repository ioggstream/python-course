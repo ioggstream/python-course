{
 "cells": [
  {
   "cell_type": "markdown",
   "id": "1519c270",
   "metadata": {},
   "source": [
    "# Knowledge Management 101\n",
    "\n",
    "Welcome to the Knowledge Management 101 course!\n",
    "Author: <roberto.polli@par-tec.it>"
   ]
  },
  {
   "cell_type": "markdown",
   "id": "db0efd67",
   "metadata": {
    "slideshow": {
     "slide_type": "slide"
    }
   },
   "source": [
    "---\n",
    "\n",
    "## Introducing Python\n",
    "\n",
    "Python is an interpreted, object oriented language with\n",
    "a lot of built in features.\n",
    "It can be used as a calculator and for  mathematical operations,\n",
    "such as statistics, plotting and linear algebra.\n",
    "\n",
    "This is a fast-track course for high school students with math knowledge.\n",
    "\n",
    "Students are expected to type and execute cells, and share their results.\n",
    "\n",
    "You can open this notebook [on jupyter lite](https://jupyter.org/try-jupyter/lab/?fromURL=https://raw.githubusercontent.com/ioggstream/python-course/main/sparql-101/notebooks/00-teaser.ipynb)."
   ]
  },
  {
   "cell_type": "markdown",
   "id": "ba49fa2b",
   "metadata": {
    "slideshow": {
     "slide_type": "slide"
    }
   },
   "source": [
    "---\n",
    "\n",
    "# Jupyter\n",
    "\n",
    "Is the course environment in your browser.\n",
    "It requires a modern browser and an internet connection supporting\n",
    "websockets. If your network setup (e.g. your proxy)\n",
    "does not support websockets, you will not be able to\n",
    "execute the code."
   ]
  },
  {
   "cell_type": "markdown",
   "id": "7f6c91b3",
   "metadata": {
    "slideshow": {
     "slide_type": "slide"
    }
   },
   "source": [
    "---\n",
    "\n",
    "While you might find the exercises' solutions in the environment,\n",
    "it is important for you to spend some time trying to do your homework!\n",
    "This will help you to remember the concepts and to learn how to use the tools."
   ]
  },
  {
   "cell_type": "markdown",
   "id": "676a7426",
   "metadata": {
    "slideshow": {
     "slide_type": "slide"
    }
   },
   "source": [
    "---\n",
    "\n",
    "## What can I do with Jupyter?\n",
    "\n",
    "You can:\n",
    "\n",
    "- execute the next cell with `SHIFT+ENTER` (try it now!)\n",
    "\n",
    "If your environment supports it, you can use features requiring\n",
    "operating system access:\n",
    "\n",
    "- [open a (named) terminal on the local machine](/terminals/example)\n",
    "- [edit an existing file](/edit/notebooks/untitled.txt)"
   ]
  },
  {
   "cell_type": "markdown",
   "id": "fd481a83",
   "metadata": {
    "slideshow": {
     "slide_type": "slide"
    }
   },
   "source": [
    "---\n",
    "\n",
    "- add more cells with `ALT+ENTER`"
   ]
  },
  {
   "cell_type": "markdown",
   "id": "c8350a45",
   "metadata": {
    "slideshow": {
     "slide_type": "subslide"
    }
   },
   "source": [
    "----\n",
    "\n",
    "Try to add a cell below this one and write some text in it."
   ]
  },
  {
   "cell_type": "code",
   "execution_count": null,
   "id": "7cb895c1",
   "metadata": {},
   "outputs": [],
   "source": [
    "# Add a new python cell with ALT+ENTER."
   ]
  },
  {
   "cell_type": "markdown",
   "id": "5c517cc9",
   "metadata": {
    "slideshow": {
     "slide_type": "slide"
    }
   },
   "source": [
    "---\n",
    "\n",
    "## Python terminal\n",
    "\n",
    "With Jupyter, you have a Python terminal at your disposal.\n",
    "You can run Python code:"
   ]
  },
  {
   "cell_type": "code",
   "execution_count": null,
   "id": "2d477a8c",
   "metadata": {},
   "outputs": [],
   "source": [
    "# You can evaluate maths and strings\n",
    "s = 1\n",
    "print(\"a string and the number \" + str(s))"
   ]
  },
  {
   "cell_type": "markdown",
   "id": "ee724bd1",
   "metadata": {},
   "source": [
    "Jupyter remembers the variables you define in a cell, so you can use them in the next cells."
   ]
  },
  {
   "cell_type": "code",
   "execution_count": null,
   "id": "a31adbe2",
   "metadata": {},
   "outputs": [],
   "source": [
    "# Evaluate this cell with SHIFT+ENTER\n",
    "s = s + 1\n",
    "print(\"now s is increased \" + str(s))"
   ]
  },
  {
   "cell_type": "markdown",
   "id": "53874d48",
   "metadata": {},
   "source": [
    "Since Jupyter remembers the variables, you can run the cells in any order you want.\n",
    "This means that sometimes, you need to \"reset\" the environment, to start from scratch.\n",
    "\n",
    "This can be done with the \"Kernel > Restart\" or \"Kernel > Restart & Clear output\" menu."
   ]
  },
  {
   "cell_type": "markdown",
   "id": "14819eb3",
   "metadata": {},
   "source": [
    "----"
   ]
  }
 ],
 "metadata": {},
 "nbformat": 4,
 "nbformat_minor": 5
}
