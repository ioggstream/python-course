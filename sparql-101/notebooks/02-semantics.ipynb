{
 "cells": [
  {
   "cell_type": "markdown",
   "id": "807c4fbe",
   "metadata": {},
   "source": [
    "# Knowledge Management 101\n",
    "\n",
    "## Agenda\n",
    "\n",
    "- Knowledge management\n",
    "- Semantics what?\n",
    "- Triples & co\n",
    "- Attaching semantics\n",
    "- Graph databases\n",
    "- JsonLD\n",
    "\n",
    "*Beware*: commands may contain small typos. You have to fix them to properly complete the course!"
   ]
  },
  {
   "cell_type": "markdown",
   "id": "655f40c9",
   "metadata": {
    "slideshow": {
     "slide_type": "subslide"
    }
   },
   "source": [
    "----\n",
    "\n",
    "## Intro: Semantics what?\n",
    "\n",
    "Semantics: the study of meaning.\n",
    "\n",
    "Semantics ensures that a message is understood;\n",
    "messages include data and HTTP exchanges.\n",
    "\n",
    "Here are some ambiguous messages:"
   ]
  },
  {
   "cell_type": "markdown",
   "id": "962dfac9",
   "metadata": {},
   "source": [
    "```yaml\n",
    "name: FABIANO Romildo\n",
    "income: 4_000_000\n",
    "```"
   ]
  },
  {
   "cell_type": "markdown",
   "id": "2531efb0",
   "metadata": {},
   "source": [
    "Is this a given name or a full name?\n",
    "What is the currency of the income?\n",
    "Is it a monthly or yearly income?"
   ]
  },
  {
   "cell_type": "markdown",
   "id": "d479e122",
   "metadata": {
    "slideshow": {
     "slide_type": "subslide"
    }
   },
   "source": [
    "----\n",
    "\n",
    "Integrating data from different sources is difficult because of the lack of semantic interoperability."
   ]
  },
  {
   "cell_type": "markdown",
   "id": "24cc1caa",
   "metadata": {},
   "source": [
    "```mermaid\n",
    "graph LR\n",
    "Am>\"{name: FABIANO Romildo\\nincome: 4_000_000}\"]\n",
    "Cm>\"{givenName: FABIANO\\nfamilyName: Romildo\\ntax: 12_000EUR}\"]\n",
    "B((Data sink))\n",
    "\n",
    "A((Data source 1)) ---Am --> B\n",
    "C((Data source 3)) ---Cm --> B\n",
    "```"
   ]
  },
  {
   "cell_type": "markdown",
   "id": "70c830ee",
   "metadata": {
    "slideshow": {
     "slide_type": "subslide"
    }
   },
   "source": [
    "----\n",
    "\n",
    "Identifiers may differ between systems,\n",
    "and even registry data are not always interoperable."
   ]
  },
  {
   "cell_type": "markdown",
   "id": "dd29f174",
   "metadata": {},
   "source": [
    "```mermaid\n",
    "graph LR\n",
    "Am>\"{givenName: Angela\\nfamilyName: Merkel\\ndate_of_birth: 1954-07-17}\"]\n",
    "Cm>\"{givenName: Angela\\nfamilyName: Kasner\\ndate_of_birth: 1954-07-17}\"]\n",
    "B((Data sink))\n",
    "\n",
    "A((Data source 1)) ---Am --> B\n",
    "C((Data source 3)) ---Cm --> B\n",
    "```"
   ]
  },
  {
   "cell_type": "markdown",
   "id": "526e9eec",
   "metadata": {
    "slideshow": {
     "slide_type": "subslide"
    }
   },
   "source": [
    "----\n",
    "\n",
    "The lack of standardization in the format and meaning of data\n",
    "hinders interoperability between the databases of different organizations,\n",
    "and even inside different branches of the same organization,\n",
    "and therefore the creation of digital services.\n",
    "\n",
    "A first example is the lack of syntactic interoperability:\n",
    "a well-defined entity (eg. the tax code) is represented with different fields or formats:"
   ]
  },
  {
   "cell_type": "code",
   "execution_count": null,
   "id": "f24f1177",
   "metadata": {},
   "outputs": [],
   "source": [
    "{\"tax_code\": \"MRORSS77T05E472W\"}\n",
    "{\"cf\": \"mrorss77T05E472W\"}\n",
    "{\"taxCode\": \"MRORSS77T05E472W\"}"
   ]
  },
  {
   "cell_type": "markdown",
   "id": "1500647b",
   "metadata": {
    "slideshow": {
     "slide_type": "subslide"
    }
   },
   "source": [
    "----\n",
    "\n",
    "Another example is semantic interoperability: the concept of family has different meanings (eg. in the fiscal domain, in the registry domain, ..):"
   ]
  },
  {
   "cell_type": "markdown",
   "id": "01c26838",
   "metadata": {},
   "source": [
    "```yaml\n",
    "relatives:\n",
    "  - name: Mario Rossi\n",
    "    relationship: father\n",
    "  - name: Carla Rossi\n",
    "    relationship: sister\n",
    "    cohabiting: false\n",
    "```"
   ]
  },
  {
   "cell_type": "markdown",
   "id": "9f584498",
   "metadata": {},
   "source": [
    "```yaml\n",
    "relatives:\n",
    "  - name: Mario Rossi\n",
    "    relationship: padre\n",
    "```"
   ]
  },
  {
   "cell_type": "markdown",
   "id": "42c7f004",
   "metadata": {
    "slideshow": {
     "slide_type": "slide"
    }
   },
   "source": [
    "---\n",
    "\n",
    "## Vocabularies to the rescue\n",
    "\n",
    "Controlled Vocabularies use URIs to disambiguate the meaning of terms and provide semantics.\n",
    "\n",
    "Every term is identified by an absolute URI.\n",
    "The prefix identifies the vocabulary name,\n",
    "and the suffix identifies the term."
   ]
  },
  {
   "cell_type": "code",
   "execution_count": null,
   "id": "f6008570",
   "metadata": {},
   "outputs": [],
   "source": [
    "\n",
    "dog_uri = \"https://dbpedia.org/data/Dog\"\n"
   ]
  },
  {
   "cell_type": "markdown",
   "id": "2790eab3",
   "metadata": {},
   "source": [
    "To semantically standardize data, services and their content, conceptual tools such as ontologies and controlled vocabularies (codelist, taxonomies, ..) are used.\n",
    "\n",
    "Ontology: an ontology is a set of logical axioms that conceptualize a domain of interest by defining concepts and the semantics of relationships between them.\n",
    "\n",
    "When ontologies contain further restrictions (e.g.,\n",
    "\n",
    "Controlled vocabulary: a vocabulary where the terms are validated by a designated authority.\n",
    "It can be of different types - EG.A list (codelist), a hierarchical structure (taxonomy), a glossary and a tesauro (which adds further constraints to a taxonomy).\n",
    "\n",
    "Examples of European controlled vocabularies are found here <https://op.europa.eu/en/web/eu-vocabularies/controlled-vocabularies>\n",
    "\n",
    "## Syntax standardization\n",
    "\n",
    "Data model: a data model, or data schema is a formal representation/description and machine-readable of the actual or potential content of the data contained in a separate object.\n",
    "\n",
    "In other words, it is the set of semantic and sequential instructions that can be used\n",
    "to check the stored input in a given file,\n",
    "or to connect a file that respects these instructions to a system or an application of exchange of information.\n",
    "\n",
    "There are several formats to describe the patterns,\n",
    "including XML Schema  and JSON Schema. Formal definition of the syntax of an entity.\n",
    "See <https://json-schema.org/understanding-json-schema/about.html>\n",
    "\n",
    "A Controlled vocabulary may support syntactic standardization."
   ]
  },
  {
   "cell_type": "markdown",
   "id": "3d7488cb",
   "metadata": {
    "slideshow": {
     "slide_type": "subslide"
    }
   },
   "source": [
    "----\n",
    "\n",
    "To syntactically standardize the services, you need to publish data patterns to which all organizations must conform.Historically, the standardization of the data schemes is based on the concept of Namespace possibly distributed - see the XSD specification format.\n",
    "\n",
    "If in well-defined ecosystems this approach works, as the dimension grows, a series of problems related to both the compactness of the transported data and the security context linked for example to the possible need to dereference the URI (Eg. <Https://owasp.org/www-pdf-rchive/xml_based_attacks_-_owasp.pdf>) are\n",
    "\n",
    "While then the metadation of the pages via Json -ild has as its main audience the search engines batch processing systems, the data conveyed through APIs are increasingly frequently processed by mobile applications that have constraints both in terms of bandwidth and consumption of resources (eg. Cellular battery, heating) more stringent.\n",
    "\n",
    "In addition, the creation of increasingly integrated services leads to an increase in the number of requests, and the consequent need to sustain the loads on IT systems in a sustainable way."
   ]
  },
  {
   "cell_type": "markdown",
   "id": "c0749bd6",
   "metadata": {
    "slideshow": {
     "slide_type": "slide"
    }
   },
   "source": [
    "---\n",
    "\n",
    "## Defining semantic contents\n",
    "\n",
    "Semantic contents are defined through\n",
    "sentences of the form\n",
    "`subject predicate object`\n",
    "and their sets (called graphs).\n",
    "\n",
    "Here is an example of a graph with three sentences:"
   ]
  },
  {
   "cell_type": "code",
   "execution_count": null,
   "id": "baed25cc",
   "metadata": {},
   "outputs": [],
   "source": [
    "\"the dog\" \"has the color\" \"black\"\n",
    "\"the dog\" \"is an\" \"animal\"\n",
    "\"black\" \"is a\" \"color\""
   ]
  },
  {
   "cell_type": "markdown",
   "id": "ee8d2539",
   "metadata": {},
   "source": [
    "and an associated formal description in text/turle"
   ]
  },
  {
   "cell_type": "code",
   "execution_count": null,
   "id": "da481ea1",
   "metadata": {},
   "outputs": [],
   "source": [
    "prefix animals: <https://animals.example>\n",
    "prefix colors: <https://animals.example>\n",
    "\n",
    "animals:dog colors:hasColor colors:black\n",
    "colors:black a colors:Color\n",
    "animals:dog a animals:Animal"
   ]
  },
  {
   "cell_type": "markdown",
   "id": "8f7386a8",
   "metadata": {
    "slideshow": {
     "slide_type": "subslide"
    }
   },
   "source": [
    "----\n",
    "\n",
    "RDF: Resource Description Framework\n",
    "\n",
    "allows to represent information on the web based on two data structures:\n",
    "\n",
    "- **elements** (IRIs, blank nodes and literals);\n",
    "- **triples** (subject-predicate-object);\n",
    "- **graphs** (sets of triples).\n",
    "\n",
    "and on **vocabularies** of elements identified by IRIs and namespaces.\n",
    "\n",
    "An RDF dataset is a set of **graphs**."
   ]
  },
  {
   "cell_type": "markdown",
   "id": "a0b3a024",
   "metadata": {
    "slideshow": {
     "slide_type": "subslide"
    }
   },
   "source": [
    "----\n",
    "\n",
    "#### Ontologies\n",
    "\n",
    "To standardize the semantics of digital content,\n",
    "we use ontologies.\n",
    "\n",
    "In Italy, there's the official ontology of person\n",
    "(Common Person Vocabulary) that we can use to uniquely describe someone."
   ]
  },
  {
   "cell_type": "code",
   "execution_count": null,
   "id": "d03d2d7d",
   "metadata": {},
   "outputs": [],
   "source": [
    "@prefix cpv: <https://w3id.org/italia/onto/CPV> .\n",
    "\n",
    "<email:robipolli@gmail.com> cpv:givenName \"Roberto\" .\n",
    "<email:robipolli@gmail.com> cpv:familyName \"Polli\" .\n"
   ]
  },
  {
   "cell_type": "markdown",
   "id": "cdeafd20",
   "metadata": {
    "slideshow": {
     "slide_type": "subslide"
    }
   },
   "source": [
    "----\n",
    "\n",
    "An ontology is defined by a set of IRIs and their relationships."
   ]
  },
  {
   "cell_type": "code",
   "execution_count": null,
   "id": "4a163b46",
   "metadata": {},
   "outputs": [],
   "source": [
    "@prefix xsd:   <http://www.w3.org/2001/XMLSchema#> .\n",
    "@prefix dct:   <http://purl.org/dc/terms/> .\n",
    "\n",
    "https://w3id.org/italia/onto/CPV dct:modified  \"2020-04-27\"^^xsd:date ;\n",
    "https://w3id.org/italia/onto/CPV dct:title     \"Person Ontology\"@en,\n",
    "                                               \"Ontologia delle persone\"@it ;\n"
   ]
  },
  {
   "cell_type": "markdown",
   "id": "acf992c4",
   "metadata": {
    "slideshow": {
     "slide_type": "slide"
    }
   },
   "source": [
    "---\n",
    "\n",
    "### Json-LD\n",
    "\n",
    "JSON-LD è un formato che permette di serializzare in JSON delle informazioni basate sul\n",
    "[RDF data model](https://www.w3.org/TR/json-ld11/#data-model).\n",
    "\n",
    "Un documento JSON-LD è quindi sia un documento RDF che JSON, e rappresenta un'istanza di un RDF data model.\n",
    "\n",
    "JSON-LD inoltre *estende* RDF per permettere la serializzazione di dataset RDF generalizzati."
   ]
  },
  {
   "cell_type": "markdown",
   "id": "300dfde4",
   "metadata": {
    "slideshow": {
     "slide_type": "subslide"
    }
   },
   "source": [
    "----\n",
    "Dato un oggetto JSON"
   ]
  },
  {
   "cell_type": "markdown",
   "id": "a8270fc5",
   "metadata": {},
   "source": [
    "```yaml\n",
    "id: robipolli@gmail.com\n",
    "given_name: Roberto\n",
    "family_name: Polli\n",
    "```"
   ]
  },
  {
   "cell_type": "markdown",
   "id": "7adc854e",
   "metadata": {},
   "source": [
    "JSON-LD permette di trasformarlo in un grafo RDF associandogli un contesto."
   ]
  },
  {
   "cell_type": "markdown",
   "id": "d6a901dd",
   "metadata": {},
   "source": [
    "```yaml\n",
    "\"@context\":\n",
    "  cpv: \"https://w3id.org/italia/onto/CPV\"\n",
    "  given_name: \"cpv:givenName\"\n",
    "  family_name: \"cpv:familyName\"\n",
    "  id: \"@id\"\n",
    "id: robipolli@gmail.com\n",
    "given_name: Roberto\n",
    "family_name: Polli\n",
    "```"
   ]
  },
  {
   "cell_type": "markdown",
   "id": "e090e72a",
   "metadata": {
    "slideshow": {
     "slide_type": "slide"
    }
   },
   "source": [
    "---\n",
    "\n",
    "Oltre all'ontologia italiana, un altro vocabolario\n",
    "molto usato sul web è <www.schema.org>. Le parole chiave\n",
    "che definisce sono disponibili in formato json-ld\n",
    "<https://schema.org/docs/jsonldcontext.jsonld>"
   ]
  },
  {
   "cell_type": "markdown",
   "id": "c11e5af1",
   "metadata": {
    "slideshow": {
     "slide_type": "slide"
    }
   },
   "source": [
    "---\n",
    "\n",
    "È anche possibile ridefinire o localizzare i campi,\n",
    "eventualmente usando diversi namespace."
   ]
  },
  {
   "cell_type": "markdown",
   "id": "46b4b08f",
   "metadata": {},
   "source": [
    "```yaml\n",
    "\"@context\":\n",
    "  \"sdo\": \"http://schema.org/\"\n",
    "  \"nome\":\"sdo:name\"\n",
    "  \"nome_proprio\": \"sdo:givenName\"\n",
    "\"@type\": \"Person\"\n",
    "  \"nome\": \"Jane Doe\"\n",
    "  \"nome_proprio\": \"Jane\"\n",
    "  \"sdo:jobTitle\": \"Professor\"\n",
    "  \"sdo:telephone\": \"(425) 123-4567\"\n",
    "```"
   ]
  },
  {
   "cell_type": "markdown",
   "id": "66a1ca97",
   "metadata": {
    "slideshow": {
     "slide_type": "slide"
    }
   },
   "source": [
    "---\n",
    "\n",
    "### Localizzazione\n",
    "\n",
    "JSON-LD supporta nativamente informazioni\n",
    "localizzate:"
   ]
  },
  {
   "cell_type": "markdown",
   "id": "46959410",
   "metadata": {},
   "source": [
    "```yaml\n",
    "-- come lista\n",
    "occupation:\n",
    "-  @value: \"Student\"\n",
    "   @language: en\n",
    "-  @value: \"Etudiant\"\n",
    "   @language: fr\n",
    "```"
   ]
  },
  {
   "cell_type": "markdown",
   "id": "2587e8b3",
   "metadata": {},
   "source": [
    "oppure"
   ]
  },
  {
   "cell_type": "markdown",
   "id": "9ba2f856",
   "metadata": {},
   "source": [
    "```yaml\n",
    "-- come oggetto\n",
    "@context:\n",
    "  occupation:\n",
    "    @container: @language\n",
    "occupation:\n",
    "  en: Student\n",
    "  fr: Etudiant\n",
    "```"
   ]
  },
  {
   "cell_type": "markdown",
   "id": "ad27b1a3",
   "metadata": {},
   "source": [
    "oppure"
   ]
  },
  {
   "cell_type": "markdown",
   "id": "c7bbc9ed",
   "metadata": {},
   "source": [
    "```yaml\n",
    "--- tramite elementi multipli, utile anche per la serializzazione di API semplici\n",
    "@context:\n",
    "  occupation: {@language: en}\n",
    "  occupation_fr: {@language: fr}\n",
    "occupation: Student\n",
    "occupation_fr: Etudiant\n",
    "```"
   ]
  },
  {
   "cell_type": "markdown",
   "id": "d31d2319",
   "metadata": {
    "slideshow": {
     "slide_type": "slide"
    }
   },
   "source": [
    "---\n",
    "\n",
    "#### Context mangling\n",
    "\n",
    "@context mangling: modificando il contesto di un oggetto\n",
    "se ne altera il significato."
   ]
  },
  {
   "cell_type": "markdown",
   "id": "614de469",
   "metadata": {},
   "source": [
    "```yaml\n",
    "payment_from: alice@foo.example\n",
    "payment_to: bob@foo.example\n",
    "\"@context\": https://payment/context.jsonld\n",
    "```"
   ]
  },
  {
   "cell_type": "markdown",
   "id": "f123fad8",
   "metadata": {},
   "source": [
    "Alterando la risposta del server <https://payment/context.jsonld>\n",
    "possiamo invertire il verso del pagamento!"
   ]
  },
  {
   "cell_type": "markdown",
   "id": "1bc3df9e",
   "metadata": {},
   "source": [
    "```yaml\n",
    "@context:\n",
    "  payment_from: http://banking#debtor\n",
    "  payment_to: http://banking#creditor\n",
    "```"
   ]
  },
  {
   "cell_type": "markdown",
   "id": "dc6265e2",
   "metadata": {},
   "source": [
    "->"
   ]
  },
  {
   "cell_type": "markdown",
   "id": "f162336e",
   "metadata": {},
   "source": [
    "```yaml\n",
    "@context:\n",
    "  payment_to: http://banking#debtor\n",
    "  payment_from: http://banking#creditor\n",
    "```"
   ]
  },
  {
   "cell_type": "markdown",
   "id": "79149b38",
   "metadata": {
    "slideshow": {
     "slide_type": "subslide"
    }
   },
   "source": [
    "----\n",
    "\n",
    "Esistono diverse ipotesi tecnologiche basate\n",
    "sull'elaborazione semantica dei dati a runtime.\n",
    "Tutte queste implementazioni devono indirizzare\n",
    "questo tipo di rischi."
   ]
  }
 ],
 "metadata": {},
 "nbformat": 4,
 "nbformat_minor": 5
}
