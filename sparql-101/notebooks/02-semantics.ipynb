{
 "cells": [
  {
   "cell_type": "markdown",
   "id": "2741cf01",
   "metadata": {},
   "source": [
    "# Knowledge Management 101\n",
    "\n",
    "## Agenda\n",
    "\n",
    "- Semantics what?\n",
    "- Triples & co\n",
    "- Attaching semantics\n",
    "- Graph databases\n",
    "- JsonLD\n",
    "\n",
    "*Beware*: commands may contain small typos. You have to fix them to properly complete the course!"
   ]
  },
  {
   "cell_type": "markdown",
   "id": "c4bcd145",
   "metadata": {
    "slideshow": {
     "slide_type": "subslide"
    }
   },
   "source": [
    "----\n",
    "\n",
    "## Semantics what?\n",
    "\n",
    "Semantics: the study of meaning.\n",
    "\n",
    "Semantics ensures that a message is understood;\n",
    "messages include data and HTTP exchanges.\n",
    "\n",
    "Here is an ambiguous message:"
   ]
  },
  {
   "cell_type": "markdown",
   "id": "939b777e",
   "metadata": {},
   "source": [
    "```yaml\n",
    "name: FABIANO Romildo\n",
    "income: 4_000_000\n",
    "```"
   ]
  },
  {
   "cell_type": "markdown",
   "id": "6c01d34b",
   "metadata": {},
   "source": [
    "Is this a given name or a full name?\n",
    "What is the currency of the income?\n",
    "Is it a monthly or yearly income?"
   ]
  },
  {
   "cell_type": "markdown",
   "id": "605eab7f",
   "metadata": {
    "slideshow": {
     "slide_type": "subslide"
    }
   },
   "source": [
    "----\n",
    "\n",
    "Integrating data from different sources is difficult because of the lack of semantic interoperability."
   ]
  },
  {
   "cell_type": "markdown",
   "id": "6c8e5c99",
   "metadata": {},
   "source": [
    "```mermaid\n",
    "graph LR\n",
    "Am>\"{name: FABIANO Romildo\\nincome: 4_000_000}\"]\n",
    "Cm>\"{givenName: FABIANO\\nfamilyName: Romildo\\ntax: 12_000EUR}\"]\n",
    "B((Data sink))\n",
    "\n",
    "A((Data source 1)) ---Am --> B\n",
    "C((Data source 3)) ---Cm --> B\n",
    "```"
   ]
  },
  {
   "cell_type": "markdown",
   "id": "239bddc7",
   "metadata": {
    "slideshow": {
     "slide_type": "subslide"
    }
   },
   "source": [
    "----\n",
    "\n",
    ":exclamation: Identifiers may differ between systems,\n",
    "and even registry data are not always interoperable."
   ]
  },
  {
   "cell_type": "markdown",
   "id": "e28cf37b",
   "metadata": {},
   "source": [
    "```mermaid\n",
    "graph LR\n",
    "Am>\"{givenName: Angela\\nfamilyName: Merkel\\ndate_of_birth: 1954-07-17}\"]\n",
    "Cm>\"{givenName: Angela\\nfamilyName: Kasner\\ndate_of_birth: 1954-07-17}\"]\n",
    "B((Data sink))\n",
    "\n",
    "A((Data source 1)) ---Am --> B\n",
    "C((Data source 3)) ---Cm --> B\n",
    "```"
   ]
  },
  {
   "cell_type": "markdown",
   "id": "27036a85",
   "metadata": {
    "slideshow": {
     "slide_type": "subslide"
    }
   },
   "source": [
    "----\n",
    "\n",
    "The lack of standardization in the format and meaning of data\n",
    "hinders interoperability between the databases of different organizations,\n",
    "and even inside different branches of the same organization,\n",
    "and therefore the creation of digital services.\n",
    "\n",
    "A first example is the lack of syntactic interoperability:\n",
    "a well-defined entity (eg. the tax code) is represented with different fields or formats:"
   ]
  },
  {
   "cell_type": "markdown",
   "id": "df4e6c30",
   "metadata": {},
   "source": [
    "```json\n",
    "{\"tax_code\": \"RSSMRO77T05E472W\"}\n",
    "{\"cf\": \"RSSMRO77T05E472W\"}\n",
    "{\"taxCode\": \"RSSMRO77T05E472W\"}\n",
    "```"
   ]
  },
  {
   "cell_type": "markdown",
   "id": "9339685a",
   "metadata": {
    "slideshow": {
     "slide_type": "subslide"
    }
   },
   "source": [
    "----\n",
    "\n",
    "Another example is semantic interoperability: the concept of family has different meanings (eg. in the fiscal domain, in the registry domain, ..):"
   ]
  },
  {
   "cell_type": "markdown",
   "id": "6649a454",
   "metadata": {},
   "source": [
    "```yaml\n",
    "relatives:\n",
    "  - name: Mario Rossi\n",
    "    relationship: father\n",
    "  - name: Carla Rossi\n",
    "    relationship: sister\n",
    "    cohabiting: false\n",
    "```"
   ]
  },
  {
   "cell_type": "markdown",
   "id": "c1bdb2c2",
   "metadata": {},
   "source": [
    "```yaml\n",
    "relatives:\n",
    "  - name: Mario Rossi\n",
    "    relationship: father\n",
    "```"
   ]
  },
  {
   "cell_type": "markdown",
   "id": "0093b265",
   "metadata": {
    "slideshow": {
     "slide_type": "slide"
    }
   },
   "source": [
    "---\n",
    "\n",
    "## Vocabularies to the rescue: RDF\n",
    "\n",
    "RDF (Resource Description Framework) is a standard for representing information about resources in the web.\n",
    "See [01-knowledge.ipynb](01-knowledge.ipynb).\n",
    "\n",
    "Vocabularies contain a set of terms (IRIs) and their relationships\n",
    "that can be used to describe the meaning of data."
   ]
  },
  {
   "cell_type": "markdown",
   "id": "410982aa",
   "metadata": {
    "slideshow": {
     "slide_type": "subslide"
    }
   },
   "source": [
    "----\n",
    "\n",
    "An RDF dataset is a set of **graphs**."
   ]
  },
  {
   "cell_type": "markdown",
   "id": "041d79ea",
   "metadata": {},
   "source": [
    "```mermaid\n",
    "graph LR\n",
    "\n",
    "classDef pad fill:none,stroke:none;\n",
    "\n",
    "subgraph Dataset\n",
    "  subgraph Graph1[\"Graph <br/>&lt;https\\://example.org/graph1&gt;\"]\n",
    "  subgraph p1[ ]\n",
    "    t1[\n",
    "    subject predicate object .\n",
    "    subject predicate object .\n",
    "    subject predicate object .\n",
    "    ]\n",
    "    end\n",
    "  end\n",
    "  subgraph Graph2[Graph <br/>&lt;urn:example:graph2&gt;]\n",
    "  subgraph p2[ ]\n",
    "    t2[\n",
    "    subject predicate object .\n",
    "    subject predicate object .\n",
    "    subject predicate object .\n",
    "    ]\n",
    "  end\n",
    "  end\n",
    "  subgraph Graph3[Graph <br/>&lt;_:anonymous_graph&gt;]\n",
    "  subgraph p3[ ]\n",
    "  t3[\n",
    "  subject predicate object .\n",
    "  subject predicate object .\n",
    "  subject predicate object .\n",
    "  ]\n",
    "  end\n",
    "  end\n",
    "end\n",
    "\n",
    "class p1,p2,p3 pad;\n",
    "```"
   ]
  },
  {
   "cell_type": "code",
   "execution_count": null,
   "id": "f509f5ba",
   "metadata": {},
   "outputs": [],
   "source": [
    "from rdflib import Dataset\n",
    "\n",
    "d = Dataset()"
   ]
  },
  {
   "cell_type": "markdown",
   "id": "00c2fcff",
   "metadata": {},
   "source": [
    "#### Exercise: dataset\n",
    "\n",
    "- use the `Dataset.graphs` method to list the graphs in the dataset;\n",
    "\n",
    "- add a graph to the dataset."
   ]
  },
  {
   "cell_type": "code",
   "execution_count": null,
   "id": "3618dc32",
   "metadata": {},
   "outputs": [],
   "source": [
    "simpsons = d.graph(identifier=\"_:simpsons\")\n",
    "simpsons.parse(\"simpsons.ttl\", format=\"turtle\")\n"
   ]
  },
  {
   "cell_type": "markdown",
   "id": "4e31365d",
   "metadata": {},
   "source": [
    "- list the graphs in the dataset again, together with their identifiers.\n",
    "\n",
    "<!-- len(graphs) -->\n",
    "<!-- graphs = list(d.graphs()) -->\n",
    "\n",
    "- get the `identifier` of one graph. What's its type?\n",
    "\n",
    "\n",
    "<!-- [(g.identifier.n3(), type(g.identifier) ) for g in graphs] -->\n",
    "\n",
    "Now list the graphs in the dataset:\n",
    "note that the default graph does not contain triples."
   ]
  },
  {
   "cell_type": "code",
   "execution_count": null,
   "id": "568de8ba",
   "metadata": {},
   "outputs": [],
   "source": [
    "print(\n",
    "  {k.identifier.n3(): len(k) for k in d.graphs()}\n",
    ")"
   ]
  },
  {
   "cell_type": "markdown",
   "id": "3deae72b",
   "metadata": {
    "slideshow": {
     "slide_type": "subslide"
    }
   },
   "source": [
    "----\n",
    "\n",
    "To semantically standardize data, services and their content,\n",
    "conceptual tools such as ontologies\n",
    "and controlled vocabularies (codelist, taxonomies, ..)\n",
    "are used.\n",
    "\n",
    "#### Exercise: the DBpedia ontology and dataset\n",
    "\n",
    "Parse the following RDF sentences in a dataset."
   ]
  },
  {
   "cell_type": "code",
   "execution_count": null,
   "id": "3b62d44d",
   "metadata": {},
   "outputs": [],
   "source": [
    "sentences = \"\"\"\n",
    "@prefix    : <http://dbpedia.org/resource/> .\n",
    "@prefix dbp: <http://dbpedia.org/property/> .\n",
    "@prefix dbo: <http://dbpedia.org/ontology/> .\n",
    "\n",
    "# We can group together sentences with the same subject\n",
    "# using `;`\n",
    ":Tortellini\n",
    "  # `a` is a shortcut for `rdf:type`\n",
    "  a                    dbo:Food     ;\n",
    "  dbp:country          :Italy       ;\n",
    "  dbo:WikiPageWikiLink :Prosciutto  . # Always end with a dot\n",
    "\n",
    ":Meat       dbo:WikiPageWikiLink :Prosciutto .\n",
    "\"\"\"\n",
    "\n",
    "# Create a new named graph in the dataset.\n",
    "g = d.graph(identifier=\"_:my_dbpedia\")\n",
    "...\n"
   ]
  },
  {
   "cell_type": "markdown",
   "id": "16e95036",
   "metadata": {},
   "source": [
    "- Get the URIs representing Tortellini and Food using the `Graph.subjects`  and `Graph.objects` methods."
   ]
  },
  {
   "cell_type": "code",
   "execution_count": null,
   "id": "96b34445",
   "metadata": {},
   "outputs": [],
   "source": [
    "# Deduplicate subjects using set()\n",
    "subjects = set( ... )\n",
    "objects = set( ... )\n",
    "items = subjects | objects\n",
    "print(*items, sep=\"\\n\")"
   ]
  },
  {
   "cell_type": "markdown",
   "id": "cc293ba4",
   "metadata": {},
   "source": [
    "<!-- print(set(g.subjects())) -->\n",
    "- what's the namespace of the `Tortellini` URI?\n",
    "- what's the namespace of the `Food` URI?\n",
    "- Open both URIs in a browser and check their content,\n",
    "  then try to understand the difference between\n",
    "  their namespaces.\n",
    "\n",
    "## Ontologies and controlled vocabularies\n",
    "\n",
    "Ontologies are used to standardize the semantics of digital content.\n",
    "\n",
    "- **Ontology**: a set of logical axioms\n",
    "                that conceptualize a domain of interest\n",
    "                by defining concepts (e.g., a `Person`)\n",
    "                and the semantics of relationships (e.g., `isParentOf`) between them.\n",
    "\n",
    "Example: the Italian ontology for person defines:\n",
    "\n",
    "- the concept of person;\n",
    "- its properties (e.g., givenName, familyName, isParentOf);\n",
    "- the range of each property (e.g., string, date, person);\n",
    "- the domain of each property (e.g., person, organization, place);\n",
    "- See also <https://w3id.org/italia/onto/CPV/Person>."
   ]
  },
  {
   "cell_type": "markdown",
   "id": "e9608bae",
   "metadata": {},
   "source": [
    "```mermaid\n",
    "graph TD\n",
    "\n",
    "subgraph CPV[\"CPV Ontology\"]\n",
    "  Person\n",
    "  familyName([familyName])\n",
    "  givenName([givenName])\n",
    "  isParentOf([isParentOf])\n",
    "\n",
    "  givenName_description>\"The given name of a person. E.g. 'Mario' is the given name of the person 'Mario Rossi'.\"]\n",
    "  isParentOf_description>\"Has a parental relationship with.\"]\n",
    "end\n",
    "\n",
    "subgraph xsd[XMLSchema]\n",
    "  xsd:string\n",
    "end\n",
    "\n",
    "givenName_description -.-|description| givenName\n",
    "isParentOf_description\n",
    "-.-|description|\n",
    "isParentOf\n",
    "givenName & familyName & isParentOf -.-o|domain| Person\n",
    "\n",
    "familyName & givenName ---->|range| xsd:string\n",
    "isParentOf -->|range| Person\n",
    "\n",
    "\n",
    "```"
   ]
  },
  {
   "cell_type": "markdown",
   "id": "2e52be82",
   "metadata": {},
   "source": [
    "- **Controlled vocabulary**: a vocabulary where the terms are validated by a designated authority.\n",
    "  It can be of different types - e.g., a list (codelist), a hierarchical structure (taxonomy), a glossary and a thesaurus (which adds further constraints to a taxonomy).\n",
    "\n",
    "Examples of European controlled vocabularies are here <https://op.europa.eu/en/web/eu-vocabularies/controlled-vocabularies>"
   ]
  },
  {
   "cell_type": "markdown",
   "id": "a1f1a9ea",
   "metadata": {
    "slideshow": {
     "slide_type": "subslide"
    }
   },
   "source": [
    "----\n",
    "\n",
    "## Standard vocabularies\n",
    "\n",
    "Standard vocabularies that are used to semantically describe data\n",
    "are the RDF Schema (RDFS) vocabulary,\n",
    "the Web Ontology Language (OWL) vocabulary,\n",
    "and the Simple Knowledge Organization System (SKOS) vocabulary.\n",
    "\n",
    "Here are some example IRIs described using RDFS:"
   ]
  },
  {
   "cell_type": "code",
   "execution_count": null,
   "id": "5853b349",
   "metadata": {
    "attributes": {
     "classes": [
      "raw"
     ],
     "id": ""
    }
   },
   "outputs": [],
   "source": [
    "@prefix rdfs: <http://www.w3.org/2000/01/rdf-schema#> .\n",
    "@prefix ex:  <http://example.org/> .\n",
    "\n",
    "# The ex:Person Resource classifies a group of Resources.\n",
    "ex:Person rdf:type rdfs:Class .\n",
    "\n",
    "# ex:Alive classifies a group of ex:Person\n",
    "ex:Alive rdf:type rdfs:Class ;\n",
    "  rdfs:subClassOf ex:Person ;\n",
    "  .\n",
    "\n",
    "ex:givenName rdf:type rdf:Property ;\n",
    "  rdfs:domain ex:Person ;\n",
    "  rdfs:range xsd:string ;\n"
   ]
  },
  {
   "cell_type": "markdown",
   "id": "4f542b4d",
   "metadata": {},
   "source": [
    "You can see vocabularies as a set of globally unique labels\n",
    "that can be used to describe data in a standardized way.\n",
    "\n",
    "These labels may or may not overlap (e.g., I can use labels\n",
    "from different vocabularies to describe the same data),\n",
    "like in the following example:"
   ]
  },
  {
   "cell_type": "code",
   "execution_count": null,
   "id": "c5e54afa",
   "metadata": {
    "attributes": {
     "classes": [
      "raw"
     ],
     "id": ""
    }
   },
   "outputs": [],
   "source": [
    "@prefix ex: <http://example.org/> .\n",
    "\n",
    "ex:Person a rdfs:Class ;\n",
    "  # Using RDFS vocabulary...\n",
    "  rdfs:label \"Person\"@en, \"Persona\"@it ;\n",
    "  rdfs:comment \"A human being.\"@en, \"Un essere umano.\"@it ;\n",
    "\n",
    "  # Using SKOS vocabulary...\n",
    "  a skos:Concept ;\n",
    "  skos:prefLabel \"Person\"@en, \"Persona\"@it ;\n",
    "  skos:definition \"A human being.\"@en, \"Un essere umano.\"@it\n",
    "."
   ]
  },
  {
   "cell_type": "markdown",
   "id": "25a9f94d",
   "metadata": {},
   "source": [
    "## Ontologies in Italy\n",
    "\n",
    "In Italy, <https://schema.gov.it> is the National Data Catalog for Semantic Interoperability.\n",
    "\n",
    "It contains Controlled Vocabularies and Ontologies,\n",
    "including the Italian Ontology for Person (CPV),\n",
    "that we can use to uniquely describe someone."
   ]
  },
  {
   "cell_type": "code",
   "execution_count": null,
   "id": "ac81b186",
   "metadata": {
    "attributes": {
     "classes": [
      "raw"
     ],
     "id": ""
    }
   },
   "outputs": [],
   "source": [
    "@prefix CPV: <https://w3id.org/italia/onto/CPV> .\n",
    "\n",
    "<email:robipolli@gmail.com>\n",
    "  CPV:givenName \"Roberto\" ;\n",
    "  CPV:familyName \"Polli\" .\n"
   ]
  },
  {
   "cell_type": "markdown",
   "id": "39647c67",
   "metadata": {
    "slideshow": {
     "slide_type": "subslide"
    }
   },
   "source": [
    "----\n",
    "\n",
    "An ontology is defined by a set of IRIs and their relationships."
   ]
  },
  {
   "cell_type": "code",
   "execution_count": null,
   "id": "0dca8ec9",
   "metadata": {},
   "outputs": [],
   "source": [
    "from rdflib import Graph\n",
    "\n",
    "sentences = \"\"\"\n",
    "@prefix xsd:  <http://www.w3.org/2001/XMLSchema#> .\n",
    "@prefix dct:  <http://purl.org/dc/terms/> .\n",
    "@prefix rdfs: <http://www.w3.org/2000/01/rdf-schema#> .\n",
    "@prefix owl:  <http://www.w3.org/2002/07/owl#> .\n",
    "\n",
    "\n",
    "<https://w3id.org/italia/onto/CPV>\n",
    "  dct:modified \"2020-04-27\"^^xsd:date ;\n",
    "  # Use `,` to group multiple objects\n",
    "  dct:title    \"Person Ontology\"@en,\n",
    "               \"Ontologia delle persone\"@it .\n",
    "\n",
    "<https://w3id.org/italia/onto/CPV/Person>\n",
    "  a rdfs:Class ;\n",
    "  rdfs:isDefinedBy <https://w3id.org/italia/onto/CPV> ;\n",
    "  rdfs:comment \"An individual human being ..\"@en .\n",
    "\n",
    "# An ontology defines the meaning of predicates.\n",
    "<https://w3id.org/italia/onto/CPV/givenName>\n",
    "  a owl:DatatypeProperty ;\n",
    "  rdfs:isDefinedBy <https://w3id.org/italia/onto/CPV> ;\n",
    "  rdfs:comment \"The given name of a person. E.g. 'Mario' is the given name of the person 'Mario Rossi'.\"@en ;\n",
    "  rdfs:label  \"given name\"@en ;\n",
    "  rdfs:domain <https://w3id.org/italia/onto/CPV/Person> ;\n",
    "  rdfs:range xsd:string .\n",
    "\n",
    "\"\"\"\n"
   ]
  },
  {
   "cell_type": "markdown",
   "id": "5d097c53",
   "metadata": {},
   "source": [
    "<!-- g = Graph() -->\n",
    "<!-- g.parse(data=sentences, format=\"turtle\") -->\n",
    "<!-- print(*g, sep=\"\\n\") -->\n",
    "<!-- len(list(g)) -->\n",
    "\n",
    "Exercise: how many triples are in the graph?"
   ]
  },
  {
   "cell_type": "code",
   "execution_count": null,
   "id": "81695080",
   "metadata": {},
   "outputs": [],
   "source": [
    "import tools\n",
    "\n",
    "tools.plot_graph(g)"
   ]
  }
 ],
 "metadata": {},
 "nbformat": 4,
 "nbformat_minor": 5
}
