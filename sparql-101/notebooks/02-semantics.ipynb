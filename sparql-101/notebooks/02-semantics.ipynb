{
 "cells": [
  {
   "cell_type": "markdown",
   "id": "b511828d",
   "metadata": {},
   "source": [
    "# Knowledge Management 101\n",
    "\n",
    "## Agenda\n",
    "\n",
    "- Knowledge management\n",
    "- Semantics what?\n",
    "- Triples & co\n",
    "- Attaching semantics\n",
    "- Graph databases\n",
    "- JsonLD\n",
    "\n",
    "*Beware*: commands may contain small typos. You have to fix them to properly complete the course!"
   ]
  },
  {
   "cell_type": "markdown",
   "id": "c9cc1a91",
   "metadata": {
    "slideshow": {
     "slide_type": "subslide"
    }
   },
   "source": [
    "----\n",
    "\n",
    "## Intro: Semantics what?\n",
    "\n",
    "Semantics: the study of meaning.\n",
    "\n",
    "Semantics ensures that a message is understood;\n",
    "messages include data and HTTP exchanges.\n",
    "\n",
    "Here is an ambiguous message:"
   ]
  },
  {
   "cell_type": "markdown",
   "id": "0d8decb0",
   "metadata": {},
   "source": [
    "```yaml\n",
    "name: FABIANO Romildo\n",
    "income: 4_000_000\n",
    "```"
   ]
  },
  {
   "cell_type": "markdown",
   "id": "ed864279",
   "metadata": {},
   "source": [
    "Is this a given name or a full name?\n",
    "What is the currency of the income?\n",
    "Is it a monthly or yearly income?"
   ]
  },
  {
   "cell_type": "markdown",
   "id": "177fa48c",
   "metadata": {
    "slideshow": {
     "slide_type": "subslide"
    }
   },
   "source": [
    "----\n",
    "\n",
    "Integrating data from different sources is difficult because of the lack of semantic interoperability."
   ]
  },
  {
   "cell_type": "markdown",
   "id": "7b7d5cb7",
   "metadata": {},
   "source": [
    "```mermaid\n",
    "graph LR\n",
    "Am>\"{name: FABIANO Romildo\\nincome: 4_000_000}\"]\n",
    "Cm>\"{givenName: FABIANO\\nfamilyName: Romildo\\ntax: 12_000EUR}\"]\n",
    "B((Data sink))\n",
    "\n",
    "A((Data source 1)) ---Am --> B\n",
    "C((Data source 3)) ---Cm --> B\n",
    "```"
   ]
  },
  {
   "cell_type": "markdown",
   "id": "0f73a90d",
   "metadata": {
    "slideshow": {
     "slide_type": "subslide"
    }
   },
   "source": [
    "----\n",
    "\n",
    ":exclamation: Identifiers may differ between systems,\n",
    "and even registry data are not always interoperable."
   ]
  },
  {
   "cell_type": "markdown",
   "id": "556c6d00",
   "metadata": {},
   "source": [
    "```mermaid\n",
    "graph LR\n",
    "Am>\"{givenName: Angela\\nfamilyName: Merkel\\ndate_of_birth: 1954-07-17}\"]\n",
    "Cm>\"{givenName: Angela\\nfamilyName: Kasner\\ndate_of_birth: 1954-07-17}\"]\n",
    "B((Data sink))\n",
    "\n",
    "A((Data source 1)) ---Am --> B\n",
    "C((Data source 3)) ---Cm --> B\n",
    "```"
   ]
  },
  {
   "cell_type": "markdown",
   "id": "70067597",
   "metadata": {
    "slideshow": {
     "slide_type": "subslide"
    }
   },
   "source": [
    "----\n",
    "\n",
    "The lack of standardization in the format and meaning of data\n",
    "hinders interoperability between the databases of different organizations,\n",
    "and even inside different branches of the same organization,\n",
    "and therefore the creation of digital services.\n",
    "\n",
    "A first example is the lack of syntactic interoperability:\n",
    "a well-defined entity (eg. the tax code) is represented with different fields or formats:"
   ]
  },
  {
   "cell_type": "code",
   "execution_count": null,
   "id": "b4a0d2c4",
   "metadata": {},
   "outputs": [],
   "source": [
    "{\"tax_code\": \"MRORSS77T05E472W\"}\n",
    "{\"cf\": \"mrorss77T05E472W\"}\n",
    "{\"taxCode\": \"MRORSS77T05E472W\"}"
   ]
  },
  {
   "cell_type": "markdown",
   "id": "02078c8c",
   "metadata": {
    "slideshow": {
     "slide_type": "subslide"
    }
   },
   "source": [
    "----\n",
    "\n",
    "Another example is semantic interoperability: the concept of family has different meanings (eg. in the fiscal domain, in the registry domain, ..):"
   ]
  },
  {
   "cell_type": "markdown",
   "id": "e841e432",
   "metadata": {},
   "source": [
    "```yaml\n",
    "relatives:\n",
    "  - name: Mario Rossi\n",
    "    relationship: father\n",
    "  - name: Carla Rossi\n",
    "    relationship: sister\n",
    "    cohabiting: false\n",
    "```"
   ]
  },
  {
   "cell_type": "markdown",
   "id": "b88508d5",
   "metadata": {},
   "source": [
    "```yaml\n",
    "relatives:\n",
    "  - name: Mario Rossi\n",
    "    relationship: padre\n",
    "```"
   ]
  },
  {
   "cell_type": "markdown",
   "id": "6f10054e",
   "metadata": {
    "slideshow": {
     "slide_type": "slide"
    }
   },
   "source": [
    "---\n",
    "\n",
    "## Vocabularies to the rescue\n",
    "\n",
    "Controlled Vocabularies use URIs to disambiguate the meaning of terms and provide semantics.\n",
    "\n",
    "Every term is identified by an absolute URI.\n",
    "\n",
    "The prefix identifies the vocabulary name,\n",
    "and the suffix identifies the term."
   ]
  },
  {
   "cell_type": "code",
   "execution_count": null,
   "id": "fbfe17fa",
   "metadata": {},
   "outputs": [],
   "source": [
    "from rdflib import URIRef\n",
    "dog_uri = URIRef(\"https://dbpedia.org/data/Dog\")\n"
   ]
  },
  {
   "cell_type": "markdown",
   "id": "2bde7c66",
   "metadata": {},
   "source": [
    "### RDF: Resource Description Framework\n",
    "\n",
    "It allows to represent information on the web based on two data structures:\n",
    "\n",
    "- **elements** (IRIs, blank nodes and literals);\n",
    "- **triples** (subject-predicate-object);\n",
    "- **graphs** (sets of triples).\n",
    "\n",
    "and on **vocabularies** of elements identified by IRIs and namespaces.\n",
    "\n",
    "An RDF dataset is a set of **graphs**."
   ]
  },
  {
   "cell_type": "markdown",
   "id": "0aa826c8",
   "metadata": {
    "slideshow": {
     "slide_type": "subslide"
    }
   },
   "source": [
    "----\n",
    "\n",
    "To semantically standardize data, services and their content,\n",
    "conceptual tools such as ontologies\n",
    "and controlled vocabularies (codelist, taxonomies, ..)\n",
    "are used.\n",
    "\n",
    "#### Exercise: the DBpedia ontology and dataset\n",
    "\n",
    "Read the following RDF sentences"
   ]
  },
  {
   "cell_type": "code",
   "execution_count": null,
   "id": "b6405a8a",
   "metadata": {},
   "outputs": [],
   "source": [
    "sentences = \"\"\"\n",
    "@prefix : <http://dbpedia.org/resource/> .\n",
    "@prefix dbp: <http://dbpedia.org/property/> .\n",
    "@prefix dbo: <http://dbpedia.org/ontology/> .\n",
    "\n",
    ":Tortellini a          dbo:Food .\n",
    ":Tortellini dbp:country   :Italy .\n",
    ":Tortellini dbo:WikiPageWikiLink :Prosciutto .\n",
    ":Meat       dbo:WikiPageWikiLink :Prosciutto .\n",
    "\"\"\"\n"
   ]
  },
  {
   "cell_type": "markdown",
   "id": "224206ca",
   "metadata": {},
   "source": [
    "- Get the URIs representing Tortellini and Food;\n",
    "- what's the namespace of the `Tortellini` URI?\n",
    "- what's the namespace of the `Food` URI?\n",
    "- Open both URIs in a browser and check their content,\n",
    "  then try to understand the difference between\n",
    "  their namespaces.\n",
    "\n",
    "### Ontologies and controlled vocabularies\n",
    "\n",
    "To standardize the semantics of digital content,\n",
    "we use ontologies.\n",
    "\n",
    "- **Ontology**: an ontology is a set of logical axioms that conceptualize a domain of interest by defining concepts and the semantics of relationships between them.\n",
    "\n",
    "- **Controlled vocabulary**: a vocabulary where the terms are validated by a designated authority.\n",
    "  It can be of different types - e.g., a list (codelist), a hierarchical structure (taxonomy), a glossary and a thesaurus (which adds further constraints to a taxonomy).\n",
    "\n",
    "Examples of European controlled vocabularies are here <https://op.europa.eu/en/web/eu-vocabularies/controlled-vocabularies>"
   ]
  },
  {
   "cell_type": "markdown",
   "id": "68d83a7e",
   "metadata": {
    "slideshow": {
     "slide_type": "subslide"
    }
   },
   "source": [
    "----\n",
    "\n",
    "#### Ontologies\n",
    "\n",
    "In Italy, there's the official ontology of person\n",
    "(Common Person Vocabulary) that we can use to uniquely describe someone."
   ]
  },
  {
   "cell_type": "code",
   "execution_count": null,
   "id": "12382417",
   "metadata": {
    "attributes": {
     "classes": [
      "turtle"
     ],
     "id": ""
    }
   },
   "outputs": [],
   "source": [
    "@prefix cpv: <https://w3id.org/italia/onto/CPV> .\n",
    "\n",
    "<email:robipolli@gmail.com> cpv:givenName \"Roberto\" .\n",
    "<email:robipolli@gmail.com> cpv:familyName \"Polli\" .\n"
   ]
  },
  {
   "cell_type": "markdown",
   "id": "a31e75a5",
   "metadata": {
    "slideshow": {
     "slide_type": "subslide"
    }
   },
   "source": [
    "----\n",
    "\n",
    "An ontology is defined by a set of IRIs and their relationships."
   ]
  },
  {
   "cell_type": "code",
   "execution_count": null,
   "id": "a37876d6",
   "metadata": {
    "attributes": {
     "classes": [
      "turtle"
     ],
     "id": ""
    }
   },
   "outputs": [],
   "source": [
    "@prefix xsd:   <http://www.w3.org/2001/XMLSchema#> .\n",
    "@prefix dct:   <http://purl.org/dc/terms/> .\n",
    "\n",
    "https://w3id.org/italia/onto/CPV dct:modified  \"2020-04-27\"^^xsd:date ;\n",
    "https://w3id.org/italia/onto/CPV dct:title     \"Person Ontology\"@en,\n",
    "                                               \"Ontologia delle persone\"@it ;\n"
   ]
  }
 ],
 "metadata": {},
 "nbformat": 4,
 "nbformat_minor": 5
}
