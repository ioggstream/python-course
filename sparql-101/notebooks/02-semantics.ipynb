{
 "cells": [
  {
   "cell_type": "markdown",
   "id": "069533b1",
   "metadata": {},
   "source": [
    "# Knowledge Management 101\n",
    "\n",
    "## Agenda\n",
    "\n",
    "- Knowledge management\n",
    "- Semantics what?\n",
    "- Triples & co\n",
    "- Attaching semantics\n",
    "- Graph databases\n",
    "- JsonLD\n",
    "\n",
    "*Beware*: commands may contain small typos. You have to fix them to properly complete the course!"
   ]
  },
  {
   "cell_type": "markdown",
   "id": "af6dde39",
   "metadata": {
    "slideshow": {
     "slide_type": "subslide"
    }
   },
   "source": [
    "----\n",
    "\n",
    "## Intro: Semantics what?\n",
    "\n",
    "Semantics: the study of meaning.\n",
    "\n",
    "Semantics ensures that a message is understood;\n",
    "messages include data and HTTP exchanges.\n",
    "\n",
    "Here is an ambiguous message:"
   ]
  },
  {
   "cell_type": "markdown",
   "id": "d64e9781",
   "metadata": {},
   "source": [
    "```yaml\n",
    "name: FABIANO Romildo\n",
    "income: 4_000_000\n",
    "```"
   ]
  },
  {
   "cell_type": "markdown",
   "id": "71c5f0a5",
   "metadata": {},
   "source": [
    "Is this a given name or a full name?\n",
    "What is the currency of the income?\n",
    "Is it a monthly or yearly income?"
   ]
  },
  {
   "cell_type": "markdown",
   "id": "7b918234",
   "metadata": {
    "slideshow": {
     "slide_type": "subslide"
    }
   },
   "source": [
    "----\n",
    "\n",
    "Integrating data from different sources is difficult because of the lack of semantic interoperability."
   ]
  },
  {
   "cell_type": "markdown",
   "id": "a576e50b",
   "metadata": {},
   "source": [
    "```mermaid\n",
    "graph LR\n",
    "Am>\"{name: FABIANO Romildo\\nincome: 4_000_000}\"]\n",
    "Cm>\"{givenName: FABIANO\\nfamilyName: Romildo\\ntax: 12_000EUR}\"]\n",
    "B((Data sink))\n",
    "\n",
    "A((Data source 1)) ---Am --> B\n",
    "C((Data source 3)) ---Cm --> B\n",
    "```"
   ]
  },
  {
   "cell_type": "markdown",
   "id": "19fa899a",
   "metadata": {
    "slideshow": {
     "slide_type": "subslide"
    }
   },
   "source": [
    "----\n",
    "\n",
    ":exclamation: Identifiers may differ between systems,\n",
    "and even registry data are not always interoperable."
   ]
  },
  {
   "cell_type": "markdown",
   "id": "53970a5c",
   "metadata": {},
   "source": [
    "```mermaid\n",
    "graph LR\n",
    "Am>\"{givenName: Angela\\nfamilyName: Merkel\\ndate_of_birth: 1954-07-17}\"]\n",
    "Cm>\"{givenName: Angela\\nfamilyName: Kasner\\ndate_of_birth: 1954-07-17}\"]\n",
    "B((Data sink))\n",
    "\n",
    "A((Data source 1)) ---Am --> B\n",
    "C((Data source 3)) ---Cm --> B\n",
    "```"
   ]
  },
  {
   "cell_type": "markdown",
   "id": "c017ae6d",
   "metadata": {
    "slideshow": {
     "slide_type": "subslide"
    }
   },
   "source": [
    "----\n",
    "\n",
    "The lack of standardization in the format and meaning of data\n",
    "hinders interoperability between the databases of different organizations,\n",
    "and even inside different branches of the same organization,\n",
    "and therefore the creation of digital services.\n",
    "\n",
    "A first example is the lack of syntactic interoperability:\n",
    "a well-defined entity (eg. the tax code) is represented with different fields or formats:"
   ]
  },
  {
   "cell_type": "code",
   "execution_count": null,
   "id": "6caf1ee3",
   "metadata": {},
   "outputs": [],
   "source": [
    "{\"tax_code\": \"MRORSS77T05E472W\"}\n",
    "{\"cf\": \"mrorss77T05E472W\"}\n",
    "{\"taxCode\": \"MRORSS77T05E472W\"}"
   ]
  },
  {
   "cell_type": "markdown",
   "id": "06a9e7a0",
   "metadata": {
    "slideshow": {
     "slide_type": "subslide"
    }
   },
   "source": [
    "----\n",
    "\n",
    "Another example is semantic interoperability: the concept of family has different meanings (eg. in the fiscal domain, in the registry domain, ..):"
   ]
  },
  {
   "cell_type": "markdown",
   "id": "cc137c76",
   "metadata": {},
   "source": [
    "```yaml\n",
    "relatives:\n",
    "  - name: Mario Rossi\n",
    "    relationship: father\n",
    "  - name: Carla Rossi\n",
    "    relationship: sister\n",
    "    cohabiting: false\n",
    "```"
   ]
  },
  {
   "cell_type": "markdown",
   "id": "c221c370",
   "metadata": {},
   "source": [
    "```yaml\n",
    "relatives:\n",
    "  - name: Mario Rossi\n",
    "    relationship: padre\n",
    "```"
   ]
  },
  {
   "cell_type": "markdown",
   "id": "4c60aa1e",
   "metadata": {
    "slideshow": {
     "slide_type": "slide"
    }
   },
   "source": [
    "---\n",
    "\n",
    "## Vocabularies to the rescue\n",
    "\n",
    "Controlled Vocabularies use URIs to disambiguate the meaning of terms and provide semantics.\n",
    "\n",
    "Every term is identified by an absolute URI.\n",
    "\n",
    "The prefix identifies the vocabulary name,\n",
    "and the suffix identifies the term."
   ]
  },
  {
   "cell_type": "code",
   "execution_count": null,
   "id": "3adc6fd5",
   "metadata": {},
   "outputs": [],
   "source": [
    "from rdflib import URIRef\n",
    "dog_uri = URIRef(\"https://dbpedia.org/data/Dog\")\n"
   ]
  },
  {
   "cell_type": "markdown",
   "id": "989b979f",
   "metadata": {},
   "source": [
    "### RDF: Resource Description Framework\n",
    "\n",
    "It allows to represent information on the web based on two data structures:\n",
    "\n",
    "- **elements** (IRIs, blank nodes and literals);\n",
    "- **triples** (subject-predicate-object);\n",
    "- **graphs** (sets of triples).\n",
    "\n",
    "and on **vocabularies** of elements identified by IRIs and namespaces.\n",
    "\n",
    "An RDF dataset is a set of **graphs**."
   ]
  },
  {
   "cell_type": "markdown",
   "id": "94463ab6",
   "metadata": {
    "slideshow": {
     "slide_type": "subslide"
    }
   },
   "source": [
    "----\n",
    "\n",
    "To semantically standardize data, services and their content,\n",
    "conceptual tools such as ontologies\n",
    "and controlled vocabularies (codelist, taxonomies, ..)\n",
    "are used.\n",
    "\n",
    "#### Exercise: the DBpedia ontology and dataset\n",
    "\n",
    "Parse the following RDF sentences"
   ]
  },
  {
   "cell_type": "code",
   "execution_count": null,
   "id": "cfa03d60",
   "metadata": {},
   "outputs": [],
   "source": [
    "from rdflib import Graph\n",
    "\n",
    "sentences = \"\"\"\n",
    "@prefix    : <http://dbpedia.org/resource/> .\n",
    "@prefix dbp: <http://dbpedia.org/property/> .\n",
    "@prefix dbo: <http://dbpedia.org/ontology/> .\n",
    "\n",
    "# We can group together sentences with the same subject\n",
    "# using `;`\n",
    ":Tortellini\n",
    "  # `a` is a shortcut for `rdf:type`\n",
    "  a                    dbo:Food     ;\n",
    "  dbp:country          :Italy       ;\n",
    "  dbo:WikiPageWikiLink :Prosciutto  . # Always end with a dot\n",
    "\n",
    ":Meat       dbo:WikiPageWikiLink :Prosciutto .\n",
    "\"\"\"\n",
    "\n",
    "g = Graph()\n",
    "...\n"
   ]
  },
  {
   "cell_type": "markdown",
   "id": "adef1ec9",
   "metadata": {},
   "source": [
    "- Get the URIs representing Tortellini and Food using the `Graph.subjects`  and `Graph.objects` methods."
   ]
  },
  {
   "cell_type": "code",
   "execution_count": null,
   "id": "44409d0e",
   "metadata": {},
   "outputs": [],
   "source": [
    "# Deduplicate subjects using set()\n",
    "subjects = set( ... )\n",
    "objects = set( ... )\n",
    "print(subjects | objects)"
   ]
  },
  {
   "cell_type": "markdown",
   "id": "ac59590a",
   "metadata": {},
   "source": [
    "- what's the namespace of the `Tortellini` URI?\n",
    "- what's the namespace of the `Food` URI?\n",
    "- Open both URIs in a browser and check their content,\n",
    "  then try to understand the difference between\n",
    "  their namespaces.\n",
    "\n",
    "### Ontologies and controlled vocabularies\n",
    "\n",
    "Ontologies are used to standardize the semantics of digital content.\n",
    "\n",
    "- **Ontology**: an ontology is a set of logical axioms that conceptualize a domain of interest by defining concepts and the semantics of relationships between them.\n",
    "\n",
    "- **Controlled vocabulary**: a vocabulary where the terms are validated by a designated authority.\n",
    "  It can be of different types - e.g., a list (codelist), a hierarchical structure (taxonomy), a glossary and a thesaurus (which adds further constraints to a taxonomy).\n",
    "\n",
    "Examples of European controlled vocabularies are here <https://op.europa.eu/en/web/eu-vocabularies/controlled-vocabularies>"
   ]
  },
  {
   "cell_type": "markdown",
   "id": "5ac45dc8",
   "metadata": {
    "slideshow": {
     "slide_type": "subslide"
    }
   },
   "source": [
    "----\n",
    "\n",
    "#### Ontologies\n",
    "\n",
    "In Italy, there's the official ontology for person\n",
    "(Common Person Vocabulary) that we can use to uniquely describe someone."
   ]
  },
  {
   "cell_type": "code",
   "execution_count": null,
   "id": "5c484824",
   "metadata": {
    "attributes": {
     "classes": [
      "text"
     ],
     "id": ""
    }
   },
   "outputs": [],
   "source": [
    "@prefix CPV: <https://w3id.org/italia/onto/CPV> .\n",
    "\n",
    "<email:robipolli@gmail.com>\n",
    "  CPV:givenName \"Roberto\" ;\n",
    "  CPV:familyName \"Polli\" .\n"
   ]
  },
  {
   "cell_type": "markdown",
   "id": "89aa8194",
   "metadata": {
    "slideshow": {
     "slide_type": "subslide"
    }
   },
   "source": [
    "----\n",
    "\n",
    "An ontology is defined by a set of IRIs and their relationships."
   ]
  },
  {
   "cell_type": "code",
   "execution_count": null,
   "id": "7d3daca3",
   "metadata": {},
   "outputs": [],
   "source": [
    "from rdflib import Graph\n",
    "\n",
    "sentences = \"\"\"\n",
    "@prefix xsd:  <http://www.w3.org/2001/XMLSchema#> .\n",
    "@prefix dct:  <http://purl.org/dc/terms/> .\n",
    "\n",
    "<https://w3id.org/italia/onto/CPV>\n",
    "  dct:modified \"2020-04-27\"^^xsd:date ;\n",
    "  # Use `,` to group multiple objects\n",
    "  dct:title    \"Person Ontology\"@en,\n",
    "               \"Ontologia delle persone\"@it .\n",
    "\n",
    "# An ontology defines the meaning of predicates.\n",
    "<https://w3id.org/italia/onto/CPV/givenName>\n",
    "  rdfs:comment \"The given name of a person. E.g. 'Mario' is the given name of the person 'Mario Rossi'.\"@en ;\n",
    "  rdfs:label  \"given name\"@en ;\n",
    "  rdfs:range xsd:string .\n",
    "\n",
    "\"\"\"\n"
   ]
  },
  {
   "cell_type": "markdown",
   "id": "9b064dea",
   "metadata": {},
   "source": [
    "<!-- g = Graph() -->\n",
    "<!-- g.parse(data=sentences, format=\"turtle\") -->\n",
    "<!-- print(*g, sep=\"\\n\") -->\n",
    "<!-- len(list(g)) -->\n",
    "\n",
    "Exercise: how many triples are in the graph?"
   ]
  }
 ],
 "metadata": {},
 "nbformat": 4,
 "nbformat_minor": 5
}
