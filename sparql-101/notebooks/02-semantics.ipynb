{
 "cells": [
  {
   "cell_type": "markdown",
   "id": "bf26561a",
   "metadata": {},
   "source": [
    "# Knowledge Management 101\n",
    "\n",
    "## Agenda\n",
    "\n",
    "- Semantics what?\n",
    "- Triples & co\n",
    "- Attaching semantics\n",
    "- Graph databases\n",
    "- JsonLD\n",
    "\n",
    "*Beware*: commands may contain small typos. You have to fix them to properly complete the course!"
   ]
  },
  {
   "cell_type": "markdown",
   "id": "0e905a3a",
   "metadata": {
    "slideshow": {
     "slide_type": "subslide"
    }
   },
   "source": [
    "----\n",
    "\n",
    "## Semantics what?\n",
    "\n",
    "Semantics: the study of meaning.\n",
    "\n",
    "Semantics ensures that a message is understood;\n",
    "messages include data and HTTP exchanges.\n",
    "\n",
    "Here is an ambiguous message:"
   ]
  },
  {
   "cell_type": "markdown",
   "id": "26d31a03",
   "metadata": {},
   "source": [
    "```yaml\n",
    "name: FABIANO Romildo\n",
    "income: 4_000_000\n",
    "```"
   ]
  },
  {
   "cell_type": "markdown",
   "id": "e39f6218",
   "metadata": {},
   "source": [
    "Is this a given name or a full name?\n",
    "What is the currency of the income?\n",
    "Is it a monthly or yearly income?"
   ]
  },
  {
   "cell_type": "markdown",
   "id": "97892ecc",
   "metadata": {
    "slideshow": {
     "slide_type": "subslide"
    }
   },
   "source": [
    "----\n",
    "\n",
    "Integrating data from different sources is difficult because of the lack of semantic interoperability."
   ]
  },
  {
   "cell_type": "markdown",
   "id": "5f2c4406",
   "metadata": {},
   "source": [
    "```mermaid\n",
    "graph LR\n",
    "Am>\"{name: FABIANO Romildo\\nincome: 4_000_000}\"]\n",
    "Cm>\"{givenName: FABIANO\\nfamilyName: Romildo\\ntax: 12_000EUR}\"]\n",
    "B((Data sink))\n",
    "\n",
    "A((Data source 1)) ---Am --> B\n",
    "C((Data source 3)) ---Cm --> B\n",
    "```"
   ]
  },
  {
   "cell_type": "markdown",
   "id": "63aaaa68",
   "metadata": {
    "slideshow": {
     "slide_type": "subslide"
    }
   },
   "source": [
    "----\n",
    "\n",
    ":exclamation: Identifiers may differ between systems,\n",
    "and even registry data are not always interoperable."
   ]
  },
  {
   "cell_type": "markdown",
   "id": "37e48758",
   "metadata": {},
   "source": [
    "```mermaid\n",
    "graph LR\n",
    "Am>\"{givenName: Angela\\nfamilyName: Merkel\\ndate_of_birth: 1954-07-17}\"]\n",
    "Cm>\"{givenName: Angela\\nfamilyName: Kasner\\ndate_of_birth: 1954-07-17}\"]\n",
    "B((Data sink))\n",
    "\n",
    "A((Data source 1)) ---Am --> B\n",
    "C((Data source 3)) ---Cm --> B\n",
    "```"
   ]
  },
  {
   "cell_type": "markdown",
   "id": "9149bc84",
   "metadata": {
    "slideshow": {
     "slide_type": "subslide"
    }
   },
   "source": [
    "----\n",
    "\n",
    "The lack of standardization in the format and meaning of data\n",
    "hinders interoperability between the databases of different organizations,\n",
    "and even inside different branches of the same organization,\n",
    "and therefore the creation of digital services.\n",
    "\n",
    "A first example is the lack of syntactic interoperability:\n",
    "a well-defined entity (eg. the tax code) is represented with different fields or formats:"
   ]
  },
  {
   "cell_type": "markdown",
   "id": "448590cb",
   "metadata": {},
   "source": [
    "```json\n",
    "{\"tax_code\": \"RSSMRO77T05E472W\"}\n",
    "{\"cf\": \"RSSMRO77T05E472W\"}\n",
    "{\"taxCode\": \"RSSMRO77T05E472W\"}\n",
    "```"
   ]
  },
  {
   "cell_type": "markdown",
   "id": "6091534d",
   "metadata": {
    "slideshow": {
     "slide_type": "subslide"
    }
   },
   "source": [
    "----\n",
    "\n",
    "Another example is semantic interoperability: the concept of family has different meanings (eg. in the fiscal domain, in the registry domain, ..):"
   ]
  },
  {
   "cell_type": "markdown",
   "id": "617f7120",
   "metadata": {},
   "source": [
    "```yaml\n",
    "relatives:\n",
    "  - name: Mario Rossi\n",
    "    relationship: father\n",
    "  - name: Carla Rossi\n",
    "    relationship: sister\n",
    "    cohabiting: false\n",
    "```"
   ]
  },
  {
   "cell_type": "markdown",
   "id": "907b2d49",
   "metadata": {},
   "source": [
    "```yaml\n",
    "relatives:\n",
    "  - name: Mario Rossi\n",
    "    relationship: father\n",
    "```"
   ]
  },
  {
   "cell_type": "markdown",
   "id": "30a8fe50",
   "metadata": {
    "slideshow": {
     "slide_type": "slide"
    }
   },
   "source": [
    "---\n",
    "\n",
    "## Vocabularies to the rescue: Controlled vocabularies\n",
    "\n",
    "Controlled Vocabularies use URIs to disambiguate the meaning of terms and provide semantics.\n",
    "\n",
    "Every term is identified by an absolute URI.\n",
    "\n",
    "The prefix identifies the vocabulary name,\n",
    "and the suffix identifies the term."
   ]
  },
  {
   "cell_type": "code",
   "execution_count": null,
   "id": "7b41c241",
   "metadata": {},
   "outputs": [],
   "source": [
    "from rdflib import URIRef\n",
    "dog_uri = URIRef(\"https://dbpedia.org/data/Dog\")"
   ]
  },
  {
   "cell_type": "markdown",
   "id": "a48d6179",
   "metadata": {},
   "source": [
    "## Vocabularies to the rescue: RDF\n",
    "\n",
    "RDF: Resource Description Framework\n",
    "\n",
    "It allows to represent information on the web based on:\n",
    "\n",
    "- **elements** (IRIs, blank nodes and literals);"
   ]
  },
  {
   "cell_type": "code",
   "execution_count": null,
   "id": "bd4650f6",
   "metadata": {},
   "outputs": [],
   "source": [
    "from rdflib import URIRef, Literal, BNode\n",
    "\n",
    "iri = URIRef(\"mailto:mr@test\")\n",
    "iri2 = URIRef(\"https://schema.org/name\")\n",
    "blank_node = BNode(\"anon\")\n",
    "literal = Literal(\"Mario Rossi\")\n",
    "\n",
    "# Serialize in the N3 format\n",
    "# (Notation 3 is a compact, human-readable format for RDF)\n",
    "print(iri.n3(),  blank_node.n3(), literal.n3(), sep=\"\\n\")"
   ]
  },
  {
   "cell_type": "markdown",
   "id": "94633b8c",
   "metadata": {},
   "source": [
    "Exercise: RDF elements\n",
    "\n",
    "In the cell below, create a literal with the following values\n",
    "and look at its [Notation 3 (N3)](https://www.w3.org/TeamSubmission/n3/) serialization.\n",
    "\n",
    "- `42` (integer), `42.0` (float), `\"42\"` (string);\n",
    "- `datetime.now()` (date);"
   ]
  },
  {
   "cell_type": "code",
   "execution_count": null,
   "id": "0ab3fd2c",
   "metadata": {},
   "outputs": [],
   "source": [
    "from datetime import datetime\n",
    "...\n",
    "for value in (42, 42.0, \"42\", datetime.now()):\n",
    "    literal = Literal(value)\n",
    "    print(literal.n3())"
   ]
  },
  {
   "cell_type": "markdown",
   "id": "53cbb521",
   "metadata": {},
   "source": [
    "- **triples** (subject-predicate-object);"
   ]
  },
  {
   "cell_type": "code",
   "execution_count": null,
   "id": "26f54d6c",
   "metadata": {},
   "outputs": [],
   "source": [
    "triple = (iri, iri2, literal)\n",
    "print(triple)"
   ]
  },
  {
   "cell_type": "markdown",
   "id": "90392664",
   "metadata": {},
   "source": [
    "- **graphs** (sets of triples)."
   ]
  },
  {
   "cell_type": "code",
   "execution_count": null,
   "id": "d8295353",
   "metadata": {},
   "outputs": [],
   "source": [
    "from rdflib import Graph\n",
    "g = Graph()\n",
    "g.add(triple)\n",
    "print(g.serialize(format=\"turtle\"))"
   ]
  },
  {
   "cell_type": "markdown",
   "id": "47356d3c",
   "metadata": {},
   "source": [
    "and on **vocabularies** of elements identified by IRIs and namespaces."
   ]
  },
  {
   "cell_type": "markdown",
   "id": "93948419",
   "metadata": {
    "slideshow": {
     "slide_type": "subslide"
    }
   },
   "source": [
    "----\n",
    "\n",
    "An RDF dataset is a set of **graphs**."
   ]
  },
  {
   "cell_type": "markdown",
   "id": "3fc0989c",
   "metadata": {},
   "source": [
    "```mermaid\n",
    "graph LR\n",
    "\n",
    "subgraph Dataset\n",
    "  subgraph Graph1[\"Graph &lt;https\\://example.org/graph1&gt;\"]\n",
    "    t1[\n",
    "    subject predicate object .\n",
    "    subject predicate object .\n",
    "    subject predicate object .\n",
    "    ]\n",
    "  end\n",
    "  subgraph Graph2[Graph &lt;urn:example:graph2&gt;]\n",
    "    t2[\n",
    "    subject predicate object .\n",
    "    subject predicate object .\n",
    "    subject predicate object .\n",
    "    ]\n",
    "  end\n",
    "  subgraph Graph3[Graph &lt;_:anonymous_graph&gt;]\n",
    "  t3[\n",
    "  subject predicate object .\n",
    "  subject predicate object .\n",
    "  subject predicate object .\n",
    "  ]\n",
    "  end\n",
    "end\n",
    "```"
   ]
  },
  {
   "cell_type": "code",
   "execution_count": null,
   "id": "a759d42a",
   "metadata": {},
   "outputs": [],
   "source": [
    "from rdflib import Dataset\n",
    "\n",
    "d = Dataset()"
   ]
  },
  {
   "cell_type": "markdown",
   "id": "c2164b14",
   "metadata": {},
   "source": [
    "#### Exercise: dataset\n",
    "\n",
    "- use the `Dataset.graphs` method to list the graphs in the dataset;\n",
    "\n",
    "- add a graph to the dataset."
   ]
  },
  {
   "cell_type": "code",
   "execution_count": null,
   "id": "fcdfd698",
   "metadata": {},
   "outputs": [],
   "source": [
    "simpsons = d.graph(identifier=\"urn:example:simpsons\")\n",
    "simpsons.parse(\"simpsons.ttl\", format=\"turtle\")\n"
   ]
  },
  {
   "cell_type": "markdown",
   "id": "bd8d51d0",
   "metadata": {},
   "source": [
    "- list the graphs in the dataset again, together with their identifiers.\n",
    "\n",
    "<!-- len(graphs) -->\n",
    "<!-- graphs = list(d.graphs()) -->\n",
    "\n",
    "- get the `identifier` of one graph. What's its type?\n",
    "\n",
    "\n",
    "<!-- [(g.identifier.n3(), type(g.identifier) ) for g in graphs] -->"
   ]
  },
  {
   "cell_type": "markdown",
   "id": "55fac132",
   "metadata": {
    "slideshow": {
     "slide_type": "subslide"
    }
   },
   "source": [
    "----\n",
    "\n",
    "To semantically standardize data, services and their content,\n",
    "conceptual tools such as ontologies\n",
    "and controlled vocabularies (codelist, taxonomies, ..)\n",
    "are used.\n",
    "\n",
    "#### Exercise: the DBpedia ontology and dataset\n",
    "\n",
    "Parse the following RDF sentences in a dataset."
   ]
  },
  {
   "cell_type": "code",
   "execution_count": null,
   "id": "0425f5d9",
   "metadata": {},
   "outputs": [],
   "source": [
    "sentences = \"\"\"\n",
    "@prefix    : <http://dbpedia.org/resource/> .\n",
    "@prefix dbp: <http://dbpedia.org/property/> .\n",
    "@prefix dbo: <http://dbpedia.org/ontology/> .\n",
    "\n",
    "# We can group together sentences with the same subject\n",
    "# using `;`\n",
    ":Tortellini\n",
    "  # `a` is a shortcut for `rdf:type`\n",
    "  a                    dbo:Food     ;\n",
    "  dbp:country          :Italy       ;\n",
    "  dbo:WikiPageWikiLink :Prosciutto  . # Always end with a dot\n",
    "\n",
    ":Meat       dbo:WikiPageWikiLink :Prosciutto .\n",
    "\"\"\"\n",
    "\n",
    "# Create a new named graph in the dataset.\n",
    "g = d.graph(identifier=\"urn:my_dbpedia\")\n",
    "...\n"
   ]
  },
  {
   "cell_type": "markdown",
   "id": "0467e0ef",
   "metadata": {},
   "source": [
    "- Get the URIs representing Tortellini and Food using the `Graph.subjects`  and `Graph.objects` methods."
   ]
  },
  {
   "cell_type": "code",
   "execution_count": null,
   "id": "d69e0607",
   "metadata": {},
   "outputs": [],
   "source": [
    "# Deduplicate subjects using set()\n",
    "subjects = set( ... )\n",
    "objects = set( ... )\n",
    "print(subjects | objects)"
   ]
  },
  {
   "cell_type": "markdown",
   "id": "66ffff26",
   "metadata": {},
   "source": [
    "<!-- print(set(g.subjects())) -->\n",
    "- what's the namespace of the `Tortellini` URI?\n",
    "- what's the namespace of the `Food` URI?\n",
    "- Open both URIs in a browser and check their content,\n",
    "  then try to understand the difference between\n",
    "  their namespaces.\n",
    "\n",
    "## Ontologies and controlled vocabularies\n",
    "\n",
    "Ontologies are used to standardize the semantics of digital content.\n",
    "\n",
    "- **Ontology**: an ontology is a set of logical axioms that conceptualize a domain of interest by defining concepts and the semantics of relationships between them.\n",
    "\n",
    "Example: the Italian ontology for person defines:\n",
    "\n",
    "- the concept of person;\n",
    "- its properties (e.g., givenName, familyName, hasChildren);\n",
    "- the range of each property (e.g., string, date, person);\n",
    "- the domain of each property (e.g., person, organization, place);\n",
    "- See also <https://w3id.org/italia/onto/CPV/Person>."
   ]
  },
  {
   "cell_type": "markdown",
   "id": "beefa870",
   "metadata": {},
   "source": [
    "```mermaid\n",
    "graph TD\n",
    "\n",
    "subgraph CPV[\"CPV Ontology\"]\n",
    "  Person\n",
    "  familyName([familyName])\n",
    "  givenName([givenName])\n",
    "  hasChildren([hasChildren])\n",
    "end\n",
    "\n",
    "subgraph xsd[XMLSchema]\n",
    "  xsd:string\n",
    "end\n",
    "\n",
    "givenName & familyName & hasChildren -.-o|domain| Person\n",
    "\n",
    "familyName & givenName ---->|range| xsd:string\n",
    "hasChildren -->|range| Person\n",
    "\n",
    "\n",
    "```"
   ]
  },
  {
   "cell_type": "markdown",
   "id": "13b89b85",
   "metadata": {},
   "source": [
    "- **Controlled vocabulary**: a vocabulary where the terms are validated by a designated authority.\n",
    "  It can be of different types - e.g., a list (codelist), a hierarchical structure (taxonomy), a glossary and a thesaurus (which adds further constraints to a taxonomy).\n",
    "\n",
    "Examples of European controlled vocabularies are here <https://op.europa.eu/en/web/eu-vocabularies/controlled-vocabularies>"
   ]
  },
  {
   "cell_type": "markdown",
   "id": "475f43b2",
   "metadata": {
    "slideshow": {
     "slide_type": "subslide"
    }
   },
   "source": [
    "----\n",
    "\n",
    "## Ontologies in Italy\n",
    "\n",
    "In Italy, there's <https://schema.gov.it>, a National Data Catalog for Semantic Interoperatbility\n",
    "containing the official ontology for person\n",
    "(Common Person Vocabulary) that we can use to uniquely describe someone."
   ]
  },
  {
   "cell_type": "code",
   "execution_count": null,
   "id": "3a6b3d4f",
   "metadata": {
    "attributes": {
     "classes": [
      "text"
     ],
     "id": ""
    }
   },
   "outputs": [],
   "source": [
    "@prefix CPV: <https://w3id.org/italia/onto/CPV> .\n",
    "\n",
    "<email:robipolli@gmail.com>\n",
    "  CPV:givenName \"Roberto\" ;\n",
    "  CPV:familyName \"Polli\" .\n"
   ]
  },
  {
   "cell_type": "markdown",
   "id": "cbc4f9aa",
   "metadata": {
    "slideshow": {
     "slide_type": "subslide"
    }
   },
   "source": [
    "----\n",
    "\n",
    "An ontology is defined by a set of IRIs and their relationships."
   ]
  },
  {
   "cell_type": "code",
   "execution_count": null,
   "id": "208b5897",
   "metadata": {},
   "outputs": [],
   "source": [
    "from rdflib import Graph\n",
    "\n",
    "sentences = \"\"\"\n",
    "@prefix xsd:  <http://www.w3.org/2001/XMLSchema#> .\n",
    "@prefix dct:  <http://purl.org/dc/terms/> .\n",
    "\n",
    "<https://w3id.org/italia/onto/CPV>\n",
    "  dct:modified \"2020-04-27\"^^xsd:date ;\n",
    "  # Use `,` to group multiple objects\n",
    "  dct:title    \"Person Ontology\"@en,\n",
    "               \"Ontologia delle persone\"@it .\n",
    "\n",
    "# An ontology defines the meaning of predicates.\n",
    "<https://w3id.org/italia/onto/CPV/givenName>\n",
    "  rdfs:comment \"The given name of a person. E.g. 'Mario' is the given name of the person 'Mario Rossi'.\"@en ;\n",
    "  rdfs:label  \"given name\"@en ;\n",
    "  rdfs:range xsd:string .\n",
    "\n",
    "\"\"\"\n"
   ]
  },
  {
   "cell_type": "markdown",
   "id": "be7559e1",
   "metadata": {},
   "source": [
    "<!-- g = Graph() -->\n",
    "<!-- g.parse(data=sentences, format=\"turtle\") -->\n",
    "<!-- print(*g, sep=\"\\n\") -->\n",
    "<!-- len(list(g)) -->\n",
    "\n",
    "Exercise: how many triples are in the graph?"
   ]
  }
 ],
 "metadata": {},
 "nbformat": 4,
 "nbformat_minor": 5
}
