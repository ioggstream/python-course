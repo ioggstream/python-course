{
 "cells": [
  {
   "cell_type": "markdown",
   "id": "ecd3ad7b",
   "metadata": {},
   "source": [
    "# Modeling Semantic APIs\n",
    "\n",
    "## Agenda\n",
    "\n",
    "- API e Semantica\n",
    "- json-schema e json-ld"
   ]
  },
  {
   "cell_type": "markdown",
   "id": "fb574d44",
   "metadata": {
    "slideshow": {
     "slide_type": "slide"
    }
   },
   "source": [
    "---\n",
    "\n",
    "## API e Semantica\n",
    "\n",
    "Quando scambiamo informazioni tramite API\n",
    "la semantica non è sempre chiara:\n",
    "\n",
    "- è implicita;\n",
    "- è in qualche pdf/xls;\n",
    "- non è machine readable.\n",
    "\n",
    "Descrivendo un'API con un IDL (wsdl o OAS3)\n",
    "possiamo descrivere la semantica includendola\n",
    "nell'IDL."
   ]
  },
  {
   "cell_type": "markdown",
   "id": "e0717a19",
   "metadata": {
    "slideshow": {
     "slide_type": "slide"
    }
   },
   "source": [
    "---\n",
    "\n",
    "### Semantica e Sintassi\n",
    "\n",
    "La descrizione semantica di un'API\n",
    "non abilita necessariamente delle comunicazioni\n",
    "efficienti e sicure.\n",
    "\n",
    "Per validare un oggetto json-ld, serve risolverne\n",
    "ricorsivamente tutte le referenze:\n",
    "è complesso farlo in maniera sincrona.\n",
    "\n",
    "La possibilità di validare sintatticamente\n",
    "i dati inoltre semplifica molto il quadro di interoperabilità.\n",
    "\n",
    "Definendo inoltre la semantica va\n",
    "definita in fase di specifica\n",
    "evita di dover risolvere a runtime\n",
    "referenze ricorsive\n",
    "ed evita problemi di \"@context mangling\"."
   ]
  },
  {
   "cell_type": "markdown",
   "id": "442f68d2",
   "metadata": {
    "slideshow": {
     "slide_type": "subslide"
    }
   },
   "source": [
    "----\n",
    "\n",
    "#### Collegare context e dati\n",
    "\n",
    "Le specifiche json-ld definiscono un meccanismo per\n",
    "per descrivere il contesto di un content json tramite `Link` header."
   ]
  },
  {
   "cell_type": "code",
   "execution_count": null,
   "id": "5399ea2a",
   "metadata": {
    "attributes": {
     "classes": [
      "http"
     ],
     "id": ""
    }
   },
   "outputs": [],
   "source": [
    "HTTP/1.1 200 OK\n",
    "Content-Type: application/json\n",
    "Link: <https://api.example/simple-person.jsonld>;\n",
    "     rel=\"http://www.w3.org/ns/json-ld#context\"; type=\"application/ld+json\"\n",
    "\n",
    "{ \"given_name\": \"Roberto\", \"family_name\": \"Polli\" }"
   ]
  },
  {
   "cell_type": "markdown",
   "id": "7b61bcea",
   "metadata": {},
   "source": [
    "Ma non un meccanismo per associare queste informazioni ad uno schema."
   ]
  },
  {
   "cell_type": "markdown",
   "id": "901f2362",
   "metadata": {
    "slideshow": {
     "slide_type": "subslide"
    }
   },
   "source": [
    "----\n",
    "\n",
    "#### Collegare context e schema\n",
    "\n",
    "RDF non permette sempre di associare uno schema univoco agli\n",
    "elementi di un grafo.\n",
    "\n",
    "Anche associando una `Location` al luogo di nascita\n",
    "di una persona tramite  `rdfs:range` con"
   ]
  },
  {
   "cell_type": "code",
   "execution_count": null,
   "id": "88afb6b1",
   "metadata": {
    "attributes": {
     "classes": [
      "turtle"
     ],
     "id": ""
    }
   },
   "outputs": [],
   "source": [
    "prefix cpv: <https://w3id.org/italia/onto/CPV/> .\n",
    "prefix l0: <https://w3id.org/italia/onto/l0/> .\n",
    "\n",
    "cpv:hasBirthPlace rdfs:range l0:Location"
   ]
  },
  {
   "cell_type": "markdown",
   "id": "fd03ef34",
   "metadata": {},
   "source": [
    "non è detto che sia semplice associare una sintassi\n",
    "a `Location` che, in questo caso potrebbe essere ad esempio:\n",
    "\n",
    "- un indirizzo\n",
    "- una coppia di coordinate\n",
    "- l'URI di un luogo"
   ]
  },
  {
   "cell_type": "markdown",
   "id": "22377b07",
   "metadata": {
    "slideshow": {
     "slide_type": "subslide"
    }
   },
   "source": [
    "----\n",
    "\n",
    "Uno scambio efficiente di informazioni in tempo reale\n",
    "richiede una sintassi ben definita\n",
    "validabile a runtime in modo efficiente.\n",
    "\n",
    "La sintassi può essere validata con specifiche quali\n",
    "[json-schema]() e [xmlschema]().\n",
    "\n",
    "json-schema può essere usato anche per validare\n",
    "la sintassi di un file json-ld."
   ]
  },
  {
   "cell_type": "markdown",
   "id": "63d375a7",
   "metadata": {
    "slideshow": {
     "slide_type": "subslide"
    }
   },
   "source": [
    "----\n",
    "\n",
    "Per dichiarare il @context associandolo ad uno schema\n",
    "possiamo integrarlo nella definizione attraverso\n",
    "un valore `const`.\n",
    "Se una property è esterna al vocabolario,\n",
    "basta\n",
    "[disassociarla dal vocabolario](https://w3c.github.io/json-ld-syntax/#example-25-using-the-null-keyword-to-ignore-data)\n",
    "assegnandole il valore `null`."
   ]
  },
  {
   "cell_type": "markdown",
   "id": "c16a6e50",
   "metadata": {},
   "source": [
    "```yaml\n",
    "# Associate a json-ld context to a schema\n",
    "Customer:\n",
    "  type: object\n",
    "  required: [email]\n",
    "  properties:\n",
    "    \"@context\":\n",
    "      const:\n",
    "        \"@vocab\": \"http://schema.org\"\n",
    "        pet: null\n",
    "    email: {type: string}\n",
    "    pet: {type: string}\n",
    "```"
   ]
  },
  {
   "cell_type": "markdown",
   "id": "94741c6b",
   "metadata": {
    "slideshow": {
     "slide_type": "subslide"
    }
   },
   "source": [
    "----\n",
    "\n",
    "E' anche possibile indicare un link,\n",
    "evitando però di usarlo per poi alterare\n",
    "la semantica dei dati."
   ]
  },
  {
   "cell_type": "markdown",
   "id": "858df64c",
   "metadata": {},
   "source": [
    "```yaml\n",
    "# Associate a json-ld context to a schema\n",
    "Customer:\n",
    "  type: object\n",
    "  required: [email]\n",
    "  properties:\n",
    "    \"@context\":\n",
    "      const: \"https://api.example/customer-context.jsonld\"\n",
    "    email: {type: string}\n",
    "    pet: {type: string}\n",
    "```"
   ]
  },
  {
   "cell_type": "markdown",
   "id": "7a03ba15",
   "metadata": {
    "slideshow": {
     "slide_type": "subslide"
    }
   },
   "source": [
    "----\n",
    "\n",
    "Descrivendo un'API in formato OAS3 possiamo\n",
    "descrivere i diversi formati usando i meccanismi\n",
    "di content-negotiation."
   ]
  },
  {
   "cell_type": "markdown",
   "id": "3780d34b",
   "metadata": {},
   "source": [
    "```yaml\n",
    "openapi: 3.0.1\n",
    "...\n",
    "paths:\n",
    "  /users:\n",
    "    get:\n",
    "      ...\n",
    "      responses:\n",
    "        \"200\":\n",
    "          content:\n",
    "            application/json:\n",
    "              schema:\n",
    "                $ref: \"#/components/schemas/Person\"\n",
    "            application/ld+json:\n",
    "              schema:\n",
    "                allOf:\n",
    "                - type: object\n",
    "                  properties:\n",
    "                    \"@context\":\n",
    "                      const:\n",
    "                        \"@vocab\":   \"https://w3id.org/italia/onto/CPV/\"\n",
    "                        given_name:  givenName\n",
    "                        family_name: familyName\n",
    "                - $ref: \"#/components/schemas/Person\"\n",
    "\n",
    "\n",
    "```"
   ]
  },
  {
   "cell_type": "markdown",
   "id": "5e008424",
   "metadata": {
    "slideshow": {
     "slide_type": "slide"
    }
   },
   "source": [
    "---\n",
    "\n",
    "### Vocabolario per la semantica\n",
    "\n",
    "Un altro meccanismo per collegare @context\n",
    "e schema, è quello di utilizzare un vocabolario\n",
    "e delle parole chiavi all'interno dello schema.\n",
    "\n",
    "Questo meccanismo è più semplice, ma richiede\n",
    "di generare il @context a partire da un vocabolario esterno."
   ]
  },
  {
   "cell_type": "markdown",
   "id": "b8e4b073",
   "metadata": {},
   "source": [
    "```yaml\n",
    "Person:\n",
    "  type: object\n",
    "  properties:\n",
    "    givenName:\n",
    "      type: string\n",
    "      x-refersTo: https://w3id.org/italia/onto/CPV/givenName\n",
    "    familyName:\n",
    "      x-refersTo: https://w3id.org/italia/onto/CPV/familyName\n",
    "      type: string\n",
    "\n",
    "```"
   ]
  },
  {
   "cell_type": "markdown",
   "id": "71e1fba9",
   "metadata": {},
   "source": [
    "### Ontologia per json-schema\n",
    "\n",
    "Il progetto [Web of Things](https://w3.org/ns/td.jsonld) definisce invece\n",
    "un vocabolario per \"Thing description\" in formato json-ld dove ad ogni property viene associato\n",
    "sia un valore semantico che uno sintattico tramite il vocabolario\n",
    "[json-schema](https://w3.org/ns/json-schema/).\n",
    "\n",
    "## Trasformare dati semantici\n",
    "\n",
    "E' possibile trasformare dei dati semanticamente definiti in diversi formati\n",
    "usando una serie di specifiche.\n",
    "\n",
    "- https://www.w3.org/2013/csvw/wiki/CSV-LD\n",
    "- https://www.w3.org/TR/json-ld-framing/ force a specific tree layout to a JSON-LD document."
   ]
  },
  {
   "cell_type": "markdown",
   "id": "da6f11cc",
   "metadata": {},
   "source": [
    "```mermaid\n",
    "flowchart\n",
    "\n",
    " RDF--Framing--> JSON --context--> RDF\n",
    " CSV --csv-ld--> RDF\n",
    "\n",
    "```"
   ]
  },
  {
   "cell_type": "markdown",
   "id": "3e68b7bd",
   "metadata": {},
   "source": [
    "---"
   ]
  }
 ],
 "metadata": {},
 "nbformat": 4,
 "nbformat_minor": 5
}
