{
 "cells": [
  {
   "cell_type": "markdown",
   "id": "17089c5d",
   "metadata": {},
   "source": [
    "# Knowledge Management 101\n",
    "\n",
    "## Agenda\n",
    "\n",
    "- Knowledge management\n",
    "- Semantics what?\n",
    "- Triples & co\n",
    "- Attaching semantics\n",
    "- Graph databases\n",
    "- JsonLD\n",
    "\n",
    "*Beware*: commands may contain small typos. You have to fix them to properly complete the course!"
   ]
  },
  {
   "cell_type": "markdown",
   "id": "312de91a",
   "metadata": {
    "slideshow": {
     "slide_type": "subslide"
    }
   },
   "source": [
    "----\n",
    "\n",
    "Prerequisites:\n",
    "\n",
    "- json, yaml, xmlschema\n",
    "- HTTP, OpenAPI 3\n",
    "- SQL and database hints"
   ]
  },
  {
   "cell_type": "markdown",
   "id": "744b399d",
   "metadata": {
    "slideshow": {
     "slide_type": "slide"
    }
   },
   "source": [
    "---\n",
    "\n",
    "## Intro: What is knowledge?\n",
    "\n",
    "Knowledge is a set of information that is useful for a given purpose.\n",
    "\n",
    "We express knowledge through language and symbols\n",
    "in various forms: text, images, and sounds.\n",
    "\n",
    "To use knowledge we need to:\n",
    "\n",
    "- sense;\n",
    "- interpret;\n",
    "- understand.\n",
    "\n",
    "When reading a book, for example, we not only need to read and understand the words,\n",
    "but also to interpret the meaning of the sentences and paragraphs\n",
    "based on the context and our previous knowledge."
   ]
  },
  {
   "cell_type": "markdown",
   "id": "d624b915",
   "metadata": {
    "slideshow": {
     "slide_type": "subslide"
    }
   },
   "source": [
    "----\n",
    "\n",
    "## Intro: The Encyclopedia\n",
    "\n",
    "The Encyclopedia was one of the first attempts to organize knowledge,\n",
    "and to make it available to the public.\n",
    "\n",
    "Today, we have various encyclopedias on the web,\n",
    "such as Wikipedia and dbpedia.\n",
    "\n",
    "Exercise: open the \"Python\" page on dbpedia:\n",
    "\n",
    "- https://dbpedia.org/page/Python_(programming_language)\n",
    "\n",
    "And on Wikidata:\n",
    "\n",
    "- https://www.wikidata.org/wiki/Q28865"
   ]
  },
  {
   "cell_type": "markdown",
   "id": "6b88c40a",
   "metadata": {
    "slideshow": {
     "slide_type": "subslide"
    }
   },
   "source": [
    "----\n",
    "\n",
    "## Intro: The Encyclopedia\n",
    "\n",
    "Knowledge is organized in a graph structure,\n",
    "where each node is a concept and the edges are the relationships between them."
   ]
  },
  {
   "cell_type": "markdown",
   "id": "5cbf10f3",
   "metadata": {},
   "source": [
    "```mermaid\n",
    "graph LR\n",
    "\n",
    "subgraph dbpedia[DBpedia]\n",
    "  dbr:Python[Python] -->|designer| dbr:gvr[Guido van Rossum]\n",
    "  dbr:Python[Python] -->|operating System| dbr:win[Windows] & dbr:linux[Linux] & ...\n",
    "  dbr:gvr -->|born| dbr:nl[Netherlands]\n",
    "end\n",
    "\n",
    "subgraph wikidata[WikiData]\n",
    "  wd:Q30942[Guido van Rossum] ---|developer| wd:Q28865[Python]\n",
    "  wd:Q16402[Monty Python] ---|named after| wd:Q28865\n",
    "end\n",
    "\n",
    "wd:Q28865 -.-|same as| dbr:Python\n",
    "wd:Q30942 -.-|same as| dbr:gvr\n",
    "```"
   ]
  },
  {
   "cell_type": "markdown",
   "id": "37d5d4b3",
   "metadata": {},
   "source": [
    "This is the basis of the Semantic Web,\n",
    "where knowledge is represented in a machine-readable format,\n",
    "but it is also the basis of the Web itself\n",
    "(e.g., see [Web Linking RFC 8288](https://datatracker.ietf.org/doc/html/rfc8288))."
   ]
  },
  {
   "cell_type": "markdown",
   "id": "68900194",
   "metadata": {
    "slideshow": {
     "slide_type": "subslide"
    }
   },
   "source": [
    "----\n",
    "\n",
    "## Intro: The Encyclopedia\n",
    "\n",
    "The above graph can be expressed by sentences such as:\n",
    "\n",
    "- Python is named after Monty Python.\n",
    "- Guido van Rossum is the designer of Python.\n",
    "- Python runs on Linux.\n",
    "\n",
    "their general form is"
   ]
  },
  {
   "cell_type": "markdown",
   "id": "c005e593",
   "metadata": {},
   "source": [
    "```mermaid\n",
    "graph LR\n",
    "subject((subject)) --- predicate(predicate) --> object\n",
    "```"
   ]
  },
  {
   "cell_type": "markdown",
   "id": "0142ecce",
   "metadata": {},
   "source": [
    "## Intro: The Encyclopedia\n",
    "\n",
    "Encyclopedia voices on Wikipedia and dbpedia are expressed in\n",
    "[Resource Description Framework (RDF)](https://www.w3.org/TR/rdf11-primer/).\n",
    "\n",
    "It is a formal language to represent knowledge in a machine-readable format\n",
    "using triples of the form `subject predicate object`.\n",
    "\n",
    "Let's translate the above definition from English to RDF:\n",
    "\n",
    "> Tortellini are a typical Italian food,\n",
    "> <br>made with pasta filled with meat such as prosciutto.\n",
    "\n",
    "becomes something like"
   ]
  },
  {
   "cell_type": "code",
   "execution_count": null,
   "id": "bcdce224",
   "metadata": {
    "attributes": {
     "classes": [
      "turtle"
     ],
     "id": ""
    }
   },
   "outputs": [],
   "source": [
    ":Tortellini a :Food .\n",
    ":Tortellini :country dbr:Italy .\n",
    ":Tortellini :relatedTo dbr:Prosciutto ."
   ]
  },
  {
   "cell_type": "markdown",
   "id": "58c46601",
   "metadata": {},
   "source": [
    "## Exercise: Get a voice from dbpedia\n",
    "\n",
    "Now, let's get the actual voice from dbpedia\n",
    "using the python RDF library."
   ]
  },
  {
   "cell_type": "code",
   "execution_count": 3,
   "id": "b6190470",
   "metadata": {},
   "outputs": [
    {
     "data": {
      "text/plain": [
       "<Graph identifier=Ndbfeb72a9586402bab53b8ccf3fee99b (<class 'rdflib.graph.Graph'>)>"
      ]
     },
     "execution_count": 3,
     "metadata": {},
     "output_type": "execute_result"
    }
   ],
   "source": [
    "# Get a voice from dbpedia using rdflib\n",
    "from rdflib import Graph\n",
    "from requests import get\n",
    "# What's Tortellini?\n",
    "g = Graph()\n",
    "g.parse(data=get(\"https://dbpedia.org/data/Tortellini.ttl\").text, format=\"turtle\")"
   ]
  },
  {
   "cell_type": "markdown",
   "id": "d74700b6",
   "metadata": {},
   "source": [
    "We get a graph with the information about Tortellini."
   ]
  },
  {
   "cell_type": "markdown",
   "id": "f966d9e4",
   "metadata": {},
   "source": [
    "```mermaid\n",
    "graph LR\n",
    "  subgraph dbpedia[DBpedia]\n",
    "    dbr:Tortellini[Tortellini] -->|is a| dbo:Food[Food]\n",
    "    dbr:Tortellini -->|related to| dbr:Prosciutto[Prosciutto]\n",
    "    dbr:Tortellini -->|country| dbp:Italy[Italy]\n",
    "    ...\n",
    "  end\n",
    "```"
   ]
  },
  {
   "cell_type": "markdown",
   "id": "9e09ef8d",
   "metadata": {},
   "source": [
    "An encyclopedia voice contains a list of sentences :)"
   ]
  },
  {
   "cell_type": "code",
   "execution_count": null,
   "id": "520b4791",
   "metadata": {},
   "outputs": [],
   "source": [
    "# List all the details about Tortellini.\n",
    "sentences = list(g)\n",
    "\n",
    "print('\\n'.join([str(s) for s in sentences]))"
   ]
  },
  {
   "cell_type": "markdown",
   "id": "86a71aa0",
   "metadata": {},
   "source": [
    "Exercise:\n",
    "\n",
    "- how many sentences are there?\n",
    "- how many elements does each sentence have?"
   ]
  },
  {
   "cell_type": "markdown",
   "id": "7a077d4f",
   "metadata": {},
   "source": [
    "----"
   ]
  },
  {
   "cell_type": "code",
   "execution_count": null,
   "id": "4d18b18d",
   "metadata": {},
   "outputs": [],
   "source": [
    "from rdflib.namespace import RDF, RDFS, FOAF\n",
    "\n",
    "# Now we get specific properties from the graph.\n",
    "_type = list(g.objects(predicate=RDF.type))\n",
    "print(_type)"
   ]
  },
  {
   "cell_type": "code",
   "execution_count": null,
   "id": "c442255d",
   "metadata": {},
   "outputs": [],
   "source": [
    "import rdflib\n",
    "from rdflib.extras.external_graph_libs import rdflib_to_networkx_multidigraph\n",
    "import networkx as nx\n",
    "import matplotlib.pyplot as plt\n",
    "\n",
    "G = rdflib_to_networkx_multidigraph(g)\n",
    "\n",
    "# Plot Networkx instance of RDF Graph\n",
    "pos = nx.spring_layout(G, scale=2)\n",
    "edge_labels = nx.get_edge_attributes(G, 'r')\n",
    "nx.draw_networkx_edge_labels(G, pos, edge_labels=edge_labels)\n",
    "nx.draw(G, with_labels=True)\n",
    "\n",
    "#if not in interactive mode for\n",
    "plt.show()\n"
   ]
  },
  {
   "cell_type": "markdown",
   "id": "5a8ad042",
   "metadata": {},
   "source": [
    "## Intro: Semantics what?\n",
    "\n",
    "Semantics: the study of meaning.\n",
    "\n",
    "Semantics ensures that a message is understood;\n",
    "messages include data and HTTP exchanges.\n",
    "\n",
    "Here are some ambiguous messages:"
   ]
  },
  {
   "cell_type": "markdown",
   "id": "3cd2a007",
   "metadata": {},
   "source": [
    "```yaml\n",
    "name: FABIANO Romildo\n",
    "income: 4_000_000\n",
    "```"
   ]
  },
  {
   "cell_type": "markdown",
   "id": "7c6ef343",
   "metadata": {},
   "source": [
    "Is this a given name or a full name?\n",
    "What is the currency of the income?\n",
    "Is it a monthly or yearly income?"
   ]
  },
  {
   "cell_type": "markdown",
   "id": "0945f6fc",
   "metadata": {
    "slideshow": {
     "slide_type": "subslide"
    }
   },
   "source": [
    "----\n",
    "\n",
    "Integrating data from different sources is difficult because of the lack of semantic interoperability."
   ]
  },
  {
   "cell_type": "markdown",
   "id": "ff6f372e",
   "metadata": {},
   "source": [
    "```mermaid\n",
    "graph LR\n",
    "Am>\"{name: FABIANO Romildo\\nincome: 4_000_000}\"]\n",
    "Cm>\"{givenName: FABIANO\\nfamilyName: Romildo\\ntax: 12_000EUR}\"]\n",
    "B((Data sink))\n",
    "\n",
    "A((Data source 1)) ---Am --> B\n",
    "C((Data source 3)) ---Cm --> B\n",
    "```"
   ]
  },
  {
   "cell_type": "markdown",
   "id": "cec2a096",
   "metadata": {
    "slideshow": {
     "slide_type": "subslide"
    }
   },
   "source": [
    "----\n",
    "\n",
    "Identifiers may differ between systems,\n",
    "and even registry data are not always interoperable."
   ]
  },
  {
   "cell_type": "markdown",
   "id": "3779e015",
   "metadata": {},
   "source": [
    "```mermaid\n",
    "graph LR\n",
    "Am>\"{givenName: Angela\\nfamilyName: Merkel\\ndate_of_birth: 1954-07-17}\"]\n",
    "Cm>\"{givenName: Angela\\nfamilyName: Kasner\\ndate_of_birth: 1954-07-17}\"]\n",
    "B((Data sink))\n",
    "\n",
    "A((Data source 1)) ---Am --> B\n",
    "C((Data source 3)) ---Cm --> B\n",
    "```"
   ]
  },
  {
   "cell_type": "markdown",
   "id": "f7ed1b61",
   "metadata": {
    "slideshow": {
     "slide_type": "subslide"
    }
   },
   "source": [
    "----\n",
    "\n",
    "The lack of standardization in the format and meaning of data\n",
    "hinders interoperability between the databases of different organizations,\n",
    "and even inside different branches of the same organization,\n",
    "and therefore the creation of digital services.\n",
    "\n",
    "A first example is the lack of syntactic interoperability:\n",
    "a well-defined entity (eg. the tax code) is represented with different fields or formats:"
   ]
  },
  {
   "cell_type": "code",
   "execution_count": null,
   "id": "f73e3bc9",
   "metadata": {},
   "outputs": [],
   "source": [
    "{\"tax_code\": \"MRORSS77T05E472W\"}\n",
    "{\"cf\": \"mrorss77T05E472W\"}\n",
    "{\"taxCode\": \"MRORSS77T05E472W\"}"
   ]
  },
  {
   "cell_type": "markdown",
   "id": "7862a925",
   "metadata": {
    "slideshow": {
     "slide_type": "subslide"
    }
   },
   "source": [
    "----\n",
    "\n",
    "Another example is semantic interoperability: the concept of family has different meanings (eg. in the fiscal domain, in the registry domain, ..):"
   ]
  },
  {
   "cell_type": "markdown",
   "id": "4991b95b",
   "metadata": {},
   "source": [
    "```yaml\n",
    "relatives:\n",
    "  - name: Mario Rossi\n",
    "    relationship: father\n",
    "  - name: Carla Rossi\n",
    "    relationship: sister\n",
    "    cohabiting: false\n",
    "```"
   ]
  },
  {
   "cell_type": "markdown",
   "id": "f0c0d00d",
   "metadata": {},
   "source": [
    "```yaml\n",
    "relatives:\n",
    "  - name: Mario Rossi\n",
    "    relationship: padre\n",
    "```"
   ]
  },
  {
   "cell_type": "markdown",
   "id": "683d891e",
   "metadata": {
    "slideshow": {
     "slide_type": "slide"
    }
   },
   "source": [
    "---\n",
    "\n",
    "## Vocabularies to the rescue\n",
    "\n",
    "Controlled Vocabularies use URIs to disambiguate the meaning of terms and provide semantics.\n",
    "\n",
    "Every term is identified by an absolute URI.\n",
    "The prefix identifies the vocabulary name,\n",
    "and the suffix identifies the term."
   ]
  },
  {
   "cell_type": "code",
   "execution_count": null,
   "id": "131749fc",
   "metadata": {},
   "outputs": [],
   "source": [
    "\n",
    "dog_uri = \"https://dbpedia.org/data/Dog\"\n"
   ]
  },
  {
   "cell_type": "markdown",
   "id": "3e9f7fbd",
   "metadata": {},
   "source": [
    "To semantically standardize data, services and their content, conceptual tools such as ontologies and controlled vocabularies (codelist, taxonomies, ..) are used.\n",
    "\n",
    "Ontology: an ontology is a set of logical axioms that conceptualize a domain of interest by defining concepts and the semantics of relationships between them.\n",
    "\n",
    "When ontologies contain further restrictions (e.g.,\n",
    "\n",
    "Controlled vocabulary: a vocabulary where the terms are validated by a designated authority.\n",
    "It can be of different types - EG.A list (codelist), a hierarchical structure (taxonomy), a glossary and a tesauro (which adds further constraints to a taxonomy).\n",
    "\n",
    "Examples of European controlled vocabularies are found here https://op.europa.eu/en/web/eu-vocabularies/controlled-vocabularies\n",
    "\n",
    "## Syntax standardization\n",
    "\n",
    "Data model: a data model, or data schema is a formal representation/description and machine-penadable of the actual or potential content of the data contained in a separate object.\n",
    "\n",
    "In other words, it is the set of semantic and sequential instructions that can be used\n",
    "to check the stored input in a given file,\n",
    "or to connect a file that respects these instructions to a system or an application of exchange of information.\n",
    "\n",
    "There are several formats to describe the patterns,\n",
    "including XML Schema  and JSON Schema. Formal definition of the syntax of an entity.\n",
    "See https://json-schema.org/understanding-json-schema/about.html\n",
    "\n",
    "A Controlled vocabulary may support syntactic standardization."
   ]
  },
  {
   "cell_type": "markdown",
   "id": "b3d81e71",
   "metadata": {
    "slideshow": {
     "slide_type": "subslide"
    }
   },
   "source": [
    "----\n",
    "\n",
    "Per standardizzare sintatticamente i servizi serve pubblicare degli schemi dati a cui tutte le organizzazioni devono conformarsi. Storicamente la standardizzazione degli schemi dati si basa sul concetto di namespace eventualmente distribuiti - vedi il formato di specifica XSD.\n",
    "\n",
    "Se in ecosistemi ben definiti questo approccio funziona, al crescere della dimensione si pongono una serie di problematiche legate sia alla compattezza dei dati trasportati che del contesto di sicurezza legato ad esempio alla eventuale necessità di dereferenziare gli URI (eg. https://owasp.org/www-pdf-archive/XML_Based_Attacks_-_OWASP.pdf ) .\n",
    "\n",
    "Mentre poi la metadatazione delle pagine tramite json-ld ha come platea principale i sistemi di processamento batch dei motori di ricerca, i dati convogliati tramite API vengono sempre più frequentemente processati da applicazioni mobile che hanno dei vincoli sia in termini di banda che di consumo di risorse (eg. batteria dei cellulari, riscaldamento) più stringenti.\n",
    "\n",
    "Inoltre la creazione di servizi sempre più integrati porta ad un aumento del numero di richieste, e della conseguente necessità di supportare in maniera sostenibile i carichi sui sistemi IT."
   ]
  },
  {
   "cell_type": "markdown",
   "id": "e4596f2a",
   "metadata": {
    "slideshow": {
     "slide_type": "slide"
    }
   },
   "source": [
    "---\n",
    "\n",
    "## Defining semantic contents\n",
    "\n",
    "Semantic contents are defined through\n",
    "sentences of the form\n",
    "`subject predicate object`\n",
    "and their sets (called graphs).\n",
    "\n",
    "Here is an example of a graph with three sentences:"
   ]
  },
  {
   "cell_type": "code",
   "execution_count": null,
   "id": "9acd5f4f",
   "metadata": {},
   "outputs": [],
   "source": [
    "\"the dog\" \"has the color\" \"black\"\n",
    "\"the dog\" \"is an\" \"animal\"\n",
    "\"black\" \"is a\" \"color\""
   ]
  },
  {
   "cell_type": "markdown",
   "id": "cbc3d113",
   "metadata": {},
   "source": [
    "and an associated formal description in text/turle"
   ]
  },
  {
   "cell_type": "code",
   "execution_count": null,
   "id": "65ed09ce",
   "metadata": {},
   "outputs": [],
   "source": [
    "prefix animals: <https://animals.example>\n",
    "prefix colors: <https://animals.example>\n",
    "\n",
    "animals:dog colors:hasColor colors:black\n",
    "colors:black a colors:Color\n",
    "animals:dog a animals:Animal"
   ]
  },
  {
   "cell_type": "markdown",
   "id": "00c6b948",
   "metadata": {
    "slideshow": {
     "slide_type": "subslide"
    }
   },
   "source": [
    "----\n",
    "\n",
    "RDF: Resource Description Framework\n",
    "\n",
    "allows to represent information on the web based on two data structures:\n",
    "\n",
    "- **elements** (IRIs, blank nodes and literals);\n",
    "- **triples** (subject-predicate-object);\n",
    "- **graphs** (sets of triples).\n",
    "\n",
    "and on **vocabularies** of elements identified by IRIs and namespaces.\n",
    "\n",
    "An RDF dataset is a set of **graphs**."
   ]
  },
  {
   "cell_type": "markdown",
   "id": "35726329",
   "metadata": {
    "slideshow": {
     "slide_type": "subslide"
    }
   },
   "source": [
    "----\n",
    "\n",
    "#### Ontologies\n",
    "\n",
    "To standardize the semantics of digital content,\n",
    "we use ontologies.\n",
    "\n",
    "In Italy, there's the official ontology of person\n",
    "(Common Person Vocabulary) that we can use to uniquely describe someone."
   ]
  },
  {
   "cell_type": "code",
   "execution_count": null,
   "id": "7d125a96",
   "metadata": {},
   "outputs": [],
   "source": [
    "@prefix cpv: <https://w3id.org/italia/onto/CPV> .\n",
    "\n",
    "<email:robipolli@gmail.com> cpv:givenName \"Roberto\" .\n",
    "<email:robipolli@gmail.com> cpv:familyName \"Polli\" .\n"
   ]
  },
  {
   "cell_type": "markdown",
   "id": "b29a3e45",
   "metadata": {
    "slideshow": {
     "slide_type": "subslide"
    }
   },
   "source": [
    "----\n",
    "\n",
    "An ontology is defined by a set of IRIs and their relationships."
   ]
  },
  {
   "cell_type": "code",
   "execution_count": null,
   "id": "03709d15",
   "metadata": {},
   "outputs": [],
   "source": [
    "@prefix xsd:   <http://www.w3.org/2001/XMLSchema#> .\n",
    "@prefix dct:   <http://purl.org/dc/terms/> .\n",
    "\n",
    "https://w3id.org/italia/onto/CPV dct:modified  \"2020-04-27\"^^xsd:date ;\n",
    "https://w3id.org/italia/onto/CPV dct:title     \"Person Ontology\"@en,\n",
    "                                               \"Ontologia delle persone\"@it ;\n"
   ]
  },
  {
   "cell_type": "markdown",
   "id": "38922698",
   "metadata": {
    "slideshow": {
     "slide_type": "slide"
    }
   },
   "source": [
    "---\n",
    "\n",
    "### Json-LD\n",
    "\n",
    "JSON-LD è un formato che permette di serializzare in JSON delle informazioni basate sul\n",
    "[RDF data model](https://www.w3.org/TR/json-ld11/#data-model).\n",
    "\n",
    "Un documento JSON-LD è quindi sia un documento RDF che JSON, e rappresenta un'istanza di un RDF data model.\n",
    "\n",
    "JSON-LD inoltre *estende* RDF per permettere la serializzazione di dataset RDF generalizzati."
   ]
  },
  {
   "cell_type": "markdown",
   "id": "8c4fe713",
   "metadata": {
    "slideshow": {
     "slide_type": "subslide"
    }
   },
   "source": [
    "----\n",
    "Dato un oggetto JSON"
   ]
  },
  {
   "cell_type": "markdown",
   "id": "6ab64196",
   "metadata": {},
   "source": [
    "```yaml\n",
    "id: robipolli@gmail.com\n",
    "given_name: Roberto\n",
    "family_name: Polli\n",
    "```"
   ]
  },
  {
   "cell_type": "markdown",
   "id": "f134c6bb",
   "metadata": {},
   "source": [
    "JSON-LD permette di trasformarlo in un grafo RDF associandogli un contesto."
   ]
  },
  {
   "cell_type": "markdown",
   "id": "b065135a",
   "metadata": {},
   "source": [
    "```yaml\n",
    "\"@context\":\n",
    "  cpv: \"https://w3id.org/italia/onto/CPV\"\n",
    "  given_name: \"cpv:givenName\"\n",
    "  family_name: \"cpv:familyName\"\n",
    "  id: \"@id\"\n",
    "id: robipolli@gmail.com\n",
    "given_name: Roberto\n",
    "family_name: Polli\n",
    "```"
   ]
  },
  {
   "cell_type": "markdown",
   "id": "64db2077",
   "metadata": {
    "slideshow": {
     "slide_type": "slide"
    }
   },
   "source": [
    "---\n",
    "\n",
    "Oltre all'ontologia italiana, un altro vocabolario\n",
    "molto usato sul web è www.schema.org. Le parole chiave\n",
    "che definisce sono disponibili in formato json-ld\n",
    "https://schema.org/docs/jsonldcontext.jsonld"
   ]
  },
  {
   "cell_type": "markdown",
   "id": "98e7246d",
   "metadata": {
    "slideshow": {
     "slide_type": "slide"
    }
   },
   "source": [
    "---\n",
    "\n",
    "È anche possibile ridefinire o localizzare i campi,\n",
    "eventualmente usando diversi namespace."
   ]
  },
  {
   "cell_type": "markdown",
   "id": "cbb809f4",
   "metadata": {},
   "source": [
    "```yaml\n",
    "\"@context\":\n",
    "  \"sdo\": \"http://schema.org/\"\n",
    "  \"nome\":\"sdo:name\"\n",
    "  \"nome_proprio\": \"sdo:givenName\"\n",
    "\"@type\": \"Person\"\n",
    "  \"nome\": \"Jane Doe\"\n",
    "  \"nome_proprio\": \"Jane\"\n",
    "  \"sdo:jobTitle\": \"Professor\"\n",
    "  \"sdo:telephone\": \"(425) 123-4567\"\n",
    "```"
   ]
  },
  {
   "cell_type": "markdown",
   "id": "dbe29fa5",
   "metadata": {
    "slideshow": {
     "slide_type": "slide"
    }
   },
   "source": [
    "---\n",
    "\n",
    "### Localizzazione\n",
    "\n",
    "JSON-LD supporta nativamente informazioni\n",
    "localizzate:"
   ]
  },
  {
   "cell_type": "markdown",
   "id": "a3b29a55",
   "metadata": {},
   "source": [
    "```yaml\n",
    "-- come lista\n",
    "occupation:\n",
    "-  @value: \"Student\"\n",
    "   @language: en\n",
    "-  @value: \"Etudiant\"\n",
    "   @language: fr\n",
    "```"
   ]
  },
  {
   "cell_type": "markdown",
   "id": "a2235bdc",
   "metadata": {},
   "source": [
    "oppure"
   ]
  },
  {
   "cell_type": "markdown",
   "id": "f6f2c863",
   "metadata": {},
   "source": [
    "```yaml\n",
    "-- come oggetto\n",
    "@context:\n",
    "  occupation:\n",
    "    @container: @language\n",
    "occupation:\n",
    "  en: Student\n",
    "  fr: Etudiant\n",
    "```"
   ]
  },
  {
   "cell_type": "markdown",
   "id": "318ed8e2",
   "metadata": {},
   "source": [
    "oppure"
   ]
  },
  {
   "cell_type": "markdown",
   "id": "186dbe2d",
   "metadata": {},
   "source": [
    "```yaml\n",
    "--- tramite elementi multipli, utile anche per la serializzazione di API semplici\n",
    "@context:\n",
    "  occupation: {@language: en}\n",
    "  occupation_fr: {@language: fr}\n",
    "occupation: Student\n",
    "occupation_fr: Etudiant\n",
    "```"
   ]
  },
  {
   "cell_type": "markdown",
   "id": "dc23814a",
   "metadata": {
    "slideshow": {
     "slide_type": "slide"
    }
   },
   "source": [
    "---\n",
    "\n",
    "#### Context mangling\n",
    "\n",
    "@context mangling: modificando il contesto di un oggetto\n",
    "se ne altera il significato."
   ]
  },
  {
   "cell_type": "markdown",
   "id": "98557a84",
   "metadata": {},
   "source": [
    "```yaml\n",
    "payment_from: alice@foo.example\n",
    "payment_to: bob@foo.example\n",
    "\"@context\": https://payment/context.jsonld\n",
    "```"
   ]
  },
  {
   "cell_type": "markdown",
   "id": "de51c413",
   "metadata": {},
   "source": [
    "Alterando la risposta del server https://payment/context.jsonld\n",
    "possiamo invertire il verso del pagamento!"
   ]
  },
  {
   "cell_type": "markdown",
   "id": "58de02ca",
   "metadata": {},
   "source": [
    "```yaml\n",
    "@context:\n",
    "  payment_from: http://banking#debtor\n",
    "  payment_to: http://banking#creditor\n",
    "```"
   ]
  },
  {
   "cell_type": "markdown",
   "id": "ad9dee43",
   "metadata": {},
   "source": [
    "->"
   ]
  },
  {
   "cell_type": "markdown",
   "id": "8d9e060e",
   "metadata": {},
   "source": [
    "```yaml\n",
    "@context:\n",
    "  payment_to: http://banking#debtor\n",
    "  payment_from: http://banking#creditor\n",
    "```"
   ]
  },
  {
   "cell_type": "markdown",
   "id": "a8eaff40",
   "metadata": {
    "slideshow": {
     "slide_type": "subslide"
    }
   },
   "source": [
    "----\n",
    "\n",
    "Esistono diverse ipotesi tecnologiche basate\n",
    "sull'elaborazione semantica dei dati a runtime.\n",
    "Tutte queste implementazioni devono indirizzare\n",
    "questo tipo di rischi."
   ]
  }
 ],
 "metadata": {
  "kernelspec": {
   "display_name": "py3",
   "language": "python",
   "name": "python3"
  },
  "language_info": {
   "codemirror_mode": {
    "name": "ipython",
    "version": 3
   },
   "file_extension": ".py",
   "mimetype": "text/x-python",
   "name": "python",
   "nbconvert_exporter": "python",
   "pygments_lexer": "ipython3",
   "version": "3.10.12"
  }
 },
 "nbformat": 4,
 "nbformat_minor": 5
}
