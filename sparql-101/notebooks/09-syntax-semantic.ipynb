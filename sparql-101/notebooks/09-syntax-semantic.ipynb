{
 "cells": [
  {
   "cell_type": "markdown",
   "id": "fa4feb4a",
   "metadata": {},
   "source": [
    "# Modeling Semantic APIs\n",
    "\n",
    "## Agenda\n",
    "\n",
    "- API e Semantica\n",
    "- json-schema e json-ld"
   ]
  },
  {
   "cell_type": "markdown",
   "id": "b3d0f3a9",
   "metadata": {
    "slideshow": {
     "slide_type": "slide"
    }
   },
   "source": [
    "---\n",
    "\n",
    "## API e Semantica\n",
    "\n",
    "Quando scambiamo informazioni tramite API\n",
    "la semantica non è sempre chiara:\n",
    "\n",
    "- è implicita;\n",
    "- è in qualche pdf/xls;\n",
    "- non è machine readable.\n",
    "\n",
    "Descrivendo un'API con un IDL (wsdl o OAS3)\n",
    "possiamo descrivere la semantica includendola\n",
    "nell'IDL."
   ]
  },
  {
   "cell_type": "markdown",
   "id": "54da289c",
   "metadata": {
    "slideshow": {
     "slide_type": "slide"
    }
   },
   "source": [
    "---\n",
    "\n",
    "### Semantica e Sintassi\n",
    "\n",
    "La descrizione semantica di un'API\n",
    "non abilita necessariamente delle comunicazioni\n",
    "efficienti e sicure.\n",
    "\n",
    "Per validare un oggetto json-ld, serve risolverne\n",
    "ricorsivamente tutte le referenze:\n",
    "è complesso farlo in maniera sincrona.\n",
    "\n",
    "La possibilità di validare sintatticamente\n",
    "i dati inoltre semplifica molto il quadro di interoperabilità.\n",
    "\n",
    "Definendo inoltre la semantica va\n",
    "definita in fase di specifica\n",
    "evita di dover risolvere a runtime\n",
    "referenze ricorsive\n",
    "ed evita problemi di \"@context mangling\"."
   ]
  },
  {
   "cell_type": "markdown",
   "id": "4dfa6d28",
   "metadata": {
    "slideshow": {
     "slide_type": "subslide"
    }
   },
   "source": [
    "----\n",
    "\n",
    "#### Collegare context e dati\n",
    "\n",
    "Le specifiche json-ld definiscono un meccanismo per\n",
    "per descrivere il contesto di un content json tramite `Link` header."
   ]
  },
  {
   "cell_type": "code",
   "execution_count": null,
   "id": "20ca617a",
   "metadata": {
    "attributes": {
     "classes": [
      "http"
     ],
     "id": ""
    }
   },
   "outputs": [],
   "source": [
    "HTTP/1.1 200 OK\n",
    "Content-Type: application/json\n",
    "Link: <https://api.example/simple-person.jsonld>;\n",
    "     rel=\"http://www.w3.org/ns/json-ld#context\"; type=\"application/ld+json\"\n",
    "\n",
    "{ \"given_name\": \"Roberto\", \"family_name\": \"Polli\" }"
   ]
  },
  {
   "cell_type": "markdown",
   "id": "e08836d2",
   "metadata": {},
   "source": [
    "Ma non un meccanismo per associare queste informazioni ad uno schema."
   ]
  },
  {
   "cell_type": "markdown",
   "id": "2212dfd7",
   "metadata": {
    "slideshow": {
     "slide_type": "subslide"
    }
   },
   "source": [
    "----\n",
    "\n",
    "#### Collegare context e schema\n",
    "\n",
    "RDF non permette sempre di associare uno schema univoco agli\n",
    "elementi di un grafo.\n",
    "\n",
    "Anche associando una `Location` al luogo di nascita\n",
    "di una persona tramite  `rdfs:range` con"
   ]
  },
  {
   "cell_type": "code",
   "execution_count": null,
   "id": "b4fe29db",
   "metadata": {
    "attributes": {
     "classes": [
      "turtle"
     ],
     "id": ""
    }
   },
   "outputs": [],
   "source": [
    "prefix cpv: <https://w3id.org/italia/onto/CPV/> .\n",
    "prefix l0: <https://w3id.org/italia/onto/l0/> .\n",
    "\n",
    "cpv:hasBirthPlace rdfs:range l0:Location"
   ]
  },
  {
   "cell_type": "markdown",
   "id": "451f7cfb",
   "metadata": {},
   "source": [
    "non è detto che sia semplice associare una sintassi\n",
    "a `Location` che, in questo caso potrebbe essere ad esempio:\n",
    "\n",
    "- un indirizzo\n",
    "- una coppia di coordinate\n",
    "- l'URI di un luogo"
   ]
  },
  {
   "cell_type": "markdown",
   "id": "082badfa",
   "metadata": {
    "slideshow": {
     "slide_type": "subslide"
    }
   },
   "source": [
    "----\n",
    "\n",
    "Uno scambio efficiente di informazioni in tempo reale\n",
    "richiede una sintassi ben definita\n",
    "validabile a runtime in modo efficiente.\n",
    "\n",
    "La sintassi può essere validata con specifiche quali\n",
    "[json-schema]() e [xmlschema]().\n",
    "\n",
    "json-schema può essere usato anche per validare\n",
    "la sintassi di un file json-ld."
   ]
  },
  {
   "cell_type": "markdown",
   "id": "cfd6f056",
   "metadata": {
    "slideshow": {
     "slide_type": "subslide"
    }
   },
   "source": [
    "----\n",
    "\n",
    "Per dichiarare il @context associandolo ad uno schema\n",
    "possiamo integrarlo nella definizione attraverso\n",
    "un valore `const`.\n",
    "Se una property è esterna al vocabolario,\n",
    "basta\n",
    "[disassociarla dal vocabolario](https://w3c.github.io/json-ld-syntax/#example-25-using-the-null-keyword-to-ignore-data)\n",
    "assegnandole il valore `null`."
   ]
  },
  {
   "cell_type": "markdown",
   "id": "543778a1",
   "metadata": {},
   "source": [
    "```yaml\n",
    "# Associate a json-ld context to a schema\n",
    "Customer:\n",
    "  type: object\n",
    "  required: [email]\n",
    "  properties:\n",
    "    \"@context\":\n",
    "      const:\n",
    "        \"@vocab\": \"http://schema.org\"\n",
    "        pet: null\n",
    "    email: {type: string}\n",
    "    pet: {type: string}\n",
    "```"
   ]
  },
  {
   "cell_type": "markdown",
   "id": "7f69cb68",
   "metadata": {
    "slideshow": {
     "slide_type": "subslide"
    }
   },
   "source": [
    "----\n",
    "\n",
    "E' anche possibile indicare un link,\n",
    "evitando però di usarlo per poi alterare\n",
    "la semantica dei dati."
   ]
  },
  {
   "cell_type": "markdown",
   "id": "c97eeec0",
   "metadata": {},
   "source": [
    "```yaml\n",
    "# Associate a json-ld context to a schema\n",
    "Customer:\n",
    "  type: object\n",
    "  required: [email]\n",
    "  properties:\n",
    "    \"@context\":\n",
    "      const: \"https://api.example/customer-context.jsonld\"\n",
    "    email: {type: string}\n",
    "    pet: {type: string}\n",
    "```"
   ]
  },
  {
   "cell_type": "markdown",
   "id": "5da41a74",
   "metadata": {
    "slideshow": {
     "slide_type": "subslide"
    }
   },
   "source": [
    "----\n",
    "\n",
    "Descrivendo un'API in formato OAS3 possiamo\n",
    "descrivere i diversi formati usando i meccanismi\n",
    "di content-negotiation."
   ]
  },
  {
   "cell_type": "markdown",
   "id": "90af88f6",
   "metadata": {},
   "source": [
    "```yaml\n",
    "openapi: 3.0.1\n",
    "...\n",
    "paths:\n",
    "  /users:\n",
    "    get:\n",
    "      ...\n",
    "      responses:\n",
    "        \"200\":\n",
    "          content:\n",
    "            application/json:\n",
    "              schema:\n",
    "                $ref: \"#/components/schemas/Person\"\n",
    "            application/ld+json:\n",
    "              schema:\n",
    "                allOf:\n",
    "                - type: object\n",
    "                  properties:\n",
    "                    \"@context\":\n",
    "                      const:\n",
    "                        \"@vocab\":   \"https://w3id.org/italia/onto/CPV/\"\n",
    "                        given_name:  givenName\n",
    "                        family_name: familyName\n",
    "                - $ref: \"#/components/schemas/Person\"\n",
    "\n",
    "\n",
    "```"
   ]
  },
  {
   "cell_type": "markdown",
   "id": "47906214",
   "metadata": {
    "slideshow": {
     "slide_type": "slide"
    }
   },
   "source": [
    "---\n",
    "\n",
    "### Vocabolario per la semantica\n",
    "\n",
    "Un altro meccanismo per collegare @context\n",
    "e schema, è quello di utilizzare un vocabolario\n",
    "e delle parole chiavi all'interno dello schema.\n",
    "\n",
    "Questo meccanismo è più semplice, ma richiede\n",
    "di generare il @context a partire da un vocabolario esterno."
   ]
  },
  {
   "cell_type": "markdown",
   "id": "3aa26666",
   "metadata": {},
   "source": [
    "```yaml\n",
    "Person:\n",
    "  type: object\n",
    "  properties:\n",
    "    givenName:\n",
    "      type: string\n",
    "      x-refersTo: https://w3id.org/italia/onto/CPV/givenName\n",
    "    familyName:\n",
    "      x-refersTo: https://w3id.org/italia/onto/CPV/familyName\n",
    "      type: string\n",
    "\n",
    "```"
   ]
  },
  {
   "cell_type": "markdown",
   "id": "2e9437a0",
   "metadata": {},
   "source": [
    "### Ontologia per json-schema\n",
    "\n",
    "Il progetto [Web of Things](https://w3.org/ns/td.jsonld) definisce invece\n",
    "un vocabolario per \"Thing description\" in formato json-ld dove ad ogni property viene associato\n",
    "sia un valore semantico che uno sintattico tramite il vocabolario\n",
    "[json-schema](https://w3.org/ns/json-schema/).\n",
    "\n",
    "## Trasformare dati semantici\n",
    "\n",
    "E' possibile trasformare dei dati semanticamente definiti in diversi formati\n",
    "usando una serie di specifiche.\n",
    "\n",
    "- https://www.w3.org/2013/csvw/wiki/CSV-LD\n",
    "- https://www.w3.org/TR/json-ld-framing/ force a specific tree layout to a JSON-LD document."
   ]
  },
  {
   "cell_type": "markdown",
   "id": "3b9df0f8",
   "metadata": {},
   "source": [
    "```mermaid\n",
    "flowchart\n",
    "\n",
    " RDF--Framing--> JSON --context--> RDF\n",
    " CSV --csv-ld--> RDF\n",
    "\n",
    "```"
   ]
  },
  {
   "cell_type": "markdown",
   "id": "dd4d7fe8",
   "metadata": {},
   "source": [
    "---"
   ]
  }
 ],
 "metadata": {},
 "nbformat": 4,
 "nbformat_minor": 5
}
