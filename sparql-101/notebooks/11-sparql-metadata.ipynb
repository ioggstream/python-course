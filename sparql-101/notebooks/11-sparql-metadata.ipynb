{
 "cells": [
  {
   "cell_type": "markdown",
   "id": "3d1e75e7",
   "metadata": {},
   "source": [
    "# Agenda\n",
    "\n",
    "- Using SparQL to query metadata\n",
    "\n",
    "## Metadata, Metadata\n",
    "\n",
    "Between all triples,\n",
    "some contain metadata,\n",
    "such as:\n",
    "\n",
    "- the resource types (`rdf:type`/`a`, or `rdfs:subClassOf` predicates);\n",
    "- information about predicates;"
   ]
  },
  {
   "cell_type": "code",
   "execution_count": null,
   "id": "1a05e897",
   "metadata": {},
   "outputs": [],
   "source": [
    "g=Graph(store=\"Oxigraph\")\n",
    "\n",
    "# Load the graph.\n",
    "g.parse(\"countries-skos-ap-act.ttl\", format=\"ox-turtle\")"
   ]
  },
  {
   "cell_type": "markdown",
   "id": "43f296c2",
   "metadata": {},
   "source": [
    "And query the simplest metadata."
   ]
  },
  {
   "cell_type": "code",
   "execution_count": null,
   "id": "c828d450",
   "metadata": {},
   "outputs": [],
   "source": [
    "q = \"\"\"\n",
    "SELECT DISTINCT\n",
    "  ?type\n",
    "WHERE {\n",
    "  ?s a ?type .\n",
    "}\n",
    "\"\"\"\n",
    "result = g.query(q)\n",
    "\n",
    "[r.type  for r in result]"
   ]
  },
  {
   "cell_type": "markdown",
   "id": "74ba7bd2",
   "metadata": {},
   "source": [
    "We can simplify the above query\n",
    "avoiding gathering `?s` at all\n",
    "using the `[]` syntax\n",
    "that matches anything."
   ]
  },
  {
   "cell_type": "code",
   "execution_count": null,
   "id": "9cbfae12",
   "metadata": {},
   "outputs": [],
   "source": [
    "q = \"\"\"\n",
    "SELECT DISTINCT\n",
    "  ?type\n",
    "WHERE {\n",
    "  [] a ?type .\n",
    "}\n",
    "\"\"\"\n",
    "result = g.query(q)\n",
    "\n",
    "[r.type  for r in result]"
   ]
  },
  {
   "cell_type": "markdown",
   "id": "e148f448",
   "metadata": {},
   "source": [
    "Exercise:\n",
    "\n",
    "- where can you find the definition of `skos:Concept` and `skos:ConceptScheme`?\n",
    "\n",
    "<!-- Open the URIRef in your browser -->"
   ]
  },
  {
   "cell_type": "markdown",
   "id": "5070d3f4",
   "metadata": {
    "slideshow": {
     "slide_type": "subslide"
    }
   },
   "source": [
    "----\n",
    "\n",
    "List `skos:ConceptScheme`s\n",
    "and their labels."
   ]
  },
  {
   "cell_type": "code",
   "execution_count": null,
   "id": "9101ddc3",
   "metadata": {},
   "outputs": [],
   "source": [
    "q = \"\"\"\n",
    "SELECT DISTINCT *\n",
    "WHERE {\n",
    "  ?ConceptScheme\n",
    "    a skos:ConceptScheme  ;\n",
    "    skos:prefLabel ?label .\n",
    "    # Only English labels\n",
    "    FILTER (lang(?label) = \"en\")\n",
    "}\n",
    "\"\"\"\n",
    "result = g.query(q)\n",
    "[r.asdict() for r in result]"
   ]
  },
  {
   "cell_type": "markdown",
   "id": "836c70dc",
   "metadata": {},
   "source": [
    "Exercise:\n",
    "\n",
    "- Rewrite the above query using\n",
    "  two sentences.\n",
    "\n",
    "<!-- SELECT DISTINCT * WHERE { ?ConceptScheme a skos:ConceptScheme . ?ConceptScheme skos:prefLabel ?label . } -->"
   ]
  },
  {
   "cell_type": "markdown",
   "id": "8212b909",
   "metadata": {
    "slideshow": {
     "slide_type": "subslide"
    }
   },
   "source": [
    "----\n",
    "\n",
    "Now find all the triples\n",
    "where the `object` is\n",
    "`<http://publications.europa.eu/resource/authority/country/0005>"
   ]
  },
  {
   "cell_type": "code",
   "execution_count": null,
   "id": "e347f090",
   "metadata": {},
   "outputs": [],
   "source": [
    "q = \"\"\"\n",
    "SELECT DISTINCT *\n",
    "WHERE {\n",
    "  ?s ?p <http://publications.europa.eu/resource/authority/country/0005> .\n",
    "}\n",
    "\"\"\"\n",
    "result = g.query(q)\n",
    "[r.asdict() for r in result]"
   ]
  },
  {
   "cell_type": "markdown",
   "id": "4cbf2a21",
   "metadata": {},
   "source": [
    "Exercise:\n",
    "\n",
    "- Rewrite the above query using\n",
    "  the PREFIX directive.\n",
    "\n",
    "<!-- PREFIX euvoc: <http://publications.europa.eu/resource/authority/country/> -->\n",
    "<!-- SELECT DISTINCT * WHERE { ?s ?p euvoc:0005 } LIMIT 6-->"
   ]
  },
  {
   "cell_type": "code",
   "execution_count": null,
   "id": "24f697fc",
   "metadata": {},
   "outputs": [],
   "source": [
    "q = \"\"\"\n",
    "PREFIX euvoc: <http://publications.europa.eu/resource/authority/country/>\n",
    "\n",
    "SELECT DISTINCT *\n",
    "WHERE {\n",
    "  ?s ?p ...\n",
    "}\n",
    "LIMIT 6\n",
    "\"\"\"\n",
    "result = g.query(q)\n",
    "[r.asdict() for r in result]"
   ]
  },
  {
   "cell_type": "markdown",
   "id": "e3ad9d82",
   "metadata": {
    "slideshow": {
     "slide_type": "slide"
    }
   },
   "source": [
    "---\n",
    "\n",
    "Let's visualize the graph\n",
    "using:\n",
    "\n",
    "- dotted lines to represent type relations\n",
    "- parallelograms to represent literals"
   ]
  },
  {
   "cell_type": "markdown",
   "id": "923aa961",
   "metadata": {},
   "source": [
    "```mermaid\n",
    "graph\n",
    "\n",
    "skos:ConceptScheme\n",
    "skos:ConceptScheme -->|skos:prefLabel| _l1[/\"Concept Scheme\"/]\n",
    "\n",
    "country:0005 -.->|a| skos:ConceptScheme\n",
    "country:0005 ---|skos:prefLabel| _l[/\"Current EU members\"/]\n",
    "\n",
    "country -.->|a| skos:ConceptScheme\n",
    "country:AUT --->|skos:inScheme| country:0005\n",
    "country:BEL --->|skos:inScheme| country:0005\n",
    "country:... --->|skos:inScheme| country:0005\n",
    "\n",
    "```"
   ]
  },
  {
   "cell_type": "markdown",
   "id": "8d5949d9",
   "metadata": {
    "slideshow": {
     "slide_type": "slide"
    }
   },
   "source": [
    "---\n",
    "\n",
    "Now, query for the information\n",
    "associated with the `country:AUT` node."
   ]
  },
  {
   "cell_type": "code",
   "execution_count": null,
   "id": "a92766fd",
   "metadata": {},
   "outputs": [],
   "source": [
    "q = \"\"\"\n",
    "PREFIX euvoc: <http://publications.europa.eu/resource/authority/country/>\n",
    "\n",
    "SELECT DISTINCT *\n",
    "WHERE {\n",
    "  country:AUT ?p ?o .\n",
    "\n",
    "  # Remove blank nodes.\n",
    "  FILTER(!isBlank(?o))\n",
    "\n",
    "}\n",
    "\"\"\"\n",
    "\n",
    "result = g.query(q)\n",
    "print(*[(r.p.n3(), r.o.n3()) for r in result],sep=\"\\n\")"
   ]
  },
  {
   "cell_type": "markdown",
   "id": "36f191f3",
   "metadata": {},
   "source": [
    "Exercise:\n",
    "\n",
    "- query all skos:Schemes and their labels\n",
    "  where `country:AUT`\n",
    "- Hint: use two distinct sentences\n",
    "\n",
    "<!-- SELECT DISTINCT * WHERE { country:AUT skos:inScheme ?o . ?o skos:prefLabel ?l . } -->"
   ]
  },
  {
   "cell_type": "markdown",
   "id": "1325e90e",
   "metadata": {
    "slideshow": {
     "slide_type": "slide"
    }
   },
   "source": [
    "---\n",
    "\n",
    "**A knowledge graph contains both data and the associated metadata.**\n",
    "**There isn't a fixed schema, but a set of relations.**\n",
    "**The actual schema is defined by the ontology and may evolve over time.**"
   ]
  },
  {
   "cell_type": "markdown",
   "id": "b1743159",
   "metadata": {
    "slideshow": {
     "slide_type": "slide"
    }
   },
   "source": [
    "---\n",
    "\n",
    "\n",
    "Questions:\n",
    "\n",
    "- List the namespaces registered in the graph.\n",
    "\n",
    "<!-- list(g.namespaces()) -->"
   ]
  },
  {
   "cell_type": "code",
   "execution_count": null,
   "id": "69703aca",
   "metadata": {},
   "outputs": [],
   "source": [
    "q = \"\"\"\n",
    "SELECT DISTINCT *\n",
    "WHERE {\n",
    "  [] a ?type .\n",
    "}\n",
    "\"\"\"\n",
    "result = g.query(q)\n",
    "[r.type  for r in result]"
   ]
  },
  {
   "cell_type": "code",
   "execution_count": null,
   "id": "38bde82c",
   "metadata": {},
   "outputs": [],
   "source": [
    "# For human readable results, bind prefixes.\n",
    "g.bind(\"euvoc\", \"http://publications.europa.eu/ontology/euvoc#Country\")\n",
    "g.bind(\"country\", \"http://publications.europa.eu/resource/authority/country/\")\n",
    "to_curie = g.namespace_manager.curie\n",
    "\n",
    "result = g.query(\"\"\"\n",
    "# You always need to bind the prefixes\n",
    "PREFIX euvoc: <http://publications.europa.eu/ontology/euvoc#>\n",
    "\n",
    "SELECT DISTINCT *\n",
    "WHERE {\n",
    "  ?c a euvoc:Country .\n",
    "}\n",
    "LIMIT 3\n",
    "\"\"\")\n",
    "[to_curie(r.c)  for r in result]"
   ]
  },
  {
   "cell_type": "markdown",
   "id": "3f156ae6",
   "metadata": {},
   "source": [
    "Now we will infer how countries are modeled\n",
    "retrieving all associated predicates,\n",
    "starting with the types.\n",
    "\n",
    "We can list all the predicates\n",
    "associated with `euvoc:Country`,\n",
    "thus inferring how countries are modeled.\n",
    "\n",
    "The fact that every property is defined by\n",
    "an URI allows us to use\n",
    "the same property in different contexts."
   ]
  },
  {
   "cell_type": "code",
   "execution_count": null,
   "id": "f3e85718",
   "metadata": {},
   "outputs": [],
   "source": [
    "q = \"\"\"\n",
    "PREFIX euvoc: <http://publications.europa.eu/ontology/euvoc#>\n",
    "PREFIX country: <http://publications.europa.eu/resource/authority/country/>\n",
    "\n",
    "SELECT DISTINCT *\n",
    "WHERE {\n",
    "  [] a euvoc:Country ;\n",
    "     a ?type .\n",
    "}\n",
    "\"\"\"\n",
    "result = g.query(q)\n",
    "country_types = {r.type for r in result}"
   ]
  },
  {
   "cell_type": "markdown",
   "id": "59439f97",
   "metadata": {},
   "source": [
    "The data model extracted from the graph:\n",
    "subjects in the country:0005 ConceptScheme\n",
    "inherit properties from both `euvoc:Country`\n",
    "and `skos:Concept`."
   ]
  },
  {
   "cell_type": "markdown",
   "id": "f81a0c4d",
   "metadata": {},
   "source": [
    "```mermaid\n",
    "graph LR\n",
    "\n",
    "country:... --->|skos:inScheme| country:0005\n",
    "\n",
    "country:... -.->|a| euvoc:Country & skos:Concept\n",
    "\n",
    "skos:Concept -.->|a| rdfs:Class\n",
    "euvoc:Country -.->|a| rdfs:Class\n",
    "euvoc:status -->|rdfs:domain| euvoc:Country\n",
    "skos:prefLabel -->|rdfs:domain| skos:Concept\n",
    "\n",
    "```"
   ]
  }
 ],
 "metadata": {},
 "nbformat": 4,
 "nbformat_minor": 5
}
