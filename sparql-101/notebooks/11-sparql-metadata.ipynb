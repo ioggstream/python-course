{
 "cells": [
  {
   "cell_type": "markdown",
   "id": "0724092d",
   "metadata": {},
   "source": [
    "# Agenda\n",
    "\n",
    "- Using SparQL to query metadata\n",
    "\n",
    "## Metadata, Metadata\n",
    "\n",
    "Between all triples,\n",
    "some contain metadata,\n",
    "such as:\n",
    "\n",
    "- the resource types (`rdf:type`/`a`, or `rdfs:subClassOf` predicates);\n",
    "- information about predicates;"
   ]
  },
  {
   "cell_type": "code",
   "execution_count": null,
   "id": "fc1d4046",
   "metadata": {},
   "outputs": [],
   "source": [
    "from rdflib import Dataset\n",
    "# Create a dataset...\n",
    "d=Dataset(store=\"Oxigraph\", default_union=True)\n",
    "\n",
    "# Bind the namespaces.\n",
    "d.bind(\"euvoc\", \"http://publications.europa.eu/ontology/euvoc#\")\n",
    "d.bind(\"skos\", \"http://www.w3.org/2004/02/skos/core#\")\n",
    "d.bind(\"country\", \"http://publications.europa.eu/resource/authority/country/\")\n",
    "\n",
    "# Create a graph for the countries.\n",
    "country = d.graph(\"http://publications.europa.eu/resource/authority/country\")\n",
    "\n",
    "# Load data into it.\n",
    "country.parse(\"countries-skos-ap-act.ttl\", format=\"ox-turtle\")"
   ]
  },
  {
   "cell_type": "markdown",
   "id": "b932b57e",
   "metadata": {},
   "source": [
    "And query the simplest metadata:\n",
    "the `rdf:type`s of the graph's subjects"
   ]
  },
  {
   "cell_type": "code",
   "execution_count": null,
   "id": "e47d8283",
   "metadata": {},
   "outputs": [],
   "source": [
    "q = \"\"\"\n",
    "SELECT DISTINCT\n",
    "  ?type\n",
    "WHERE {\n",
    "  ?s a ?type .\n",
    "}\n",
    "\"\"\"\n",
    "result = country.query(q)\n",
    "\n",
    "[r.type  for r in result]"
   ]
  },
  {
   "cell_type": "markdown",
   "id": "25987ca0",
   "metadata": {},
   "source": [
    "Since we are returning just `?type`,\n",
    "we can avoiding gathering `?s`\n",
    "using the `[]` placeholder.\n",
    "\n",
    "Try it!"
   ]
  },
  {
   "cell_type": "code",
   "execution_count": null,
   "id": "7567125c",
   "metadata": {},
   "outputs": [],
   "source": [
    "q = \"\"\"\n",
    "SELECT DISTINCT\n",
    "  ?type\n",
    "WHERE {\n",
    "  [] a ?type .\n",
    "}\n",
    "\"\"\"\n",
    "result = d.query(q)\n",
    "\n",
    "[r.type  for r in result]"
   ]
  },
  {
   "cell_type": "markdown",
   "id": "5f6d1b0b",
   "metadata": {},
   "source": [
    "Exercise:\n",
    "\n",
    "- where can you find the definition of `skos:Concept` and `skos:ConceptScheme`?\n",
    "\n",
    "<!-- Open the URIRef in your browser -->"
   ]
  },
  {
   "cell_type": "markdown",
   "id": "b024cbd6",
   "metadata": {
    "slideshow": {
     "slide_type": "subslide"
    }
   },
   "source": [
    "----\n",
    "\n",
    "List `skos:ConceptScheme`s\n",
    "and their labels."
   ]
  },
  {
   "cell_type": "code",
   "execution_count": null,
   "id": "c62c0b60",
   "metadata": {},
   "outputs": [],
   "source": [
    "q = \"\"\"\n",
    "SELECT DISTINCT\n",
    "  ?ConceptScheme\n",
    "  ?label\n",
    "WHERE {\n",
    "  ?ConceptScheme\n",
    "    a skos:ConceptScheme  ;\n",
    "    skos:prefLabel ?label .\n",
    "    # Only English labels\n",
    "    FILTER (lang(?label) = \"en\")\n",
    "}\n",
    "\"\"\"\n",
    "result = d.query(q)\n",
    "t = [r.asdict() for r in result]"
   ]
  },
  {
   "cell_type": "markdown",
   "id": "253025e4",
   "metadata": {},
   "source": [
    "Exercise:\n",
    "\n",
    "- Rewrite the above query using\n",
    "  two sentences."
   ]
  },
  {
   "cell_type": "code",
   "execution_count": null,
   "id": "dad63861",
   "metadata": {},
   "outputs": [],
   "source": [
    "q = \"\"\"\n",
    "SELECT DISTINCT\n",
    "  ?ConceptScheme\n",
    "  ?label\n",
    "WHERE {\n",
    "  ?ConceptScheme a skos:ConceptScheme .\n",
    "  ?ConceptScheme skos:prefLabel ?label .\n",
    "  FILTER (lang(?label) = \"en\")\n",
    "}\n",
    "\"\"\"\n",
    "\n",
    "result = d.query(q)\n",
    "assert t == [r.asdict() for r in result]"
   ]
  },
  {
   "cell_type": "markdown",
   "id": "673c719b",
   "metadata": {
    "slideshow": {
     "slide_type": "subslide"
    }
   },
   "source": [
    "----\n",
    "\n",
    "Now find all the triples\n",
    "where the `object` is\n",
    "`<http://publications.europa.eu/resource/authority/country/0005>"
   ]
  },
  {
   "cell_type": "code",
   "execution_count": null,
   "id": "a4664f53",
   "metadata": {},
   "outputs": [],
   "source": [
    "q = \"\"\"\n",
    "SELECT DISTINCT *\n",
    "WHERE {\n",
    "  ?s ?p <http://publications.europa.eu/resource/authority/country/0005> .\n",
    "}\n",
    "\"\"\"\n",
    "result = d.query(q)\n",
    "[r.asdict() for r in result]"
   ]
  },
  {
   "cell_type": "markdown",
   "id": "7310b1cf",
   "metadata": {},
   "source": [
    "Exercise:\n",
    "\n",
    "- Rewrite the above query using\n",
    "  the PREFIX directive."
   ]
  },
  {
   "cell_type": "code",
   "execution_count": null,
   "id": "e5ec90a2",
   "metadata": {},
   "outputs": [],
   "source": [
    "q = \"\"\"\n",
    "PREFIX euvoc: <http://publications.europa.eu/resource/authority/country/>\n",
    "\n",
    "SELECT DISTINCT *\n",
    "WHERE {\n",
    "  ?s ?p ...\n",
    "}\n",
    "LIMIT 6\n",
    "\"\"\"\n",
    "result = d.query(q)\n",
    "[r.asdict() for r in result]"
   ]
  },
  {
   "cell_type": "markdown",
   "id": "cd7f061d",
   "metadata": {
    "slideshow": {
     "slide_type": "slide"
    }
   },
   "source": [
    "---\n",
    "\n",
    "Let's visualize the graph\n",
    "using:\n",
    "\n",
    "- dotted lines to represent type relations\n",
    "- parallelograms to represent literals"
   ]
  },
  {
   "cell_type": "markdown",
   "id": "f50bc5b0",
   "metadata": {},
   "source": [
    "```mermaid\n",
    "graph\n",
    "\n",
    "skos:ConceptScheme\n",
    "skos:ConceptScheme -->|skos:prefLabel| _l1[/\"Concept Scheme\"/]\n",
    "\n",
    "country:0005 -.->|a| skos:ConceptScheme((skos:ConceptScheme))\n",
    "country:0005 ---|skos:prefLabel| _l[/\"Current EU members\"/]\n",
    "\n",
    "country -.->|a| skos:ConceptScheme\n",
    "country:AUT --->|skos:inScheme| country:0005\n",
    "country:BEL --->|skos:inScheme| country:0005\n",
    "country:... --->|skos:inScheme| country:0005\n",
    "\n",
    "```"
   ]
  },
  {
   "cell_type": "markdown",
   "id": "8c426c97",
   "metadata": {
    "slideshow": {
     "slide_type": "subslide"
    }
   },
   "source": [
    "----\n",
    "\n",
    "Now, let's get the predicates associated with resources\n",
    "of a given type."
   ]
  },
  {
   "cell_type": "code",
   "execution_count": null,
   "id": "c6a54421",
   "metadata": {},
   "outputs": [],
   "source": [
    "q = \"\"\"\n",
    "SELECT DISTINCT\n",
    "  ?type ?p\n",
    "WHERE {\n",
    "  [] a ?type ;\n",
    "     ?p []\n",
    "  .\n",
    "  FILTER (?p != rdf:type)\n",
    "}\n",
    "\"\"\"\n",
    "\n",
    "result = d.query(q)\n",
    "{ r.type: r.p for r in result }"
   ]
  },
  {
   "cell_type": "markdown",
   "id": "314d0d53",
   "metadata": {
    "slideshow": {
     "slide_type": "slide"
    }
   },
   "source": [
    "---\n",
    "\n",
    "Now, query for the information\n",
    "associated with the `country:AUT` node."
   ]
  },
  {
   "cell_type": "code",
   "execution_count": null,
   "id": "970893c9",
   "metadata": {},
   "outputs": [],
   "source": [
    "q = \"\"\"\n",
    "PREFIX euvoc: <http://publications.europa.eu/resource/authority/country/>\n",
    "\n",
    "SELECT DISTINCT *\n",
    "WHERE {\n",
    "  country:AUT ?p ?o .\n",
    "\n",
    "  # Remove blank nodes.\n",
    "  FILTER(!isBlank(?o))\n",
    "\n",
    "}\n",
    "\"\"\"\n",
    "\n",
    "result = g.query(q)\n",
    "print(*[(r.p.n3(), r.o.n3()) for r in result],sep=\"\\n\")"
   ]
  },
  {
   "cell_type": "markdown",
   "id": "164d17a1",
   "metadata": {},
   "source": [
    "Exercise:\n",
    "\n",
    "- query all skos:Schemes and their labels\n",
    "  where `country:AUT`\n",
    "- Hint: use two distinct sentences\n",
    "\n",
    "<!-- SELECT DISTINCT * WHERE { country:AUT skos:inScheme ?o . ?o skos:prefLabel ?l . } -->"
   ]
  },
  {
   "cell_type": "markdown",
   "id": "d04eba14",
   "metadata": {
    "slideshow": {
     "slide_type": "slide"
    }
   },
   "source": [
    "---\n",
    "\n",
    "**A knowledge graph contains both data and the associated metadata.**\n",
    "**There isn't a fixed schema, but a set of relations.**\n",
    "**The actual schema is defined by the ontology and may evolve over time.**"
   ]
  },
  {
   "cell_type": "markdown",
   "id": "69db4a68",
   "metadata": {
    "slideshow": {
     "slide_type": "slide"
    }
   },
   "source": [
    "---\n",
    "\n",
    "\n",
    "Questions:\n",
    "\n",
    "- List the namespaces registered in the graph.\n",
    "\n",
    "<!-- list(g.namespaces()) -->"
   ]
  },
  {
   "cell_type": "code",
   "execution_count": null,
   "id": "8020b7a5",
   "metadata": {},
   "outputs": [],
   "source": [
    "q = \"\"\"\n",
    "SELECT DISTINCT *\n",
    "WHERE {\n",
    "  [] a ?type .\n",
    "}\n",
    "\"\"\"\n",
    "result = g.query(q)\n",
    "[r.type  for r in result]"
   ]
  },
  {
   "cell_type": "code",
   "execution_count": null,
   "id": "75696d94",
   "metadata": {},
   "outputs": [],
   "source": [
    "# For human readable results, bind prefixes.\n",
    "g.bind(\"euvoc\", \"http://publications.europa.eu/ontology/euvoc#Country\")\n",
    "g.bind(\"country\", \"http://publications.europa.eu/resource/authority/country/\")\n",
    "to_curie = g.namespace_manager.curie\n",
    "\n",
    "result = g.query(\"\"\"\n",
    "# You always need to bind the prefixes\n",
    "PREFIX euvoc: <http://publications.europa.eu/ontology/euvoc#>\n",
    "\n",
    "SELECT DISTINCT *\n",
    "WHERE {\n",
    "  ?c a euvoc:Country .\n",
    "}\n",
    "LIMIT 3\n",
    "\"\"\")\n",
    "[to_curie(r.c)  for r in result]"
   ]
  },
  {
   "cell_type": "markdown",
   "id": "4a98b8bc",
   "metadata": {},
   "source": [
    "Now we will infer how countries are modeled\n",
    "retrieving all associated predicates,\n",
    "starting with the types.\n",
    "\n",
    "We can list all the predicates\n",
    "associated with `euvoc:Country`,\n",
    "thus inferring how countries are modeled.\n",
    "\n",
    "The fact that every property is defined by\n",
    "an URI allows us to use\n",
    "the same property in different contexts."
   ]
  },
  {
   "cell_type": "code",
   "execution_count": null,
   "id": "45cfc157",
   "metadata": {},
   "outputs": [],
   "source": [
    "q = \"\"\"\n",
    "PREFIX euvoc: <http://publications.europa.eu/ontology/euvoc#>\n",
    "PREFIX country: <http://publications.europa.eu/resource/authority/country/>\n",
    "\n",
    "SELECT DISTINCT *\n",
    "WHERE {\n",
    "  [] a euvoc:Country ;\n",
    "     a ?type .\n",
    "}\n",
    "\"\"\"\n",
    "result = g.query(q)\n",
    "country_types = {r.type for r in result}"
   ]
  },
  {
   "cell_type": "markdown",
   "id": "c2bd3b77",
   "metadata": {},
   "source": [
    "The data model extracted from the graph:\n",
    "subjects in the country:0005 ConceptScheme\n",
    "inherit properties from both `euvoc:Country`\n",
    "and `skos:Concept`."
   ]
  },
  {
   "cell_type": "markdown",
   "id": "1a220c3a",
   "metadata": {},
   "source": [
    "```mermaid\n",
    "graph LR\n",
    "\n",
    "country:... --->|skos:inScheme| country:0005\n",
    "\n",
    "country:... -.->|a| euvoc:Country & skos:Concept\n",
    "\n",
    "skos:Concept -.->|a| rdfs:Class\n",
    "euvoc:Country -.->|a| rdfs:Class\n",
    "euvoc:status -->|rdfs:domain| euvoc:Country\n",
    "skos:prefLabel -->|rdfs:domain| skos:Concept\n",
    "\n",
    "```"
   ]
  }
 ],
 "metadata": {},
 "nbformat": 4,
 "nbformat_minor": 5
}
