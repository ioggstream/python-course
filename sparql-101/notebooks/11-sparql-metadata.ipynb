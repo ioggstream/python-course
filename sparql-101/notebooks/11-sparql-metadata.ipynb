{
 "cells": [
  {
   "cell_type": "markdown",
   "id": "ad108b64",
   "metadata": {},
   "source": [
    "# Agenda\n",
    "\n",
    "- Using SparQL to query metadata\n",
    "\n",
    "## Metadata, Metadata\n",
    "\n",
    "Between all triples,\n",
    "some contain metadata,\n",
    "such as:\n",
    "\n",
    "- the resource types (`rdf:type`/`a`, or `rdfs:subClassOf` predicates);\n",
    "- information about predicates;"
   ]
  },
  {
   "cell_type": "code",
   "execution_count": null,
   "id": "ac6d8963",
   "metadata": {},
   "outputs": [],
   "source": [
    "g=Graph(store=\"Oxigraph\")\n",
    "\n",
    "# Load the graph.\n",
    "g.parse(\"countries-skos-ap-act.ttl\", format=\"ox-turtle\")"
   ]
  },
  {
   "cell_type": "markdown",
   "id": "ea27adb4",
   "metadata": {},
   "source": [
    "And query the simplest metadata."
   ]
  },
  {
   "cell_type": "code",
   "execution_count": null,
   "id": "1f4b5bcb",
   "metadata": {},
   "outputs": [],
   "source": [
    "q = \"\"\"\n",
    "SELECT DISTINCT\n",
    "  ?type\n",
    "WHERE {\n",
    "  ?s a ?type .\n",
    "}\n",
    "\"\"\"\n",
    "result = g.query(q)\n",
    "\n",
    "[r.type  for r in result]"
   ]
  },
  {
   "cell_type": "markdown",
   "id": "9f68640e",
   "metadata": {},
   "source": [
    "We can simplify the above query\n",
    "avoiding gathering `?s` at all\n",
    "using the `[]` syntax\n",
    "that matches anything."
   ]
  },
  {
   "cell_type": "code",
   "execution_count": null,
   "id": "dc5d9058",
   "metadata": {},
   "outputs": [],
   "source": [
    "q = \"\"\"\n",
    "SELECT DISTINCT\n",
    "  ?type\n",
    "WHERE {\n",
    "  [] a ?type .\n",
    "}\n",
    "\"\"\"\n",
    "result = g.query(q)\n",
    "\n",
    "[r.type  for r in result]"
   ]
  },
  {
   "cell_type": "markdown",
   "id": "f6b5708e",
   "metadata": {},
   "source": [
    "Exercise:\n",
    "\n",
    "- where can you find the definition of `skos:Concept` and `skos:ConceptScheme`?\n",
    "\n",
    "<!-- Open the URIRef in your browser -->"
   ]
  },
  {
   "cell_type": "markdown",
   "id": "d93833b9",
   "metadata": {
    "slideshow": {
     "slide_type": "subslide"
    }
   },
   "source": [
    "----\n",
    "\n",
    "List `skos:ConceptScheme`s\n",
    "and their labels."
   ]
  },
  {
   "cell_type": "code",
   "execution_count": null,
   "id": "45d95389",
   "metadata": {},
   "outputs": [],
   "source": [
    "q = \"\"\"\n",
    "SELECT DISTINCT *\n",
    "WHERE {\n",
    "  ?ConceptScheme\n",
    "    a skos:ConceptScheme  ;\n",
    "    skos:prefLabel ?label .\n",
    "    # Only English labels\n",
    "    FILTER (lang(?label) = \"en\")\n",
    "}\n",
    "\"\"\"\n",
    "result = g.query(q)\n",
    "[r.asdict() for r in result]"
   ]
  },
  {
   "cell_type": "markdown",
   "id": "9aac48e0",
   "metadata": {},
   "source": [
    "Exercise:\n",
    "\n",
    "- Rewrite the above query using\n",
    "  two sentences.\n",
    "\n",
    "<!-- SELECT DISTINCT * WHERE { ?ConceptScheme a skos:ConceptScheme . ?ConceptScheme skos:prefLabel ?label . } -->"
   ]
  },
  {
   "cell_type": "markdown",
   "id": "42593695",
   "metadata": {
    "slideshow": {
     "slide_type": "subslide"
    }
   },
   "source": [
    "----\n",
    "\n",
    "Now find all the triples\n",
    "where the `object` is\n",
    "`<http://publications.europa.eu/resource/authority/country/0005>"
   ]
  },
  {
   "cell_type": "code",
   "execution_count": null,
   "id": "81af1964",
   "metadata": {},
   "outputs": [],
   "source": [
    "q = \"\"\"\n",
    "SELECT DISTINCT *\n",
    "WHERE {\n",
    "  ?s ?p <http://publications.europa.eu/resource/authority/country/0005> .\n",
    "}\n",
    "\"\"\"\n",
    "result = g.query(q)\n",
    "[r.asdict() for r in result]"
   ]
  },
  {
   "cell_type": "markdown",
   "id": "402db08f",
   "metadata": {},
   "source": [
    "Exercise:\n",
    "\n",
    "- Rewrite the above query using\n",
    "  the PREFIX directive.\n",
    "\n",
    "<!-- PREFIX euvoc: <http://publications.europa.eu/resource/authority/country/> -->\n",
    "<!-- SELECT DISTINCT * WHERE { ?s ?p euvoc:0005 } LIMIT 6-->"
   ]
  },
  {
   "cell_type": "code",
   "execution_count": null,
   "id": "e072bcf2",
   "metadata": {},
   "outputs": [],
   "source": [
    "q = \"\"\"\n",
    "PREFIX euvoc: <http://publications.europa.eu/resource/authority/country/>\n",
    "\n",
    "SELECT DISTINCT *\n",
    "WHERE {\n",
    "  ?s ?p ...\n",
    "}\n",
    "LIMIT 6\n",
    "\"\"\"\n",
    "result = g.query(q)\n",
    "[r.asdict() for r in result]"
   ]
  },
  {
   "cell_type": "markdown",
   "id": "681ccc37",
   "metadata": {
    "slideshow": {
     "slide_type": "slide"
    }
   },
   "source": [
    "---\n",
    "\n",
    "Let's visualize the graph\n",
    "using:\n",
    "\n",
    "- dotted lines to represent type relations\n",
    "- parallelograms to represent literals"
   ]
  },
  {
   "cell_type": "markdown",
   "id": "ee488964",
   "metadata": {},
   "source": [
    "```mermaid\n",
    "graph\n",
    "\n",
    "skos:ConceptScheme\n",
    "skos:ConceptScheme -->|skos:prefLabel| _l1[/\"Concept Scheme\"/]\n",
    "\n",
    "country:0005 -.->|a| skos:ConceptScheme\n",
    "country:0005 ---|skos:prefLabel| _l[/\"Current EU members\"/]\n",
    "\n",
    "country -.->|a| skos:ConceptScheme\n",
    "country:AUT --->|skos:inScheme| country:0005\n",
    "country:BEL --->|skos:inScheme| country:0005\n",
    "country:... --->|skos:inScheme| country:0005\n",
    "\n",
    "```"
   ]
  },
  {
   "cell_type": "markdown",
   "id": "0fe94b3a",
   "metadata": {
    "slideshow": {
     "slide_type": "slide"
    }
   },
   "source": [
    "---\n",
    "\n",
    "Now, query for the information\n",
    "associated with the `country:AUT` node."
   ]
  },
  {
   "cell_type": "code",
   "execution_count": null,
   "id": "b152b031",
   "metadata": {},
   "outputs": [],
   "source": [
    "q = \"\"\"\n",
    "PREFIX euvoc: <http://publications.europa.eu/resource/authority/country/>\n",
    "\n",
    "SELECT DISTINCT *\n",
    "WHERE {\n",
    "  country:AUT ?p ?o .\n",
    "\n",
    "  # Remove blank nodes.\n",
    "  FILTER(!isBlank(?o))\n",
    "\n",
    "}\n",
    "\"\"\"\n",
    "\n",
    "result = g.query(q)\n",
    "print(*[(r.p.n3(), r.o.n3()) for r in result],sep=\"\\n\")"
   ]
  },
  {
   "cell_type": "markdown",
   "id": "71ec1503",
   "metadata": {},
   "source": [
    "Exercise:\n",
    "\n",
    "- query all skos:Schemes and their labels\n",
    "  where `country:AUT`\n",
    "- Hint: use two distinct sentences\n",
    "\n",
    "<!-- SELECT DISTINCT * WHERE { country:AUT skos:inScheme ?o . ?o skos:prefLabel ?l . } -->"
   ]
  },
  {
   "cell_type": "markdown",
   "id": "7161c4d9",
   "metadata": {
    "slideshow": {
     "slide_type": "slide"
    }
   },
   "source": [
    "---\n",
    "\n",
    "**A knowledge graph contains both data and the associated metadata.**\n",
    "**There isn't a fixed schema, but a set of relations.**\n",
    "**The actual schema is defined by the ontology and may evolve over time.**"
   ]
  },
  {
   "cell_type": "markdown",
   "id": "4aa9cb2c",
   "metadata": {
    "slideshow": {
     "slide_type": "slide"
    }
   },
   "source": [
    "---\n",
    "\n",
    "\n",
    "Questions:\n",
    "\n",
    "- List the namespaces registered in the graph.\n",
    "\n",
    "<!-- list(g.namespaces()) -->"
   ]
  },
  {
   "cell_type": "code",
   "execution_count": null,
   "id": "15f81dd4",
   "metadata": {},
   "outputs": [],
   "source": [
    "q = \"\"\"\n",
    "SELECT DISTINCT *\n",
    "WHERE {\n",
    "  [] a ?type .\n",
    "}\n",
    "\"\"\"\n",
    "result = g.query(q)\n",
    "[r.type  for r in result]"
   ]
  },
  {
   "cell_type": "code",
   "execution_count": null,
   "id": "4538693e",
   "metadata": {},
   "outputs": [],
   "source": [
    "# For human readable results, bind prefixes.\n",
    "g.bind(\"euvoc\", \"http://publications.europa.eu/ontology/euvoc#Country\")\n",
    "g.bind(\"country\", \"http://publications.europa.eu/resource/authority/country/\")\n",
    "to_curie = g.namespace_manager.curie\n",
    "\n",
    "result = g.query(\"\"\"\n",
    "# You always need to bind the prefixes\n",
    "PREFIX euvoc: <http://publications.europa.eu/ontology/euvoc#>\n",
    "\n",
    "SELECT DISTINCT *\n",
    "WHERE {\n",
    "  ?c a euvoc:Country .\n",
    "}\n",
    "LIMIT 3\n",
    "\"\"\")\n",
    "[to_curie(r.c)  for r in result]"
   ]
  },
  {
   "cell_type": "markdown",
   "id": "f9c21cfd",
   "metadata": {},
   "source": [
    "Now we will infer how countries are modeled\n",
    "retrieving all associated predicates,\n",
    "starting with the types.\n",
    "\n",
    "We can list all the predicates\n",
    "associated with `euvoc:Country`,\n",
    "thus inferring how countries are modeled.\n",
    "\n",
    "The fact that every property is defined by\n",
    "an URI allows us to use\n",
    "the same property in different contexts."
   ]
  },
  {
   "cell_type": "code",
   "execution_count": null,
   "id": "d681e3eb",
   "metadata": {},
   "outputs": [],
   "source": [
    "q = \"\"\"\n",
    "PREFIX euvoc: <http://publications.europa.eu/ontology/euvoc#>\n",
    "PREFIX country: <http://publications.europa.eu/resource/authority/country/>\n",
    "\n",
    "SELECT DISTINCT *\n",
    "WHERE {\n",
    "  [] a euvoc:Country ;\n",
    "     a ?type .\n",
    "}\n",
    "\"\"\"\n",
    "result = g.query(q)\n",
    "country_types = {r.type for r in result}"
   ]
  },
  {
   "cell_type": "markdown",
   "id": "17f12003",
   "metadata": {},
   "source": [
    "The data model extracted from the graph:\n",
    "subjects in the country:0005 ConceptScheme\n",
    "inherit properties from both `euvoc:Country`\n",
    "and `skos:Concept`."
   ]
  },
  {
   "cell_type": "markdown",
   "id": "ae5477e6",
   "metadata": {},
   "source": [
    "```mermaid\n",
    "graph LR\n",
    "\n",
    "country:... --->|skos:inScheme| country:0005\n",
    "\n",
    "country:... -.->|a| euvoc:Country & skos:Concept\n",
    "\n",
    "skos:Concept -.->|a| rdfs:Class\n",
    "euvoc:Country -.->|a| rdfs:Class\n",
    "euvoc:status -->|rdfs:domain| euvoc:Country\n",
    "skos:prefLabel -->|rdfs:domain| skos:Concept\n",
    "\n",
    "```"
   ]
  }
 ],
 "metadata": {},
 "nbformat": 4,
 "nbformat_minor": 5
}
