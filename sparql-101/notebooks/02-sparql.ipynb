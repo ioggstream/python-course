{
 "cells": [
  {
   "cell_type": "markdown",
   "id": "401ea896",
   "metadata": {},
   "source": [
    "# Graph databases & SparQL\n",
    "\n",
    "## Agenda\n",
    "\n",
    "  - Storing and retrieving triples\n",
    "  - Virtuoso\n",
    "  - GraphDB\n",
    "\n",
    "*Beware*: commands contain small typos. You must fix them to properly complete the course!"
   ]
  },
  {
   "cell_type": "markdown",
   "id": "41173b41",
   "metadata": {
    "slideshow": {
     "slide_type": "subslide"
    }
   },
   "source": [
    "----\n",
    "\n",
    "Prerequisites:\n",
    "\n",
    "- json, yaml, xmlschema\n",
    "- HTTP, OpenAPI 3\n",
    "- SQL and database hints"
   ]
  },
  {
   "cell_type": "markdown",
   "id": "d6fb816a",
   "metadata": {
    "slideshow": {
     "slide_type": "slide"
    }
   },
   "source": [
    "---\n",
    "\n",
    "## Graphs (again)\n",
    "\n",
    "A graph is a set (unordered) of triples.\n",
    "\n",
    "Each triple consists of a `subject`, `predicate`, `object`.\n",
    "\n",
    "Graph databases such as [Virtuoso (opensource)](),\n",
    "[GraphDB (proprietary)](),\n",
    "[Amazon Nepture (proprietary SaaS)]()\n",
    "support the [SparQL]() language.\n",
    "Other databases - [Neo4j (opensource)]() use\n",
    "custom language."
   ]
  },
  {
   "cell_type": "markdown",
   "id": "f8fad946",
   "metadata": {
    "slideshow": {
     "slide_type": "subslide"
    }
   },
   "source": [
    "----\n",
    "\n",
    "Let's populate some entries in SparQL\n",
    "and see how it works.\n",
    "\n",
    "Open [sample.ttl](sample.ttl) and list\n",
    "all entries"
   ]
  },
  {
   "cell_type": "code",
   "execution_count": null,
   "id": "9bc3e9f1",
   "metadata": {
    "attributes": {
     "classes": [
      "sparql"
     ],
     "id": ""
    }
   },
   "outputs": [],
   "source": [
    "SELECT * WHERE {\n",
    "  ?subject ?predicate ?object\n",
    "}"
   ]
  },
  {
   "cell_type": "markdown",
   "id": "9a688702",
   "metadata": {},
   "source": [
    "(describe sparql query)"
   ]
  },
  {
   "cell_type": "markdown",
   "id": "1d874004",
   "metadata": {
    "slideshow": {
     "slide_type": "subslide"
    }
   },
   "source": [
    "----\n",
    "\n",
    "SparQL can then be used to correlate\n",
    "entries using semantically defined\n",
    "vocabularies such as FOAF."
   ]
  },
  {
   "cell_type": "code",
   "execution_count": null,
   "id": "a8185a6b",
   "metadata": {
    "attributes": {
     "classes": [
      "sparql"
     ],
     "id": ""
    }
   },
   "outputs": [],
   "source": [
    "@prefix foaf:  <http://xmlns.com/foaf/0.1/> .\n",
    "\n",
    "SELECT * WHERE {\n",
    "  ?s foaf:name ?o\n",
    "}"
   ]
  },
  {
   "cell_type": "markdown",
   "id": "ceea8db2",
   "metadata": {},
   "source": [
    "| s | o |\n",
    "| --- | --- |\n",
    "| <mail:r@x.it> | \"Roberto\"|\n",
    "| <mail:j@x.it> | \"Jon\"|\n",
    "\n",
    "In this case `foaf:name` has a very specific meaning.\n",
    "You don't need to create indexes in your database\n",
    "to search for specific predicates."
   ]
  },
  {
   "cell_type": "markdown",
   "id": "8c8743fc",
   "metadata": {
    "slideshow": {
     "slide_type": "subslide"
    }
   },
   "source": [
    "----\n",
    "\n",
    "Graph databases have an inference engine that can be used\n",
    "to process complex queries."
   ]
  },
  {
   "cell_type": "code",
   "execution_count": null,
   "id": "7fd2f3f9",
   "metadata": {
    "attributes": {
     "classes": [
      "sparql"
     ],
     "id": ""
    }
   },
   "outputs": [],
   "source": [
    "@prefix foaf:  <http://xmlns.com/foaf/0.1/> .\n",
    "\n",
    "SELECT * WHERE {\n",
    "  ?s foaf:knows ?o"
   ]
  },
  {
   "cell_type": "markdown",
   "id": "5171b425",
   "metadata": {},
   "source": [
    "| s | o |\n",
    "| --- | --- |\n",
    "| r@example | j@example |"
   ]
  },
  {
   "cell_type": "markdown",
   "id": "5a198bd8",
   "metadata": {
    "slideshow": {
     "slide_type": "subslide"
    }
   },
   "source": [
    "----\n",
    "\n",
    "And using multiple lines we can infer things\n",
    "such as friend-of-a-friend emails."
   ]
  },
  {
   "cell_type": "code",
   "execution_count": null,
   "id": "f116d980",
   "metadata": {
    "attributes": {
     "classes": [
      "sparql"
     ],
     "id": ""
    }
   },
   "outputs": [],
   "source": [
    "@prefix foaf:  <http://xmlns.com/foaf/0.1/> .\n",
    "\n",
    "SELECT DISTINCT ?mail1, ?mail3 WHERE {\n",
    "  ?user1 foaf:knows ?user2\n",
    "  . ?user2 foaf:knows ?user3\n",
    "\n",
    "  . ?user1 foaf:mbox ?mail1\n",
    "  . ?user3 foaf:mbox ?mail3"
   ]
  },
  {
   "cell_type": "markdown",
   "id": "cac81c66",
   "metadata": {},
   "source": [
    "Note that the query describes each relation\n",
    "ignoring the way data is stored."
   ]
  },
  {
   "cell_type": "markdown",
   "id": "6fdb2851",
   "metadata": {
    "slideshow": {
     "slide_type": "slide"
    }
   },
   "source": [
    "---\n",
    "\n",
    "# Querying DBPedia\n",
    "\n",
    "[DBPedia](https://dbpedia.org/sparql) is a graph database with a lot of data inside.\n",
    "\n",
    "We can use it to learn sparql.\n",
    "\n",
    "- list concepts"
   ]
  },
  {
   "cell_type": "code",
   "execution_count": null,
   "id": "071cd509",
   "metadata": {},
   "outputs": [],
   "source": [
    "select distinct ?Concept where {[] a ?Concept} LIMIT 20"
   ]
  },
  {
   "cell_type": "markdown",
   "id": "2eb80834",
   "metadata": {
    "slideshow": {
     "slide_type": "subslide"
    }
   },
   "source": [
    "----\n",
    "\n",
    "Now we want to list all `Person`"
   ]
  },
  {
   "cell_type": "code",
   "execution_count": null,
   "id": "1b808ad2",
   "metadata": {
    "attributes": {
     "classes": [
      "sparql"
     ],
     "id": ""
    }
   },
   "outputs": [],
   "source": [
    "@prefix foaf: <http://xmlns.com/foaf/0.1/> .\n",
    "\n",
    "SELECT DISTINCT * WHERE {\n",
    "  ?s a foaf:Person\n",
    "} LIMIT 10"
   ]
  },
  {
   "cell_type": "markdown",
   "id": "f3eefb66",
   "metadata": {
    "slideshow": {
     "slide_type": "subslide"
    }
   },
   "source": [
    "----\n",
    "\n",
    "All `Person`s born in Pisa"
   ]
  },
  {
   "cell_type": "code",
   "execution_count": null,
   "id": "2a6d870c",
   "metadata": {
    "attributes": {
     "classes": [
      "sparql"
     ],
     "id": ""
    }
   },
   "outputs": [],
   "source": [
    "\n",
    "@prefix foaf: <http://xmlns.com/foaf/0.1/> .\n",
    "@prefix dbp: <http://dbpedia.org/property/> .\n",
    "@prefix dbr: <http://dbpedia.org/resource/> .\n",
    "\n",
    "select distinct * where {\n",
    "  ?s a foaf:Person .\n",
    "  ?s dbp:birthPlace dbr:Pisa\n",
    "} LIMIT 10\n"
   ]
  },
  {
   "cell_type": "markdown",
   "id": "f7e97f7f",
   "metadata": {},
   "source": [
    "... with their deathplaces"
   ]
  },
  {
   "cell_type": "code",
   "execution_count": null,
   "id": "dac5f69b",
   "metadata": {
    "attributes": {
     "classes": [
      "sparql"
     ],
     "id": ""
    }
   },
   "outputs": [],
   "source": [
    "@prefix foaf: <http://xmlns.com/foaf/0.1/> .\n",
    "@prefix dbp: <http://dbpedia.org/property/> .\n",
    "@prefix dbr: <http://dbpedia.org/resource/> .\n",
    "@prefix dbo: <http://dbpedia.org/ontology/> .\n",
    "\n",
    "\n",
    "select distinct * where {\n",
    "?s a foaf:Person .\n",
    "?s dbp:birthPlace dbr:Pisa .\n",
    "?s dbp:deathPlace ?death_place\n",
    "} LIMIT 10"
   ]
  },
  {
   "cell_type": "markdown",
   "id": "2629b817",
   "metadata": {
    "slideshow": {
     "slide_type": "subslide"
    }
   },
   "source": [
    "----\n",
    "\n",
    "If deathplace is in UK"
   ]
  },
  {
   "cell_type": "code",
   "execution_count": null,
   "id": "4b346862",
   "metadata": {
    "attributes": {
     "classes": [
      "sparql"
     ],
     "id": ""
    }
   },
   "outputs": [],
   "source": [
    "\n",
    "@prefix foaf: <http://xmlns.com/foaf/0.1/> .\n",
    "@prefix dbp: <http://dbpedia.org/property/> .\n",
    "@prefix dbr: <http://dbpedia.org/resource/> .\n",
    "@prefix dbo: <http://dbpedia.org/ontology/> .\n",
    "\n",
    "select distinct * where {\n",
    "  ?s a foaf:Person .\n",
    "  ?s dbp:birthPlace dbr:Rome .\n",
    "  ?s dbp:deathPlace ?deathPlace .\n",
    "  ?deathPlace dbo:country dbr:United_Kingdom\n",
    "} LIMIT 50\n"
   ]
  },
  {
   "cell_type": "markdown",
   "id": "46cffbd7",
   "metadata": {
    "slideshow": {
     "slide_type": "subslide"
    }
   },
   "source": [
    "----\n",
    "\n",
    "We can extend the search to every person\n",
    "born in Italy and dead in UK:\n",
    "\n",
    "- replacing `dbr:Rome` with `?birth_place`\n",
    "- restricting `?birth_place` to `dbr:Italy`"
   ]
  },
  {
   "cell_type": "code",
   "execution_count": null,
   "id": "28d46b88",
   "metadata": {
    "attributes": {
     "classes": [
      "sparql"
     ],
     "id": ""
    }
   },
   "outputs": [],
   "source": [
    "@prefix foaf: <http://xmlns.com/foaf/0.1/> .\n",
    "@prefix dbp: <http://dbpedia.org/property/> .\n",
    "@prefix dbr: <http://dbpedia.org/resource/> .\n",
    "@prefix dbo: <http://dbpedia.org/ontology/> .\n",
    "\n",
    "SELECT DISTINCT * WHERE {\n",
    "\n",
    "?s a foaf:Person .\n",
    "?s dbp:birthPlace ?birth_place .\n",
    "?s dbp:deathPlace ?deathPlace .\n",
    "\n",
    "?deathPlace dbo:country dbr:United_Kingdom .\n",
    "?birth_place dbo:country dbr:Italy\n",
    "\n",
    "} LIMIT 50"
   ]
  },
  {
   "cell_type": "markdown",
   "id": "10a4458a",
   "metadata": {
    "slideshow": {
     "slide_type": "subslide"
    }
   },
   "source": [
    "----\n",
    "\n",
    "There's no limit to the inference, for example\n",
    "we could require that the birthplace of that\n",
    "person should match the one of a Pope."
   ]
  },
  {
   "cell_type": "code",
   "execution_count": null,
   "id": "5124b666",
   "metadata": {
    "attributes": {
     "classes": [
      "sparql"
     ],
     "id": ""
    }
   },
   "outputs": [],
   "source": [
    "@prefix foaf: <http://xmlns.com/foaf/0.1/> .\n",
    "@prefix dbp: <http://dbpedia.org/property/> .\n",
    "@prefix dbr: <http://dbpedia.org/resource/> .\n",
    "@prefix dbo: <http://dbpedia.org/ontology/> .\n",
    "@prefix rdf: <http://www.w3.org/1999/02/22-rdf-syntax-ns#> .\n",
    "\n",
    "select distinct * where {\n",
    "  ?s a foaf:Person .\n",
    "  ?s dbp:birthPlace ?birth_place .\n",
    "  ?birth_place dbo:country dbr:Italy .\n",
    "  ?s dbp:deathPlace ?death_place .\n",
    "  ?death_place dbo:country dbr:France .\n",
    "\n",
    "  ?pope rdf:type dbo:Pope .\n",
    "  ?pope dbp:birthPlace ?birth_place .  # relation with the birth_place\n",
    "} LIMIT 50"
   ]
  },
  {
   "cell_type": "markdown",
   "id": "02dd3d0c",
   "metadata": {
    "slideshow": {
     "slide_type": "subslide"
    }
   },
   "source": [
    "----\n",
    "\n",
    "Shortening sparql queries"
   ]
  },
  {
   "cell_type": "code",
   "execution_count": null,
   "id": "a366e5cb",
   "metadata": {
    "attributes": {
     "classes": [
      "sparql"
     ],
     "id": ""
    }
   },
   "outputs": [],
   "source": [
    "@prefix foaf: <http://xmlns.com/foaf/0.1/> .\n",
    "@prefix dbp: <http://dbpedia.org/property/> .\n",
    "@prefix dbr: <http://dbpedia.org/resource/> .\n",
    "@prefix dbo: <http://dbpedia.org/ontology/> .\n",
    "@prefix rdf: <http://www.w3.org/1999/02/22-rdf-syntax-ns#> .\n",
    "\n",
    "select distinct * where {\n",
    "  ?s a foaf:Person ;\n",
    "     dbp:birthPlace ?birth_place ;\n",
    "     dbp:deathPlace ?death_place .\n",
    "  ?birth_place dbo:country dbr:Italy .\n",
    "  ?death_place dbo:country dbr:France .\n",
    "\n",
    "  ?pope rdf:type dbo:Pope ;\n",
    "        dbp:birthPlace ?birth_place .  # relation with the birth_place\n",
    "} LIMIT 50"
   ]
  }
 ],
 "metadata": {},
 "nbformat": 4,
 "nbformat_minor": 5
}
