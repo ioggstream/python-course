{
 "cells": [
  {
   "cell_type": "markdown",
   "id": "955f5a17",
   "metadata": {},
   "source": [
    "# Agenda\n",
    "\n",
    "- Enriching data with external knowledge\n",
    "\n",
    "- Starting from a dataset, identify keywords that can be\n",
    "  used to link entries to external knowledge.\n",
    "\n",
    "## Graphs vs Tables\n",
    "\n",
    "Storing data in tables requires to have a fixed schema.\n",
    "\n",
    "Column meaning is defined outside the table, or\n",
    "where possible, in the table header.\n",
    "\n",
    "When a row is associated with a specific entity,\n",
    "the table has an identifier column,\n",
    "usually indexed.\n",
    "\n",
    "| id | name  | surname | spouse         |\n",
    "|----|-------|---------|----------------|\n",
    "| 1  | Homer | Simpson ||\n",
    "| 2  | Marge | Simpson ||\n",
    "| 3  | Bart  | Simpson | ||\n",
    "\n",
    "Another database related to the same entity\n",
    "may have a different schema.\n",
    "\n",
    "| email              | name  | surname | parent         |\n",
    "|--------------------|-------|---------|----------------|\n",
    "| <homer@simpsons.com> | Homer | Simpson ||\n",
    "| <marge@simpsons.com> | Marge | Simpson ||\n",
    "| <bart@simpsons.com> | Bart  | Simpson |\n",
    "\n",
    "With RDF, there is no fixed schema.\n",
    "Instead, we have a public set of predicates\n",
    "that can be used to describe the same entity."
   ]
  },
  {
   "cell_type": "markdown",
   "id": "12437352",
   "metadata": {},
   "source": [
    "```mermaid\n",
    "graph LR\n",
    "\n",
    "subgraph db1\n",
    " db1-id\n",
    " db1-name\n",
    " db1-surname\n",
    "end\n",
    "\n",
    "subgraph db2\n",
    " db2-email\n",
    " db2-name\n",
    " db2-surname\n",
    "end\n",
    "\n",
    "subgraph foaf\n",
    "    givenName\n",
    "    familyName\n",
    "    mbox\n",
    "    knows\n",
    "end\n",
    "\n",
    "db1-name --> givenName ~~~ db2-name --> givenName\n",
    "db1-surname --> familyName ~~~ db2-surname --> familyName\n",
    "db1-id --> mbox ~~~ db2-email --> mbox\n",
    "```"
   ]
  },
  {
   "cell_type": "markdown",
   "id": "405838f1",
   "metadata": {},
   "source": [
    "Storing data in a graph allows to use\n",
    "a set of predefined predicates (see them as properties)\n",
    "that are globally defined."
   ]
  },
  {
   "cell_type": "markdown",
   "id": "91efb401",
   "metadata": {
    "slideshow": {
     "slide_type": "slide"
    }
   },
   "source": [
    "---\n",
    "\n",
    "Start with a json dataset."
   ]
  },
  {
   "cell_type": "code",
   "execution_count": null,
   "id": "508fed12",
   "metadata": {},
   "outputs": [],
   "source": [
    "\n",
    "data = [\n",
    "    {\"email\":\"ft@a.test\", \"name\": \"Francisca\", \"surname\": \"Trujillo\", \"country\": \"ES\"},\n",
    "    {\"email\":\"mr@a.test\", \"name\": \"Mario\", \"surname\": \"Rossi\", \"country\": \"IT\"},\n",
    "    {\"email\":\"jd@a.test\", \"name\": \"Jane\", \"surname\": \"Doe\", \"country\": \"US\"},\n",
    "    {\"email\":\"mg@a.test\", \"name\": \"Rashid\", \"surname\": \"Gowda\", \"country\": \"GB\"},\n",
    "]"
   ]
  },
  {
   "cell_type": "markdown",
   "id": "cf5019a5",
   "metadata": {},
   "source": [
    "Add a context to the dataset."
   ]
  },
  {
   "cell_type": "code",
   "execution_count": null,
   "id": "d69ff85d",
   "metadata": {},
   "outputs": [],
   "source": [
    "context = {\n",
    "        \"@vocab\": \"https://schema.org/\",\n",
    "        \"my\": \"https://a.test/my#\",\n",
    "        # The code property is appended to the base URL to form the country URI.\n",
    "        \"email\": \"@id\",\n",
    "        \"@base\": \"<mailto:>\",\n",
    "        \"name\": \"givenName\",\n",
    "        \"surname\": \"familyName\",\n",
    "        # Define a custom country property.\n",
    "        \"country\": \"my:country\",\n",
    "    }"
   ]
  },
  {
   "cell_type": "markdown",
   "id": "e6b49800",
   "metadata": {},
   "source": [
    "Now assemble everything in a JSON-LD graph"
   ]
  },
  {
   "cell_type": "code",
   "execution_count": null,
   "id": "7cae1d9e",
   "metadata": {},
   "outputs": [],
   "source": [
    "nodes_ld = {\n",
    "    # Every country is a resource.\n",
    "    \"@graph\": data,\n",
    "    \"@context\": context,\n",
    "}"
   ]
  },
  {
   "cell_type": "markdown",
   "id": "ac3b70f4",
   "metadata": {},
   "source": [
    "Exercise:\n",
    "\n",
    "- add a `\"@type\": \"Person\"` to every entry"
   ]
  },
  {
   "cell_type": "code",
   "execution_count": null,
   "id": "dcc44fa2",
   "metadata": {},
   "outputs": [],
   "source": [
    "nodes_ld = {\n",
    "    # Every country is a resource.\n",
    "    \"@graph\": [ { \"@type\": \"Person\", **c} for c in nodes],\n",
    "    \"@context\": context,\n",
    "}"
   ]
  },
  {
   "cell_type": "markdown",
   "id": "6f940d57",
   "metadata": {},
   "source": [
    "And create a dataset and bind the selected namespaces."
   ]
  },
  {
   "cell_type": "code",
   "execution_count": null,
   "id": "c0b19108",
   "metadata": {},
   "outputs": [],
   "source": [
    "from rdflib import Dataset\n",
    "\n",
    "d = Dataset(store='Oxigraph')\n",
    "# Add ns shortcuts.\n",
    "d.bind(\"eu\", \"https://publications.europa.eu/resource/authority/\")\n",
    "d.bind(\"schema\": \"https://schema.org/\")\n",
    "d.bind(\"euvoc\": \"http://publications.europa.eu/ontology/euvoc#\")\n",
    "d.bind(\"my\":  \"https://a.test/my#\")\n"
   ]
  },
  {
   "cell_type": "markdown",
   "id": "c7e3cc0b",
   "metadata": {},
   "source": [
    "Exercise:\n",
    "\n",
    "- list the graphs in the dataset; how many are there?"
   ]
  },
  {
   "cell_type": "code",
   "execution_count": null,
   "id": "29485bf3",
   "metadata": {},
   "outputs": [],
   "source": [
    "import json\n",
    "# Create a people graph and add the entries\n",
    "d.graph(identifier=\"urn:People\").parse(data=json.dumps(nodes_ld), format=\"application/ld+json\")"
   ]
  },
  {
   "cell_type": "markdown",
   "id": "412159f5",
   "metadata": {},
   "source": [
    "Exercise:\n",
    "\n",
    "- list the triples in the dataset;\n",
    "- list the triples in the `urn:People` graph;\n",
    "\n",
    "Load the countries vocabulary in a new graph."
   ]
  },
  {
   "cell_type": "code",
   "execution_count": null,
   "id": "d960537a",
   "metadata": {},
   "outputs": [],
   "source": [
    "d.graph(identifier=\"eu:country\").parse(\"countries-skos-ap-act.ttl\", format=\"ox-turtle\")"
   ]
  },
  {
   "cell_type": "markdown",
   "id": "42a64c20",
   "metadata": {},
   "source": [
    "Now we have a graph to enrich with external data.\n",
    "\n",
    "Match the custom country property with the ISO code\n",
    "contained in the EU vocabulary\n",
    "to retrieve the EU country identifier."
   ]
  },
  {
   "cell_type": "code",
   "execution_count": null,
   "id": "4614c292",
   "metadata": {},
   "outputs": [],
   "source": [
    "q = \"\"\"\n",
    "SELECT DISTINCT\n",
    "    ?person ?country\n",
    "WHERE {\n",
    "\n",
    "    # Match sentences in <urn:People>\n",
    "    GRAPH <urn:People> {\n",
    "        ?person\n",
    "            a :Person ;\n",
    "            my:country ?my_country_code .\n",
    "    }\n",
    "\n",
    "    # Match sentences in <eu:country>\n",
    "    GRAPH <eu:country> {\n",
    "        ?country a euvoc:Country ;\n",
    "                skos:notation  ?isoCode ;\n",
    "            .\n",
    "    }\n",
    "\n",
    "    # Match the isoCode of the country.\n",
    "    FILTER ( ?isoCode = STRDT(?my_country_code,  euvoc:ISO_3166_1_ALPHA_2) )\n",
    "}\n",
    "\"\"\"\n",
    "\n",
    "res = d.query(q)\n",
    "\n",
    "[x.asdict() for x in res]\n"
   ]
  },
  {
   "cell_type": "markdown",
   "id": "0ab78ece",
   "metadata": {},
   "source": [
    "Exercise:\n",
    "\n",
    "- Replace `<urn:People>` with `?g`: what happens?\n",
    "- Can you replace both GRAPHs values with `?variables`?\n",
    "- See the [string to datatype (STRDT) docs]\n",
    "\n",
    "If that's OK, we can update the graph with the country identifier."
   ]
  },
  {
   "cell_type": "code",
   "execution_count": null,
   "id": "8e6f5213",
   "metadata": {},
   "outputs": [],
   "source": [
    "q = \"\"\"\n",
    "INSERT {\n",
    "  GRAPH <urn:People> {\n",
    "    ?person :nationality ?country .\n",
    "  }\n",
    "}\n",
    "WHERE {\n",
    "\n",
    "    # Match sentences in <urn:People>\n",
    "    GRAPH <urn:People> {\n",
    "        ?person\n",
    "            a :Person ;\n",
    "            my:country ?my_country_code .\n",
    "    }\n",
    "\n",
    "    # Match sentences in <eu:country>\n",
    "    GRAPH <eu:country> {\n",
    "        ?country a euvoc:Country ;\n",
    "                skos:notation  ?isoCode ;\n",
    "            .\n",
    "    }\n",
    "\n",
    "    # Match the isoCode of the country.\n",
    "    FILTER ( ?isoCode = STRDT(?my_country_code,  euvoc:ISO_3166_1_ALPHA_2) )\n",
    "}\n",
    "\"\"\"\n",
    "d.update(q)"
   ]
  },
  {
   "cell_type": "markdown",
   "id": "7b9e1fc8",
   "metadata": {},
   "source": [
    "Now we can see the country identifier in the graph."
   ]
  },
  {
   "cell_type": "code",
   "execution_count": null,
   "id": "a1c28e88",
   "metadata": {},
   "outputs": [],
   "source": [
    "print(d.graph(identifier=\"urn:People\").serialize(format=\"turtle\"))"
   ]
  },
  {
   "cell_type": "markdown",
   "id": "3bcdce48",
   "metadata": {},
   "source": [
    "Now, we can even have a \"fat\" graph with all the information"
   ]
  },
  {
   "cell_type": "code",
   "execution_count": null,
   "id": "2a4e99d0",
   "metadata": {},
   "outputs": [],
   "source": [
    "q = \"\"\"\n",
    "PREFIX euvoc: <http://publications.europa.eu/ontology/euvoc#>\n",
    "INSERT {\n",
    "    GRAPH <urn:People> {\n",
    "        ?p my:countryName ?countryName .\n",
    "    }\n",
    "}\n",
    "WHERE {\n",
    "    ?p a :Person ;\n",
    "       :nationality ?country .\n",
    "\n",
    "    ?country skos:prefLabel ?countryName .\n",
    "    # We want the country name in English.\n",
    "    FILTER ( LANG(?countryName) = \"en\" )\n",
    "}\n",
    "\"\"\"\n",
    "d.update(q)\n"
   ]
  },
  {
   "cell_type": "markdown",
   "id": "df954621",
   "metadata": {},
   "source": [
    "We can also mangle the data a bit..."
   ]
  },
  {
   "cell_type": "code",
   "execution_count": null,
   "id": "ede6c266",
   "metadata": {},
   "outputs": [],
   "source": [
    "q = \"\"\"\n",
    "INSERT {\n",
    "    GRAPH <urn:People> {\n",
    "        ?p my:phone ?plus_prefix .\n",
    "    }\n",
    "}\n",
    "WHERE {\n",
    "    ?p a :Person ;\n",
    "       :nationality _:country .\n",
    "\n",
    "    _:country skos:notation ?prefix  .\n",
    "\n",
    "    # We want the country name in English.\n",
    "    FILTER ( DATATYPE(?prefix) = euvoc:PHONE_PREFIX )\n",
    "\n",
    "    # Bind a modified value to the variable ?plus_prefix.\n",
    "    BIND (\n",
    "        CONCAT(\"+\", str(?prefix)) AS ?plus_prefix\n",
    "    )\n",
    "}\n",
    "\"\"\"\n",
    "d.update(q)\n",
    "\n"
   ]
  },
  {
   "cell_type": "markdown",
   "id": "111f7298",
   "metadata": {},
   "source": [
    "Exercise:\n",
    "\n",
    "- replace `?country` with `_:country`: does it work?\n",
    "- replace the two sentences with the following **one**: does it work?"
   ]
  },
  {
   "cell_type": "code",
   "execution_count": null,
   "id": "8d9d3c45",
   "metadata": {
    "attributes": {
     "classes": [
      "raw"
     ],
     "id": ""
    }
   },
   "outputs": [],
   "source": [
    "?p a :Person ;\n",
    "   :nationality [\n",
    "       skos:notation ?prefix\n",
    "   ]\n",
    "."
   ]
  }
 ],
 "metadata": {},
 "nbformat": 4,
 "nbformat_minor": 5
}
