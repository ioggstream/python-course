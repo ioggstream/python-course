{
 "cells": [
  {
   "cell_type": "markdown",
   "id": "efee4f96",
   "metadata": {},
   "source": [
    "# Agenda\n",
    "\n",
    "- Enriching data with external knowledge\n",
    "\n",
    "- Starting from a dataset, identify keywords that can be\n",
    "  used to link entries to external knowledge.\n",
    "\n",
    "## Graphs vs Tables\n",
    "\n",
    "When we store data in tables,\n",
    "whe have a fixed schema.\n",
    "\n",
    "Constraints have advantages:\n",
    "\n",
    "- performance;\n",
    "- data integrity;\n",
    "- consistency."
   ]
  },
  {
   "cell_type": "markdown",
   "id": "1eb04b45",
   "metadata": {
    "slideshow": {
     "slide_type": "subslide"
    }
   },
   "source": [
    "----\n",
    "\n",
    "Column meaning is defined outside the table, or\n",
    "where possible, in the table header.\n",
    "\n",
    "When a row is associated with a specific entity,\n",
    "the table has an identifier column,\n",
    "usually indexed.\n",
    "\n",
    "| id | name  | surname | spouse         |\n",
    "|----|-------|---------|----------------|\n",
    "| 1  | Homer | Simpson |  ... |\n",
    "| 2  | Marge | Simpson |  ... |\n",
    "| 3  | Bart  | Simpson |  ... |\n",
    "\n",
    "Another database related to the same entity\n",
    "may have a different schema.\n",
    "\n",
    "| email              | name  | surname | parent         |\n",
    "|--------------------|-------|---------|----------------|\n",
    "| <homer@simpsons.com> | Homer | Simpson ||\n",
    "| <marge@simpsons.com> | Marge | Simpson ||\n",
    "| <bart@simpsons.com> | Bart  | Simpson |\n",
    "\n",
    "With RDF, there is no fixed syntactic schema.\n",
    "Instead, we describe resources\n",
    "using a public set of predicates\n",
    "(`rdf:Property`es)."
   ]
  },
  {
   "cell_type": "markdown",
   "id": "d9b4ccca",
   "metadata": {},
   "source": [
    "```mermaid\n",
    "graph LR\n",
    "\n",
    "subgraph db1\n",
    " db1-id\n",
    " db1-name\n",
    " db1-surname\n",
    "end\n",
    "\n",
    "subgraph db2\n",
    " db2-email\n",
    " db2-name\n",
    " db2-surname\n",
    "end\n",
    "\n",
    "subgraph foaf\n",
    "    givenName\n",
    "    familyName\n",
    "    mbox\n",
    "    knows\n",
    "end\n",
    "\n",
    "db1-name --> givenName ~~~ db2-name --> givenName\n",
    "db1-surname --> familyName ~~~ db2-surname --> familyName\n",
    "db1-id --> mbox ~~~ db2-email --> mbox\n",
    "```"
   ]
  },
  {
   "cell_type": "markdown",
   "id": "672a1c3a",
   "metadata": {
    "slideshow": {
     "slide_type": "slide"
    }
   },
   "source": [
    "---\n",
    "\n",
    "Let's contextualize some data\n",
    "like we did in [07-jsonld](07-jsonld.ipynb).\n",
    "\n",
    "Start with a json dataset."
   ]
  },
  {
   "cell_type": "code",
   "execution_count": null,
   "id": "8c0562d8",
   "metadata": {},
   "outputs": [],
   "source": [
    "data = [\n",
    "    {\"email\":\"ft@a.test\", \"name\": \"Francisca\", \"surname\": \"Trujillo\", \"country\": \"ES\"},\n",
    "    {\"email\":\"mr@a.test\", \"name\": \"Mario\", \"surname\": \"Rossi\", \"country\": \"IT\"},\n",
    "    {\"email\":\"jd@a.test\", \"name\": \"Jane\", \"surname\": \"Doe\", \"country\": \"US\"},\n",
    "    {\"email\":\"mg@a.test\", \"name\": \"Rashid\", \"surname\": \"Gowda\", \"country\": \"GB\"},\n",
    "]"
   ]
  },
  {
   "cell_type": "markdown",
   "id": "075f0ce5",
   "metadata": {},
   "source": [
    "Add a context to map the keys to IRIs."
   ]
  },
  {
   "cell_type": "code",
   "execution_count": null,
   "id": "61060828",
   "metadata": {},
   "outputs": [],
   "source": [
    "context = {\n",
    "        \"@vocab\": \"https://schema.org/\",\n",
    "        \"my\": \"https://a.test/my#\",\n",
    "        # The code property is appended to the base URL to form the country URI.\n",
    "        \"email\": \"@id\",\n",
    "        \"@base\": \"<mailto:>\",\n",
    "        \"name\": \"givenName\",\n",
    "        \"surname\": \"familyName\",\n",
    "        # Define a custom country property.\n",
    "        \"country\": \"my:country\",\n",
    "    }"
   ]
  },
  {
   "cell_type": "markdown",
   "id": "f4cce3af",
   "metadata": {},
   "source": [
    "Now assemble everything in a JSON-LD graph"
   ]
  },
  {
   "cell_type": "code",
   "execution_count": null,
   "id": "ff657518",
   "metadata": {},
   "outputs": [],
   "source": [
    "nodes_ld = {\n",
    "    # Every country is a resource.\n",
    "    \"@graph\": data,\n",
    "    \"@context\": context,\n",
    "}"
   ]
  },
  {
   "cell_type": "markdown",
   "id": "b29215b7",
   "metadata": {},
   "source": [
    "Exercise:\n",
    "\n",
    "- add a `\"@type\": \"Person\"` to every entry"
   ]
  },
  {
   "cell_type": "code",
   "execution_count": null,
   "id": "57f50531",
   "metadata": {},
   "outputs": [],
   "source": [
    "nodes_ld = {\n",
    "    # Every country is a resource.\n",
    "    \"@graph\": [ { \"@type\": \"Person\", **c} for c in nodes],\n",
    "    \"@context\": context,\n",
    "}"
   ]
  },
  {
   "cell_type": "markdown",
   "id": "672af855",
   "metadata": {},
   "source": [
    "Now create a dataset."
   ]
  },
  {
   "cell_type": "code",
   "execution_count": null,
   "id": "fbee8fcb",
   "metadata": {},
   "outputs": [],
   "source": [
    "from rdflib import Dataset\n",
    "\n",
    "# Remember the default_union option.\n",
    "d = Dataset(store='Oxigraph', default_union=True)"
   ]
  },
  {
   "cell_type": "markdown",
   "id": "56768790",
   "metadata": {},
   "source": [
    "and bind the selected namespaces"
   ]
  },
  {
   "cell_type": "code",
   "execution_count": null,
   "id": "08de13e5",
   "metadata": {},
   "outputs": [],
   "source": [
    "# Add ns shortcuts.\n",
    "d.bind(\"eu\", \"https://publications.europa.eu/resource/authority/\")\n",
    "d.bind(\"schema\": \"https://schema.org/\")\n",
    "d.bind(\"euvoc\": \"http://publications.europa.eu/ontology/euvoc#\")\n",
    "d.bind(\"my\":  \"https://a.test/my#\")"
   ]
  },
  {
   "cell_type": "markdown",
   "id": "a585033b",
   "metadata": {},
   "source": [
    "Exercise:\n",
    "\n",
    "- list the graphs in the dataset; how many are there?"
   ]
  },
  {
   "cell_type": "code",
   "execution_count": null,
   "id": "267bf9ce",
   "metadata": {},
   "outputs": [],
   "source": [
    "list(d.graphs())"
   ]
  },
  {
   "cell_type": "markdown",
   "id": "9cc43ec6",
   "metadata": {},
   "source": [
    "Now load the JSON-LD data into a graph."
   ]
  },
  {
   "cell_type": "code",
   "execution_count": null,
   "id": "ab3e56a0",
   "metadata": {},
   "outputs": [],
   "source": [
    "import json\n",
    "# Create a people graph and add the entries\n",
    "people = d.graph(identifier=\"urn:People\")\n",
    "people.parse(data=json.dumps(nodes_ld), format=\"application/ld+json\")"
   ]
  },
  {
   "cell_type": "markdown",
   "id": "592edfc8",
   "metadata": {},
   "source": [
    "Exercise:\n",
    "\n",
    "- list the triples in the dataset;"
   ]
  },
  {
   "cell_type": "code",
   "execution_count": null,
   "id": "a5835569",
   "metadata": {},
   "outputs": [],
   "source": [
    "[t for t in d]"
   ]
  },
  {
   "cell_type": "markdown",
   "id": "9d2e72b2",
   "metadata": {},
   "source": [
    "- list the triples in the `urn:People` graph;"
   ]
  },
  {
   "cell_type": "code",
   "execution_count": null,
   "id": "798292c1",
   "metadata": {},
   "outputs": [],
   "source": [
    "[t for t in people]"
   ]
  },
  {
   "cell_type": "markdown",
   "id": "cecbb215",
   "metadata": {},
   "source": [
    "Load the countries vocabulary in a new graph."
   ]
  },
  {
   "cell_type": "code",
   "execution_count": null,
   "id": "14cf0b2c",
   "metadata": {},
   "outputs": [],
   "source": [
    "country = d.graph(identifier=\"eu:country\")\n",
    "country.parse(\"countries-skos-ap-act.ttl\", format=\"ox-turtle\")"
   ]
  },
  {
   "cell_type": "markdown",
   "id": "f2a5b751",
   "metadata": {},
   "source": [
    "Now we have a graph to enrich with external data.\n",
    "\n",
    "Match the custom country property with the ISO code\n",
    "contained in the EU vocabulary\n",
    "to retrieve the EU country identifier."
   ]
  },
  {
   "cell_type": "code",
   "execution_count": null,
   "id": "d03f92ae",
   "metadata": {},
   "outputs": [],
   "source": [
    "q = \"\"\"\n",
    "SELECT DISTINCT\n",
    "    ?person ?country\n",
    "WHERE {\n",
    "\n",
    "    # Match sentences in <urn:People>\n",
    "    GRAPH <urn:People> {\n",
    "        ?person\n",
    "            a :Person ;\n",
    "            my:country ?my_country_code .\n",
    "    }\n",
    "\n",
    "    # Match sentences in <eu:country>\n",
    "    GRAPH <eu:country> {\n",
    "        ?country a euvoc:Country ;\n",
    "                skos:notation  ?isoCode ;\n",
    "            .\n",
    "    }\n",
    "\n",
    "    # Match the isoCode of the country.\n",
    "    FILTER ( ?isoCode = STRDT(?my_country_code,  euvoc:ISO_3166_1_ALPHA_2) )\n",
    "}\n",
    "\"\"\"\n",
    "\n",
    "res = d.query(q)\n",
    "\n",
    "[x.asdict() for x in res]\n"
   ]
  },
  {
   "cell_type": "markdown",
   "id": "0e42e105",
   "metadata": {},
   "source": [
    "Exercise:\n",
    "\n",
    "- Replace `<urn:People>` with `?g`: what happens?\n",
    "- Can you replace both GRAPHs values with `?variables`?\n",
    "- See the [string to datatype (STRDT) docs](https://www.w3.org/TR/sparql11-query/#func-strdt)\n",
    "\n",
    "If that's OK, we can update the graph with the country identifier."
   ]
  },
  {
   "cell_type": "code",
   "execution_count": null,
   "id": "5a794c77",
   "metadata": {},
   "outputs": [],
   "source": [
    "q = \"\"\"\n",
    "INSERT {\n",
    "  GRAPH <urn:People> {\n",
    "    ?person :nationality ?country .\n",
    "  }\n",
    "}\n",
    "WHERE {\n",
    "\n",
    "    # Match sentences in <urn:People>\n",
    "    GRAPH <urn:People> {\n",
    "        ?person\n",
    "            a :Person ;\n",
    "            my:country ?my_country_code .\n",
    "    }\n",
    "\n",
    "    # Match sentences in <eu:country>\n",
    "    GRAPH <eu:country> {\n",
    "        ?country a euvoc:Country ;\n",
    "                skos:notation  ?isoCode ;\n",
    "            .\n",
    "    }\n",
    "\n",
    "    # Match the isoCode of the country.\n",
    "    FILTER ( ?isoCode = STRDT(?my_country_code,  euvoc:ISO_3166_1_ALPHA_2) )\n",
    "}\n",
    "\"\"\"\n",
    "d.update(q)"
   ]
  },
  {
   "cell_type": "markdown",
   "id": "0e3863cc",
   "metadata": {},
   "source": [
    "Now we can see the country identifier in the graph."
   ]
  },
  {
   "cell_type": "code",
   "execution_count": null,
   "id": "78b8d4ff",
   "metadata": {},
   "outputs": [],
   "source": [
    "print(d.graph(identifier=\"urn:People\").serialize(format=\"turtle\"))"
   ]
  },
  {
   "cell_type": "markdown",
   "id": "d701d01c",
   "metadata": {},
   "source": [
    "Now, we can even have a \"fat\" graph with all the information"
   ]
  },
  {
   "cell_type": "code",
   "execution_count": null,
   "id": "09b2eebb",
   "metadata": {},
   "outputs": [],
   "source": [
    "q_country = \"\"\"\n",
    "PREFIX euvoc: <http://publications.europa.eu/ontology/euvoc#>\n",
    "\n",
    "INSERT {\n",
    "    GRAPH <urn:People> {\n",
    "        ?p my:countryName ?countryName .\n",
    "    }\n",
    "}\n",
    "WHERE {\n",
    "    ?p a :Person ;\n",
    "       :nationality ?country .\n",
    "\n",
    "    ?country skos:prefLabel ?countryName .\n",
    "    # We want the country name in English.\n",
    "    FILTER ( LANG(?countryName) = \"en\" )\n",
    "}\n",
    "\"\"\"\n",
    "d.update(q_country)\n"
   ]
  },
  {
   "cell_type": "markdown",
   "id": "59a91bed",
   "metadata": {},
   "source": [
    "Exercise:\n",
    "\n",
    "- in the first query, replace `?country` with `_:country`: does it work?"
   ]
  },
  {
   "cell_type": "code",
   "execution_count": null,
   "id": "11859ace",
   "metadata": {},
   "outputs": [],
   "source": [
    "q = q_country.replace(\"?country\", \"_:country\")\n",
    "d.update(q)"
   ]
  },
  {
   "cell_type": "markdown",
   "id": "36db4e19",
   "metadata": {},
   "source": [
    "We can also mangle the data a bit..."
   ]
  },
  {
   "cell_type": "code",
   "execution_count": null,
   "id": "8d54e181",
   "metadata": {},
   "outputs": [],
   "source": [
    "q = \"\"\"\n",
    "INSERT {\n",
    "    GRAPH <urn:People> {\n",
    "        ?p my:phone ?plus_prefix .\n",
    "    }\n",
    "}\n",
    "WHERE {\n",
    "    ?p a :Person ;\n",
    "       :nationality _:country .\n",
    "\n",
    "    _:country skos:notation ?prefix  .\n",
    "\n",
    "    # We want the country name in English.\n",
    "    FILTER ( DATATYPE(?prefix) = euvoc:PHONE_PREFIX )\n",
    "\n",
    "    # Bind a modified value to the variable ?plus_prefix.\n",
    "    BIND (\n",
    "        CONCAT(\"+\", str(?prefix)) AS ?plus_prefix\n",
    "    )\n",
    "}\n",
    "\"\"\"\n",
    "d.update(q)"
   ]
  },
  {
   "cell_type": "markdown",
   "id": "b82d91a6",
   "metadata": {},
   "source": [
    "Exercise:\n",
    "\n",
    "- write a SELECT query replacing the sentences"
   ]
  },
  {
   "cell_type": "markdown",
   "id": "9830bc1d",
   "metadata": {},
   "source": [
    "```turtle\n",
    "?p a :Person ;\n",
    "  :nationality _:country \n",
    ".\n",
    "\n",
    "_:country skos:notation ?prefix .\n",
    "```"
   ]
  },
  {
   "cell_type": "markdown",
   "id": "00a2e822",
   "metadata": {},
   "source": [
    "with the following **one**: does it work?"
   ]
  },
  {
   "cell_type": "markdown",
   "id": "a01c44f6",
   "metadata": {},
   "source": [
    "```turtle\n",
    "?p a :Person ;\n",
    "   :nationality [\n",
    "       skos:notation ?prefix\n",
    "   ]\n",
    ".\n",
    "```"
   ]
  },
  {
   "cell_type": "code",
   "execution_count": null,
   "id": "d0ea1029",
   "metadata": {},
   "outputs": [],
   "source": [
    "SELECT DISTINCT\n",
    "  *\n",
    "WHERE {\n",
    "    ?p a :Person ;\n",
    "       :nationality [\n",
    "        skos:notation ?prefix\n",
    "       ]\n",
    "    .\n",
    "    # We want the country name in English.\n",
    "    FILTER ( DATATYPE(?prefix) = euvoc:PHONE_PREFIX )\n",
    "\n",
    "    # Bind a modified value to the variable ?plus_prefix.\n",
    "    BIND (\n",
    "        CONCAT(\"+\", str(?prefix)) AS ?plus_prefix\n",
    "    )\n",
    "}\n",
    "\"\"\"\n",
    "d.query(q).bindings"
   ]
  }
 ],
 "metadata": {},
 "nbformat": 4,
 "nbformat_minor": 5
}
