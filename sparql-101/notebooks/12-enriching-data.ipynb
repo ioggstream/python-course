{
 "cells": [
  {
   "cell_type": "markdown",
   "id": "34e638cb",
   "metadata": {},
   "source": [
    "# Agenda\n",
    "\n",
    "- Enriching data with external knowledge\n",
    "\n",
    "- Starting from a dataset, identify keywords that can be\n",
    "  used to link entries to external knowledge.\n",
    "\n",
    "## Graphs vs Tables\n",
    "\n",
    "When we store data in tables,\n",
    "whe have a fixed schema.\n",
    "\n",
    "Constraints have advantages:\n",
    "\n",
    "- performance;\n",
    "- data integrity;\n",
    "- consistency."
   ]
  },
  {
   "cell_type": "markdown",
   "id": "9ba4d24e",
   "metadata": {
    "slideshow": {
     "slide_type": "subslide"
    }
   },
   "source": [
    "----\n",
    "\n",
    "Column meaning is defined outside the table, or\n",
    "where possible, in the table header.\n",
    "\n",
    "When a row is associated with a specific entity,\n",
    "the table has an identifier column,\n",
    "usually indexed.\n",
    "\n",
    "| id | name  | surname | spouse         |\n",
    "|----|-------|---------|----------------|\n",
    "| 1  | Homer | Simpson |  ... |\n",
    "| 2  | Marge | Simpson |  ... |\n",
    "| 3  | Bart  | Simpson |  ... |\n",
    "\n",
    "Another database related to the same entity\n",
    "may have a different schema.\n",
    "\n",
    "| email              | name  | surname | parent         |\n",
    "|--------------------|-------|---------|----------------|\n",
    "| <homer@simpsons.com> | Homer | Simpson ||\n",
    "| <marge@simpsons.com> | Marge | Simpson ||\n",
    "| <bart@simpsons.com> | Bart  | Simpson |\n",
    "\n",
    "With RDF, there is no fixed syntactic schema.\n",
    "Instead, we describe resources\n",
    "using a public set of predicates\n",
    "(`rdf:Property`es)."
   ]
  },
  {
   "cell_type": "markdown",
   "id": "c7303a4e",
   "metadata": {},
   "source": [
    "```mermaid\n",
    "graph LR\n",
    "\n",
    "subgraph db1\n",
    " db1-id\n",
    " db1-name\n",
    " db1-surname\n",
    "end\n",
    "\n",
    "subgraph db2\n",
    " db2-email\n",
    " db2-name\n",
    " db2-surname\n",
    "end\n",
    "\n",
    "subgraph foaf\n",
    "    givenName\n",
    "    familyName\n",
    "    mbox\n",
    "    knows\n",
    "end\n",
    "\n",
    "db1-name --> givenName ~~~ db2-name --> givenName\n",
    "db1-surname --> familyName ~~~ db2-surname --> familyName\n",
    "db1-id --> mbox ~~~ db2-email --> mbox\n",
    "```"
   ]
  },
  {
   "cell_type": "markdown",
   "id": "bf9dcb8d",
   "metadata": {
    "slideshow": {
     "slide_type": "slide"
    }
   },
   "source": [
    "---\n",
    "\n",
    "Let's contextualize some data\n",
    "like we did in [07-jsonld](07-jsonld.ipynb).\n",
    "\n",
    "Start with a json dataset."
   ]
  },
  {
   "cell_type": "code",
   "execution_count": null,
   "id": "f11ca71a",
   "metadata": {},
   "outputs": [],
   "source": [
    "data = [\n",
    "    {\"email\":\"ft@a.test\", \"name\": \"Francisca\", \"surname\": \"Trujillo\", \"country\": \"ES\"},\n",
    "    {\"email\":\"mr@a.test\", \"name\": \"Mario\", \"surname\": \"Rossi\", \"country\": \"IT\"},\n",
    "    {\"email\":\"jd@a.test\", \"name\": \"Jane\", \"surname\": \"Doe\", \"country\": \"US\"},\n",
    "    {\"email\":\"mg@a.test\", \"name\": \"Rashid\", \"surname\": \"Gowda\", \"country\": \"GB\"},\n",
    "]"
   ]
  },
  {
   "cell_type": "markdown",
   "id": "a0ce9a42",
   "metadata": {},
   "source": [
    "Add a context to map the keys to IRIs."
   ]
  },
  {
   "cell_type": "code",
   "execution_count": null,
   "id": "b13fe8a6",
   "metadata": {},
   "outputs": [],
   "source": [
    "context = {\n",
    "        \"@vocab\": \"https://schema.org/\",\n",
    "        \"my\": \"https://a.test/my#\",\n",
    "        # The code property is appended to the base URL to form the country URI.\n",
    "        \"email\": \"@id\",\n",
    "        \"@base\": \"<mailto:>\",\n",
    "        \"name\": \"givenName\",\n",
    "        \"surname\": \"familyName\",\n",
    "        # Define a custom country property.\n",
    "        \"country\": \"my:country\",\n",
    "    }"
   ]
  },
  {
   "cell_type": "markdown",
   "id": "6b589b41",
   "metadata": {},
   "source": [
    "Now assemble everything in a JSON-LD graph"
   ]
  },
  {
   "cell_type": "code",
   "execution_count": null,
   "id": "c36be5ad",
   "metadata": {},
   "outputs": [],
   "source": [
    "nodes_ld = {\n",
    "    # Every country is a resource.\n",
    "    \"@graph\": data,\n",
    "    \"@context\": context,\n",
    "}"
   ]
  },
  {
   "cell_type": "markdown",
   "id": "58ed2a90",
   "metadata": {},
   "source": [
    "Exercise:\n",
    "\n",
    "- add a `\"@type\": \"Person\"` to every entry"
   ]
  },
  {
   "cell_type": "markdown",
   "id": "70828132",
   "metadata": {},
   "source": [
    "Double-click for solution :)\n",
    "<!--\n",
    "nodes_ld = {\n",
    "    # Every country is a resource.\n",
    "    \"@graph\": [ { \"@type\": \"Person\", **c} for c in nodes],\n",
    "    \"@context\": context,\n",
    "}\n",
    "-->"
   ]
  },
  {
   "cell_type": "markdown",
   "id": "152bfd03",
   "metadata": {},
   "source": [
    "Now create a dataset."
   ]
  },
  {
   "cell_type": "code",
   "execution_count": null,
   "id": "242f4da6",
   "metadata": {},
   "outputs": [],
   "source": [
    "from rdflib import Dataset\n",
    "\n",
    "# Remember the default_union option.\n",
    "d = Dataset(store='Oxigraph', default_union=True)"
   ]
  },
  {
   "cell_type": "markdown",
   "id": "f90a47bc",
   "metadata": {},
   "source": [
    "and bind the selected namespaces"
   ]
  },
  {
   "cell_type": "code",
   "execution_count": null,
   "id": "6d379d1a",
   "metadata": {},
   "outputs": [],
   "source": [
    "# Add ns shortcuts.\n",
    "d.bind(\"eu\", \"https://publications.europa.eu/resource/authority/\")\n",
    "d.bind(\"schema\": \"https://schema.org/\")\n",
    "d.bind(\"euvoc\": \"http://publications.europa.eu/ontology/euvoc#\")\n",
    "d.bind(\"my\":  \"https://a.test/my#\")"
   ]
  },
  {
   "cell_type": "markdown",
   "id": "d315ddf7",
   "metadata": {},
   "source": [
    "Exercise:\n",
    "\n",
    "- list the graphs in the dataset; how many are there?"
   ]
  },
  {
   "cell_type": "markdown",
   "id": "165477c4",
   "metadata": {},
   "source": [
    "Double-click for solution :)\n",
    "<!--\n",
    "list(d.graphs())\n",
    "-->"
   ]
  },
  {
   "cell_type": "markdown",
   "id": "2165df13",
   "metadata": {},
   "source": [
    "Now load the JSON-LD data into a graph."
   ]
  },
  {
   "cell_type": "code",
   "execution_count": null,
   "id": "e0850235",
   "metadata": {},
   "outputs": [],
   "source": [
    "import json\n",
    "# Create a people graph and add the entries\n",
    "people = d.graph(identifier=\"urn:People\")\n",
    "people.parse(data=json.dumps(nodes_ld), format=\"application/ld+json\")"
   ]
  },
  {
   "cell_type": "markdown",
   "id": "874c5d2a",
   "metadata": {},
   "source": [
    "Exercise:\n",
    "\n",
    "- list the triples in the dataset;"
   ]
  },
  {
   "cell_type": "markdown",
   "id": "50e7f0c3",
   "metadata": {},
   "source": [
    "Double-click for solution :)\n",
    "<!--\n",
    "[t for t in d]\n",
    "-->"
   ]
  },
  {
   "cell_type": "markdown",
   "id": "0e3a49be",
   "metadata": {},
   "source": [
    "- list the triples in the `urn:People` graph;"
   ]
  },
  {
   "cell_type": "markdown",
   "id": "45508908",
   "metadata": {},
   "source": [
    "Double-click for solution :)\n",
    "<!--\n",
    "[t for t in people]\n",
    "-->"
   ]
  },
  {
   "cell_type": "markdown",
   "id": "4afa8533",
   "metadata": {},
   "source": [
    "Load the countries vocabulary in a new graph."
   ]
  },
  {
   "cell_type": "code",
   "execution_count": null,
   "id": "e929b26f",
   "metadata": {},
   "outputs": [],
   "source": [
    "country = d.graph(identifier=\"eu:country\")\n",
    "country.parse(\"countries-skos-ap-act.ttl\", format=\"ox-turtle\")"
   ]
  },
  {
   "cell_type": "markdown",
   "id": "e7883bfa",
   "metadata": {},
   "source": [
    "Now we have a graph to enrich with external data.\n",
    "\n",
    "Match the custom country property with the ISO code\n",
    "contained in the EU vocabulary\n",
    "to retrieve the EU country identifier."
   ]
  },
  {
   "cell_type": "code",
   "execution_count": null,
   "id": "15784de1",
   "metadata": {},
   "outputs": [],
   "source": [
    "q = \"\"\"\n",
    "SELECT DISTINCT\n",
    "    ?person ?country\n",
    "WHERE {\n",
    "\n",
    "    # Match sentences in <urn:People>\n",
    "    GRAPH <urn:People> {\n",
    "        ?person\n",
    "            a :Person ;\n",
    "            my:country ?my_country_code .\n",
    "    }\n",
    "\n",
    "    # Match sentences in <eu:country>\n",
    "    GRAPH <eu:country> {\n",
    "        ?country a euvoc:Country ;\n",
    "                skos:notation  ?isoCode ;\n",
    "            .\n",
    "    }\n",
    "\n",
    "    # Match the isoCode of the country.\n",
    "    FILTER ( ?isoCode = STRDT(?my_country_code,  euvoc:ISO_3166_1_ALPHA_2) )\n",
    "}\n",
    "\"\"\"\n",
    "\n",
    "res = d.query(q)\n",
    "\n",
    "[x.asdict() for x in res]\n"
   ]
  },
  {
   "cell_type": "markdown",
   "id": "027fbb4b",
   "metadata": {},
   "source": [
    "Exercise:\n",
    "\n",
    "- Replace `<urn:People>` with `?g`: what happens?\n",
    "- Can you replace both GRAPHs values with `?variables`?\n",
    "- See the [string to datatype (STRDT) docs](https://www.w3.org/TR/sparql11-query/#func-strdt)\n",
    "\n",
    "If that's OK, we can update the graph with the country identifier."
   ]
  },
  {
   "cell_type": "code",
   "execution_count": null,
   "id": "791b109e",
   "metadata": {},
   "outputs": [],
   "source": [
    "q = \"\"\"\n",
    "INSERT {\n",
    "  GRAPH <urn:People> {\n",
    "    ?person :nationality ?country .\n",
    "  }\n",
    "}\n",
    "WHERE {\n",
    "\n",
    "    # Match sentences in <urn:People>\n",
    "    GRAPH <urn:People> {\n",
    "        ?person\n",
    "            a :Person ;\n",
    "            my:country ?my_country_code .\n",
    "    }\n",
    "\n",
    "    # Match sentences in <eu:country>\n",
    "    GRAPH <eu:country> {\n",
    "        ?country a euvoc:Country ;\n",
    "                skos:notation  ?isoCode ;\n",
    "            .\n",
    "    }\n",
    "\n",
    "    # Match the isoCode of the country.\n",
    "    FILTER ( ?isoCode = STRDT(?my_country_code,  euvoc:ISO_3166_1_ALPHA_2) )\n",
    "}\n",
    "\"\"\"\n",
    "d.update(q)"
   ]
  },
  {
   "cell_type": "markdown",
   "id": "ea37d583",
   "metadata": {},
   "source": [
    "Now we can see the country identifier in the graph."
   ]
  },
  {
   "cell_type": "code",
   "execution_count": null,
   "id": "daf03ab6",
   "metadata": {},
   "outputs": [],
   "source": [
    "print(d.graph(identifier=\"urn:People\").serialize(format=\"turtle\"))"
   ]
  },
  {
   "cell_type": "markdown",
   "id": "b105e247",
   "metadata": {},
   "source": [
    "Now, we can even have a \"fat\" graph with all the information"
   ]
  },
  {
   "cell_type": "code",
   "execution_count": null,
   "id": "cdddf644",
   "metadata": {},
   "outputs": [],
   "source": [
    "q_country = \"\"\"\n",
    "PREFIX euvoc: <http://publications.europa.eu/ontology/euvoc#>\n",
    "\n",
    "INSERT {\n",
    "    GRAPH <urn:People> {\n",
    "        ?p my:countryName ?countryName .\n",
    "    }\n",
    "}\n",
    "WHERE {\n",
    "    ?p a :Person ;\n",
    "       :nationality ?country .\n",
    "\n",
    "    ?country skos:prefLabel ?countryName .\n",
    "    # We want the country name in English.\n",
    "    FILTER ( LANG(?countryName) = \"en\" )\n",
    "}\n",
    "\"\"\"\n",
    "d.update(q_country)\n"
   ]
  },
  {
   "cell_type": "markdown",
   "id": "b2ffb8a3",
   "metadata": {},
   "source": [
    "Exercise:\n",
    "\n",
    "- in the first query, replace `?country` with `_:country`: does it work?"
   ]
  },
  {
   "cell_type": "markdown",
   "id": "a472c070",
   "metadata": {},
   "source": [
    "Double-click for solution :)\n",
    "<!--\n",
    "q = q_country.replace(\"?country\", \"_:country\")\n",
    "d.update(q)\n",
    "-->"
   ]
  },
  {
   "cell_type": "markdown",
   "id": "9a411c87",
   "metadata": {},
   "source": [
    "We can also mangle the data a bit..."
   ]
  },
  {
   "cell_type": "code",
   "execution_count": null,
   "id": "119fd418",
   "metadata": {},
   "outputs": [],
   "source": [
    "q = \"\"\"\n",
    "INSERT {\n",
    "    GRAPH <urn:People> {\n",
    "        ?p my:phone ?plus_prefix .\n",
    "    }\n",
    "}\n",
    "WHERE {\n",
    "    ?p a :Person ;\n",
    "       :nationality _:country .\n",
    "\n",
    "    _:country skos:notation ?prefix  .\n",
    "\n",
    "    # We want the country name in English.\n",
    "    FILTER ( DATATYPE(?prefix) = euvoc:PHONE_PREFIX )\n",
    "\n",
    "    # Bind a modified value to the variable ?plus_prefix.\n",
    "    BIND (\n",
    "        CONCAT(\"+\", str(?prefix)) AS ?plus_prefix\n",
    "    )\n",
    "}\n",
    "\"\"\"\n",
    "d.update(q)"
   ]
  },
  {
   "cell_type": "markdown",
   "id": "87438ab5",
   "metadata": {},
   "source": [
    "Exercise:\n",
    "\n",
    "- write a SELECT query replacing the sentences"
   ]
  },
  {
   "cell_type": "markdown",
   "id": "1ac146c8",
   "metadata": {},
   "source": [
    "```turtle\n",
    "?p a :Person ;\n",
    "  :nationality _:country\n",
    ".\n",
    "\n",
    "_:country skos:notation ?prefix .\n",
    "```"
   ]
  },
  {
   "cell_type": "markdown",
   "id": "67a6682e",
   "metadata": {},
   "source": [
    "with the following **one**: does it work?"
   ]
  },
  {
   "cell_type": "markdown",
   "id": "6951db80",
   "metadata": {},
   "source": [
    "```turtle\n",
    "?p a :Person ;\n",
    "   :nationality [\n",
    "       skos:notation ?prefix\n",
    "   ]\n",
    ".\n",
    "```"
   ]
  },
  {
   "cell_type": "markdown",
   "id": "efaf1ad7",
   "metadata": {},
   "source": [
    "Double-click for solution :)\n",
    "<!--\n",
    "SELECT DISTINCT\n",
    "  *\n",
    "WHERE {\n",
    "    ?p a :Person ;\n",
    "       :nationality [\n",
    "        skos:notation ?prefix\n",
    "       ]\n",
    "    .\n",
    "    # We want the country name in English.\n",
    "    FILTER ( DATATYPE(?prefix) = euvoc:PHONE_PREFIX )\n",
    "\n",
    "    # Bind a modified value to the variable ?plus_prefix.\n",
    "    BIND (\n",
    "        CONCAT(\"+\", str(?prefix)) AS ?plus_prefix\n",
    "    )\n",
    "}\n",
    "\"\"\"\n",
    "d.query(q).bindings\n",
    "-->"
   ]
  }
 ],
 "metadata": {},
 "nbformat": 4,
 "nbformat_minor": 5
}
