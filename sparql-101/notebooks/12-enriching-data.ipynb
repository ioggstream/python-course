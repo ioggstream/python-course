{
 "cells": [
  {
   "cell_type": "markdown",
   "id": "b410217f",
   "metadata": {},
   "source": [
    "# Agenda\n",
    "\n",
    "- Enriching data with external knowledge\n",
    "\n",
    "- Starting from a dataset, identify keywords that can be\n",
    "  used to link entries to external knowledge.\n",
    "\n",
    "## Graphs vs Tables\n",
    "\n",
    "When we store data in tables,\n",
    "whe have a fixed schema.\n",
    "\n",
    "Constraints have advantages:\n",
    "\n",
    "- performance;\n",
    "- data integrity;\n",
    "- consistency."
   ]
  },
  {
   "cell_type": "markdown",
   "id": "48e9fcbb",
   "metadata": {
    "slideshow": {
     "slide_type": "subslide"
    }
   },
   "source": [
    "----\n",
    "\n",
    "Column meaning is defined outside the table, or\n",
    "where possible, in the table header.\n",
    "\n",
    "When a row is associated with a specific entity,\n",
    "the table has an identifier column,\n",
    "usually indexed.\n",
    "\n",
    "| id | name  | surname | spouse         |\n",
    "|----|-------|---------|----------------|\n",
    "| 1  | Homer | Simpson |  ... |\n",
    "| 2  | Marge | Simpson |  ... |\n",
    "| 3  | Bart  | Simpson |  ... |\n",
    "\n",
    "Another database related to the same entity\n",
    "may have a different schema.\n",
    "\n",
    "| email              | name  | surname | parent         |\n",
    "|--------------------|-------|---------|----------------|\n",
    "| <homer@simpsons.com> | Homer | Simpson ||\n",
    "| <marge@simpsons.com> | Marge | Simpson ||\n",
    "| <bart@simpsons.com> | Bart  | Simpson |\n",
    "\n",
    "With RDF, there is no fixed schema.\n",
    "Instead, we have a public set of predicates\n",
    "that can be used to describe the same entity."
   ]
  },
  {
   "cell_type": "markdown",
   "id": "066a5ba8",
   "metadata": {},
   "source": [
    "```mermaid\n",
    "graph LR\n",
    "\n",
    "subgraph db1\n",
    " db1-id\n",
    " db1-name\n",
    " db1-surname\n",
    "end\n",
    "\n",
    "subgraph db2\n",
    " db2-email\n",
    " db2-name\n",
    " db2-surname\n",
    "end\n",
    "\n",
    "subgraph foaf\n",
    "    givenName\n",
    "    familyName\n",
    "    mbox\n",
    "    knows\n",
    "end\n",
    "\n",
    "db1-name --> givenName ~~~ db2-name --> givenName\n",
    "db1-surname --> familyName ~~~ db2-surname --> familyName\n",
    "db1-id --> mbox ~~~ db2-email --> mbox\n",
    "```"
   ]
  },
  {
   "cell_type": "markdown",
   "id": "00232afe",
   "metadata": {},
   "source": [
    "Storing data in a graph allows to use\n",
    "a set of predefined predicates (see them as properties)\n",
    "that are globally defined."
   ]
  },
  {
   "cell_type": "markdown",
   "id": "d67466ba",
   "metadata": {
    "slideshow": {
     "slide_type": "slide"
    }
   },
   "source": [
    "---\n",
    "\n",
    "Start with a json dataset."
   ]
  },
  {
   "cell_type": "code",
   "execution_count": null,
   "id": "dda02eed",
   "metadata": {},
   "outputs": [],
   "source": [
    "\n",
    "data = [\n",
    "    {\"email\":\"ft@a.test\", \"name\": \"Francisca\", \"surname\": \"Trujillo\", \"country\": \"ES\"},\n",
    "    {\"email\":\"mr@a.test\", \"name\": \"Mario\", \"surname\": \"Rossi\", \"country\": \"IT\"},\n",
    "    {\"email\":\"jd@a.test\", \"name\": \"Jane\", \"surname\": \"Doe\", \"country\": \"US\"},\n",
    "    {\"email\":\"mg@a.test\", \"name\": \"Rashid\", \"surname\": \"Gowda\", \"country\": \"GB\"},\n",
    "]"
   ]
  },
  {
   "cell_type": "markdown",
   "id": "264610ce",
   "metadata": {},
   "source": [
    "Add a context to the dataset."
   ]
  },
  {
   "cell_type": "code",
   "execution_count": null,
   "id": "d5ae5409",
   "metadata": {},
   "outputs": [],
   "source": [
    "context = {\n",
    "        \"@vocab\": \"https://schema.org/\",\n",
    "        \"my\": \"https://a.test/my#\",\n",
    "        # The code property is appended to the base URL to form the country URI.\n",
    "        \"email\": \"@id\",\n",
    "        \"@base\": \"<mailto:>\",\n",
    "        \"name\": \"givenName\",\n",
    "        \"surname\": \"familyName\",\n",
    "        # Define a custom country property.\n",
    "        \"country\": \"my:country\",\n",
    "    }"
   ]
  },
  {
   "cell_type": "markdown",
   "id": "e9928532",
   "metadata": {},
   "source": [
    "Now assemble everything in a JSON-LD graph"
   ]
  },
  {
   "cell_type": "code",
   "execution_count": null,
   "id": "d5981675",
   "metadata": {},
   "outputs": [],
   "source": [
    "nodes_ld = {\n",
    "    # Every country is a resource.\n",
    "    \"@graph\": data,\n",
    "    \"@context\": context,\n",
    "}"
   ]
  },
  {
   "cell_type": "markdown",
   "id": "a09891c5",
   "metadata": {},
   "source": [
    "Exercise:\n",
    "\n",
    "- add a `\"@type\": \"Person\"` to every entry"
   ]
  },
  {
   "cell_type": "code",
   "execution_count": null,
   "id": "2c315f67",
   "metadata": {},
   "outputs": [],
   "source": [
    "nodes_ld = {\n",
    "    # Every country is a resource.\n",
    "    \"@graph\": [ { \"@type\": \"Person\", **c} for c in nodes],\n",
    "    \"@context\": context,\n",
    "}"
   ]
  },
  {
   "cell_type": "markdown",
   "id": "6231d879",
   "metadata": {},
   "source": [
    "And create a dataset and bind the selected namespaces."
   ]
  },
  {
   "cell_type": "code",
   "execution_count": null,
   "id": "24705459",
   "metadata": {},
   "outputs": [],
   "source": [
    "from rdflib import Dataset\n",
    "\n",
    "d = Dataset(store='Oxigraph')\n",
    "# Add ns shortcuts.\n",
    "d.bind(\"eu\", \"https://publications.europa.eu/resource/authority/\")\n",
    "d.bind(\"schema\": \"https://schema.org/\")\n",
    "d.bind(\"euvoc\": \"http://publications.europa.eu/ontology/euvoc#\")\n",
    "d.bind(\"my\":  \"https://a.test/my#\")\n"
   ]
  },
  {
   "cell_type": "markdown",
   "id": "9d4076cb",
   "metadata": {},
   "source": [
    "Exercise:\n",
    "\n",
    "- list the graphs in the dataset; how many are there?"
   ]
  },
  {
   "cell_type": "code",
   "execution_count": null,
   "id": "d07c3cc3",
   "metadata": {},
   "outputs": [],
   "source": [
    "import json\n",
    "# Create a people graph and add the entries\n",
    "d.graph(identifier=\"urn:People\").parse(data=json.dumps(nodes_ld), format=\"application/ld+json\")"
   ]
  },
  {
   "cell_type": "markdown",
   "id": "997b868b",
   "metadata": {},
   "source": [
    "Exercise:\n",
    "\n",
    "- list the triples in the dataset;\n",
    "- list the triples in the `urn:People` graph;\n",
    "\n",
    "Load the countries vocabulary in a new graph."
   ]
  },
  {
   "cell_type": "code",
   "execution_count": null,
   "id": "f3601b1a",
   "metadata": {},
   "outputs": [],
   "source": [
    "d.graph(identifier=\"eu:country\").parse(\"countries-skos-ap-act.ttl\", format=\"ox-turtle\")"
   ]
  },
  {
   "cell_type": "markdown",
   "id": "214bdd13",
   "metadata": {},
   "source": [
    "Now we have a graph to enrich with external data.\n",
    "\n",
    "Match the custom country property with the ISO code\n",
    "contained in the EU vocabulary\n",
    "to retrieve the EU country identifier."
   ]
  },
  {
   "cell_type": "code",
   "execution_count": null,
   "id": "e925177a",
   "metadata": {},
   "outputs": [],
   "source": [
    "q = \"\"\"\n",
    "SELECT DISTINCT\n",
    "    ?person ?country\n",
    "WHERE {\n",
    "\n",
    "    # Match sentences in <urn:People>\n",
    "    GRAPH <urn:People> {\n",
    "        ?person\n",
    "            a :Person ;\n",
    "            my:country ?my_country_code .\n",
    "    }\n",
    "\n",
    "    # Match sentences in <eu:country>\n",
    "    GRAPH <eu:country> {\n",
    "        ?country a euvoc:Country ;\n",
    "                skos:notation  ?isoCode ;\n",
    "            .\n",
    "    }\n",
    "\n",
    "    # Match the isoCode of the country.\n",
    "    FILTER ( ?isoCode = STRDT(?my_country_code,  euvoc:ISO_3166_1_ALPHA_2) )\n",
    "}\n",
    "\"\"\"\n",
    "\n",
    "res = d.query(q)\n",
    "\n",
    "[x.asdict() for x in res]\n"
   ]
  },
  {
   "cell_type": "markdown",
   "id": "c899974e",
   "metadata": {},
   "source": [
    "Exercise:\n",
    "\n",
    "- Replace `<urn:People>` with `?g`: what happens?\n",
    "- Can you replace both GRAPHs values with `?variables`?\n",
    "- See the [string to datatype (STRDT) docs]\n",
    "\n",
    "If that's OK, we can update the graph with the country identifier."
   ]
  },
  {
   "cell_type": "code",
   "execution_count": null,
   "id": "1214853c",
   "metadata": {},
   "outputs": [],
   "source": [
    "q = \"\"\"\n",
    "INSERT {\n",
    "  GRAPH <urn:People> {\n",
    "    ?person :nationality ?country .\n",
    "  }\n",
    "}\n",
    "WHERE {\n",
    "\n",
    "    # Match sentences in <urn:People>\n",
    "    GRAPH <urn:People> {\n",
    "        ?person\n",
    "            a :Person ;\n",
    "            my:country ?my_country_code .\n",
    "    }\n",
    "\n",
    "    # Match sentences in <eu:country>\n",
    "    GRAPH <eu:country> {\n",
    "        ?country a euvoc:Country ;\n",
    "                skos:notation  ?isoCode ;\n",
    "            .\n",
    "    }\n",
    "\n",
    "    # Match the isoCode of the country.\n",
    "    FILTER ( ?isoCode = STRDT(?my_country_code,  euvoc:ISO_3166_1_ALPHA_2) )\n",
    "}\n",
    "\"\"\"\n",
    "d.update(q)"
   ]
  },
  {
   "cell_type": "markdown",
   "id": "bd3ad859",
   "metadata": {},
   "source": [
    "Now we can see the country identifier in the graph."
   ]
  },
  {
   "cell_type": "code",
   "execution_count": null,
   "id": "ff74b60f",
   "metadata": {},
   "outputs": [],
   "source": [
    "print(d.graph(identifier=\"urn:People\").serialize(format=\"turtle\"))"
   ]
  },
  {
   "cell_type": "markdown",
   "id": "e4564d71",
   "metadata": {},
   "source": [
    "Now, we can even have a \"fat\" graph with all the information"
   ]
  },
  {
   "cell_type": "code",
   "execution_count": null,
   "id": "d100e8f7",
   "metadata": {},
   "outputs": [],
   "source": [
    "q = \"\"\"\n",
    "PREFIX euvoc: <http://publications.europa.eu/ontology/euvoc#>\n",
    "INSERT {\n",
    "    GRAPH <urn:People> {\n",
    "        ?p my:countryName ?countryName .\n",
    "    }\n",
    "}\n",
    "WHERE {\n",
    "    ?p a :Person ;\n",
    "       :nationality ?country .\n",
    "\n",
    "    ?country skos:prefLabel ?countryName .\n",
    "    # We want the country name in English.\n",
    "    FILTER ( LANG(?countryName) = \"en\" )\n",
    "}\n",
    "\"\"\"\n",
    "d.update(q)\n"
   ]
  },
  {
   "cell_type": "markdown",
   "id": "952ee20f",
   "metadata": {},
   "source": [
    "We can also mangle the data a bit..."
   ]
  },
  {
   "cell_type": "code",
   "execution_count": null,
   "id": "6e935bd2",
   "metadata": {},
   "outputs": [],
   "source": [
    "q = \"\"\"\n",
    "INSERT {\n",
    "    GRAPH <urn:People> {\n",
    "        ?p my:phone ?plus_prefix .\n",
    "    }\n",
    "}\n",
    "WHERE {\n",
    "    ?p a :Person ;\n",
    "       :nationality _:country .\n",
    "\n",
    "    _:country skos:notation ?prefix  .\n",
    "\n",
    "    # We want the country name in English.\n",
    "    FILTER ( DATATYPE(?prefix) = euvoc:PHONE_PREFIX )\n",
    "\n",
    "    # Bind a modified value to the variable ?plus_prefix.\n",
    "    BIND (\n",
    "        CONCAT(\"+\", str(?prefix)) AS ?plus_prefix\n",
    "    )\n",
    "}\n",
    "\"\"\"\n",
    "d.update(q)\n",
    "\n"
   ]
  },
  {
   "cell_type": "markdown",
   "id": "b9c1fa7c",
   "metadata": {},
   "source": [
    "Exercise:\n",
    "\n",
    "- replace `?country` with `_:country`: does it work?\n",
    "- replace the two sentences with the following **one**: does it work?"
   ]
  },
  {
   "cell_type": "markdown",
   "id": "5b7a64cc",
   "metadata": {},
   "source": [
    "```turtle\n",
    "?p a :Person ;\n",
    "   :nationality [\n",
    "       skos:notation ?prefix\n",
    "   ]\n",
    ".\n",
    "```"
   ]
  }
 ],
 "metadata": {},
 "nbformat": 4,
 "nbformat_minor": 5
}
