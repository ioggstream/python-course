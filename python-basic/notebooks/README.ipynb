{
 "cells": [
  {
   "cell_type": "markdown",
   "id": "ea3ff703",
   "metadata": {},
   "source": [
    "# Python Basic\n",
    "\n",
    "This is a python crash course.\n",
    "\n",
    "You can read it [here](http://nbviewer.ipython.org/github/ioggstream/python-course/tree/master/python-basic/notebooks/)\n",
    "and use it:"
   ]
  },
  {
   "cell_type": "code",
   "execution_count": null,
   "id": "a772e377",
   "metadata": {},
   "outputs": [],
   "source": [
    "- via ipython\n",
    "- via ipython notebook\n"
   ]
  },
  {
   "cell_type": "markdown",
   "id": "731b911f",
   "metadata": {},
   "source": [
    "## Setup on Linux\n",
    "\n",
    "Install the dependencies either with:"
   ]
  },
  {
   "cell_type": "code",
   "execution_count": null,
   "id": "2602909c",
   "metadata": {},
   "outputs": [],
   "source": [
    "- #pip install -r requirements.txt\n",
    "\n",
    "- #sudo apt-get install ipython-notebook\n",
    "\n",
    "- #sudo yum install ipython-notebook\n"
   ]
  },
  {
   "cell_type": "markdown",
   "id": "8b1177bf",
   "metadata": {},
   "source": [
    "## Setup with Docker Compose\n",
    "\n",
    "If you have docker and compose you can just run (and wait for download):"
   ]
  },
  {
   "cell_type": "code",
   "execution_count": null,
   "id": "7eaff971",
   "metadata": {},
   "outputs": [],
   "source": [
    "#docker-compose up\n"
   ]
  },
  {
   "cell_type": "markdown",
   "id": "7249d3db",
   "metadata": {},
   "source": [
    "## Setup on Windows and Mac OS\n",
    "\n",
    "Download python from [Continuum](http://continuum.io/downloads) and\n",
    "install following the [provided instructions](http://docs.continuum.io/anaconda/install.html)\n",
    "\n",
    "Then from the terminal:"
   ]
  },
  {
   "cell_type": "code",
   "execution_count": null,
   "id": "6272def4",
   "metadata": {},
   "outputs": [],
   "source": [
    "#conda update conda\n",
    "#conda update ipython ipython-notebook ipython-qtconsole \\\n",
    "    readline psutil matplotlib scipy numpy nose"
   ]
  }
 ],
 "metadata": {},
 "nbformat": 4,
 "nbformat_minor": 5
}
