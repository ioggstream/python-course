{
 "cells": [
  {
   "cell_type": "markdown",
   "id": "868f7bff",
   "metadata": {},
   "source": [
    "# Python for System Administrator\n",
    "\n",
    " Author: <roberto.polli@par-tec.it>"
   ]
  },
  {
   "cell_type": "markdown",
   "id": "e621dedc",
   "metadata": {
    "slideshow": {
     "slide_type": "slide"
    }
   },
   "source": [
    "---\n",
    "\n",
    "## Introducing Python\n",
    "\n",
    "Python is an interpreted, object oriented language with\n",
    "a lot of built in features.\n",
    "\n",
    "This is a fast-track course for sysadmin with knowledge\n",
    "of languages like Perl, PHP, C and Java"
   ]
  },
  {
   "cell_type": "markdown",
   "id": "00e87a69",
   "metadata": {
    "slideshow": {
     "slide_type": "subslide"
    }
   },
   "source": [
    "----\n",
    "\n",
    "## Agenda\n",
    "\n",
    "- Importing features\n",
    "- Getting help\n",
    "- Printing\n",
    "- Basic Arithmetic\n",
    "- Variable assignment\n",
    "- Formatting"
   ]
  },
  {
   "cell_type": "markdown",
   "id": "8b7290ba",
   "metadata": {},
   "source": [
    "----"
   ]
  },
  {
   "cell_type": "code",
   "execution_count": null,
   "id": "778e7f5a",
   "metadata": {},
   "outputs": [],
   "source": [
    "# Importing_new_features\n",
    "# ..is easy. Features are collected\n",
    "# in packages or modules. Just\n",
    "import telnetlib  # to use a\n",
    "telnetlib.Telnet  # client"
   ]
  },
  {
   "cell_type": "code",
   "execution_count": null,
   "id": "d77c08d9",
   "metadata": {},
   "outputs": [],
   "source": [
    "# We can even import single classes\n",
    "#  from a module, like\n",
    "from telnetlib import Telnet\n"
   ]
  },
  {
   "cell_type": "markdown",
   "id": "e31af69a",
   "metadata": {
    "slideshow": {
     "slide_type": "subslide"
    }
   },
   "source": [
    "----\n",
    "\n",
    "Modules contain documentation in the form of docstrings,\n",
    "that jupyter presents in scrollable boxes."
   ]
  },
  {
   "cell_type": "code",
   "execution_count": null,
   "id": "fbd25497",
   "metadata": {},
   "outputs": [],
   "source": [
    "\n",
    "# Read the module documentation...\n",
    "help(telnetlib)"
   ]
  },
  {
   "cell_type": "code",
   "execution_count": null,
   "id": "fa42e358",
   "metadata": {},
   "outputs": [],
   "source": [
    "# ...or the class documentation\n",
    "help(Telnet)\n"
   ]
  },
  {
   "cell_type": "markdown",
   "id": "664bdf8d",
   "metadata": {
    "slideshow": {
     "slide_type": "slide"
    }
   },
   "source": [
    "---\n",
    "\n",
    "## Basic functions\n",
    "\n",
    "There are basic functions for printing and\n",
    "managing variables."
   ]
  },
  {
   "cell_type": "code",
   "execution_count": null,
   "id": "a64153cf",
   "metadata": {},
   "outputs": [],
   "source": [
    "# you can print with the print() function\n",
    "print(\"Hello world!\")"
   ]
  },
  {
   "cell_type": "code",
   "execution_count": null,
   "id": "9ac21495",
   "metadata": {},
   "outputs": [],
   "source": [
    "# concatenate string with a + sign\n",
    "# and using hex notation\n",
    "print(\"Hello\" + \" \" + \"World\\x21\")"
   ]
  },
  {
   "cell_type": "code",
   "execution_count": null,
   "id": "58240301",
   "metadata": {},
   "outputs": [],
   "source": [
    "print(\"Ciao\")"
   ]
  },
  {
   "cell_type": "code",
   "execution_count": null,
   "id": "8cada63b",
   "metadata": {},
   "outputs": [],
   "source": [
    "# prefixing a string with 'r' disables the\n",
    "# interpretation of the string content\n",
    "print('Hello' * 2 + r'World\\x21')"
   ]
  },
  {
   "cell_type": "markdown",
   "id": "61946ce4",
   "metadata": {},
   "source": [
    "----"
   ]
  },
  {
   "cell_type": "code",
   "execution_count": null,
   "id": "f2a83ec6",
   "metadata": {},
   "outputs": [],
   "source": [
    "# the chr() function returns the corresponding\n",
    "# character of an integer. While \\n and \\t are\n",
    "# just the usual notation for linefeed and tab\n",
    "print(chr(72) + \"ello\\n\\tWorld!\")"
   ]
  },
  {
   "cell_type": "code",
   "execution_count": null,
   "id": "8605dc4b",
   "metadata": {},
   "outputs": [],
   "source": [
    "# triple-quoting allows multi-line strings\n",
    "# %s works like in the C printf() function\n",
    "# but operates on strings\n",
    "# ord() is just the inverse of chr()\n",
    "print(\"\"\"The answer is\n",
    "\n",
    "%s\n",
    "\"\"\" % ord('*'))\n"
   ]
  },
  {
   "cell_type": "markdown",
   "id": "285b177a",
   "metadata": {
    "slideshow": {
     "slide_type": "slide"
    }
   },
   "source": [
    "---\n",
    "\n",
    "## Basic Arithmetic"
   ]
  },
  {
   "cell_type": "code",
   "execution_count": null,
   "id": "a09910f2",
   "metadata": {},
   "outputs": [],
   "source": [
    "# This is a comment, while\n",
    "a = 1  # is an integer variable\n",
    "b = 0x10  # is another integer in hex notation"
   ]
  },
  {
   "cell_type": "markdown",
   "id": "5cbf6d75",
   "metadata": {},
   "source": [
    "----"
   ]
  },
  {
   "cell_type": "code",
   "execution_count": null,
   "id": "bd3ad7c6",
   "metadata": {},
   "outputs": [],
   "source": [
    "# Exercise: use the print() function to print the value of a and b.\n"
   ]
  },
  {
   "cell_type": "markdown",
   "id": "046b572c",
   "metadata": {},
   "source": [
    "----"
   ]
  },
  {
   "cell_type": "code",
   "execution_count": null,
   "id": "ed0089a4",
   "metadata": {},
   "outputs": [],
   "source": [
    "# c = 011  # ...another one in C-style oct on python 2...\n",
    "c = 0o11  # ...in python 2 and 3"
   ]
  },
  {
   "cell_type": "markdown",
   "id": "e5d8ee5d",
   "metadata": {},
   "source": [
    "----"
   ]
  },
  {
   "cell_type": "code",
   "execution_count": null,
   "id": "e5dfddca",
   "metadata": {},
   "outputs": [],
   "source": [
    "# I can sum, multiply, and modulus\n",
    "print(a + b, 5 % 2)"
   ]
  },
  {
   "cell_type": "markdown",
   "id": "754385fb",
   "metadata": {},
   "source": [
    "----"
   ]
  },
  {
   "cell_type": "code",
   "execution_count": null,
   "id": "2c7440a8",
   "metadata": {},
   "outputs": [],
   "source": [
    "# Exercise: which is the expected value of 2 * c?\n",
    "print(2 * c)"
   ]
  },
  {
   "cell_type": "markdown",
   "id": "e3efa402",
   "metadata": {
    "slideshow": {
     "slide_type": "slide"
    }
   },
   "source": [
    "---\n",
    "\n",
    "## Variable assignment"
   ]
  },
  {
   "cell_type": "code",
   "execution_count": null,
   "id": "a346a079",
   "metadata": {},
   "outputs": [],
   "source": [
    "# variable_assignment\n",
    "# I can assign more than one variable on the same line\n",
    "a, b, c = 1, 2, 3\n",
    "d, string_a, string_b = a + b, \"foo\", \"bar\""
   ]
  },
  {
   "cell_type": "code",
   "execution_count": null,
   "id": "b9330033",
   "metadata": {},
   "outputs": [],
   "source": [
    "\n",
    "# ...swap them...\n",
    "(a, b) = (b, a)  "
   ]
  },
  {
   "cell_type": "code",
   "execution_count": null,
   "id": "49b4e765",
   "metadata": {},
   "outputs": [],
   "source": [
    "# Exercise: print the values of the above variables"
   ]
  },
  {
   "cell_type": "code",
   "execution_count": null,
   "id": "21140751",
   "metadata": {},
   "outputs": [],
   "source": [
    "# but if right-side values are not defined, I get an exception\n",
    "e, f = c, e + d  "
   ]
  },
  {
   "cell_type": "markdown",
   "id": "c6cbe9b6",
   "metadata": {},
   "source": [
    "----"
   ]
  },
  {
   "cell_type": "code",
   "execution_count": null,
   "id": "52d1ad07",
   "metadata": {},
   "outputs": [],
   "source": [
    "# The function ord() returns the integer value of a character.\n",
    "ord('*')"
   ]
  },
  {
   "cell_type": "code",
   "execution_count": null,
   "id": "cdea0001",
   "metadata": {},
   "outputs": [],
   "source": [
    "# The function chr() returns the character corresponding to an integer.\n",
    "ord(\"\\n\")"
   ]
  },
  {
   "cell_type": "markdown",
   "id": "9b3e5f28",
   "metadata": {
    "slideshow": {
     "slide_type": "slide"
    }
   },
   "source": [
    "---\n",
    "\n",
    "#### Bonus topic: reserved words\n",
    "\n",
    "Python has a set of reserved words that cannot be used as variable names, including:\n",
    "\n",
    "- `if, else, for, while, and, or, not, in, is, break, continue, pass, def, class, return, try, except, finally, lambda`.\n",
    "\n",
    "Sadly, some core, built-in function names in python 2 can be used as variable names, including:\n",
    "\n",
    "- `file, print, len, type, list, exit`.\n",
    "\n",
    "This means that a programmer can accidentally overwrite the built-in function with a variable of the same name, causing unexpected results.\n",
    "\n",
    "Now we will see an example of this, and how to fix it using the built-in module."
   ]
  },
  {
   "cell_type": "code",
   "execution_count": null,
   "id": "bf1017d4",
   "metadata": {},
   "outputs": [],
   "source": [
    "# We should respect reserved words and built-in functions, like print, ord...\n",
    "print((\"ord:\\x20\", ord))\n"
   ]
  },
  {
   "cell_type": "markdown",
   "id": "ffdbd1f6",
   "metadata": {},
   "source": [
    "----"
   ]
  },
  {
   "cell_type": "code",
   "execution_count": null,
   "id": "b8ae6385",
   "metadata": {},
   "outputs": [],
   "source": [
    "# We can discover the original module of an object with\n",
    "print(ord.__module__)"
   ]
  },
  {
   "cell_type": "markdown",
   "id": "a4559354",
   "metadata": {
    "slideshow": {
     "slide_type": "subslide"
    }
   },
   "source": [
    "----\n",
    "\n",
    "Note:\n",
    "\n",
    "- python 2 uses the `__builtin__` module, while\n",
    "- python 3 uses the `builtins` module.\n",
    "\n",
    "In both cases, you should never use the `__builtins__` module (note the final **s**), because it's implementation dependent.\n",
    "For further information on this topic, see [the python execution model documentation](https://docs.python.org/3/reference/executionmodel.html#builtins-and-restricted-execution)"
   ]
  },
  {
   "cell_type": "markdown",
   "id": "f8334a59",
   "metadata": {},
   "source": [
    "----"
   ]
  },
  {
   "cell_type": "code",
   "execution_count": null,
   "id": "d5e99280",
   "metadata": {},
   "outputs": [],
   "source": [
    "# If we override a function and call it...\n",
    "ord = 4\n",
    "ord('*')  # ...ooops!"
   ]
  },
  {
   "cell_type": "code",
   "execution_count": null,
   "id": "5e5abbfa",
   "metadata": {},
   "outputs": [],
   "source": [
    "# We can fix it up importing the version specific built-in module\n",
    "#   and reassigning the variable to the original function\n",
    "\n",
    "try:  # Try the python 2 syntax...\n",
    "    import __builtin__ as builtins \n",
    "except ImportError:  # And if it fails, use the python 3 syntax.\n",
    "    import builtins\n",
    "\n",
    "ord = builtins.ord\n",
    "ord('*')  # ...ooops!"
   ]
  },
  {
   "cell_type": "markdown",
   "id": "770719ea",
   "metadata": {
    "slideshow": {
     "slide_type": "slide"
    }
   },
   "source": [
    "---\n",
    "\n",
    "## Formatting numbers"
   ]
  },
  {
   "cell_type": "code",
   "execution_count": null,
   "id": "511bfa01",
   "metadata": {},
   "outputs": [],
   "source": [
    "# bin() and hex() returns a string representation\n",
    "# of a number\n",
    "a, b1 = hex(10), bin(1)"
   ]
  },
  {
   "cell_type": "code",
   "execution_count": null,
   "id": "b3a81ab5",
   "metadata": {},
   "outputs": [],
   "source": [
    "# Exercise: which is the type of a? And the type of b1?\n",
    "type(a)"
   ]
  },
  {
   "cell_type": "markdown",
   "id": "b7dc2cba",
   "metadata": {},
   "source": [
    "----"
   ]
  },
  {
   "cell_type": "code",
   "execution_count": null,
   "id": "898a52d4",
   "metadata": {},
   "outputs": [],
   "source": [
    "# while the format() function can be more flexible\n",
    "#  10 = 8ciphers + 2chars for the '0b' header\n",
    "binary_with_leading_zeroes = format(1, '#010b') "
   ]
  },
  {
   "cell_type": "markdown",
   "id": "210930e9",
   "metadata": {},
   "source": [
    "----"
   ]
  },
  {
   "cell_type": "code",
   "execution_count": null,
   "id": "148f2d6b",
   "metadata": {},
   "outputs": [],
   "source": [
    "# and reversible with\n",
    "b1 == int(binary_with_leading_zeroes, base=2)"
   ]
  },
  {
   "cell_type": "markdown",
   "id": "3e6f0310",
   "metadata": {},
   "source": [
    "----"
   ]
  },
  {
   "cell_type": "code",
   "execution_count": null,
   "id": "92a41808",
   "metadata": {},
   "outputs": [],
   "source": [
    "# Exercise: use this cell to inspect the values of the above variables."
   ]
  },
  {
   "cell_type": "markdown",
   "id": "0f7cabad",
   "metadata": {
    "slideshow": {
     "slide_type": "slide"
    }
   },
   "source": [
    "---\n",
    "\n",
    "## Formatting"
   ]
  },
  {
   "cell_type": "markdown",
   "id": "0cfdc5f6",
   "metadata": {},
   "source": [
    "----"
   ]
  },
  {
   "cell_type": "code",
   "execution_count": null,
   "id": "d7c22eb8",
   "metadata": {},
   "outputs": [],
   "source": [
    "# The new str.format function just replaces\n",
    "#  %s and %d with {}.\n",
    "s_a = \"is a string \"\n",
    "\n",
    "print(s_a)"
   ]
  },
  {
   "cell_type": "markdown",
   "id": "35368584",
   "metadata": {},
   "source": [
    "----"
   ]
  },
  {
   "cell_type": "code",
   "execution_count": null,
   "id": "785e280a",
   "metadata": {},
   "outputs": [],
   "source": [
    "# A string\n",
    "s_a += \"that can {} extended\".format(\"be\")"
   ]
  },
  {
   "cell_type": "markdown",
   "id": "684f795f",
   "metadata": {},
   "source": [
    "----"
   ]
  },
  {
   "cell_type": "code",
   "execution_count": null,
   "id": "4f64944a",
   "metadata": {},
   "outputs": [],
   "source": [
    "# Exercise: print the value of s_a"
   ]
  },
  {
   "cell_type": "markdown",
   "id": "d174e70e",
   "metadata": {},
   "source": [
    "----"
   ]
  },
  {
   "cell_type": "code",
   "execution_count": null,
   "id": "92136fbd",
   "metadata": {},
   "outputs": [],
   "source": [
    "# Further formatting is done using \":\", eg.\n",
    "#  %.6s -> {:.6}\n",
    "#  %3.2d -> {:3.2}\n",
    "s_a = \"{} even with {:.6} formatting.\\n\".format(s_a, \"positional\")"
   ]
  },
  {
   "cell_type": "markdown",
   "id": "564fc26d",
   "metadata": {},
   "source": [
    "----"
   ]
  },
  {
   "cell_type": "code",
   "execution_count": null,
   "id": "98311c2e",
   "metadata": {},
   "outputs": [],
   "source": [
    "# Alignment identifiers are simpler: < left , ^ center,  > right\n",
    "s_a = \"Align {:>10}% python!\".format(100)\n",
    "print(s_a)\n",
    "print(\"just prints a string\")"
   ]
  },
  {
   "cell_type": "markdown",
   "id": "325417f1",
   "metadata": {},
   "source": [
    "----"
   ]
  },
  {
   "cell_type": "code",
   "execution_count": null,
   "id": "ef9e7be3",
   "metadata": {},
   "outputs": [],
   "source": [
    "# Exercise: modify s_a to align the string to the left and to the center."
   ]
  },
  {
   "cell_type": "markdown",
   "id": "a0e37bbc",
   "metadata": {
    "slideshow": {
     "slide_type": "slide"
    }
   },
   "source": [
    "---\n",
    "\n",
    "### Formatting with names"
   ]
  },
  {
   "cell_type": "markdown",
   "id": "cfb3c7e5",
   "metadata": {},
   "source": [
    "----"
   ]
  },
  {
   "cell_type": "code",
   "execution_count": null,
   "id": "6b94757a",
   "metadata": {},
   "outputs": [],
   "source": [
    "# You can name variables to get\n",
    "# a better formatting experience ;)\n",
    "fmt_a = \"{name:<.3} {nick:^.8} {sn:>30}\"\n",
    "print(fmt_a.format(name=\"-\"*10, nick=\"*\"*15, sn=\"-\"*40))\n",
    "print(fmt_a.format(name=\"Roberto\", nick=\"ioggstream\", sn=\"Polli\"))"
   ]
  },
  {
   "cell_type": "markdown",
   "id": "e716d4f1",
   "metadata": {},
   "source": [
    "----"
   ]
  },
  {
   "cell_type": "markdown",
   "id": "a3baaf45",
   "metadata": {},
   "source": [
    "----"
   ]
  }
 ],
 "metadata": {},
 "nbformat": 4,
 "nbformat_minor": 5
}
