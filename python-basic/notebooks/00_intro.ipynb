{
 "cells": [
  {
   "cell_type": "markdown",
   "metadata": {
    "slideshow": {
     "slide_type": "slide"
    }
   },
   "source": [
    "# Python for System Administrator\n",
    " \n",
    " Author: roberto.polli@par-tec.it\n",
    "\n",
    "## Introducing Python\n",
    "\n",
    "Python is an interpreted, object oriented language with\n",
    "a lot of built in features.\n",
    "\n",
    "This is a fast-track course for sysadmin with knowledge\n",
    "of languages like Perl, PHP, C and Java\n"
   ]
  },
  {
   "cell_type": "markdown",
   "metadata": {},
   "source": [
    "\n",
    "## Agenda\n",
    "\n",
    "  - Importing features\n",
    "  - Getting help\n",
    "  - Printing \n",
    "  - Basic Arithmetic\n",
    "  - Variable assignment\n",
    "  - Formatting\n"
   ]
  },
  {
   "cell_type": "code",
   "execution_count": 4,
   "metadata": {
    "collapsed": false
   },
   "outputs": [
    {
     "data": {
      "text/plain": [
       "telnetlib.Telnet"
      ]
     },
     "execution_count": 4,
     "metadata": {},
     "output_type": "execute_result"
    }
   ],
   "source": [
    "# Importing_new_features\n",
    "# ..is easy. Features are collected\n",
    "# in packages or modules. Just\n",
    "import telnetlib  # to use a\n",
    "telnetlib.Telnet  # client"
   ]
  },
  {
   "cell_type": "code",
   "execution_count": 5,
   "metadata": {
    "collapsed": false
   },
   "outputs": [],
   "source": [
    "# We can even import single classes\n",
    "#  from a module, like\n",
    "from telnetlib import Telnet\n"
   ]
  },
  {
   "cell_type": "markdown",
   "metadata": {},
   "source": [
    "Modules contain documentation in the form of docstrings,\n",
    "that jupyter presents in scrollable boxes."
   ]
  },
  {
   "cell_type": "code",
   "execution_count": 6,
   "metadata": {},
   "outputs": [
    {
     "name": "stdout",
     "output_type": "stream",
     "text": [
      "Help on module telnetlib:\n",
      "\n",
      "NAME\n",
      "    telnetlib - TELNET client class.\n",
      "\n",
      "MODULE REFERENCE\n",
      "    https://docs.python.org/3.9/library/telnetlib\n",
      "    \n",
      "    The following documentation is automatically generated from the Python\n",
      "    source files.  It may be incomplete, incorrect or include features that\n",
      "    are considered implementation detail and may vary between Python\n",
      "    implementations.  When in doubt, consult the module reference at the\n",
      "    location listed above.\n",
      "\n",
      "DESCRIPTION\n",
      "    Based on RFC 854: TELNET Protocol Specification, by J. Postel and\n",
      "    J. Reynolds\n",
      "    \n",
      "    Example:\n",
      "    \n",
      "    >>> from telnetlib import Telnet\n",
      "    >>> tn = Telnet('www.python.org', 79)   # connect to finger port\n",
      "    >>> tn.write(b'guido\\r\\n')\n",
      "    >>> print(tn.read_all())\n",
      "    Login       Name               TTY         Idle    When    Where\n",
      "    guido    Guido van Rossum      pts/2        <Dec  2 11:10> snag.cnri.reston..\n",
      "    \n",
      "    >>>\n",
      "    \n",
      "    Note that read_all() won't read until eof -- it just reads some data\n",
      "    -- but it guarantees to read at least one byte unless EOF is hit.\n",
      "    \n",
      "    It is possible to pass a Telnet object to a selector in order to wait until\n",
      "    more data is available.  Note that in this case, read_eager() may return b''\n",
      "    even if there was data on the socket, because the protocol negotiation may have\n",
      "    eaten the data.  This is why EOFError is needed in some cases to distinguish\n",
      "    between \"no data\" and \"connection closed\" (since the socket also appears ready\n",
      "    for reading when it is closed).\n",
      "    \n",
      "    To do:\n",
      "    - option negotiation\n",
      "    - timeout should be intrinsic to the connection object instead of an\n",
      "      option on one of the read calls only\n",
      "\n",
      "CLASSES\n",
      "    builtins.object\n",
      "        Telnet\n",
      "    \n",
      "    class Telnet(builtins.object)\n",
      "     |  Telnet(host=None, port=0, timeout=<object object at 0x7fa714b9fc60>)\n",
      "     |  \n",
      "     |  Telnet interface class.\n",
      "     |  \n",
      "     |  An instance of this class represents a connection to a telnet\n",
      "     |  server.  The instance is initially not connected; the open()\n",
      "     |  method must be used to establish a connection.  Alternatively, the\n",
      "     |  host name and optional port number can be passed to the\n",
      "     |  constructor, too.\n",
      "     |  \n",
      "     |  Don't try to reopen an already connected instance.\n",
      "     |  \n",
      "     |  This class has many read_*() methods.  Note that some of them\n",
      "     |  raise EOFError when the end of the connection is read, because\n",
      "     |  they can return an empty string for other reasons.  See the\n",
      "     |  individual doc strings.\n",
      "     |  \n",
      "     |  read_until(expected, [timeout])\n",
      "     |      Read until the expected string has been seen, or a timeout is\n",
      "     |      hit (default is no timeout); may block.\n",
      "     |  \n",
      "     |  read_all()\n",
      "     |      Read all data until EOF; may block.\n",
      "     |  \n",
      "     |  read_some()\n",
      "     |      Read at least one byte or EOF; may block.\n",
      "     |  \n",
      "     |  read_very_eager()\n",
      "     |      Read all data available already queued or on the socket,\n",
      "     |      without blocking.\n",
      "     |  \n",
      "     |  read_eager()\n",
      "     |      Read either data already queued or some data available on the\n",
      "     |      socket, without blocking.\n",
      "     |  \n",
      "     |  read_lazy()\n",
      "     |      Read all data in the raw queue (processing it first), without\n",
      "     |      doing any socket I/O.\n",
      "     |  \n",
      "     |  read_very_lazy()\n",
      "     |      Reads all data in the cooked queue, without doing any socket\n",
      "     |      I/O.\n",
      "     |  \n",
      "     |  read_sb_data()\n",
      "     |      Reads available data between SB ... SE sequence. Don't block.\n",
      "     |  \n",
      "     |  set_option_negotiation_callback(callback)\n",
      "     |      Each time a telnet option is read on the input flow, this callback\n",
      "     |      (if set) is called with the following parameters :\n",
      "     |      callback(telnet socket, command, option)\n",
      "     |          option will be chr(0) when there is no option.\n",
      "     |      No other action is done afterwards by telnetlib.\n",
      "     |  \n",
      "     |  Methods defined here:\n",
      "     |  \n",
      "     |  __del__(self)\n",
      "     |      Destructor -- close the connection.\n",
      "     |  \n",
      "     |  __enter__(self)\n",
      "     |  \n",
      "     |  __exit__(self, type, value, traceback)\n",
      "     |  \n",
      "     |  __init__(self, host=None, port=0, timeout=<object object at 0x7fa714b9fc60>)\n",
      "     |      Constructor.\n",
      "     |      \n",
      "     |      When called without arguments, create an unconnected instance.\n",
      "     |      With a hostname argument, it connects the instance; port number\n",
      "     |      and timeout are optional.\n",
      "     |  \n",
      "     |  close(self)\n",
      "     |      Close the connection.\n",
      "     |  \n",
      "     |  expect(self, list, timeout=None)\n",
      "     |      Read until one from a list of a regular expressions matches.\n",
      "     |      \n",
      "     |      The first argument is a list of regular expressions, either\n",
      "     |      compiled (re.Pattern instances) or uncompiled (strings).\n",
      "     |      The optional second argument is a timeout, in seconds; default\n",
      "     |      is no timeout.\n",
      "     |      \n",
      "     |      Return a tuple of three items: the index in the list of the\n",
      "     |      first regular expression that matches; the re.Match object\n",
      "     |      returned; and the text read up till and including the match.\n",
      "     |      \n",
      "     |      If EOF is read and no text was read, raise EOFError.\n",
      "     |      Otherwise, when nothing matches, return (-1, None, text) where\n",
      "     |      text is the text received so far (may be the empty string if a\n",
      "     |      timeout happened).\n",
      "     |      \n",
      "     |      If a regular expression ends with a greedy match (e.g. '.*')\n",
      "     |      or if more than one expression can match the same input, the\n",
      "     |      results are undeterministic, and may depend on the I/O timing.\n",
      "     |  \n",
      "     |  fileno(self)\n",
      "     |      Return the fileno() of the socket object used internally.\n",
      "     |  \n",
      "     |  fill_rawq(self)\n",
      "     |      Fill raw queue from exactly one recv() system call.\n",
      "     |      \n",
      "     |      Block if no data is immediately available.  Set self.eof when\n",
      "     |      connection is closed.\n",
      "     |  \n",
      "     |  get_socket(self)\n",
      "     |      Return the socket object used internally.\n",
      "     |  \n",
      "     |  interact(self)\n",
      "     |      Interaction function, emulates a very dumb telnet client.\n",
      "     |  \n",
      "     |  listener(self)\n",
      "     |      Helper for mt_interact() -- this executes in the other thread.\n",
      "     |  \n",
      "     |  msg(self, msg, *args)\n",
      "     |      Print a debug message, when the debug level is > 0.\n",
      "     |      \n",
      "     |      If extra arguments are present, they are substituted in the\n",
      "     |      message using the standard string formatting operator.\n",
      "     |  \n",
      "     |  mt_interact(self)\n",
      "     |      Multithreaded version of interact().\n",
      "     |  \n",
      "     |  open(self, host, port=0, timeout=<object object at 0x7fa714b9fc60>)\n",
      "     |      Connect to a host.\n",
      "     |      \n",
      "     |      The optional second argument is the port number, which\n",
      "     |      defaults to the standard telnet port (23).\n",
      "     |      \n",
      "     |      Don't try to reopen an already connected instance.\n",
      "     |  \n",
      "     |  process_rawq(self)\n",
      "     |      Transfer from raw queue to cooked queue.\n",
      "     |      \n",
      "     |      Set self.eof when connection is closed.  Don't block unless in\n",
      "     |      the midst of an IAC sequence.\n",
      "     |  \n",
      "     |  rawq_getchar(self)\n",
      "     |      Get next char from raw queue.\n",
      "     |      \n",
      "     |      Block if no data is immediately available.  Raise EOFError\n",
      "     |      when connection is closed.\n",
      "     |  \n",
      "     |  read_all(self)\n",
      "     |      Read all data until EOF; block until connection closed.\n",
      "     |  \n",
      "     |  read_eager(self)\n",
      "     |      Read readily available data.\n",
      "     |      \n",
      "     |      Raise EOFError if connection closed and no cooked data\n",
      "     |      available.  Return b'' if no cooked data available otherwise.\n",
      "     |      Don't block unless in the midst of an IAC sequence.\n",
      "     |  \n",
      "     |  read_lazy(self)\n",
      "     |      Process and return data that's already in the queues (lazy).\n",
      "     |      \n",
      "     |      Raise EOFError if connection closed and no data available.\n",
      "     |      Return b'' if no cooked data available otherwise.  Don't block\n",
      "     |      unless in the midst of an IAC sequence.\n",
      "     |  \n",
      "     |  read_sb_data(self)\n",
      "     |      Return any data available in the SB ... SE queue.\n",
      "     |      \n",
      "     |      Return b'' if no SB ... SE available. Should only be called\n",
      "     |      after seeing a SB or SE command. When a new SB command is\n",
      "     |      found, old unread SB data will be discarded. Don't block.\n",
      "     |  \n",
      "     |  read_some(self)\n",
      "     |      Read at least one byte of cooked data unless EOF is hit.\n",
      "     |      \n",
      "     |      Return b'' if EOF is hit.  Block if no data is immediately\n",
      "     |      available.\n",
      "     |  \n",
      "     |  read_until(self, match, timeout=None)\n",
      "     |      Read until a given string is encountered or until timeout.\n",
      "     |      \n",
      "     |      When no match is found, return whatever is available instead,\n",
      "     |      possibly the empty string.  Raise EOFError if the connection\n",
      "     |      is closed and no cooked data is available.\n",
      "     |  \n",
      "     |  read_very_eager(self)\n",
      "     |      Read everything that's possible without blocking in I/O (eager).\n",
      "     |      \n",
      "     |      Raise EOFError if connection closed and no cooked data\n",
      "     |      available.  Return b'' if no cooked data available otherwise.\n",
      "     |      Don't block unless in the midst of an IAC sequence.\n",
      "     |  \n",
      "     |  read_very_lazy(self)\n",
      "     |      Return any data available in the cooked queue (very lazy).\n",
      "     |      \n",
      "     |      Raise EOFError if connection closed and no data available.\n",
      "     |      Return b'' if no cooked data available otherwise.  Don't block.\n",
      "     |  \n",
      "     |  set_debuglevel(self, debuglevel)\n",
      "     |      Set the debug level.\n",
      "     |      \n",
      "     |      The higher it is, the more debug output you get (on sys.stdout).\n",
      "     |  \n",
      "     |  set_option_negotiation_callback(self, callback)\n",
      "     |      Provide a callback function called after each receipt of a telnet option.\n",
      "     |  \n",
      "     |  sock_avail(self)\n",
      "     |      Test whether data is available on the socket.\n",
      "     |  \n",
      "     |  write(self, buffer)\n",
      "     |      Write a string to the socket, doubling any IAC characters.\n",
      "     |      \n",
      "     |      Can block if the connection is blocked.  May raise\n",
      "     |      OSError if the connection is closed.\n",
      "     |  \n",
      "     |  ----------------------------------------------------------------------\n",
      "     |  Data descriptors defined here:\n",
      "     |  \n",
      "     |  __dict__\n",
      "     |      dictionary for instance variables (if defined)\n",
      "     |  \n",
      "     |  __weakref__\n",
      "     |      list of weak references to the object (if defined)\n",
      "\n",
      "DATA\n",
      "    __all__ = ['Telnet']\n",
      "\n",
      "FILE\n",
      "    /usr/lib64/python3.9/telnetlib.py\n",
      "\n",
      "\n"
     ]
    }
   ],
   "source": [
    "\n",
    "# Read the module documentation...\n",
    "help(telnetlib)\n"
   ]
  },
  {
   "cell_type": "code",
   "execution_count": 7,
   "metadata": {},
   "outputs": [
    {
     "name": "stdout",
     "output_type": "stream",
     "text": [
      "Help on class Telnet in module telnetlib:\n",
      "\n",
      "class Telnet(builtins.object)\n",
      " |  Telnet(host=None, port=0, timeout=<object object at 0x7fa714b9fc60>)\n",
      " |  \n",
      " |  Telnet interface class.\n",
      " |  \n",
      " |  An instance of this class represents a connection to a telnet\n",
      " |  server.  The instance is initially not connected; the open()\n",
      " |  method must be used to establish a connection.  Alternatively, the\n",
      " |  host name and optional port number can be passed to the\n",
      " |  constructor, too.\n",
      " |  \n",
      " |  Don't try to reopen an already connected instance.\n",
      " |  \n",
      " |  This class has many read_*() methods.  Note that some of them\n",
      " |  raise EOFError when the end of the connection is read, because\n",
      " |  they can return an empty string for other reasons.  See the\n",
      " |  individual doc strings.\n",
      " |  \n",
      " |  read_until(expected, [timeout])\n",
      " |      Read until the expected string has been seen, or a timeout is\n",
      " |      hit (default is no timeout); may block.\n",
      " |  \n",
      " |  read_all()\n",
      " |      Read all data until EOF; may block.\n",
      " |  \n",
      " |  read_some()\n",
      " |      Read at least one byte or EOF; may block.\n",
      " |  \n",
      " |  read_very_eager()\n",
      " |      Read all data available already queued or on the socket,\n",
      " |      without blocking.\n",
      " |  \n",
      " |  read_eager()\n",
      " |      Read either data already queued or some data available on the\n",
      " |      socket, without blocking.\n",
      " |  \n",
      " |  read_lazy()\n",
      " |      Read all data in the raw queue (processing it first), without\n",
      " |      doing any socket I/O.\n",
      " |  \n",
      " |  read_very_lazy()\n",
      " |      Reads all data in the cooked queue, without doing any socket\n",
      " |      I/O.\n",
      " |  \n",
      " |  read_sb_data()\n",
      " |      Reads available data between SB ... SE sequence. Don't block.\n",
      " |  \n",
      " |  set_option_negotiation_callback(callback)\n",
      " |      Each time a telnet option is read on the input flow, this callback\n",
      " |      (if set) is called with the following parameters :\n",
      " |      callback(telnet socket, command, option)\n",
      " |          option will be chr(0) when there is no option.\n",
      " |      No other action is done afterwards by telnetlib.\n",
      " |  \n",
      " |  Methods defined here:\n",
      " |  \n",
      " |  __del__(self)\n",
      " |      Destructor -- close the connection.\n",
      " |  \n",
      " |  __enter__(self)\n",
      " |  \n",
      " |  __exit__(self, type, value, traceback)\n",
      " |  \n",
      " |  __init__(self, host=None, port=0, timeout=<object object at 0x7fa714b9fc60>)\n",
      " |      Constructor.\n",
      " |      \n",
      " |      When called without arguments, create an unconnected instance.\n",
      " |      With a hostname argument, it connects the instance; port number\n",
      " |      and timeout are optional.\n",
      " |  \n",
      " |  close(self)\n",
      " |      Close the connection.\n",
      " |  \n",
      " |  expect(self, list, timeout=None)\n",
      " |      Read until one from a list of a regular expressions matches.\n",
      " |      \n",
      " |      The first argument is a list of regular expressions, either\n",
      " |      compiled (re.Pattern instances) or uncompiled (strings).\n",
      " |      The optional second argument is a timeout, in seconds; default\n",
      " |      is no timeout.\n",
      " |      \n",
      " |      Return a tuple of three items: the index in the list of the\n",
      " |      first regular expression that matches; the re.Match object\n",
      " |      returned; and the text read up till and including the match.\n",
      " |      \n",
      " |      If EOF is read and no text was read, raise EOFError.\n",
      " |      Otherwise, when nothing matches, return (-1, None, text) where\n",
      " |      text is the text received so far (may be the empty string if a\n",
      " |      timeout happened).\n",
      " |      \n",
      " |      If a regular expression ends with a greedy match (e.g. '.*')\n",
      " |      or if more than one expression can match the same input, the\n",
      " |      results are undeterministic, and may depend on the I/O timing.\n",
      " |  \n",
      " |  fileno(self)\n",
      " |      Return the fileno() of the socket object used internally.\n",
      " |  \n",
      " |  fill_rawq(self)\n",
      " |      Fill raw queue from exactly one recv() system call.\n",
      " |      \n",
      " |      Block if no data is immediately available.  Set self.eof when\n",
      " |      connection is closed.\n",
      " |  \n",
      " |  get_socket(self)\n",
      " |      Return the socket object used internally.\n",
      " |  \n",
      " |  interact(self)\n",
      " |      Interaction function, emulates a very dumb telnet client.\n",
      " |  \n",
      " |  listener(self)\n",
      " |      Helper for mt_interact() -- this executes in the other thread.\n",
      " |  \n",
      " |  msg(self, msg, *args)\n",
      " |      Print a debug message, when the debug level is > 0.\n",
      " |      \n",
      " |      If extra arguments are present, they are substituted in the\n",
      " |      message using the standard string formatting operator.\n",
      " |  \n",
      " |  mt_interact(self)\n",
      " |      Multithreaded version of interact().\n",
      " |  \n",
      " |  open(self, host, port=0, timeout=<object object at 0x7fa714b9fc60>)\n",
      " |      Connect to a host.\n",
      " |      \n",
      " |      The optional second argument is the port number, which\n",
      " |      defaults to the standard telnet port (23).\n",
      " |      \n",
      " |      Don't try to reopen an already connected instance.\n",
      " |  \n",
      " |  process_rawq(self)\n",
      " |      Transfer from raw queue to cooked queue.\n",
      " |      \n",
      " |      Set self.eof when connection is closed.  Don't block unless in\n",
      " |      the midst of an IAC sequence.\n",
      " |  \n",
      " |  rawq_getchar(self)\n",
      " |      Get next char from raw queue.\n",
      " |      \n",
      " |      Block if no data is immediately available.  Raise EOFError\n",
      " |      when connection is closed.\n",
      " |  \n",
      " |  read_all(self)\n",
      " |      Read all data until EOF; block until connection closed.\n",
      " |  \n",
      " |  read_eager(self)\n",
      " |      Read readily available data.\n",
      " |      \n",
      " |      Raise EOFError if connection closed and no cooked data\n",
      " |      available.  Return b'' if no cooked data available otherwise.\n",
      " |      Don't block unless in the midst of an IAC sequence.\n",
      " |  \n",
      " |  read_lazy(self)\n",
      " |      Process and return data that's already in the queues (lazy).\n",
      " |      \n",
      " |      Raise EOFError if connection closed and no data available.\n",
      " |      Return b'' if no cooked data available otherwise.  Don't block\n",
      " |      unless in the midst of an IAC sequence.\n",
      " |  \n",
      " |  read_sb_data(self)\n",
      " |      Return any data available in the SB ... SE queue.\n",
      " |      \n",
      " |      Return b'' if no SB ... SE available. Should only be called\n",
      " |      after seeing a SB or SE command. When a new SB command is\n",
      " |      found, old unread SB data will be discarded. Don't block.\n",
      " |  \n",
      " |  read_some(self)\n",
      " |      Read at least one byte of cooked data unless EOF is hit.\n",
      " |      \n",
      " |      Return b'' if EOF is hit.  Block if no data is immediately\n",
      " |      available.\n",
      " |  \n",
      " |  read_until(self, match, timeout=None)\n",
      " |      Read until a given string is encountered or until timeout.\n",
      " |      \n",
      " |      When no match is found, return whatever is available instead,\n",
      " |      possibly the empty string.  Raise EOFError if the connection\n",
      " |      is closed and no cooked data is available.\n",
      " |  \n",
      " |  read_very_eager(self)\n",
      " |      Read everything that's possible without blocking in I/O (eager).\n",
      " |      \n",
      " |      Raise EOFError if connection closed and no cooked data\n",
      " |      available.  Return b'' if no cooked data available otherwise.\n",
      " |      Don't block unless in the midst of an IAC sequence.\n",
      " |  \n",
      " |  read_very_lazy(self)\n",
      " |      Return any data available in the cooked queue (very lazy).\n",
      " |      \n",
      " |      Raise EOFError if connection closed and no data available.\n",
      " |      Return b'' if no cooked data available otherwise.  Don't block.\n",
      " |  \n",
      " |  set_debuglevel(self, debuglevel)\n",
      " |      Set the debug level.\n",
      " |      \n",
      " |      The higher it is, the more debug output you get (on sys.stdout).\n",
      " |  \n",
      " |  set_option_negotiation_callback(self, callback)\n",
      " |      Provide a callback function called after each receipt of a telnet option.\n",
      " |  \n",
      " |  sock_avail(self)\n",
      " |      Test whether data is available on the socket.\n",
      " |  \n",
      " |  write(self, buffer)\n",
      " |      Write a string to the socket, doubling any IAC characters.\n",
      " |      \n",
      " |      Can block if the connection is blocked.  May raise\n",
      " |      OSError if the connection is closed.\n",
      " |  \n",
      " |  ----------------------------------------------------------------------\n",
      " |  Data descriptors defined here:\n",
      " |  \n",
      " |  __dict__\n",
      " |      dictionary for instance variables (if defined)\n",
      " |  \n",
      " |  __weakref__\n",
      " |      list of weak references to the object (if defined)\n",
      "\n"
     ]
    }
   ],
   "source": [
    "# ...or the class documentation\n",
    "help(Telnet)\n"
   ]
  },
  {
   "cell_type": "code",
   "execution_count": null,
   "metadata": {
    "collapsed": false
   },
   "outputs": [
    {
     "name": "stdout",
     "output_type": "stream",
     "text": [
      "Hello world!\n",
      "Hello World!\n",
      "Ciao\n"
     ]
    }
   ],
   "source": [
    "# you can print with the print() function\n",
    "print(\"Hello world!\")\n",
    "\n"
   ]
  },
  {
   "cell_type": "code",
   "execution_count": null,
   "metadata": {},
   "outputs": [],
   "source": [
    "\n",
    "# concatenate string with a + sign\n",
    "# and using hex notation\n",
    "print(\"Hello\" + \" \" + \"World\\x21\")\n"
   ]
  },
  {
   "cell_type": "code",
   "execution_count": null,
   "metadata": {},
   "outputs": [],
   "source": [
    "\n",
    "print(\"Ciao\")"
   ]
  },
  {
   "cell_type": "code",
   "execution_count": 6,
   "metadata": {
    "collapsed": false
   },
   "outputs": [
    {
     "name": "stdout",
     "output_type": "stream",
     "text": [
      "HelloHelloWorld\\x21\n"
     ]
    }
   ],
   "source": [
    "# prefixing a string with 'r' disables the\n",
    "# interpretation of the string content\n",
    "print('Hello' * 2 + r'World\\x21')"
   ]
  },
  {
   "cell_type": "code",
   "execution_count": 5,
   "metadata": {
    "collapsed": false
   },
   "outputs": [
    {
     "name": "stdout",
     "output_type": "stream",
     "text": [
      "HelloHelloWorld\\x21\n",
      "Hello\n",
      "\tWorld!\n"
     ]
    }
   ],
   "source": [
    "# the chr() function returns the corresponding\n",
    "# character of an integer. While \\n and \\t are\n",
    "# just the usual notation for linefeed and tab\n",
    "print(chr(72) + \"ello\\n\\tWorld!\")"
   ]
  },
  {
   "cell_type": "code",
   "execution_count": 7,
   "metadata": {
    "collapsed": false
   },
   "outputs": [
    {
     "name": "stdout",
     "output_type": "stream",
     "text": [
      "The answer is\n",
      "\n",
      "42\n",
      "\n"
     ]
    }
   ],
   "source": [
    "# triple-quoting allows multi-line strings\n",
    "# %s works like in the C printf() function\n",
    "# but operates on strings\n",
    "# ord() is just the inverse of chr()\n",
    "print(\"\"\"The answer is\n",
    "\n",
    "%s\n",
    "\"\"\" % ord('*'))\n"
   ]
  },
  {
   "cell_type": "markdown",
   "metadata": {},
   "source": [
    "## Basic Arithmetic"
   ]
  },
  {
   "cell_type": "code",
   "execution_count": 9,
   "metadata": {
    "collapsed": false
   },
   "outputs": [],
   "source": [
    "# This is a comment, while\n",
    "a = 1  # is an integer variable\n",
    "b = 0x10  # is another integer in hex notation\n"
   ]
  },
  {
   "cell_type": "code",
   "execution_count": 10,
   "metadata": {},
   "outputs": [],
   "source": [
    "# Exercise: use the print() function to print the value of a and b.\n"
   ]
  },
  {
   "cell_type": "code",
   "execution_count": 11,
   "metadata": {},
   "outputs": [],
   "source": [
    "\n",
    "# c = 011  # ...another one in C-style oct on python 2...\n",
    "c = 0o11  # ...in python 2 and 3\n"
   ]
  },
  {
   "cell_type": "code",
   "execution_count": 12,
   "metadata": {
    "collapsed": false
   },
   "outputs": [
    {
     "name": "stdout",
     "output_type": "stream",
     "text": [
      "17 1\n"
     ]
    }
   ],
   "source": [
    "\n",
    "# I can sum, multiply, and modulus\n",
    "print(a + b, 5 % 2)\n"
   ]
  },
  {
   "cell_type": "code",
   "execution_count": 13,
   "metadata": {},
   "outputs": [
    {
     "name": "stdout",
     "output_type": "stream",
     "text": [
      "18\n"
     ]
    }
   ],
   "source": [
    "# Exercise: which is the expected value of 2 * c?\n",
    "print(2 * c)\n"
   ]
  },
  {
   "cell_type": "markdown",
   "metadata": {},
   "source": [
    "## Variable assignment"
   ]
  },
  {
   "cell_type": "code",
   "execution_count": 14,
   "metadata": {
    "collapsed": false
   },
   "outputs": [],
   "source": [
    "# variable_assignment\n",
    "# I can assign more than one variable on the same line\n",
    "a, b, c = 1, 2, 3\n",
    "d, string_a, string_b = a + b, \"foo\", \"bar\""
   ]
  },
  {
   "cell_type": "code",
   "execution_count": 15,
   "metadata": {},
   "outputs": [],
   "source": [
    "\n",
    "# ...swap them...\n",
    "(a, b) = (b, a)  "
   ]
  },
  {
   "cell_type": "code",
   "execution_count": null,
   "metadata": {},
   "outputs": [],
   "source": [
    "# Exercise: print the values of the above variables"
   ]
  },
  {
   "cell_type": "code",
   "execution_count": 16,
   "metadata": {
    "collapsed": false
   },
   "outputs": [
    {
     "ename": "NameError",
     "evalue": "name 'e' is not defined",
     "output_type": "error",
     "traceback": [
      "\u001b[0;31m---------------------------------------------------------------------------\u001b[0m",
      "\u001b[0;31mNameError\u001b[0m                                 Traceback (most recent call last)",
      "Cell \u001b[0;32mIn[16], line 2\u001b[0m\n\u001b[1;32m      1\u001b[0m \u001b[39m# but if right-side values are not defined, I get an exception\u001b[39;00m\n\u001b[0;32m----> 2\u001b[0m e, f \u001b[39m=\u001b[39m c, e \u001b[39m+\u001b[39m d\n",
      "\u001b[0;31mNameError\u001b[0m: name 'e' is not defined"
     ]
    }
   ],
   "source": [
    "# but if right-side values are not defined, I get an exception\n",
    "e, f = c, e + d  "
   ]
  },
  {
   "cell_type": "code",
   "execution_count": 17,
   "metadata": {},
   "outputs": [
    {
     "data": {
      "text/plain": [
       "42"
      ]
     },
     "execution_count": 17,
     "metadata": {},
     "output_type": "execute_result"
    }
   ],
   "source": [
    "# The function ord() returns the integer value of a character.\n",
    "ord('*')"
   ]
  },
  {
   "cell_type": "code",
   "execution_count": 22,
   "metadata": {},
   "outputs": [
    {
     "data": {
      "text/plain": [
       "10"
      ]
     },
     "execution_count": 22,
     "metadata": {},
     "output_type": "execute_result"
    }
   ],
   "source": [
    "# The function chr() returns the character corresponding to an integer.\n",
    "ord(\"\\n\")"
   ]
  },
  {
   "cell_type": "markdown",
   "metadata": {},
   "source": [
    "#### Bonus topic: reserved words\n",
    "\n",
    "Python has a set of reserved words that cannot be used as variable names, including:\n",
    "if, else, for, while, and, or, not, in, is, break, continue, pass, def, class, return, try, except, finally, lambda.\n",
    "\n",
    "Sadly, some core, built-in function names in python 2 can be used as variable names, including:\n",
    "file, print, len, type, list, exit. This means that a programmer can accidentally overwrite the built-in function with a variable of the same name, causing unexpected results.\n",
    "\n",
    "Now we will see an example of this, and how to fix it using the built-in module."
   ]
  },
  {
   "cell_type": "code",
   "execution_count": 23,
   "metadata": {
    "collapsed": false
   },
   "outputs": [
    {
     "name": "stdout",
     "output_type": "stream",
     "text": [
      "('ord: ', <built-in function ord>)\n"
     ]
    }
   ],
   "source": [
    "# We should respect reserved words and built-in functions, like print, ord...\n",
    "print((\"ord:\\x20\", ord))\n"
   ]
  },
  {
   "cell_type": "code",
   "execution_count": null,
   "metadata": {},
   "outputs": [],
   "source": [
    "# We can discover the original module of an object with\n",
    "print(ord.__module__)"
   ]
  },
  {
   "cell_type": "markdown",
   "metadata": {},
   "source": [
    "Note: python 2 uses the `__builtin__` module, while python 3 uses the `builtins` module.\n",
    "In both cases, you should never use the `__builtins__` module (note the final **s**), because it's implementation dependent.\n",
    "For further information on this topic, see [the python execution model documentation](https://docs.python.org/3/reference/executionmodel.html#builtins-and-restricted-execution)"
   ]
  },
  {
   "cell_type": "code",
   "execution_count": null,
   "metadata": {},
   "outputs": [],
   "source": [
    "# If we override a function and call it...\n",
    "ord = 4\n",
    "ord('*')  # ...ooops!"
   ]
  },
  {
   "cell_type": "code",
   "execution_count": 26,
   "metadata": {
    "collapsed": false
   },
   "outputs": [
    {
     "data": {
      "text/plain": [
       "42"
      ]
     },
     "execution_count": 26,
     "metadata": {},
     "output_type": "execute_result"
    }
   ],
   "source": [
    "# We can fix it up importing the version specific built-in module\n",
    "#   and reassigning the variable to the original function\n",
    "\n",
    "try:  # Try the python 2 syntax...\n",
    "    import __builtin__ as builtins \n",
    "except ImportError:  # And if it fails, use the python 3 syntax.\n",
    "    import builtins\n",
    "\n",
    "ord = builtins.ord\n",
    "ord('*')  # ...ooops!"
   ]
  },
  {
   "cell_type": "markdown",
   "metadata": {},
   "source": [
    "## Formatting numbers"
   ]
  },
  {
   "cell_type": "code",
   "execution_count": 27,
   "metadata": {
    "collapsed": false
   },
   "outputs": [],
   "source": [
    "# bin() and hex() returns a string representation\n",
    "# of a number\n",
    "a, b1 = hex(10), bin(1)"
   ]
  },
  {
   "cell_type": "code",
   "execution_count": 29,
   "metadata": {},
   "outputs": [
    {
     "data": {
      "text/plain": [
       "str"
      ]
     },
     "execution_count": 29,
     "metadata": {},
     "output_type": "execute_result"
    }
   ],
   "source": [
    "# Exercise: which is the type of a? And the type of b1?\n",
    "type(a)"
   ]
  },
  {
   "cell_type": "code",
   "execution_count": 32,
   "metadata": {
    "collapsed": false
   },
   "outputs": [],
   "source": [
    "# while the format() function can be more flexible\n",
    "#  10 = 8ciphers + 2chars for the '0b' header\n",
    "binary_with_leading_zeroes = format(1, '#010b') "
   ]
  },
  {
   "cell_type": "code",
   "execution_count": 31,
   "metadata": {},
   "outputs": [
    {
     "data": {
      "text/plain": [
       "False"
      ]
     },
     "execution_count": 31,
     "metadata": {},
     "output_type": "execute_result"
    }
   ],
   "source": [
    "# and reversible with\n",
    "b1 == int(binary_with_leading_zeroes, base=2)"
   ]
  },
  {
   "cell_type": "code",
   "execution_count": null,
   "metadata": {},
   "outputs": [],
   "source": [
    "# Exercise: inspect the values of the above variables."
   ]
  },
  {
   "cell_type": "markdown",
   "metadata": {},
   "source": [
    "## Formatting"
   ]
  },
  {
   "cell_type": "code",
   "execution_count": null,
   "metadata": {
    "collapsed": false
   },
   "outputs": [],
   "source": [
    "# The new str.format function just replaces\n",
    "#  %s and %d with {}.\n",
    "s_a = \"is a string \"\n",
    "s_a += \"that can {} extended\".format(\"be\")\n",
    "\n"
   ]
  },
  {
   "cell_type": "code",
   "execution_count": null,
   "metadata": {
    "collapsed": false
   },
   "outputs": [],
   "source": [
    "# Further formatting is done using \":\", eg.\n",
    "#  %.6s -> {:.6}\n",
    "#  %3.2d -> {:3.2}\n",
    "s_a = \"{} even with {:.6} formatting.\\n\".format(s_a, \"positional\")\n",
    "\n"
   ]
  },
  {
   "cell_type": "code",
   "execution_count": null,
   "metadata": {
    "collapsed": false
   },
   "outputs": [],
   "source": [
    "# Alignment identifiers are simpler: < left , ^ center,  > right\n",
    "s_a = \"Align {:>10}% python!\".format(100)\n",
    "print(s_a)\n",
    "print(\"just prints a string\")\n"
   ]
  },
  {
   "cell_type": "markdown",
   "metadata": {},
   "source": [
    "### Formatting with names"
   ]
  },
  {
   "cell_type": "code",
   "execution_count": null,
   "metadata": {
    "collapsed": false
   },
   "outputs": [],
   "source": [
    "# you can name variables to get\n",
    "# a better formatting experience ;)\n",
    "fmt_a = \"{name:<.3} {nick:^.8} {sn:>30}\"\n",
    "print(fmt_a.format(name=\"-\"*10, nick=\"*\"*15, sn=\"-\"*40))\n",
    "print(fmt_a.format(name=\"Roberto\", nick=\"ioggstream\", sn=\"Polli\"))"
   ]
  },
  {
   "cell_type": "code",
   "execution_count": null,
   "metadata": {
    "collapsed": false
   },
   "outputs": [],
   "source": []
  }
 ],
 "metadata": {
  "kernelspec": {
   "display_name": "Python 3",
   "language": "python",
   "name": "python3"
  },
  "language_info": {
   "codemirror_mode": {
    "name": "ipython",
    "version": 3
   },
   "file_extension": ".py",
   "mimetype": "text/x-python",
   "name": "python",
   "nbconvert_exporter": "python",
   "pygments_lexer": "ipython3",
   "version": "3.9.9"
  }
 },
 "nbformat": 4,
 "nbformat_minor": 0
}
