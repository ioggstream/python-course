{
 "cells": [
  {
   "cell_type": "markdown",
   "metadata": {},
   "source": [
    "# Ansible is\n",
    "\n",
    "\n",
    " - configuration manager \n",
    " - simple \n",
    " - extensible via modules\n",
    " - written in python\n",
    " - broad community\n",
    " - many external tools\n",
    " - playbook repository\n",
    " - used by openstack, openshift & tonns of project\n",
    " \n",
    " \n",
    " # Configuration Manager\n",
    " \n",
    "Explain infrastructure as code\n",
    " "
   ]
  },
  {
   "cell_type": "markdown",
   "metadata": {},
   "source": [
    " # Advantages\n",
    " \n",
    " No agents: ansible copies python and all deployment scripts/modules to the target machine via ssh and executes them remotely. Some modules though require that target hosts contain specific python libraries.\n",
    " \n",
    " Jobs are executed in parallel, but you can configure for serialization using different strategies for speed up, rollout or other purposes: (link)\n",
    " \n",
    " ![Ansible architecture](https://cdn.pbrd.co/images/390yWc9H0.png \"Ansible architecture\")\n",
    " \n",
    " Authentication can be passwordless (ssh/pki, kerberos) or with password.\n",
    " \n",
    " Automation jobs (Playbooks) are described via YAML - a very concise and simple language. You can validate and lint files with yamllint and ansible-lint.\n",
    " \n",
    "```\n",
    "this_is:\n",
    "  a: yaml\n",
    "\n",
    "file:\n",
    "- with dict\n",
    "- a list\n",
    "  \n",
    "  \n",
    "```\n",
    " \n",
    " Passwords are supported, but SSH keys with ssh-agent are one of the best ways to use Ansible. Though if you want to use Kerberos, that's good too. \n",
    " \n",
    "You have a lot of options! Root logins are not required, you can login as any user, and then su or sudo to any user."
   ]
  },
  {
   "cell_type": "code",
   "execution_count": 1,
   "metadata": {
    "solution": "hidden"
   },
   "outputs": [
    {
     "name": "stdout",
     "output_type": "stream",
     "text": [
      "/notebooks/exercise-00\n"
     ]
    }
   ],
   "source": [
    "cd /notebooks/exercise-00/"
   ]
  },
  {
   "cell_type": "code",
   "execution_count": 2,
   "metadata": {},
   "outputs": [
    {
     "name": "stdout",
     "output_type": "stream",
     "text": [
      ".\r\n",
      "├── ansible.cfg\r\n",
      "├── group_vars\r\n",
      "│   ├── all\r\n",
      "│   └── staging\r\n",
      "├── inventory\r\n",
      "├── mytemplate.j2\r\n",
      "├── python-course-test.yml\r\n",
      "├── site.yml\r\n",
      "└── staging\r\n",
      "\r\n",
      "1 directory, 8 files\r\n"
     ]
    }
   ],
   "source": [
    "# Let's check our ansible directory\n",
    "!tree"
   ]
  },
  {
   "cell_type": "markdown",
   "metadata": {},
   "source": [
    "## ansible.cfg \n",
    "\n",
    "It's the main configuration file. While all ansible are in `yaml`, ansible.cfg is in .ini format. Eg.\n",
    "\n",
    "```\n",
    "[stanza]\n",
    "key = value\n",
    "\n",
    "```\n",
    "\n",
    "Let's check the content of a sample ansible.cfg:\n",
    "\n",
    "  - there's a lot of stuff in there\n",
    "  - there will be more ;)\n",
    "  - for now **let's check only the uncommented ones**."
   ]
  },
  {
   "cell_type": "code",
   "execution_count": 3,
   "metadata": {},
   "outputs": [
    {
     "name": "stdout",
     "output_type": "stream",
     "text": [
      "#\r\n",
      "# Always use ansible.cfg and inventory files to \r\n",
      "#  describe your deployment! \r\n",
      "#\r\n",
      "# This will save time and helps your colleagues to\r\n",
      "#  keep in touch with the environment.\r\n",
      "#\r\n",
      "[defaults]\r\n",
      "# define our inventory file or ansible defaults\r\n",
      "#  to /etc/ansible/hosts.\r\n",
      "inventory = inventory\r\n",
      "\r\n",
      "# It's just for testing purposes (or if you're on a secure cloud)\r\n",
      "#  you may want to avoid typing yes to all host keys.\r\n",
      "# Once you get host keys, you can comment this out and re-enable\r\n",
      "#  checks.\r\n",
      "host_key_checking = False\r\n",
      "\r\n",
      "# When an ansible plabook fails, it creates a retry file which may\r\n",
      "#  pollute the current directory ;) You can move this out using\r\n",
      "#  further variables\r\n",
      "retry_files_enabled = False\r\n",
      "\r\n",
      "# Search password file in here\r\n",
      "# vault_password_file = ~/.ssh/pin\r\n",
      "\r\n",
      "\r\n",
      "# [ssh_connection]\r\n",
      "# ssh_args = -F ./ssh_config/config -o ControlMaster=auto -o ControlPersist=30m\r\n",
      "# control_path = ./ssh_config/ansible-%%r@%%h:%%p\r\n"
     ]
    }
   ],
   "source": [
    "!cat ansible.cfg"
   ]
  },
  {
   "cell_type": "markdown",
   "metadata": {},
   "source": [
    "## Inventories\n",
    "\n",
    "a simple inventory file contains a static list of nodes to contact.\n",
    "\n",
    "Generally, an [inventory can be static or dynamic](http://docs.ansible.com/ansible/intro_inventory.html), as we will see in the following lessons.\n",
    "\n"
   ]
  },
  {
   "cell_type": "code",
   "execution_count": 4,
   "metadata": {},
   "outputs": [
    {
     "name": "stdout",
     "output_type": "stream",
     "text": [
      "#\r\n",
      "# This inventory file contains a list of server to \r\n",
      "#  play with - divided in groups.\r\n",
      "#\r\n",
      "[course]\r\n",
      "# this is the local machine where you run jupyter\r\n",
      "# the tutorial just works with this one.\r\n",
      "pythonforsysadmin_course_1  ansible_connection=local\r\n",
      "\r\n",
      "\r\n",
      "# Another group of servers\r\n",
      "# where we can pass optional arguments\r\n",
      "# Homework: you can play with this group of host\r\n",
      "#  once you exchange ssh-keys between the pythonforsysadmin_course_1\r\n",
      "#  container and the pythonforsysadmin_ansible_* ones._\r\n",
      "[ansible]\r\n",
      "172.17.0.[5:7]   \r\n",
      "\r\n",
      "#\r\n",
      "# Besides, ansible has two predefined groups: \r\n",
      "#   - all \r\n",
      "#   - ungrouped\r\n"
     ]
    }
   ],
   "source": [
    "!cat inventory"
   ]
  },
  {
   "cell_type": "code",
   "execution_count": null,
   "metadata": {},
   "outputs": [],
   "source": [
    "# You can have many inventory files\n",
    "!cat staging"
   ]
  },
  {
   "cell_type": "markdown",
   "metadata": {},
   "source": [
    "## Environment variables\n",
    "\n",
    "**N.B. ansible environment variables are not related with process environment**\n",
    "\n",
    "You defined your host groups in the environment, eg:\n",
    "\n",
    "  - course\n",
    "  - ansible\n",
    "  - staging\n",
    "  \n",
    "Ansible defines [two default groups: all and ungrouped](http://docs.ansible.com/ansible/intro_inventory.html#default-groups).\n",
    "\n",
    "You can assign variables to all hosts using the `all` group."
   ]
  },
  {
   "cell_type": "code",
   "execution_count": 5,
   "metadata": {},
   "outputs": [
    {
     "name": "stdout",
     "output_type": "stream",
     "text": [
      "group_vars\r\n",
      "├── all\r\n",
      "└── staging\r\n",
      "\r\n",
      "0 directories, 2 files\r\n"
     ]
    }
   ],
   "source": [
    "# group_vars - a directory containing environment files for various host groups.\n",
    "!tree group_vars"
   ]
  },
  {
   "cell_type": "code",
   "execution_count": 7,
   "metadata": {},
   "outputs": [
    {
     "name": "stdout",
     "output_type": "stream",
     "text": [
      "group_vars/all:env_name: default\n",
      "group_vars/staging:env_name: staging\n",
      "#\n",
      "# Pur here the variables for the staging inventory.\n",
      "#\n",
      "env_name: staging\n"
     ]
    }
   ],
   "source": [
    "# I set  env_name in two different files\n",
    "!grep env_name -r group_vars/\n",
    "!cat group_vars/staging"
   ]
  },
  {
   "cell_type": "code",
   "execution_count": null,
   "metadata": {
    "solution": "hidden"
   },
   "outputs": [],
   "source": [
    "# The debug module (-m debug) shows variables' content or dumps messages.\n",
    "#   by default uses the inventory set into ansible.cfg, thus writing\n",
    "!ansible all -m debug -a 'var=env_name'\n"
   ]
  },
  {
   "cell_type": "markdown",
   "metadata": {
    "solution": "hidden",
    "solution_first": true
   },
   "source": [
    "#### Exercise\n",
    "\n",
    "Dump env_name tied to the staging inventory.\n",
    "\n",
    "  - which is the expected output?\n",
    "  - what ties the \"staging\" inventory file to group_vars/staging?\n"
   ]
  },
  {
   "cell_type": "code",
   "execution_count": null,
   "metadata": {
    "code_folding": [
     0
    ],
    "solution": "hidden"
   },
   "outputs": [],
   "source": [
    "# Solution\n",
    "\n",
    "!ansible all -i staging -m debug -a 'var=env_name'"
   ]
  },
  {
   "cell_type": "code",
   "execution_count": null,
   "metadata": {},
   "outputs": [],
   "source": [
    "# Use this cell for the exercise"
   ]
  },
  {
   "cell_type": "markdown",
   "metadata": {},
   "source": [
    "#### Exercise"
   ]
  },
  {
   "cell_type": "code",
   "execution_count": null,
   "metadata": {},
   "outputs": [],
   "source": [
    "#\n",
    "# Read the inventory and try to predict the output of\n",
    "#\n",
    "!ansible course -i staging -m debug -a 'var=proxy_env'"
   ]
  }
 ],
 "metadata": {
  "celltoolbar": "Raw Cell Format",
  "kernelspec": {
   "display_name": "Python 2",
   "language": "python",
   "name": "python2"
  },
  "language_info": {
   "codemirror_mode": {
    "name": "ipython",
    "version": 2
   },
   "file_extension": ".py",
   "mimetype": "text/x-python",
   "name": "python",
   "nbconvert_exporter": "python",
   "pygments_lexer": "ipython2",
   "version": "2.7.14"
  }
 },
 "nbformat": 4,
 "nbformat_minor": 2
}
