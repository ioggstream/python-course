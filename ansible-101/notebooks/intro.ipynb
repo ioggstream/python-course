{
 "cells": [
  {
   "cell_type": "markdown",
   "metadata": {
    "solution": "hidden"
   },
   "source": [
    "# Ansible 2 done right\n",
    "\n",
    "Welcome to the Ansible 2 training!\n",
    "\n"
   ]
  },
  {
   "cell_type": "markdown",
   "metadata": {},
   "source": [
    "# Jupyter\n",
    "\n",
    "is the course environment in your browser.\n",
    "\n",
    "It's not a way for not doing your homework ;)\n",
    "\n",
    "You can:\n",
    "\n",
    "  - [open a terminal on the local machine](/terminals/example)\n",
    "  - [edit an existing file](/edit/notebooks/untitled.txt)\n",
    "  - add more cells with `ALT+ENTER`\n",
    "  \n",
    "## Python terminal\n",
    "\n",
    "With Jupyter, you have a Python terminal at your disposal.\n",
    "You can run Python code:"
   ]
  },
  {
   "cell_type": "code",
   "execution_count": 1,
   "metadata": {},
   "outputs": [
    {
     "name": "stdout",
     "output_type": "stream",
     "text": [
      "a string and the number 1\n",
      "now s is increased 2\n"
     ]
    }
   ],
   "source": [
    "# You can evaluate maths and strings\n",
    "s = 1\n",
    "print(\"a string and the number \" + str(s))\n",
    "\n",
    "s = s + 1\n",
    "print(\"now s is increased \" + str(s))"
   ]
  },
  {
   "cell_type": "markdown",
   "metadata": {},
   "source": [
    "To run simple, non interactive bash commands in a python cell, prefix them with `!`.\n",
    "When you run a cell, the output is displayed below the cell.\n"
   ]
  },
  {
   "cell_type": "code",
   "execution_count": 2,
   "metadata": {},
   "outputs": [
    {
     "name": "stdout",
     "output_type": "stream",
     "text": [
      "totale 576\n",
      "-rw-rw-r--. 1 rpolli rpolli  16659 12 mag 17.10 00_teaser.ipynb\n",
      "-rw-rw-r--. 1 rpolli rpolli   8833 11 mag 11.38 01_architecture.ipynb\n",
      "-rw-rw-r--. 1 rpolli rpolli   9772 12 mag 15.25 02_delivery_layout.ipynb\n",
      "-rw-rw-r--. 1 rpolli rpolli   8312 15 mag 10.50 02_vaults.ipynb\n",
      "-rw-rw-r--. 1 rpolli rpolli   7433 15 mag 10.24 03_facts_and_variables.ipynb\n",
      "-rw-rw-r--. 1 rpolli rpolli   8258  6 lug  2019 04_loops_and_conditions.ipynb\n",
      "-rw-rw-r--. 1 rpolli rpolli   9868 22 set  2021 05_inventories.ipynb\n",
      "-rw-rw-r--. 1 rpolli rpolli   7306  6 lug  2019 06_bastion_and_ssh.ipynb\n",
      "-rw-rw-r--. 1 rpolli rpolli  14130  6 lug  2019 07_playbooks.ipynb\n",
      "-rw-rw-r--. 1 rpolli rpolli   5240  6 lug  2019 07_templates.ipynb\n",
      "-rw-rw-r--. 1 rpolli rpolli   8942  6 lug  2019 08_yaml_pitfalls.ipynb\n",
      "-rw-rw-r--. 1 rpolli rpolli   5892  6 lug  2019 09_roles.ipynb\n",
      "-rw-rw-r--. 1 rpolli rpolli   3260  6 lug  2019 10_galaxy_ok.ipynb\n",
      "-rw-rw-r--. 1 rpolli rpolli 408823 22 set  2021 ansible-101.graphml\n",
      "-rwxrwxr-x. 1 rpolli rpolli    263 22 set  2021 cleanup.sh\n",
      "-rw-rw-r--. 1 rpolli rpolli    395 22 set  2021 custom.css\n",
      "-rw-rw-r--. 1 rpolli rpolli   1718 15 mag 15.19 diagrams.md\n",
      "drwxrwxr-x. 3 rpolli rpolli    142 11 mag 11.22 exercise-00\n",
      "drwxrwxr-x. 2 rpolli rpolli    116 15 mag 10.48 exercise-01\n",
      "drwxrwxr-x. 2 rpolli rpolli    169 11 mag 11.22 exercise-03\n",
      "drwxrwxr-x. 3 rpolli rpolli    147 11 mag 11.21 exercise-05\n",
      "drwxrwxr-x. 2 rpolli rpolli    129 11 mag 11.22 exercise-06\n",
      "drwxrwxr-x. 2 rpolli rpolli   4096 11 mag 11.22 exercise-07\n",
      "drwxrwxr-x. 3 rpolli rpolli     89  6 lug  2019 exercise-08\n",
      "drwxrwxr-x. 2 rpolli rpolli     87 11 mag 11.22 exercise-09\n",
      "drwxrwxr-x. 2 rpolli rpolli     67  6 lug  2019 images\n",
      "-rw-rw-r--. 1 rpolli rpolli   5519 15 mag 15.31 intro.ipynb\n",
      "drwxrwxr-x. 5 rpolli rpolli     59 15 mag 10.58 rendered_notebooks\n",
      "-rw-rw-r--. 1 rpolli rpolli     35 22 set  2021 untitled.txt\n",
      "-rw-rw-r--. 1 rpolli rpolli    163 22 set  2021 web\n"
     ]
    }
   ],
   "source": [
    "! ls -l"
   ]
  },
  {
   "cell_type": "markdown",
   "metadata": {},
   "source": [
    "\n",
    "During the course, you will need to execute some shell code, that is rendered like the following\n",
    "\n",
    "```bash\n",
    "# This is a bash cell.\n",
    "echo \"What is your name?\"\n",
    "read name\n",
    "echo \"Hello $name!\"\n",
    "```\n",
    "\n",
    "In these cases, you need to [open a terminal on the local machine](/terminals/example), for example following links like [this one](/terminals/example) and type the commands there. This is especially required for interactive tasks. \n",
    "\n"
   ]
  },
  {
   "cell_type": "markdown",
   "metadata": {},
   "source": [
    "# Python\n",
    "\n",
    "Go to the [basic python course](/tree/notebooks/rendered_notebooks/python-basic)"
   ]
  },
  {
   "cell_type": "markdown",
   "metadata": {},
   "source": [
    "# Git\n",
    "\n",
    "is the powerful versioning system used to distribute this course\n",
    "\n",
    "Go to your [git beginners course](/notebooks/notebooks/rendered_notebooks/git-101/01-git.ipynb)"
   ]
  },
  {
   "cell_type": "markdown",
   "metadata": {},
   "source": [
    "# Docker\n",
    "\n",
    "Docker is a lightweight container environment. Jupyter and all other \"machines\" are based on docker.\n",
    "\n",
    "[Presentation (in Italian)](https://docs.google.com/presentation/d/15swQ2gHWAKYAm_ZbBme9rmzV1CpLNl1npvgrUyODu1s/)\n",
    "\n",
    "Go to your [docker beginners course](/notebooks/notebooks/rendered_notebooks/docker-101/)\n"
   ]
  },
  {
   "cell_type": "markdown",
   "metadata": {
    "solution": "hidden",
    "solution_first": true
   },
   "source": [
    "#### Exercises\n",
    "\n",
    "Exercise solutions are folded. You can show them clicking on the `+` sign.\n",
    "\n"
   ]
  },
  {
   "cell_type": "code",
   "execution_count": null,
   "metadata": {},
   "outputs": [],
   "source": []
  },
  {
   "cell_type": "markdown",
   "metadata": {
    "solution": "hidden",
    "solution_first": true
   },
   "source": [
    "# Don't do that :D just try and ...\n",
    "![Do your homework](http://s2.quickmeme.com/img/43/438ccdc454bc53dfe79f6190ee43b2be19bd578ad002426efcf90f7a327cedd1.jpg)"
   ]
  },
  {
   "cell_type": "code",
   "execution_count": null,
   "metadata": {
    "solution": "hidden"
   },
   "outputs": [],
   "source": []
  },
  {
   "cell_type": "markdown",
   "metadata": {},
   "source": [
    "## Setup with digitalocean (if you don't have your server)\n",
    "\n",
    "Create and `ssh` into your docker droplet.\n",
    "\n",
    "![Create droplet](https://cdn.pbrd.co/images/GA8dkaJ.png)\n",
    "\n",
    "## Setup example\n",
    "\n",
    "[![asciicast](https://asciinema.org/a/9xqX4akNND7Yc0Q1sTb3ZnEhI.png)](https://asciinema.org/a/9xqX4akNND7Yc0Q1sTb3ZnEhI)\n",
    "\n",
    "\n",
    "## Docker must listen on 172.17.0.1:2735\n",
    "\n",
    "```\n",
    "# vim /etc/systemd/system/multi-user.target.wants/docker.service\n",
    "[Service]\n",
    "...\n",
    "ExecStart=/usr/bin/dockerd -H fd:// -H tcp://172.17.0.1:2375\n",
    "...\n",
    "#wq!\n",
    "\n",
    "systemctl daemon-reload\n",
    "systemctl restart docker\n",
    "```\n",
    "\n",
    "## Clone and start\n",
    "\n",
    "```\n",
    "git clone https://github.com/ioggstream/python-course.git\n",
    "cd python-course/ansible-101\n",
    "make course\n",
    "\n",
    "```\n",
    "\n",
    "## Connect to jupyter\n",
    "\n",
    "```\n",
    "firefox http://43.32.54.212:8888/tree/notebooks/?token=....\n",
    "```\n"
   ]
  }
 ],
 "metadata": {
  "kernelspec": {
   "display_name": "Python 3 (ipykernel)",
   "language": "python",
   "name": "python3"
  },
  "language_info": {
   "codemirror_mode": {
    "name": "ipython",
    "version": 3
   },
   "file_extension": ".py",
   "mimetype": "text/x-python",
   "name": "python",
   "nbconvert_exporter": "python",
   "pygments_lexer": "ipython3",
   "version": "3.9.9"
  }
 },
 "nbformat": 4,
 "nbformat_minor": 2
}
