{
 "cells": [
  {
   "cell_type": "markdown",
   "metadata": {},
   "source": [
    "# Inventories\n",
    "\n",
    "Inventories are a fundamental doc entrypoint for our infrastructures. \n",
    "\n",
    "They contain a lot of informations, including:\n",
    "    \n",
    "    - ansible_user\n",
    "    - configuration variables in [group_name:vars]\n",
    "    - host grouping eg. by geographical zones in [group_name:children]\n",
    "    \n",
    "    \n",
    "Files:\n",
    "\n",
    "\n",
    "  - [inventory](/edit/notebooks/exercise-05/inventory)\n",
    "    "
   ]
  },
  {
   "cell_type": "code",
   "execution_count": 2,
   "metadata": {},
   "outputs": [
    {
     "name": "stdout",
     "output_type": "stream",
     "text": [
      "/notebooks/exercise-05\n"
     ]
    }
   ],
   "source": [
    "cd /notebooks/exercise-05"
   ]
  },
  {
   "cell_type": "code",
   "execution_count": 3,
   "metadata": {},
   "outputs": [
    {
     "name": "stdout",
     "output_type": "stream",
     "text": [
      "# I can group hosts in inventory\r\n",
      "\r\n",
      "[web:children]\r\n",
      "web_rome\r\n",
      "web_milan\r\n",
      "\r\n",
      "[web_rome:children]\r\n",
      "web_rome_test\r\n",
      "web_rome_prod\r\n",
      "\r\n",
      "[web_rome_prod]\r\n",
      "172.23.0.[3:4]\r\n",
      "\r\n",
      "[web_milan]\r\n",
      "172.24.0.[5:6]\r\n",
      "\r\n",
      "# further host variables\r\n",
      "[web_rome:vars]\r\n",
      "ansible_username=root \r\n",
      "\r\n",
      "\r\n",
      "# Connect with docker \r\n",
      "[web_rome_test:vars]\r\n",
      "ansible_connection=docker\r\n",
      "ansible_docker_extra_args=\"-Htcp://172.17.0.1\"\r\n",
      "\r\n",
      "# The actual host reference\r\n",
      "[web_rome_test]\r\n",
      "ansible101_web_1\r\n",
      "\r\n",
      "# \r\n",
      "# Don't need to be Ssh \r\n",
      "#  to be my local machine ;)\r\n",
      "#\r\n",
      "[course]\r\n",
      "localhost    ansible_connection=local "
     ]
    }
   ],
   "source": [
    "!cat inventory"
   ]
  },
  {
   "cell_type": "markdown",
   "metadata": {},
   "source": [
    "The `ansible` executable can process inventory files"
   ]
  },
  {
   "cell_type": "code",
   "execution_count": null,
   "metadata": {},
   "outputs": [],
   "source": [
    "!ansible -i inventory --list-host all"
   ]
  },
  {
   "cell_type": "markdown",
   "metadata": {},
   "source": [
    "#### Exercise\n",
    "\n",
    "Use `ansible` to show:\n",
    "    \n",
    "    - all hosts of the web group."
   ]
  },
  {
   "cell_type": "code",
   "execution_count": null,
   "metadata": {},
   "outputs": [],
   "source": [
    "# Use this  cell for the exercise"
   ]
  },
  {
   "cell_type": "code",
   "execution_count": null,
   "metadata": {},
   "outputs": [],
   "source": [
    "# The ping module is very useful. \n",
    "# Use it whenever you want to check connectivity!\n",
    "!ansible -m ping -i inventory web_rome"
   ]
  },
  {
   "cell_type": "markdown",
   "metadata": {},
   "source": [
    "## Inventory scripts"
   ]
  },
  {
   "cell_type": "code",
   "execution_count": null,
   "metadata": {},
   "outputs": [],
   "source": [
    "#To create custom inventory scripts just use python ;) and set it in\n",
    "!grep inventory  ansible.cfg # inventory = ./docker-inventory.py"
   ]
  },
  {
   "cell_type": "markdown",
   "metadata": {},
   "source": [
    "#### Exercise\n",
    "\n",
    "in the official ansible documentation find at least 3 `ansible_connection=docker` parameters "
   ]
  },
  {
   "cell_type": "code",
   "execution_count": null,
   "metadata": {},
   "outputs": [],
   "source": [
    "\"\"\"List our containers. \n",
    "\n",
    "  Note: this only works with docker-compose containers.\n",
    "\n",
    "\"\"\"\n",
    "from __future__ import print_function\n",
    "# \n",
    "# Manage different docker libraries\n",
    "#\n",
    "try:\n",
    "    from docker import Client\n",
    "except ImportError:\n",
    "    from docker import APIClient as Client\n",
    "\n",
    "\n",
    "c = Client(base_url=\"http://172.17.0.1:2375\")\n",
    "\n",
    "# Define a function to make it clear!\n",
    "container_fmt = lambda x: (\n",
    "    x['Names'][0][1:],\n",
    "    x['Labels']['com.docker.compose.service'], \n",
    "    x['NetworkSettings']['Networks']['bridge']['IPAddress'],\n",
    ")\n",
    "\n",
    "for x in c.containers():\n",
    "    try:\n",
    "        print(*container_fmt(x), sep='\\t\\t')\n",
    "    except KeyError:\n",
    "        # skip non-docker-compose containers\n",
    "        pass"
   ]
  },
  {
   "cell_type": "code",
   "execution_count": null,
   "metadata": {},
   "outputs": [],
   "source": [
    "# Ansible accepts\n",
    "import json\n",
    "\n",
    "inventories = {\n",
    "    'web': {\n",
    "        'hosts': ['ws-1', 'ws-2'],\n",
    "    },\n",
    "    'db': {\n",
    "        'hosts': ['db-1', 'db-2'],\n",
    "    }\n",
    "}\n",
    "\n",
    "# like this \n",
    "print(json.dumps(inventories, indent=1))\n",
    "      "
   ]
  },
  {
   "cell_type": "code",
   "execution_count": null,
   "metadata": {},
   "outputs": [],
   "source": [
    "# You can pass variables to generated inventories too\n",
    "inventories['web']['host_vars'] = {\n",
    "    'ansible_ssh_common_args': ' -o GSSApiAuthentication=no'\n",
    "}\n",
    "print(json.dumps(inventories, indent=1))"
   ]
  },
  {
   "cell_type": "markdown",
   "metadata": {},
   "source": [
    "#### Exercise: \n",
    "\n",
    "Reuse the code in [inventory-docker.py](/edit/notebooks/exercise-05/inventory-docker.py) to print a json inventory that:\n",
    "\n",
    "  - connects via docker to \"web\" hosts\n",
    "  - connects via ssh to \"ansible\" hosts \n",
    "\n",
    "Test it in the cell below.\n",
    "\n",
    "** NOTE: there's a [docker inventory](https://github.com/ansible/ansible/blob/devel/contrib/inventory/docker.py) script shipped with ansible **"
   ]
  },
  {
   "cell_type": "code",
   "execution_count": null,
   "metadata": {},
   "outputs": [],
   "source": [
    "!ansible -m ping -i inventory-docker-solution.py all "
   ]
  },
  {
   "cell_type": "markdown",
   "metadata": {
    "code_folding": []
   },
   "source": [
    "#### Exercise\n",
    "\n",
    "Modify the [inventory-docker.py](/edit/notebooks/exercise-05/inventory-docker.py) to skip StrictHostKeyChecking only on web hosts."
   ]
  },
  {
   "cell_type": "code",
   "execution_count": null,
   "metadata": {},
   "outputs": [],
   "source": [
    "# Test here your inventory"
   ]
  },
  {
   "cell_type": "markdown",
   "metadata": {},
   "source": [
    "# Configurations\n",
    "\n",
    "You may want to split inventory files and separate prod and test environment."
   ]
  },
  {
   "cell_type": "markdown",
   "metadata": {},
   "source": [
    "#### Exercise: \n",
    "\n",
    "split inventory in two inventory files:\n",
    "\n",
    "  - [prod](/edit/notebooks/exercise-05/prod)  for production servers \n",
    "  - [test](/edit/notebooks/exercise-05/test)  for test servers\n",
    "  \n",
    "Then use `ansible -i` to explicitly use the different ones."
   ]
  },
  {
   "cell_type": "code",
   "execution_count": null,
   "metadata": {},
   "outputs": [],
   "source": [
    "# Use this cell to test the exercise"
   ]
  },
  {
   "cell_type": "markdown",
   "metadata": {},
   "source": [
    "## group_vars and host_vars\n",
    "\n",
    "You can move variables out of inventories - eg to simplify inventory scripts - and store them in files:\n",
    "\n",
    " - under `group_vars` for host groups\n",
    " - under `host_vars` for single hosts"
   ]
  },
  {
   "cell_type": "code",
   "execution_count": null,
   "metadata": {},
   "outputs": [],
   "source": [
    "!tree group_vars"
   ]
  },
  {
   "cell_type": "markdown",
   "metadata": {},
   "source": [
    "If you have different inventories, you can store different set of variable in custom files.\n",
    "The `all` ones will be shared between all inventories\n",
    "\n",
    "#### Exercise: \n",
    "    \n",
    "  - edit [group_vars/all](/edit/notebooks/exercise-05/group_vars/all) and move there all common variables from [inventory](/edit/notebooks/exercise-05/inventory) "
   ]
  },
  {
   "cell_type": "code",
   "execution_count": null,
   "metadata": {},
   "outputs": [],
   "source": [
    "# Test here the new inventory file"
   ]
  },
  {
   "cell_type": "markdown",
   "metadata": {},
   "source": [
    "Inventory variables can store almost everything and even describe the architecture of your deployment\n"
   ]
  },
  {
   "cell_type": "code",
   "execution_count": null,
   "metadata": {},
   "outputs": [],
   "source": [
    "!cat group_vars/example"
   ]
  },
  {
   "cell_type": "markdown",
   "metadata": {},
   "source": [
    "We can even mix and mojo `group_vars` and `inventory`, as we'll see in the next lessons.\n",
    "\n",
    "\n",
    "\n"
   ]
  },
  {
   "cell_type": "markdown",
   "metadata": {},
   "source": [
    "### host_vars\n",
    "\n",
    "Host vars can be used in automated or cloud deployments where:\n",
    "\n",
    "  - every new host or vm, at boot, populate its own entries in `host_vars` (Eg. via file)\n",
    "  - ansible is run after that setup and uses `host_vars` to configure the server and expose that values to the other machines."
   ]
  }
 ],
 "metadata": {
  "kernelspec": {
   "display_name": "Python 2",
   "language": "python",
   "name": "python2"
  },
  "language_info": {
   "codemirror_mode": {
    "name": "ipython",
    "version": 2
   },
   "file_extension": ".py",
   "mimetype": "text/x-python",
   "name": "python",
   "nbconvert_exporter": "python",
   "pygments_lexer": "ipython2",
   "version": "2.7.14"
  }
 },
 "nbformat": 4,
 "nbformat_minor": 2
}
