{
 "cells": [
  {
   "cell_type": "markdown",
   "metadata": {},
   "source": [
    "# OpenAPI & Modeling\n",
    "\n",
    "## [OpenAPI](https://www.openapis.org/) is a specification language\n",
    "\n",
    "OpenAPI is a specification language for REST APIs that allows to communicate:\n",
    "\n",
    "- technical specifications \n",
    "\n",
    "- metadata\n",
    "\n",
    "- docs & references"
   ]
  },
  {
   "cell_type": "markdown",
   "metadata": {},
   "source": [
    "## OpenAPI is driven by a [Foundation](https://www.openapis.org/)\n",
    "\n",
    "The OpenAPI Foundation is an initiative under the Linux Foundation, \n",
    "participated by government & companies  (gov.uk, Microsoft, Google, Oracle, IBM, ..):\n",
    "\n",
    "- Driver for API adoption\n",
    "\n",
    "- Evolution of Swagger 2.0\n",
    "\n",
    "- Lightweight format: [YAML](https://learnxinyminutes.com/docs/yaml/)\n",
    "\n",
    "- Generates docs & code via tools ([swagger-editor](https://editor.swagger.io), [apicur.io](https://www.apicur.io/))\n",
    "\n",
    "- Allows reusable components via hyperlink (eg. $ref)\n",
    "\n",
    "## OpenAPI is WSDL for REST APIs\n"
   ]
  },
  {
   "cell_type": "markdown",
   "metadata": {},
   "source": [
    "## OpenAPI Editor\n",
    "\n",
    "\n",
    "Every OAS3 document begins with\n",
    "\n",
    "\n",
    "```\n",
    "openapi: 3.0.0\n",
    "```\n",
    "\n",
    "Run next cell if it's blank ;)"
   ]
  },
  {
   "cell_type": "code",
   "execution_count": 1,
   "metadata": {
    "hide_input": false,
    "tags": [
     "hide_input"
    ]
   },
   "outputs": [
    {
     "ename": "NameError",
     "evalue": "name 'render_markdown' is not defined",
     "output_type": "error",
     "traceback": [
      "\u001b[0;31m---------------------------------------------------------------------------\u001b[0m",
      "\u001b[0;31mNameError\u001b[0m                                 Traceback (most recent call last)",
      "\u001b[0;32m<ipython-input-1-4dc0d931ab5a>\u001b[0m in \u001b[0;36m<module>\u001b[0;34m\u001b[0m\n\u001b[1;32m      1\u001b[0m \u001b[0mremote_yaml\u001b[0m \u001b[0;34m=\u001b[0m \u001b[0;34m'https://raw.githubusercontent.com/teamdigitale/api-starter-kit/master/openapi/simple.yaml.src'\u001b[0m\u001b[0;34m\u001b[0m\u001b[0;34m\u001b[0m\u001b[0m\n\u001b[0;32m----> 2\u001b[0;31m render_markdown(f'''\n\u001b[0m\u001b[1;32m      3\u001b[0m \u001b[0;34m\u001b[0m\u001b[0m\n\u001b[1;32m      4\u001b[0m \u001b[0;34m[\u001b[0m\u001b[0mSwagger\u001b[0m \u001b[0mEditor\u001b[0m\u001b[0;34m]\u001b[0m\u001b[0;34m(\u001b[0m\u001b[0;34m{\u001b[0m\u001b[0moas_editor_url\u001b[0m\u001b[0;34m(\u001b[0m\u001b[0mremote_yaml\u001b[0m\u001b[0;34m)\u001b[0m\u001b[0;34m}\u001b[0m\u001b[0;34m)\u001b[0m \u001b[0;32mis\u001b[0m \u001b[0ma\u001b[0m \u001b[0msimple\u001b[0m \u001b[0mwebapp\u001b[0m\u001b[0;34m\u001b[0m\u001b[0;34m\u001b[0m\u001b[0m\n\u001b[1;32m      5\u001b[0m \u001b[0;32mfor\u001b[0m \u001b[0mediting\u001b[0m \u001b[0mOpenAPI\u001b[0m \u001b[0;36m3\u001b[0m \u001b[0mlanguage\u001b[0m \u001b[0mspecs\u001b[0m\u001b[0;34m.\u001b[0m\u001b[0;34m\u001b[0m\u001b[0;34m\u001b[0m\u001b[0m\n",
      "\u001b[0;31mNameError\u001b[0m: name 'render_markdown' is not defined"
     ]
    }
   ],
   "source": [
    "remote_yaml = 'https://raw.githubusercontent.com/teamdigitale/api-starter-kit/master/openapi/simple.yaml.src'\n",
    "render_markdown(f'''\n",
    "\n",
    "[Swagger Editor]({oas_editor_url(remote_yaml)}) is a simple webapp\n",
    "for editing OpenAPI 3 language specs.\n",
    "\n",
    "\n",
    "''')"
   ]
  },
  {
   "cell_type": "markdown",
   "metadata": {
    "hide_input": true
   },
   "source": [
    "## Start with Metadata\n",
    "\n",
    "In OAS3 we should first describe api metadata, to clarify:\n",
    "\n",
    "- API goals, audience and context;\n",
    "- Terms of service;\n",
    "- Versioning.\n",
    "\n",
    "Here's a simple OAS3 metadata part, contained in the `info` section.\n"
   ]
  },
  {
   "cell_type": "markdown",
   "metadata": {},
   "source": [
    "```\n",
    "openapi: 3.0.0\n",
    "info:\n",
    "  version: \"1.0.0\"\n",
    "  title: |-\n",
    "    Write a short, clear name of your service.\n",
    "  description: |\n",
    "    This field may contain the markdown documentation of the api,\n",
    "    including references to other docs and examples.\n",
    "\n",
    "  # Legal references and terms of services.\n",
    "  termsOfService: 'http://swagger.io/terms/'\n",
    "  contact:\n",
    "    email: robipolli@gmail.com\n",
    "    name: Roberto Polli\n",
    "    url: https://twitter.com/ioggstream\n",
    "  license:\n",
    "    name: Apache 2.0\n",
    "    url: 'http://www.apache.org/licenses/LICENSE-2.0.html'\n",
    "```"
   ]
  },
  {
   "cell_type": "markdown",
   "metadata": {},
   "source": [
    "## OpenAPI Metadata exercise\n"
   ]
  },
  {
   "cell_type": "code",
   "execution_count": null,
   "metadata": {
    "hide_input": true
   },
   "outputs": [],
   "source": [
    "render_markdown(f'''\n",
    "\n",
    "1- open [this incomplete OAS3 spec](/edit/notebooks/oas3/ex-01-info.yaml).\n",
    "\n",
    "2- copy its content in the [Swagger Editor Online]({oas_editor_url('')}) fixing all errors \n",
    "   and adding the missing informations.\n",
    "\n",
    "3- describe the first API we're going to implement: a service which returns the current\n",
    "   timestamp in [RFC5454](https://tools.ietf.org/html/rfc5424#section-6.2.3) \n",
    "   UTC (eg. `2019-01-01T00:00:00Z`).\n",
    "    \n",
    "4- provide contact informations and terms of services. \n",
    "\n",
    "5- Feel free to add as many details as you want.\n",
    "\n",
    "''')"
   ]
  },
  {
   "cell_type": "code",
   "execution_count": null,
   "metadata": {
    "hide_input": true
   },
   "outputs": [],
   "source": [
    "### Basic fields\n",
    "### Terms of Services"
   ]
  },
  {
   "cell_type": "markdown",
   "metadata": {
    "hide_input": true
   },
   "source": [
    "### Custom fields\n",
    "\n",
    "In Italy we're experimenting with some custom fields to help catalogs and metadata\n",
    "\n",
    "**x-summary** is an one-liner description for catalog purposes. The new OAS 3.1 standardizes it as **summary** \n",
    "\n",
    "**x-lifecycle** can be used to communicate publishing and retiring informations\n",
    "\n",
    "```\n",
    "  x-lifecycle:\n",
    "    published: 1970-01-01\n",
    "    deprecated: 2050-01-01\n",
    "    retired: 2050-06-01\n",
    "    maturity: published\n",
    "\n",
    "```\n",
    "\n",
    "**x-api-id** you may want to assign a time-persistend UUID to your API, so that you can change its `title` \n",
    "\n",
    "```\n",
    "x-api-id: 00000000-0000-0000-0000-000000000000\n",
    "```\n",
    "\n",
    "**x-gdpr** with a list of roles\n",
    "\n",
    "**x-geodata** add local references in a machine readable format"
   ]
  },
  {
   "cell_type": "markdown",
   "metadata": {},
   "source": [
    "## OpenAPI Metadata exercise: 2\n"
   ]
  },
  {
   "cell_type": "code",
   "execution_count": 2,
   "metadata": {
    "hide_input": false
   },
   "outputs": [
    {
     "ename": "NameError",
     "evalue": "name 'render_markdown' is not defined",
     "output_type": "error",
     "traceback": [
      "\u001b[0;31m---------------------------------------------------------------------------\u001b[0m",
      "\u001b[0;31mNameError\u001b[0m                                 Traceback (most recent call last)",
      "\u001b[0;32m<ipython-input-2-a598dee25bad>\u001b[0m in \u001b[0;36m<module>\u001b[0;34m\u001b[0m\n\u001b[0;32m----> 1\u001b[0;31m render_markdown(f'''\n\u001b[0m\u001b[1;32m      2\u001b[0m \u001b[0;34m\u001b[0m\u001b[0m\n\u001b[1;32m      3\u001b[0m \u001b[0;36m1\u001b[0m\u001b[0;34m-\u001b[0m \u001b[0mopen\u001b[0m \u001b[0;34m[\u001b[0m\u001b[0mthe\u001b[0m \u001b[0mprevious\u001b[0m \u001b[0mOAS3\u001b[0m \u001b[0mspec\u001b[0m\u001b[0;34m]\u001b[0m\u001b[0;34m(\u001b[0m\u001b[0;34m/\u001b[0m\u001b[0medit\u001b[0m\u001b[0;34m/\u001b[0m\u001b[0mnotebooks\u001b[0m\u001b[0;34m/\u001b[0m\u001b[0moas3\u001b[0m\u001b[0;34m/\u001b[0m\u001b[0mex\u001b[0m\u001b[0;34m-\u001b[0m\u001b[0;36m0\u001b[0m\u001b[0;36m1\u001b[0m\u001b[0;34m-\u001b[0m\u001b[0minfo\u001b[0m\u001b[0;34m.\u001b[0m\u001b[0myaml\u001b[0m\u001b[0;34m)\u001b[0m\u001b[0;34m.\u001b[0m\u001b[0;34m\u001b[0m\u001b[0;34m\u001b[0m\u001b[0m\n\u001b[1;32m      4\u001b[0m \u001b[0;34m\u001b[0m\u001b[0m\n\u001b[1;32m      5\u001b[0m \u001b[0;36m2\u001b[0m\u001b[0;34m-\u001b[0m \u001b[0mcopy\u001b[0m \u001b[0mits\u001b[0m \u001b[0mcontent\u001b[0m \u001b[0;32min\u001b[0m \u001b[0mthe\u001b[0m \u001b[0;34m[\u001b[0m\u001b[0mSwagger\u001b[0m \u001b[0mEditor\u001b[0m \u001b[0mOnline\u001b[0m\u001b[0;34m]\u001b[0m\u001b[0;34m(\u001b[0m\u001b[0;34m{\u001b[0m\u001b[0moas_editor_url\u001b[0m\u001b[0;34m(\u001b[0m\u001b[0;34m''\u001b[0m\u001b[0;34m)\u001b[0m\u001b[0;34m}\u001b[0m\u001b[0;34m)\u001b[0m\u001b[0;34m.\u001b[0m\u001b[0;34m\u001b[0m\u001b[0;34m\u001b[0m\u001b[0m\n",
      "\u001b[0;31mNameError\u001b[0m: name 'render_markdown' is not defined"
     ]
    }
   ],
   "source": [
    "render_markdown(f'''\n",
    "\n",
    "1- open [the previous OAS3 spec](/edit/notebooks/oas3/ex-01-info.yaml).\n",
    "\n",
    "2- copy its content in the [Swagger Editor Online]({oas_editor_url('')}).\n",
    "\n",
    "3- provide further informations via custom fields: if you think of any interesting \n",
    "   label, define them and comment properly using `#` \n",
    "\n",
    "''')"
   ]
  },
  {
   "cell_type": "markdown",
   "metadata": {},
   "source": [
    "Go to the [next lesson](/notebooks/notebooks/03-connexion.ipynb) to learn connexion!"
   ]
  },
  {
   "cell_type": "code",
   "execution_count": null,
   "metadata": {},
   "outputs": [],
   "source": []
  }
 ],
 "metadata": {
  "kernelspec": {
   "display_name": "Python 3",
   "language": "python",
   "name": "python3"
  },
  "language_info": {
   "codemirror_mode": {
    "name": "ipython",
    "version": 3
   },
   "file_extension": ".py",
   "mimetype": "text/x-python",
   "name": "python",
   "nbconvert_exporter": "python",
   "pygments_lexer": "ipython3",
   "version": "3.7.8"
  }
 },
 "nbformat": 4,
 "nbformat_minor": 2
}
