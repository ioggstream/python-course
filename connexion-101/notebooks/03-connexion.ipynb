{
 "cells": [
  {
   "cell_type": "markdown",
   "metadata": {},
   "source": [
    "# Connexion\n",
    "\n",
    "[Connexion](https://github.com/zalando/connexion) is a python framework based on [Flask](http://flask.pocoo.org/).\n",
    "\n",
    "It streamlines the creation of contract-first REST APIs.\n",
    "\n",
    "Once you have your OAS3 spec, `connexion` uses it to:\n",
    "\n",
    "- dispatch requests\n",
    "- serve mock responses on unimplemented methods\n",
    "- validate input and output of the called methods\n",
    "- apply authentication policies\n",
    "- provide an API Documentation UI (Swagger UI) where we can browse our API."
   ]
  },
  {
   "cell_type": "code",
   "execution_count": null,
   "metadata": {},
   "outputs": [],
   "source": [
    "# At first ensure connexion is installed \n",
    "# together with the swagger module used to render the OAS3 spec\n",
    "# in the web-ui\n",
    "!pip install connexion[swagger-ui] connexion"
   ]
  },
  {
   "cell_type": "markdown",
   "metadata": {},
   "source": [
    "Now  [run the spec in a terminal](/terminals/1) using\n",
    "\n",
    "```\n",
    "connexion run /code/notebooks/oas3/ex-01-info-ok.yaml\n",
    "```\n",
    "\n",
    "Remember:\n",
    "\n",
    "- default port is `:5000`\n",
    "- the Swagger GUI is at the `/ui` path."
   ]
  },
  {
   "cell_type": "code",
   "execution_count": null,
   "metadata": {},
   "outputs": [],
   "source": [
    "# A request on a generic PATH on the server returns a \n",
    "# nicely formatted and explicative error.\n",
    "# Remember that we haven't already defined an operation.\n",
    "!curl http://0.0.0.0:5000 -kv"
   ]
  },
  {
   "cell_type": "code",
   "execution_count": null,
   "metadata": {
    "hide_input": true
   },
   "outputs": [],
   "source": [
    "render_markdown(f'''\n",
    "Open the [documentation URL]({api_server_url('ui')}) and check the outcome!\n",
    "\n",
    "Play a bit with Swagger UI.''')\n"
   ]
  },
  {
   "cell_type": "markdown",
   "metadata": {},
   "source": [
    "## Defining endpoints in OAS3\n",
    "\n",
    "Now that we have added our metadata, we can **provide informations about the endpoints**.\n",
    "OAS3 allows multiple endpoints because good APIs have many.\n",
    "\n",
    "Every endpoint can start with a prefix path (eg. `/datetime/v1`).\n",
    "\n",
    "\n",
    "```\n",
    "# One or more server\n",
    "#   You can add production, staging and test environments.\n",
    "#   We\n",
    "#   sandbox instances\n",
    "servers:\n",
    "  - description: |\n",
    "      An interoperable API has many endpoints.\n",
    "      One for development...\n",
    "    url: https://localhost:8443/datetime/v1\n",
    "    \n",
    "  - description: \n",
    "      One for testing in a sandboxed environment. This\n",
    "      is especially important to avoid clients to \n",
    "      test in production.\n",
    "      We are using the custom `x-sandbox` to identify \n",
    "    url: https://api.example.com/datetime/v1\n",
    "    x-sandbox: true\n",
    "    \n",
    "  - description: |\n",
    "      Then we have our production endpoint.\n",
    "      The custom `x-healthCheck` parameter\n",
    "      can be used to declare how to check the API.\n",
    "    url: https://api.example.com/datetime/v1/status \n",
    "    x-healthCheck:\n",
    "      url: https://api.example.com/datetime/v1/status\n",
    "      interval: 300\n",
    "      timeout: 15\n",
    "\n",
    "```"
   ]
  },
  {
   "cell_type": "markdown",
   "metadata": {},
   "source": [
    "### Exercise: the `servers` parameter\n",
    "\n",
    "Edit the `servers` attribute so that it points to your actual endpoint URL (eg. your IP/port).\n",
    "\n",
    "Now check the outcome.\n",
    "\n",
    "```\n",
    "connexion run /code/notebooks/oas3/ex-02-servers-ok.yaml\n",
    "```"
   ]
  },
  {
   "cell_type": "markdown",
   "metadata": {},
   "source": [
    "## Defining `paths`\n",
    "\n",
    "Now we can define our first `path` that is the `/status` one.\n",
    "\n",
    "An interoperable API should declare an URL for checking its status.\n",
    "\n",
    "This allows implementers to plan a suitable method for testing it (eg. it could be\n",
    "a simple OK/KO method or can execute basic checks like. databases are reachable, smoke testing other components, ..)"
   ]
  },
  {
   "cell_type": "markdown",
   "metadata": {
    "solution": "hidden"
   },
   "source": [
    "## Caveats on `/status`\n",
    "\n",
    "**NB: the `/status` path is not a replacement for proper monitoring your APIs, but a way to communicate to your peers that you're online.**"
   ]
  },
  {
   "cell_type": "markdown",
   "metadata": {},
   "source": [
    "## Paths anatomy\n",
    "\n",
    "An OAS3 path references:\n",
    "    \n",
    "- the associated METHOD (eg. get|post|..)\n",
    "- a `summary` and a `description` of the operation\n",
    "\n",
    "\n",
    "```  \n",
    "  /status:\n",
    "    get:\n",
    "      summary: Returns the application status.\n",
    "      description: |\n",
    "        This path can randomly return an error\n",
    "        for testing purposes. The returned object\n",
    "        is always a problem+json.\n",
    "```"
   ]
  },
  {
   "cell_type": "markdown",
   "metadata": {},
   "source": [
    "- a reference to the python object to call when the \n",
    "   \n",
    "```\n",
    "      operationId: get_status\n",
    "```"
   ]
  },
  {
   "cell_type": "markdown",
   "metadata": {},
   "source": [
    "- the http statuses of the possible responses, each with its description,\n",
    "  content-type and examples\n",
    "      \n",
    "```\n",
    "      responses:\n",
    "        '200':\n",
    "          description: |\n",
    "            The application is working properly.\n",
    "          content:\n",
    "            application/problem+json:\n",
    "              example:\n",
    "                status: 200\n",
    "                title: OK\n",
    "                detail: API is working properly.\n",
    "        default:\n",
    "          description: |\n",
    "            If none of the above statuses is returned, then this applies\n",
    "          content:\n",
    "            application/problem+json:\n",
    "              example:\n",
    "                status: 500\n",
    "                title: Internal Server Error\n",
    "                detail: API is not responding correctly\n",
    "            \n",
    "           \n",
    "\n",
    "```"
   ]
  },
  {
   "cell_type": "markdown",
   "metadata": {},
   "source": [
    "### Exercise\n",
    "\n",
    "- open the [ex-03-02-path.yaml](/edit/notebooks/oas3/ex-03-02-path.yaml)\n",
    "  eventually copy/paste the code from/to the swagger editor.\n",
    "- complete the `get /status` path\n",
    "\n",
    "We haven't already implemented the function `get_status()` referenced by `operationId`,\n",
    "so [to run the spec in a terminal](/terminals/1) we tell the server\n",
    "to ignore this with `--stub` \n",
    "\n",
    "```\n",
    "connexion run /code/notebooks/oas3/ex-03-02-path.yaml --stub\n",
    "```"
   ]
  },
  {
   "cell_type": "markdown",
   "metadata": {
    "solution": "hidden"
   },
   "source": [
    "### Exercise\n",
    "\n",
    "1- What happens if I get the `/status` resource of my API now?\n",
    "\n",
    "2- And if I invoke another path which is not mentioned in the spec?\n",
    "\n",
    "3- Restart the server via\n",
    "\n",
    "```\n",
    "connexion run /code/notebooks/oas3/ex-03-02-path.yaml --mock notimplemented\n",
    "```"
   ]
  },
  {
   "cell_type": "code",
   "execution_count": null,
   "metadata": {
    "solution": "shown",
    "solution_first": true
   },
   "outputs": [],
   "source": [
    "# Exercise:  what's the expected output of the following command?\n",
    "\n",
    "!curl http://0.0.0.0:5000/datetime/v1/status\n",
    "        \n",
    "# Exercise: what happens if you GET an unexisting path?        \n",
    "\n",
    "!curl http://0.0.0.0:5000/datetime/v1/MISSING\n",
    "        "
   ]
  },
  {
   "cell_type": "markdown",
   "metadata": {
    "solution": "shown"
   },
   "source": [
    "Solution on the unimplemented method\n",
    "\n",
    "```\n",
    "$ curl http://0.0.0.0:8889/datetime/v1/status\n",
    "{\n",
    "  \"detail\": \"Empty module name\",\n",
    "  \"status\": 501,\n",
    "  \"title\": \"Not Implemented\",\n",
    "  \"type\": \"about:blank\"\n",
    "}\n",
    "```\n",
    "\n",
    "Solution on other paths\n",
    "\n",
    "```\n",
    "$ curl http://0.0.0.0:8889/datetime/v1/missing\n",
    "{\n",
    "  \"detail\": \"The requested URL was not found on the server. If you entered the URL manually please check your spelling and try again.\",\n",
    "  \"status\": 404,\n",
    "  \"title\": \"Not Found\",\n",
    "  \"type\": \"about:blank\"\n",
    "}\n",
    "```"
   ]
  },
  {
   "cell_type": "markdown",
   "metadata": {},
   "source": [
    "## Schemas\n",
    "\n",
    "OAS3 allows defining, using and reusing schemas. \n",
    "\n",
    "They can be defined inline,  in the `component` section or referenced from another file, like below.\n",
    "The  URL fragment part can be used to navigate inside the yaml (eg. `#/schemas/Problem`).\n",
    "\n",
    "```\n",
    "components:\n",
    "    schemas:\n",
    "      Problem:\n",
    "        $ref: 'https://teamdigitale.github.io/openapi/0.0.5/definitions.yaml#/schemas/Problem'\n",
    "\n",
    "```\n"
   ]
  },
  {
   "cell_type": "code",
   "execution_count": null,
   "metadata": {},
   "outputs": [],
   "source": [
    "print(show_component('https://teamdigitale.github.io/openapi/0.0.5/definitions.yaml#/schemas/Problem'))"
   ]
  },
  {
   "cell_type": "code",
   "execution_count": null,
   "metadata": {
    "solution": "shown"
   },
   "outputs": [],
   "source": [
    "# Exercise: use the yaml and requests libraries \n",
    "# to download the Problem schema\n",
    "from requests import get\n",
    "ret  = get('https://teamdigitale.github.io/openapi/0.0.5/definitions.yaml')\n",
    "\n",
    "# Yaml parse the definitions\n",
    "definitions = yaml.safe_load(ret.content)\n",
    "\n",
    "# Nicely print the Problem schema\n",
    "print(yaml.dump(definitions['schemas']['Problem']))"
   ]
  },
  {
   "cell_type": "code",
   "execution_count": null,
   "metadata": {
    "solution": "hidden",
    "solution_first": true
   },
   "outputs": [],
   "source": [
    "### Exercise\n",
    "# Read the definitions above\n",
    "# - https://teamdigitale.github.io/openapi/0.0.5/definitions.yaml\n",
    "#\n",
    "# Then use this cell to list all the structures present in definitions"
   ]
  },
  {
   "cell_type": "code",
   "execution_count": null,
   "metadata": {
    "solution": "hidden"
   },
   "outputs": [],
   "source": [
    "for sections, v in definitions.items():\n",
    "    for items, vv in v.items():\n",
    "        print(f'{sections}.{items}')"
   ]
  },
  {
   "cell_type": "markdown",
   "metadata": {},
   "source": [
    "## Exercise\n",
    "\n",
    "Edit [ex-03-02-path.yaml](/edit/notebooks/oas3/ex-03-02-path.yaml) so that every `/status` response uses\n",
    "the `Problem` schema.\n",
    "\n",
    "Look at [simple.yaml](https://github.com/teamdigitale/api-starter-kit/blob/master/openapi/simple.yaml) to\n",
    "see a complete implementation."
   ]
  },
  {
   "cell_type": "code",
   "execution_count": null,
   "metadata": {},
   "outputs": [],
   "source": [
    "## Exercise\n",
    "\n",
    "#Test the new setup\n",
    "\n"
   ]
  }
 ],
 "metadata": {
  "kernelspec": {
   "display_name": "Python 3",
   "language": "python",
   "name": "python3"
  },
  "language_info": {
   "codemirror_mode": {
    "name": "ipython",
    "version": 3
   },
   "file_extension": ".py",
   "mimetype": "text/x-python",
   "name": "python",
   "nbconvert_exporter": "python",
   "pygments_lexer": "ipython3",
   "version": "3.7.7"
  }
 },
 "nbformat": 4,
 "nbformat_minor": 2
}
