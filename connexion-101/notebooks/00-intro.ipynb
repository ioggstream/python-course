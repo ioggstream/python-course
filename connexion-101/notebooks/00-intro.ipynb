{
 "cells": [
  {
   "cell_type": "markdown",
   "metadata": {},
   "source": [
    "# Interoperable REST APIs with OpenAPI 3 and Connexion\n",
    "\n",
    "Welcome to the API-First training!\n",
    "\n",
    "[Intro slides](https://docs.google.com/presentation/d/1c_pH0nVY5WwMOlMpr0vaeC1Mblpw-HvffvuECQgH4Yc/edit#slide=id.p4)\n",
    "\n",
    "## Agenda\n",
    "\n",
    "- [x] Course environment\n",
    "- [x] [Interoperability](/notebooks/notebooks/01-interoperable-apis.ipynb): Goals, REST, RPC, Contract First.\n",
    "- [x] [API modeling with OpenAPI 3](/notebooks/notebooks/02-openapi-3.ipynb)\n",
    "- [x] [The `connexion` framework](/notebooks/notebooks/03-connexion.ipynb),\n",
    "   mocking our API model, returning Problem objects\n",
    "- [x] [Implementing the endpoints without request parameters](/notebooks/notebooks/04-01-connexion-writing-operationid.ipynb) and [with request parameters](http://192.168.1.115:8888/notebooks/notebooks/04-02-connexion-writing-operationid.ipynb)\n",
    "- [x] [Using YAML features and `$ref` to enforce API behavior](/notebooks/notebooks/05-reusing-and-bundling.ipynb)\n",
    "- [x] Authorization: [basic auth](/notebooks/notebooks/06-connexion-authorization-basic.ipynb) \n",
    "- [x] Service management with [interoperabile throttling headers](/notebooks/notebooks/07-connexion-throttling-headers.ipynb)\n",
    "- [x] [Pagination](/notebooks/notebooks/08-pagination.ipynb)\n",
    "- [ ] [Validation intro](/notebooks/notebooks/09-connexion-validation.ipynb)\n",
    "\n",
    "Bonus tracks:\n",
    "\n",
    "- [x] Authorization with JWT\n",
    "\n",
    "\n",
    "## Strategy\n",
    "\n",
    "We will adopt an iterative strategy, progressively:\n",
    "\n",
    "1. introduce more OAS3 features\n",
    "2. write OAS3 specifications\n",
    "3. implement the associated code\n",
    "4. repeat  "
   ]
  },
  {
   "cell_type": "markdown",
   "metadata": {},
   "source": [
    "## Jupyter\n",
    "\n",
    "is the course environment in your browser.\n",
    "\n",
    "It's not a way for not doing your homework ;)\n",
    "\n",
    "You can:\n",
    "\n",
    "  - [open a terminal on the local machine](/terminals/example)\n",
    "  - [edit an existing file](/edit/notebooks/untitled.txt)\n",
    "  - add more cells with `ALT+ENTER`\n",
    "  \n",
    "FIXME: Go to the [basic python course](/tree/notebooks/rendered_notebooks/python-basic)"
   ]
  },
  {
   "cell_type": "markdown",
   "metadata": {},
   "source": [
    "## Course services and directories\n",
    "\n",
    "- IP:`8888/notebooks`  this Jupyter notebook\n",
    "- IP:`8080` the API Documentation Web UI (Swagger UI)\n",
    "- IP:`5000`  the flask application we will execute during the course\n",
    "\n",
    "Once you open the [terminal](/terminal/1) you will find\n",
    "all the course under `/code`.\n",
    "\n",
    "```\n",
    "/code/\n",
    "│   \n",
    "└── notebooks    # All notebooks!\n",
    "    ├── oas3     # OpenAPI specifications, files and exercises\n",
    "    │  \n",
    "    └── startup  # startup files for jupyter, don't touch ;)\n",
    "```\n",
    "\n",
    "## Customizing the flask app\n",
    "\n",
    "To simplify things, during the training we'll run the connexion-flask app with the `connexion run` command. \n",
    "You can always provide a custom `__main__.py` like you normally do with your flask app (eg: enable TLS, ...).\n",
    "\n",
    "Whenever you complete an exercise, you should run\n",
    "\n",
    "```\n",
    "connexion run /code/notebooks/oas3/openapi.yaml\n",
    "```"
   ]
  },
  {
   "cell_type": "markdown",
   "metadata": {},
   "source": [
    "## If you can't do an exercise...\n",
    "\n",
    "During the course we'll write two files:\n",
    "\n",
    "- openapi.yaml with the API specifications;\n",
    "- api.py with the API implementation\n",
    "\n",
    "You can find solutions in the training directory, so if you can't complete your openapi.yaml\n",
    "you can run the solution (which ends with `-ok.yaml` instead, with\n",
    "\n",
    "```\n",
    "connexion run /code/notebooks/oas3/ex-03-02-path-ok.yaml\n",
    "```"
   ]
  },
  {
   "cell_type": "code",
   "execution_count": null,
   "metadata": {},
   "outputs": [],
   "source": [
    "# An API Editor is available at the following address\n",
    "print(oas_editor_url(''))"
   ]
  },
  {
   "cell_type": "code",
   "execution_count": null,
   "metadata": {},
   "outputs": [],
   "source": [
    "# You can evaluate maths and strings\n",
    "s = 1\n",
    "print(\"a string and the number \" + str(s))\n",
    "\n",
    "s = s + 1\n",
    "print(\"now s is increased \" + str(s))"
   ]
  },
  {
   "cell_type": "code",
   "execution_count": null,
   "metadata": {},
   "outputs": [],
   "source": [
    "# Note: all notebooks preload the definitions in \n",
    "!ls -l /root/.ipython/profile_default/startup"
   ]
  },
  {
   "cell_type": "markdown",
   "metadata": {},
   "source": [
    "## Exercises\n",
    "\n",
    "Exercise solutions are folded. You can show them clicking on the `+` sign.\n",
    "\n"
   ]
  },
  {
   "cell_type": "markdown",
   "metadata": {
    "solution": "hidden",
    "solution_first": true
   },
   "source": [
    "### Don't do that :D just try and ...\n"
   ]
  },
  {
   "cell_type": "markdown",
   "metadata": {
    "solution": "hidden"
   },
   "source": [
    "![Do your homework](http://s2.quickmeme.com/img/43/438ccdc454bc53dfe79f6190ee43b2be19bd578ad002426efcf90f7a327cedd1.jpg)"
   ]
  },
  {
   "cell_type": "markdown",
   "metadata": {},
   "source": [
    "## Setup with digitalocean (if you don't have your server)\n",
    "\n",
    "Create a docker-18-04 droplet and `ssh` into it.\n",
    "\n",
    "## Setup example\n",
    "\n",
    "[![asciicast](https://asciinema.org/a/3DhEypBrk3WapL2F5yrcszFZ6.png)](https://asciinema.org/a/3DhEypBrk3WapL2F5yrcszFZ6)\n",
    "\n",
    "\n",
    "## Docker must listen on 172.17.0.1:2735\n",
    "\n",
    "```\n",
    "# vim /etc/systemd/system/multi-user.target.wants/docker.service\n",
    "[Service]\n",
    "...\n",
    "ExecStart=/usr/bin/dockerd -H fd:// -H tcp://172.17.0.1:2375\n",
    "...\n",
    "#wq!\n",
    "\n",
    "systemctl daemon-reload\n",
    "systemctl restart docker\n",
    "```\n",
    "\n",
    "## Clone and start\n",
    "\n",
    "```\n",
    "git clone https://github.com/ioggstream/python-course.git\n",
    "cd python-course/ansible-101\n",
    "make course\n",
    "\n",
    "```\n",
    "\n",
    "## Connect to jupyter\n",
    "\n",
    "```\n",
    "firefox http://43.32.54.212:8888/tree/notebooks/?token=....\n",
    "```\n"
   ]
  },
  {
   "cell_type": "code",
   "execution_count": null,
   "metadata": {
    "solution": "hidden"
   },
   "outputs": [],
   "source": []
  }
 ],
 "metadata": {
  "kernelspec": {
   "display_name": "Python 3",
   "language": "python",
   "name": "python3"
  },
  "language_info": {
   "codemirror_mode": {
    "name": "ipython",
    "version": 3
   },
   "file_extension": ".py",
   "mimetype": "text/x-python",
   "name": "python",
   "nbconvert_exporter": "python",
   "pygments_lexer": "ipython3",
   "version": "3.7.7"
  }
 },
 "nbformat": 4,
 "nbformat_minor": 2
}
