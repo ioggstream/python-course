{
 "cells": [
  {
   "cell_type": "markdown",
   "id": "61a3bfca",
   "metadata": {},
   "source": [
    "# Git - simple repository management\n",
    "\n",
    "## Agenda\n",
    "\n",
    "- VCS intro\n",
    "- tracking modifications\n",
    "- using a local git repository\n",
    "- remote repositories\n",
    "\n",
    "*Beware*: commands contain small typos. You must fix them to properly complete the course!"
   ]
  },
  {
   "cell_type": "markdown",
   "id": "45d099d7",
   "metadata": {
    "slideshow": {
     "slide_type": "slide"
    }
   },
   "source": [
    "---\n",
    "\n",
    "## VCS\n",
    "\n",
    "The importance of tracking changes.\n",
    "\n",
    "VCS basics:\n",
    "\n",
    "- initialize a local repo\n",
    "- change the software\n",
    "- acknowledge (commit) changes\n",
    "- eventually revert changes"
   ]
  },
  {
   "cell_type": "markdown",
   "id": "77b54503",
   "metadata": {
    "slideshow": {
     "slide_type": "slide"
    }
   },
   "source": [
    "---\n",
    "\n",
    "## Tracking modifications\n",
    "\n",
    "Track modifications of our config files without messing\n",
    "with the real /etc."
   ]
  },
  {
   "cell_type": "code",
   "execution_count": null,
   "id": "7d513d13",
   "metadata": {},
   "outputs": [],
   "source": [
    "!mkdir -p /repo-path\n",
    "!cp -v /etc/host* /etc/s* /repo-path"
   ]
  },
  {
   "cell_type": "markdown",
   "id": "89430564",
   "metadata": {},
   "source": [
    "All operations are local to /repo-path"
   ]
  },
  {
   "cell_type": "code",
   "execution_count": null,
   "id": "8b9a05b3",
   "metadata": {},
   "outputs": [],
   "source": [
    "cd /repo-path"
   ]
  },
  {
   "cell_type": "markdown",
   "id": "b2492e7c",
   "metadata": {},
   "source": [
    "Always timestamp backup copies, don't `.ori`."
   ]
  },
  {
   "cell_type": "code",
   "execution_count": null,
   "id": "a814e710",
   "metadata": {},
   "outputs": [],
   "source": [
    "! SIMPLE_BACKUP_SUFFIX=\"$(date -I)\" cp -v -bf hosts hosts\n",
    "!ls -l hosts*"
   ]
  },
  {
   "cell_type": "markdown",
   "id": "232e9cec",
   "metadata": {},
   "source": [
    "Exercise:\n",
    "\n",
    "- what happens if you run the `cp -v -bf hosts hosts` command again?\n",
    "<!-- solution\n",
    "The SIMPLE_BACKUP_SUFFIX is not updated.\n",
    "-->\n",
    "- use `date +%s` to timestamp a backup copy of `hosts`\n",
    "<!-- solution\n",
    "!cp -v -bf hosts hosts.$(date +%s)\n",
    "-->"
   ]
  },
  {
   "cell_type": "code",
   "execution_count": null,
   "id": "87a3a8a5",
   "metadata": {},
   "outputs": [],
   "source": [
    "# Use this cell for the exercise."
   ]
  },
  {
   "cell_type": "markdown",
   "id": "95a26541",
   "metadata": {
    "slideshow": {
     "slide_type": "slide"
    }
   },
   "source": [
    "---\n",
    "\n",
    "## Git\n",
    "\n",
    "A better way of tracking changes.\n",
    "\n",
    "Used to maintain the Linux Kernel.\n",
    "\n",
    "Distributed approach.\n",
    "\n",
    "![Checkout and Push](https://git-scm.com/figures/18333fig0106-tn.png)"
   ]
  },
  {
   "cell_type": "markdown",
   "id": "0c54d7ad",
   "metadata": {
    "slideshow": {
     "slide_type": "slide"
    }
   },
   "source": [
    "---\n",
    "\n",
    "## Tracing requires identification\n",
    "\n",
    "Declare who's modifying files. This will be inserted in\n",
    "the commit."
   ]
  },
  {
   "cell_type": "code",
   "execution_count": null,
   "id": "49224870",
   "metadata": {},
   "outputs": [],
   "source": [
    "!git config --global user.email \"jon@example.com\"\n",
    "!git config --global user.name \"Jon Doe\""
   ]
  },
  {
   "cell_type": "markdown",
   "id": "a035a594",
   "metadata": {},
   "source": [
    "Note: authentication can not be enforced on a local repository."
   ]
  },
  {
   "cell_type": "markdown",
   "id": "0b40ecf4",
   "metadata": {
    "slideshow": {
     "slide_type": "slide"
    }
   },
   "source": [
    "---\n",
    "\n",
    "## Create a repository\n",
    "\n",
    "Track modifications with `git`"
   ]
  },
  {
   "cell_type": "code",
   "execution_count": null,
   "id": "cafd12f0",
   "metadata": {},
   "outputs": [],
   "source": [
    "!git init /repo-path\n",
    "!ls -l /repo-path/.git  # this is the index directory"
   ]
  },
  {
   "cell_type": "markdown",
   "id": "77f33c07",
   "metadata": {},
   "source": [
    "### Exercise\n",
    "\n",
    "- get the previous `git config ... user.email`\n",
    "- remove the `--global` flag  from the previous command\n",
    "- run it"
   ]
  },
  {
   "cell_type": "code",
   "execution_count": null,
   "id": "fba7629a",
   "metadata": {},
   "outputs": [],
   "source": [
    "# Write the command here.\n",
    "\n",
    "\n",
    "# Then, show the git config file.\n",
    "!cat .git/config"
   ]
  },
  {
   "cell_type": "markdown",
   "id": "8b3e351e",
   "metadata": {
    "slideshow": {
     "slide_type": "slide"
    }
   },
   "source": [
    "---\n",
    "\n",
    "Enter in the repo directory and check  the status: there\n",
    "are a lot of files we are not interested in..."
   ]
  },
  {
   "cell_type": "code",
   "execution_count": null,
   "id": "0ac06e94",
   "metadata": {},
   "outputs": [],
   "source": [
    "!git status"
   ]
  },
  {
   "cell_type": "markdown",
   "id": "648e6ad5",
   "metadata": {},
   "source": [
    "`.gitignore` lists the files we're not interested in"
   ]
  },
  {
   "cell_type": "code",
   "execution_count": null,
   "id": "9a16d864",
   "metadata": {},
   "outputs": [],
   "source": [
    "# Ignore all files not starting with \"h\"\n",
    "!echo \"[^h]*\" >> .gitignore\n",
    "!git status"
   ]
  },
  {
   "cell_type": "markdown",
   "id": "d7df661a",
   "metadata": {},
   "source": [
    "Now we trace all `host*` files!"
   ]
  },
  {
   "cell_type": "markdown",
   "id": "f3cb93f9",
   "metadata": {
    "slideshow": {
     "slide_type": "slide"
    }
   },
   "source": [
    "---\n",
    "\n",
    "## Populate the repo\n",
    "\n",
    "Add files to the index"
   ]
  },
  {
   "cell_type": "code",
   "execution_count": null,
   "id": "58b01ddc",
   "metadata": {},
   "outputs": [],
   "source": [
    "!git add hosts"
   ]
  },
  {
   "cell_type": "markdown",
   "id": "4f6287a3",
   "metadata": {},
   "source": [
    "The file is now *staged* for commit. It's not archived though."
   ]
  },
  {
   "cell_type": "code",
   "execution_count": null,
   "id": "03cde4e6",
   "metadata": {},
   "outputs": [],
   "source": [
    "!git status"
   ]
  },
  {
   "cell_type": "markdown",
   "id": "50e38730",
   "metadata": {},
   "source": [
    "Save files to the local index"
   ]
  },
  {
   "cell_type": "code",
   "execution_count": null,
   "id": "d2c7b1d0",
   "metadata": {},
   "outputs": [],
   "source": [
    "!git commit -m \"Initial snapshot of hosts\""
   ]
  },
  {
   "cell_type": "markdown",
   "id": "e0b0233d",
   "metadata": {},
   "source": [
    "![Git areas](https://git-scm.com/images/about/index1@2x.png)"
   ]
  },
  {
   "cell_type": "markdown",
   "id": "ca800655",
   "metadata": {
    "slideshow": {
     "slide_type": "slide"
    }
   },
   "source": [
    "---\n",
    "\n",
    "## Basic workflow\n",
    "\n",
    "Adding a line to the file we discover that"
   ]
  },
  {
   "cell_type": "code",
   "execution_count": null,
   "id": "a3a832c9",
   "metadata": {},
   "outputs": [],
   "source": [
    "!echo \"127.0.0.2  localhost2.localdomain\" >> hosts\n",
    "!git diff hosts"
   ]
  },
  {
   "cell_type": "markdown",
   "id": "2b92dffe",
   "metadata": {},
   "source": [
    "If we like the changes, we can stage them"
   ]
  },
  {
   "cell_type": "code",
   "execution_count": null,
   "id": "640f3472",
   "metadata": {},
   "outputs": [],
   "source": [
    "!git add hosts\n",
    "!git status"
   ]
  },
  {
   "cell_type": "markdown",
   "id": "419b85ce",
   "metadata": {},
   "source": [
    "and finally save them in the repo."
   ]
  },
  {
   "cell_type": "code",
   "execution_count": null,
   "id": "6ec39a6f",
   "metadata": {},
   "outputs": [],
   "source": [
    "!git commit  \"Added localhost2 to hosts\""
   ]
  },
  {
   "cell_type": "markdown",
   "id": "9d47d497",
   "metadata": {
    "slideshow": {
     "slide_type": "slide"
    }
   },
   "source": [
    "---\n",
    "\n",
    "## History changes\n",
    "\n",
    "Now we have an history with two changes, containing:\n",
    "\n",
    "- commit messages\n",
    "- a commit hash\n",
    "\n",
    "`HEAD` is a shorthand for the last commit."
   ]
  },
  {
   "cell_type": "code",
   "execution_count": null,
   "id": "b9178f4b",
   "metadata": {},
   "outputs": [],
   "source": [
    "!git log"
   ]
  },
  {
   "cell_type": "markdown",
   "id": "e0b320dc",
   "metadata": {},
   "source": [
    "![Basic branch](https://git-scm.com/figures/18333fig0310-tn.png)"
   ]
  },
  {
   "cell_type": "markdown",
   "id": "4dcafd72",
   "metadata": {
    "slideshow": {
     "slide_type": "slide"
    }
   },
   "source": [
    "---\n",
    "\n",
    "## Reverting changes\n",
    "\n",
    "We can revert a change using the hash or an history log"
   ]
  },
  {
   "cell_type": "code",
   "execution_count": null,
   "id": "c4ff84f1",
   "metadata": {},
   "outputs": [],
   "source": [
    "# revert the \"hosts\" file\n",
    "# to the previous commit\n",
    "!git checkout HEAD~1 -- hosts"
   ]
  },
  {
   "cell_type": "markdown",
   "id": "3111f925",
   "metadata": {
    "slideshow": {
     "slide_type": "slide"
    }
   },
   "source": [
    "---\n",
    "\n",
    "## Cheatsheet\n",
    "\n",
    "Now some git commands, but first create a dir."
   ]
  },
  {
   "cell_type": "code",
   "execution_count": null,
   "id": "5909beea",
   "metadata": {},
   "outputs": [],
   "source": [
    "!mkdir -p /repo-path\n",
    "!date >> /repo-path/file.txt\n",
    "!date >> /repo-path/hi.txt"
   ]
  },
  {
   "cell_type": "markdown",
   "id": "920ca2b4",
   "metadata": {},
   "source": [
    "---"
   ]
  },
  {
   "cell_type": "code",
   "execution_count": null,
   "id": "e01ac680",
   "metadata": {},
   "outputs": [],
   "source": [
    "!git init /repo-path    # Initialize repo eventually creating a directory\n",
    "!git add /repo-path/hi.txt # Add file to index\n",
    "!git commit -m \"My changes\"  # Save changes"
   ]
  },
  {
   "cell_type": "markdown",
   "id": "82ae79fe",
   "metadata": {},
   "source": [
    "### Exercise\n",
    "\n",
    "- add `file.txt` to the index and commit"
   ]
  },
  {
   "cell_type": "code",
   "execution_count": null,
   "id": "6d3c9442",
   "metadata": {},
   "outputs": [],
   "source": [
    "# Use this cell for the exercise"
   ]
  },
  {
   "cell_type": "markdown",
   "id": "60cfa8c0",
   "metadata": {},
   "source": [
    "---"
   ]
  },
  {
   "cell_type": "code",
   "execution_count": null,
   "id": "e72b017e",
   "metadata": {},
   "outputs": [],
   "source": [
    "!date >> /repo-path/file.txt\n",
    "!git diff\n",
    "!git commit -a -m \"Save all previously added files\""
   ]
  },
  {
   "cell_type": "markdown",
   "id": "7a686d7c",
   "metadata": {},
   "source": [
    "---"
   ]
  },
  {
   "cell_type": "code",
   "execution_count": null,
   "id": "96169b79",
   "metadata": {},
   "outputs": [],
   "source": [
    "# show changes\n",
    "!git log /repo-path/file.txt"
   ]
  },
  {
   "cell_type": "code",
   "execution_count": null,
   "id": "654b2a21",
   "metadata": {},
   "outputs": [],
   "source": [
    "# revert file\n",
    "!git checkout HEAD~1 -- file.txt"
   ]
  },
  {
   "cell_type": "code",
   "execution_count": null,
   "id": "67c4d4ba",
   "metadata": {},
   "outputs": [],
   "source": [
    "# diff with the reverted file\n",
    "!git diff HEAD"
   ]
  },
  {
   "cell_type": "code",
   "execution_count": null,
   "id": "62d59644",
   "metadata": {},
   "outputs": [],
   "source": [
    "# get *all files* from the latest commit\n",
    "!git checkout HEAD -- ."
   ]
  },
  {
   "cell_type": "markdown",
   "id": "4a98625a",
   "metadata": {
    "slideshow": {
     "slide_type": "slide"
    }
   },
   "source": [
    "---\n",
    "\n",
    "## Tags & Branches\n",
    "\n",
    "When writing code and configuration we may want to follow\n",
    "different strategies and save our different attempts.\n",
    "\n",
    "- *tag*  makes an unmodifiable snapshot of the repo instead."
   ]
  },
  {
   "cell_type": "code",
   "execution_count": null,
   "id": "462371dd",
   "metadata": {},
   "outputs": [],
   "source": [
    "!git tag myconfig-v1 # create a tag\n",
    "!git tag -l    # list tags"
   ]
  },
  {
   "cell_type": "markdown",
   "id": "ea4a6801",
   "metadata": {},
   "source": [
    "- *branch* create a modifiable copy of the code, allowing\n",
    "     to save and work on different features\n",
    "\n",
    "![Branches](https://git-scm.com/figures/18333fig0313-tn.png)"
   ]
  },
  {
   "cell_type": "markdown",
   "id": "3b15b5cf",
   "metadata": {
    "slideshow": {
     "slide_type": "slide"
    }
   },
   "source": [
    "---\n",
    "\n",
    "## Branches\n",
    "\n",
    "`master` is the default branch"
   ]
  },
  {
   "cell_type": "code",
   "execution_count": null,
   "id": "e146c866",
   "metadata": {},
   "outputs": [],
   "source": [
    "!git branch -a"
   ]
  },
  {
   "cell_type": "markdown",
   "id": "1375b30e",
   "metadata": {},
   "source": [
    "Create a branch"
   ]
  },
  {
   "cell_type": "code",
   "execution_count": null,
   "id": "362ab51e",
   "metadata": {},
   "outputs": [],
   "source": [
    "!git checkout -b work-on-my-changes"
   ]
  },
  {
   "cell_type": "markdown",
   "id": "1efb0cb3",
   "metadata": {},
   "source": [
    "List the branches again, check the active one!"
   ]
  },
  {
   "cell_type": "code",
   "execution_count": null,
   "id": "11015f86",
   "metadata": {},
   "outputs": [],
   "source": [
    "!git branch -a"
   ]
  },
  {
   "cell_type": "markdown",
   "id": "92700250",
   "metadata": {
    "slideshow": {
     "slide_type": "slide"
    }
   },
   "source": [
    "---\n",
    "\n",
    "Modify a file in a branch"
   ]
  },
  {
   "cell_type": "code",
   "execution_count": null,
   "id": "107e3b9d",
   "metadata": {},
   "outputs": [],
   "source": [
    "!date > new-file.txt\n",
    "!git add new-file.txt"
   ]
  },
  {
   "cell_type": "markdown",
   "id": "7774e258",
   "metadata": {},
   "source": [
    "With commit we consolidate the new file in the branch"
   ]
  },
  {
   "cell_type": "code",
   "execution_count": null,
   "id": "e4a08718",
   "metadata": {},
   "outputs": [],
   "source": [
    "!git commit -m \"Added a new file\""
   ]
  },
  {
   "cell_type": "markdown",
   "id": "b794f588",
   "metadata": {
    "slideshow": {
     "slide_type": "slide"
    }
   },
   "source": [
    "---\n",
    "\n",
    "Compare branches"
   ]
  },
  {
   "cell_type": "code",
   "execution_count": null,
   "id": "4626e833",
   "metadata": {},
   "outputs": [],
   "source": [
    "!git diff mister"
   ]
  },
  {
   "cell_type": "markdown",
   "id": "94295ac2",
   "metadata": {},
   "source": [
    "Diff supports some parameters"
   ]
  },
  {
   "cell_type": "code",
   "execution_count": null,
   "id": "ef624d58",
   "metadata": {},
   "outputs": [],
   "source": [
    "!git diff --ignore-all-space master"
   ]
  },
  {
   "cell_type": "markdown",
   "id": "01afa918",
   "metadata": {
    "slideshow": {
     "slide_type": "slide"
    }
   },
   "source": [
    "---\n",
    "\n",
    "We can now switch between branches"
   ]
  },
  {
   "cell_type": "code",
   "execution_count": null,
   "id": "ce59dbd8",
   "metadata": {},
   "outputs": [],
   "source": [
    "!git checkout master\n",
    "!cat new-file.txt"
   ]
  },
  {
   "cell_type": "markdown",
   "id": "b6ea0767",
   "metadata": {},
   "source": [
    "And switch back"
   ]
  },
  {
   "cell_type": "code",
   "execution_count": null,
   "id": "4d73a154",
   "metadata": {},
   "outputs": [],
   "source": [
    "!git checkout work-on-my-changes\n",
    "!cat new-file.txt"
   ]
  },
  {
   "cell_type": "markdown",
   "id": "95550e38",
   "metadata": {
    "slideshow": {
     "slide_type": "slide"
    }
   },
   "source": [
    "---\n",
    "\n",
    "### Exercise\n",
    "\n",
    "- Create a new branch named `foobar`\n",
    "- modify `new-file.txt` as you please\n",
    "- [open a terminal](/terminals/git), and use `git add -p` to stage the changes. What does it do?\n",
    "- commit the changes"
   ]
  },
  {
   "cell_type": "code",
   "execution_count": null,
   "id": "a7f699a9",
   "metadata": {},
   "outputs": [],
   "source": [
    "# Use this cell for the exercise"
   ]
  },
  {
   "cell_type": "markdown",
   "id": "8f4c0860",
   "metadata": {
    "slideshow": {
     "slide_type": "slide"
    }
   },
   "source": [
    "---\n",
    "\n",
    "## Checkout troubleshooting\n",
    "\n",
    "If you change a file, git won't make you checkout\n",
    "to avoid overwriting unsaved changes."
   ]
  },
  {
   "cell_type": "code",
   "execution_count": null,
   "id": "bf3f5c71",
   "metadata": {},
   "outputs": [],
   "source": [
    "!date >> new-file.txt\n",
    "!git checkout master"
   ]
  },
  {
   "cell_type": "markdown",
   "id": "25f26a2e",
   "metadata": {},
   "source": [
    "You have to remove the changes or commit them (in another branch too)"
   ]
  },
  {
   "cell_type": "code",
   "execution_count": null,
   "id": "f3e93b06",
   "metadata": {},
   "outputs": [],
   "source": [
    "# Use this cell for the exercise."
   ]
  },
  {
   "cell_type": "markdown",
   "id": "fb89a405",
   "metadata": {
    "slideshow": {
     "slide_type": "slide"
    }
   },
   "source": [
    "---\n",
    "\n",
    "## Merge\n",
    "\n",
    "Once we have consolidated some changes (e.g., test, ...)\n",
    "we can *merge* the changes into the master branch"
   ]
  },
  {
   "cell_type": "code",
   "execution_count": null,
   "id": "988da588",
   "metadata": {},
   "outputs": [],
   "source": [
    "!git checkout master"
   ]
  },
  {
   "cell_type": "markdown",
   "id": "25d00022",
   "metadata": {},
   "source": [
    "Before merging, we have to check the differences"
   ]
  },
  {
   "cell_type": "code",
   "execution_count": null,
   "id": "816f4fd7",
   "metadata": {},
   "outputs": [],
   "source": [
    "!git diff work-on-my-changes"
   ]
  },
  {
   "cell_type": "markdown",
   "id": "551398d1",
   "metadata": {},
   "source": [
    "And finally merge"
   ]
  },
  {
   "cell_type": "code",
   "execution_count": null,
   "id": "44d149f1",
   "metadata": {},
   "outputs": [],
   "source": [
    "!git merge work-on-my-changes"
   ]
  },
  {
   "cell_type": "markdown",
   "id": "ff845c8f",
   "metadata": {},
   "source": [
    "After a merge, if the branch is no more useful, we can remove it.\n",
    "Note: before deleting a branch, you can double-check available\n",
    "branches with `git branch -a`."
   ]
  },
  {
   "cell_type": "code",
   "execution_count": null,
   "id": "216e8606",
   "metadata": {},
   "outputs": [],
   "source": [
    "!git branch -d work-on-changes"
   ]
  },
  {
   "cell_type": "markdown",
   "id": "7c9fa183",
   "metadata": {},
   "source": [
    "If there are unmerged changes, git doesn't allow deleting a branch.\n",
    "\n",
    "Exercise:\n",
    "\n",
    "- use `git branch -d` to remove the `foobar` branch\n",
    "- what happens?\n",
    "- replace `-d` with `-D`. Does it work now?"
   ]
  },
  {
   "cell_type": "code",
   "execution_count": null,
   "id": "b36f9a33",
   "metadata": {},
   "outputs": [],
   "source": [
    "# use this cell for the exrcise\n"
   ]
  },
  {
   "cell_type": "markdown",
   "id": "ea6ab016",
   "metadata": {
    "slideshow": {
     "slide_type": "slide"
    }
   },
   "source": [
    "---\n",
    "\n",
    "## Selective adding\n",
    "\n",
    "Using an interactive [terminal](/terminals/git-partial) you can stage partial changes with:"
   ]
  },
  {
   "cell_type": "code",
   "execution_count": null,
   "id": "59cd9ed0",
   "metadata": {
    "attributes": {
     "classes": [
      "text"
     ],
     "id": ""
    }
   },
   "outputs": [],
   "source": [
    "git add -p"
   ]
  },
  {
   "cell_type": "markdown",
   "id": "81c160e8",
   "metadata": {
    "slideshow": {
     "slide_type": "slide"
    }
   },
   "source": [
    "---\n",
    "\n",
    "## Remote repositories\n",
    "\n",
    "Remote repos may be either https, ssh or files."
   ]
  },
  {
   "cell_type": "code",
   "execution_count": null,
   "id": "68e9d429",
   "metadata": {},
   "outputs": [],
   "source": [
    "! mkdir -p /repo-tmp && cd /repo-tmp && pwd # use another directory ;)"
   ]
  },
  {
   "cell_type": "markdown",
   "id": "b93f6e9e",
   "metadata": {},
   "source": [
    "Exercise:\n",
    "\n",
    "- what happens in the following cell?"
   ]
  },
  {
   "cell_type": "code",
   "execution_count": null,
   "id": "657b5177",
   "metadata": {},
   "outputs": [],
   "source": [
    "!pwd"
   ]
  },
  {
   "cell_type": "markdown",
   "id": "c367c17d",
   "metadata": {},
   "source": [
    "Go to the correct directory now."
   ]
  },
  {
   "cell_type": "code",
   "execution_count": null,
   "id": "6821d4f8",
   "metadata": {},
   "outputs": [],
   "source": [
    "cd /repo-tmp"
   ]
  },
  {
   "cell_type": "markdown",
   "id": "71ff4c26",
   "metadata": {
    "slideshow": {
     "slide_type": "slide"
    }
   },
   "source": [
    "---\n",
    "\n",
    "### https repo\n",
    "\n",
    "Git clone downloads a remote repo, with all its changes and history.\n",
    "Try with a remote https repo."
   ]
  },
  {
   "cell_type": "code",
   "execution_count": null,
   "id": "a0209a8c",
   "metadata": {},
   "outputs": [],
   "source": [
    "!git clone https://github.com/ioggstream/python-course/ python-course"
   ]
  },
  {
   "cell_type": "markdown",
   "id": "9c01d650",
   "metadata": {},
   "source": [
    "Now enter in the repo directory"
   ]
  },
  {
   "cell_type": "code",
   "execution_count": null,
   "id": "66963bf3",
   "metadata": {},
   "outputs": [],
   "source": [
    "cd /repo-tmp/python-course"
   ]
  },
  {
   "cell_type": "markdown",
   "id": "840eb376",
   "metadata": {},
   "source": [
    "Show repository configuration. Which is the remote origin?"
   ]
  },
  {
   "cell_type": "code",
   "execution_count": null,
   "id": "f79866fe",
   "metadata": {},
   "outputs": [],
   "source": [
    "!git config -l"
   ]
  },
  {
   "cell_type": "markdown",
   "id": "ec7e864d",
   "metadata": {},
   "source": [
    "The remote repo is retrieved with all its changes and history"
   ]
  },
  {
   "cell_type": "code",
   "execution_count": null,
   "id": "d3b9d69f",
   "metadata": {},
   "outputs": [],
   "source": [
    "! du -ms .git"
   ]
  },
  {
   "cell_type": "markdown",
   "id": "496bc04e",
   "metadata": {},
   "source": [
    "And `log` can show branches and merges."
   ]
  },
  {
   "cell_type": "code",
   "execution_count": null,
   "id": "5322c826",
   "metadata": {},
   "outputs": [],
   "source": [
    "!git log --graph"
   ]
  },
  {
   "cell_type": "markdown",
   "id": "b9055667",
   "metadata": {
    "slideshow": {
     "slide_type": "slide"
    }
   },
   "source": [
    "---\n",
    "\n",
    "### file repo\n",
    "\n",
    "A local repo can be cloned too, and has the same features\n",
    "of a remote one. It's actually a remote `file://` uri."
   ]
  },
  {
   "cell_type": "code",
   "execution_count": null,
   "id": "8b157cce",
   "metadata": {},
   "outputs": [],
   "source": [
    "!git clone /repo-tmp/python-course /repo-tmp/my-course"
   ]
  },
  {
   "cell_type": "markdown",
   "id": "07e8235e",
   "metadata": {},
   "source": [
    "Now move to the new directory"
   ]
  },
  {
   "cell_type": "code",
   "execution_count": null,
   "id": "26de2f34",
   "metadata": {},
   "outputs": [],
   "source": [
    "cd /repo-tmp/my-course"
   ]
  },
  {
   "cell_type": "markdown",
   "id": "9f4cb9b9",
   "metadata": {},
   "source": [
    "Show repository configuration. Which is the remote origin?"
   ]
  },
  {
   "cell_type": "code",
   "execution_count": null,
   "id": "9cee008f",
   "metadata": {},
   "outputs": [],
   "source": [
    "!git config -l"
   ]
  },
  {
   "cell_type": "markdown",
   "id": "78a7e81f",
   "metadata": {
    "slideshow": {
     "slide_type": "slide"
    }
   },
   "source": [
    "---\n",
    "\n",
    "## Pull & push\n",
    "\n",
    "You can add new files to a repo with the above workflow:\n",
    "\n",
    "- create a branch with `git checkout -b test-1`\n",
    "- add a new file\n",
    "- stage changes with `git add`\n",
    "- commit with `git commit`"
   ]
  },
  {
   "cell_type": "code",
   "execution_count": null,
   "id": "eea299f9",
   "metadata": {},
   "outputs": [],
   "source": [
    "# Use this cell for the exercise"
   ]
  },
  {
   "cell_type": "markdown",
   "id": "e37f4e49",
   "metadata": {},
   "source": [
    "Now that your changes are on your local repo, you can synchronize / upload them to the remote copy\n",
    "with:"
   ]
  },
  {
   "cell_type": "code",
   "execution_count": null,
   "id": "23dfa380",
   "metadata": {},
   "outputs": [],
   "source": [
    "!git push origin test-1"
   ]
  },
  {
   "cell_type": "markdown",
   "id": "10786c4e",
   "metadata": {},
   "source": [
    "Remember:\n",
    "\n",
    "- origin is the URI specified by `git config -l`\n",
    "- `test-1` is the branch name where you want to upload\n",
    "\n",
    "To upload changes to the remote master (default) branch, you need to\n",
    "\n",
    "- merge the changes to your local master"
   ]
  },
  {
   "cell_type": "code",
   "execution_count": null,
   "id": "f33a14ea",
   "metadata": {},
   "outputs": [],
   "source": [
    "!git checkout master"
   ]
  },
  {
   "cell_type": "markdown",
   "id": "7a4005eb",
   "metadata": {},
   "source": [
    "Check the differences"
   ]
  },
  {
   "cell_type": "code",
   "execution_count": null,
   "id": "65f8afcc",
   "metadata": {},
   "outputs": [],
   "source": [
    "!git diff test-1"
   ]
  },
  {
   "cell_type": "markdown",
   "id": "f7709b9f",
   "metadata": {},
   "source": [
    "And finally merge"
   ]
  },
  {
   "cell_type": "code",
   "execution_count": null,
   "id": "5fe9627b",
   "metadata": {},
   "outputs": [],
   "source": [
    "!git merge test-1"
   ]
  },
  {
   "cell_type": "markdown",
   "id": "affb4021",
   "metadata": {},
   "source": [
    "Exercise:\n",
    "\n",
    "- check the master history;\n",
    "- check the difference with the last commit.\n",
    "\n",
    "\n",
    "Finally, push changes to `origin/master`"
   ]
  },
  {
   "cell_type": "code",
   "execution_count": null,
   "id": "f9befedb",
   "metadata": {},
   "outputs": [],
   "source": [
    "!git push origin master"
   ]
  },
  {
   "cell_type": "markdown",
   "id": "aa483f7a",
   "metadata": {},
   "source": [
    "To make it work, you need to be authenticated/authorized with the remote repo ;)"
   ]
  }
 ],
 "metadata": {},
 "nbformat": 4,
 "nbformat_minor": 5
}
