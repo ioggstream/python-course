{
 "cells": [
  {
   "cell_type": "markdown",
   "id": "295385de",
   "metadata": {},
   "source": [
    "# Git - simple repository management\n",
    "\n",
    "## Agenda\n",
    "\n",
    "- VCS intro\n",
    "- tracking modifications\n",
    "- using a local git repository\n",
    "- remote repositories\n",
    "\n",
    "*Beware*: commands contain small typos. You must fix them to properly complete the course!"
   ]
  },
  {
   "cell_type": "markdown",
   "id": "2de55476",
   "metadata": {
    "slideshow": {
     "slide_type": "slide"
    }
   },
   "source": [
    "---\n",
    "\n",
    "## VCS\n",
    "\n",
    "The importance of tracking changes.\n",
    "\n",
    "VCS basics:\n",
    "\n",
    "- initialize a local repo\n",
    "- change the software\n",
    "- acknowledge (commit) changes\n",
    "- eventually revert changes"
   ]
  },
  {
   "cell_type": "markdown",
   "id": "17bef8be",
   "metadata": {
    "slideshow": {
     "slide_type": "slide"
    }
   },
   "source": [
    "---\n",
    "\n",
    "## Tracking modifications\n",
    "\n",
    "Track modifications of our config files without messing\n",
    "with the real /etc."
   ]
  },
  {
   "cell_type": "code",
   "execution_count": null,
   "id": "ad249a7f",
   "metadata": {},
   "outputs": [],
   "source": [
    "!mkdir -p /repo-path\n",
    "!cp -v /etc/host* /etc/s* /repo-path"
   ]
  },
  {
   "cell_type": "markdown",
   "id": "9af65a45",
   "metadata": {},
   "source": [
    "All operations are local to /repo-path"
   ]
  },
  {
   "cell_type": "code",
   "execution_count": null,
   "id": "a6f3fb9f",
   "metadata": {},
   "outputs": [],
   "source": [
    "cd /repo-path"
   ]
  },
  {
   "cell_type": "markdown",
   "id": "587bd117",
   "metadata": {},
   "source": [
    "Always timestamp backup copies, don't `.ori`."
   ]
  },
  {
   "cell_type": "code",
   "execution_count": null,
   "id": "8428f513",
   "metadata": {},
   "outputs": [],
   "source": [
    "! SIMPLE_BACKUP_SUFFIX=\"$(date -I)\" cp -v -bf hosts hosts\n",
    "!ls -l hosts*"
   ]
  },
  {
   "cell_type": "markdown",
   "id": "c6da066e",
   "metadata": {},
   "source": [
    "Exercise:\n",
    "\n",
    "- what happens if you run the `cp -v -bf hosts hosts` command again?\n",
    "<!-- solution\n",
    "The SIMPLE_BACKUP_SUFFIX is not updated.\n",
    "-->\n",
    "- use `date +%s` to timestamp a backup copy of `hosts`\n",
    "<!-- solution\n",
    "!cp -v -bf hosts hosts.$(date +%s)\n",
    "-->"
   ]
  },
  {
   "cell_type": "code",
   "execution_count": null,
   "id": "89cab394",
   "metadata": {},
   "outputs": [],
   "source": [
    "# Use this cell for the exercise."
   ]
  },
  {
   "cell_type": "markdown",
   "id": "93c15561",
   "metadata": {
    "slideshow": {
     "slide_type": "slide"
    }
   },
   "source": [
    "---\n",
    "\n",
    "## Git\n",
    "\n",
    "A better way of tracking changes.\n",
    "\n",
    "Used to maintain the Linux Kernel.\n",
    "\n",
    "Distributed approach.\n",
    "\n",
    "![Checkout and Push](https://git-scm.com/figures/18333fig0106-tn.png)"
   ]
  },
  {
   "cell_type": "markdown",
   "id": "d8f61172",
   "metadata": {
    "slideshow": {
     "slide_type": "slide"
    }
   },
   "source": [
    "---\n",
    "\n",
    "## Tracing requires identification\n",
    "\n",
    "Declare who's modifying files. This will be inserted in\n",
    "the commit."
   ]
  },
  {
   "cell_type": "code",
   "execution_count": null,
   "id": "ff3ec4aa",
   "metadata": {},
   "outputs": [],
   "source": [
    "!git config --global user.email \"jon@example.com\"\n",
    "!git config --global user.name \"Jon Doe\""
   ]
  },
  {
   "cell_type": "markdown",
   "id": "0671bd45",
   "metadata": {},
   "source": [
    "Note: authentication can not be enforced on a local repository."
   ]
  },
  {
   "cell_type": "markdown",
   "id": "2bfdfe4c",
   "metadata": {
    "slideshow": {
     "slide_type": "slide"
    }
   },
   "source": [
    "---\n",
    "\n",
    "## Create a repository\n",
    "\n",
    "Track modifications with `git`"
   ]
  },
  {
   "cell_type": "code",
   "execution_count": null,
   "id": "a325a5f4",
   "metadata": {},
   "outputs": [],
   "source": [
    "!git init /repo-path\n",
    "!ls -l /repo-path/.git  # this is the index directory"
   ]
  },
  {
   "cell_type": "markdown",
   "id": "df357555",
   "metadata": {},
   "source": [
    "### Exercise\n",
    "\n",
    "- get the previous `git config ... user.email`\n",
    "- remove the `--global` flag  from the previous command\n",
    "- run it"
   ]
  },
  {
   "cell_type": "code",
   "execution_count": null,
   "id": "f107953e",
   "metadata": {},
   "outputs": [],
   "source": [
    "# Write the command here.\n",
    "\n",
    "\n",
    "# Then, show the git config file.\n",
    "!cat .git/config"
   ]
  },
  {
   "cell_type": "markdown",
   "id": "9aa812a6",
   "metadata": {
    "slideshow": {
     "slide_type": "slide"
    }
   },
   "source": [
    "---\n",
    "\n",
    "Enter in the repo directory and check  the status: there\n",
    "are a lot of files we are not interested in..."
   ]
  },
  {
   "cell_type": "code",
   "execution_count": null,
   "id": "78dc8089",
   "metadata": {},
   "outputs": [],
   "source": [
    "!git status"
   ]
  },
  {
   "cell_type": "markdown",
   "id": "104cadef",
   "metadata": {},
   "source": [
    "`.gitignore` lists the files we're not interested in"
   ]
  },
  {
   "cell_type": "code",
   "execution_count": null,
   "id": "ebbbf2ee",
   "metadata": {},
   "outputs": [],
   "source": [
    "# Ignore all files not starting with \"h\"\n",
    "!echo \"[^h]*\" >> .gitignore\n",
    "!git status"
   ]
  },
  {
   "cell_type": "markdown",
   "id": "18f0912a",
   "metadata": {},
   "source": [
    "Now we trace all `host*` files!"
   ]
  },
  {
   "cell_type": "markdown",
   "id": "9d01763c",
   "metadata": {
    "slideshow": {
     "slide_type": "slide"
    }
   },
   "source": [
    "---\n",
    "\n",
    "## Populate the repo\n",
    "\n",
    "Add files to the index"
   ]
  },
  {
   "cell_type": "code",
   "execution_count": null,
   "id": "8668827f",
   "metadata": {},
   "outputs": [],
   "source": [
    "!git add hosts"
   ]
  },
  {
   "cell_type": "markdown",
   "id": "bf7b45cd",
   "metadata": {},
   "source": [
    "The file is now *staged* for commit. It's not archived though."
   ]
  },
  {
   "cell_type": "code",
   "execution_count": null,
   "id": "338844fb",
   "metadata": {},
   "outputs": [],
   "source": [
    "!git status"
   ]
  },
  {
   "cell_type": "markdown",
   "id": "8402608a",
   "metadata": {},
   "source": [
    "Save files to the local index"
   ]
  },
  {
   "cell_type": "code",
   "execution_count": null,
   "id": "be0d11d1",
   "metadata": {},
   "outputs": [],
   "source": [
    "!git commit -m \"Initial snapshot of hosts\""
   ]
  },
  {
   "cell_type": "markdown",
   "id": "97671598",
   "metadata": {},
   "source": [
    "![Git areas](https://git-scm.com/images/about/index1@2x.png)"
   ]
  },
  {
   "cell_type": "markdown",
   "id": "778eb751",
   "metadata": {
    "slideshow": {
     "slide_type": "slide"
    }
   },
   "source": [
    "---\n",
    "\n",
    "## Basic workflow\n",
    "\n",
    "Adding a line to the file we discover that"
   ]
  },
  {
   "cell_type": "code",
   "execution_count": null,
   "id": "9ac08061",
   "metadata": {},
   "outputs": [],
   "source": [
    "!echo \"127.0.0.2  localhost2.localdomain\" >> hosts\n",
    "!git diff hosts"
   ]
  },
  {
   "cell_type": "markdown",
   "id": "f7111d21",
   "metadata": {},
   "source": [
    "If we like the changes, we can stage them"
   ]
  },
  {
   "cell_type": "code",
   "execution_count": null,
   "id": "ae319754",
   "metadata": {},
   "outputs": [],
   "source": [
    "!git add hosts\n",
    "!git status"
   ]
  },
  {
   "cell_type": "markdown",
   "id": "d483a2d7",
   "metadata": {},
   "source": [
    "and finally save them in the repo."
   ]
  },
  {
   "cell_type": "code",
   "execution_count": null,
   "id": "9d9ea95b",
   "metadata": {},
   "outputs": [],
   "source": [
    "!git commit  \"Added localhost2 to hosts\""
   ]
  },
  {
   "cell_type": "markdown",
   "id": "d88f260d",
   "metadata": {},
   "source": [
    "Exercise: what is the result of the previous command?\n",
    "\n",
    "<!-- solution\n",
    "git commit -m \"Added localhost2 to hosts\"\n",
    "-->"
   ]
  },
  {
   "cell_type": "markdown",
   "id": "61b49fab",
   "metadata": {
    "slideshow": {
     "slide_type": "slide"
    }
   },
   "source": [
    "---\n",
    "\n",
    "## History changes\n",
    "\n",
    "Now we have an history with two changes, containing:\n",
    "\n",
    "- commit messages\n",
    "- a commit hash\n",
    "\n",
    "`HEAD` is a shorthand for the last commit."
   ]
  },
  {
   "cell_type": "code",
   "execution_count": null,
   "id": "818bb24b",
   "metadata": {},
   "outputs": [],
   "source": [
    "!git log"
   ]
  },
  {
   "cell_type": "markdown",
   "id": "830e55ba",
   "metadata": {},
   "source": [
    "![Basic branch](https://git-scm.com/figures/18333fig0310-tn.png)"
   ]
  },
  {
   "cell_type": "markdown",
   "id": "6cadf2c2",
   "metadata": {
    "slideshow": {
     "slide_type": "slide"
    }
   },
   "source": [
    "---\n",
    "\n",
    "## Reverting changes\n",
    "\n",
    "We can revert a change using the hash or an history log"
   ]
  },
  {
   "cell_type": "code",
   "execution_count": null,
   "id": "e73cd005",
   "metadata": {},
   "outputs": [],
   "source": [
    "# revert the \"hosts\" file\n",
    "# to the previous commit\n",
    "!git checkout HEAD~1 -- hosts"
   ]
  },
  {
   "cell_type": "markdown",
   "id": "1ff848fc",
   "metadata": {
    "slideshow": {
     "slide_type": "slide"
    }
   },
   "source": [
    "---\n",
    "\n",
    "## Cheatsheet\n",
    "\n",
    "Now some git commands, but first create a dir."
   ]
  },
  {
   "cell_type": "code",
   "execution_count": null,
   "id": "593d33d0",
   "metadata": {},
   "outputs": [],
   "source": [
    "!mkdir -p /repo-path\n",
    "!date >> /repo-path/file.txt\n",
    "!date >> /repo-path/hi.txt"
   ]
  },
  {
   "cell_type": "markdown",
   "id": "8a909ea6",
   "metadata": {},
   "source": [
    "---"
   ]
  },
  {
   "cell_type": "code",
   "execution_count": null,
   "id": "b2c406c7",
   "metadata": {},
   "outputs": [],
   "source": [
    "!git init /repo-path    # Initialize repo eventually creating a directory\n",
    "!git add /repo-path/hi.txt # Add file to index\n",
    "!git commit -m \"My changes\"  # Save changes"
   ]
  },
  {
   "cell_type": "markdown",
   "id": "1c7c2342",
   "metadata": {},
   "source": [
    "### Exercise\n",
    "\n",
    "- add `file.txt` to the index and commit"
   ]
  },
  {
   "cell_type": "code",
   "execution_count": null,
   "id": "862d3d0f",
   "metadata": {},
   "outputs": [],
   "source": [
    "# Use this cell for the exercise"
   ]
  },
  {
   "cell_type": "markdown",
   "id": "5ba2c449",
   "metadata": {},
   "source": [
    "Don't check the solution :)\n",
    "\n",
    "<!-- solution\n",
    "git add -f file.txt\n",
    "git commit -m \"Add file.txt\"\n",
    "-->"
   ]
  },
  {
   "cell_type": "code",
   "execution_count": null,
   "id": "0e34ae1d",
   "metadata": {},
   "outputs": [],
   "source": [
    "!date >> /repo-path/file.txt\n",
    "!git diff\n",
    "!git commit -a -m \"Save all previously added files\""
   ]
  },
  {
   "cell_type": "markdown",
   "id": "b4dc6806",
   "metadata": {},
   "source": [
    "---"
   ]
  },
  {
   "cell_type": "code",
   "execution_count": null,
   "id": "30d7e8d2",
   "metadata": {},
   "outputs": [],
   "source": [
    "# show changes\n",
    "!git log /repo-path/file.txt"
   ]
  },
  {
   "cell_type": "markdown",
   "id": "49ec0546",
   "metadata": {},
   "source": [
    "Hint: if you completed all the previous exercises,\n",
    "you should have at least two commits in the history!"
   ]
  },
  {
   "cell_type": "code",
   "execution_count": null,
   "id": "540f265f",
   "metadata": {},
   "outputs": [],
   "source": [
    "# revert file\n",
    "!git checkout HEAD~1 -- file.txt"
   ]
  },
  {
   "cell_type": "markdown",
   "id": "76970bc1",
   "metadata": {},
   "source": [
    "Hint: if the previous command didn't work,\n",
    "ensure you have completed all the previous exercises."
   ]
  },
  {
   "cell_type": "code",
   "execution_count": null,
   "id": "8b2d0cd1",
   "metadata": {},
   "outputs": [],
   "source": [
    "# diff with the reverted file\n",
    "!git diff HEAD"
   ]
  },
  {
   "cell_type": "code",
   "execution_count": null,
   "id": "8abfdd48",
   "metadata": {},
   "outputs": [],
   "source": [
    "# get *all files* from the latest commit\n",
    "!git checkout HEAD -- ."
   ]
  },
  {
   "cell_type": "markdown",
   "id": "d0235344",
   "metadata": {
    "slideshow": {
     "slide_type": "slide"
    }
   },
   "source": [
    "---\n",
    "\n",
    "## Tags & Branches\n",
    "\n",
    "When writing code and configuration we may want to follow\n",
    "different strategies and save our different attempts.\n",
    "\n",
    "- *tag*  makes an unmodifiable snapshot of the repo instead."
   ]
  },
  {
   "cell_type": "code",
   "execution_count": null,
   "id": "a3ee2e68",
   "metadata": {},
   "outputs": [],
   "source": [
    "!git tag myconfig-v1 # create a tag\n",
    "!git tag -l    # list tags"
   ]
  },
  {
   "cell_type": "markdown",
   "id": "3212ef4c",
   "metadata": {},
   "source": [
    "- *branch* create a modifiable copy of the code, allowing\n",
    "     to save and work on different features\n",
    "\n",
    "![Branches](https://git-scm.com/figures/18333fig0313-tn.png)"
   ]
  },
  {
   "cell_type": "markdown",
   "id": "9f26036d",
   "metadata": {
    "slideshow": {
     "slide_type": "slide"
    }
   },
   "source": [
    "---\n",
    "\n",
    "## Branches\n",
    "\n",
    "`master` is the default branch"
   ]
  },
  {
   "cell_type": "code",
   "execution_count": null,
   "id": "b36b84fc",
   "metadata": {},
   "outputs": [],
   "source": [
    "!git branch -a"
   ]
  },
  {
   "cell_type": "markdown",
   "id": "7790a34a",
   "metadata": {},
   "source": [
    "Create a branch"
   ]
  },
  {
   "cell_type": "code",
   "execution_count": null,
   "id": "3a4aa9a4",
   "metadata": {},
   "outputs": [],
   "source": [
    "!git checkout -b work-on-my-changes"
   ]
  },
  {
   "cell_type": "markdown",
   "id": "1d9ac90f",
   "metadata": {},
   "source": [
    "List the branches again, check the active one!"
   ]
  },
  {
   "cell_type": "code",
   "execution_count": null,
   "id": "05c961cb",
   "metadata": {},
   "outputs": [],
   "source": [
    "!git branch -a"
   ]
  },
  {
   "cell_type": "markdown",
   "id": "af15a2eb",
   "metadata": {
    "slideshow": {
     "slide_type": "slide"
    }
   },
   "source": [
    "---\n",
    "\n",
    "Modify a file in a branch"
   ]
  },
  {
   "cell_type": "code",
   "execution_count": null,
   "id": "1e77f925",
   "metadata": {},
   "outputs": [],
   "source": [
    "!date > new-file.txt\n",
    "!git add new-file.txt"
   ]
  },
  {
   "cell_type": "markdown",
   "id": "6dd319e5",
   "metadata": {},
   "source": [
    "With commit we consolidate the new file in the branch"
   ]
  },
  {
   "cell_type": "code",
   "execution_count": null,
   "id": "0e8a7391",
   "metadata": {},
   "outputs": [],
   "source": [
    "!git commit -m \"Added a new file\""
   ]
  },
  {
   "cell_type": "markdown",
   "id": "02683e7a",
   "metadata": {
    "slideshow": {
     "slide_type": "slide"
    }
   },
   "source": [
    "---\n",
    "\n",
    "Compare branches"
   ]
  },
  {
   "cell_type": "code",
   "execution_count": null,
   "id": "ced98ad2",
   "metadata": {},
   "outputs": [],
   "source": [
    "!git diff mister"
   ]
  },
  {
   "cell_type": "markdown",
   "id": "435688e4",
   "metadata": {},
   "source": [
    "Diff supports some parameters"
   ]
  },
  {
   "cell_type": "code",
   "execution_count": null,
   "id": "db3ad316",
   "metadata": {},
   "outputs": [],
   "source": [
    "!git diff --ignore-all-space master"
   ]
  },
  {
   "cell_type": "markdown",
   "id": "9b659deb",
   "metadata": {
    "slideshow": {
     "slide_type": "slide"
    }
   },
   "source": [
    "---\n",
    "\n",
    "We can now switch between branches"
   ]
  },
  {
   "cell_type": "code",
   "execution_count": null,
   "id": "e2fdabd9",
   "metadata": {},
   "outputs": [],
   "source": [
    "!git checkout master\n",
    "!cat new-file.txt"
   ]
  },
  {
   "cell_type": "markdown",
   "id": "200dc0fa",
   "metadata": {},
   "source": [
    "And switch back"
   ]
  },
  {
   "cell_type": "code",
   "execution_count": null,
   "id": "3c89095c",
   "metadata": {},
   "outputs": [],
   "source": [
    "!git checkout work-on-my-changes\n",
    "!cat new-file.txt"
   ]
  },
  {
   "cell_type": "markdown",
   "id": "5e102ba4",
   "metadata": {
    "slideshow": {
     "slide_type": "slide"
    }
   },
   "source": [
    "---\n",
    "\n",
    "### Exercise\n",
    "\n",
    "- Create a new branch named `foobar`\n",
    "- modify `new-file.txt` as you please\n",
    "- [open a terminal](/terminals/git), and use `git add -p` to stage the changes. What does it do?\n",
    "- commit the changes"
   ]
  },
  {
   "cell_type": "code",
   "execution_count": null,
   "id": "d58947e2",
   "metadata": {},
   "outputs": [],
   "source": [
    "# Use this cell for the exercise"
   ]
  },
  {
   "cell_type": "markdown",
   "id": "ef364f2a",
   "metadata": {
    "slideshow": {
     "slide_type": "slide"
    }
   },
   "source": [
    "---\n",
    "\n",
    "## Checkout troubleshooting\n",
    "\n",
    "If you change a file, git won't make you checkout\n",
    "to avoid overwriting unsaved changes."
   ]
  },
  {
   "cell_type": "code",
   "execution_count": null,
   "id": "ae9bf47f",
   "metadata": {},
   "outputs": [],
   "source": [
    "!date >> new-file.txt\n",
    "!git checkout master"
   ]
  },
  {
   "cell_type": "markdown",
   "id": "63eb2cf7",
   "metadata": {},
   "source": [
    "You have to remove the changes or commit them (in another branch too)"
   ]
  },
  {
   "cell_type": "code",
   "execution_count": null,
   "id": "79c19689",
   "metadata": {},
   "outputs": [],
   "source": [
    "# Use this cell for the exercise."
   ]
  },
  {
   "cell_type": "markdown",
   "id": "5799286c",
   "metadata": {
    "slideshow": {
     "slide_type": "slide"
    }
   },
   "source": [
    "---\n",
    "\n",
    "## Merge\n",
    "\n",
    "Once we have consolidated some changes (e.g., test, ...)\n",
    "we can *merge* the changes into the master branch"
   ]
  },
  {
   "cell_type": "code",
   "execution_count": null,
   "id": "a3d57969",
   "metadata": {},
   "outputs": [],
   "source": [
    "!git checkout master"
   ]
  },
  {
   "cell_type": "markdown",
   "id": "157f9bf8",
   "metadata": {},
   "source": [
    "Before merging, we have to check the differences"
   ]
  },
  {
   "cell_type": "code",
   "execution_count": null,
   "id": "a79262b5",
   "metadata": {},
   "outputs": [],
   "source": [
    "!git diff work-on-my-changes"
   ]
  },
  {
   "cell_type": "markdown",
   "id": "e40f95e5",
   "metadata": {},
   "source": [
    "And finally merge"
   ]
  },
  {
   "cell_type": "code",
   "execution_count": null,
   "id": "a5f7ea5d",
   "metadata": {},
   "outputs": [],
   "source": [
    "!git merge work-on-my-changes"
   ]
  },
  {
   "cell_type": "markdown",
   "id": "f1896242",
   "metadata": {},
   "source": [
    "After a merge, if the branch is no more useful, we can remove it.\n",
    "Note: before deleting a branch, you can double-check available\n",
    "branches with `git branch -a`."
   ]
  },
  {
   "cell_type": "code",
   "execution_count": null,
   "id": "485dfba6",
   "metadata": {},
   "outputs": [],
   "source": [
    "!git branch -d work-on-changes"
   ]
  },
  {
   "cell_type": "markdown",
   "id": "c8e4d115",
   "metadata": {},
   "source": [
    "If there are unmerged changes, git doesn't allow deleting a branch.\n",
    "\n",
    "Exercise:\n",
    "\n",
    "- use `git branch -d` to remove the `foobar` branch\n",
    "- what happens?\n",
    "- replace `-d` with `-D`. Does it work now?"
   ]
  },
  {
   "cell_type": "code",
   "execution_count": null,
   "id": "50218799",
   "metadata": {},
   "outputs": [],
   "source": [
    "# use this cell for the exrcise\n"
   ]
  },
  {
   "cell_type": "markdown",
   "id": "c533269b",
   "metadata": {
    "slideshow": {
     "slide_type": "slide"
    }
   },
   "source": [
    "---\n",
    "\n",
    "## Selective adding\n",
    "\n",
    "Using an interactive [terminal](/terminals/git-partial) you can stage partial changes with:"
   ]
  },
  {
   "cell_type": "code",
   "execution_count": null,
   "id": "94b67b58",
   "metadata": {
    "attributes": {
     "classes": [
      "text"
     ],
     "id": ""
    }
   },
   "outputs": [],
   "source": [
    "git add -p"
   ]
  },
  {
   "cell_type": "markdown",
   "id": "04fe0d05",
   "metadata": {
    "slideshow": {
     "slide_type": "slide"
    }
   },
   "source": [
    "---\n",
    "\n",
    "## Remote repositories\n",
    "\n",
    "Remote repos may be either https, ssh or files."
   ]
  },
  {
   "cell_type": "code",
   "execution_count": null,
   "id": "25e12b7a",
   "metadata": {},
   "outputs": [],
   "source": [
    "! mkdir -p /repo-tmp && cd /repo-tmp && pwd # use another directory ;)"
   ]
  },
  {
   "cell_type": "markdown",
   "id": "11c51b36",
   "metadata": {},
   "source": [
    "Exercise:\n",
    "\n",
    "- what happens in the following cell?"
   ]
  },
  {
   "cell_type": "code",
   "execution_count": null,
   "id": "20182c9d",
   "metadata": {},
   "outputs": [],
   "source": [
    "!pwd"
   ]
  },
  {
   "cell_type": "markdown",
   "id": "9d417cdc",
   "metadata": {},
   "source": [
    "Go to the correct directory now."
   ]
  },
  {
   "cell_type": "code",
   "execution_count": null,
   "id": "6dc07ec3",
   "metadata": {},
   "outputs": [],
   "source": [
    "cd /repo-tmp"
   ]
  },
  {
   "cell_type": "markdown",
   "id": "8adcfcc6",
   "metadata": {
    "slideshow": {
     "slide_type": "slide"
    }
   },
   "source": [
    "---\n",
    "\n",
    "### https repo\n",
    "\n",
    "Git clone downloads a remote repo, with all its changes and history.\n",
    "Try with a remote https repo."
   ]
  },
  {
   "cell_type": "code",
   "execution_count": null,
   "id": "cb6b0c30",
   "metadata": {},
   "outputs": [],
   "source": [
    "!git clone https://github.com/ioggstream/python-course/ python-course"
   ]
  },
  {
   "cell_type": "markdown",
   "id": "a2df281d",
   "metadata": {},
   "source": [
    "Now enter in the repo directory"
   ]
  },
  {
   "cell_type": "code",
   "execution_count": null,
   "id": "20f6c29b",
   "metadata": {},
   "outputs": [],
   "source": [
    "cd /repo-tmp/python-course"
   ]
  },
  {
   "cell_type": "markdown",
   "id": "79631be5",
   "metadata": {},
   "source": [
    "Show repository configuration. Which is the remote origin?"
   ]
  },
  {
   "cell_type": "code",
   "execution_count": null,
   "id": "65227c4a",
   "metadata": {},
   "outputs": [],
   "source": [
    "!git config -l"
   ]
  },
  {
   "cell_type": "markdown",
   "id": "97bda0eb",
   "metadata": {},
   "source": [
    "The remote repo is retrieved with all its changes and history"
   ]
  },
  {
   "cell_type": "code",
   "execution_count": null,
   "id": "4cfbb2c9",
   "metadata": {},
   "outputs": [],
   "source": [
    "! du -ms .git"
   ]
  },
  {
   "cell_type": "markdown",
   "id": "12b6577d",
   "metadata": {},
   "source": [
    "And `log` can show branches and merges."
   ]
  },
  {
   "cell_type": "code",
   "execution_count": null,
   "id": "b1bad4a5",
   "metadata": {},
   "outputs": [],
   "source": [
    "!git log --graph"
   ]
  },
  {
   "cell_type": "markdown",
   "id": "d2c8af30",
   "metadata": {
    "slideshow": {
     "slide_type": "slide"
    }
   },
   "source": [
    "---\n",
    "\n",
    "### file repo\n",
    "\n",
    "A local repo can be cloned too, and has the same features\n",
    "of a remote one. It's actually a remote `file://` uri."
   ]
  },
  {
   "cell_type": "code",
   "execution_count": null,
   "id": "0785c30e",
   "metadata": {},
   "outputs": [],
   "source": [
    "!git clone /repo-tmp/python-course /repo-tmp/my-course"
   ]
  },
  {
   "cell_type": "markdown",
   "id": "a26acd5e",
   "metadata": {},
   "source": [
    "Now move to the new directory"
   ]
  },
  {
   "cell_type": "code",
   "execution_count": null,
   "id": "3f943f8a",
   "metadata": {},
   "outputs": [],
   "source": [
    "cd /repo-tmp/my-course"
   ]
  },
  {
   "cell_type": "markdown",
   "id": "2a18da8b",
   "metadata": {},
   "source": [
    "Show repository configuration. Which is the remote origin?"
   ]
  },
  {
   "cell_type": "code",
   "execution_count": null,
   "id": "8abfbe9f",
   "metadata": {},
   "outputs": [],
   "source": [
    "!git config -l"
   ]
  },
  {
   "cell_type": "markdown",
   "id": "097686a5",
   "metadata": {
    "slideshow": {
     "slide_type": "slide"
    }
   },
   "source": [
    "---\n",
    "\n",
    "## Pull & push\n",
    "\n",
    "You can add new files to a repo with the above workflow:\n",
    "\n",
    "- create a branch with `git checkout -b test-1`\n",
    "- add a new file\n",
    "- stage changes with `git add`\n",
    "- commit with `git commit`"
   ]
  },
  {
   "cell_type": "code",
   "execution_count": null,
   "id": "91a8adef",
   "metadata": {},
   "outputs": [],
   "source": [
    "# Use this cell for the exercise"
   ]
  },
  {
   "cell_type": "markdown",
   "id": "5bd20272",
   "metadata": {},
   "source": [
    "Now that your changes are on your local repo, you can synchronize / upload them to the remote copy\n",
    "with:"
   ]
  },
  {
   "cell_type": "code",
   "execution_count": null,
   "id": "14c9d7c4",
   "metadata": {},
   "outputs": [],
   "source": [
    "!git push origin test-1"
   ]
  },
  {
   "cell_type": "markdown",
   "id": "0ae007d7",
   "metadata": {},
   "source": [
    "Remember:\n",
    "\n",
    "- origin is the URI specified by `git config -l`\n",
    "- `test-1` is the branch name where you want to upload\n",
    "\n",
    "To upload changes to the remote master (default) branch, you need to\n",
    "\n",
    "- merge the changes to your local master"
   ]
  },
  {
   "cell_type": "code",
   "execution_count": null,
   "id": "88048f4c",
   "metadata": {},
   "outputs": [],
   "source": [
    "!git checkout master"
   ]
  },
  {
   "cell_type": "markdown",
   "id": "cd233831",
   "metadata": {},
   "source": [
    "Check the differences"
   ]
  },
  {
   "cell_type": "code",
   "execution_count": null,
   "id": "1070a1f3",
   "metadata": {},
   "outputs": [],
   "source": [
    "!git diff test-1"
   ]
  },
  {
   "cell_type": "markdown",
   "id": "58a52c08",
   "metadata": {},
   "source": [
    "And finally merge"
   ]
  },
  {
   "cell_type": "code",
   "execution_count": null,
   "id": "20a107f5",
   "metadata": {},
   "outputs": [],
   "source": [
    "!git merge test-1"
   ]
  },
  {
   "cell_type": "markdown",
   "id": "747346e6",
   "metadata": {},
   "source": [
    "Exercise:\n",
    "\n",
    "- check the master history;\n",
    "- check the difference with the last commit.\n",
    "\n",
    "\n",
    "Finally, push changes to `origin/master`"
   ]
  },
  {
   "cell_type": "code",
   "execution_count": null,
   "id": "15d22d6d",
   "metadata": {},
   "outputs": [],
   "source": [
    "!git push origin master"
   ]
  },
  {
   "cell_type": "markdown",
   "id": "ae1e0a21",
   "metadata": {},
   "source": [
    "To make it work, you need to be authenticated/authorized with the remote repo ;)"
   ]
  }
 ],
 "metadata": {},
 "nbformat": 4,
 "nbformat_minor": 5
}
