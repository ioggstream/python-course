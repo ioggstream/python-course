{
 "cells": [
  {
   "cell_type": "markdown",
   "id": "51c7912c",
   "metadata": {},
   "source": [
    "# Plotting\n",
    "\n",
    "Python can plot data and functions with the `matplotlib` module."
   ]
  },
  {
   "cell_type": "code",
   "execution_count": null,
   "id": "42b44329",
   "metadata": {},
   "outputs": [],
   "source": [
    "import matplotlib.pyplot as plt\n",
    "import math"
   ]
  },
  {
   "cell_type": "markdown",
   "id": "75be9f09",
   "metadata": {},
   "source": [
    "A computer can't plot a function, it can only plot points. So we need to provide a set of points that are close enough to the function.\n",
    "This means that when you zoom in, the plot looks like a series of joint segments.\n",
    "\n",
    "## Plotting points\n",
    "\n",
    "We can use the `lambda` keyword to define simple functions.\n",
    "This is equivalent to\n",
    "\n",
    "$\n",
    "f(x) = x^3 - 50x\n",
    "$"
   ]
  },
  {
   "cell_type": "code",
   "execution_count": null,
   "id": "45e6244d",
   "metadata": {},
   "outputs": [],
   "source": [
    "f = lambda x: x**3 - 50 * x"
   ]
  },
  {
   "cell_type": "markdown",
   "id": "914b914e",
   "metadata": {},
   "source": [
    "Now define a domain range and evaluate the function\n",
    "\n",
    "$\n",
    "\\mathcal{D} = [-10; 10 ] \\cap \\mathbb{Z} \\\\\n",
    "\\mathcal{C} = f(\\mathcal{D}) := \\{f(x) \\mid x \\in \\mathcal{D} \\}\n",
    "$"
   ]
  },
  {
   "cell_type": "code",
   "execution_count": null,
   "id": "0af84155",
   "metadata": {},
   "outputs": [],
   "source": [
    "D = list(range(-10,10))\n",
    "C = [f(x) for x in D]"
   ]
  },
  {
   "cell_type": "markdown",
   "id": "7a2c9bed",
   "metadata": {},
   "source": [
    "Exercises:\n",
    "\n",
    "- print the domain and codomain"
   ]
  },
  {
   "cell_type": "code",
   "execution_count": null,
   "id": "cda88924",
   "metadata": {},
   "outputs": [],
   "source": [
    "# Use this cell for the exercise\n"
   ]
  },
  {
   "cell_type": "markdown",
   "id": "afd3708e",
   "metadata": {},
   "source": [
    "- use the `zip` function to print a table pairs\n",
    "  using the string formatting tools, e.g.:"
   ]
  },
  {
   "cell_type": "code",
   "execution_count": null,
   "id": "6bec224e",
   "metadata": {},
   "outputs": [],
   "source": [
    " x  | f(x)\n",
    "-10 | -500\n",
    " -9 | -279\n",
    "... | ..."
   ]
  },
  {
   "cell_type": "markdown",
   "id": "d425ad31",
   "metadata": {},
   "source": [
    "<!-- list(zip(C, D)) -->"
   ]
  },
  {
   "cell_type": "code",
   "execution_count": null,
   "id": "2f366827",
   "metadata": {},
   "outputs": [],
   "source": [
    "# Use this cell for the exercise\n"
   ]
  },
  {
   "cell_type": "markdown",
   "id": "8dfcee4d",
   "metadata": {},
   "source": [
    "Now we can plot the function providing the two sets"
   ]
  },
  {
   "cell_type": "code",
   "execution_count": null,
   "id": "da98c03c",
   "metadata": {},
   "outputs": [],
   "source": [
    "# add axis\n",
    "plt.axhline(0, color='black')\n",
    "plt.plot(D, C)"
   ]
  },
  {
   "cell_type": "markdown",
   "id": "971f5fbe",
   "metadata": {},
   "source": [
    "## Geometric plotting\n",
    "\n",
    "The sympy module has functionalities for geometric objects."
   ]
  },
  {
   "cell_type": "code",
   "execution_count": null,
   "id": "2b533ac7",
   "metadata": {},
   "outputs": [],
   "source": [
    "import matplotlib\n",
    "from sympy import symbols, Point, Line, Circle, Triangle, Polygon, pi\n"
   ]
  }
 ],
 "metadata": {},
 "nbformat": 4,
 "nbformat_minor": 5
}
