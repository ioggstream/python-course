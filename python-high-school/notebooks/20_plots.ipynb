{
 "cells": [
  {
   "cell_type": "markdown",
   "id": "ce7976d1",
   "metadata": {},
   "source": [
    "# Plotting\n",
    "\n",
    "Python can plot data and functions with the `matplotlib` module."
   ]
  },
  {
   "cell_type": "code",
   "execution_count": null,
   "id": "2a0995b1",
   "metadata": {},
   "outputs": [],
   "source": [
    "import matplotlib.pyplot as plt\n",
    "import math"
   ]
  },
  {
   "cell_type": "markdown",
   "id": "567d315e",
   "metadata": {},
   "source": [
    "A computer can't plot a function, it can only plot points. So we need to provide a set of points that are close enough to the function.\n",
    "This means that when you zoom in, the plot looks like a series of joint segments.\n",
    "\n",
    "## Plotting points\n",
    "\n",
    "We can use the `lambda` keyword to define simple functions.\n",
    "This is equivalent to\n",
    "\n",
    "$\n",
    "f(x) = x^3 - 50x\n",
    "$"
   ]
  },
  {
   "cell_type": "code",
   "execution_count": null,
   "id": "832107e1",
   "metadata": {},
   "outputs": [],
   "source": [
    "f = lambda x: x**3 - 50 * x"
   ]
  },
  {
   "cell_type": "markdown",
   "id": "1d6d2968",
   "metadata": {},
   "source": [
    "Now define a domain range and evaluate the function\n",
    "\n",
    "$\n",
    "\\mathcal{D} = [-10; 10 ] \\cap \\mathbb{Z} \\\\\n",
    "\\mathcal{C} = f(\\mathcal{D}) := \\{f(x) \\mid x \\in \\mathcal{D} \\}\n",
    "$"
   ]
  },
  {
   "cell_type": "code",
   "execution_count": null,
   "id": "330259e9",
   "metadata": {},
   "outputs": [],
   "source": [
    "D = list(range(-10,10))\n",
    "C = [f(x) for x in D]"
   ]
  },
  {
   "cell_type": "markdown",
   "id": "9101d6fd",
   "metadata": {},
   "source": [
    "Exercises:\n",
    "\n",
    "- print the domain and codomain"
   ]
  },
  {
   "cell_type": "code",
   "execution_count": null,
   "id": "ed69886b",
   "metadata": {},
   "outputs": [],
   "source": [
    "# Use this cell for the exercise\n"
   ]
  },
  {
   "cell_type": "markdown",
   "id": "d3c2ef46",
   "metadata": {},
   "source": [
    "- use the `zip` function to print a table pairs\n",
    "  using the string formatting tools, e.g.:"
   ]
  },
  {
   "cell_type": "code",
   "execution_count": null,
   "id": "7dbf926e",
   "metadata": {},
   "outputs": [],
   "source": [
    " x  | f(x)\n",
    "-10 | -500\n",
    " -9 | -279\n",
    "... | ..."
   ]
  },
  {
   "cell_type": "markdown",
   "id": "6118058b",
   "metadata": {},
   "source": [
    "<!-- list(zip(C, D)) -->"
   ]
  },
  {
   "cell_type": "code",
   "execution_count": null,
   "id": "64c56750",
   "metadata": {},
   "outputs": [],
   "source": [
    "# Use this cell for the exercise\n"
   ]
  },
  {
   "cell_type": "markdown",
   "id": "a1463f81",
   "metadata": {},
   "source": [
    "Now we can plot the function providing the two sets"
   ]
  },
  {
   "cell_type": "code",
   "execution_count": null,
   "id": "4a6dc109",
   "metadata": {},
   "outputs": [],
   "source": [
    "# add axis\n",
    "plt.axhline(0, color='black')\n",
    "plt.plot(D, C)"
   ]
  },
  {
   "cell_type": "markdown",
   "id": "783002dd",
   "metadata": {},
   "source": [
    "## Geometric plotting\n",
    "\n",
    "The sympy module has functionalities for geometric objects.\n",
    "\n",
    "```python\n",
    "import matplotlib\n",
    "from sympy import symbols, Point, Line, Circle, Triangle, Polygon, pi\n",
    "\n",
    "``"
   ]
  }
 ],
 "metadata": {},
 "nbformat": 4,
 "nbformat_minor": 5
}
