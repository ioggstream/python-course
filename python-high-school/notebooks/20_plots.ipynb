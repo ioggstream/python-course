{
 "cells": [
  {
   "cell_type": "markdown",
   "id": "f5420b40",
   "metadata": {},
   "source": [
    "# Plotting\n",
    "\n",
    "Python can plot data and functions with the `matplotlib` module."
   ]
  },
  {
   "cell_type": "code",
   "execution_count": null,
   "id": "73336b01",
   "metadata": {},
   "outputs": [],
   "source": [
    "import matplotlib.pyplot as plt\n",
    "import math"
   ]
  },
  {
   "cell_type": "markdown",
   "id": "98f4957a",
   "metadata": {},
   "source": [
    "A computer can't plot a function, it can only plot points. So we need to provide a set of points that are close enough to the function.\n",
    "This means that when you zoom in, the plot looks like a series of joint segments.\n",
    "\n",
    "## Plotting points\n",
    "\n",
    "We can use the `lambda` keyword to define simple functions.\n",
    "This is equivalent to\n",
    "\n",
    "$\n",
    "f(x) = x^3 - 50x\n",
    "$"
   ]
  },
  {
   "cell_type": "code",
   "execution_count": null,
   "id": "677881f8",
   "metadata": {},
   "outputs": [],
   "source": [
    "f = lambda x: x**3 - 50 * x"
   ]
  },
  {
   "cell_type": "markdown",
   "id": "59ca27ce",
   "metadata": {},
   "source": [
    "Now define a domain range and evaluate the function\n",
    "\n",
    "$\n",
    "\\mathcal{D} = [-10; 10 ] \\cap \\mathbb{Z} \\\\\n",
    "\\mathcal{C} = f(\\mathcal{D}) := \\{f(x) \\mid x \\in \\mathcal{D} \\}\n",
    "$"
   ]
  },
  {
   "cell_type": "code",
   "execution_count": null,
   "id": "a82ec0a1",
   "metadata": {},
   "outputs": [],
   "source": [
    "D = list(range(-10,10))\n",
    "C = [f(x) for x in D]"
   ]
  },
  {
   "cell_type": "markdown",
   "id": "9ae02a0d",
   "metadata": {},
   "source": [
    "Exercises:\n",
    "\n",
    "- print the domain and codomain"
   ]
  },
  {
   "cell_type": "code",
   "execution_count": null,
   "id": "3f78c515",
   "metadata": {},
   "outputs": [],
   "source": [
    "# Use this cell for the exercise\n"
   ]
  },
  {
   "cell_type": "markdown",
   "id": "ce9cf849",
   "metadata": {},
   "source": [
    "- use the `zip` function to print a table pairs\n",
    "  using the string formatting tools, e.g.:\n",
    "\n",
    "| x  | f(x)|\n",
    "|----|-----|\n",
    "|-10 | -500|\n",
    "| -9 | -279|\n",
    "|... | ...|\n",
    "\n",
    "<!-- list(zip(C, D)) -->"
   ]
  },
  {
   "cell_type": "code",
   "execution_count": null,
   "id": "3ede8cf5",
   "metadata": {},
   "outputs": [],
   "source": [
    "# Use this cell for the exercise\n"
   ]
  },
  {
   "cell_type": "markdown",
   "id": "579c626d",
   "metadata": {},
   "source": [
    "Now we can plot the function providing the two sets"
   ]
  },
  {
   "cell_type": "code",
   "execution_count": null,
   "id": "4fd0c92c",
   "metadata": {},
   "outputs": [],
   "source": [
    "# add axis\n",
    "plt.axhline(0, color='black')\n",
    "plt.plot(D, C)"
   ]
  },
  {
   "cell_type": "markdown",
   "id": "5c32d0b9",
   "metadata": {},
   "source": [
    "## Geometric plotting\n",
    "\n",
    "The sympy module has functionalities for geometric objects,\n",
    "and supports some abstractions like variables and functions."
   ]
  },
  {
   "cell_type": "code",
   "execution_count": null,
   "id": "9e3ed3fc",
   "metadata": {},
   "outputs": [],
   "source": [
    "import matplotlib\n",
    "from sympy import symbols, Point, Line, Circle, Triangle, Polygon, pi\n"
   ]
  },
  {
   "cell_type": "markdown",
   "id": "150ecfe2",
   "metadata": {},
   "source": [
    "### Plotting a function"
   ]
  },
  {
   "cell_type": "code",
   "execution_count": null,
   "id": "1258bbe7",
   "metadata": {},
   "outputs": [],
   "source": [
    "# Now the python variable x is a symbolic variable managed by sympy. We can't use it numerically.\n",
    "x = symbols('x')\n",
    "\n",
    "# Even functions are symbolic objects when using sympy.\n",
    "f = x**2 - 2*x + 1\n",
    "\n",
    "# The `ax` variable represent the cartesian plane.\n",
    "plot(f, show=True)"
   ]
  },
  {
   "cell_type": "markdown",
   "id": "7be57df6",
   "metadata": {},
   "source": [
    "I can add another function to the same plot"
   ]
  },
  {
   "cell_type": "code",
   "execution_count": null,
   "id": "04d678af",
   "metadata": {},
   "outputs": [],
   "source": [
    "g = 3 - x\n",
    "# The `ax` variable represent the cartesian plane.\n",
    "ax = plot(f, g, show=True)"
   ]
  },
  {
   "cell_type": "markdown",
   "id": "5d8beceb",
   "metadata": {},
   "source": [
    "I can add further functions using `extend`"
   ]
  },
  {
   "cell_type": "code",
   "execution_count": null,
   "id": "fbf42dc4",
   "metadata": {},
   "outputs": [],
   "source": [
    "h = (x**2 - 1)\n",
    "ax = plot(f, g, show=False)\n",
    "ax.extend(plot(h, show=False))\n",
    "ax.show()"
   ]
  },
  {
   "cell_type": "markdown",
   "id": "85be367b",
   "metadata": {},
   "source": [
    "sympy supports implicit equations too,\n",
    "for example the equation of a circle.\n",
    "These should be plotted using the `plot_implicit` function.\n",
    "\n",
    "$\n",
    "\\mathcal(C): x^2 + y^2 = 1\n",
    "$"
   ]
  },
  {
   "cell_type": "code",
   "execution_count": null,
   "id": "0592b550",
   "metadata": {},
   "outputs": [],
   "source": [
    "from sympy import Eq,plot_implicit\n",
    "x, y = symbols('x y')\n",
    "\n",
    "# The circle equation\n",
    "circle = Eq(x**2 + y**2 , 1)\n",
    "\n",
    "# Prepare a plotted circle\n",
    "ax = plot_implicit(h, show=False)\n",
    "\n",
    "# Add the parabola to the plot\n",
    "ax.extend(plot(f, (x, -2, 2), show=False))\n",
    "\n",
    "# And finally, show the plot.\n",
    "ax.show()"
   ]
  }
 ],
 "metadata": {},
 "nbformat": 4,
 "nbformat_minor": 5
}
