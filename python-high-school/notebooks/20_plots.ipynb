{
 "cells": [
  {
   "cell_type": "markdown",
   "id": "af3749de",
   "metadata": {},
   "source": [
    "# Plotting\n",
    "\n",
    "Python can plot data and functions with the `matplotlib` module."
   ]
  },
  {
   "cell_type": "code",
   "execution_count": null,
   "id": "96949d04",
   "metadata": {},
   "outputs": [],
   "source": [
    "import matplotlib.pyplot as plt\n",
    "import math"
   ]
  },
  {
   "cell_type": "markdown",
   "id": "befad8c2",
   "metadata": {},
   "source": [
    "A computer can't plot a function, it can only plot points. So we need to provide a set of points that are close enough to the function.\n",
    "This means that when you zoom in, the plot looks like a series of joint segments.\n",
    "\n",
    "## Plotting points\n",
    "\n",
    "We can use the `lambda` keyword to define simple functions.\n",
    "This is equivalent to\n",
    "\n",
    "$\n",
    "f(x) = x^3 - 50x\n",
    "$"
   ]
  },
  {
   "cell_type": "code",
   "execution_count": null,
   "id": "9d1a6d59",
   "metadata": {},
   "outputs": [],
   "source": [
    "f = lambda x: x**3 - 50 * x"
   ]
  },
  {
   "cell_type": "markdown",
   "id": "e298d611",
   "metadata": {},
   "source": [
    "Now define a domain range and evaluate the function\n",
    "\n",
    "$\n",
    "\\mathcal{D} = [-10; 10 ] \\cap \\mathbb{Z} \\\\\n",
    "\\mathcal{C} = f(\\mathcal{D}) := \\{f(x) \\mid x \\in \\mathcal{D} \\}\n",
    "$"
   ]
  },
  {
   "cell_type": "code",
   "execution_count": null,
   "id": "b9a701df",
   "metadata": {},
   "outputs": [],
   "source": [
    "D = list(range(-10,10))\n",
    "C = [f(x) for x in D]"
   ]
  },
  {
   "cell_type": "markdown",
   "id": "8dc60568",
   "metadata": {},
   "source": [
    "Exercises:\n",
    "\n",
    "- print the domain and codomain"
   ]
  },
  {
   "cell_type": "code",
   "execution_count": null,
   "id": "db18516c",
   "metadata": {},
   "outputs": [],
   "source": [
    "# Use this cell for the exercise\n"
   ]
  },
  {
   "cell_type": "markdown",
   "id": "3f40f383",
   "metadata": {},
   "source": [
    "- use the `zip` function to print a table pairs\n",
    "  using the string formatting tools, e.g.:\n",
    "\n",
    "| x  | f(x)|\n",
    "|----|-----|\n",
    "|-10 | -500|\n",
    "| -9 | -279|\n",
    "|... | ...|\n",
    "\n",
    "<!-- list(zip(C, D)) -->"
   ]
  },
  {
   "cell_type": "code",
   "execution_count": null,
   "id": "0d0bb068",
   "metadata": {},
   "outputs": [],
   "source": [
    "# Use this cell for the exercise\n"
   ]
  },
  {
   "cell_type": "markdown",
   "id": "263960df",
   "metadata": {},
   "source": [
    "Now we can plot the function providing the two sets"
   ]
  },
  {
   "cell_type": "code",
   "execution_count": null,
   "id": "db441e95",
   "metadata": {},
   "outputs": [],
   "source": [
    "# add axis\n",
    "plt.axhline(0, color='black')\n",
    "plt.plot(D, C)"
   ]
  },
  {
   "cell_type": "markdown",
   "id": "638f8158",
   "metadata": {},
   "source": [
    "## Geometric plotting\n",
    "\n",
    "The sympy module has functionalities for geometric objects,\n",
    "and supports some abstractions like variables and functions."
   ]
  },
  {
   "cell_type": "code",
   "execution_count": null,
   "id": "f62c8067",
   "metadata": {},
   "outputs": [],
   "source": [
    "import matplotlib\n",
    "from sympy import symbols, Point, Line, Circle, Triangle, Polygon, pi\n"
   ]
  },
  {
   "cell_type": "markdown",
   "id": "c68d6786",
   "metadata": {},
   "source": [
    "### Plotting a function"
   ]
  },
  {
   "cell_type": "code",
   "execution_count": null,
   "id": "ec9e2c93",
   "metadata": {},
   "outputs": [],
   "source": [
    "# Now the python variable x is a symbolic variable managed by sympy. We can't use it numerically.\n",
    "x = symbols('x')\n",
    "\n",
    "# Even functions are symbolic objects when using sympy.\n",
    "f = x**2 - 2*x + 1\n",
    "\n",
    "# The `ax` variable represent the cartesian plane.\n",
    "plot(f, show=True)"
   ]
  },
  {
   "cell_type": "markdown",
   "id": "21cbcafa",
   "metadata": {},
   "source": [
    "I can add another function to the same plot"
   ]
  },
  {
   "cell_type": "code",
   "execution_count": null,
   "id": "308f82db",
   "metadata": {},
   "outputs": [],
   "source": [
    "g = 3 - x\n",
    "# The `ax` variable represent the cartesian plane.\n",
    "ax = plot(f, g, show=True)"
   ]
  },
  {
   "cell_type": "markdown",
   "id": "bce4557c",
   "metadata": {},
   "source": [
    "I can add further functions using `extend`"
   ]
  },
  {
   "cell_type": "code",
   "execution_count": null,
   "id": "b15cc2b9",
   "metadata": {},
   "outputs": [],
   "source": [
    "h = (x**2 - 1)\n",
    "ax = plot(f, g, show=False)\n",
    "ax.extend(plot(h, show=False))\n",
    "ax.show()"
   ]
  },
  {
   "cell_type": "markdown",
   "id": "a4ce283c",
   "metadata": {},
   "source": [
    "sympy supports implicit equations too,\n",
    "for example the equation of a circle.\n",
    "These should be plotted using the `plot_implicit` function.\n",
    "\n",
    "$\n",
    "\\mathcal(C): x^2 + y^2 = 1\n",
    "$"
   ]
  },
  {
   "cell_type": "code",
   "execution_count": null,
   "id": "7f1502bc",
   "metadata": {},
   "outputs": [],
   "source": [
    "from sympy import Eq,plot_implicit\n",
    "x, y = symbols('x y')\n",
    "\n",
    "# The circle equation\n",
    "circle = Eq(x**2 + y**2 , 1)\n",
    "\n",
    "# Prepare a plotted circle\n",
    "ax = plot_implicit(h, show=False)\n",
    "\n",
    "# Add the parabola to the plot\n",
    "ax.extend(plot(f, (x, -2, 2), show=False))\n",
    "\n",
    "# And finally, show the plot.\n",
    "ax.show()"
   ]
  }
 ],
 "metadata": {},
 "nbformat": 4,
 "nbformat_minor": 5
}
