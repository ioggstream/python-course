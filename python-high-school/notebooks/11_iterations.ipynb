{
 "cells": [
  {
   "cell_type": "markdown",
   "id": "262e1124",
   "metadata": {},
   "source": [
    "# Python for High School\n",
    "\n",
    "Lesson 3: Iterations\n",
    "\n",
    "## Agenda\n",
    "\n",
    "- Conditions: `if`\n",
    "- Iterations: `for`\n",
    "- Iterations: `while`\n",
    "\n",
    "\n",
    "## Conditions: `if`\n",
    "\n",
    "Python can evaluate conditions using `if` statements."
   ]
  },
  {
   "cell_type": "code",
   "execution_count": null,
   "id": "02335fd5",
   "metadata": {},
   "outputs": [],
   "source": [
    "n = 2\n",
    "parity = \"even\" if n % 2 == 0 else \"odd\""
   ]
  },
  {
   "cell_type": "markdown",
   "id": "2ae7d15e",
   "metadata": {},
   "source": [
    "More complex conditions can be evaluated using multiple lines\n",
    "and the `elif` and `else` keywords."
   ]
  },
  {
   "cell_type": "code",
   "execution_count": null,
   "id": "6c981d8f",
   "metadata": {},
   "outputs": [],
   "source": [
    "# Sign of a function.\n",
    "n = 1\n",
    "if n > 0:\n",
    "    sign = 1\n",
    "elif n < 0:\n",
    "    sign = -1\n",
    "else:\n",
    "    sign = 0"
   ]
  },
  {
   "cell_type": "code",
   "execution_count": null,
   "id": "62d2cd2a",
   "metadata": {},
   "outputs": [],
   "source": [
    "# Exercise. Modify the cell above and check that the sign of 0 is 0.\n",
    "print(sign)"
   ]
  },
  {
   "cell_type": "markdown",
   "id": "5963a350",
   "metadata": {},
   "source": [
    "## Iterations: `for`\n",
    "\n",
    "Iterating means to repeat a process multiple times\n",
    "with different values.\n",
    "\n",
    "We are familiar with iterations in maths.\n",
    "When we sum a list of numbers, we always repeat the same process:\n",
    "\n",
    "0. start with a sum of 0\n",
    "1. take the next number from the list\n",
    "2. add it to the sum\n",
    "3. if there are more numbers, go to 1\n",
    "4. otherwise, stop\n",
    "\n",
    "Python allows you to iterate over a sequence of items using the `for` instruction."
   ]
  },
  {
   "cell_type": "code",
   "execution_count": null,
   "id": "6b421687",
   "metadata": {},
   "outputs": [],
   "source": [
    "a_list = ['is', 'iterable', 'with']\n",
    "for x in a_list:\n",
    "    print(x)"
   ]
  },
  {
   "cell_type": "markdown",
   "id": "313b5f50",
   "metadata": {},
   "source": [
    "We can stop the iteration using the `break` instruction."
   ]
  },
  {
   "cell_type": "code",
   "execution_count": null,
   "id": "c9d4027e",
   "metadata": {},
   "outputs": [],
   "source": [
    "for x in a_list:\n",
    "    print(x, end=' ')\n",
    "    y = x + str(2)\n",
    "    break       # stop now"
   ]
  },
  {
   "cell_type": "code",
   "execution_count": null,
   "id": "707f1f1c",
   "metadata": {},
   "outputs": [],
   "source": [
    "# what's the expected output of the\n",
    "# following instruction?\n",
    "print((\"x, y: \", (x, y)))\n",
    "# Differently from other languages like C, `for` does not create\n",
    "#  a scope"
   ]
  },
  {
   "cell_type": "markdown",
   "id": "53773344",
   "metadata": {},
   "source": [
    "Combining `if` and `break` we can stop the iteration when a condition is met."
   ]
  },
  {
   "cell_type": "code",
   "execution_count": null,
   "id": "97ebf69a",
   "metadata": {},
   "outputs": [],
   "source": [
    "for i in range(10):\n",
    "    if i == 5:\n",
    "        break\n",
    "    print(i, end=' ')"
   ]
  },
  {
   "cell_type": "markdown",
   "id": "f18ffc63",
   "metadata": {},
   "source": [
    "We can use conditions on other variables"
   ]
  },
  {
   "cell_type": "code",
   "execution_count": null,
   "id": "89d7b045",
   "metadata": {},
   "outputs": [],
   "source": [
    "s = 0\n",
    "for i in range(10):\n",
    "    if s > 10:\n",
    "        break\n",
    "    s += i\n",
    "print(s, end=' ')"
   ]
  },
  {
   "cell_type": "markdown",
   "id": "f4e3ba05",
   "metadata": {},
   "source": [
    "Exercise: write a loop that prints all the divisors of $n=100$."
   ]
  },
  {
   "cell_type": "code",
   "execution_count": null,
   "id": "a85bfab0",
   "metadata": {},
   "outputs": [],
   "source": [
    "n = 100\n",
    "for q in range(2, n):\n",
    "    # Write your code here.\n",
    "    "
   ]
  },
  {
   "cell_type": "markdown",
   "id": "a77e9fe6",
   "metadata": {
    "slideshow": {
     "slide_type": "slide"
    }
   },
   "source": [
    "---\n",
    "\n",
    "## Iterations: while\n",
    "\n",
    "We can even iterate over specific conditions."
   ]
  },
  {
   "cell_type": "code",
   "execution_count": null,
   "id": "86f47a5b",
   "metadata": {},
   "outputs": [],
   "source": [
    "i = 10:\n",
    "while i > 0:\n",
    "    print(i, end=' ')\n",
    "    i -= 1"
   ]
  },
  {
   "cell_type": "markdown",
   "id": "1d640522",
   "metadata": {},
   "source": [
    "Exercise: complete the code below to write a loop with the same output of the previous cell."
   ]
  },
  {
   "cell_type": "code",
   "execution_count": null,
   "id": "1511d643",
   "metadata": {},
   "outputs": [],
   "source": [
    "i = ...\n",
    "while ...:\n",
    "    print(i, end=' ')\n",
    "    i += 1"
   ]
  },
  {
   "cell_type": "markdown",
   "id": "fb935afa",
   "metadata": {},
   "source": [
    "Exercise: write a loop that prints all the divisors of $n=100$."
   ]
  },
  {
   "cell_type": "code",
   "execution_count": null,
   "id": "3a9bc935",
   "metadata": {},
   "outputs": [],
   "source": [
    "n = 100\n",
    "q = 2\n",
    "while ...:\n",
    "    if ...:\n",
    "        print(q, end=\"; \")\n",
    "    ...    "
   ]
  },
  {
   "cell_type": "markdown",
   "id": "946f16dc",
   "metadata": {},
   "source": [
    "Exercise: write a loop that prints all the prime factors of $n=100$, i.e. $2; 2; 5; 5;$."
   ]
  },
  {
   "cell_type": "code",
   "execution_count": null,
   "id": "ba013ff1",
   "metadata": {},
   "outputs": [],
   "source": [
    "n = 100\n",
    "q = 2\n",
    "while ...:\n",
    "    if ...:\n",
    "        print(q, end=\"; \")\n",
    "    ...\n"
   ]
  },
  {
   "cell_type": "markdown",
   "id": "a1504089",
   "metadata": {},
   "source": [
    "<!-- \n",
    "n = 100\n",
    "q = 2\n",
    "while n>1:\n",
    "    if n%q == 0:\n",
    "        print(q, end=\"; \")\n",
    "        n //= q\n",
    "    else:\n",
    "        q += 1 -->"
   ]
  },
  {
   "cell_type": "markdown",
   "id": "3a764e43",
   "metadata": {
    "slideshow": {
     "slide_type": "slide"
    }
   },
   "source": [
    "---\n",
    "\n",
    "`while` can use an iterable to check if there are more elements."
   ]
  },
  {
   "cell_type": "code",
   "execution_count": null,
   "id": "f19683af",
   "metadata": {},
   "outputs": [],
   "source": [
    "a_list = ['is', 'iterable', 'with']\n",
    "while a_list:\n",
    "    # pop() modifies a list removing\n",
    "    #  and returning its last element\n",
    "    x = a_list.pop()\n",
    "    print(f\"pop out {x}\")\n",
    "    break  # what happens if I remove this break?\n",
    "\n",
    "print(a_list)"
   ]
  },
  {
   "cell_type": "code",
   "execution_count": null,
   "id": "b6d0f733",
   "metadata": {},
   "outputs": [],
   "source": [
    "# What's the expected behavior of the\n",
    "#  following instructions?\n",
    "for x in a_list:\n",
    "    print((x + a_list.pop()))\n",
    "# for + pop() is not always a good idea ;)"
   ]
  }
 ],
 "metadata": {
  "kernelspec": {
   "display_name": "Python 3",
   "language": "python",
   "name": "python3"
  },
  "language_info": {
   "name": "python",
   "version": "3.11.6"
  }
 },
 "nbformat": 4,
 "nbformat_minor": 5
}
