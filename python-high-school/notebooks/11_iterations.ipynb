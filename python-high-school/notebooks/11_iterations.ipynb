{
 "cells": [
  {
   "cell_type": "markdown",
   "id": "b0fc1a90",
   "metadata": {},
   "source": [
    "# Python for High School\n",
    "\n",
    "Lesson 3: Iterations\n",
    "\n",
    "## Agenda\n",
    "\n",
    "- Conditions: `if`\n",
    "- Iterations: `for`\n",
    "- Iterations: `while`\n",
    "\n",
    "## Conditions: `if`\n",
    "\n",
    "Python can evaluate conditions using `if` statements."
   ]
  },
  {
   "cell_type": "code",
   "execution_count": null,
   "id": "1a2616b0",
   "metadata": {},
   "outputs": [],
   "source": [
    "n = 2\n",
    "parity = \"even\" if n % 2 == 0 else \"odd\""
   ]
  },
  {
   "cell_type": "markdown",
   "id": "fef63d7f",
   "metadata": {},
   "source": [
    "More complex conditions can be evaluated using multiple lines\n",
    "and the `elif` and `else` keywords."
   ]
  },
  {
   "cell_type": "code",
   "execution_count": null,
   "id": "7a35caea",
   "metadata": {},
   "outputs": [],
   "source": [
    "# Sign of a function.\n",
    "n = 1\n",
    "if n > 0:\n",
    "    sign = 1\n",
    "elif n < 0:\n",
    "    sign = -1\n",
    "else:\n",
    "    sign = 0"
   ]
  },
  {
   "cell_type": "code",
   "execution_count": null,
   "id": "9f61f360",
   "metadata": {},
   "outputs": [],
   "source": [
    "# Exercise. Modify the cell above and check that the sign of 0 is 0.\n",
    "print(sign)"
   ]
  },
  {
   "cell_type": "markdown",
   "id": "4e6c8706",
   "metadata": {},
   "source": [
    "## Iterations: `for`\n",
    "\n",
    "Iterating means to repeat a process multiple times\n",
    "with different values.\n",
    "\n",
    "We are familiar with iterations in maths.\n",
    "When we sum a list of numbers, we always repeat the same process:\n",
    "\n",
    "0. start with a sum of 0\n",
    "1. take the next number from the list\n",
    "2. add it to the sum\n",
    "3. if there are more numbers, go to 1\n",
    "4. otherwise, stop\n",
    "\n",
    "Python allows you to iterate over a sequence of items using the `for` instruction."
   ]
  },
  {
   "cell_type": "code",
   "execution_count": null,
   "id": "c5f39ce8",
   "metadata": {},
   "outputs": [],
   "source": [
    "a_list = ['is', 'iterable', 'with']\n",
    "for x in a_list:\n",
    "    print(x)"
   ]
  },
  {
   "cell_type": "markdown",
   "id": "e575bd5c",
   "metadata": {},
   "source": [
    "We can stop the iteration using the `break` instruction."
   ]
  },
  {
   "cell_type": "code",
   "execution_count": null,
   "id": "e567d4d3",
   "metadata": {},
   "outputs": [],
   "source": [
    "for x in a_list:\n",
    "    print(x, end=' ')\n",
    "    y = x + str(2)\n",
    "    break       # stop now"
   ]
  },
  {
   "cell_type": "code",
   "execution_count": null,
   "id": "2301ecd9",
   "metadata": {},
   "outputs": [],
   "source": [
    "# what's the expected output of the\n",
    "# following instruction?\n",
    "print((\"x, y: \", (x, y)))\n",
    "# Differently from other languages like C, `for` does not create\n",
    "#  a scope"
   ]
  },
  {
   "cell_type": "markdown",
   "id": "5910eca9",
   "metadata": {},
   "source": [
    "Combining `if` and `break` we can stop the iteration when a condition is met."
   ]
  },
  {
   "cell_type": "code",
   "execution_count": null,
   "id": "1f3b78fe",
   "metadata": {},
   "outputs": [],
   "source": [
    "for i in range(10):\n",
    "    if i == 5:\n",
    "        break\n",
    "    print(i, end=' ')"
   ]
  },
  {
   "cell_type": "markdown",
   "id": "c8a4884a",
   "metadata": {},
   "source": [
    "We can use conditions on other variables"
   ]
  },
  {
   "cell_type": "code",
   "execution_count": null,
   "id": "9b10348b",
   "metadata": {},
   "outputs": [],
   "source": [
    "s = 0\n",
    "for i in range(10):\n",
    "    if s > 10:\n",
    "        break\n",
    "    s += i\n",
    "print(s, end=' ')"
   ]
  },
  {
   "cell_type": "markdown",
   "id": "63a0fdf3",
   "metadata": {},
   "source": [
    "Exercise: write a loop that prints all the divisors of $n=100$."
   ]
  },
  {
   "cell_type": "code",
   "execution_count": null,
   "id": "939e75ba",
   "metadata": {},
   "outputs": [],
   "source": [
    "n = 100\n",
    "for q in range(2, n):\n",
    "    # Write your code here.\n"
   ]
  },
  {
   "cell_type": "markdown",
   "id": "78fc2426",
   "metadata": {
    "slideshow": {
     "slide_type": "slide"
    }
   },
   "source": [
    "---\n",
    "\n",
    "## Iterations: while\n",
    "\n",
    "We can even iterate over specific conditions."
   ]
  },
  {
   "cell_type": "code",
   "execution_count": null,
   "id": "83403da3",
   "metadata": {},
   "outputs": [],
   "source": [
    "i = 10:\n",
    "while i > 0:\n",
    "    print(i, end=' ')\n",
    "    i -= 1"
   ]
  },
  {
   "cell_type": "markdown",
   "id": "056cc5c1",
   "metadata": {},
   "source": [
    "Exercise: complete the code below to write a loop with the same output of the previous cell."
   ]
  },
  {
   "cell_type": "code",
   "execution_count": null,
   "id": "012d54a2",
   "metadata": {},
   "outputs": [],
   "source": [
    "i = ...\n",
    "while ...:\n",
    "    print(i, end=' ')\n",
    "    i += 1"
   ]
  },
  {
   "cell_type": "markdown",
   "id": "92935e07",
   "metadata": {},
   "source": [
    "Exercise: write a loop that prints all the divisors of $n=100$."
   ]
  },
  {
   "cell_type": "code",
   "execution_count": null,
   "id": "12c039f5",
   "metadata": {},
   "outputs": [],
   "source": [
    "n = 100\n",
    "q = 2\n",
    "while ...:\n",
    "    if ...:\n",
    "        print(q, end=\"; \")\n",
    "    ..."
   ]
  },
  {
   "cell_type": "markdown",
   "id": "a706a83f",
   "metadata": {
    "slideshow": {
     "slide_type": "slide"
    }
   },
   "source": [
    "---\n",
    "\n",
    "\n",
    "`while` can use an iterable to check if there are more elements."
   ]
  },
  {
   "cell_type": "code",
   "execution_count": null,
   "id": "2f42dd66",
   "metadata": {},
   "outputs": [],
   "source": [
    "a_list = ['is', 'iterable', 'with']\n",
    "while a_list:\n",
    "    # pop() modifies a list removing\n",
    "    #  and returning its last element\n",
    "    x = a_list.pop()\n",
    "    print(f\"pop out {x}\")\n",
    "    break  # what happens if I remove this break?\n",
    "\n",
    "print(a_list)"
   ]
  },
  {
   "cell_type": "code",
   "execution_count": null,
   "id": "09ed2541",
   "metadata": {},
   "outputs": [],
   "source": [
    "# What's the expected behavior of the\n",
    "#  following instructions?\n",
    "for x in a_list:\n",
    "    print((x + a_list.pop()))\n",
    "# for + pop() is not always a good idea ;)"
   ]
  },
  {
   "cell_type": "markdown",
   "id": "f98e00fd",
   "metadata": {
    "slideshow": {
     "slide_type": "slide"
    }
   },
   "source": [
    "---\n",
    "\n",
    "## Prime numbers\n",
    "\n",
    "A prime number is a number that can be divided only by 1 and itself.\n",
    "\n",
    "$\n",
    "p \\in \\mathbb{N} \\text{ is prime } \\iff \\forall q \\in \\mathbb{N} \\text{ if } q \\mid p \\text{ then } q = 1 \\text{ or } q = p\n",
    "$\n",
    "\n",
    "Exercise: write a loop that prints all the prime factors of $n=100$, i.e. $2; 2; 5; 5;$."
   ]
  },
  {
   "cell_type": "code",
   "execution_count": null,
   "id": "e5935d21",
   "metadata": {},
   "outputs": [],
   "source": [
    "n = 100\n",
    "q = 2\n",
    "while ...:\n",
    "    if ...:\n",
    "        print(q, end=\"; \")\n",
    "    ...\n"
   ]
  },
  {
   "cell_type": "markdown",
   "id": "5802e619",
   "metadata": {},
   "source": [
    "<!"
   ]
  },
  {
   "cell_type": "markdown",
   "id": "4f467ef3",
   "metadata": {},
   "source": [
    "--\n",
    "n = 100\n",
    "q = 2\n",
    "while n>1:\n",
    "    if n%q == 0:\n",
    "        print(q, end=\"; \")\n",
    "        n //= q\n",
    "    else:\n",
    "        q += 1 -->\n",
    "\n",
    "Question: do I need to check all the numbers up to $n$?\n",
    "\n",
    "primes = [2, ]\n",
    "def factr(n, primes):\n",
    "    q = 2\n",
    "    for p in primes:\n",
    "        while n % p == 0:\n",
    "            print(\"found\", p)\n",
    "            yield p\n",
    "            n //= p\n",
    "    while n>1 and q <= math.sqrt(n)+1:\n",
    "        if n%q == 0:\n",
    "            primes.append(q)\n",
    "            yield q\n",
    "            n //= q\n",
    "        else:\n",
    "            q += 1\n",
    "    if n>1:\n",
    "        primes.append(n)\n",
    "    yield n"
   ]
  }
 ],
 "metadata": {},
 "nbformat": 4,
 "nbformat_minor": 5
}
