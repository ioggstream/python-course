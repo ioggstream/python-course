{
 "cells": [
  {
   "cell_type": "markdown",
   "id": "e690e2e6",
   "metadata": {},
   "source": [
    "# Python for High School\n",
    "\n",
    "Lesson 3: Iterations\n",
    "\n",
    "## Agenda\n",
    "\n",
    "- Conditions: `if`\n",
    "- Iterations: `for`\n",
    "- Iterations: `while`\n",
    "\n",
    "\n",
    "## Conditions: `if`\n",
    "\n",
    "Python can evaluate conditions using `if` statements."
   ]
  },
  {
   "cell_type": "code",
   "execution_count": null,
   "id": "c526ce76",
   "metadata": {},
   "outputs": [],
   "source": [
    "n = 2\n",
    "parity = \"even\" if n % 2 == 0 else \"odd\""
   ]
  },
  {
   "cell_type": "markdown",
   "id": "17bf73fc",
   "metadata": {},
   "source": [
    "More complex conditions can be evaluated using multiple lines\n",
    "and the `elif` and `else` keywords."
   ]
  },
  {
   "cell_type": "code",
   "execution_count": null,
   "id": "2e926c91",
   "metadata": {},
   "outputs": [],
   "source": [
    "# Sign of a function.\n",
    "n = 1\n",
    "if n > 0:\n",
    "    sign = 1\n",
    "elif n < 0:\n",
    "    sign = -1\n",
    "else:\n",
    "    sign = 0"
   ]
  },
  {
   "cell_type": "code",
   "execution_count": null,
   "id": "a7adff80",
   "metadata": {},
   "outputs": [],
   "source": [
    "# Exercise. Modify the cell above and check that the sign of 0 is 0.\n",
    "print(sign)"
   ]
  },
  {
   "cell_type": "markdown",
   "id": "9cc05ff8",
   "metadata": {},
   "source": [
    "## Iterations: `for`\n",
    "\n",
    "Iterating means to repeat a process multiple times\n",
    "with different values.\n",
    "\n",
    "We are familiar with iterations in maths.\n",
    "When we sum a list of numbers, we always repeat the same process:\n",
    "\n",
    "0. start with a sum of 0\n",
    "1. take the next number from the list\n",
    "2. add it to the sum\n",
    "3. if there are more numbers, go to 1\n",
    "4. otherwise, stop\n",
    "\n",
    "Python allows you to iterate over a sequence of items using the `for` instruction."
   ]
  },
  {
   "cell_type": "code",
   "execution_count": null,
   "id": "cf5aa490",
   "metadata": {},
   "outputs": [],
   "source": [
    "a_list = ['is', 'iterable', 'with']\n",
    "for x in a_list:\n",
    "    print(x)"
   ]
  },
  {
   "cell_type": "markdown",
   "id": "ecaed17c",
   "metadata": {},
   "source": [
    "We can stop the iteration using the `break` instruction."
   ]
  },
  {
   "cell_type": "code",
   "execution_count": null,
   "id": "d7f36919",
   "metadata": {},
   "outputs": [],
   "source": [
    "for x in a_list:\n",
    "    print(x, end=' ')\n",
    "    y = x + str(2)\n",
    "    break       # stop now"
   ]
  },
  {
   "cell_type": "code",
   "execution_count": null,
   "id": "c34dc394",
   "metadata": {},
   "outputs": [],
   "source": [
    "# what's the expected output of the\n",
    "# following instruction?\n",
    "print((\"x, y: \", (x, y)))\n",
    "# Differently from other languages like C, `for` does not create\n",
    "#  a scope"
   ]
  },
  {
   "cell_type": "markdown",
   "id": "114eb197",
   "metadata": {},
   "source": [
    "Combining `if` and `break` we can stop the iteration when a condition is met."
   ]
  },
  {
   "cell_type": "code",
   "execution_count": null,
   "id": "af9548e1",
   "metadata": {},
   "outputs": [],
   "source": [
    "for i in range(10):\n",
    "    if i == 5:\n",
    "        break\n",
    "    print(i, end=' ')"
   ]
  },
  {
   "cell_type": "markdown",
   "id": "5b452126",
   "metadata": {},
   "source": [
    "We can use conditions on other variables"
   ]
  },
  {
   "cell_type": "code",
   "execution_count": null,
   "id": "5339ef02",
   "metadata": {},
   "outputs": [],
   "source": [
    "s = 0\n",
    "for i in range(10):\n",
    "    if s > 10:\n",
    "        break\n",
    "    s += i\n",
    "print(s, end=' ')"
   ]
  },
  {
   "cell_type": "markdown",
   "id": "9fc8833c",
   "metadata": {},
   "source": [
    "Exercise: write a loop that prints all the divisors of $n=100$."
   ]
  },
  {
   "cell_type": "code",
   "execution_count": null,
   "id": "4d705aca",
   "metadata": {},
   "outputs": [],
   "source": [
    "n = 100\n",
    "for q in range(2, n):\n",
    "    # Write your code here.\n"
   ]
  },
  {
   "cell_type": "markdown",
   "id": "8a5a2530",
   "metadata": {
    "slideshow": {
     "slide_type": "slide"
    }
   },
   "source": [
    "---\n",
    "\n",
    "## Iterations: while\n",
    "\n",
    "We can even iterate over specific conditions."
   ]
  },
  {
   "cell_type": "code",
   "execution_count": null,
   "id": "a74e6df5",
   "metadata": {},
   "outputs": [],
   "source": [
    "i = 10:\n",
    "while i > 0:\n",
    "    print(i, end=' ')\n",
    "    i -= 1"
   ]
  },
  {
   "cell_type": "markdown",
   "id": "4f7f41b4",
   "metadata": {},
   "source": [
    "Exercise: complete the code below to write a loop with the same output of the previous cell."
   ]
  },
  {
   "cell_type": "code",
   "execution_count": null,
   "id": "465ea535",
   "metadata": {},
   "outputs": [],
   "source": [
    "i = ...\n",
    "while ...:\n",
    "    print(i, end=' ')\n",
    "    i += 1"
   ]
  },
  {
   "cell_type": "markdown",
   "id": "812468c7",
   "metadata": {},
   "source": [
    "Exercise: write a loop that prints all the divisors of $n=100$."
   ]
  },
  {
   "cell_type": "code",
   "execution_count": null,
   "id": "dbc656b7",
   "metadata": {},
   "outputs": [],
   "source": [
    "n = 100\n",
    "q = 2\n",
    "while ...:\n",
    "    if ...:\n",
    "        print(q, end=\"; \")\n",
    "    ..."
   ]
  },
  {
   "cell_type": "markdown",
   "id": "aeff570c",
   "metadata": {},
   "source": [
    "Exercise: write a loop that prints all the prime factors of $n=100$, i.e. $2; 2; 5; 5;$."
   ]
  },
  {
   "cell_type": "code",
   "execution_count": null,
   "id": "5cd7bc34",
   "metadata": {},
   "outputs": [],
   "source": [
    "n = 100\n",
    "q = 2\n",
    "while ...:\n",
    "    if ...:\n",
    "        print(q, end=\"; \")\n",
    "    ...\n"
   ]
  },
  {
   "cell_type": "markdown",
   "id": "a8c0e8a8",
   "metadata": {},
   "source": [
    "<!"
   ]
  },
  {
   "cell_type": "markdown",
   "id": "4eb0c6e9",
   "metadata": {},
   "source": [
    "--\n",
    "n = 100\n",
    "q = 2\n",
    "while n>1:\n",
    "    if n%q == 0:\n",
    "        print(q, end=\"; \")\n",
    "        n //= q\n",
    "    else:\n",
    "        q += 1 -->"
   ]
  },
  {
   "cell_type": "markdown",
   "id": "e13753c4",
   "metadata": {
    "slideshow": {
     "slide_type": "slide"
    }
   },
   "source": [
    "---\n",
    "\n",
    "`while` can use an iterable to check if there are more elements."
   ]
  },
  {
   "cell_type": "code",
   "execution_count": null,
   "id": "b19151ee",
   "metadata": {},
   "outputs": [],
   "source": [
    "a_list = ['is', 'iterable', 'with']\n",
    "while a_list:\n",
    "    # pop() modifies a list removing\n",
    "    #  and returning its last element\n",
    "    x = a_list.pop()\n",
    "    print(f\"pop out {x}\")\n",
    "    break  # what happens if I remove this break?\n",
    "\n",
    "print(a_list)"
   ]
  },
  {
   "cell_type": "code",
   "execution_count": null,
   "id": "5ac6d5a1",
   "metadata": {},
   "outputs": [],
   "source": [
    "# What's the expected behavior of the\n",
    "#  following instructions?\n",
    "for x in a_list:\n",
    "    print((x + a_list.pop()))\n",
    "# for + pop() is not always a good idea ;)"
   ]
  }
 ],
 "metadata": {},
 "nbformat": 4,
 "nbformat_minor": 5
}
