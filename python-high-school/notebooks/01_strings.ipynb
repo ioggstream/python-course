{
 "cells": [
  {
   "cell_type": "markdown",
   "id": "03193d36",
   "metadata": {},
   "source": [
    "# Strings\n",
    "\n",
    "## Agenda\n",
    "\n",
    "- Strings\n",
    "- Character encoding\n",
    "- Notable escape sequences\n",
    "- Formatting numbers\n",
    "- Bonus track: Formatting\n",
    "- Bonus track: reserved words"
   ]
  },
  {
   "cell_type": "markdown",
   "id": "ba46c4e3",
   "metadata": {
    "slideshow": {
     "slide_type": "slide"
    }
   },
   "source": [
    "---\n",
    "\n",
    "## Strings\n",
    "\n",
    "In python you can define a string using single or double quotes:"
   ]
  },
  {
   "cell_type": "code",
   "execution_count": null,
   "id": "bbe2dc3b",
   "metadata": {},
   "outputs": [],
   "source": [
    "# Use the most convenient quotes depending on the string.\n",
    "a_string = \"Ciao, I'm Roberto\"\n",
    "another_string = 'I \"love\" python'"
   ]
  },
  {
   "cell_type": "markdown",
   "id": "3946fccd",
   "metadata": {},
   "source": [
    "A string is a finite, ordered sequence of typographic characters\n",
    "(e.g., from an alphabet, like the one thaught at school).\n",
    "\n",
    "Exercises: finite strings using an alphabet $\\Sigma : |\\Sigma| = k$.\n",
    "\n",
    "- How many strings of length $n=8$ can you build when $|\\Sigma| = 2$?"
   ]
  },
  {
   "cell_type": "code",
   "execution_count": null,
   "id": "eb074278",
   "metadata": {},
   "outputs": [],
   "source": [
    "k = 2\n",
    "n = 8\n",
    "solution =\n",
    "print(solution)"
   ]
  },
  {
   "cell_type": "markdown",
   "id": "c7efac54",
   "metadata": {},
   "source": [
    "- How many strings of length $m : m \\le n=8$, included the empty string, can you build?"
   ]
  },
  {
   "cell_type": "code",
   "execution_count": null,
   "id": "ff29d7ea",
   "metadata": {},
   "outputs": [],
   "source": [
    "solution =\n",
    "print(solution)"
   ]
  },
  {
   "cell_type": "markdown",
   "id": "64dbc951",
   "metadata": {},
   "source": [
    "- 🦾 Can you generalize the solution for any $n$ and $k$? Can you write a mathematical formula for the solution?\n",
    "\n",
    "Use the following cell to compute the answer."
   ]
  },
  {
   "cell_type": "code",
   "execution_count": null,
   "id": "faee89b8",
   "metadata": {},
   "outputs": [],
   "source": [
    "k = 2\n",
    "n = 8\n",
    "solution = 1 + ...  # compute the solution here\n",
    "print(solution)"
   ]
  },
  {
   "cell_type": "markdown",
   "id": "b9b12708",
   "metadata": {},
   "source": [
    "<!-- numerical solution: sum([k**i for i in range(0, n + 1)]) -->\n",
    "<!-- $$\\sum_{i=0}^{n} k^i = \\frac{k^{n+1} - 1}{k-1}$$ -->\n",
    "\n",
    "The set of all finite strings can be represented with the symbol $\\Sigma^{*}$."
   ]
  },
  {
   "cell_type": "markdown",
   "id": "ab0d5d3d",
   "metadata": {
    "slideshow": {
     "slide_type": "subslide"
    }
   },
   "source": [
    "----\n",
    "\n",
    "### Operations on strings\n",
    "\n",
    "Python defines some operations on strings:"
   ]
  },
  {
   "cell_type": "code",
   "execution_count": null,
   "id": "82045726",
   "metadata": {},
   "outputs": [],
   "source": [
    "print(\"a\" + \"b\")  # concatenation\n",
    "print(\"a\" * 3)    # repetition"
   ]
  },
  {
   "cell_type": "markdown",
   "id": "8586d977",
   "metadata": {},
   "source": [
    "You can template strings using the so-called \"f-string\" notation:"
   ]
  },
  {
   "cell_type": "code",
   "execution_count": null,
   "id": "f4ebb4cd",
   "metadata": {},
   "outputs": [],
   "source": [
    "a = 1\n",
    "print(f\"the value of a is {a}\")"
   ]
  },
  {
   "cell_type": "markdown",
   "id": "b0b1e2ef",
   "metadata": {},
   "source": [
    "Exercise:"
   ]
  },
  {
   "cell_type": "code",
   "execution_count": null,
   "id": "ca8fb164",
   "metadata": {},
   "outputs": [],
   "source": [
    "# Use this cell to print the value of a_string and another_string"
   ]
  },
  {
   "cell_type": "markdown",
   "id": "b2c6e4ee",
   "metadata": {
    "slideshow": {
     "slide_type": "slide"
    }
   },
   "source": [
    "---\n",
    "\n",
    "### Character encoding\n",
    "\n",
    "At school we learnt a 26-letter, A-Z alphabet.\n",
    "Today, we commonly use a much larger alphabet, featuring:\n",
    "lowercase and uppercase letters, numbers, spaces (e.g. \" \", a new line, ), punctuation, emojis, and so on."
   ]
  },
  {
   "cell_type": "markdown",
   "id": "2d0a3314",
   "metadata": {
    "slideshow": {
     "slide_type": "subslide"
    }
   },
   "source": [
    "----\n",
    "\n",
    "To communicate these charactes at the speed of light, we need to\n",
    "transmit them using electric signals.\n",
    "The Morse code was the first way of encoding characters\n",
    "made to be transmitted using electric signals over a telegraph.\n",
    "\n",
    "Nowadays computers represents typographic characters with numbers,\n",
    "that are then encoded in sequences of $0$ and $1$ and transmitted using electric signals."
   ]
  },
  {
   "cell_type": "markdown",
   "id": "e46099fe",
   "metadata": {
    "slideshow": {
     "slide_type": "subslide"
    }
   },
   "source": [
    "----\n",
    "\n",
    "The most common way of mapping characters to integers is the Extended ASCII table.\n",
    "Since the basic unit used by computers is the byte, the Extended ASCII table is limited to 256 characters.\n",
    "\n",
    "$\n",
    "byte \\in \\mathbb{Z}_{255} : = \\{ z : z \\in \\mathbb{Z}; 0 \\le z \\le 255 \\} \\\\\n",
    "\\Sigma = \\{ a, b, c, \\dots, A, B, C, \\dots, \", !, ?, \\dots  \\}\n",
    "$\n",
    "\n",
    "The python functions `chr` and `ord` are used to convert between characters and integers.\n",
    "\n",
    "$\n",
    "chr : \\mathbb{Z}_{255} \\rightarrow \\Sigma \\\\\n",
    "ord : \\Sigma \\rightarrow \\mathbb{Z}_{255}\n",
    "$"
   ]
  },
  {
   "cell_type": "code",
   "execution_count": null,
   "id": "820b9e2c",
   "metadata": {},
   "outputs": [],
   "source": [
    "# The function chr() returns the character corresponding to an integer.\n",
    "chr(42)"
   ]
  },
  {
   "cell_type": "code",
   "execution_count": null,
   "id": "5aa83c87",
   "metadata": {},
   "outputs": [],
   "source": [
    "# The function ord() returns the integer value of a character.\n",
    "ord('*')"
   ]
  },
  {
   "cell_type": "markdown",
   "id": "08e8a526",
   "metadata": {
    "slideshow": {
     "slide_type": "subslide"
    }
   },
   "source": [
    "----\n",
    "\n",
    "Nowadays, the most common character encoding is UTF, that is a superset of ASCII.\n",
    "It uses more than one byte to represent a character,\n",
    "so it can represent up to $17 * 2^{16}$ characters\n",
    "from different languages and symbols like emojis."
   ]
  },
  {
   "cell_type": "code",
   "execution_count": null,
   "id": "32e80d2a",
   "metadata": {},
   "outputs": [],
   "source": [
    "smile = '😀'\n",
    "print(smile, \"->\", ord(smile))"
   ]
  },
  {
   "cell_type": "code",
   "execution_count": null,
   "id": "f85c0d56",
   "metadata": {},
   "outputs": [],
   "source": [
    "# prefixing a string with 'r' disables the\n",
    "# interpretation of the string content\n",
    "print('Hello' * 2 + r'World\\x21')"
   ]
  },
  {
   "cell_type": "markdown",
   "id": "c533aab1",
   "metadata": {
    "slideshow": {
     "slide_type": "subslide"
    }
   },
   "source": [
    "----\n",
    "\n",
    "### Notable escape sequences\n",
    "\n",
    "You can print special characters such as\n",
    "`new line` or `tabular spaces` using the escape sequence notation."
   ]
  },
  {
   "cell_type": "code",
   "execution_count": null,
   "id": "1acb4dea",
   "metadata": {},
   "outputs": [],
   "source": [
    "# The \\n and \\t are\n",
    "# just the usual notation for newline and tab\n",
    "print(\"Hello\\n\\tWorld!\")"
   ]
  },
  {
   "cell_type": "code",
   "execution_count": null,
   "id": "cac8af33",
   "metadata": {},
   "outputs": [],
   "source": [
    "# triple-quoting allows multi-line strings\n",
    "answer = ord('*')\n",
    "print(f\"\"\"The answer is\n",
    "\n",
    "{answer}\n",
    "\"\"\")\n"
   ]
  },
  {
   "cell_type": "markdown",
   "id": "61ce1324",
   "metadata": {
    "slideshow": {
     "slide_type": "slide"
    }
   },
   "source": [
    "---\n",
    "\n",
    "## Formatting numbers\n",
    "\n",
    "Formatting means representing a number with a finite string.\n",
    "Note: it is impossible to represent all the real numbers with finite strings ;)\n",
    "\n",
    "$\n",
    "formatting: \\mathbb{Q} \\rightarrow \\Sigma^{*}\n",
    "$"
   ]
  },
  {
   "cell_type": "code",
   "execution_count": null,
   "id": "644b7097",
   "metadata": {},
   "outputs": [],
   "source": [
    "# bin() and hex() returns a string representation\n",
    "# of an integer number. These are *different* formatting functions.\n",
    "a, b1 = hex(10), bin(1)"
   ]
  },
  {
   "cell_type": "code",
   "execution_count": null,
   "id": "a43421f2",
   "metadata": {},
   "outputs": [],
   "source": [
    "# Exercise: which is the type of a? And the type of b1?\n",
    "type(a)"
   ]
  },
  {
   "cell_type": "markdown",
   "id": "9e355a75",
   "metadata": {},
   "source": [
    "----"
   ]
  },
  {
   "cell_type": "code",
   "execution_count": null,
   "id": "60d861ba",
   "metadata": {},
   "outputs": [],
   "source": [
    "# The format() function is very flexible\n",
    "#  10 = 8digits + 2chars for the '0b' header\n",
    "binary_with_leading_zeroes = format(1, '#010b')"
   ]
  },
  {
   "cell_type": "markdown",
   "id": "f75373bd",
   "metadata": {
    "slideshow": {
     "slide_type": "subslide"
    }
   },
   "source": [
    "----\n",
    "\n",
    "Processing a string to create a number is called parsing (:it: analisi grammaticale)."
   ]
  },
  {
   "cell_type": "code",
   "execution_count": null,
   "id": "8a275c47",
   "metadata": {},
   "outputs": [],
   "source": [
    "# and reversible with\n",
    "b1 == int(binary_with_leading_zeroes, base=2)"
   ]
  },
  {
   "cell_type": "markdown",
   "id": "5530715e",
   "metadata": {},
   "source": [
    "----"
   ]
  },
  {
   "cell_type": "code",
   "execution_count": null,
   "id": "8f85b373",
   "metadata": {},
   "outputs": [],
   "source": [
    "# Exercise: use this cell to inspect the values of the above variables."
   ]
  },
  {
   "cell_type": "code",
   "execution_count": null,
   "id": "73dbd8a7",
   "metadata": {},
   "outputs": [],
   "source": [
    "# Exercise: use this cell to compute the value of the hexadecimal number `abc`.\n",
    "# Hint: read the int function manual.\n",
    "help(int)"
   ]
  },
  {
   "cell_type": "markdown",
   "id": "6657e7d7",
   "metadata": {
    "slideshow": {
     "slide_type": "slide"
    }
   },
   "source": [
    "---\n",
    "\n",
    "## Bonus track: Formatting"
   ]
  },
  {
   "cell_type": "markdown",
   "id": "2a5d2c06",
   "metadata": {},
   "source": [
    "----"
   ]
  },
  {
   "cell_type": "code",
   "execution_count": null,
   "id": "c92c5075",
   "metadata": {},
   "outputs": [],
   "source": [
    "# The new str.format function just replaces\n",
    "#  %s and %d with {}.\n",
    "s_a = \"is a string \"\n",
    "\n",
    "print(s_a)"
   ]
  },
  {
   "cell_type": "markdown",
   "id": "a37ad90f",
   "metadata": {},
   "source": [
    "----"
   ]
  },
  {
   "cell_type": "code",
   "execution_count": null,
   "id": "34831be8",
   "metadata": {},
   "outputs": [],
   "source": [
    "# A string\n",
    "s_a += f\"that can be extended\""
   ]
  },
  {
   "cell_type": "markdown",
   "id": "0987a02d",
   "metadata": {},
   "source": [
    "----"
   ]
  },
  {
   "cell_type": "code",
   "execution_count": null,
   "id": "e385500c",
   "metadata": {},
   "outputs": [],
   "source": [
    "# Exercise: print the value of s_a"
   ]
  },
  {
   "cell_type": "markdown",
   "id": "036b7211",
   "metadata": {},
   "source": [
    "----"
   ]
  },
  {
   "cell_type": "code",
   "execution_count": null,
   "id": "ce644906",
   "metadata": {},
   "outputs": [],
   "source": [
    "# Further formatting is done using \":\", eg.\n",
    "# {:.6} -> limit the string to 6 characters\n",
    "# {:3.2} -> limit the string to 3 characters, 2 after the decimal point\n",
    "\n",
    "s_a = f\"{s_a} even with {'positional':.6} formatting.\\n\""
   ]
  },
  {
   "cell_type": "markdown",
   "id": "61087a10",
   "metadata": {},
   "source": [
    "----"
   ]
  },
  {
   "cell_type": "code",
   "execution_count": null,
   "id": "79028289",
   "metadata": {},
   "outputs": [],
   "source": [
    "# Alignment identifiers are simpler: < left , ^ center,  > right\n",
    "n = 100\n",
    "s_a = f\"Align {n:>10}% python!\"\n",
    "print(s_a)\n",
    "print(\"just prints a string\")"
   ]
  },
  {
   "cell_type": "markdown",
   "id": "2c9feff1",
   "metadata": {},
   "source": [
    "----"
   ]
  },
  {
   "cell_type": "code",
   "execution_count": null,
   "id": "68d5b696",
   "metadata": {},
   "outputs": [],
   "source": [
    "# Exercise: modify s_a to align the string to the left and to the center."
   ]
  },
  {
   "cell_type": "markdown",
   "id": "a801eba4",
   "metadata": {
    "slideshow": {
     "slide_type": "slide"
    }
   },
   "source": [
    "---\n",
    "\n",
    "### Formatting with names"
   ]
  },
  {
   "cell_type": "markdown",
   "id": "0daa5359",
   "metadata": {},
   "source": [
    "----"
   ]
  },
  {
   "cell_type": "code",
   "execution_count": null,
   "id": "4b565142",
   "metadata": {},
   "outputs": [],
   "source": [
    "# You can name variables to get\n",
    "# a better formatting experience ;)\n",
    "fmt_a = \"{name:<.3} {nick:^.8} {sn:>30}\"\n",
    "print(fmt_a.format(name=\"-\"*10, nick=\"*\"*15, sn=\"-\"*40))\n",
    "print(fmt_a.format(name=\"Roberto\", nick=\"ioggstream\", sn=\"Polli\"))"
   ]
  },
  {
   "cell_type": "markdown",
   "id": "d895b647",
   "metadata": {
    "slideshow": {
     "slide_type": "subslide"
    }
   },
   "source": [
    "----\n",
    "\n",
    "## Importing functionalities"
   ]
  },
  {
   "cell_type": "markdown",
   "id": "ea44b080",
   "metadata": {},
   "source": [
    "----"
   ]
  },
  {
   "cell_type": "code",
   "execution_count": null,
   "id": "fa88f935",
   "metadata": {},
   "outputs": [],
   "source": [
    "# Importing new features\n",
    "# ..is easy. Features are collected\n",
    "# in packages or modules. Just\n",
    "import math  # to use the\n",
    "math.sqrt  # function\n",
    "\n",
    "math.sqrt(2)"
   ]
  },
  {
   "cell_type": "code",
   "execution_count": null,
   "id": "99c91c5d",
   "metadata": {},
   "outputs": [],
   "source": [
    "# We can even import single functions\n",
    "#  or constants from a module\n",
    "from math import pi as π\n",
    "π / 2"
   ]
  },
  {
   "cell_type": "markdown",
   "id": "8dde31cf",
   "metadata": {
    "slideshow": {
     "slide_type": "subslide"
    }
   },
   "source": [
    "----\n",
    "\n",
    "Modules contain documentation in the form of docstrings,\n",
    "that jupyter presents in scrollable boxes."
   ]
  },
  {
   "cell_type": "code",
   "execution_count": null,
   "id": "1607a9d1",
   "metadata": {},
   "outputs": [],
   "source": [
    "\n",
    "# Read the module documentation...\n",
    "help(math)"
   ]
  },
  {
   "cell_type": "code",
   "execution_count": null,
   "id": "9ca8d592",
   "metadata": {},
   "outputs": [],
   "source": [
    "# ...or the function documentation\n",
    "help(math.sqrt)\n"
   ]
  },
  {
   "cell_type": "markdown",
   "id": "cda9802c",
   "metadata": {
    "slideshow": {
     "slide_type": "slide"
    }
   },
   "source": [
    "---\n",
    "\n",
    "#### Bonus track: reserved words\n",
    "\n",
    "Python has a set of reserved words that cannot be used as variable names, including:\n",
    "\n",
    "- `if, else, for, while, and, or, not, in, is, break, continue, pass, def, class, return, try, except, finally, lambda`.\n",
    "\n",
    "Sadly, some core, built-in function names in python 2 can be used as variable names, including:\n",
    "\n",
    "- `file, print, len, type, list, exit`.\n",
    "\n",
    "This means that a programmer can accidentally overwrite the built-in function with a variable of the same name, causing unexpected results.\n",
    "\n",
    "Now we will see an example of this, and how to fix it using the built-in module."
   ]
  },
  {
   "cell_type": "code",
   "execution_count": null,
   "id": "8b5edaca",
   "metadata": {},
   "outputs": [],
   "source": [
    "# We should respect reserved words and built-in functions, like print, ord...\n",
    "print((\"ord:\\x20\", ord))\n"
   ]
  },
  {
   "cell_type": "markdown",
   "id": "a599da12",
   "metadata": {},
   "source": [
    "----"
   ]
  },
  {
   "cell_type": "code",
   "execution_count": null,
   "id": "8ec7151c",
   "metadata": {},
   "outputs": [],
   "source": [
    "# We can discover the original module of an object with\n",
    "print(ord.__module__)"
   ]
  },
  {
   "cell_type": "markdown",
   "id": "3e1e0388",
   "metadata": {
    "slideshow": {
     "slide_type": "subslide"
    }
   },
   "source": [
    "----\n",
    "\n",
    "Note:\n",
    "\n",
    "- python 2 uses the `__builtin__` module, while\n",
    "- python 3 uses the `builtins` module.\n",
    "\n",
    "In both cases, you should never use the `__builtins__` module (note the final **s**), because it's implementation dependent.\n",
    "For further information on this topic, see [the python execution model documentation](https://docs.python.org/3/reference/executionmodel.html#builtins-and-restricted-execution)"
   ]
  },
  {
   "cell_type": "markdown",
   "id": "ba050362",
   "metadata": {},
   "source": [
    "----"
   ]
  },
  {
   "cell_type": "code",
   "execution_count": null,
   "id": "6f901f7d",
   "metadata": {},
   "outputs": [],
   "source": [
    "# If we override a function and call it...\n",
    "ord = 4\n",
    "ord('*')  # ...ooops!"
   ]
  },
  {
   "cell_type": "code",
   "execution_count": null,
   "id": "e5c21d8e",
   "metadata": {},
   "outputs": [],
   "source": [
    "# We can fix it up importing the version specific built-in module\n",
    "#   and reassigning the variable to the original function\n",
    "\n",
    "try:  # Try the python 2 syntax...\n",
    "    import __builtin__ as builtins\n",
    "except ImportError:  # And if it fails, use the python 3 syntax.\n",
    "    import builtins\n",
    "\n",
    "ord = builtins.ord\n",
    "ord('*')  # ...ooops!"
   ]
  }
 ],
 "metadata": {},
 "nbformat": 4,
 "nbformat_minor": 5
}
