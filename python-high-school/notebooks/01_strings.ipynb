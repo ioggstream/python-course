{
 "cells": [
  {
   "cell_type": "markdown",
   "id": "27d7f8d3",
   "metadata": {},
   "source": [
    "# Strings\n",
    "\n",
    "## Agenda\n",
    "\n",
    "- Strings\n",
    "- Character encoding\n",
    "- Notable escape sequences\n",
    "- Formatting numbers\n",
    "- Bonus track: Formatting\n",
    "- Bonus track: reserved words\n",
    "\n",
    "---\n",
    "\n",
    "## Strings\n",
    "\n",
    "In python you can define a string using single or double quotes:"
   ]
  },
  {
   "cell_type": "code",
   "execution_count": null,
   "id": "6e0648b4",
   "metadata": {},
   "outputs": [],
   "source": [
    "# Use the most convenient quotes depending on the string.\n",
    "a_string = \"Ciao, I'm Roberto\"\n",
    "another_string = 'I \"love\" python'"
   ]
  },
  {
   "cell_type": "markdown",
   "id": "6e018b2c",
   "metadata": {},
   "source": [
    "A string is a finite, ordered sequence of typographic characters\n",
    "(e.g., from an alphabet, like the one taught at school).\n",
    "\n",
    "Exercises: finite strings using an alphabet $\\Sigma : |\\Sigma| = k$.\n",
    "\n",
    "- How many strings of length $n=8$ can you build when $|\\Sigma| = 2$?"
   ]
  },
  {
   "cell_type": "code",
   "execution_count": null,
   "id": "f4eb6153",
   "metadata": {},
   "outputs": [],
   "source": [
    "k = 2\n",
    "n = 8\n",
    "solution =\n",
    "print(solution)"
   ]
  },
  {
   "cell_type": "markdown",
   "id": "55f419f4",
   "metadata": {},
   "source": [
    "- How many strings of length $m : m \\le n=8$, included the empty string, can you build?"
   ]
  },
  {
   "cell_type": "code",
   "execution_count": null,
   "id": "981d22fc",
   "metadata": {},
   "outputs": [],
   "source": [
    "solution =\n",
    "print(solution)"
   ]
  },
  {
   "cell_type": "markdown",
   "id": "68ce3e95",
   "metadata": {},
   "source": [
    "- 🦾 Can you generalize the solution for any $n$ and $k$? Can you write a mathematical formula for the solution?\n",
    "\n",
    "Use the following cell to compute the answer."
   ]
  },
  {
   "cell_type": "code",
   "execution_count": null,
   "id": "481d4afc",
   "metadata": {},
   "outputs": [],
   "source": [
    "k = 2\n",
    "n = 8\n",
    "solution = 1 + ...  # compute the solution here\n",
    "print(solution)"
   ]
  },
  {
   "cell_type": "markdown",
   "id": "a2475a54",
   "metadata": {},
   "source": [
    "<!-- numerical solution: sum([k**i for i in range(0, n + 1)]) -->\n",
    "<!-- $$\\sum_{i=0}^{n} k^i = \\frac{k^{n+1} - 1}{k-1}$$ -->\n",
    "\n",
    "The set of all finite strings can be represented with the symbol $\\Sigma^{*}$.\n",
    "\n",
    "----\n",
    "\n",
    "### Operations on strings\n",
    "\n",
    "Python defines some operations on strings:"
   ]
  },
  {
   "cell_type": "code",
   "execution_count": null,
   "id": "1c29ebdc",
   "metadata": {},
   "outputs": [],
   "source": [
    "print(\"a\" + \"b\")  # concatenation\n",
    "print(\"a\" * 3)    # repetition"
   ]
  },
  {
   "cell_type": "markdown",
   "id": "ad88ef16",
   "metadata": {},
   "source": [
    "You can template strings using the so-called \"f-string\" notation:"
   ]
  },
  {
   "cell_type": "code",
   "execution_count": null,
   "id": "b6cbe9da",
   "metadata": {},
   "outputs": [],
   "source": [
    "a = 1\n",
    "print(f\"the value of a is {a}\")"
   ]
  },
  {
   "cell_type": "markdown",
   "id": "4fb25c36",
   "metadata": {},
   "source": [
    "Exercise:"
   ]
  },
  {
   "cell_type": "code",
   "execution_count": null,
   "id": "066f7ded",
   "metadata": {},
   "outputs": [],
   "source": [
    "# Use this cell to print the value of a_string and another_string"
   ]
  },
  {
   "cell_type": "markdown",
   "id": "f801c073",
   "metadata": {},
   "source": [
    "---\n",
    "\n",
    "### Character encoding\n",
    "\n",
    "At school we learnt a 26-letter, A-Z alphabet.\n",
    "Today, we commonly use a much larger alphabet, featuring:\n",
    "lowercase and uppercase letters, numbers, spaces (e.g. \" \", a new line, ), punctuation, emojis, and so on.\n",
    "\n",
    "----\n",
    "\n",
    "To communicate these charactes at the speed of light, we need to\n",
    "transmit them using electric signals.\n",
    "The Morse code was the first way of encoding characters\n",
    "made to be transmitted using electric signals over a telegraph.\n",
    "\n",
    "Nowadays computers represents typographic characters with numbers,\n",
    "that are then encoded in sequences of $0$ and $1$ and transmitted using electric signals.\n",
    "\n",
    "----\n",
    "\n",
    "The most common way of mapping characters to integers is the Extended ASCII table.\n",
    "Since the basic unit used by computers is the byte, the Extended ASCII table is limited to 256 characters.\n",
    "\n",
    "$\n",
    "byte \\in \\mathbb{Z}_{255} : = \\{ z : z \\in \\mathbb{Z}; 0 \\le z \\le 255 \\} \\\\\n",
    "\\Sigma = \\{ a, b, c, \\dots, A, B, C, \\dots, \", !, ?, \\dots  \\}\n",
    "$\n",
    "\n",
    "The python functions `chr` and `ord` are used to convert between characters and integers.\n",
    "\n",
    "$\n",
    "chr : \\mathbb{Z}_{255} \\rightarrow \\Sigma \\\\\n",
    "ord : \\Sigma \\rightarrow \\mathbb{Z}_{255}\n",
    "$"
   ]
  },
  {
   "cell_type": "code",
   "execution_count": null,
   "id": "4ba3c65b",
   "metadata": {},
   "outputs": [],
   "source": [
    "# The function chr() returns the character corresponding to an integer.\n",
    "chr(42)"
   ]
  },
  {
   "cell_type": "code",
   "execution_count": null,
   "id": "de1a1caf",
   "metadata": {},
   "outputs": [],
   "source": [
    "# The function ord() returns the integer value of a character.\n",
    "ord('*')"
   ]
  },
  {
   "cell_type": "markdown",
   "id": "626497cd",
   "metadata": {},
   "source": [
    "----\n",
    "\n",
    "Nowadays, the most common character encoding is UTF, that is a superset of ASCII.\n",
    "It uses more than one byte to represent a character,\n",
    "so it can represent up to $17 * 2^{16}$ characters\n",
    "from different languages and symbols like emojis."
   ]
  },
  {
   "cell_type": "code",
   "execution_count": null,
   "id": "21a0436e",
   "metadata": {},
   "outputs": [],
   "source": [
    "smile = '😀'\n",
    "print(smile, \"->\", ord(smile))"
   ]
  },
  {
   "cell_type": "code",
   "execution_count": null,
   "id": "eb5b4b42",
   "metadata": {},
   "outputs": [],
   "source": [
    "# prefixing a string with 'r' disables the\n",
    "# interpretation of the string content\n",
    "print('Hello' * 2 + r'World\\x21')"
   ]
  },
  {
   "cell_type": "markdown",
   "id": "83b3496b",
   "metadata": {},
   "source": [
    "----\n",
    "\n",
    "### Notable escape sequences\n",
    "\n",
    "You can print special characters such as\n",
    "`new line` or `tabular spaces` using the escape sequence notation."
   ]
  },
  {
   "cell_type": "code",
   "execution_count": null,
   "id": "4509d360",
   "metadata": {},
   "outputs": [],
   "source": [
    "# The \\n and \\t are\n",
    "# just the usual notation for newline and tab\n",
    "print(\"Hello\\n\\tWorld!\")"
   ]
  },
  {
   "cell_type": "code",
   "execution_count": null,
   "id": "215a76a6",
   "metadata": {},
   "outputs": [],
   "source": [
    "# triple-quoting allows multi-line strings\n",
    "answer = ord('*')\n",
    "print(f\"\"\"The answer is\n",
    "\n",
    "{answer}\n",
    "\"\"\")\n"
   ]
  },
  {
   "cell_type": "markdown",
   "id": "1de541ea",
   "metadata": {},
   "source": [
    "---\n",
    "\n",
    "## Formatting numbers\n",
    "\n",
    "Formatting means representing a number with a finite string.\n",
    "Note: it is impossible to represent all the real numbers with finite strings ;)\n",
    "\n",
    "$\n",
    "formatting: \\mathbb{Q} \\rightarrow \\Sigma^{*}\n",
    "$"
   ]
  },
  {
   "cell_type": "code",
   "execution_count": null,
   "id": "ca1d5b53",
   "metadata": {},
   "outputs": [],
   "source": [
    "# bin() and hex() returns a string representation\n",
    "# of an integer number. These are *different* formatting functions.\n",
    "a, b1 = hex(10), bin(1)"
   ]
  },
  {
   "cell_type": "code",
   "execution_count": null,
   "id": "91be3d4d",
   "metadata": {},
   "outputs": [],
   "source": [
    "# Exercise: which is the type of a? And the type of b1?\n",
    "type(a)"
   ]
  },
  {
   "cell_type": "markdown",
   "id": "f5787299",
   "metadata": {},
   "source": [
    "----"
   ]
  },
  {
   "cell_type": "code",
   "execution_count": null,
   "id": "0421b4ca",
   "metadata": {},
   "outputs": [],
   "source": [
    "# The format() function is very flexible\n",
    "#  10 = 8digits + 2chars for the '0b' header\n",
    "binary_with_leading_zeroes = format(1, '#010b')"
   ]
  },
  {
   "cell_type": "markdown",
   "id": "57802d43",
   "metadata": {},
   "source": [
    "----\n",
    "\n",
    "Processing a string to create a number is called parsing (:it: analisi grammaticale)."
   ]
  },
  {
   "cell_type": "code",
   "execution_count": null,
   "id": "b9433812",
   "metadata": {},
   "outputs": [],
   "source": [
    "# and reversible with\n",
    "b1 == int(binary_with_leading_zeroes, base=2)"
   ]
  },
  {
   "cell_type": "markdown",
   "id": "b7422360",
   "metadata": {},
   "source": [
    "----"
   ]
  },
  {
   "cell_type": "code",
   "execution_count": null,
   "id": "90ef0a81",
   "metadata": {},
   "outputs": [],
   "source": [
    "# Exercise: use this cell to inspect the values of the above variables."
   ]
  },
  {
   "cell_type": "code",
   "execution_count": null,
   "id": "10671aea",
   "metadata": {},
   "outputs": [],
   "source": [
    "# Exercise: use this cell to compute the value of the hexadecimal number `abc`.\n",
    "# Hint: read the int function manual.\n",
    "help(int)"
   ]
  },
  {
   "cell_type": "markdown",
   "id": "c1d75448",
   "metadata": {},
   "source": [
    "---\n",
    "\n",
    "## Bonus track: Formatting\n",
    "\n",
    "----"
   ]
  },
  {
   "cell_type": "code",
   "execution_count": null,
   "id": "12ae08ee",
   "metadata": {},
   "outputs": [],
   "source": [
    "# The new str.format function just replaces\n",
    "#  %s and %d with {}.\n",
    "s_a = \"is a string \"\n",
    "\n",
    "print(s_a)"
   ]
  },
  {
   "cell_type": "markdown",
   "id": "1b1489ae",
   "metadata": {},
   "source": [
    "----"
   ]
  },
  {
   "cell_type": "code",
   "execution_count": null,
   "id": "6281040d",
   "metadata": {},
   "outputs": [],
   "source": [
    "# A string\n",
    "s_a += f\"that can be extended\""
   ]
  },
  {
   "cell_type": "markdown",
   "id": "d905c51f",
   "metadata": {},
   "source": [
    "----"
   ]
  },
  {
   "cell_type": "code",
   "execution_count": null,
   "id": "4ff16f5d",
   "metadata": {},
   "outputs": [],
   "source": [
    "# Exercise: print the value of s_a"
   ]
  },
  {
   "cell_type": "markdown",
   "id": "5d43956a",
   "metadata": {},
   "source": [
    "----"
   ]
  },
  {
   "cell_type": "code",
   "execution_count": null,
   "id": "9a0b7de1",
   "metadata": {},
   "outputs": [],
   "source": [
    "# Further formatting is done using \":\", eg.\n",
    "# {:.6} -> limit the string to 6 characters\n",
    "# {:3.2} -> limit the string to 3 characters, 2 after the decimal point\n",
    "\n",
    "s_a = f\"{s_a} even with {'positional':.6} formatting.\\n\""
   ]
  },
  {
   "cell_type": "markdown",
   "id": "bfb3aae9",
   "metadata": {},
   "source": [
    "----"
   ]
  },
  {
   "cell_type": "code",
   "execution_count": null,
   "id": "363d1973",
   "metadata": {},
   "outputs": [],
   "source": [
    "# Alignment identifiers are simpler: < left , ^ center,  > right\n",
    "n = 100\n",
    "s_a = f\"Align {n:>10}% python!\"\n",
    "print(s_a)\n",
    "print(\"just prints a string\")"
   ]
  },
  {
   "cell_type": "markdown",
   "id": "a99aa20c",
   "metadata": {},
   "source": [
    "----"
   ]
  },
  {
   "cell_type": "code",
   "execution_count": null,
   "id": "7fcec335",
   "metadata": {},
   "outputs": [],
   "source": [
    "# Exercise: modify s_a to align the string to the left and to the center."
   ]
  },
  {
   "cell_type": "markdown",
   "id": "def260a9",
   "metadata": {},
   "source": [
    "---\n",
    "\n",
    "### Formatting with names\n",
    "\n",
    "----"
   ]
  },
  {
   "cell_type": "code",
   "execution_count": null,
   "id": "eeb2194f",
   "metadata": {},
   "outputs": [],
   "source": [
    "# You can name variables to get\n",
    "# a better formatting experience ;)\n",
    "fmt_a = \"{name:<.3} {nick:^.8} {sn:>30}\"\n",
    "print(fmt_a.format(name=\"-\"*10, nick=\"*\"*15, sn=\"-\"*40))\n",
    "print(fmt_a.format(name=\"Roberto\", nick=\"ioggstream\", sn=\"Polli\"))"
   ]
  },
  {
   "cell_type": "markdown",
   "id": "75c39d46",
   "metadata": {},
   "source": [
    "----\n",
    "\n",
    "## Importing functionalities\n",
    "\n",
    "----"
   ]
  },
  {
   "cell_type": "code",
   "execution_count": null,
   "id": "6cf61c20",
   "metadata": {},
   "outputs": [],
   "source": [
    "# Importing new features\n",
    "# ..is easy. Features are collected\n",
    "# in packages or modules. Just\n",
    "import math  # to use the\n",
    "math.sqrt  # function\n",
    "\n",
    "math.sqrt(2)"
   ]
  },
  {
   "cell_type": "code",
   "execution_count": null,
   "id": "5b00b651",
   "metadata": {},
   "outputs": [],
   "source": [
    "# We can even import single functions\n",
    "#  or constants from a module\n",
    "from math import pi as π\n",
    "π / 2"
   ]
  },
  {
   "cell_type": "markdown",
   "id": "acab0774",
   "metadata": {},
   "source": [
    "----\n",
    "\n",
    "Modules contain documentation in the form of docstrings,\n",
    "that jupyter presents in scrollable boxes."
   ]
  },
  {
   "cell_type": "code",
   "execution_count": null,
   "id": "68b71460",
   "metadata": {},
   "outputs": [],
   "source": [
    "\n",
    "# Read the module documentation...\n",
    "help(math)"
   ]
  },
  {
   "cell_type": "code",
   "execution_count": null,
   "id": "2413069c",
   "metadata": {},
   "outputs": [],
   "source": [
    "# ...or the function documentation\n",
    "help(math.sqrt)\n"
   ]
  },
  {
   "cell_type": "markdown",
   "id": "a8e76389",
   "metadata": {},
   "source": [
    "---\n",
    "\n",
    "#### Bonus track: reserved words\n",
    "\n",
    "Python has a set of reserved words that cannot be used as variable names, including:\n",
    "\n",
    "- `if, else, for, while, and, or, not, in, is, break, continue, pass, def, class, return, try, except, finally, lambda`.\n",
    "\n",
    "Sadly, some core, built-in function names in python 2 can be used as variable names, including:\n",
    "\n",
    "- `file, print, len, type, list, exit`.\n",
    "\n",
    "This means that a programmer can accidentally overwrite the built-in function with a variable of the same name, causing unexpected results.\n",
    "\n",
    "Now we will see an example of this, and how to fix it using the built-in module."
   ]
  },
  {
   "cell_type": "code",
   "execution_count": null,
   "id": "8c3ddb85",
   "metadata": {},
   "outputs": [],
   "source": [
    "# We should respect reserved words and built-in functions, like print, ord...\n",
    "print((\"ord:\\x20\", ord))\n"
   ]
  },
  {
   "cell_type": "markdown",
   "id": "bc751afc",
   "metadata": {},
   "source": [
    "----"
   ]
  },
  {
   "cell_type": "code",
   "execution_count": null,
   "id": "6ee7eade",
   "metadata": {},
   "outputs": [],
   "source": [
    "# We can discover the original module of an object with\n",
    "print(ord.__module__)"
   ]
  },
  {
   "cell_type": "markdown",
   "id": "5216d5ef",
   "metadata": {},
   "source": [
    "----\n",
    "\n",
    "Note:\n",
    "\n",
    "- python 2 uses the `__builtin__` module, while\n",
    "- python 3 uses the `builtins` module.\n",
    "\n",
    "In both cases, you should never use the `__builtins__` module (note the final **s**), because it's implementation dependent.\n",
    "For further information on this topic, see [the python execution model documentation](https://docs.python.org/3/reference/executionmodel.html#builtins-and-restricted-execution)\n",
    "\n",
    "----"
   ]
  },
  {
   "cell_type": "code",
   "execution_count": null,
   "id": "138e01e7",
   "metadata": {},
   "outputs": [],
   "source": [
    "# If we override a function and call it...\n",
    "ord = 4\n",
    "ord('*')  # ...ooops!"
   ]
  },
  {
   "cell_type": "code",
   "execution_count": null,
   "id": "23440a4a",
   "metadata": {},
   "outputs": [],
   "source": [
    "# We can fix it up importing the version specific built-in module\n",
    "#   and reassigning the variable to the original function\n",
    "\n",
    "try:  # Try the python 2 syntax...\n",
    "    import __builtin__ as builtins\n",
    "except ImportError:  # And if it fails, use the python 3 syntax.\n",
    "    import builtins\n",
    "\n",
    "ord = builtins.ord\n",
    "ord('*')  # ...ooops!"
   ]
  }
 ],
 "metadata": {},
 "nbformat": 4,
 "nbformat_minor": 5
}
