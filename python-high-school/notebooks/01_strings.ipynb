{
 "cells": [
  {
   "cell_type": "markdown",
   "id": "6a60b456",
   "metadata": {},
   "source": [
    "# Strings\n",
    "\n",
    "## Agenda\n",
    "\n",
    "- Strings\n",
    "- Character encoding\n",
    "- Notable escape sequences\n",
    "- Formatting numbers\n",
    "- Bonus track: Formatting\n",
    "- Bonus track: reserved words\n",
    "\n",
    "## Strings\n",
    "\n",
    "In python you can define a string using single or double quotes:"
   ]
  },
  {
   "cell_type": "code",
   "execution_count": null,
   "id": "c5e3ef0a",
   "metadata": {},
   "outputs": [],
   "source": [
    "# Use the most convenient quotes depending on the string.\n",
    "a_string = \"Ciao, I'm Roberto\"\n",
    "another_string = 'I \"love\" python'"
   ]
  },
  {
   "cell_type": "markdown",
   "id": "38858fc0",
   "metadata": {},
   "source": [
    "A string is a finite, ordered sequence of typographic characters\n",
    "(e.g., from an alphabet like the one we learn at school).\n",
    "\n",
    "Exercise: finite strings using an alphabet $\\mathcal{A}$ where $|\\mathcal{A}| = k$.\n",
    "\n",
    "- How many strings of length $n=8$ can you build?\n",
    "- How many strings of length $m \\le n, n=8$, included the empty string, can you build?\n",
    "- 🦾 Can you generalize the solution for any $n$ and $k$?\n",
    "\n",
    "Hint: use the following cell to compute the answer."
   ]
  },
  {
   "cell_type": "code",
   "execution_count": null,
   "id": "268e673b",
   "metadata": {},
   "outputs": [],
   "source": [
    "k = 2\n",
    "n = 8\n",
    "solution = 1 + ...  # compute the solution here\n",
    "print(solution)"
   ]
  },
  {
   "cell_type": "markdown",
   "id": "d36ac94d",
   "metadata": {},
   "source": [
    "We can represent the set of all finite strings with $\\mathcal{S}$.\n",
    "\n",
    "Python defines some operations on strings:"
   ]
  },
  {
   "cell_type": "code",
   "execution_count": null,
   "id": "2b9985ad",
   "metadata": {},
   "outputs": [],
   "source": [
    "print(\"a\" + \"b\")  # concatenation\n",
    "print(\"a\" * 3)    # repetition"
   ]
  },
  {
   "cell_type": "markdown",
   "id": "cd1b9462",
   "metadata": {},
   "source": [
    "You can template strings using the f-string notation:"
   ]
  },
  {
   "cell_type": "code",
   "execution_count": null,
   "id": "fc710626",
   "metadata": {},
   "outputs": [],
   "source": [
    "a = 1\n",
    "print(f\"the value of a is {a}\")"
   ]
  },
  {
   "cell_type": "markdown",
   "id": "93029e12",
   "metadata": {},
   "source": [
    "Exercise:"
   ]
  },
  {
   "cell_type": "code",
   "execution_count": null,
   "id": "e5d0757c",
   "metadata": {},
   "outputs": [],
   "source": [
    "# Use this cell to print the value of a_string and another_string"
   ]
  },
  {
   "cell_type": "markdown",
   "id": "cb6137ab",
   "metadata": {
    "slideshow": {
     "slide_type": "slide"
    }
   },
   "source": [
    "---\n",
    "\n",
    "### Character encoding\n",
    "\n",
    "While at school we learn the alphabet with 26 letters,\n",
    "we actually use a much larger alphabet in our daily life:\n",
    "we use numbers, spaces (e.g. ``, a new line, ), punctuation, emojis, and so on.\n",
    "\n",
    "To communicate these charactes at the speed of light, we need to\n",
    "transmit them using electric signals.\n",
    "The Morse code was the first way of encoding characters\n",
    "made to be transmitted using electric signals.\n",
    "\n",
    "Nowadays computers represents typographic characters with numbers,\n",
    "that are then encoded in sequences of $0$ and $1$ and transmitted using electric signals.\n",
    "\n",
    "The most common way of mapping characters to numbers is the Extended ASCII table.\n",
    "Since the basic computer unit is the byte, the Extended ASCII table is limited to 256 characters.\n",
    "\n",
    "$\n",
    "byte \\in \\mathbb{Z}_{255} : = \\{ z : z \\in \\mathbb{Z}; 0 \\le z \\le 255 \\} \\\\\n",
    "\\mathcal{A} = \\{ a, b, c, \\dots, A, B, C, \\dots, \", !, ?, \\dots  \\}\n",
    "$\n",
    "\n",
    "$\n",
    "chr : \\mathbb{Z}_{255} \\rightarrow \\mathcal{A} \\\\\n",
    "ord : \\mathcal{A} \\rightarrow \\mathbb{Z}_{255}\n",
    "$"
   ]
  },
  {
   "cell_type": "code",
   "execution_count": null,
   "id": "c19b8c7f",
   "metadata": {},
   "outputs": [],
   "source": [
    "# The function chr() returns the character corresponding to an integer.\n",
    "chr(42)"
   ]
  },
  {
   "cell_type": "code",
   "execution_count": null,
   "id": "9101ebb0",
   "metadata": {},
   "outputs": [],
   "source": [
    "# The function ord() returns the integer value of a character.\n",
    "ord('*')"
   ]
  },
  {
   "cell_type": "markdown",
   "id": "2ff31e36",
   "metadata": {},
   "source": [
    "Nowadays, the most common character encoding is UTF, that is a superset of ASCII.\n",
    "It uses more than one byte to represent a character,\n",
    "so it can represent up to $17 * 2^{16}$ characters\n",
    "from different languages and symbols like emojis."
   ]
  },
  {
   "cell_type": "code",
   "execution_count": null,
   "id": "51c157cd",
   "metadata": {},
   "outputs": [],
   "source": [
    "smile = '😀'\n",
    "print(smile, \"->\", ord(smile))"
   ]
  },
  {
   "cell_type": "code",
   "execution_count": null,
   "id": "b13a516b",
   "metadata": {},
   "outputs": [],
   "source": [
    "# prefixing a string with 'r' disables the\n",
    "# interpretation of the string content\n",
    "print('Hello' * 2 + r'World\\x21')"
   ]
  },
  {
   "cell_type": "markdown",
   "id": "dcd69545",
   "metadata": {
    "slideshow": {
     "slide_type": "subslide"
    }
   },
   "source": [
    "----\n",
    "\n",
    "### Notable escape sequences\n",
    "\n",
    "You can print special characters such as\n",
    "`new line` or `tabular spaces` using the escape sequence notation."
   ]
  },
  {
   "cell_type": "code",
   "execution_count": null,
   "id": "7e232cd8",
   "metadata": {},
   "outputs": [],
   "source": [
    "# The \\n and \\t are\n",
    "# just the usual notation for newline and tab\n",
    "print(\"Hello\\n\\tWorld!\")"
   ]
  },
  {
   "cell_type": "code",
   "execution_count": null,
   "id": "4683e326",
   "metadata": {},
   "outputs": [],
   "source": [
    "# triple-quoting allows multi-line strings\n",
    "answer = ord('*')\n",
    "print(f\"\"\"The answer is\n",
    "\n",
    "{answer}\n",
    "\"\"\")\n"
   ]
  },
  {
   "cell_type": "markdown",
   "id": "0b572cfb",
   "metadata": {
    "slideshow": {
     "slide_type": "slide"
    }
   },
   "source": [
    "---\n",
    "\n",
    "## Formatting numbers\n",
    "\n",
    "Formatting means representing a number with a string.\n",
    "Note: it is impossible to represent all the real numbers with finite strings ;)\n",
    "\n",
    "$\n",
    "formatting: \\mathbb{Q} \\rightarrow \\mathcal{S}\n",
    "$"
   ]
  },
  {
   "cell_type": "code",
   "execution_count": null,
   "id": "32a2fe13",
   "metadata": {},
   "outputs": [],
   "source": [
    "# bin() and hex() returns a string representation\n",
    "# of an integer number. These are *different* formatting functions.\n",
    "a, b1 = hex(10), bin(1)"
   ]
  },
  {
   "cell_type": "code",
   "execution_count": null,
   "id": "ee887c24",
   "metadata": {},
   "outputs": [],
   "source": [
    "# Exercise: which is the type of a? And the type of b1?\n",
    "type(a)"
   ]
  },
  {
   "cell_type": "markdown",
   "id": "4557cf35",
   "metadata": {},
   "source": [
    "----"
   ]
  },
  {
   "cell_type": "code",
   "execution_count": null,
   "id": "27a58fea",
   "metadata": {},
   "outputs": [],
   "source": [
    "# The format() function is very flexible\n",
    "#  10 = 8digits + 2chars for the '0b' header\n",
    "binary_with_leading_zeroes = format(1, '#010b')"
   ]
  },
  {
   "cell_type": "markdown",
   "id": "dc97eaed",
   "metadata": {
    "slideshow": {
     "slide_type": "subslide"
    }
   },
   "source": [
    "----\n",
    "\n",
    "Processing a string to create a number is called parsing (:it: analisi grammaticale)."
   ]
  },
  {
   "cell_type": "code",
   "execution_count": null,
   "id": "c04d308d",
   "metadata": {},
   "outputs": [],
   "source": [
    "# and reversible with\n",
    "b1 == int(binary_with_leading_zeroes, base=2)"
   ]
  },
  {
   "cell_type": "markdown",
   "id": "8e8ffb0d",
   "metadata": {},
   "source": [
    "----"
   ]
  },
  {
   "cell_type": "code",
   "execution_count": null,
   "id": "9cf55762",
   "metadata": {},
   "outputs": [],
   "source": [
    "# Exercise: use this cell to inspect the values of the above variables."
   ]
  },
  {
   "cell_type": "code",
   "execution_count": null,
   "id": "dec3d1dc",
   "metadata": {},
   "outputs": [],
   "source": [
    "# Exercise: use this cell to compute the value of the hexadecimal number `abc`.\n",
    "# Hint: read the int function manual.\n",
    "help(int)"
   ]
  },
  {
   "cell_type": "markdown",
   "id": "cfd8a608",
   "metadata": {
    "slideshow": {
     "slide_type": "slide"
    }
   },
   "source": [
    "---\n",
    "\n",
    "## Bonus track: Formatting"
   ]
  },
  {
   "cell_type": "markdown",
   "id": "1b201fc5",
   "metadata": {},
   "source": [
    "----"
   ]
  },
  {
   "cell_type": "code",
   "execution_count": null,
   "id": "67ae05d0",
   "metadata": {},
   "outputs": [],
   "source": [
    "# The new str.format function just replaces\n",
    "#  %s and %d with {}.\n",
    "s_a = \"is a string \"\n",
    "\n",
    "print(s_a)"
   ]
  },
  {
   "cell_type": "markdown",
   "id": "148ccd98",
   "metadata": {},
   "source": [
    "----"
   ]
  },
  {
   "cell_type": "code",
   "execution_count": null,
   "id": "1418f6c9",
   "metadata": {},
   "outputs": [],
   "source": [
    "# A string\n",
    "s_a += f\"that can be extended\""
   ]
  },
  {
   "cell_type": "markdown",
   "id": "2a8f6acc",
   "metadata": {},
   "source": [
    "----"
   ]
  },
  {
   "cell_type": "code",
   "execution_count": null,
   "id": "fff63147",
   "metadata": {},
   "outputs": [],
   "source": [
    "# Exercise: print the value of s_a"
   ]
  },
  {
   "cell_type": "markdown",
   "id": "5960a0ce",
   "metadata": {},
   "source": [
    "----"
   ]
  },
  {
   "cell_type": "code",
   "execution_count": null,
   "id": "11f3845a",
   "metadata": {},
   "outputs": [],
   "source": [
    "# Further formatting is done using \":\", eg.\n",
    "# {:.6} -> limit the string to 6 characters\n",
    "# {:3.2} -> limit the string to 3 characters, 2 after the decimal point\n",
    "\n",
    "s_a = f\"{s_a} even with {'positional':.6} formatting.\\n\""
   ]
  },
  {
   "cell_type": "markdown",
   "id": "aa66f4da",
   "metadata": {},
   "source": [
    "----"
   ]
  },
  {
   "cell_type": "code",
   "execution_count": null,
   "id": "eb12c1ee",
   "metadata": {},
   "outputs": [],
   "source": [
    "# Alignment identifiers are simpler: < left , ^ center,  > right\n",
    "n = 100\n",
    "s_a = f\"Align {n:>10}% python!\"\n",
    "print(s_a)\n",
    "print(\"just prints a string\")"
   ]
  },
  {
   "cell_type": "markdown",
   "id": "7fb84908",
   "metadata": {},
   "source": [
    "----"
   ]
  },
  {
   "cell_type": "code",
   "execution_count": null,
   "id": "58f7ea76",
   "metadata": {},
   "outputs": [],
   "source": [
    "# Exercise: modify s_a to align the string to the left and to the center."
   ]
  },
  {
   "cell_type": "markdown",
   "id": "c804a7ad",
   "metadata": {
    "slideshow": {
     "slide_type": "slide"
    }
   },
   "source": [
    "---\n",
    "\n",
    "### Formatting with names"
   ]
  },
  {
   "cell_type": "markdown",
   "id": "18fbcf11",
   "metadata": {},
   "source": [
    "----"
   ]
  },
  {
   "cell_type": "code",
   "execution_count": null,
   "id": "a50b1b49",
   "metadata": {},
   "outputs": [],
   "source": [
    "# You can name variables to get\n",
    "# a better formatting experience ;)\n",
    "fmt_a = \"{name:<.3} {nick:^.8} {sn:>30}\"\n",
    "print(fmt_a.format(name=\"-\"*10, nick=\"*\"*15, sn=\"-\"*40))\n",
    "print(fmt_a.format(name=\"Roberto\", nick=\"ioggstream\", sn=\"Polli\"))"
   ]
  },
  {
   "cell_type": "markdown",
   "id": "6e38dc97",
   "metadata": {
    "slideshow": {
     "slide_type": "subslide"
    }
   },
   "source": [
    "----\n",
    "\n",
    "## Importing functionalities"
   ]
  },
  {
   "cell_type": "markdown",
   "id": "eb8a3ea5",
   "metadata": {},
   "source": [
    "----"
   ]
  },
  {
   "cell_type": "code",
   "execution_count": null,
   "id": "5f54e1fb",
   "metadata": {},
   "outputs": [],
   "source": [
    "# Importing new features\n",
    "# ..is easy. Features are collected\n",
    "# in packages or modules. Just\n",
    "import math  # to use the\n",
    "math.sqrt  # function\n",
    "\n",
    "math.sqrt(2)"
   ]
  },
  {
   "cell_type": "code",
   "execution_count": null,
   "id": "84b83670",
   "metadata": {},
   "outputs": [],
   "source": [
    "# We can even import single functions\n",
    "#  or constants from a module\n",
    "from math import pi as π\n",
    "π / 2"
   ]
  },
  {
   "cell_type": "markdown",
   "id": "da5b179f",
   "metadata": {
    "slideshow": {
     "slide_type": "subslide"
    }
   },
   "source": [
    "----\n",
    "\n",
    "Modules contain documentation in the form of docstrings,\n",
    "that jupyter presents in scrollable boxes."
   ]
  },
  {
   "cell_type": "code",
   "execution_count": null,
   "id": "305a4c1a",
   "metadata": {},
   "outputs": [],
   "source": [
    "\n",
    "# Read the module documentation...\n",
    "help(math)"
   ]
  },
  {
   "cell_type": "code",
   "execution_count": null,
   "id": "fc819ba3",
   "metadata": {},
   "outputs": [],
   "source": [
    "# ...or the function documentation\n",
    "help(math.sqrt)\n"
   ]
  },
  {
   "cell_type": "markdown",
   "id": "faafacc6",
   "metadata": {
    "slideshow": {
     "slide_type": "slide"
    }
   },
   "source": [
    "---\n",
    "\n",
    "#### Bonus track: reserved words\n",
    "\n",
    "Python has a set of reserved words that cannot be used as variable names, including:\n",
    "\n",
    "- `if, else, for, while, and, or, not, in, is, break, continue, pass, def, class, return, try, except, finally, lambda`.\n",
    "\n",
    "Sadly, some core, built-in function names in python 2 can be used as variable names, including:\n",
    "\n",
    "- `file, print, len, type, list, exit`.\n",
    "\n",
    "This means that a programmer can accidentally overwrite the built-in function with a variable of the same name, causing unexpected results.\n",
    "\n",
    "Now we will see an example of this, and how to fix it using the built-in module."
   ]
  },
  {
   "cell_type": "code",
   "execution_count": null,
   "id": "76eb1ac6",
   "metadata": {},
   "outputs": [],
   "source": [
    "# We should respect reserved words and built-in functions, like print, ord...\n",
    "print((\"ord:\\x20\", ord))\n"
   ]
  },
  {
   "cell_type": "markdown",
   "id": "28ed2b90",
   "metadata": {},
   "source": [
    "----"
   ]
  },
  {
   "cell_type": "code",
   "execution_count": null,
   "id": "2e3dadf4",
   "metadata": {},
   "outputs": [],
   "source": [
    "# We can discover the original module of an object with\n",
    "print(ord.__module__)"
   ]
  },
  {
   "cell_type": "markdown",
   "id": "90d749c0",
   "metadata": {
    "slideshow": {
     "slide_type": "subslide"
    }
   },
   "source": [
    "----\n",
    "\n",
    "Note:\n",
    "\n",
    "- python 2 uses the `__builtin__` module, while\n",
    "- python 3 uses the `builtins` module.\n",
    "\n",
    "In both cases, you should never use the `__builtins__` module (note the final **s**), because it's implementation dependent.\n",
    "For further information on this topic, see [the python execution model documentation](https://docs.python.org/3/reference/executionmodel.html#builtins-and-restricted-execution)"
   ]
  },
  {
   "cell_type": "markdown",
   "id": "5edbc2aa",
   "metadata": {},
   "source": [
    "----"
   ]
  },
  {
   "cell_type": "code",
   "execution_count": null,
   "id": "338887a9",
   "metadata": {},
   "outputs": [],
   "source": [
    "# If we override a function and call it...\n",
    "ord = 4\n",
    "ord('*')  # ...ooops!"
   ]
  },
  {
   "cell_type": "code",
   "execution_count": null,
   "id": "366b882f",
   "metadata": {},
   "outputs": [],
   "source": [
    "# We can fix it up importing the version specific built-in module\n",
    "#   and reassigning the variable to the original function\n",
    "\n",
    "try:  # Try the python 2 syntax...\n",
    "    import __builtin__ as builtins\n",
    "except ImportError:  # And if it fails, use the python 3 syntax.\n",
    "    import builtins\n",
    "\n",
    "ord = builtins.ord\n",
    "ord('*')  # ...ooops!"
   ]
  }
 ],
 "metadata": {},
 "nbformat": 4,
 "nbformat_minor": 5
}
