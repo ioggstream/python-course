{
 "cells": [
  {
   "cell_type": "markdown",
   "id": "df7aa0ce",
   "metadata": {},
   "source": [
    "# Python for System Administrators\n",
    "\n",
    "Introductory Lesson 2\n",
    "\n",
    "- Roberto Polli - <roberto.polli@par-tec.it>"
   ]
  },
  {
   "cell_type": "code",
   "execution_count": null,
   "id": "e5dde425",
   "metadata": {},
   "outputs": [],
   "source": [
    "# before starting this lesson\n",
    "#  import the python3 print capabilities\n",
    "#  using the following statement\n",
    "#  NB since now you *must* always use\n",
    "#     parenthesis with print!\n",
    "from __future__ import print_function, unicode_literals, division\n",
    "import sys\n",
    "\n",
    "# Import further python3 features.\n",
    "if sys.version_info.major < 3:\n",
    "  from future_builtins import *\n",
    "  import __builtin__ as builtins"
   ]
  },
  {
   "cell_type": "markdown",
   "id": "e9f7db63",
   "metadata": {},
   "source": [
    "## Introducing Lists"
   ]
  },
  {
   "cell_type": "code",
   "execution_count": null,
   "id": "ebbad3f4",
   "metadata": {},
   "outputs": [],
   "source": [
    "# it's easy to create a list\n",
    "list_a = ['this', 'is', 'a', 'list']\n"
   ]
  },
  {
   "cell_type": "code",
   "execution_count": null,
   "id": "56473c7d",
   "metadata": {},
   "outputs": [],
   "source": [
    "\n",
    "# you can append items to a list\n",
    "# with the append method\n",
    "list_a.append(\"mutable\")"
   ]
  },
  {
   "cell_type": "code",
   "execution_count": null,
   "id": "48aaaaca",
   "metadata": {},
   "outputs": [],
   "source": [
    "# Print its content\n",
    "print(list_a)"
   ]
  },
  {
   "cell_type": "code",
   "execution_count": null,
   "id": "ada13e8b",
   "metadata": {},
   "outputs": [],
   "source": [
    "# See its length\n",
    "len(list_a)"
   ]
  },
  {
   "cell_type": "markdown",
   "id": "17dfcecc",
   "metadata": {
    "slideshow": {
     "slide_type": "slide"
    }
   },
   "source": [
    "---\n",
    "\n",
    "#### Lists and Generators\n",
    "\n",
    "In python you can create lists of subsequent numbers.\n",
    "In python 2, the `range` function returns a list,\n",
    "while in python 3 it returns an iterable object.\n",
    "\n",
    "This is to avoid memory issues when dealing with large lists."
   ]
  },
  {
   "cell_type": "code",
   "execution_count": null,
   "id": "a350300a",
   "metadata": {},
   "outputs": [],
   "source": [
    "a = 11\n",
    "#range in python 2 returns a list\n",
    "# of consecutive ints\n",
    "from_0_to_10 = range(a)\n",
    "l = len(from_0_to_10)\n",
    "l == a\n",
    "print(l)"
   ]
  },
  {
   "cell_type": "code",
   "execution_count": null,
   "id": "4213a658",
   "metadata": {},
   "outputs": [],
   "source": [
    "# in python 3 things are slightly different\n",
    "# so the above code won't work.\n",
    "import sys\n",
    "if sys.version_info.major < 3:\n",
    "    range = xrange  # Override the range function with the xrange function.\n",
    "from_0_to_10 = range(a)"
   ]
  },
  {
   "cell_type": "code",
   "execution_count": null,
   "id": "67ad2433",
   "metadata": {},
   "outputs": [],
   "source": [
    "# Exercise: can you print the content of from_0_to_10\n",
    "print(from_0_to_10)"
   ]
  },
  {
   "cell_type": "code",
   "execution_count": null,
   "id": "cfcf5e6b",
   "metadata": {},
   "outputs": [],
   "source": [
    "\n",
    "# In python 3, you need to create a list from the range object.\n",
    "# The above code\n",
    "# should be replaced with the following\n",
    "from_0_to_10 = list(range(a))\n",
    "print(from_0_to_10)"
   ]
  },
  {
   "cell_type": "markdown",
   "id": "ce1ba3fa",
   "metadata": {
    "slideshow": {
     "slide_type": "slide"
    }
   },
   "source": [
    "---\n",
    "\n",
    "## Getting list items"
   ]
  },
  {
   "cell_type": "code",
   "execution_count": null,
   "id": "abf7e4fb",
   "metadata": {},
   "outputs": [],
   "source": [
    "# you can get list items by index\n",
    "from_0_to_10[0]"
   ]
  },
  {
   "cell_type": "code",
   "execution_count": null,
   "id": "a9b9a7a8",
   "metadata": {},
   "outputs": [],
   "source": [
    "# Exercise: what happens if I get the 11th element?\n",
    "from_0_to_10[11]"
   ]
  },
  {
   "cell_type": "code",
   "execution_count": null,
   "id": "8d1720cb",
   "metadata": {},
   "outputs": [],
   "source": [
    "# python is calling under the hood\n",
    "from_0_to_10.__getitem__(0)"
   ]
  },
  {
   "cell_type": "code",
   "execution_count": null,
   "id": "ac61ac66",
   "metadata": {},
   "outputs": [],
   "source": [
    "# python lists are doubly linked ;)\n",
    "from_0_to_10[-1]\n"
   ]
  },
  {
   "cell_type": "code",
   "execution_count": null,
   "id": "3db55d40",
   "metadata": {},
   "outputs": [],
   "source": [
    "\n",
    "#  Exercise: please check the manual!\n",
    "help(list)"
   ]
  },
  {
   "cell_type": "markdown",
   "id": "2f685ed6",
   "metadata": {
    "slideshow": {
     "slide_type": "slide"
    }
   },
   "source": [
    "---\n",
    "\n",
    "## Slicing a list"
   ]
  },
  {
   "cell_type": "code",
   "execution_count": null,
   "id": "f3cc929f",
   "metadata": {},
   "outputs": [],
   "source": [
    "straight = [1, 2, 3, 'star']\n",
    "print(straight)"
   ]
  },
  {
   "cell_type": "code",
   "execution_count": null,
   "id": "416cd0f2",
   "metadata": {},
   "outputs": [],
   "source": [
    "# I can take the middle of the list...\n",
    "straight[1:3]"
   ]
  },
  {
   "cell_type": "code",
   "execution_count": null,
   "id": "5ba5fb57",
   "metadata": {},
   "outputs": [],
   "source": [
    "k = 2  # ... or using a separator\n",
    "straight[0:k], straight[k:4]"
   ]
  },
  {
   "cell_type": "code",
   "execution_count": null,
   "id": "ecce795d",
   "metadata": {},
   "outputs": [],
   "source": [
    "straight[:k]         # I can omit the first..."
   ]
  },
  {
   "cell_type": "code",
   "execution_count": null,
   "id": "ffa769dd",
   "metadata": {},
   "outputs": [],
   "source": [
    "straight[k:]       # ...and last index"
   ]
  },
  {
   "cell_type": "markdown",
   "id": "efa1b8c7",
   "metadata": {
    "slideshow": {
     "slide_type": "slide"
    }
   },
   "source": [
    "---\n",
    "\n",
    "## Strings and Lists"
   ]
  },
  {
   "cell_type": "code",
   "execution_count": null,
   "id": "92b355fe",
   "metadata": {},
   "outputs": [],
   "source": [
    "# Strings behaves like lists\n",
    "s_a = \"Counting: 123\"\n"
   ]
  },
  {
   "cell_type": "code",
   "execution_count": null,
   "id": "87c36c6c",
   "metadata": {},
   "outputs": [],
   "source": [
    "\n",
    "# Have length..\n",
    "l_a = len(s_a)\n",
    "print(l_a)"
   ]
  },
  {
   "cell_type": "code",
   "execution_count": null,
   "id": "0bb4a24b",
   "metadata": {},
   "outputs": [],
   "source": [
    "# ..indexes\n",
    "print(s_a[0], \" \", s_a[-1])"
   ]
  },
  {
   "cell_type": "code",
   "execution_count": null,
   "id": "4f30304b",
   "metadata": {},
   "outputs": [],
   "source": [
    "# and a last element\n",
    "s_a[l_a] # ...what's happening there?"
   ]
  },
  {
   "cell_type": "code",
   "execution_count": null,
   "id": "1d6c26ab",
   "metadata": {},
   "outputs": [],
   "source": [
    "# ...we can even slice them\n",
    "f = \"prova.txt\"\n",
    "f[:-4], f[-4], f[-3:]"
   ]
  },
  {
   "cell_type": "code",
   "execution_count": null,
   "id": "75eca891",
   "metadata": {},
   "outputs": [],
   "source": [
    "# Note: use the os.path module for path manipulation.\n",
    "# The above code will break with 4-letter extensions!\n",
    "from os.path import splitext\n",
    "splitext(\"prova.foo.yaml\")"
   ]
  },
  {
   "cell_type": "markdown",
   "id": "33529552",
   "metadata": {
    "slideshow": {
     "slide_type": "slide"
    }
   },
   "source": [
    "---\n",
    "\n",
    "## Iterations: for"
   ]
  },
  {
   "cell_type": "code",
   "execution_count": null,
   "id": "8a6ba89c",
   "metadata": {},
   "outputs": [],
   "source": [
    "a_list = ['is', 'iterable', 'with']\n",
    "for x in a_list:\n",
    "    print(x)"
   ]
  },
  {
   "cell_type": "code",
   "execution_count": null,
   "id": "4de14947",
   "metadata": {},
   "outputs": [],
   "source": [
    "for x in a_list:\n",
    "    # You need `from __future__ import print_function`\n",
    "    # for python2 to support the `end` argument\n",
    "    print((x), end=' ')\n",
    "    y = x + str(2)\n",
    "    break       # stop now"
   ]
  },
  {
   "cell_type": "code",
   "execution_count": null,
   "id": "a82d3884",
   "metadata": {},
   "outputs": [],
   "source": [
    "# what's the expected output of the\n",
    "# following instruction?\n",
    "print((\"x,y: \", (x, y)))\n",
    "# Differently from C, `for` does not create\n",
    "#  a scope"
   ]
  },
  {
   "cell_type": "markdown",
   "id": "024799a1",
   "metadata": {
    "slideshow": {
     "slide_type": "slide"
    }
   },
   "source": [
    "---\n",
    "\n",
    "## Iterations: while"
   ]
  },
  {
   "cell_type": "code",
   "execution_count": null,
   "id": "77deba6c",
   "metadata": {},
   "outputs": [],
   "source": [
    "a_list = ['is', 'iterable', 'with']\n",
    "while a_list:\n",
    "    # pop() modifies a list removing\n",
    "    #  and returning its last element\n",
    "    x = a_list.pop()\n",
    "    print((\"pop out %s\" % x))\n",
    "    break  # what happens if I remove this break?\n",
    "\n",
    "print(a_list)"
   ]
  },
  {
   "cell_type": "code",
   "execution_count": null,
   "id": "e623c0d5",
   "metadata": {},
   "outputs": [],
   "source": [
    "# What's the expected behavior of the\n",
    "#  following instructions?\n",
    "for x in a_list:\n",
    "    print((x + a_list.pop()))\n",
    "# for + pop() is not always a good idea ;)"
   ]
  }
 ],
 "metadata": {},
 "nbformat": 4,
 "nbformat_minor": 5
}
