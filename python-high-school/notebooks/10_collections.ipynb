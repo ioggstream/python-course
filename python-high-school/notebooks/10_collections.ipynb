{
 "cells": [
  {
   "cell_type": "markdown",
   "id": "2c0917b4",
   "metadata": {},
   "source": [
    "# Python for High School\n",
    "\n",
    "Lesson 2\n",
    "\n",
    "- Roberto Polli - <roberto.polli@par-tec.it>\n",
    "\n",
    "## Agenda\n",
    "\n",
    "- Sets\n",
    "- Introducing Lists\n",
    "- Getting list items\n",
    "- Slicing a list\n",
    "- Strings and Lists\n",
    "- Iterations: `for`\n",
    "- Iterations: `while`\n",
    "\n",
    "## Sets\n",
    "\n",
    "In maths, a set is a collection of distinct objects."
   ]
  },
  {
   "cell_type": "code",
   "execution_count": null,
   "id": "e7b954d1",
   "metadata": {},
   "outputs": [],
   "source": [
    "# In python you can create sets.\n",
    "EMPTY = {}  # ø is the empty set\n",
    "A = {1, 2, 3}\n",
    "B = {3, 4, 5, \"a\"}  # sets can contain different types\n",
    "C = { A }   # a set can contain other sets"
   ]
  },
  {
   "cell_type": "markdown",
   "id": "fa2e0b46",
   "metadata": {},
   "source": [
    "Here is an image from Wikipedia:\n",
    "[![Set Theory Operations](https://upload.wikimedia.org/wikipedia/commons/0/04/Set_Theory_Operations.svg)](https://en.wikipedia.org/wiki/Set_(mathematics)#/media/File:Set_Theory_Operations.svg)\n",
    "\n",
    "You can perform set operations on them, including:\n",
    "\n",
    "$\n",
    "U = A \\cup B \\\\\n",
    "I = A \\cap B \\\\\n",
    "D = A \\setminus B \\\\\n",
    "S = A \\Delta B := (A \\cup B) \\setminus (A \\cap B) \\\\\n",
    "$"
   ]
  },
  {
   "cell_type": "code",
   "execution_count": null,
   "id": "8a27c051",
   "metadata": {},
   "outputs": [],
   "source": [
    "# Union\n",
    "U = A | B\n",
    "# Intersection\n",
    "I = A & B\n",
    "# Difference\n",
    "D = A - B\n",
    "# Symmetric difference\n",
    "S = A ^ B"
   ]
  },
  {
   "cell_type": "markdown",
   "id": "feafa4cb",
   "metadata": {},
   "source": [
    "You can perform basic checks:"
   ]
  },
  {
   "cell_type": "code",
   "execution_count": null,
   "id": "1a433d38",
   "metadata": {},
   "outputs": [],
   "source": [
    "A in U\n",
    "B not in U\n",
    "B in D\n",
    "5 in A"
   ]
  },
  {
   "cell_type": "markdown",
   "id": "c3fe015a",
   "metadata": {},
   "source": [
    "Exercise: which of the above expressions are true?"
   ]
  },
  {
   "cell_type": "code",
   "execution_count": null,
   "id": "a0bd9802",
   "metadata": {},
   "outputs": [],
   "source": [
    "#  Make an hypothesis first, then check it using this cell.\n"
   ]
  },
  {
   "cell_type": "code",
   "execution_count": null,
   "id": "e611d17d",
   "metadata": {},
   "outputs": [],
   "source": [
    "{1} in A\n",
    "EMPTY in A\n",
    "I in S\n",
    "2 in C"
   ]
  },
  {
   "cell_type": "markdown",
   "id": "d89580da",
   "metadata": {},
   "source": [
    "Exercise: which of the above expressions are true?"
   ]
  },
  {
   "cell_type": "code",
   "execution_count": null,
   "id": "d066d2cb",
   "metadata": {},
   "outputs": [],
   "source": [
    "#  Make an hypothesis first, then check it using this cell.\n"
   ]
  },
  {
   "cell_type": "markdown",
   "id": "47fa4ab4",
   "metadata": {},
   "source": [
    "Exercise: print the content of the sets."
   ]
  },
  {
   "cell_type": "code",
   "execution_count": null,
   "id": "a1421cad",
   "metadata": {},
   "outputs": [],
   "source": [
    "# Use this cell for the exercise\n"
   ]
  },
  {
   "cell_type": "markdown",
   "id": "a12317f9",
   "metadata": {},
   "source": [
    "## Tuples (Vectors)\n",
    "\n",
    "A python `tuple` (:it: n-pla) represents an ordered list of objects,\n",
    "and can contain duplicates.\n",
    "\n",
    "They seem like vectors,\n",
    "\n",
    "$\n",
    "\\underline{v} = (v_0, v_1, \\dots, v_n) \\in \\mathbb{R}^n\n",
    "$\n",
    "\n",
    "but they are not!\n",
    "\n",
    "Here are two tuples in $\\mathbb{R}^2$:"
   ]
  },
  {
   "cell_type": "code",
   "execution_count": null,
   "id": "73a754fa",
   "metadata": {},
   "outputs": [],
   "source": [
    "v = (0, 0)\n",
    "w = (3, 4)"
   ]
  },
  {
   "cell_type": "markdown",
   "id": "319f1d15",
   "metadata": {},
   "source": [
    "Exercise: print the content of the tuples."
   ]
  },
  {
   "cell_type": "code",
   "execution_count": null,
   "id": "8901c977",
   "metadata": {},
   "outputs": [],
   "source": [
    "print(v[0])"
   ]
  },
  {
   "cell_type": "markdown",
   "id": "7540f9fd",
   "metadata": {},
   "source": [
    "Beware: operations on tuples are not the same as operations on vectors!"
   ]
  },
  {
   "cell_type": "code",
   "execution_count": null,
   "id": "9948b7af",
   "metadata": {},
   "outputs": [],
   "source": [
    "# Exercise: try to sum and multiply v and w. Which is the result? What would you expect?\n"
   ]
  },
  {
   "cell_type": "markdown",
   "id": "9f7d6860",
   "metadata": {},
   "source": [
    "Exercise: try to modify the first element of v. What happens?"
   ]
  },
  {
   "cell_type": "code",
   "execution_count": null,
   "id": "18493f10",
   "metadata": {},
   "outputs": [],
   "source": [
    "# Use this cell for the exercise\n"
   ]
  },
  {
   "cell_type": "markdown",
   "id": "a6e4f24b",
   "metadata": {},
   "source": [
    "Tuples are immutable!\n",
    "\n",
    "## Introducing Lists\n",
    "\n",
    "A list is an **ordered** sequence of objects.\n",
    "Differently from a set, a list is ordered\n",
    "and can contain duplicates."
   ]
  },
  {
   "cell_type": "code",
   "execution_count": null,
   "id": "7f3d1899",
   "metadata": {},
   "outputs": [],
   "source": [
    "# it's easy to create a list\n",
    "list_a = ['this', 'is', 'a', 'list']\n"
   ]
  },
  {
   "cell_type": "code",
   "execution_count": null,
   "id": "949d3e6f",
   "metadata": {},
   "outputs": [],
   "source": [
    "# you can append objects to a list\n",
    "# with the append method\n",
    "list_a.append(\"mutable\")"
   ]
  },
  {
   "cell_type": "code",
   "execution_count": null,
   "id": "d1ca964e",
   "metadata": {},
   "outputs": [],
   "source": [
    "# Print its content\n",
    "print(list_a)"
   ]
  },
  {
   "cell_type": "code",
   "execution_count": null,
   "id": "5ba1dff3",
   "metadata": {},
   "outputs": [],
   "source": [
    "# See its length\n",
    "len(list_a)"
   ]
  },
  {
   "cell_type": "markdown",
   "id": "c3160ded",
   "metadata": {},
   "source": [
    "---\n",
    "\n",
    "#### Lists and Generators\n",
    "\n",
    "The `range` function generates a sequence of numbers.\n",
    "To avoid consuming too much memory, this is not done using lists\n",
    "or sets, but using special objects that generate those sequences."
   ]
  },
  {
   "cell_type": "code",
   "execution_count": null,
   "id": "6deec01a",
   "metadata": {},
   "outputs": [],
   "source": [
    "a = 11\n",
    "from_0_to_10 = range(a)"
   ]
  },
  {
   "cell_type": "markdown",
   "id": "ec91c100",
   "metadata": {},
   "source": [
    "Exercise:\n",
    "\n",
    "- print the length of `from_0_to_10`"
   ]
  },
  {
   "cell_type": "code",
   "execution_count": null,
   "id": "e845b127",
   "metadata": {},
   "outputs": [],
   "source": [
    "# Use this cell for the exercise\n"
   ]
  },
  {
   "cell_type": "markdown",
   "id": "f9b3dd78",
   "metadata": {},
   "source": [
    "- print the `type` of `from_0_to_10`"
   ]
  },
  {
   "cell_type": "code",
   "execution_count": null,
   "id": "629d87d0",
   "metadata": {},
   "outputs": [],
   "source": [
    "# Use this cell for the exercise\n"
   ]
  },
  {
   "cell_type": "markdown",
   "id": "0eab0de5",
   "metadata": {},
   "source": [
    "We can extract all the elements from a generator using the `list` function."
   ]
  },
  {
   "cell_type": "code",
   "execution_count": null,
   "id": "82461aee",
   "metadata": {},
   "outputs": [],
   "source": [
    "from_0_to_10 = list(from_0_to_10)\n",
    "l = len(from_0_to_10)\n",
    "l == a\n",
    "print(l)"
   ]
  },
  {
   "cell_type": "code",
   "execution_count": null,
   "id": "032b1be9",
   "metadata": {},
   "outputs": [],
   "source": [
    "# Exercise: print the content of from_0_to_10\n"
   ]
  },
  {
   "cell_type": "markdown",
   "id": "3e670115",
   "metadata": {},
   "source": [
    "---\n",
    "\n",
    "## Getting list items"
   ]
  },
  {
   "cell_type": "code",
   "execution_count": null,
   "id": "7ea57001",
   "metadata": {},
   "outputs": [],
   "source": [
    "# you can get list items by index\n",
    "from_0_to_10[0]"
   ]
  },
  {
   "cell_type": "code",
   "execution_count": null,
   "id": "7242fa21",
   "metadata": {},
   "outputs": [],
   "source": [
    "# Exercise: what happens if I get the 11th element?\n",
    "from_0_to_10[11]"
   ]
  },
  {
   "cell_type": "code",
   "execution_count": null,
   "id": "3b28f7a3",
   "metadata": {},
   "outputs": [],
   "source": [
    "# python is calling under the hood\n",
    "from_0_to_10.__getitem__(0)"
   ]
  },
  {
   "cell_type": "markdown",
   "id": "00ad0000",
   "metadata": {},
   "source": [
    "Python lists are doubly linked, so you can get the last element using a negative index."
   ]
  },
  {
   "cell_type": "code",
   "execution_count": null,
   "id": "6cf32b48",
   "metadata": {},
   "outputs": [],
   "source": [
    "# python lists are doubly linked ;)\n",
    "from_0_to_10[-1]\n"
   ]
  },
  {
   "cell_type": "code",
   "execution_count": null,
   "id": "5f81cfaf",
   "metadata": {},
   "outputs": [],
   "source": [
    "\n",
    "#  Exercise: please check the manual!\n",
    "help(list)"
   ]
  },
  {
   "cell_type": "markdown",
   "id": "2a0f99ac",
   "metadata": {},
   "source": [
    "---\n",
    "\n",
    "## Slicing a list"
   ]
  },
  {
   "cell_type": "code",
   "execution_count": null,
   "id": "fc12d900",
   "metadata": {},
   "outputs": [],
   "source": [
    "straight = [1, 2, 3, 'star']\n",
    "print(straight)\n",
    "type(straight)  # This is a list!"
   ]
  },
  {
   "cell_type": "markdown",
   "id": "7c1067e5",
   "metadata": {},
   "source": [
    "Python supports slicing, that is, getting a subsequence of a list\n",
    "similarly to what you can do with mathematical intervals.\n",
    "Python uses a half-open interval\n",
    "( e.g. $[i, j)$ or $[i, j[$ ),\n",
    "that is, the first index is included\n",
    "and the last one is excluded. Given a list `l : |l| = 4`\n",
    "\n",
    "$\n",
    "l = [ l_{0}, \\dots,  l_{3} ] \\\\\n",
    "l[0:2] := [ l_{0}, l_{1} ] \\\\\n",
    "l[i:j] := [ l_{i}, \\dots, l_{j-1} ] \\\\\n",
    "$\n",
    "\n",
    "This means that the length of a sliced list is:\n",
    "\n",
    "$\n",
    "|l[i:j]| = j - i \\\\\n",
    "$"
   ]
  },
  {
   "cell_type": "code",
   "execution_count": null,
   "id": "d38de1eb",
   "metadata": {},
   "outputs": [],
   "source": [
    "# I can take the middle of the list...\n",
    "straight[1:3]"
   ]
  },
  {
   "cell_type": "code",
   "execution_count": null,
   "id": "1b41b808",
   "metadata": {},
   "outputs": [],
   "source": [
    "k = 2  # ... or using a separator\n",
    "straight[0:k], straight[k:4]"
   ]
  },
  {
   "cell_type": "code",
   "execution_count": null,
   "id": "83803b50",
   "metadata": {},
   "outputs": [],
   "source": [
    "straight[:k]         # I can omit the first..."
   ]
  },
  {
   "cell_type": "code",
   "execution_count": null,
   "id": "fb106cf3",
   "metadata": {},
   "outputs": [],
   "source": [
    "straight[k:]       # ...and last index"
   ]
  },
  {
   "cell_type": "markdown",
   "id": "01983b57",
   "metadata": {},
   "source": [
    "---\n",
    "\n",
    "## Strings and Lists"
   ]
  },
  {
   "cell_type": "code",
   "execution_count": null,
   "id": "e0c300e5",
   "metadata": {},
   "outputs": [],
   "source": [
    "# Strings behaves like lists\n",
    "s_a = \"Counting: 123\"\n"
   ]
  },
  {
   "cell_type": "code",
   "execution_count": null,
   "id": "9300c150",
   "metadata": {},
   "outputs": [],
   "source": [
    "# Have length..\n",
    "l_a = len(s_a)\n",
    "print(l_a)"
   ]
  },
  {
   "cell_type": "code",
   "execution_count": null,
   "id": "6cebe799",
   "metadata": {},
   "outputs": [],
   "source": [
    "# ..indexes\n",
    "print(s_a[0], \" \", s_a[-1])"
   ]
  },
  {
   "cell_type": "code",
   "execution_count": null,
   "id": "8cf2209c",
   "metadata": {},
   "outputs": [],
   "source": [
    "# and a last element\n",
    "s_a[l_a] # ...what's happening there?"
   ]
  },
  {
   "cell_type": "code",
   "execution_count": null,
   "id": "2bceb679",
   "metadata": {},
   "outputs": [],
   "source": [
    "# ...we can even slice them\n",
    "f = \"gatto.miao\"\n",
    "f[:-5], f[-5], f[-4:]"
   ]
  },
  {
   "cell_type": "markdown",
   "id": "ea9f29cb",
   "metadata": {},
   "source": [
    "---\n",
    "\n",
    "## Juggling with collections\n",
    "\n",
    "We can sort and reverse lists."
   ]
  },
  {
   "cell_type": "code",
   "execution_count": null,
   "id": "63ee7765",
   "metadata": {},
   "outputs": [],
   "source": [
    "l = [1, 2, 3, 4, 5]\n",
    "r = reversed(l)\n",
    "print(r)"
   ]
  },
  {
   "cell_type": "markdown",
   "id": "2d4f85fc",
   "metadata": {},
   "source": [
    "reversed is a generator, so we need to \"materialize\" it into a list to print it."
   ]
  },
  {
   "cell_type": "code",
   "execution_count": null,
   "id": "b79f1bd8",
   "metadata": {},
   "outputs": [],
   "source": [
    "# Exercise: print the reversed list\n"
   ]
  },
  {
   "cell_type": "markdown",
   "id": "a7fa244d",
   "metadata": {},
   "source": [
    "<!-- print(list(r)) -->\n",
    "\n",
    "If we have different lists, we can concatenate them."
   ]
  },
  {
   "cell_type": "code",
   "execution_count": null,
   "id": "a4313a7b",
   "metadata": {},
   "outputs": [],
   "source": [
    "A = [1, 2, 3]\n",
    "B = [4, 5, 6]\n",
    "A + B"
   ]
  },
  {
   "cell_type": "markdown",
   "id": "2667128e",
   "metadata": {},
   "source": [
    "create the cartesian product of two lists.\n",
    "\n",
    "$\n",
    "A \\times B := \\{ (a; b) \\mid a \\in A, b \\in B \\}\n",
    "$\n",
    "\n",
    "|AxB|   |   |   |\n",
    "|---|---|---|---|\n",
    "| | 1, 4 | 1, 5 | 1, 6 |\n",
    "| | 2, 4 | 2, 5 | 2, 6 |\n",
    "| | 3, 4 | 3, 5 | 3, 6 |"
   ]
  },
  {
   "cell_type": "code",
   "execution_count": null,
   "id": "6e8891a2",
   "metadata": {},
   "outputs": [],
   "source": [
    "AxB = [(a, b) for a in A for b in B]"
   ]
  },
  {
   "cell_type": "markdown",
   "id": "3254a841",
   "metadata": {},
   "source": [
    "or associate pairwise elements using the `zip` function.\n",
    "\n",
    "|$A \\Delta B$|   |   |   |\n",
    "|---|---|---|---|\n",
    "| | 1, 4 |      |      |\n",
    "| |      | 2, 5 |\n",
    "| |      |      | 3, 6 |\n",
    "\n",
    "$\n",
    "A = [a_0, a_1, a_2] \\\\\n",
    "B = [b_0, b_1, b_2] \\\\\n",
    "A\\DeltaB = [ (a_i; b_i) \\mid i < min(|A|, |B|) ]\n",
    "$"
   ]
  },
  {
   "cell_type": "code",
   "execution_count": null,
   "id": "54c2a0d3",
   "metadata": {},
   "outputs": [],
   "source": [
    "D = zip(A, B)\n",
    "print(D)"
   ]
  },
  {
   "cell_type": "markdown",
   "id": "5458a4e4",
   "metadata": {},
   "source": [
    "Exercise: can you materialize the zip object into a list?\n",
    "<!-- D = list(D) -->"
   ]
  },
  {
   "cell_type": "code",
   "execution_count": null,
   "id": "c8bdc9e6",
   "metadata": {},
   "outputs": [],
   "source": [
    "# Use this cell for the exercise\n"
   ]
  },
  {
   "cell_type": "markdown",
   "id": "264f8a1f",
   "metadata": {},
   "source": [
    "## The itertools module\n",
    "\n",
    "The itertools module provides advanced tools for working with collections."
   ]
  },
  {
   "cell_type": "code",
   "execution_count": null,
   "id": "7250a6e7",
   "metadata": {},
   "outputs": [],
   "source": [
    "import itertools\n",
    "from itertools import product, permutations, combinations"
   ]
  },
  {
   "cell_type": "markdown",
   "id": "03520762",
   "metadata": {},
   "source": [
    "You can create combinations, permutations, and cartesian products."
   ]
  },
  {
   "cell_type": "code",
   "execution_count": null,
   "id": "70a5444d",
   "metadata": {},
   "outputs": [],
   "source": [
    "A = [1, 2, 3]\n",
    "B = [0, 1]\n",
    "n = len(A)\n",
    "k = 2"
   ]
  },
  {
   "cell_type": "code",
   "execution_count": null,
   "id": "5dbff86f",
   "metadata": {},
   "outputs": [],
   "source": [
    "AxB = product(A, B)\n",
    "P_A = permutations(A)\n",
    "C_A_2 = combinations(A, k)"
   ]
  },
  {
   "cell_type": "markdown",
   "id": "e61f6de3",
   "metadata": {},
   "source": [
    "Exercise: print the content of the above objects."
   ]
  },
  {
   "cell_type": "code",
   "execution_count": null,
   "id": "1790329f",
   "metadata": {},
   "outputs": [],
   "source": [
    "# Use this cell for the exercise\n"
   ]
  },
  {
   "cell_type": "markdown",
   "id": "875bf5de",
   "metadata": {},
   "source": [
    "Combinations are useful to generate all the possible subsets of a set\n",
    "of a given size.\n",
    "\n",
    "Can you fix the expression below and compute its value?\n",
    "\n",
    "<!-- len(permutations(A)) == math.factorial(l) -->\n",
    "<!-- r == math.factorial(k)*math.factorial(n-k) -->"
   ]
  },
  {
   "cell_type": "code",
   "execution_count": null,
   "id": "056bead1",
   "metadata": {},
   "outputs": [],
   "source": [
    "r = len(P_A) / len(C_A_2)"
   ]
  }
 ],
 "metadata": {},
 "nbformat": 4,
 "nbformat_minor": 5
}
