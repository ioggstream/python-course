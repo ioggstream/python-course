{
 "cells": [
  {
   "cell_type": "markdown",
   "id": "03b17d3f",
   "metadata": {},
   "source": [
    "# Python for High School\n",
    "\n",
    "Lesson 2\n",
    "\n",
    "- Roberto Polli - <roberto.polli@par-tec.it>\n",
    "\n",
    "## Agenda\n",
    "\n",
    "- Sets\n",
    "- Introducing Lists\n",
    "- Getting list items\n",
    "- Slicing a list\n",
    "- Strings and Lists\n",
    "- Iterations: `for`\n",
    "- Iterations: `while`\n",
    "\n",
    "## Sets\n",
    "\n",
    "In maths, a set is a collection of distinct objects."
   ]
  },
  {
   "cell_type": "code",
   "execution_count": null,
   "id": "8f59f168",
   "metadata": {},
   "outputs": [],
   "source": [
    "# In python you can create sets.\n",
    "EMPTY = {}  # ø is the empty set\n",
    "A = {1, 2, 3}\n",
    "B = {3, 4, 5, \"a\"}  # sets can contain different types\n",
    "C = { A }   # a set can contain other sets"
   ]
  },
  {
   "cell_type": "markdown",
   "id": "3fc7425a",
   "metadata": {},
   "source": [
    "Here is an image from Wikipedia:\n",
    "[![Set Theory Operations](https://upload.wikimedia.org/wikipedia/commons/0/04/Set_Theory_Operations.svg)](https://en.wikipedia.org/wiki/Set_(mathematics)#/media/File:Set_Theory_Operations.svg)\n",
    "\n",
    "You can perform set operations on them, including:\n",
    "\n",
    "$\n",
    "U = A \\cup B \\\\\n",
    "I = A \\cap B \\\\\n",
    "D = A \\setminus B \\\\\n",
    "S = A \\Delta B := (A \\cup B) \\setminus (A \\cap B) \\\\\n",
    "$"
   ]
  },
  {
   "cell_type": "code",
   "execution_count": null,
   "id": "28bbd418",
   "metadata": {},
   "outputs": [],
   "source": [
    "# Union\n",
    "U = A | B\n",
    "# Intersection\n",
    "I = A & B\n",
    "# Difference\n",
    "D = A - B\n",
    "# Symmetric difference\n",
    "S = A ^ B"
   ]
  },
  {
   "cell_type": "markdown",
   "id": "b7d82d35",
   "metadata": {},
   "source": [
    "You can perform basic checks:"
   ]
  },
  {
   "cell_type": "code",
   "execution_count": null,
   "id": "5ebd2379",
   "metadata": {},
   "outputs": [],
   "source": [
    "A in U\n",
    "B not in U\n",
    "B in D\n",
    "5 in A\n",
    "{1} in A\n",
    "EMPTY in A\n",
    "I in S\n",
    "2 in C"
   ]
  },
  {
   "cell_type": "markdown",
   "id": "7ce02525",
   "metadata": {},
   "source": [
    "Exercise: which of the above instructions are true?"
   ]
  },
  {
   "cell_type": "code",
   "execution_count": null,
   "id": "61e0f8a6",
   "metadata": {},
   "outputs": [],
   "source": [
    "# Use this cell for the exercise\n"
   ]
  },
  {
   "cell_type": "markdown",
   "id": "34ad6ffc",
   "metadata": {},
   "source": [
    "Exercise: print the content of the sets."
   ]
  },
  {
   "cell_type": "code",
   "execution_count": null,
   "id": "7a2bc421",
   "metadata": {},
   "outputs": [],
   "source": [
    "# Use this cell for the exercise\n"
   ]
  },
  {
   "cell_type": "markdown",
   "id": "e750c10d",
   "metadata": {},
   "source": [
    "## Introducing Lists\n",
    "\n",
    "A list is an ordered sequence of items.\n",
    "Differently from a set, a list is ordered\n",
    "and can contain duplicates."
   ]
  },
  {
   "cell_type": "code",
   "execution_count": null,
   "id": "9c9c3fd5",
   "metadata": {},
   "outputs": [],
   "source": [
    "# it's easy to create a list\n",
    "list_a = ['this', 'is', 'a', 'list']\n"
   ]
  },
  {
   "cell_type": "code",
   "execution_count": null,
   "id": "56023a73",
   "metadata": {},
   "outputs": [],
   "source": [
    "\n",
    "# you can append items to a list\n",
    "# with the append method\n",
    "list_a.append(\"mutable\")"
   ]
  },
  {
   "cell_type": "code",
   "execution_count": null,
   "id": "43942414",
   "metadata": {},
   "outputs": [],
   "source": [
    "# Print its content\n",
    "print(list_a)"
   ]
  },
  {
   "cell_type": "code",
   "execution_count": null,
   "id": "371b5688",
   "metadata": {},
   "outputs": [],
   "source": [
    "# See its length\n",
    "len(list_a)"
   ]
  },
  {
   "cell_type": "markdown",
   "id": "1af29667",
   "metadata": {
    "slideshow": {
     "slide_type": "slide"
    }
   },
   "source": [
    "---\n",
    "\n",
    "#### Lists and Generators\n",
    "\n",
    "In python you can generate a sequence of numbers.\n",
    "To avoid consuming too much memory, this is not doen using lists\n",
    "or sets, but using special objects that generate those sequences."
   ]
  },
  {
   "cell_type": "code",
   "execution_count": null,
   "id": "25018671",
   "metadata": {},
   "outputs": [],
   "source": [
    "a = 11\n",
    "from_0_to_10 = range(a)"
   ]
  },
  {
   "cell_type": "markdown",
   "id": "d43e85e0",
   "metadata": {},
   "source": [
    "Exercise:\n",
    "\n",
    "- print the length of `from_0_to_10`"
   ]
  },
  {
   "cell_type": "code",
   "execution_count": null,
   "id": "a0e207b2",
   "metadata": {},
   "outputs": [],
   "source": [
    "# Use this cell for the exercise\n"
   ]
  },
  {
   "cell_type": "markdown",
   "id": "9b261afb",
   "metadata": {},
   "source": [
    "- print the `type` of `from_0_to_10`"
   ]
  },
  {
   "cell_type": "code",
   "execution_count": null,
   "id": "fc925b52",
   "metadata": {},
   "outputs": [],
   "source": [
    "# Use this cell for the exercise\n"
   ]
  },
  {
   "cell_type": "markdown",
   "id": "fc8e2f9c",
   "metadata": {},
   "source": [
    "We can extract all the elements from a generator using the `list` function."
   ]
  },
  {
   "cell_type": "code",
   "execution_count": null,
   "id": "2a8773fa",
   "metadata": {},
   "outputs": [],
   "source": [
    "from_0_to_10 = list(from_0_to_10)\n",
    "l = len(from_0_to_10)\n",
    "l == a\n",
    "print(l)"
   ]
  },
  {
   "cell_type": "code",
   "execution_count": null,
   "id": "63a02d32",
   "metadata": {},
   "outputs": [],
   "source": [
    "# Exercise: can you print the content of from_0_to_10\n",
    "print(from_0_to_10)"
   ]
  },
  {
   "cell_type": "markdown",
   "id": "b7f869a7",
   "metadata": {
    "slideshow": {
     "slide_type": "slide"
    }
   },
   "source": [
    "---\n",
    "\n",
    "## Getting list items"
   ]
  },
  {
   "cell_type": "code",
   "execution_count": null,
   "id": "47ff35c9",
   "metadata": {},
   "outputs": [],
   "source": [
    "# you can get list items by index\n",
    "from_0_to_10[0]"
   ]
  },
  {
   "cell_type": "code",
   "execution_count": null,
   "id": "62d5c3ce",
   "metadata": {},
   "outputs": [],
   "source": [
    "# Exercise: what happens if I get the 11th element?\n",
    "from_0_to_10[11]"
   ]
  },
  {
   "cell_type": "code",
   "execution_count": null,
   "id": "c5d79016",
   "metadata": {},
   "outputs": [],
   "source": [
    "# python is calling under the hood\n",
    "from_0_to_10.__getitem__(0)"
   ]
  },
  {
   "cell_type": "markdown",
   "id": "f30fe2a6",
   "metadata": {},
   "source": [
    "Python lists are doubly linked, so you can get the last element using a negative index."
   ]
  },
  {
   "cell_type": "code",
   "execution_count": null,
   "id": "6a61e83a",
   "metadata": {},
   "outputs": [],
   "source": [
    "# python lists are doubly linked ;)\n",
    "from_0_to_10[-1]\n"
   ]
  },
  {
   "cell_type": "code",
   "execution_count": null,
   "id": "c685a24f",
   "metadata": {},
   "outputs": [],
   "source": [
    "\n",
    "#  Exercise: please check the manual!\n",
    "help(list)"
   ]
  },
  {
   "cell_type": "markdown",
   "id": "4fe7024b",
   "metadata": {
    "slideshow": {
     "slide_type": "slide"
    }
   },
   "source": [
    "---\n",
    "\n",
    "## Slicing a list"
   ]
  },
  {
   "cell_type": "code",
   "execution_count": null,
   "id": "57eed0a0",
   "metadata": {},
   "outputs": [],
   "source": [
    "straight = [1, 2, 3, 'star']\n",
    "print(straight)"
   ]
  },
  {
   "cell_type": "markdown",
   "id": "b614e1b3",
   "metadata": {},
   "source": [
    "Python supports slicing, that is, getting a subsequence of a list\n",
    "similarly to what you can do with mathematical intervals.\n",
    "Python uses a half-open interval\n",
    "( e.g. $[i, j)$ or $[i, j[$ ),\n",
    "that is, the first index is included\n",
    "and the last one is excluded. Given a list `l : |l| = 4`\n",
    "\n",
    "$\n",
    "l = [ l_{0}, \\dots,  l_{3} ] \\\\\n",
    "l[0:2] := [ l_{0}, l_{1} ] \\\\\n",
    "l[i:j] := [ l_{i}, \\dots, l_{j-1} ] \\\\\n",
    "$\n",
    "\n",
    "This means that the length of a sliced list is:\n",
    "\n",
    "$\n",
    "|l[i:j]| = j - i \\\\\n",
    "$"
   ]
  },
  {
   "cell_type": "code",
   "execution_count": null,
   "id": "e91d582d",
   "metadata": {},
   "outputs": [],
   "source": [
    "# I can take the middle of the list...\n",
    "straight[1:3]"
   ]
  },
  {
   "cell_type": "code",
   "execution_count": null,
   "id": "b412ae89",
   "metadata": {},
   "outputs": [],
   "source": [
    "k = 2  # ... or using a separator\n",
    "straight[0:k], straight[k:4]"
   ]
  },
  {
   "cell_type": "code",
   "execution_count": null,
   "id": "bdfdcf0c",
   "metadata": {},
   "outputs": [],
   "source": [
    "straight[:k]         # I can omit the first..."
   ]
  },
  {
   "cell_type": "code",
   "execution_count": null,
   "id": "47493cde",
   "metadata": {},
   "outputs": [],
   "source": [
    "straight[k:]       # ...and last index"
   ]
  },
  {
   "cell_type": "markdown",
   "id": "c559062c",
   "metadata": {
    "slideshow": {
     "slide_type": "slide"
    }
   },
   "source": [
    "---\n",
    "\n",
    "## Strings and Lists"
   ]
  },
  {
   "cell_type": "code",
   "execution_count": null,
   "id": "c438eabb",
   "metadata": {},
   "outputs": [],
   "source": [
    "# Strings behaves like lists\n",
    "s_a = \"Counting: 123\"\n"
   ]
  },
  {
   "cell_type": "code",
   "execution_count": null,
   "id": "8ba69df3",
   "metadata": {},
   "outputs": [],
   "source": [
    "\n",
    "# Have length..\n",
    "l_a = len(s_a)\n",
    "print(l_a)"
   ]
  },
  {
   "cell_type": "code",
   "execution_count": null,
   "id": "8d3a88d7",
   "metadata": {},
   "outputs": [],
   "source": [
    "# ..indexes\n",
    "print(s_a[0], \" \", s_a[-1])"
   ]
  },
  {
   "cell_type": "code",
   "execution_count": null,
   "id": "d6a907d0",
   "metadata": {},
   "outputs": [],
   "source": [
    "# and a last element\n",
    "s_a[l_a] # ...what's happening there?"
   ]
  },
  {
   "cell_type": "code",
   "execution_count": null,
   "id": "e2ae7861",
   "metadata": {},
   "outputs": [],
   "source": [
    "# ...we can even slice them\n",
    "f = \"gatto.miao\"\n",
    "f[:-5], f[-5], f[-4:]"
   ]
  },
  {
   "cell_type": "markdown",
   "id": "514fefac",
   "metadata": {
    "slideshow": {
     "slide_type": "slide"
    }
   },
   "source": [
    "---\n",
    "\n",
    "## Juggling with iterables\n",
    "\n",
    "We can sort and reverse lists."
   ]
  },
  {
   "cell_type": "code",
   "execution_count": null,
   "id": "59911d1c",
   "metadata": {},
   "outputs": [],
   "source": [
    "l = [1, 2, 3, 4, 5]\n",
    "r = reversed(l)\n",
    "print(r)"
   ]
  },
  {
   "cell_type": "markdown",
   "id": "caba6ee1",
   "metadata": {},
   "source": [
    "reversed is a generator, so we need to convert it to a list to print it."
   ]
  },
  {
   "cell_type": "code",
   "execution_count": null,
   "id": "99184447",
   "metadata": {},
   "outputs": [],
   "source": [
    "# Exercise: print the reversed list\n"
   ]
  },
  {
   "cell_type": "markdown",
   "id": "0cddde56",
   "metadata": {},
   "source": [
    "<!-- print(list(r)) -->\n",
    "\n",
    "If we have different lists, we can concatenate them."
   ]
  },
  {
   "cell_type": "code",
   "execution_count": null,
   "id": "c569f711",
   "metadata": {},
   "outputs": [],
   "source": [
    "A = [1, 2, 3]\n",
    "B = [4, 5, 6]\n",
    "A + B"
   ]
  },
  {
   "cell_type": "markdown",
   "id": "78d4f2be",
   "metadata": {},
   "source": [
    "or associate pairwise elements using the `zip` function.\n",
    "\n",
    "$\n",
    "A = [a_0, a_1, a_2]\n",
    "B = [b_0, b_1, b_2]\n",
    "diag(A,B) = [ (a_i, b_i) \\mid i < min(|A|, |B|) ]\n",
    "$"
   ]
  },
  {
   "cell_type": "code",
   "execution_count": null,
   "id": "3aa49e03",
   "metadata": {},
   "outputs": [],
   "source": [
    "D = zip(A, B)\n",
    "print(D)"
   ]
  }
 ],
 "metadata": {},
 "nbformat": 4,
 "nbformat_minor": 5
}
