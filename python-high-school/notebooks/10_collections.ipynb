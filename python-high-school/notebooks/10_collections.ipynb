{
 "cells": [
  {
   "cell_type": "markdown",
   "id": "7731464e",
   "metadata": {},
   "source": [
    "# Python for High School\n",
    "\n",
    "Lesson 2\n",
    "\n",
    "- Roberto Polli - <roberto.polli@par-tec.it>\n",
    "\n",
    "## Agenda\n",
    "\n",
    "- Sets\n",
    "- Introducing Lists\n",
    "- Getting list items\n",
    "- Slicing a list\n",
    "- Strings and Lists\n",
    "- Iterations: `for`\n",
    "- Iterations: `while`\n",
    "\n",
    "## Sets\n",
    "\n",
    "In maths, a set is a collection of distinct objects."
   ]
  },
  {
   "cell_type": "code",
   "execution_count": null,
   "id": "3a597a8f",
   "metadata": {},
   "outputs": [],
   "source": [
    "# In python you can create sets.\n",
    "EMPTY = {}  # ø is the empty set\n",
    "A = {1, 2, 3}\n",
    "B = {3, 4, 5, \"a\"}  # sets can contain different types\n",
    "C = { A }   # a set can contain other sets"
   ]
  },
  {
   "cell_type": "markdown",
   "id": "1ebd5095",
   "metadata": {},
   "source": [
    "Here is an image from Wikipedia:\n",
    "[![Set Theory Operations](https://upload.wikimedia.org/wikipedia/commons/0/04/Set_Theory_Operations.svg)](https://en.wikipedia.org/wiki/Set_(mathematics)#/media/File:Set_Theory_Operations.svg)\n",
    "\n",
    "You can perform set operations on them, including:\n",
    "\n",
    "$\n",
    "U = A \\cup B \\\\\n",
    "I = A \\cap B \\\\\n",
    "D = A \\setminus B \\\\\n",
    "S = A \\Delta B := (A \\cup B) \\setminus (A \\cap B) \\\\\n",
    "$"
   ]
  },
  {
   "cell_type": "code",
   "execution_count": null,
   "id": "38696e1d",
   "metadata": {},
   "outputs": [],
   "source": [
    "# Union\n",
    "U = A | B\n",
    "# Intersection\n",
    "I = A & B\n",
    "# Difference\n",
    "D = A - B\n",
    "# Symmetric difference\n",
    "S = A ^ B"
   ]
  },
  {
   "cell_type": "markdown",
   "id": "a5ea7a35",
   "metadata": {},
   "source": [
    "You can perform basic checks:"
   ]
  },
  {
   "cell_type": "code",
   "execution_count": null,
   "id": "c21488a2",
   "metadata": {},
   "outputs": [],
   "source": [
    "A in U\n",
    "B not in U\n",
    "B in D\n",
    "5 in A"
   ]
  },
  {
   "cell_type": "markdown",
   "id": "96891afe",
   "metadata": {},
   "source": [
    "Exercise: which of the above expressions are true?"
   ]
  },
  {
   "cell_type": "code",
   "execution_count": null,
   "id": "38d17525",
   "metadata": {},
   "outputs": [],
   "source": [
    "#  Make an hypothesis first, then check it using this cell.\n"
   ]
  },
  {
   "cell_type": "code",
   "execution_count": null,
   "id": "ad54a515",
   "metadata": {},
   "outputs": [],
   "source": [
    "{1} in A\n",
    "EMPTY in A\n",
    "I in S\n",
    "2 in C"
   ]
  },
  {
   "cell_type": "markdown",
   "id": "d235f289",
   "metadata": {},
   "source": [
    "Exercise: which of the above expressions are true?"
   ]
  },
  {
   "cell_type": "code",
   "execution_count": null,
   "id": "7bc20dc8",
   "metadata": {},
   "outputs": [],
   "source": [
    "#  Make an hypothesis first, then check it using this cell.\n"
   ]
  },
  {
   "cell_type": "markdown",
   "id": "09a303ef",
   "metadata": {},
   "source": [
    "Exercise: print the content of the sets."
   ]
  },
  {
   "cell_type": "code",
   "execution_count": null,
   "id": "f4f389bc",
   "metadata": {},
   "outputs": [],
   "source": [
    "# Use this cell for the exercise\n"
   ]
  },
  {
   "cell_type": "markdown",
   "id": "515c61ec",
   "metadata": {},
   "source": [
    "## Tuples (Vectors)\n",
    "\n",
    "A python `tuple` (:it: n-pla) represents an ordered list of objects,\n",
    "and can contain duplicates.\n",
    "\n",
    "They seem like vectors,\n",
    "\n",
    "$\n",
    "\\underline{v} = (v_0, v_1, \\dots, v_n) \\in \\mathbb{R}^n\n",
    "$\n",
    "\n",
    "but they are not!\n",
    "\n",
    "Here are two tuples in $\\mathbb{R}^2$:"
   ]
  },
  {
   "cell_type": "code",
   "execution_count": null,
   "id": "e58290bf",
   "metadata": {},
   "outputs": [],
   "source": [
    "v = (0, 0)\n",
    "w = (3, 4)"
   ]
  },
  {
   "cell_type": "markdown",
   "id": "bddfde04",
   "metadata": {},
   "source": [
    "Exercise: print the content of the tuples."
   ]
  },
  {
   "cell_type": "code",
   "execution_count": null,
   "id": "42f42070",
   "metadata": {},
   "outputs": [],
   "source": [
    "print(v[0])"
   ]
  },
  {
   "cell_type": "markdown",
   "id": "1eb2fe8e",
   "metadata": {},
   "source": [
    "Beware: operations on tuples are not the same as operations on vectors!"
   ]
  },
  {
   "cell_type": "code",
   "execution_count": null,
   "id": "f422b70d",
   "metadata": {},
   "outputs": [],
   "source": [
    "# Exercise: try to sum and multiply v and w. Which is the result? What would you expect?\n"
   ]
  },
  {
   "cell_type": "markdown",
   "id": "50ddfcee",
   "metadata": {},
   "source": [
    "Exercise: try to modify the first element of v. What happens?"
   ]
  },
  {
   "cell_type": "code",
   "execution_count": null,
   "id": "3e0504c3",
   "metadata": {},
   "outputs": [],
   "source": [
    "# Use this cell for the exercise\n"
   ]
  },
  {
   "cell_type": "markdown",
   "id": "499be205",
   "metadata": {},
   "source": [
    "Tuples are immutable!\n",
    "\n",
    "## Introducing Lists\n",
    "\n",
    "A list is an **ordered** sequence of objects.\n",
    "Differently from a set, a list is ordered\n",
    "and can contain duplicates."
   ]
  },
  {
   "cell_type": "code",
   "execution_count": null,
   "id": "b9348826",
   "metadata": {},
   "outputs": [],
   "source": [
    "# it's easy to create a list\n",
    "list_a = ['this', 'is', 'a', 'list']\n"
   ]
  },
  {
   "cell_type": "code",
   "execution_count": null,
   "id": "516169f6",
   "metadata": {},
   "outputs": [],
   "source": [
    "# you can append objects to a list\n",
    "# with the append method\n",
    "list_a.append(\"mutable\")"
   ]
  },
  {
   "cell_type": "code",
   "execution_count": null,
   "id": "20f88986",
   "metadata": {},
   "outputs": [],
   "source": [
    "# Print its content\n",
    "print(list_a)"
   ]
  },
  {
   "cell_type": "code",
   "execution_count": null,
   "id": "635594fa",
   "metadata": {},
   "outputs": [],
   "source": [
    "# See its length\n",
    "len(list_a)"
   ]
  },
  {
   "cell_type": "markdown",
   "id": "062e9d4c",
   "metadata": {
    "slideshow": {
     "slide_type": "slide"
    }
   },
   "source": [
    "---\n",
    "\n",
    "#### Lists and Generators\n",
    "\n",
    "The `range` function generates a sequence of numbers.\n",
    "To avoid consuming too much memory, this is not done using lists\n",
    "or sets, but using special objects that generate those sequences."
   ]
  },
  {
   "cell_type": "code",
   "execution_count": null,
   "id": "312d8c94",
   "metadata": {},
   "outputs": [],
   "source": [
    "a = 11\n",
    "from_0_to_10 = range(a)"
   ]
  },
  {
   "cell_type": "markdown",
   "id": "c913d264",
   "metadata": {},
   "source": [
    "Exercise:\n",
    "\n",
    "- print the length of `from_0_to_10`"
   ]
  },
  {
   "cell_type": "code",
   "execution_count": null,
   "id": "a4cff850",
   "metadata": {},
   "outputs": [],
   "source": [
    "# Use this cell for the exercise\n"
   ]
  },
  {
   "cell_type": "markdown",
   "id": "60f9b5f9",
   "metadata": {},
   "source": [
    "- print the `type` of `from_0_to_10`"
   ]
  },
  {
   "cell_type": "code",
   "execution_count": null,
   "id": "edba9f40",
   "metadata": {},
   "outputs": [],
   "source": [
    "# Use this cell for the exercise\n"
   ]
  },
  {
   "cell_type": "markdown",
   "id": "d145f386",
   "metadata": {},
   "source": [
    "We can extract all the elements from a generator using the `list` function."
   ]
  },
  {
   "cell_type": "code",
   "execution_count": null,
   "id": "4a8ec1b9",
   "metadata": {},
   "outputs": [],
   "source": [
    "from_0_to_10 = list(from_0_to_10)\n",
    "l = len(from_0_to_10)\n",
    "l == a\n",
    "print(l)"
   ]
  },
  {
   "cell_type": "code",
   "execution_count": null,
   "id": "fd55a431",
   "metadata": {},
   "outputs": [],
   "source": [
    "# Exercise: print the content of from_0_to_10\n"
   ]
  },
  {
   "cell_type": "markdown",
   "id": "601899cb",
   "metadata": {
    "slideshow": {
     "slide_type": "slide"
    }
   },
   "source": [
    "---\n",
    "\n",
    "## Getting list items"
   ]
  },
  {
   "cell_type": "code",
   "execution_count": null,
   "id": "bb4f8e1b",
   "metadata": {},
   "outputs": [],
   "source": [
    "# you can get list items by index\n",
    "from_0_to_10[0]"
   ]
  },
  {
   "cell_type": "code",
   "execution_count": null,
   "id": "8914fcbb",
   "metadata": {},
   "outputs": [],
   "source": [
    "# Exercise: what happens if I get the 11th element?\n",
    "from_0_to_10[11]"
   ]
  },
  {
   "cell_type": "code",
   "execution_count": null,
   "id": "51d838b9",
   "metadata": {},
   "outputs": [],
   "source": [
    "# python is calling under the hood\n",
    "from_0_to_10.__getitem__(0)"
   ]
  },
  {
   "cell_type": "markdown",
   "id": "ec4f979b",
   "metadata": {},
   "source": [
    "Python lists are doubly linked, so you can get the last element using a negative index."
   ]
  },
  {
   "cell_type": "code",
   "execution_count": null,
   "id": "88dd687d",
   "metadata": {},
   "outputs": [],
   "source": [
    "# python lists are doubly linked ;)\n",
    "from_0_to_10[-1]\n"
   ]
  },
  {
   "cell_type": "code",
   "execution_count": null,
   "id": "4ae27731",
   "metadata": {},
   "outputs": [],
   "source": [
    "\n",
    "#  Exercise: please check the manual!\n",
    "help(list)"
   ]
  },
  {
   "cell_type": "markdown",
   "id": "eb502c28",
   "metadata": {
    "slideshow": {
     "slide_type": "slide"
    }
   },
   "source": [
    "---\n",
    "\n",
    "## Slicing a list"
   ]
  },
  {
   "cell_type": "code",
   "execution_count": null,
   "id": "8f7571cb",
   "metadata": {},
   "outputs": [],
   "source": [
    "straight = [1, 2, 3, 'star']\n",
    "print(straight)\n",
    "type(straight)  # This is a list!"
   ]
  },
  {
   "cell_type": "markdown",
   "id": "9aced879",
   "metadata": {},
   "source": [
    "Python supports slicing, that is, getting a subsequence of a list\n",
    "similarly to what you can do with mathematical intervals.\n",
    "Python uses a half-open interval\n",
    "( e.g. $[i, j)$ or $[i, j[$ ),\n",
    "that is, the first index is included\n",
    "and the last one is excluded. Given a list `l : |l| = 4`\n",
    "\n",
    "$\n",
    "l = [ l_{0}, \\dots,  l_{3} ] \\\\\n",
    "l[0:2] := [ l_{0}, l_{1} ] \\\\\n",
    "l[i:j] := [ l_{i}, \\dots, l_{j-1} ] \\\\\n",
    "$\n",
    "\n",
    "This means that the length of a sliced list is:\n",
    "\n",
    "$\n",
    "|l[i:j]| = j - i \\\\\n",
    "$"
   ]
  },
  {
   "cell_type": "code",
   "execution_count": null,
   "id": "aa093b44",
   "metadata": {},
   "outputs": [],
   "source": [
    "# I can take the middle of the list...\n",
    "straight[1:3]"
   ]
  },
  {
   "cell_type": "code",
   "execution_count": null,
   "id": "35901269",
   "metadata": {},
   "outputs": [],
   "source": [
    "k = 2  # ... or using a separator\n",
    "straight[0:k], straight[k:4]"
   ]
  },
  {
   "cell_type": "code",
   "execution_count": null,
   "id": "95bd207a",
   "metadata": {},
   "outputs": [],
   "source": [
    "straight[:k]         # I can omit the first..."
   ]
  },
  {
   "cell_type": "code",
   "execution_count": null,
   "id": "64faaf5b",
   "metadata": {},
   "outputs": [],
   "source": [
    "straight[k:]       # ...and last index"
   ]
  },
  {
   "cell_type": "markdown",
   "id": "eafbd72c",
   "metadata": {
    "slideshow": {
     "slide_type": "slide"
    }
   },
   "source": [
    "---\n",
    "\n",
    "## Strings and Lists"
   ]
  },
  {
   "cell_type": "code",
   "execution_count": null,
   "id": "62934fa2",
   "metadata": {},
   "outputs": [],
   "source": [
    "# Strings behaves like lists\n",
    "s_a = \"Counting: 123\"\n"
   ]
  },
  {
   "cell_type": "code",
   "execution_count": null,
   "id": "d2d0acc8",
   "metadata": {},
   "outputs": [],
   "source": [
    "# Have length..\n",
    "l_a = len(s_a)\n",
    "print(l_a)"
   ]
  },
  {
   "cell_type": "code",
   "execution_count": null,
   "id": "b7a92da3",
   "metadata": {},
   "outputs": [],
   "source": [
    "# ..indexes\n",
    "print(s_a[0], \" \", s_a[-1])"
   ]
  },
  {
   "cell_type": "code",
   "execution_count": null,
   "id": "84c4db2f",
   "metadata": {},
   "outputs": [],
   "source": [
    "# and a last element\n",
    "s_a[l_a] # ...what's happening there?"
   ]
  },
  {
   "cell_type": "code",
   "execution_count": null,
   "id": "d62c11a0",
   "metadata": {},
   "outputs": [],
   "source": [
    "# ...we can even slice them\n",
    "f = \"gatto.miao\"\n",
    "f[:-5], f[-5], f[-4:]"
   ]
  },
  {
   "cell_type": "markdown",
   "id": "77c6b039",
   "metadata": {
    "slideshow": {
     "slide_type": "slide"
    }
   },
   "source": [
    "---\n",
    "\n",
    "## Juggling with collections\n",
    "\n",
    "We can sort and reverse lists."
   ]
  },
  {
   "cell_type": "code",
   "execution_count": null,
   "id": "752babcb",
   "metadata": {},
   "outputs": [],
   "source": [
    "l = [1, 2, 3, 4, 5]\n",
    "r = reversed(l)\n",
    "print(r)"
   ]
  },
  {
   "cell_type": "markdown",
   "id": "21cfd5c1",
   "metadata": {},
   "source": [
    "reversed is a generator, so we need to \"materialize\" it into a list to print it."
   ]
  },
  {
   "cell_type": "code",
   "execution_count": null,
   "id": "422968ea",
   "metadata": {},
   "outputs": [],
   "source": [
    "# Exercise: print the reversed list\n"
   ]
  },
  {
   "cell_type": "markdown",
   "id": "10965c1f",
   "metadata": {},
   "source": [
    "<!-- print(list(r)) -->\n",
    "\n",
    "If we have different lists, we can concatenate them."
   ]
  },
  {
   "cell_type": "code",
   "execution_count": null,
   "id": "63f80393",
   "metadata": {},
   "outputs": [],
   "source": [
    "A = [1, 2, 3]\n",
    "B = [4, 5, 6]\n",
    "A + B"
   ]
  },
  {
   "cell_type": "markdown",
   "id": "b99ceffa",
   "metadata": {},
   "source": [
    "create the cartesian product of two lists.\n",
    "\n",
    "$\n",
    "A \\times B := \\{ (a; b) \\mid a \\in A, b \\in B \\}\n",
    "$\n",
    "\n",
    "|AxB|   |   |   |\n",
    "|---|---|---|---|\n",
    "| | 1, 4 | 1, 5 | 1, 6 |\n",
    "| | 2, 4 | 2, 5 | 2, 6 |\n",
    "| | 3, 4 | 3, 5 | 3, 6 |"
   ]
  },
  {
   "cell_type": "code",
   "execution_count": null,
   "id": "4457110c",
   "metadata": {},
   "outputs": [],
   "source": [
    "AxB = [(a, b) for a in A for b in B]"
   ]
  },
  {
   "cell_type": "markdown",
   "id": "0792e437",
   "metadata": {},
   "source": [
    "or associate pairwise elements using the `zip` function.\n",
    "\n",
    "|$A \\Delta B$|   |   |   |\n",
    "|---|---|---|---|\n",
    "| | 1, 4 |      |      |\n",
    "| |      | 2, 5 |  \n",
    "| |      |      | 3, 6 |\n",
    "\n",
    "$\n",
    "A = [a_0, a_1, a_2] \\\\\n",
    "B = [b_0, b_1, b_2] \\\\\n",
    "A\\DeltaB = [ (a_i; b_i) \\mid i < min(|A|, |B|) ]\n",
    "$"
   ]
  },
  {
   "cell_type": "code",
   "execution_count": null,
   "id": "7fc262aa",
   "metadata": {},
   "outputs": [],
   "source": [
    "D = zip(A, B)\n",
    "print(D)"
   ]
  },
  {
   "cell_type": "markdown",
   "id": "6f748179",
   "metadata": {},
   "source": [
    "Exercise: can you materialize the zip object into a list?\n",
    "<!-- D = list(D) -->"
   ]
  },
  {
   "cell_type": "code",
   "execution_count": null,
   "id": "bf0760d7",
   "metadata": {},
   "outputs": [],
   "source": [
    "# Use this cell for the exercise\n"
   ]
  },
  {
   "cell_type": "markdown",
   "id": "6e0d2145",
   "metadata": {},
   "source": [
    "## The itertools module\n",
    "\n",
    "The itertools module provides advanced tools for working with collections."
   ]
  },
  {
   "cell_type": "code",
   "execution_count": 3,
   "id": "91ca27e7",
   "metadata": {},
   "outputs": [],
   "source": [
    "import itertools"
   ]
  },
  {
   "cell_type": "markdown",
   "id": "70b9f821",
   "metadata": {},
   "source": [
    "You can create combinations, permutations, and cartesian products."
   ]
  },
  {
   "cell_type": "code",
   "execution_count": 12,
   "id": "03f45673",
   "metadata": {},
   "outputs": [],
   "source": [
    "A = [1, 2, 3]\n",
    "B = [0, 1, 3]"
   ]
  },
  {
   "cell_type": "code",
   "execution_count": 21,
   "id": "249bad7a",
   "metadata": {},
   "outputs": [],
   "source": [
    "AxB = itertools.product(A, B)\n",
    "P_A = itertools.permutations(A)\n",
    "C_A_2 = itertools.combinations(A, 0)"
   ]
  },
  {
   "cell_type": "markdown",
   "id": "e6c7b990",
   "metadata": {},
   "source": [
    "Exercise: print the content of the above objects."
   ]
  },
  {
   "cell_type": "code",
   "execution_count": 20,
   "id": "7f1c6f92",
   "metadata": {},
   "outputs": [
    {
     "name": "stdout",
     "output_type": "stream",
     "text": [
      "2.0\n"
     ]
    }
   ],
   "source": [
    "# Use this cell for the exercise\n",
    "P_A = list(P_A)\n",
    "C_A_2 = list(C_A_2)\n",
    "print(len(P_A)/len(C_A_2))"
   ]
  },
  {
   "cell_type": "markdown",
   "id": "13286500",
   "metadata": {},
   "source": [
    "Combinations are useful to generate all the possible subsets of a set\n",
    "of a given size.\n",
    "\n",
    "Can you compute the following value?"
   ]
  },
  {
   "cell_type": "code",
   "execution_count": null,
   "id": "79840737",
   "metadata": {},
   "outputs": [],
   "source": [
    "len(P_A) / len(C_A_2) "
   ]
  }
 ],
 "metadata": {
  "kernelspec": {
   "display_name": "Python 3",
   "language": "python",
   "name": "python3"
  },
  "language_info": {
   "codemirror_mode": {
    "name": "ipython",
    "version": 3
   },
   "file_extension": ".py",
   "mimetype": "text/x-python",
   "name": "python",
   "nbconvert_exporter": "python",
   "pygments_lexer": "ipython3",
   "version": "3.11.6"
  }
 },
 "nbformat": 4,
 "nbformat_minor": 5
}
