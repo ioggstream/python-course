{
 "cells": [
  {
   "cell_type": "markdown",
   "id": "763d1227",
   "metadata": {},
   "source": [
    "# Python for High School\n",
    "\n",
    "Lesson 2\n",
    "\n",
    "- Roberto Polli - <roberto.polli@par-tec.it>\n",
    "\n",
    "## Agenda\n",
    "\n",
    "- Sets\n",
    "- Introducing Lists\n",
    "- Getting list items\n",
    "- Slicing a list\n",
    "- Strings and Lists\n",
    "- Iterations: `for`\n",
    "- Iterations: `while`\n",
    "\n",
    "## Sets\n",
    "\n",
    "In maths, a set is a collection of distinct objects."
   ]
  },
  {
   "cell_type": "code",
   "execution_count": null,
   "id": "85871bc9",
   "metadata": {},
   "outputs": [],
   "source": [
    "# In python you can create sets.\n",
    "EMPTY = {}  # ø is the empty set\n",
    "A = {1, 2, 3}\n",
    "B = {3, 4, 5, \"a\"}  # sets can contain different types\n",
    "C = { A }   # a set can contain other sets"
   ]
  },
  {
   "cell_type": "markdown",
   "id": "7d98587e",
   "metadata": {},
   "source": [
    "Here is an image from Wikipedia:\n",
    "[![Set Theory Operations](https://upload.wikimedia.org/wikipedia/commons/0/04/Set_Theory_Operations.svg)](https://en.wikipedia.org/wiki/Set_(mathematics)#/media/File:Set_Theory_Operations.svg)\n",
    "\n",
    "You can perform set operations on them, including:\n",
    "\n",
    "$\n",
    "U = A \\cup B \\\\\n",
    "I = A \\cap B \\\\\n",
    "D = A \\setminus B \\\\\n",
    "S = A \\Delta B := (A \\cup B) \\setminus (A \\cap B) \\\\\n",
    "$"
   ]
  },
  {
   "cell_type": "code",
   "execution_count": null,
   "id": "bcdedc82",
   "metadata": {},
   "outputs": [],
   "source": [
    "# Union\n",
    "U = A | B\n",
    "# Intersection\n",
    "I = A & B\n",
    "# Difference\n",
    "D = A - B\n",
    "# Symmetric difference\n",
    "S = A ^ B"
   ]
  },
  {
   "cell_type": "markdown",
   "id": "77b1d04f",
   "metadata": {},
   "source": [
    "You can perform basic checks:"
   ]
  },
  {
   "cell_type": "code",
   "execution_count": null,
   "id": "957fed92",
   "metadata": {},
   "outputs": [],
   "source": [
    "A in U\n",
    "B not in U\n",
    "B in D\n",
    "5 in A\n",
    "{1} in A\n",
    "EMPTY in A\n",
    "I in S\n",
    "2 in C"
   ]
  },
  {
   "cell_type": "markdown",
   "id": "200bc363",
   "metadata": {},
   "source": [
    "Exercise: which of the above instructions are true?"
   ]
  },
  {
   "cell_type": "code",
   "execution_count": null,
   "id": "53225bc9",
   "metadata": {},
   "outputs": [],
   "source": [
    "# Use this cell for the exercise\n"
   ]
  },
  {
   "cell_type": "markdown",
   "id": "d0471539",
   "metadata": {},
   "source": [
    "Exercise: print the content of the sets."
   ]
  },
  {
   "cell_type": "code",
   "execution_count": null,
   "id": "a25158e8",
   "metadata": {},
   "outputs": [],
   "source": [
    "# Use this cell for the exercise\n"
   ]
  },
  {
   "cell_type": "markdown",
   "id": "d5ec9e08",
   "metadata": {},
   "source": [
    "## Introducing Lists\n",
    "\n",
    "A list is an ordered sequence of items.\n",
    "Differently from a set, a list is ordered\n",
    "and can contain duplicates."
   ]
  },
  {
   "cell_type": "code",
   "execution_count": null,
   "id": "ac2605b1",
   "metadata": {},
   "outputs": [],
   "source": [
    "# it's easy to create a list\n",
    "list_a = ['this', 'is', 'a', 'list']\n"
   ]
  },
  {
   "cell_type": "code",
   "execution_count": null,
   "id": "9773c043",
   "metadata": {},
   "outputs": [],
   "source": [
    "\n",
    "# you can append items to a list\n",
    "# with the append method\n",
    "list_a.append(\"mutable\")"
   ]
  },
  {
   "cell_type": "code",
   "execution_count": null,
   "id": "e62ff332",
   "metadata": {},
   "outputs": [],
   "source": [
    "# Print its content\n",
    "print(list_a)"
   ]
  },
  {
   "cell_type": "code",
   "execution_count": null,
   "id": "3fd2974c",
   "metadata": {},
   "outputs": [],
   "source": [
    "# See its length\n",
    "len(list_a)"
   ]
  },
  {
   "cell_type": "markdown",
   "id": "337d414c",
   "metadata": {
    "slideshow": {
     "slide_type": "slide"
    }
   },
   "source": [
    "---\n",
    "\n",
    "#### Lists and Generators\n",
    "\n",
    "In python you can generate a sequence of numbers.\n",
    "To avoid consuming too much memory, this is not doen using lists\n",
    "or sets, but using special objects that generate those sequences."
   ]
  },
  {
   "cell_type": "code",
   "execution_count": null,
   "id": "828d9193",
   "metadata": {},
   "outputs": [],
   "source": [
    "a = 11\n",
    "from_0_to_10 = range(a)"
   ]
  },
  {
   "cell_type": "markdown",
   "id": "970537d4",
   "metadata": {},
   "source": [
    "Exercise:\n",
    "\n",
    "- print the length of `from_0_to_10`"
   ]
  },
  {
   "cell_type": "code",
   "execution_count": null,
   "id": "5196542f",
   "metadata": {},
   "outputs": [],
   "source": [
    "# Use this cell for the exercise\n"
   ]
  },
  {
   "cell_type": "markdown",
   "id": "1d420ecf",
   "metadata": {},
   "source": [
    "- print the `type` of `from_0_to_10`"
   ]
  },
  {
   "cell_type": "code",
   "execution_count": null,
   "id": "bacfa48e",
   "metadata": {},
   "outputs": [],
   "source": [
    "# Use this cell for the exercise\n"
   ]
  },
  {
   "cell_type": "markdown",
   "id": "7dd95bf2",
   "metadata": {},
   "source": [
    "We can extract all the elements from a generator using the `list` function."
   ]
  },
  {
   "cell_type": "code",
   "execution_count": null,
   "id": "2f781419",
   "metadata": {},
   "outputs": [],
   "source": [
    "from_0_to_10 = list(from_0_to_10)\n",
    "l = len(from_0_to_10)\n",
    "l == a\n",
    "print(l)"
   ]
  },
  {
   "cell_type": "code",
   "execution_count": null,
   "id": "8a92ffb7",
   "metadata": {},
   "outputs": [],
   "source": [
    "# Exercise: can you print the content of from_0_to_10\n",
    "print(from_0_to_10)"
   ]
  },
  {
   "cell_type": "markdown",
   "id": "33ed1454",
   "metadata": {
    "slideshow": {
     "slide_type": "slide"
    }
   },
   "source": [
    "---\n",
    "\n",
    "## Getting list items"
   ]
  },
  {
   "cell_type": "code",
   "execution_count": null,
   "id": "0cf4901c",
   "metadata": {},
   "outputs": [],
   "source": [
    "# you can get list items by index\n",
    "from_0_to_10[0]"
   ]
  },
  {
   "cell_type": "code",
   "execution_count": null,
   "id": "1420914d",
   "metadata": {},
   "outputs": [],
   "source": [
    "# Exercise: what happens if I get the 11th element?\n",
    "from_0_to_10[11]"
   ]
  },
  {
   "cell_type": "code",
   "execution_count": null,
   "id": "ad32c1d6",
   "metadata": {},
   "outputs": [],
   "source": [
    "# python is calling under the hood\n",
    "from_0_to_10.__getitem__(0)"
   ]
  },
  {
   "cell_type": "markdown",
   "id": "f1c74715",
   "metadata": {},
   "source": [
    "Python lists are doubly linked, so you can get the last element using a negative index."
   ]
  },
  {
   "cell_type": "code",
   "execution_count": null,
   "id": "b2c90bd2",
   "metadata": {},
   "outputs": [],
   "source": [
    "# python lists are doubly linked ;)\n",
    "from_0_to_10[-1]\n"
   ]
  },
  {
   "cell_type": "code",
   "execution_count": null,
   "id": "ac98ac8c",
   "metadata": {},
   "outputs": [],
   "source": [
    "\n",
    "#  Exercise: please check the manual!\n",
    "help(list)"
   ]
  },
  {
   "cell_type": "markdown",
   "id": "0d674bdc",
   "metadata": {
    "slideshow": {
     "slide_type": "slide"
    }
   },
   "source": [
    "---\n",
    "\n",
    "## Slicing a list"
   ]
  },
  {
   "cell_type": "code",
   "execution_count": null,
   "id": "5a2818b7",
   "metadata": {},
   "outputs": [],
   "source": [
    "straight = [1, 2, 3, 'star']\n",
    "print(straight)"
   ]
  },
  {
   "cell_type": "markdown",
   "id": "335cc344",
   "metadata": {},
   "source": [
    "Python supports slicing, that is, getting a subsequence of a list\n",
    "similarly to what you can do with mathematical intervals.\n",
    "Python uses a half-open interval\n",
    "( e.g. $[i, j)$ or $[i, j[$ ),\n",
    "that is, the first index is included\n",
    "and the last one is excluded. Given a list `l : |l| = 4`\n",
    "\n",
    "$\n",
    "l = [ l_{0}, \\dots,  l_{3} ] \\\\\n",
    "l[0:2] := [ l_{0}, l_{1} ] \\\\\n",
    "l[i:j] := [ l_{i}, \\dots, l_{j-1} ] \\\\\n",
    "$\n",
    "\n",
    "This means that the length of a sliced list is:\n",
    "\n",
    "$\n",
    "|l[i:j]| = j - i \\\\\n",
    "$"
   ]
  },
  {
   "cell_type": "code",
   "execution_count": null,
   "id": "6f59a793",
   "metadata": {},
   "outputs": [],
   "source": [
    "# I can take the middle of the list...\n",
    "straight[1:3]"
   ]
  },
  {
   "cell_type": "code",
   "execution_count": null,
   "id": "7a14c282",
   "metadata": {},
   "outputs": [],
   "source": [
    "k = 2  # ... or using a separator\n",
    "straight[0:k], straight[k:4]"
   ]
  },
  {
   "cell_type": "code",
   "execution_count": null,
   "id": "f4454b7c",
   "metadata": {},
   "outputs": [],
   "source": [
    "straight[:k]         # I can omit the first..."
   ]
  },
  {
   "cell_type": "code",
   "execution_count": null,
   "id": "cd515898",
   "metadata": {},
   "outputs": [],
   "source": [
    "straight[k:]       # ...and last index"
   ]
  },
  {
   "cell_type": "markdown",
   "id": "6e9e3957",
   "metadata": {
    "slideshow": {
     "slide_type": "slide"
    }
   },
   "source": [
    "---\n",
    "\n",
    "## Strings and Lists"
   ]
  },
  {
   "cell_type": "code",
   "execution_count": null,
   "id": "3f405441",
   "metadata": {},
   "outputs": [],
   "source": [
    "# Strings behaves like lists\n",
    "s_a = \"Counting: 123\"\n"
   ]
  },
  {
   "cell_type": "code",
   "execution_count": null,
   "id": "f2ed734a",
   "metadata": {},
   "outputs": [],
   "source": [
    "\n",
    "# Have length..\n",
    "l_a = len(s_a)\n",
    "print(l_a)"
   ]
  },
  {
   "cell_type": "code",
   "execution_count": null,
   "id": "e9f8b34b",
   "metadata": {},
   "outputs": [],
   "source": [
    "# ..indexes\n",
    "print(s_a[0], \" \", s_a[-1])"
   ]
  },
  {
   "cell_type": "code",
   "execution_count": null,
   "id": "f4ebadff",
   "metadata": {},
   "outputs": [],
   "source": [
    "# and a last element\n",
    "s_a[l_a] # ...what's happening there?"
   ]
  },
  {
   "cell_type": "code",
   "execution_count": null,
   "id": "fe066def",
   "metadata": {},
   "outputs": [],
   "source": [
    "# ...we can even slice them\n",
    "f = \"gatto.miao\"\n",
    "f[:-5], f[-5], f[-4:]"
   ]
  },
  {
   "cell_type": "markdown",
   "id": "870dc59a",
   "metadata": {
    "slideshow": {
     "slide_type": "slide"
    }
   },
   "source": [
    "---\n",
    "\n",
    "## Juggling with iterables\n",
    "\n",
    "We can sort and reverse lists."
   ]
  },
  {
   "cell_type": "code",
   "execution_count": null,
   "id": "8392e5ac",
   "metadata": {},
   "outputs": [],
   "source": [
    "l = [1, 2, 3, 4, 5]\n",
    "r = reversed(l)\n",
    "print(r)"
   ]
  },
  {
   "cell_type": "markdown",
   "id": "7d9af161",
   "metadata": {},
   "source": [
    "reversed is a generator, so we need to convert it to a list to print it."
   ]
  },
  {
   "cell_type": "code",
   "execution_count": null,
   "id": "1ec1c2f5",
   "metadata": {},
   "outputs": [],
   "source": [
    "# Exercise: print the reversed list\n"
   ]
  },
  {
   "cell_type": "markdown",
   "id": "d0364e98",
   "metadata": {},
   "source": [
    "<!-- print(list(r)) -->\n",
    "\n",
    "If we have different lists, we can concatenate them."
   ]
  },
  {
   "cell_type": "code",
   "execution_count": null,
   "id": "88a66b98",
   "metadata": {},
   "outputs": [],
   "source": [
    "A = [1, 2, 3]\n",
    "B = [4, 5, 6]\n",
    "A + B"
   ]
  },
  {
   "cell_type": "markdown",
   "id": "fc82e9f4",
   "metadata": {},
   "source": [
    "or associate pairwise elements using the `zip` function.\n",
    "\n",
    "$\n",
    "A = [a_0, a_1, a_2]\n",
    "B = [b_0, b_1, b_2]\n",
    "diag(A,B) = [ (a_i, b_i) \\mid i < min(|A|, |B|) ]\n",
    "$"
   ]
  },
  {
   "cell_type": "code",
   "execution_count": null,
   "id": "65c3f93b",
   "metadata": {},
   "outputs": [],
   "source": [
    "D = zip(A, B)\n",
    "print(D)"
   ]
  }
 ],
 "metadata": {},
 "nbformat": 4,
 "nbformat_minor": 5
}
