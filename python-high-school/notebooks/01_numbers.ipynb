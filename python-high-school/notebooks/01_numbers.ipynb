{
 "cells": [
  {
   "cell_type": "markdown",
   "id": "95586893",
   "metadata": {},
   "source": [
    "# More on numbers\n",
    "\n",
    "## More on binary numbers\n",
    "\n",
    "We can use f-strings to print the binary representation of a number.\n",
    "The pattern is `{variable:format specification}`.\n",
    "In the code below:\n",
    "\n",
    "- the variable is `a`\n",
    "- the format specification is `#b` (binary with the `0b` prefix)."
   ]
  },
  {
   "cell_type": "code",
   "execution_count": null,
   "id": "3d14333e",
   "metadata": {},
   "outputs": [],
   "source": [
    "a = 3\n",
    "print(f\"{a:#b} is the binary representation of {a}\")"
   ]
  },
  {
   "cell_type": "markdown",
   "id": "2b38d072",
   "metadata": {},
   "source": [
    "Exercise: print the binary representation of the following numbers:\n",
    "  3, 61, 35.\n",
    "\n",
    "<!-- Solution -->\n",
    "<!-- print(f\"{3:#b}\") -->\n",
    "<!-- print(f\"{61:#b}\")-->\n",
    "<!-- print(f\"{35:#b}\")-->"
   ]
  },
  {
   "cell_type": "code",
   "execution_count": null,
   "id": "3eb82f9c",
   "metadata": {},
   "outputs": [],
   "source": [
    "# Write your code here."
   ]
  },
  {
   "cell_type": "markdown",
   "id": "1cc9a368",
   "metadata": {},
   "source": [
    "Exercise: what happens if you remove the `#` in the format specification?"
   ]
  },
  {
   "cell_type": "code",
   "execution_count": null,
   "id": "5cc41825",
   "metadata": {},
   "outputs": [],
   "source": [
    "# Use this cell for the exercise.\n"
   ]
  },
  {
   "cell_type": "markdown",
   "id": "4a837535",
   "metadata": {},
   "source": [
    "To align the number representations, we can specify their length (e.g., 10 characters)."
   ]
  },
  {
   "cell_type": "code",
   "execution_count": null,
   "id": "a7cd4df0",
   "metadata": {},
   "outputs": [],
   "source": [
    "a = 3\n",
    "print(f\"{a:#10b} is the binary representation of {a}\")\n",
    "a = 61\n",
    "print(f\"{a:#10b} is the binary representation of {a}\")"
   ]
  },
  {
   "cell_type": "markdown",
   "id": "d57c73c7",
   "metadata": {},
   "source": [
    "I can also specify to fill the empty spaces with `0`s."
   ]
  },
  {
   "cell_type": "code",
   "execution_count": null,
   "id": "09480df9",
   "metadata": {},
   "outputs": [],
   "source": [
    "a=3\n",
    "print(f\"{a:#010b} is the binary representation of {a}\")\n",
    "a=61\n",
    "print(f\"{a:#010b} is the binary representation of {a}\")"
   ]
  },
  {
   "cell_type": "markdown",
   "id": "fda7ddb5",
   "metadata": {},
   "source": [
    "In this way I can easily compare the binary representations of two numbers.\n",
    "\n",
    "| number |  $2^7$ | $2^6$ | $2^5$ | $2^4$ | $2^3$ | $2^2$ | $2^1$ | $2^0$ |\n",
    "|--------|-------|-------|-------|-------|-------|-------|-------|-------|\n",
    "| 3      | 0     | 0     | 0     | 0     | 0     | 0     | 1     | 1     |\n",
    "| 61     | 0     | 0     | 1     | 1     | 1     | 1     | 0     | 1     |\n",
    "\n",
    "----\n",
    "\n",
    "### Bitwise operators: `<<` and `>>`\n",
    "\n",
    "Bitwise operators are the most simple operators,\n",
    "since they operate on single digits.\n",
    "They are used to manipulate the binary representation of numbers.\n",
    "\n",
    "- Exercise on the `<<` (left-shift) operator: given the following number"
   ]
  },
  {
   "cell_type": "code",
   "execution_count": null,
   "id": "a14673e5",
   "metadata": {},
   "outputs": [],
   "source": [
    "a = 1"
   ]
  },
  {
   "cell_type": "markdown",
   "id": "931c8440",
   "metadata": {},
   "source": [
    "try to guess the result of the following operations. Hint: execute the cell below multiple times."
   ]
  },
  {
   "cell_type": "code",
   "execution_count": null,
   "id": "12d3a51e",
   "metadata": {},
   "outputs": [],
   "source": [
    "a = a << 1\n",
    "print(f\"{a:#010b}\")"
   ]
  },
  {
   "cell_type": "markdown",
   "id": "99e3e95f",
   "metadata": {},
   "source": [
    "Is there a similar operator with numbers in base 10?\n",
    "\n",
    "- Exercise on the `>>` (right-shift) operator: given the following number"
   ]
  },
  {
   "cell_type": "code",
   "execution_count": null,
   "id": "03155da2",
   "metadata": {},
   "outputs": [],
   "source": [
    "a = 79"
   ]
  },
  {
   "cell_type": "markdown",
   "id": "93d3fd9e",
   "metadata": {},
   "source": [
    "try to guess the result of the following operations. Hint: execute the cell below multiple times."
   ]
  },
  {
   "cell_type": "code",
   "execution_count": null,
   "id": "98fc305d",
   "metadata": {},
   "outputs": [],
   "source": [
    "a = a >> 1\n",
    "print(f\"{a:#010b}\")"
   ]
  },
  {
   "cell_type": "markdown",
   "id": "f16956ae",
   "metadata": {},
   "source": [
    "Is there a similar operator with numbers in base 10?\n",
    "\n",
    "Discuss the results with your classmates.\n",
    "\n",
    "### Bitwise operators: AND `&`\n",
    "\n",
    "The `&` operator is the bitwise AND operator.\n",
    "It returns 1 if both bits are 1, 0 otherwise."
   ]
  },
  {
   "cell_type": "code",
   "execution_count": null,
   "id": "9ceead4f",
   "metadata": {},
   "outputs": [],
   "source": [
    "a = 19\n",
    "b = 61\n",
    "c = a & b\n",
    "print(f\"{a:#010b}\")\n",
    "print(f\"{b:#010b}\")\n",
    "print(f\"{c:#010b}\")"
   ]
  },
  {
   "cell_type": "markdown",
   "id": "a7bc9b2e",
   "metadata": {},
   "source": [
    "| number |  $2^7$ | $2^6$ | $2^5$ | $2^4$ | $2^3$ | $2^2$ | $2^1$ | $2^0$ |\n",
    "|--------|-------|-------|-------|-------|-------|-------|-------|-------|\n",
    "| 19      | 0     | 0     | 0     | 0     | 0     | 0     | 1     | 1     |\n",
    "| 61     | 0     | 0     | 1     | 1     | 1     | 1     | 0     | 1     |\n",
    "| 19 & 61 | 0     | 0     | 0     | 1     | 0     | 0     | 0     | 1     |\n",
    "\n",
    "The AND operator has a physical meaning: it is used to check if, in a circuit, two switches are both ON.\n",
    "\n",
    "- 🔋--1--1--💡ON\n",
    "- 🔋--0--1--💡OFF\n",
    "- 🔋--1--0--💡OFF\n",
    "- 🔋--0--0--💡OFF\n",
    "\n",
    "[![](https://mermaid.ink/img/pako:eNplkU9rwzAMxb-K8amFepAecxgM2p66Dbbb6h78R0kMjp0pMqOUfvc5TsIO00nS-_F4SHduogVe88bHH9MpJHb-kGFMukU1dOzl7XA5ejCEzjDj0CRHVxmsw7xzMRSa5dKiujSqbpTQigjwJqhDAPGdsifgeJ0xD7aAOJHetR3p5DV7P50WYKxEtdnMThTb1oOITbPdLur-vxpWMUdgQojn4vHntuz2a1cizLJ4yrOeJghWBr7jPWCvnM0HuU-I5NRBD5LXubXQqORJchkeGU2DVQRH6ygirwkT7LhKFD9vwazzzBycytfseU7tx7wdVPiKsV8hKBav8x_KOx6_iymCQQ?type=png)](https://mermaid.live/edit#pako:eNplkU9rwzAMxb-K8amFepAecxgM2p66Dbbb6h78R0kMjp0pMqOUfvc5TsIO00nS-_F4SHduogVe88bHH9MpJHb-kGFMukU1dOzl7XA5ejCEzjDj0CRHVxmsw7xzMRSa5dKiujSqbpTQigjwJqhDAPGdsifgeJ0xD7aAOJHetR3p5DV7P50WYKxEtdnMThTb1oOITbPdLur-vxpWMUdgQojn4vHntuz2a1cizLJ4yrOeJghWBr7jPWCvnM0HuU-I5NRBD5LXubXQqORJchkeGU2DVQRH6ygirwkT7LhKFD9vwazzzBycytfseU7tx7wdVPiKsV8hKBav8x_KOx6_iymCQQ)\n",
    "\n",
    "\n",
    "- Exercise: compute the bitwise AND of 192 and 71 by hand and check the result in the cell below.\n",
    "\n",
    "<!-- solution: a, b = 192, 71; c = a & b; print(f\"{a:#010b}\"); print(f\"{b:#010b}\"); print(f\"{c:#010b}\"); -->"
   ]
  },
  {
   "cell_type": "code",
   "execution_count": null,
   "id": "2d5a400b",
   "metadata": {},
   "outputs": [],
   "source": [
    "# Write your code here.\n"
   ]
  },
  {
   "cell_type": "markdown",
   "id": "2fcc3132",
   "metadata": {},
   "source": [
    "### Bitwise operators: OR `|`\n",
    "\n",
    "The `|` operator is the bitwise OR operator.\n",
    "It returns 1 if at least one bit is 1, 0 otherwise."
   ]
  },
  {
   "cell_type": "code",
   "execution_count": null,
   "id": "d38d7047",
   "metadata": {},
   "outputs": [],
   "source": [
    "a = 6\n",
    "b = 5\n",
    "c = a | b\n",
    "print(f\"{a:#010b}\")\n",
    "print(f\"{b:#010b}\")\n",
    "print(f\"{c:#010b}\")"
   ]
  },
  {
   "cell_type": "markdown",
   "id": "c8e4ac1f",
   "metadata": {},
   "source": [
    "| number |  $2^7$ | $2^6$ | $2^5$ | $2^4$ | $2^3$ | $2^2$ | $2^1$ | $2^0$ |\n",
    "|--------|-------|-------|-------|-------|-------|-------|-------|-------|\n",
    "| 6      | 0     | 0     | 0     | 0     | 0     | 1     | 1     | 0     |\n",
    "| 5      | 0     | 0     | 0     | 0     | 0     | 1     | 0     | 1     |\n",
    "| 6 \\| 5 | 0     | 0     | 0     | 0     | 0     | 1     | 1     | 1     |\n",
    "\n",
    "- Exercise: compute the bitwise OR of 192 and 71 by hand and check the result  in the cell below.\n",
    "\n",
    "<!-- solution: a, b = 192, 71; c = a | b; print(f\"{a:#010b}\"); print(f\"{b:#010b}\"); print(f\"{c:#010b}\"); -->\n",
    "\n",
    "The OR operator has a physical meaning: it is used to check if, in a circuit, at least one switch is ON.\n",
    "\n",
    "[![](https://mermaid.ink/img/pako:eNpdkL1uAyEQhF8FbRHZkolkl1ekSro4luLOIQUcyx0SBxdYFFmW3z17P25CtcN8zIq5QZssQgMupN-215nE-6eKKpZquqzHXpxYWp-xJZ_ibAo-5svpxmlpNBHmq6Q-I8qfygGYy_cKCSnliyh78STKYREBrZDPPJiFYc1RZcoKvuvJ1GDE6WNNKPvNZllEqesCyhS329U6_LecmzyMVkXYwYB50N7y127TAwXU44AKGh4tOl0DKVDxzmgdrSZ8s55ShoZyxR3oSul8je1DL8yr19zKALw2FL4ddbykNDwgnCOOS6Nzsfc_f7R0Qw?type=png)](https://mermaid.live/edit#pako:eNpdkL1uAyEQhF8FbRHZkolkl1ekSro4luLOIQUcyx0SBxdYFFmW3z17P25CtcN8zIq5QZssQgMupN-215nE-6eKKpZquqzHXpxYWp-xJZ_ibAo-5svpxmlpNBHmq6Q-I8qfygGYy_cKCSnliyh78STKYREBrZDPPJiFYc1RZcoKvuvJ1GDE6WNNKPvNZllEqesCyhS329U6_LecmzyMVkXYwYB50N7y127TAwXU44AKGh4tOl0DKVDxzmgdrSZ8s55ShoZyxR3oSul8je1DL8yr19zKALw2FL4ddbykNDwgnCOOS6Nzsfc_f7R0Qw)\n",
    "\n",
    "---\n",
    "\n",
    "\n",
    "## Mathematical built-int functions\n",
    "\n",
    "Python has some built-in functions for numbers:"
   ]
  },
  {
   "cell_type": "code",
   "execution_count": null,
   "id": "e686c2ad",
   "metadata": {},
   "outputs": [],
   "source": [
    "M = max(1, 2)\n",
    "m = min(1, 2, -3)\n",
    "absolute_value = abs(-3)\n",
    "approximate_positive = round(1.4)\n",
    "approximate_negative = round(-1.4)"
   ]
  },
  {
   "cell_type": "markdown",
   "id": "7a14e5ed",
   "metadata": {},
   "source": [
    "Execise:\n",
    "\n",
    "- see the [python manual](https://docs.python.org/3/library/functions.html)\n",
    "for a list of built-in functions;\n",
    "- share with your classmates the ones you know.\n",
    "\n",
    "\n",
    "Mathematical built-in functions can be used to implement simple algorithms,\n",
    "such as the Euclidean algorithm for the greatest common divisor (GCD)\n",
    "(:it: massimo comun divisore - MCD)"
   ]
  },
  {
   "cell_type": "code",
   "execution_count": null,
   "id": "c5cc806e",
   "metadata": {},
   "outputs": [],
   "source": [
    "# Let's define two positive integers.\n",
    "b = 234\n",
    "c = 64\n",
    "# Reorder the numbers so that b is smaller than c.\n",
    "b, c = min(b, c), max(b, c)\n",
    "print(\"b =\", b, \"c =\", c)"
   ]
  },
  {
   "cell_type": "markdown",
   "id": "98b97238",
   "metadata": {},
   "source": [
    "Now execute the cell below many times, and see what happens."
   ]
  },
  {
   "cell_type": "code",
   "execution_count": null,
   "id": "abb9071a",
   "metadata": {},
   "outputs": [],
   "source": [
    "# Iterate until b is zero.\n",
    "d = c - b\n",
    "b, c = min(d, b), max(d, b)\n",
    "print(\"b =\", b, \"c =\", c)"
   ]
  },
  {
   "cell_type": "markdown",
   "id": "7546a3ce",
   "metadata": {},
   "source": [
    "---\n",
    "\n",
    "## Importing functionalities\n",
    "\n",
    "----"
   ]
  },
  {
   "cell_type": "code",
   "execution_count": null,
   "id": "4b8374cf",
   "metadata": {},
   "outputs": [],
   "source": [
    "# Importing new features\n",
    "# ..is easy. Features are collected\n",
    "# in packages or modules. Just\n",
    "import math  # to use the\n",
    "math.sqrt  # function\n",
    "\n",
    "math.sqrt(2)"
   ]
  },
  {
   "cell_type": "code",
   "execution_count": null,
   "id": "9da6ff45",
   "metadata": {},
   "outputs": [],
   "source": [
    "# We can even import single functions\n",
    "#  or constants from a module\n",
    "from math import pi as π\n",
    "π / 2"
   ]
  },
  {
   "cell_type": "markdown",
   "id": "731a1214",
   "metadata": {},
   "source": [
    "----\n",
    "\n",
    "Modules contain documentation in the form of docstrings,\n",
    "that jupyter presents in scrollable boxes."
   ]
  },
  {
   "cell_type": "code",
   "execution_count": null,
   "id": "6226dffe",
   "metadata": {},
   "outputs": [],
   "source": [
    "\n",
    "# Read the module documentation...\n",
    "help(math)"
   ]
  },
  {
   "cell_type": "code",
   "execution_count": null,
   "id": "279f6973",
   "metadata": {},
   "outputs": [],
   "source": [
    "# ...or the function documentation\n",
    "help(math.sqrt)\n"
   ]
  }
 ],
 "metadata": {},
 "nbformat": 4,
 "nbformat_minor": 5
}
