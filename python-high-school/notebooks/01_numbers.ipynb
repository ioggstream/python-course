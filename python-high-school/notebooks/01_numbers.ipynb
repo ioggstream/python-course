{
 "cells": [
  {
   "cell_type": "markdown",
   "id": "58432615",
   "metadata": {},
   "source": [
    "# More on numbers\n",
    "\n",
    "## More on binary numbers\n",
    "\n",
    "We can use f-strings to print the binary representation of a number."
   ]
  },
  {
   "cell_type": "code",
   "execution_count": null,
   "id": "d8cf8514",
   "metadata": {},
   "outputs": [],
   "source": [
    "a = 3\n",
    "print(f\"{a:#b} is the binary representation of {a}\")"
   ]
  },
  {
   "cell_type": "markdown",
   "id": "9041471e",
   "metadata": {},
   "source": [
    "Exercise: print the following numbers in binary:\n",
    "  3, 61, 35.\n",
    "\n",
    "<!-- Solution -->\n",
    "<!-- print(f\"{3:#b}\") -->\n",
    "<!-- print(f\"{61:#b}\")-->\n",
    "<!-- print(f\"{35:#b}\")-->"
   ]
  },
  {
   "cell_type": "code",
   "execution_count": null,
   "id": "da04a89a",
   "metadata": {},
   "outputs": [],
   "source": [
    "# Write your code here."
   ]
  },
  {
   "cell_type": "markdown",
   "id": "725945d9",
   "metadata": {},
   "source": [
    "To align the number representations, we can specify the length of the representation (e.g., 10 characters)."
   ]
  },
  {
   "cell_type": "code",
   "execution_count": null,
   "id": "2b3156af",
   "metadata": {},
   "outputs": [],
   "source": [
    "a = 3\n",
    "print(f\"{a:#10b} is the binary representation of {a}\")\n",
    "a = 61\n",
    "print(f\"{a:#10b} is the binary representation of {a}\")"
   ]
  },
  {
   "cell_type": "markdown",
   "id": "0ae55674",
   "metadata": {},
   "source": [
    "I can also specify to fill the empty spaces with `0`s."
   ]
  },
  {
   "cell_type": "code",
   "execution_count": null,
   "id": "896c0c39",
   "metadata": {},
   "outputs": [],
   "source": [
    "a=3\n",
    "print(f\"{a:#010b} is the binary representation of {a}\")\n",
    "a=61\n",
    "print(f\"{a:#010b} is the binary representation of {a}\")"
   ]
  },
  {
   "cell_type": "markdown",
   "id": "e22faf7c",
   "metadata": {},
   "source": [
    "In this way I can easily compare the binary representations of two numbers.\n",
    "\n",
    "| number |  $2^7$ | $2^6$ | $2^5$ | $2^4$ | $2^3$ | $2^2$ | $2^1$ | $2^0$ |\n",
    "|--------|-------|-------|-------|-------|-------|-------|-------|-------|\n",
    "| 3      | 0     | 0     | 0     | 0     | 0     | 0     | 1     | 1     |\n",
    "| 61     | 0     | 0     | 1     | 1     | 1     | 1     | 0     | 1     |"
   ]
  },
  {
   "cell_type": "markdown",
   "id": "7bb0eeb2",
   "metadata": {
    "slideshow": {
     "slide_type": "subslide"
    }
   },
   "source": [
    "----\n",
    "\n",
    "### Bitwise operators: `<<` and `>>`\n",
    "\n",
    "Bitwise operators are the most simple operators,\n",
    "since they operate on single digits.\n",
    "They are used to manipulate the binary representation of numbers.\n",
    "\n",
    "- Exercise on the `<<` (left-shift) operator: given the following number"
   ]
  },
  {
   "cell_type": "code",
   "execution_count": null,
   "id": "1210ca80",
   "metadata": {},
   "outputs": [],
   "source": [
    "a = 1"
   ]
  },
  {
   "cell_type": "markdown",
   "id": "b580f58e",
   "metadata": {},
   "source": [
    "try to guess the result of the following operations. Hint: execute the cell below multiple times."
   ]
  },
  {
   "cell_type": "code",
   "execution_count": null,
   "id": "f0528132",
   "metadata": {},
   "outputs": [],
   "source": [
    "a = a << 1\n",
    "print(f\"{a:#010b}\")"
   ]
  },
  {
   "cell_type": "markdown",
   "id": "8b366ffd",
   "metadata": {},
   "source": [
    "Is there a similar operator with numbers in base 10?\n",
    "\n",
    "- Exercise on the `>>` (right-shift) operator: given the following number"
   ]
  },
  {
   "cell_type": "code",
   "execution_count": null,
   "id": "ded93b35",
   "metadata": {},
   "outputs": [],
   "source": [
    "a = 79"
   ]
  },
  {
   "cell_type": "markdown",
   "id": "79b44e72",
   "metadata": {},
   "source": [
    "try to guess the result of the following operations. Hint: execute the cell below multiple times."
   ]
  },
  {
   "cell_type": "code",
   "execution_count": null,
   "id": "36d329e3",
   "metadata": {},
   "outputs": [],
   "source": [
    "a = a >> 1\n",
    "print(f\"{a:#010b}\")"
   ]
  },
  {
   "cell_type": "markdown",
   "id": "712880a3",
   "metadata": {},
   "source": [
    "Is there a similar operator with numbers in base 10?\n",
    "\n",
    "Discuss the results with your classmates.\n",
    "\n",
    "### Bitwise operators: AND `&`\n",
    "\n",
    "The `&` operator is the bitwise AND operator.\n",
    "It returns 1 if both bits are 1, 0 otherwise."
   ]
  },
  {
   "cell_type": "code",
   "execution_count": null,
   "id": "472ef9a9",
   "metadata": {},
   "outputs": [],
   "source": [
    "a = 19\n",
    "b = 61\n",
    "c = a & b\n",
    "print(f\"{a:#010b}\")\n",
    "print(f\"{b:#010b}\")\n",
    "print(f\"{c:#010b}\")"
   ]
  },
  {
   "cell_type": "markdown",
   "id": "4f0dbfd5",
   "metadata": {},
   "source": [
    "| number |  $2^7$ | $2^6$ | $2^5$ | $2^4$ | $2^3$ | $2^2$ | $2^1$ | $2^0$ |\n",
    "|--------|-------|-------|-------|-------|-------|-------|-------|-------|\n",
    "| 19      | 0     | 0     | 0     | 0     | 0     | 0     | 1     | 1     |\n",
    "| 61     | 0     | 0     | 1     | 1     | 1     | 1     | 0     | 1     |\n",
    "| 19 & 61 | 0     | 0     | 0     | 1     | 0     | 0     | 0     | 1     |\n",
    "\n",
    "The AND operator has a physical meaning: it is used to check if, in a circuit, two switches are both ON.\n",
    "\n",
    "- 🔋--1--1--💡ON\n",
    "- 🔋--0--1--💡OFF\n",
    "- 🔋--1--0--💡OFF\n",
    "- 🔋--0--0--💡OFF"
   ]
  },
  {
   "cell_type": "code",
   "execution_count": null,
   "id": "44ae4293",
   "metadata": {
    "attributes": {
     "classes": [
      "mermaid"
     ],
     "id": ""
    }
   },
   "outputs": [],
   "source": [
    "subgraph AND\n",
    "direction LR\n",
    "    b-1[fa:fa-battery-three-quarters]\n",
    "    led-1[far:fa-lightbulb OFF]\n",
    "    s1-1((fa:fa-toggle-off))\n",
    "    s2-1((fa:fa-toggle-on))\n",
    "    b-1 --->|e-| s1-1\n",
    "    s1-1 --- s2-1 --- led-1\n",
    "    --- b-1\n",
    "end"
   ]
  },
  {
   "cell_type": "markdown",
   "id": "a776149a",
   "metadata": {},
   "source": [
    "- Exercise: compute the bitwise AND of 192 and 71 by hand and check the result in the cell below.\n",
    "\n",
    "<!-- solution: a, b = 192, 71; c = a & b; print(f\"{a:#010b}\"); print(f\"{b:#010b}\"); print(f\"{c:#010b}\"); -->"
   ]
  },
  {
   "cell_type": "code",
   "execution_count": null,
   "id": "4a59aab4",
   "metadata": {},
   "outputs": [],
   "source": [
    "# Write your code here.\n"
   ]
  },
  {
   "cell_type": "markdown",
   "id": "4577b3aa",
   "metadata": {},
   "source": [
    "### Bitwise operators: OR `|`\n",
    "\n",
    "The `|` operator is the bitwise OR operator.\n",
    "It returns 1 if at least one bit is 1, 0 otherwise."
   ]
  },
  {
   "cell_type": "code",
   "execution_count": null,
   "id": "ca1fc219",
   "metadata": {},
   "outputs": [],
   "source": [
    "a = 6\n",
    "b = 5\n",
    "c = a | b\n",
    "print(f\"{a:#010b}\")\n",
    "print(f\"{b:#010b}\")\n",
    "print(f\"{c:#010b}\")"
   ]
  },
  {
   "cell_type": "markdown",
   "id": "ed3c56b5",
   "metadata": {},
   "source": [
    "| number |  $2^7$ | $2^6$ | $2^5$ | $2^4$ | $2^3$ | $2^2$ | $2^1$ | $2^0$ |\n",
    "|--------|-------|-------|-------|-------|-------|-------|-------|-------|\n",
    "| 6      | 0     | 0     | 0     | 0     | 0     | 1     | 1     | 0     |\n",
    "| 5      | 0     | 0     | 0     | 0     | 0     | 1     | 0     | 1     |\n",
    "| 6 \\| 5 | 0     | 0     | 0     | 0     | 0     | 1     | 1     | 1     |\n",
    "\n",
    "- Exercise: compute the bitwise OR of 192 and 71 by hand and check the result  in the cell below.\n",
    "\n",
    "<!-- solution: a, b = 192, 71; c = a | b; print(f\"{a:#010b}\"); print(f\"{b:#010b}\"); print(f\"{c:#010b}\"); -->\n",
    "\n",
    "The OR operator has a physical meaning: it is used to check if, in a circuit, at least one switch is ON."
   ]
  },
  {
   "cell_type": "code",
   "execution_count": null,
   "id": "57066d1e",
   "metadata": {
    "attributes": {
     "classes": [
      "mermaid"
     ],
     "id": ""
    }
   },
   "outputs": [],
   "source": [
    "flowchart LR\n",
    "\n",
    "subgraph OR\n",
    "direction LR\n",
    "    b[fa:fa-battery-three-quarters]\n",
    "    b --->|e-| s1 & s2 ---led -.-> b\n",
    "    led[fas:fa-lightbulb ON]\n",
    "    s1((fa:fa-toggle-on))\n",
    "    s2((fa:fa-toggle-off))\n",
    "end"
   ]
  },
  {
   "cell_type": "markdown",
   "id": "be869d05",
   "metadata": {
    "slideshow": {
     "slide_type": "slide"
    }
   },
   "source": [
    "---\n",
    "\n",
    "\n",
    "## Max and min"
   ]
  },
  {
   "cell_type": "code",
   "execution_count": null,
   "id": "abae96fc",
   "metadata": {},
   "outputs": [],
   "source": [
    "# Let's define two positive integers.\n",
    "b = 234\n",
    "c = 64\n",
    "# Reorder the numbers so that b is smaller than c.\n",
    "b, c = min(b, c), max(b, c)\n",
    "print(\"b =\", b, \"c =\", c)"
   ]
  },
  {
   "cell_type": "markdown",
   "id": "d0baa634",
   "metadata": {},
   "source": [
    "Now execute the cell below many times, and see what happens."
   ]
  },
  {
   "cell_type": "code",
   "execution_count": null,
   "id": "6d5d8afa",
   "metadata": {},
   "outputs": [],
   "source": [
    "# Iterate until b is zero.\n",
    "d = c - b\n",
    "b, c = min(d, b), max(d, b)\n",
    "print(\"b =\", b, \"c =\", c)"
   ]
  },
  {
   "cell_type": "markdown",
   "id": "3e30ade4",
   "metadata": {
    "slideshow": {
     "slide_type": "slide"
    }
   },
   "source": [
    "---\n",
    "\n",
    "\n",
    "## Importing functionalities"
   ]
  },
  {
   "cell_type": "markdown",
   "id": "a8009804",
   "metadata": {},
   "source": [
    "----"
   ]
  },
  {
   "cell_type": "code",
   "execution_count": null,
   "id": "fd4e9272",
   "metadata": {},
   "outputs": [],
   "source": [
    "# Importing new features\n",
    "# ..is easy. Features are collected\n",
    "# in packages or modules. Just\n",
    "import math  # to use the\n",
    "math.sqrt  # function\n",
    "\n",
    "math.sqrt(2)"
   ]
  },
  {
   "cell_type": "code",
   "execution_count": null,
   "id": "9ed373ff",
   "metadata": {},
   "outputs": [],
   "source": [
    "# We can even import single functions\n",
    "#  or constants from a module\n",
    "from math import pi as π\n",
    "π / 2"
   ]
  },
  {
   "cell_type": "markdown",
   "id": "99156e16",
   "metadata": {
    "slideshow": {
     "slide_type": "subslide"
    }
   },
   "source": [
    "----\n",
    "\n",
    "Modules contain documentation in the form of docstrings,\n",
    "that jupyter presents in scrollable boxes."
   ]
  },
  {
   "cell_type": "code",
   "execution_count": null,
   "id": "607b0ad8",
   "metadata": {},
   "outputs": [],
   "source": [
    "\n",
    "# Read the module documentation...\n",
    "help(math)"
   ]
  },
  {
   "cell_type": "code",
   "execution_count": null,
   "id": "f10cd9bb",
   "metadata": {},
   "outputs": [],
   "source": [
    "# ...or the function documentation\n",
    "help(math.sqrt)\n"
   ]
  }
 ],
 "metadata": {},
 "nbformat": 4,
 "nbformat_minor": 5
}
