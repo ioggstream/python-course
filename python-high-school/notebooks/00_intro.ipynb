{
 "cells": [
  {
   "cell_type": "markdown",
   "id": "9be61e7d",
   "metadata": {},
   "source": [
    "# Python for High School\n",
    "\n",
    " Author: <roberto.polli@par-tec.it>\n",
    "\n",
    "---\n",
    "\n",
    "## Introducing Python\n",
    "\n",
    "Python is an interpreted, object oriented language with\n",
    "a lot of built in features.\n",
    "It can be used as a calculator and for  mathematical operations,\n",
    "such as statistics, plotting and linear algebra.\n",
    "\n",
    "This is a fast-track course for high school students with math knowledge.\n",
    "\n",
    "Students are expected to type and execute cells, and share their results.\n",
    "\n",
    "You can open this notebook [on jupyter lite](https://jupyter.org/try-jupyter/lab/?fromURL=https://raw.githubusercontent.com/ioggstream/python-course/main/python-high-school/notebooks/00_intro.ipynb).\n",
    "\n",
    "---\n",
    "\n",
    "# Jupyter\n",
    "\n",
    "Is the course environment in your browser.\n",
    "It requires a modern browser and an internet connection supporting\n",
    "websockets. If your network setup (e.g. your proxy)\n",
    "does not support websockets, you will not be able to\n",
    "execute the code.\n",
    "\n",
    "---\n",
    "\n",
    "While you might find the exercises' solutions in the environment,\n",
    "it is important for you to spend some time trying to do your homework!\n",
    "This will help you to remember the concepts and to learn how to use the tools.\n",
    "\n",
    "---\n",
    "\n",
    "## What can I do with Jupyter?\n",
    "\n",
    "You can:\n",
    "\n",
    "- execute the next cell with `SHIFT+ENTER` (try it now!)\n",
    "\n",
    "If your environment supports it, you can use features requiring\n",
    "operating system access:\n",
    "\n",
    "- [open a (named) terminal on the local machine](/terminals/example)\n",
    "- [edit an existing file](/edit/notebooks/untitled.txt)\n",
    "\n",
    "---\n",
    "\n",
    "- add more cells with `ALT+ENTER`\n",
    "\n",
    "----\n",
    "\n",
    "Try to add a cell below this one and write some text in it."
   ]
  },
  {
   "cell_type": "code",
   "execution_count": 1,
   "id": "d5302fe8",
   "metadata": {},
   "outputs": [],
   "source": [
    "# Add a new python cell with ALT+ENTER."
   ]
  },
  {
   "cell_type": "code",
   "execution_count": null,
   "id": "40d01b61-3856-4981-9671-ac616ad95e91",
   "metadata": {},
   "outputs": [],
   "source": []
  },
  {
   "cell_type": "markdown",
   "id": "baa59643",
   "metadata": {},
   "source": [
    "---\n",
    "\n",
    "## Python terminal\n",
    "\n",
    "With Jupyter, you have a Python terminal at your disposal.\n",
    "You can run Python code:"
   ]
  },
  {
   "cell_type": "code",
   "execution_count": 2,
   "id": "1da947e7",
   "metadata": {},
   "outputs": [
    {
     "data": {
      "text/html": [
       "<pre style=\"white-space:pre;overflow-x:auto;line-height:normal;font-family:Menlo,'DejaVu Sans Mono',consolas,'Courier New',monospace\">a string and the number <span style=\"color: #008080; text-decoration-color: #008080; font-weight: bold\">1</span>\n",
       "</pre>\n"
      ],
      "text/plain": [
       "a string and the number \u001b[1;36m1\u001b[0m\n"
      ]
     },
     "metadata": {},
     "output_type": "display_data"
    }
   ],
   "source": [
    "# You can evaluate maths and strings\n",
    "s = 1\n",
    "print(\"a string and the number \" + str(s))"
   ]
  },
  {
   "cell_type": "code",
   "execution_count": null,
   "id": "b03178cc-2ee9-41c8-9157-19bb103e6562",
   "metadata": {},
   "outputs": [],
   "source": []
  },
  {
   "cell_type": "markdown",
   "id": "ec0c8485",
   "metadata": {},
   "source": [
    "Jupyter remembers the variables you define in a cell, so you can use them in the next cells."
   ]
  },
  {
   "cell_type": "code",
   "execution_count": 3,
   "id": "6e2787be",
   "metadata": {},
   "outputs": [
    {
     "data": {
      "text/html": [
       "<pre style=\"white-space:pre;overflow-x:auto;line-height:normal;font-family:Menlo,'DejaVu Sans Mono',consolas,'Courier New',monospace\">now s is increased <span style=\"color: #008080; text-decoration-color: #008080; font-weight: bold\">2</span>\n",
       "</pre>\n"
      ],
      "text/plain": [
       "now s is increased \u001b[1;36m2\u001b[0m\n"
      ]
     },
     "metadata": {},
     "output_type": "display_data"
    }
   ],
   "source": [
    "# Evaluate this cell with SHIFT+ENTER\n",
    "s = s + 1\n",
    "print(\"now s is increased \" + str(s))"
   ]
  },
  {
   "cell_type": "markdown",
   "id": "91c1e21f",
   "metadata": {},
   "source": [
    "Since Jupyter remembers the variables, you can run the cells in any order you want.\n",
    "This means that sometimes, you need to \"reset\" the environment, to start from scratch.\n",
    "\n",
    "This can be done with the \"Kernel > Restart\" or \"Kernel > Restart & Clear output\" menu.\n",
    "\n",
    "----\n",
    "\n",
    "## Agenda\n",
    "\n",
    "- Printing\n",
    "- Basic Arithmetic\n",
    "- Variable assignment\n",
    "- Formatting\n",
    "- Importing modules\n",
    "- Getting help\n",
    "\n",
    "---\n",
    "\n",
    "## Basic functions\n",
    "\n",
    "There are basic functions for printing and\n",
    "managing variables."
   ]
  },
  {
   "cell_type": "code",
   "execution_count": 4,
   "id": "5ba046a2",
   "metadata": {},
   "outputs": [
    {
     "data": {
      "text/html": [
       "<pre style=\"white-space:pre;overflow-x:auto;line-height:normal;font-family:Menlo,'DejaVu Sans Mono',consolas,'Courier New',monospace\">Hello world!\n",
       "</pre>\n"
      ],
      "text/plain": [
       "Hello world!\n"
      ]
     },
     "metadata": {},
     "output_type": "display_data"
    }
   ],
   "source": [
    "# you can print with the print() function\n",
    "print(\"Hello world!\")"
   ]
  },
  {
   "cell_type": "code",
   "execution_count": 5,
   "id": "8933c226",
   "metadata": {},
   "outputs": [
    {
     "data": {
      "text/html": [
       "<pre style=\"white-space:pre;overflow-x:auto;line-height:normal;font-family:Menlo,'DejaVu Sans Mono',consolas,'Courier New',monospace\">Hello World!\n",
       "</pre>\n"
      ],
      "text/plain": [
       "Hello World!\n"
      ]
     },
     "metadata": {},
     "output_type": "display_data"
    }
   ],
   "source": [
    "# concatenate strings with a + sign\n",
    "# and using hex notation\n",
    "print(\"Hello\" + \" \" + \"World!\")"
   ]
  },
  {
   "cell_type": "code",
   "execution_count": 6,
   "id": "82ba83fa",
   "metadata": {},
   "outputs": [
    {
     "data": {
      "text/html": [
       "<pre style=\"white-space:pre;overflow-x:auto;line-height:normal;font-family:Menlo,'DejaVu Sans Mono',consolas,'Courier New',monospace\">Ciao\n",
       "</pre>\n"
      ],
      "text/plain": [
       "Ciao\n"
      ]
     },
     "metadata": {},
     "output_type": "display_data"
    }
   ],
   "source": [
    "print(\"Ciao\")"
   ]
  },
  {
   "cell_type": "markdown",
   "id": "6e8113ff",
   "metadata": {},
   "source": [
    "---\n",
    "\n",
    "## Basic Arithmetic\n",
    "\n",
    "A python variable is a label that can be associated to a value."
   ]
  },
  {
   "cell_type": "code",
   "execution_count": 7,
   "id": "4599c3b0",
   "metadata": {},
   "outputs": [],
   "source": [
    "# This is a comment, while\n",
    "a = 1       # is an integer\n",
    "b = 16.0    # a float\n",
    "c = 1.2e2   # another float in exponential notation"
   ]
  },
  {
   "cell_type": "markdown",
   "id": "ae52e7fc",
   "metadata": {},
   "source": [
    "----"
   ]
  },
  {
   "cell_type": "code",
   "execution_count": 8,
   "id": "3f304468",
   "metadata": {},
   "outputs": [
    {
     "data": {
      "text/html": [
       "<pre style=\"white-space:pre;overflow-x:auto;line-height:normal;font-family:Menlo,'DejaVu Sans Mono',consolas,'Courier New',monospace\"><span style=\"color: #008080; text-decoration-color: #008080; font-weight: bold\">1</span> <span style=\"color: #008080; text-decoration-color: #008080; font-weight: bold\">16.0</span> <span style=\"color: #008080; text-decoration-color: #008080; font-weight: bold\">120.0</span>\n",
       "</pre>\n"
      ],
      "text/plain": [
       "\u001b[1;36m1\u001b[0m \u001b[1;36m16.0\u001b[0m \u001b[1;36m120.0\u001b[0m\n"
      ]
     },
     "metadata": {},
     "output_type": "display_data"
    }
   ],
   "source": [
    "# Exercise: use the print() function to print the value of a, b and c.\n",
    "print(a,b,c)"
   ]
  },
  {
   "cell_type": "markdown",
   "id": "dbba9e33",
   "metadata": {},
   "source": [
    "----"
   ]
  },
  {
   "cell_type": "code",
   "execution_count": null,
   "id": "6d64c603",
   "metadata": {},
   "outputs": [],
   "source": [
    "# I can sum, multiply, and modulus (aka, the remainder of the division).\n",
    "print(a + b, 5 % 2)"
   ]
  },
  {
   "cell_type": "code",
   "execution_count": null,
   "id": "a9c09c67",
   "metadata": {},
   "outputs": [],
   "source": [
    "# I can divide, and elevate to a power.\n",
    "print(b / a, 2 ** 3)"
   ]
  },
  {
   "cell_type": "code",
   "execution_count": null,
   "id": "a86f24ba",
   "metadata": {},
   "outputs": [],
   "source": [
    "# Brackets are always round.\n",
    "print(((a + b) * c)/ a + (b *c))"
   ]
  },
  {
   "cell_type": "markdown",
   "id": "a4ac5880",
   "metadata": {},
   "source": [
    "----"
   ]
  },
  {
   "cell_type": "code",
   "execution_count": null,
   "id": "3fec6b0b",
   "metadata": {},
   "outputs": [],
   "source": [
    "# Exercise: which is the expected value of 2 * c?\n",
    "print(2 * c)"
   ]
  },
  {
   "cell_type": "markdown",
   "id": "bfdcbd9d",
   "metadata": {},
   "source": [
    "Exercise: use the cell below to compute the following values:\n",
    "\n",
    "- the remainder of 12 / 5\n",
    "- $3 \\cdot 8; 2^{10}; 2^{20}; 2^{30}$\n",
    "- $ \\frac{[1 + (1/3 + 1/4)] + 1/5}{6} $"
   ]
  },
  {
   "cell_type": "code",
   "execution_count": null,
   "id": "17af3368",
   "metadata": {},
   "outputs": [],
   "source": [
    "# Use this cell for the exercise."
   ]
  },
  {
   "cell_type": "markdown",
   "id": "7662ecd8",
   "metadata": {},
   "source": [
    "---\n",
    "\n",
    "**An historical note**\n",
    "\n",
    "Computers, for performance reasons, use memory in chunks called blocks or pages:\n",
    "for example, you can't use a single *bit* of memory similarly to how you can't\n",
    "use a single line of your notebook 📓.\n",
    "\n",
    "For this reason, it is convenient to use powers of $2^{10}$ to represent the size of files and memory.\n",
    "They are called \"kibi (Ki)\", \"mebi (Mi)\", \"gibi (Gi)\", etc., to avoid confusion with the powers of $10^{3}$,\n",
    "which are called\n",
    "\"kilo (k)\", \"mega (Mi)\", \"giga (Gi)\", and so on.\n",
    "\n",
    "The unit of measure of information is the *Byte* $B$.\n",
    "Its multiples can be expressed in powers of $10^3$:\n",
    "\n",
    "$$\n",
    "1 kilobyte = 1 kB = 10^3 B = 1000 B\n",
    "$$\n",
    "\n",
    "or in powers of $2^{10}$:\n",
    "\n",
    "$$\n",
    "1 kibibyte = 1 KiB = 2^{10} B = 1024 B\n",
    "$$\n",
    "\n",
    "Exercise:\n",
    "\n",
    "- how many KiB are in 1KB?"
   ]
  },
  {
   "cell_type": "code",
   "execution_count": null,
   "id": "483b0763",
   "metadata": {},
   "outputs": [],
   "source": [
    "# Use this cell for the exercise.\n",
    "one_KB = 1e3\n",
    "one_KB_in_KiB = ... "
   ]
  },
  {
   "cell_type": "markdown",
   "id": "c3facb1a",
   "metadata": {},
   "source": [
    "Nowadays it is very important to know the difference between the two units:\n",
    "when you buy an hard disk of 500GB, you are getting only 465GiB!\n",
    "\n",
    "----\n",
    "\n",
    "Exercise:\n",
    "\n",
    "- you bought a 1TB hard disk: how many bytes can you store on it?"
   ]
  },
  {
   "cell_type": "code",
   "execution_count": null,
   "id": "dfbcc0c2",
   "metadata": {},
   "outputs": [],
   "source": [
    "# Use this cell for the exercise.\n",
    "size_B = ..."
   ]
  },
  {
   "cell_type": "markdown",
   "id": "7f01f070",
   "metadata": {},
   "source": [
    "- How many GiB can you store on it? Hint: reuse the `size_B` variable."
   ]
  },
  {
   "cell_type": "code",
   "execution_count": null,
   "id": "5115d2c9",
   "metadata": {},
   "outputs": [],
   "source": [
    "# Use this cell for the exercise.\n",
    "size_GiB = ..."
   ]
  },
  {
   "cell_type": "markdown",
   "id": "359d464e",
   "metadata": {},
   "source": [
    "- check the advertised size of your devices (phone, tablet, computer)\n",
    "  and compute the difference between the one in $GiB$."
   ]
  },
  {
   "cell_type": "code",
   "execution_count": null,
   "id": "19e62eb1",
   "metadata": {},
   "outputs": [],
   "source": [
    "# Use this cell for the exercise"
   ]
  },
  {
   "cell_type": "markdown",
   "id": "3aedd6f4",
   "metadata": {},
   "source": [
    "---\n",
    "\n",
    "### Representing numbers\n",
    "\n",
    "A number is represented using digits (in Italian, \"cifre\"):\n",
    "\n",
    "- the decimal notation uses 10 digits, from 0 to 9;\n",
    "- the binary notation uses 2 digits, 0 and 1;\n",
    "- the octal notation uses 8 digits, from 0 to 7;\n",
    "- the hexadecimal notation uses 16 digits, where `10` is represented by `A`, `11` by `B`, and so on.\n",
    "\n",
    "----\n",
    "\n",
    "A number\n",
    "represented in base $b$\n",
    "by the digits $c_0, c_1, c_2, \\dots, c_n$\n",
    "can be computed as:\n",
    "\n",
    "$\n",
    "\\sum_{i=0}^{n} c_i b^i = c_0 b^0 + c_1 b^1 + c_2 b^2 + \\dots + c_n b^n \\\\\n",
    "$\n",
    "\n",
    "Examples:\n",
    "\n",
    "$\n",
    "\\begin{align}\n",
    "& 12_{10} = 2 \\cdot 10^0 + 1 \\cdot 10^1 = 12 \\\\\n",
    "& 101_{2} = 1 \\cdot 2^0 + 0 \\cdot 2^1 + 1 \\cdot 2^2 = 5_{10} \\\\\n",
    "& 200_{3} = 0 \\cdot 3^0 + 0 \\cdot 3^1 + 2 \\cdot 3^2 = 18_{10} \\\\\n",
    "& 9_{16} = 9 \\cdot 16^0 = 9_{10} \\\\\n",
    "& A_{16} = 10 \\cdot 16^0 = 10_{10} \\\\\n",
    "& FF_{16} = 15 \\cdot 16^0 + 15 \\cdot 16^1 = 255_{10} \\\\\n",
    "\\end{align}\n",
    "$\n",
    "\n",
    "Exercise:\n",
    "\n",
    "- how can I compute the value of the fractional part? Hint: just use the same formula with negative exponents.\n",
    "\n",
    "$\n",
    "0.5_{10} = 5 \\cdot 10^{-1}\n",
    "$\n",
    "\n",
    "- can I compute the value of the following numbers?\n",
    "\n",
    "$\n",
    "0.1_{2} = \\dots \\\\\n",
    "0.5_{2} = \\dots\n",
    "$\n",
    "\n",
    "----\n",
    "\n",
    "Python supports the binary, the octal and the hexadecimal notation too!"
   ]
  },
  {
   "cell_type": "code",
   "execution_count": null,
   "id": "009e301d",
   "metadata": {},
   "outputs": [],
   "source": [
    "d = 0b11  # `0b` is the prefix for binary notation\n",
    "e = 0o11  # `0o` is the prefix for octal notation\n",
    "f = 0x10  # `0x` is the prefix for hexadecimal (hex) notation\n",
    "g = 0x1F  # `Remember: hex numbers uses 16 digits, from 0 to F"
   ]
  },
  {
   "cell_type": "markdown",
   "id": "e1658c32",
   "metadata": {},
   "source": [
    "Exercise:"
   ]
  },
  {
   "cell_type": "code",
   "execution_count": null,
   "id": "0dcef673",
   "metadata": {},
   "outputs": [],
   "source": [
    "# Use this cell to print the values of d, e, f and g."
   ]
  },
  {
   "cell_type": "markdown",
   "id": "08ec1696",
   "metadata": {},
   "source": [
    "Questions:\n",
    "\n",
    "- What is a *bit*?\n",
    "- What is a *byte*?\n",
    "- Why in the computer world the hex notation is very common?\n",
    "\n",
    "---\n",
    "\n",
    "## Variable assignment"
   ]
  },
  {
   "cell_type": "code",
   "execution_count": null,
   "id": "fde857b9",
   "metadata": {},
   "outputs": [],
   "source": [
    "# I can assign more than one variable on the same line\n",
    "a, b, c = 1, 2, 3\n",
    "d, string_a, string_b = a + b, \"foo\", \"bar\""
   ]
  },
  {
   "cell_type": "code",
   "execution_count": null,
   "id": "fc87f674",
   "metadata": {},
   "outputs": [],
   "source": [
    "\n",
    "# ...swap them...\n",
    "(a, b) = (b, a)"
   ]
  },
  {
   "cell_type": "code",
   "execution_count": null,
   "id": "b1e50073",
   "metadata": {},
   "outputs": [],
   "source": [
    "# Exercise: print the values of the above variables"
   ]
  },
  {
   "cell_type": "code",
   "execution_count": null,
   "id": "49f24eed",
   "metadata": {},
   "outputs": [],
   "source": [
    "# but if right-side values are not defined, I get an error (aka exception)\n",
    "z, f = c, z + d"
   ]
  },
  {
   "cell_type": "markdown",
   "id": "ac248172",
   "metadata": {},
   "source": [
    "---"
   ]
  }
 ],
 "metadata": {
  "kernelspec": {
   "display_name": "Python 3 (ipykernel)",
   "language": "python",
   "name": "python3"
  },
  "language_info": {
   "codemirror_mode": {
    "name": "ipython",
    "version": 3
   },
   "file_extension": ".py",
   "mimetype": "text/x-python",
   "name": "python",
   "nbconvert_exporter": "python",
   "pygments_lexer": "ipython3",
   "version": "3.10.12"
  }
 },
 "nbformat": 4,
 "nbformat_minor": 5
}
