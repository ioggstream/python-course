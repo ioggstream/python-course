{
 "cells": [
  {
   "cell_type": "markdown",
   "id": "ede34cd3",
   "metadata": {},
   "source": [
    "# Python for System Administrator\n",
    "\n",
    " Author: <roberto.polli@par-tec.it>"
   ]
  },
  {
   "cell_type": "markdown",
   "id": "b226df2b",
   "metadata": {
    "slideshow": {
     "slide_type": "slide"
    }
   },
   "source": [
    "---\n",
    "\n",
    "## Introducing Python\n",
    "\n",
    "Python is an interpreted, object oriented language with\n",
    "a lot of built in features.\n",
    "It can be used as a calculator and for  mathematical operations,\n",
    "such as statistics, plotting and linear algebra.\n",
    "\n",
    "This is a fast-track course for high school students with math knowledge.\n",
    "\n",
    "Students are expected to type and execute cells, and share their results."
   ]
  },
  {
   "cell_type": "markdown",
   "id": "b2d999b4",
   "metadata": {
    "slideshow": {
     "slide_type": "slide"
    }
   },
   "source": [
    "---\n",
    "\n",
    "# Jupyter\n",
    "\n",
    "Is the course environment in your browser.\n",
    "It requires a modern browser and an internet connection supporting\n",
    "websockets. If your network setup (e.g. your proxy)\n",
    "does not support websockets, you will not be able to\n",
    "execute the code."
   ]
  },
  {
   "cell_type": "markdown",
   "id": "6800dcfb",
   "metadata": {
    "slideshow": {
     "slide_type": "slide"
    }
   },
   "source": [
    "---\n",
    "\n",
    "While you might find the exercises' solutions in the environment,\n",
    "it is important for you to spend some time trying to do your homework!\n",
    "This will help you to remember the concepts and to learn how to use the tools."
   ]
  },
  {
   "cell_type": "markdown",
   "id": "2b3d01e2",
   "metadata": {
    "slideshow": {
     "slide_type": "slide"
    }
   },
   "source": [
    "---\n",
    "\n",
    "## What can I do with Jupyter?\n",
    "\n",
    "You can:\n",
    "\n",
    "- execute the next cell with `SHIFT+ENTER` (try it now!)\n",
    "\n",
    "If your environment supports it, you can use features requiring\n",
    "operating system access:\n",
    "\n",
    "- [open a (named) terminal on the local machine](/terminals/example)\n",
    "- [edit an existing file](/edit/notebooks/untitled.txt)"
   ]
  },
  {
   "cell_type": "markdown",
   "id": "93be6b9d",
   "metadata": {
    "slideshow": {
     "slide_type": "slide"
    }
   },
   "source": [
    "---\n",
    "\n",
    "- add more cells with `ALT+ENTER`"
   ]
  },
  {
   "cell_type": "markdown",
   "id": "592e1e93",
   "metadata": {
    "slideshow": {
     "slide_type": "subslide"
    }
   },
   "source": [
    "----\n",
    "\n",
    "Try to add a cell below this one and write some text in it."
   ]
  },
  {
   "cell_type": "code",
   "execution_count": null,
   "id": "c59db028",
   "metadata": {},
   "outputs": [],
   "source": [
    "# Add a new python cell with ALT+ENTER."
   ]
  },
  {
   "cell_type": "markdown",
   "id": "a7fd29e7",
   "metadata": {
    "slideshow": {
     "slide_type": "slide"
    }
   },
   "source": [
    "---\n",
    "\n",
    "## Python terminal\n",
    "\n",
    "With Jupyter, you have a Python terminal at your disposal.\n",
    "You can run Python code:"
   ]
  },
  {
   "cell_type": "code",
   "execution_count": null,
   "id": "7ff26428",
   "metadata": {},
   "outputs": [],
   "source": [
    "# You can evaluate maths and strings\n",
    "s = 1\n",
    "print(\"a string and the number \" + str(s))"
   ]
  },
  {
   "cell_type": "markdown",
   "id": "2a9ce47b",
   "metadata": {},
   "source": [
    "Jupyter remembers the variables you define in a cell, so you can use them in the next cells."
   ]
  },
  {
   "cell_type": "code",
   "execution_count": null,
   "id": "ef7a2a20",
   "metadata": {},
   "outputs": [],
   "source": [
    "# Evaluate this cell with SHIFT+ENTER\n",
    "s = s + 1\n",
    "print(\"now s is increased \" + str(s))"
   ]
  },
  {
   "cell_type": "markdown",
   "id": "704874a5",
   "metadata": {},
   "source": [
    "Since Jupyter remembers the variables, you can run the cells in any order you want.\n",
    "This means that sometimes, you need to \"reset\" the environment, to start from scratch.\n",
    "\n",
    "This can be done with the \"Kernel > Restart\" or \"Kernel > Restart & Clear output\" menu."
   ]
  },
  {
   "cell_type": "markdown",
   "id": "e2cdadee",
   "metadata": {
    "slideshow": {
     "slide_type": "subslide"
    }
   },
   "source": [
    "----\n",
    "\n",
    "## Agenda\n",
    "\n",
    "- Printing\n",
    "- Basic Arithmetic\n",
    "- Variable assignment\n",
    "- Formatting\n",
    "- Importing modules\n",
    "- Getting help"
   ]
  },
  {
   "cell_type": "markdown",
   "id": "67bd49be",
   "metadata": {
    "slideshow": {
     "slide_type": "slide"
    }
   },
   "source": [
    "---\n",
    "\n",
    "## Basic functions\n",
    "\n",
    "There are basic functions for printing and\n",
    "managing variables."
   ]
  },
  {
   "cell_type": "code",
   "execution_count": null,
   "id": "61f08ec3",
   "metadata": {},
   "outputs": [],
   "source": [
    "# you can print with the print() function\n",
    "print(\"Hello world!\")"
   ]
  },
  {
   "cell_type": "code",
   "execution_count": null,
   "id": "b79da782",
   "metadata": {},
   "outputs": [],
   "source": [
    "# concatenate strings with a + sign\n",
    "# and using hex notation\n",
    "print(\"Hello\" + \" \" + \"World!\")"
   ]
  },
  {
   "cell_type": "code",
   "execution_count": null,
   "id": "2ef57c4b",
   "metadata": {},
   "outputs": [],
   "source": [
    "print(\"Ciao\")"
   ]
  },
  {
   "cell_type": "markdown",
   "id": "a5ab4975",
   "metadata": {
    "slideshow": {
     "slide_type": "slide"
    }
   },
   "source": [
    "---\n",
    "\n",
    "## Basic Arithmetic\n",
    "\n",
    "A python variable is a label that can be associated to a value."
   ]
  },
  {
   "cell_type": "code",
   "execution_count": null,
   "id": "9dc8149b",
   "metadata": {},
   "outputs": [],
   "source": [
    "# This is a comment, while\n",
    "a = 1       # is an integer\n",
    "b = 16.0    # a float\n",
    "c = 1.2e2   # another float in exponential notation"
   ]
  },
  {
   "cell_type": "markdown",
   "id": "373e26f4",
   "metadata": {},
   "source": [
    "----"
   ]
  },
  {
   "cell_type": "code",
   "execution_count": null,
   "id": "c498aeb6",
   "metadata": {},
   "outputs": [],
   "source": [
    "# Exercise: use the print() function to print the value of a, b and c.\n"
   ]
  },
  {
   "cell_type": "markdown",
   "id": "721e1430",
   "metadata": {},
   "source": [
    "----"
   ]
  },
  {
   "cell_type": "code",
   "execution_count": null,
   "id": "0a2ce314",
   "metadata": {},
   "outputs": [],
   "source": [
    "# I can sum, multiply, and modulus\n",
    "print(a + b, 5 % 2)"
   ]
  },
  {
   "cell_type": "markdown",
   "id": "602eb61e",
   "metadata": {},
   "source": [
    "----"
   ]
  },
  {
   "cell_type": "code",
   "execution_count": null,
   "id": "6e69a5b8",
   "metadata": {},
   "outputs": [],
   "source": [
    "# Exercise: which is the expected value of 2 * c?\n",
    "print(2 * c)"
   ]
  },
  {
   "cell_type": "markdown",
   "id": "bdac269b",
   "metadata": {
    "slideshow": {
     "slide_type": "subslide"
    }
   },
   "source": [
    "----\n",
    "\n",
    "### Representing numbers\n",
    "\n",
    "A number is represented using digits (in Italian, \"cifre\"):\n",
    "\n",
    "- the decimal notation uses 10 digits, from 0 to 9;\n",
    "- the binary notation uses 2 digits, 0 and 1;\n",
    "- the octal notation uses 8 digits, from 0 to 7;\n",
    "- the hexadecimal notation uses 16 digits, where 10 is represented by A, 11 by B, and so on.\n",
    "\n",
    "A number in base $b$ is represented as:\n",
    "\n",
    "$$\n",
    "\\sum_{i=0}^{n} c_i b^i = c_0 b^0 + c_1 b^1 + c_2 b^2 + \\dots + c_n b^n\n",
    "$$\n",
    "\n",
    "where $c_i$ is the $i$-th digit of the number.\n",
    "\n",
    "Python supports the binary, the octal and the hexadecimal notation too!"
   ]
  },
  {
   "cell_type": "code",
   "execution_count": null,
   "id": "4815a0f7",
   "metadata": {},
   "outputs": [],
   "source": [
    "d = 0b11  # integer in binary notation\n",
    "e = 0o11  # integer in octal notation\n",
    "f = 0x10  # integer in hexadecimal (hex) notation\n",
    "g = 0x1F  # integer in hex notation"
   ]
  },
  {
   "cell_type": "markdown",
   "id": "7858be6c",
   "metadata": {},
   "source": [
    "Exercise:"
   ]
  },
  {
   "cell_type": "code",
   "execution_count": null,
   "id": "baa4ed17",
   "metadata": {},
   "outputs": [],
   "source": [
    "# Use this cell to print the values of d, e, f and g."
   ]
  },
  {
   "cell_type": "markdown",
   "id": "3c003d1e",
   "metadata": {},
   "source": [
    "Questions:\n",
    "\n",
    "- What is a bit?\n",
    "- What is a byte?\n",
    "- Why in the computer world the hex notation is very common?"
   ]
  },
  {
   "cell_type": "markdown",
   "id": "e4174f61",
   "metadata": {
    "slideshow": {
     "slide_type": "slide"
    }
   },
   "source": [
    "---\n",
    "\n",
    "## Variable assignment"
   ]
  },
  {
   "cell_type": "code",
   "execution_count": null,
   "id": "89dad333",
   "metadata": {},
   "outputs": [],
   "source": [
    "# I can assign more than one variable on the same line\n",
    "a, b, c = 1, 2, 3\n",
    "d, string_a, string_b = a + b, \"foo\", \"bar\""
   ]
  },
  {
   "cell_type": "code",
   "execution_count": null,
   "id": "55bc5363",
   "metadata": {},
   "outputs": [],
   "source": [
    "\n",
    "# ...swap them...\n",
    "(a, b) = (b, a)"
   ]
  },
  {
   "cell_type": "code",
   "execution_count": null,
   "id": "0abfd016",
   "metadata": {},
   "outputs": [],
   "source": [
    "# Exercise: print the values of the above variables"
   ]
  },
  {
   "cell_type": "code",
   "execution_count": null,
   "id": "4357d645",
   "metadata": {},
   "outputs": [],
   "source": [
    "# but if right-side values are not defined, I get an error (aka exception)\n",
    "e, f = c, e + d"
   ]
  },
  {
   "cell_type": "markdown",
   "id": "334c18a0",
   "metadata": {
    "slideshow": {
     "slide_type": "slide"
    }
   },
   "source": [
    "---\n",
    "\n",
    "## Strings\n",
    "\n",
    "A string is a finite, ordered sequence of typographic characters (e.g., from an alphabet).\n",
    "\n",
    "Exercise: finite strings using an alphabet $\\mathcal{A}$ where $|\\mathcal{A}| = k$.\n",
    "\n",
    "- How many strings of length $n=8$ can you build?\n",
    "- How many strings of length $m \\le n, n=8$, included the empty string, can you build?\n",
    "- 🦾 Can you generalize the solution for any $n$ and $k$?\n",
    "\n",
    "Hint: use the following cell to compute the answer."
   ]
  },
  {
   "cell_type": "code",
   "execution_count": null,
   "id": "d97dfb3b",
   "metadata": {},
   "outputs": [],
   "source": [
    "k = 2\n",
    "n = 8\n",
    "solution = 1 + ...  # compute the solution here\n",
    "print(solution)"
   ]
  },
  {
   "cell_type": "markdown",
   "id": "9b4d33fb",
   "metadata": {},
   "source": [
    "We can represent the set of all finite strings with $\\mathcal{S}$.\n",
    "\n",
    "In python you can define a string using single or double quotes:"
   ]
  },
  {
   "cell_type": "code",
   "execution_count": null,
   "id": "6bd86977",
   "metadata": {},
   "outputs": [],
   "source": [
    "a_string = \"Ciao\"\n",
    "another_string = \"2πr\""
   ]
  },
  {
   "cell_type": "markdown",
   "id": "e2bcc281",
   "metadata": {},
   "source": [
    "Python defines some operations on strings:"
   ]
  },
  {
   "cell_type": "code",
   "execution_count": null,
   "id": "1591b10d",
   "metadata": {},
   "outputs": [],
   "source": [
    "print(\"a\" + \"b\")  # concatenation\n",
    "print(\"a\" * 3)    # repetition"
   ]
  },
  {
   "cell_type": "markdown",
   "id": "89382353",
   "metadata": {},
   "source": [
    "You can template strings using the f-string notation:"
   ]
  },
  {
   "cell_type": "code",
   "execution_count": null,
   "id": "f9b67f32",
   "metadata": {},
   "outputs": [],
   "source": [
    "a = 1\n",
    "print(f\"the value of a is {a}\")"
   ]
  },
  {
   "cell_type": "markdown",
   "id": "5916c07e",
   "metadata": {},
   "source": [
    "Exercise:"
   ]
  },
  {
   "cell_type": "code",
   "execution_count": null,
   "id": "0cf1a0ac",
   "metadata": {},
   "outputs": [],
   "source": [
    "# Use this cell to print the value of a_string and another_string"
   ]
  },
  {
   "cell_type": "markdown",
   "id": "4d3989e5",
   "metadata": {
    "slideshow": {
     "slide_type": "slide"
    }
   },
   "source": [
    "---\n",
    "\n",
    "### Character encoding\n",
    "\n",
    "Computers represents typographic characters with numbers.\n",
    "The most common is the Extended ASCII table, that maps numbers to characters.\n",
    "\n",
    "Since the basic computer unit is the byte, the Extended ASCII table is limited to 256 characters.\n",
    "\n",
    "$\n",
    "byte \\in \\mathbb{Z}_{255} := \\mathbb{Z} \\cap [0, 255] \\\\\n",
    "\\mathcal{A} = \\{ a, b, c, \\dots, A, B, C, \\dots, \", !, ?, \\dots  \\}\n",
    "$\n",
    "\n",
    "$\n",
    "chr : \\mathbb{Z}_{255} \\rightarrow \\mathcal{A} \\\\\n",
    "ord : \\mathcal{A} \\rightarrow \\mathbb{Z}_{255}\n",
    "$"
   ]
  },
  {
   "cell_type": "code",
   "execution_count": null,
   "id": "a417862f",
   "metadata": {},
   "outputs": [],
   "source": [
    "# The function chr() returns the character corresponding to an integer.\n",
    "chr(42)"
   ]
  },
  {
   "cell_type": "code",
   "execution_count": null,
   "id": "c4c66ddb",
   "metadata": {},
   "outputs": [],
   "source": [
    "# The function ord() returns the integer value of a character.\n",
    "ord('*')"
   ]
  },
  {
   "cell_type": "markdown",
   "id": "d9dc4828",
   "metadata": {},
   "source": [
    "Nowadays, the most common character encoding is UTF, that is a superset of ASCII.\n",
    "It uses more than one byte to represent a character,\n",
    "so it can represent up to $17 * 2^{16}$ characters\n",
    "from different languages and symbols like emojis."
   ]
  },
  {
   "cell_type": "code",
   "execution_count": null,
   "id": "a0731ce7",
   "metadata": {},
   "outputs": [],
   "source": [
    "smile = '😀'\n",
    "print(smile, \"->\", ord(smile))"
   ]
  },
  {
   "cell_type": "code",
   "execution_count": null,
   "id": "35211a41",
   "metadata": {},
   "outputs": [],
   "source": [
    "# prefixing a string with 'r' disables the\n",
    "# interpretation of the string content\n",
    "print('Hello' * 2 + r'World\\x21')"
   ]
  },
  {
   "cell_type": "markdown",
   "id": "7bda0404",
   "metadata": {
    "slideshow": {
     "slide_type": "subslide"
    }
   },
   "source": [
    "----\n",
    "\n",
    "### Notable escape sequences\n",
    "\n",
    "You can print special characters such as\n",
    "`new line` or `tabular spaces` using the escape sequence notation."
   ]
  },
  {
   "cell_type": "code",
   "execution_count": null,
   "id": "af99c49e",
   "metadata": {},
   "outputs": [],
   "source": [
    "# The \\n and \\t are\n",
    "# just the usual notation for newline and tab\n",
    "print(\"Hello\\n\\tWorld!\")"
   ]
  },
  {
   "cell_type": "code",
   "execution_count": null,
   "id": "3c518e83",
   "metadata": {},
   "outputs": [],
   "source": [
    "# triple-quoting allows multi-line strings\n",
    "answer = ord('*')\n",
    "print(f\"\"\"The answer is\n",
    "\n",
    "{answer}\n",
    "\"\"\")\n"
   ]
  },
  {
   "cell_type": "markdown",
   "id": "70b40a58",
   "metadata": {
    "slideshow": {
     "slide_type": "slide"
    }
   },
   "source": [
    "---\n",
    "\n",
    "## Formatting numbers\n",
    "\n",
    "Formatting means representing a number with a string.\n",
    "Note: it is impossible to represent all the real numbers with finite strings ;)\n",
    "\n",
    "$\n",
    "formatting: \\mathbb{Z} \\rightarrow \\mathcal{S}\n",
    "$"
   ]
  },
  {
   "cell_type": "code",
   "execution_count": null,
   "id": "ad091bda",
   "metadata": {},
   "outputs": [],
   "source": [
    "# bin() and hex() returns a string representation\n",
    "# of a number. These are *different* formatting functions.\n",
    "a, b1 = hex(10), bin(1)"
   ]
  },
  {
   "cell_type": "code",
   "execution_count": null,
   "id": "34311050",
   "metadata": {},
   "outputs": [],
   "source": [
    "# Exercise: which is the type of a? And the type of b1?\n",
    "type(a)"
   ]
  },
  {
   "cell_type": "markdown",
   "id": "645f91d3",
   "metadata": {},
   "source": [
    "----"
   ]
  },
  {
   "cell_type": "code",
   "execution_count": null,
   "id": "7a54e61f",
   "metadata": {},
   "outputs": [],
   "source": [
    "# The format() function is very flexible\n",
    "#  10 = 8digits + 2chars for the '0b' header\n",
    "binary_with_leading_zeroes = format(1, '#010b')"
   ]
  },
  {
   "cell_type": "markdown",
   "id": "50bd6db6",
   "metadata": {},
   "source": [
    "----"
   ]
  },
  {
   "cell_type": "code",
   "execution_count": null,
   "id": "9f1d1498",
   "metadata": {},
   "outputs": [],
   "source": [
    "# and reversible with\n",
    "b1 == int(binary_with_leading_zeroes, base=2)"
   ]
  },
  {
   "cell_type": "markdown",
   "id": "73878da3",
   "metadata": {},
   "source": [
    "----"
   ]
  },
  {
   "cell_type": "code",
   "execution_count": null,
   "id": "8c0f92ad",
   "metadata": {},
   "outputs": [],
   "source": [
    "# Exercise: use this cell to inspect the values of the above variables."
   ]
  },
  {
   "cell_type": "code",
   "execution_count": null,
   "id": "b259b0d9",
   "metadata": {},
   "outputs": [],
   "source": [
    "# Exercise: use this cell to compute the value of the hexadecimal number `abc`.\n",
    "# Hint: read the int function manual.\n",
    "help(int)"
   ]
  },
  {
   "cell_type": "markdown",
   "id": "1fa19595",
   "metadata": {
    "slideshow": {
     "slide_type": "slide"
    }
   },
   "source": [
    "---\n",
    "\n",
    "## Bonus track: Formatting"
   ]
  },
  {
   "cell_type": "markdown",
   "id": "cc409440",
   "metadata": {},
   "source": [
    "----"
   ]
  },
  {
   "cell_type": "code",
   "execution_count": null,
   "id": "4865e2d4",
   "metadata": {},
   "outputs": [],
   "source": [
    "# The new str.format function just replaces\n",
    "#  %s and %d with {}.\n",
    "s_a = \"is a string \"\n",
    "\n",
    "print(s_a)"
   ]
  },
  {
   "cell_type": "markdown",
   "id": "27b51189",
   "metadata": {},
   "source": [
    "----"
   ]
  },
  {
   "cell_type": "code",
   "execution_count": null,
   "id": "c5ab4b41",
   "metadata": {},
   "outputs": [],
   "source": [
    "# A string\n",
    "s_a += \"that can {} extended\".format(\"be\")"
   ]
  },
  {
   "cell_type": "markdown",
   "id": "35165338",
   "metadata": {},
   "source": [
    "----"
   ]
  },
  {
   "cell_type": "code",
   "execution_count": null,
   "id": "c637d26c",
   "metadata": {},
   "outputs": [],
   "source": [
    "# Exercise: print the value of s_a"
   ]
  },
  {
   "cell_type": "markdown",
   "id": "2918705a",
   "metadata": {},
   "source": [
    "----"
   ]
  },
  {
   "cell_type": "code",
   "execution_count": null,
   "id": "16506b31",
   "metadata": {},
   "outputs": [],
   "source": [
    "# Further formatting is done using \":\", eg.\n",
    "#  %.6s -> {:.6}\n",
    "#  %3.2d -> {:3.2}\n",
    "s_a = \"{} even with {:.6} formatting.\\n\".format(s_a, \"positional\")"
   ]
  },
  {
   "cell_type": "markdown",
   "id": "e43c847f",
   "metadata": {},
   "source": [
    "----"
   ]
  },
  {
   "cell_type": "code",
   "execution_count": null,
   "id": "289a77b5",
   "metadata": {},
   "outputs": [],
   "source": [
    "# Alignment identifiers are simpler: < left , ^ center,  > right\n",
    "s_a = \"Align {:>10}% python!\".format(100)\n",
    "print(s_a)\n",
    "print(\"just prints a string\")"
   ]
  },
  {
   "cell_type": "markdown",
   "id": "81817cef",
   "metadata": {},
   "source": [
    "----"
   ]
  },
  {
   "cell_type": "code",
   "execution_count": null,
   "id": "b78d9482",
   "metadata": {},
   "outputs": [],
   "source": [
    "# Exercise: modify s_a to align the string to the left and to the center."
   ]
  },
  {
   "cell_type": "markdown",
   "id": "d508e33f",
   "metadata": {
    "slideshow": {
     "slide_type": "slide"
    }
   },
   "source": [
    "---\n",
    "\n",
    "### Formatting with names"
   ]
  },
  {
   "cell_type": "markdown",
   "id": "34b9444b",
   "metadata": {},
   "source": [
    "----"
   ]
  },
  {
   "cell_type": "code",
   "execution_count": null,
   "id": "cc8bb0fd",
   "metadata": {},
   "outputs": [],
   "source": [
    "# You can name variables to get\n",
    "# a better formatting experience ;)\n",
    "fmt_a = \"{name:<.3} {nick:^.8} {sn:>30}\"\n",
    "print(fmt_a.format(name=\"-\"*10, nick=\"*\"*15, sn=\"-\"*40))\n",
    "print(fmt_a.format(name=\"Roberto\", nick=\"ioggstream\", sn=\"Polli\"))"
   ]
  },
  {
   "cell_type": "markdown",
   "id": "62ef4ab5",
   "metadata": {
    "slideshow": {
     "slide_type": "subslide"
    }
   },
   "source": [
    "----\n",
    "\n",
    "## Importing functionalities"
   ]
  },
  {
   "cell_type": "markdown",
   "id": "9e2d73e9",
   "metadata": {},
   "source": [
    "----"
   ]
  },
  {
   "cell_type": "code",
   "execution_count": null,
   "id": "06f8ece4",
   "metadata": {},
   "outputs": [],
   "source": [
    "# Importing new features\n",
    "# ..is easy. Features are collected\n",
    "# in packages or modules. Just\n",
    "import math  # to use the\n",
    "math.sqrt  # function\n",
    "\n",
    "math.sqrt(2)"
   ]
  },
  {
   "cell_type": "code",
   "execution_count": null,
   "id": "856e1315",
   "metadata": {},
   "outputs": [],
   "source": [
    "# We can even import single functions\n",
    "#  or constants from a module\n",
    "from math import pi as π\n",
    "π / 2"
   ]
  },
  {
   "cell_type": "markdown",
   "id": "e8cce449",
   "metadata": {
    "slideshow": {
     "slide_type": "subslide"
    }
   },
   "source": [
    "----\n",
    "\n",
    "Modules contain documentation in the form of docstrings,\n",
    "that jupyter presents in scrollable boxes."
   ]
  },
  {
   "cell_type": "code",
   "execution_count": null,
   "id": "b1bafab7",
   "metadata": {},
   "outputs": [],
   "source": [
    "\n",
    "# Read the module documentation...\n",
    "help(math)"
   ]
  },
  {
   "cell_type": "code",
   "execution_count": null,
   "id": "2c0738a5",
   "metadata": {},
   "outputs": [],
   "source": [
    "# ...or the function documentation\n",
    "help(math.sqrt)\n"
   ]
  },
  {
   "cell_type": "markdown",
   "id": "905e1401",
   "metadata": {
    "slideshow": {
     "slide_type": "slide"
    }
   },
   "source": [
    "---\n",
    "\n",
    "#### Bonus track: reserved words\n",
    "\n",
    "Python has a set of reserved words that cannot be used as variable names, including:\n",
    "\n",
    "- `if, else, for, while, and, or, not, in, is, break, continue, pass, def, class, return, try, except, finally, lambda`.\n",
    "\n",
    "Sadly, some core, built-in function names in python 2 can be used as variable names, including:\n",
    "\n",
    "- `file, print, len, type, list, exit`.\n",
    "\n",
    "This means that a programmer can accidentally overwrite the built-in function with a variable of the same name, causing unexpected results.\n",
    "\n",
    "Now we will see an example of this, and how to fix it using the built-in module."
   ]
  },
  {
   "cell_type": "code",
   "execution_count": null,
   "id": "15528c5b",
   "metadata": {},
   "outputs": [],
   "source": [
    "# We should respect reserved words and built-in functions, like print, ord...\n",
    "print((\"ord:\\x20\", ord))\n"
   ]
  },
  {
   "cell_type": "markdown",
   "id": "cab1cce5",
   "metadata": {},
   "source": [
    "----"
   ]
  },
  {
   "cell_type": "code",
   "execution_count": null,
   "id": "c1b7ed3d",
   "metadata": {},
   "outputs": [],
   "source": [
    "# We can discover the original module of an object with\n",
    "print(ord.__module__)"
   ]
  },
  {
   "cell_type": "markdown",
   "id": "694e017f",
   "metadata": {
    "slideshow": {
     "slide_type": "subslide"
    }
   },
   "source": [
    "----\n",
    "\n",
    "Note:\n",
    "\n",
    "- python 2 uses the `__builtin__` module, while\n",
    "- python 3 uses the `builtins` module.\n",
    "\n",
    "In both cases, you should never use the `__builtins__` module (note the final **s**), because it's implementation dependent.\n",
    "For further information on this topic, see [the python execution model documentation](https://docs.python.org/3/reference/executionmodel.html#builtins-and-restricted-execution)"
   ]
  },
  {
   "cell_type": "markdown",
   "id": "20c7619d",
   "metadata": {},
   "source": [
    "----"
   ]
  },
  {
   "cell_type": "code",
   "execution_count": null,
   "id": "c7d43232",
   "metadata": {},
   "outputs": [],
   "source": [
    "# If we override a function and call it...\n",
    "ord = 4\n",
    "ord('*')  # ...ooops!"
   ]
  },
  {
   "cell_type": "code",
   "execution_count": null,
   "id": "645ef3b9",
   "metadata": {},
   "outputs": [],
   "source": [
    "# We can fix it up importing the version specific built-in module\n",
    "#   and reassigning the variable to the original function\n",
    "\n",
    "try:  # Try the python 2 syntax...\n",
    "    import __builtin__ as builtins\n",
    "except ImportError:  # And if it fails, use the python 3 syntax.\n",
    "    import builtins\n",
    "\n",
    "ord = builtins.ord\n",
    "ord('*')  # ...ooops!"
   ]
  }
 ],
 "metadata": {},
 "nbformat": 4,
 "nbformat_minor": 5
}
